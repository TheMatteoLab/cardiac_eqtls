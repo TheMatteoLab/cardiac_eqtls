{
 "cells": [
  {
   "cell_type": "markdown",
   "metadata": {},
   "source": [
    "# Process summary statistics\n",
    "- decompress and compress again (bgz) the summary statistics files\n",
    "- tabix the files\n"
   ]
  },
  {
   "cell_type": "code",
   "execution_count": 10,
   "metadata": {},
   "outputs": [],
   "source": [
    "setwd(\"/frazer01/projects/CARDIPS/analysis/cardiac_gwas_coloc\")\n",
    "\n",
    "source(\"script/functions.R\"  )\n"
   ]
  },
  {
   "cell_type": "code",
   "execution_count": 11,
   "metadata": {},
   "outputs": [],
   "source": [
    "dir.create(\"pipeline/1.1.sumstats\"         , showWarnings = FALSE)\n",
    "dir.create(\"pipeline/1.1.sumstats/sumstats\", showWarnings = FALSE)\n"
   ]
  },
  {
   "cell_type": "code",
   "execution_count": 16,
   "metadata": {},
   "outputs": [],
   "source": [
    "infiles = list.files(\"input/sumstats\")\n",
    "infiles = data.frame(gz  = paste(getwd(), \"input\"   ,                 \"sumstats\", infiles                       , sep = \"/\"), \n",
    "                     bgz = paste(getwd(), \"pipeline\", \"1.1.sumstats\", \"sumstats\", sub(\"gz$\", \"bgz\"    , infiles), sep = \"/\"), \n",
    "                     tbi = paste(getwd(), \"pipeline\", \"1.1.sumstats\", \"sumstats\", sub(\"gz$\", \"bgz.tbi\", infiles), sep = \"/\"))\n",
    "\n"
   ]
  },
  {
   "cell_type": "code",
   "execution_count": 24,
   "metadata": {},
   "outputs": [
    {
     "name": "stderr",
     "output_type": "stream",
     "text": [
      "/frazer01/projects/CARDIPS/analysis/cardiac_gwas_coloc/input/sumstats/biomarkers-30600-both_sexes-irnt.tsv.gz\n",
      "\n",
      "/frazer01/projects/CARDIPS/analysis/cardiac_gwas_coloc/input/sumstats/biomarkers-30680-both_sexes-irnt.tsv.gz\n",
      "\n",
      "/frazer01/projects/CARDIPS/analysis/cardiac_gwas_coloc/input/sumstats/biomarkers-30690-both_sexes-irnt.tsv.gz\n",
      "\n",
      "/frazer01/projects/CARDIPS/analysis/cardiac_gwas_coloc/input/sumstats/biomarkers-30760-both_sexes-irnt.tsv.gz\n",
      "\n",
      "/frazer01/projects/CARDIPS/analysis/cardiac_gwas_coloc/input/sumstats/biomarkers-30780-both_sexes-irnt.tsv.gz\n",
      "\n",
      "/frazer01/projects/CARDIPS/analysis/cardiac_gwas_coloc/input/sumstats/biomarkers-30870-both_sexes-irnt.tsv.gz\n",
      "\n",
      "/frazer01/projects/CARDIPS/analysis/cardiac_gwas_coloc/input/sumstats/categorical-20003-both_sexes-1140861958.tsv.gz\n",
      "\n",
      "/frazer01/projects/CARDIPS/analysis/cardiac_gwas_coloc/input/sumstats/categorical-20003-both_sexes-1140866738.tsv.gz\n",
      "\n",
      "/frazer01/projects/CARDIPS/analysis/cardiac_gwas_coloc/input/sumstats/categorical-20003-both_sexes-1140879802.tsv.gz\n",
      "\n",
      "/frazer01/projects/CARDIPS/analysis/cardiac_gwas_coloc/input/sumstats/categorical-20003-both_sexes-1141146234.tsv.gz\n",
      "\n",
      "/frazer01/projects/CARDIPS/analysis/cardiac_gwas_coloc/input/sumstats/continuous-102-both_sexes-irnt.tsv.gz\n",
      "\n",
      "/frazer01/projects/CARDIPS/analysis/cardiac_gwas_coloc/input/sumstats/continuous-12336-both_sexes-irnt.tsv.gz\n",
      "\n",
      "/frazer01/projects/CARDIPS/analysis/cardiac_gwas_coloc/input/sumstats/continuous-12340-both_sexes-irnt.tsv.gz\n",
      "\n",
      "/frazer01/projects/CARDIPS/analysis/cardiac_gwas_coloc/input/sumstats/continuous-20022-both_sexes-irnt.tsv.gz\n",
      "\n",
      "/frazer01/projects/CARDIPS/analysis/cardiac_gwas_coloc/input/sumstats/continuous-21001-both_sexes-irnt.tsv.gz\n",
      "\n",
      "/frazer01/projects/CARDIPS/analysis/cardiac_gwas_coloc/input/sumstats/continuous-DBP-both_sexes-combined_medadj_irnt.tsv.gz\n",
      "\n",
      "/frazer01/projects/CARDIPS/analysis/cardiac_gwas_coloc/input/sumstats/continuous-LDLC-both_sexes-medadj_irnt.tsv.gz\n",
      "\n",
      "/frazer01/projects/CARDIPS/analysis/cardiac_gwas_coloc/input/sumstats/continuous-MAP-both_sexes-combined_medadj_irnt.tsv.gz\n",
      "\n",
      "/frazer01/projects/CARDIPS/analysis/cardiac_gwas_coloc/input/sumstats/continuous-PP-both_sexes-combined_medadj_irnt.tsv.gz\n",
      "\n",
      "/frazer01/projects/CARDIPS/analysis/cardiac_gwas_coloc/input/sumstats/continuous-SBP-both_sexes-combined_medadj_irnt.tsv.gz\n",
      "\n",
      "/frazer01/projects/CARDIPS/analysis/cardiac_gwas_coloc/input/sumstats/icd10-I20-both_sexes.tsv.gz\n",
      "\n",
      "/frazer01/projects/CARDIPS/analysis/cardiac_gwas_coloc/input/sumstats/icd10-I25-both_sexes.tsv.gz\n",
      "\n",
      "/frazer01/projects/CARDIPS/analysis/cardiac_gwas_coloc/input/sumstats/icd10-I26-both_sexes.tsv.gz\n",
      "\n",
      "/frazer01/projects/CARDIPS/analysis/cardiac_gwas_coloc/input/sumstats/icd10-I48-both_sexes.tsv.gz\n",
      "\n",
      "/frazer01/projects/CARDIPS/analysis/cardiac_gwas_coloc/input/sumstats/icd10-K57-both_sexes.tsv.gz\n",
      "\n",
      "/frazer01/projects/CARDIPS/analysis/cardiac_gwas_coloc/input/sumstats/icd10-M16-both_sexes.tsv.gz\n",
      "\n",
      "/frazer01/projects/CARDIPS/analysis/cardiac_gwas_coloc/input/sumstats/phecode-366-both_sexes.tsv.gz\n",
      "\n",
      "/frazer01/projects/CARDIPS/analysis/cardiac_gwas_coloc/input/sumstats/phecode-401-both_sexes.tsv.gz\n",
      "\n",
      "/frazer01/projects/CARDIPS/analysis/cardiac_gwas_coloc/input/sumstats/phecode-411.2-both_sexes.tsv.gz\n",
      "\n",
      "/frazer01/projects/CARDIPS/analysis/cardiac_gwas_coloc/input/sumstats/phecode-411.4-both_sexes.tsv.gz\n",
      "\n"
     ]
    }
   ],
   "source": [
    "tabix_sumstats = function(ii, infiles)\n",
    "{\n",
    "    gz  = infiles[ii, \"gz\" ]\n",
    "    bgz = infiles[ii, \"bgz\"]\n",
    "    tbi = infiles[ii, \"tbi\"]\n",
    "    \n",
    "    message(gz)\n",
    "    \n",
    "    command_bgz = paste(\"gzip\" , \"-d\", \"--to-stdout\", gz, \"|\", \"bgzip\", \"-@12\", \">\", bgz)\n",
    "    command_tbi = paste(\"tabix\", \"-b\", 2, \"-e\", 2, \"-s\", 1, \"-S\", 1, bgz)\n",
    "    \n",
    "    system(command_bgz)\n",
    "    system(command_tbi)\n",
    "}\n",
    "\n",
    "ii = 1\n",
    "invisible(lapply(1:nrow(infiles), function(ii){tabix_sumstats(ii, infiles)}))\n"
   ]
  },
  {
   "cell_type": "code",
   "execution_count": null,
   "metadata": {},
   "outputs": [],
   "source": []
  }
 ],
 "metadata": {
  "kernelspec": {
   "display_name": "R 4.0.1",
   "language": "R",
   "name": "ir401"
  },
  "language_info": {
   "codemirror_mode": "r",
   "file_extension": ".r",
   "mimetype": "text/x-r-source",
   "name": "R",
   "pygments_lexer": "r",
   "version": "4.0.1"
  }
 },
 "nbformat": 4,
 "nbformat_minor": 2
}
