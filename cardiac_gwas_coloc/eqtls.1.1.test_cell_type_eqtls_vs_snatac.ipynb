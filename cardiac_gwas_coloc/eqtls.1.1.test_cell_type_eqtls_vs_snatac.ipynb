{
 "cells": [
  {
   "cell_type": "markdown",
   "metadata": {},
   "source": [
    "# use snATAC data to validate cell type associations\n",
    "- similar to Figure 3E in Sheng et al., bioRxiv 2020 (https://doi.org/10.1101/2020.11.09.375592)\n",
    "- snATAC data from adult heart from Hocker et al., Science Advances 2021 (https://advances.sciencemag.org/content/7/20/eabf1444/tab-article-info):\n",
    " - relative accessibility score: Table S5 (http://ns104190.ip-147-135-44.us/data_CARE_portal/snATAC/matrices/Supplemental_Table_5_RAS.tsv)\n",
    " - cell type-specific regulatory elements: Table S6 (https://advances.sciencemag.org/highwire/filestream/254970/field_highwire_adjunct_files/17/abf1444_Table_S6.xlsx)"
   ]
  },
  {
   "cell_type": "code",
   "execution_count": 1,
   "metadata": {},
   "outputs": [],
   "source": [
    "setwd(\"/frazer01/projects/CARDIPS/analysis/cardiac_gwas_coloc\")\n",
    "\n",
    "source(\"script/functions.R\"  )\n"
   ]
  },
  {
   "cell_type": "code",
   "execution_count": 2,
   "metadata": {},
   "outputs": [],
   "source": [
    "dir.create(\"pipeline/eqtl.1.cell_type_validation\"       , showWarnings = FALSE)\n",
    "dir.create(\"pipeline/eqtl.1.cell_type_validation/snatac\", showWarnings = FALSE)\n"
   ]
  },
  {
   "cell_type": "code",
   "execution_count": 3,
   "metadata": {},
   "outputs": [],
   "source": [
    "ras_hg38 = fread(\"/frazer01/reference/public/Hocker_Science_Advances_2021/Supplemental_Table_5_RAS.tsv\", sep = \"\\t\", header = TRUE, data.table = FALSE)\n",
    "cts_hg38 = fread(\"/frazer01/reference/public/Hocker_Science_Advances_2021/Supplemental_Table_6.tsv\"    , sep = \"\\t\", header = TRUE, data.table = FALSE)\n",
    "\n",
    "colnames(ras_hg38)  = gsub(\"_RAS\", \"\", colnames(ras_hg38))\n",
    "ras_hg38$coord_hg38 = paste(ras_hg38$chr  , ras_hg38$start, ras_hg38$end, sep = \"_\")\n",
    "cts_hg38$coord_hg38 = paste(cts_hg38$chrom, cts_hg38$start, cts_hg38$end, sep = \"_\")\n"
   ]
  },
  {
   "cell_type": "code",
   "execution_count": 4,
   "metadata": {},
   "outputs": [],
   "source": [
    "qtl_list = readRDS(\"/frazer01/projects/CARDIPS/analysis/cardiac_qtls_combined/input/qtl/qtls.RDS\"   )\n",
    "exp_list = readRDS(\"/frazer01/projects/CARDIPS/analysis/cardiac_qtls_combined/input/expdata_qtl.rds\")"
   ]
  },
  {
   "cell_type": "code",
   "execution_count": 5,
   "metadata": {},
   "outputs": [],
   "source": [
    "phenotypes            = qtl_list$phenotypes\n",
    "qtls                  = qtl_list$qtl\n",
    "coordinates           = exp_list$coordinates\n",
    "rownames(coordinates) = coordinates$transcript_id"
   ]
  },
  {
   "cell_type": "markdown",
   "metadata": {},
   "source": [
    "# liftover snATAC coordinates to hg19"
   ]
  },
  {
   "cell_type": "code",
   "execution_count": 6,
   "metadata": {},
   "outputs": [],
   "source": [
    "snatac_hg38_bed = \"pipeline/eqtl.1.cell_type_validation/snatac/snatac_hg38.bed\"\n",
    "snatac_hg19_bed = \"pipeline/eqtl.1.cell_type_validation/snatac/snatac_hg19.bed\"\n",
    "\n",
    "fwrite(ras_hg38[order(ras_hg38$chr, ras_hg38$start, ras_hg38$end), c(\"chr\", \"start\", \"end\", \"coord_hg38\")], snatac_hg38_bed, sep = \"\\t\", col.names = FALSE, row.names = FALSE)"
   ]
  },
  {
   "cell_type": "code",
   "execution_count": 7,
   "metadata": {},
   "outputs": [],
   "source": [
    "liftover         = \"/software/ucsc.linux.x86_64.20151103/liftOver\"\n",
    "chain_file       = \"/frazer01/reference/private/hg38ToHg19.over.chain\"\n",
    "command_liftover = paste(liftover, snatac_hg38_bed, chain_file, snatac_hg19_bed, \"unMapped\")\n",
    "\n",
    "#system(command_liftover)\n"
   ]
  },
  {
   "cell_type": "code",
   "execution_count": 8,
   "metadata": {},
   "outputs": [],
   "source": [
    "snatac           = fread(snatac_hg19_bed, sep = \"\\t\", header = FALSE, data.table = FALSE)\n",
    "colnames(snatac) = c(\"chrom\", \"start\", \"end\", \"coord_hg38\")\n",
    "snatac$coord     = paste(snatac$chrom, snatac$start, snatac$end, sep = \"_\")\n"
   ]
  },
  {
   "cell_type": "code",
   "execution_count": 9,
   "metadata": {},
   "outputs": [],
   "source": [
    "ras = merge(snatac, ras_hg38[, !colnames(ras_hg38) %in% c(\"chr\"  , \"start\", \"end\")], by = \"coord_hg38\")\n"
   ]
  },
  {
   "cell_type": "code",
   "execution_count": 10,
   "metadata": {},
   "outputs": [],
   "source": [
    "cells_eqtl         = exp_list[[\"color\"]][[\"by_cell\"]]\n",
    "cells_snatac       = data.frame(cell_type = colnames(ras)[6:14], \n",
    "                                name       = c(\"fibroblast\", \"ventricular CM\"           , \"atrial CM\"           , \"endothelial\", \"smooth muscle\", \"macrophages\", \"lymphocytes\", \"adipocytes\", \"cardiac neuron\"),\n",
    "                                cell_type2 = c(\"Fibroblast\", \"Ventricular Cardiomyocyte\", \"Atrial Cardiomyocyte\", \"Endothelial\", \"Smooth Muscle\", \"Macrophage\" , \"Lymphocyte\" , \"Adipocyte\" , \"Nervous\"       )\n",
    "                               )\n",
    "cells_snatac$order = 1:nrow(cells_snatac)"
   ]
  },
  {
   "cell_type": "code",
   "execution_count": 11,
   "metadata": {},
   "outputs": [],
   "source": [
    "cts = merge(snatac, cts_hg38[, !colnames(cts_hg38) %in% c(\"chrom\", \"start\", \"end\")], by = \"coord_hg38\")\n",
    "cts = merge(cells_snatac[,c(\"cell_type\", \"cell_type2\")], cts   , by.x = \"cell_type2\", by.y = \"cell_type\")\n",
    "cts$cell_type2 = NULL"
   ]
  },
  {
   "cell_type": "code",
   "execution_count": 12,
   "metadata": {},
   "outputs": [],
   "source": [
    "fwrite(ras, \"pipeline/eqtl.1.cell_type_validation/snatac/relative_accessibility_score.txt\", sep = \"\\t\", col.names = TRUE, row.names = FALSE)\n",
    "fwrite(cts, \"pipeline/eqtl.1.cell_type_validation/snatac/cell_type_specific_peaks.txt\"    , sep = \"\\t\", col.names = TRUE, row.names = FALSE)\n"
   ]
  },
  {
   "cell_type": "code",
   "execution_count": 13,
   "metadata": {},
   "outputs": [],
   "source": [
    "snatac_bed = \"pipeline/eqtl.1.cell_type_validation/snatac/snatac_peaks.bed\"\n",
    "\n",
    "fwrite(ras[order(ras$chrom, ras$start, ras$end), c(\"chrom\", \"start\", \"end\", \"coord\")], snatac_bed, sep = \"\\t\", col.names = FALSE, row.names = FALSE)\n"
   ]
  },
  {
   "cell_type": "code",
   "execution_count": 27,
   "metadata": {},
   "outputs": [
    {
     "name": "stdout",
     "output_type": "stream",
     "text": [
      "'data.frame':\t286725 obs. of  15 variables:\n",
      " $ coord_hg38: chr  \"chr1_100006460_100007036\" \"chr1_100023423_100024000\" \"chr1_100024429_100024693\" \"chr1_100037684_100039029\" ...\n",
      " $ chrom     : chr  \"chr1\" \"chr1\" \"chr1\" \"chr1\" ...\n",
      " $ start     : int  100472016 100488979 100489985 100503240 100514008 100514360 100515014 100517519 100540213 100540532 ...\n",
      " $ end       : int  100472592 100489556 100490249 100504585 100514272 100514667 100515429 100517794 100540423 100541040 ...\n",
      " $ coord     : chr  \"chr1_100472016_100472592\" \"chr1_100488979_100489556\" \"chr1_100489985_100490249\" \"chr1_100503240_100504585\" ...\n",
      " $ FB        : num  0.1207 0.0453 0.0884 0.0905 0.0471 ...\n",
      " $ vCM       : num  0.308 0.516 0.157 0.11 0.168 ...\n",
      " $ aCM       : num  0.21 0.229 0.174 0.103 0.315 ...\n",
      " $ EC        : num  0.0732 0.0552 0.0927 0.1156 0.0966 ...\n",
      " $ SM        : num  0.0871 0.0427 0.063 0.1207 0.1432 ...\n",
      " $ MAC       : num  0.1912 0.0274 0.0797 0.1186 0.2168 ...\n",
      " $ LC        : num  0.00572 0.00188 0.34129 0.17577 0.00755 ...\n",
      " $ AD        : num  0.001746 0.000575 0.001672 0.079263 0.002305 ...\n",
      " $ NR        : num  0.00234 0.08099 0.00224 0.08711 0.00309 ...\n",
      " $ k_cluster : int  2 2 6 9 2 5 9 4 9 7 ...\n"
     ]
    },
    {
     "data": {
      "text/html": [
       "<table>\n",
       "<caption>A data.frame: 9 × 4</caption>\n",
       "<thead>\n",
       "\t<tr><th scope=col>cell_type</th><th scope=col>name</th><th scope=col>cell_type2</th><th scope=col>order</th></tr>\n",
       "\t<tr><th scope=col>&lt;chr&gt;</th><th scope=col>&lt;chr&gt;</th><th scope=col>&lt;chr&gt;</th><th scope=col>&lt;int&gt;</th></tr>\n",
       "</thead>\n",
       "<tbody>\n",
       "\t<tr><td>FB </td><td>fibroblast    </td><td>Fibroblast               </td><td>1</td></tr>\n",
       "\t<tr><td>vCM</td><td>ventricular CM</td><td>Ventricular Cardiomyocyte</td><td>2</td></tr>\n",
       "\t<tr><td>aCM</td><td>atrial CM     </td><td>Atrial Cardiomyocyte     </td><td>3</td></tr>\n",
       "\t<tr><td>EC </td><td>endothelial   </td><td>Endothelial              </td><td>4</td></tr>\n",
       "\t<tr><td>SM </td><td>smooth muscle </td><td>Smooth Muscle            </td><td>5</td></tr>\n",
       "\t<tr><td>MAC</td><td>macrophages   </td><td>Macrophage               </td><td>6</td></tr>\n",
       "\t<tr><td>LC </td><td>lymphocytes   </td><td>Lymphocyte               </td><td>7</td></tr>\n",
       "\t<tr><td>AD </td><td>adipocytes    </td><td>Adipocyte                </td><td>8</td></tr>\n",
       "\t<tr><td>NR </td><td>cardiac neuron</td><td>Nervous                  </td><td>9</td></tr>\n",
       "</tbody>\n",
       "</table>\n"
      ],
      "text/latex": [
       "A data.frame: 9 × 4\n",
       "\\begin{tabular}{llll}\n",
       " cell\\_type & name & cell\\_type2 & order\\\\\n",
       " <chr> & <chr> & <chr> & <int>\\\\\n",
       "\\hline\n",
       "\t FB  & fibroblast     & Fibroblast                & 1\\\\\n",
       "\t vCM & ventricular CM & Ventricular Cardiomyocyte & 2\\\\\n",
       "\t aCM & atrial CM      & Atrial Cardiomyocyte      & 3\\\\\n",
       "\t EC  & endothelial    & Endothelial               & 4\\\\\n",
       "\t SM  & smooth muscle  & Smooth Muscle             & 5\\\\\n",
       "\t MAC & macrophages    & Macrophage                & 6\\\\\n",
       "\t LC  & lymphocytes    & Lymphocyte                & 7\\\\\n",
       "\t AD  & adipocytes     & Adipocyte                 & 8\\\\\n",
       "\t NR  & cardiac neuron & Nervous                   & 9\\\\\n",
       "\\end{tabular}\n"
      ],
      "text/markdown": [
       "\n",
       "A data.frame: 9 × 4\n",
       "\n",
       "| cell_type &lt;chr&gt; | name &lt;chr&gt; | cell_type2 &lt;chr&gt; | order &lt;int&gt; |\n",
       "|---|---|---|---|\n",
       "| FB  | fibroblast     | Fibroblast                | 1 |\n",
       "| vCM | ventricular CM | Ventricular Cardiomyocyte | 2 |\n",
       "| aCM | atrial CM      | Atrial Cardiomyocyte      | 3 |\n",
       "| EC  | endothelial    | Endothelial               | 4 |\n",
       "| SM  | smooth muscle  | Smooth Muscle             | 5 |\n",
       "| MAC | macrophages    | Macrophage                | 6 |\n",
       "| LC  | lymphocytes    | Lymphocyte                | 7 |\n",
       "| AD  | adipocytes     | Adipocyte                 | 8 |\n",
       "| NR  | cardiac neuron | Nervous                   | 9 |\n",
       "\n"
      ],
      "text/plain": [
       "  cell_type name           cell_type2                order\n",
       "1 FB        fibroblast     Fibroblast                1    \n",
       "2 vCM       ventricular CM Ventricular Cardiomyocyte 2    \n",
       "3 aCM       atrial CM      Atrial Cardiomyocyte      3    \n",
       "4 EC        endothelial    Endothelial               4    \n",
       "5 SM        smooth muscle  Smooth Muscle             5    \n",
       "6 MAC       macrophages    Macrophage                6    \n",
       "7 LC        lymphocytes    Lymphocyte                7    \n",
       "8 AD        adipocytes     Adipocyte                 8    \n",
       "9 NR        cardiac neuron Nervous                   9    "
      ]
     },
     "metadata": {},
     "output_type": "display_data"
    }
   ],
   "source": [
    "str(ras)\n",
    "cells_snatac"
   ]
  },
  {
   "cell_type": "code",
   "execution_count": 15,
   "metadata": {},
   "outputs": [],
   "source": [
    "ras_norm           = as.data.frame(t(scale(t(as.matrix(ras[, cells_snatac$cell_type])), scale = TRUE)))\n",
    "rownames(ras_norm) = ras$coord"
   ]
  },
  {
   "cell_type": "markdown",
   "metadata": {},
   "source": [
    "# Read QTLs"
   ]
  },
  {
   "cell_type": "code",
   "execution_count": 16,
   "metadata": {},
   "outputs": [],
   "source": [
    "cs_gene = fread(\"/frazer01/projects/CARDIPS/analysis/cardiac_eqtls/pipeline/3.2.eqtls/eqtls_fine_map/cardiac_eqtls.gene.txt\"   , sep = \"\\t\", header = TRUE, data.table = FALSE)\n",
    "cs_isof = fread(\"/frazer01/projects/CARDIPS/analysis/cardiac_eqtls/pipeline/3.2.eqtls/eqtls_fine_map/cardiac_eqtls.isoform.txt\", sep = \"\\t\", header = TRUE, data.table = FALSE)\n"
   ]
  },
  {
   "cell_type": "code",
   "execution_count": 17,
   "metadata": {},
   "outputs": [],
   "source": [
    "cs_gene$tr2type = paste(cs_gene$transcript_id, cs_gene$type)\n",
    "cs_isof$tr2type = paste(cs_isof$transcript_id, cs_isof$type)\n"
   ]
  },
  {
   "cell_type": "markdown",
   "metadata": {},
   "source": [
    "# Overlap lead eQTLs with snATAC peaks"
   ]
  },
  {
   "cell_type": "code",
   "execution_count": 18,
   "metadata": {},
   "outputs": [],
   "source": [
    "intersect_qtls = function(phenotype, snatac_bed, cs)\n",
    "{\n",
    "    indata       = unique(cs[ cs$pp >= 0.01, \"id\"])\n",
    "    indata       = data.frame(chrom = paste0    (\"chr\", unlist(lapply(indata, function(x){unlist(strsplit(x, \"_\"))[[2]]}))),\n",
    "                              pos   = as.numeric(       unlist(lapply(indata, function(x){unlist(strsplit(x, \"_\"))[[3]]}))),\n",
    "                              id    = indata\n",
    "                             )\n",
    "    variants_bed = paste(\"pipeline/eqtl.1.cell_type_validation/variants\", phenotype, \"bed\", sep = \".\")\n",
    "    command      = paste(\"bedtools\", \"intersect\", \"-loj\", \n",
    "                         \"-a\", variants_bed, \n",
    "                         \"-b\", snatac_bed)\n",
    "    \n",
    "    fwrite(unique(indata[order(indata$chrom, indata$pos), c(\"chrom\", \"pos\", \"pos\", \"id\")]), variants_bed, sep = \"\\t\", col.names = FALSE, row.names = FALSE)\n",
    "    \n",
    "    intersected           = fread(cmd = command, sep = \"\\t\", header = FALSE, data.table = FALSE)[,c(4,8)]\n",
    "    colnames(intersected) = c(\"id\", \"coord\")\n",
    "    \n",
    "    return(intersected)\n",
    "}\n",
    "\n",
    "int_gene = intersect_qtls(\"rna\"    , snatac_bed, cs_gene)\n",
    "int_isof = intersect_qtls(\"isoform\", snatac_bed, cs_isof)\n",
    "\n"
   ]
  },
  {
   "cell_type": "code",
   "execution_count": 19,
   "metadata": {},
   "outputs": [
    {
     "name": "stdout",
     "output_type": "stream",
     "text": [
      "'data.frame':\t201082 obs. of  2 variables:\n",
      " $ id   : chr  \"VAR_1_63735_CCTA_C\" \"VAR_1_233685_GC_G\" \"VAR_1_247916_CAGG_C\" \"VAR_1_250236_CT_C\" ...\n",
      " $ coord: chr  \".\" \".\" \".\" \".\" ...\n"
     ]
    },
    {
     "data": {
      "text/html": [
       "18928"
      ],
      "text/latex": [
       "18928"
      ],
      "text/markdown": [
       "18928"
      ],
      "text/plain": [
       "[1] 18928"
      ]
     },
     "metadata": {},
     "output_type": "display_data"
    }
   ],
   "source": [
    "str(int_gene)\n",
    "nrow(int_gene[ int_gene$coord != \".\",])"
   ]
  },
  {
   "cell_type": "code",
   "execution_count": 20,
   "metadata": {},
   "outputs": [],
   "source": [
    "find_overlap_by_transcript = function(x, cs, phenotype)\n",
    "{\n",
    "    eqtl2cell         = qtl_list[[\"interactions\"]][[phenotype]]\n",
    "    x                 = merge(cs, x[ x$coord != \".\",])\n",
    "    x                 = x[order(x$pp, -x$pval, decreasing = TRUE),]\n",
    "    out               = aggregate(coord ~ transcript_id + type + tr2type, data = x, FUN = function(x){x[[1]]})\n",
    "    out               = merge(out, ras_norm, by.x = \"coord\", by.y = \"row.names\")\n",
    "    eqtl2cell$tr2type = paste(eqtl2cell$transcript_id, eqtl2cell$type)\n",
    "\n",
    "    for(cell in sort(unique(eqtl2cell$interaction)))\n",
    "    {\n",
    "        mycol = paste(\"eqtl\", cell, sep = \".\")\n",
    "        out[,mycol] = 0\n",
    "        \n",
    "        out[ out$tr2type %in% eqtl2cell[ eqtl2cell$interaction == cell & eqtl2cell$cell == TRUE, \"tr2type\"], mycol] = 1\n",
    "    }\n",
    "    \n",
    "    return(out)\n",
    "}\n",
    "\n",
    "eqtl2cell_gene = find_overlap_by_transcript(int_gene, cs_gene, \"rna\"    )\n",
    "eqtl2cell_isof = find_overlap_by_transcript(int_isof, cs_isof, \"isoform\")\n"
   ]
  },
  {
   "cell_type": "code",
   "execution_count": 21,
   "metadata": {},
   "outputs": [
    {
     "name": "stdout",
     "output_type": "stream",
     "text": [
      "'data.frame':\t14665 obs. of  29 variables:\n",
      " $ coord                                : chr  \"chr1_100161444_100161987\" \"chr1_100434979_100436187\" \"chr1_100503240_100504585\" \"chr1_100503240_100504585\" ...\n",
      " $ transcript_id                        : chr  \"ENSG00000099260.11_5\" \"ENSG00000117620.15_8\" \"ENSG00000162688.17_5\" \"ENSG00000137996.12_3\" ...\n",
      " $ type                                 : int  0 0 0 2 0 1 0 1 0 0 ...\n",
      " $ tr2type                              : chr  \"ENSG00000099260.11_5 0\" \"ENSG00000117620.15_8 0\" \"ENSG00000162688.17_5 0\" \"ENSG00000137996.12_3 2\" ...\n",
      " $ FB                                   : num  -0.449 -1.669 -0.728 -0.728 -0.728 ...\n",
      " $ vCM                                  : num  0.0759 0.3043 -0.0531 -0.0531 -0.0531 ...\n",
      " $ aCM                                  : num  -0.234 -0.271 -0.287 -0.287 -0.287 ...\n",
      " $ EC                                   : num  0.0254 0.1448 0.1572 0.1572 0.1572 ...\n",
      " $ SM                                   : num  -0.549 -1.009 0.337 0.337 0.337 ...\n",
      " $ MAC                                  : num  -0.567 1.017 0.264 0.264 0.264 ...\n",
      " $ LC                                   : num  -0.659 1.71 2.28 2.28 2.28 ...\n",
      " $ AD                                   : num  2.57544 0.00153 -1.12305 -1.12305 -1.12305 ...\n",
      " $ NR                                   : num  -0.22 -0.229 -0.846 -0.846 -0.846 ...\n",
      " $ eqtl.adult                           : num  0 0 0 0 0 0 0 0 0 0 ...\n",
      " $ eqtl.arteria                         : num  0 0 0 0 0 0 0 0 0 0 ...\n",
      " $ eqtl.arteria_aorta                   : num  0 0 0 0 0 0 0 0 0 0 ...\n",
      " $ eqtl.arteria_coronary                : num  0 0 0 0 0 0 0 0 0 0 ...\n",
      " $ eqtl.cibersort.regular.cardiac_muscle: num  0 0 0 0 0 0 0 0 0 0 ...\n",
      " $ eqtl.cibersort.regular.cardiac_neuron: num  0 0 1 0 0 0 0 0 0 0 ...\n",
      " $ eqtl.cibersort.regular.endocardial   : num  0 0 0 0 0 0 0 0 0 0 ...\n",
      " $ eqtl.cibersort.regular.endothelial   : num  0 0 0 0 0 0 0 0 0 0 ...\n",
      " $ eqtl.cibersort.regular.fibroblast    : num  0 0 0 0 0 0 0 0 0 0 ...\n",
      " $ eqtl.cibersort.regular.immune        : num  0 0 0 0 0 0 0 0 0 0 ...\n",
      " $ eqtl.cibersort.regular.myofibroblast : num  0 0 0 0 0 0 0 0 0 0 ...\n",
      " $ eqtl.cibersort.regular.smooth_muscle : num  0 0 0 0 0 0 0 0 0 0 ...\n",
      " $ eqtl.heart                           : num  0 0 0 0 0 0 0 0 0 0 ...\n",
      " $ eqtl.heart_atrium                    : num  0 0 0 0 0 0 0 0 0 0 ...\n",
      " $ eqtl.heart_ventricle                 : num  0 0 0 0 0 0 0 0 0 0 ...\n",
      " $ eqtl.ipsc_cvpc                       : num  0 0 0 0 0 0 0 0 0 0 ...\n"
     ]
    },
    {
     "data": {
      "text/html": [
       "10180"
      ],
      "text/latex": [
       "10180"
      ],
      "text/markdown": [
       "10180"
      ],
      "text/plain": [
       "[1] 10180"
      ]
     },
     "metadata": {},
     "output_type": "display_data"
    }
   ],
   "source": [
    "str(eqtl2cell_gene)\n",
    "length(unique(eqtl2cell_gene$transcript_id))"
   ]
  },
  {
   "cell_type": "code",
   "execution_count": 22,
   "metadata": {},
   "outputs": [
    {
     "data": {
      "text/html": [
       "367"
      ],
      "text/latex": [
       "367"
      ],
      "text/markdown": [
       "367"
      ],
      "text/plain": [
       "[1] 367"
      ]
     },
     "metadata": {},
     "output_type": "display_data"
    }
   ],
   "source": [
    "nrow(eqtl2cell_gene[ eqtl2cell_gene$eqtl.cibersort.regular.cardiac_muscle == 1, ])"
   ]
  },
  {
   "cell_type": "code",
   "execution_count": 23,
   "metadata": {},
   "outputs": [],
   "source": [
    "calculate_eqtl2cell = function(totest)\n",
    "{\n",
    "    out = as.data.frame(rbindlist(lapply(cells_eqtl$cell_type, function(cell1)\n",
    "    {\n",
    "        as.data.frame(rbindlist(lapply(cells_snatac$cell_type, function(cell2)\n",
    "        {\n",
    "            if(nrow(totest[totest[, paste(\"eqtl\", cell1, sep = \".\")] == 1, ]) >= 2)\n",
    "            {\n",
    "                #test = t.test(totest[totest[, paste(\"eqtl\", cell1, sep = \".\")] == 1, cell2],          totest[totest[, paste(\"eqtl\", cell1, sep = \".\")] == 0, cell2])\n",
    "                test = t.test(totest[totest[, paste(\"eqtl\", cell1, sep = \".\")] == 1, cell2], rowMeans(totest[totest[, paste(\"eqtl\", cell1, sep = \".\")] == 1, cells_snatac[ cells_snatac$cell_type != cell2, \"cell_type\"]]), paired = TRUE)\n",
    "                \n",
    "                return(data.frame(cell_eqtl   = cell1, \n",
    "                                  cell_snatac = cell2, \n",
    "                                  estimate    = test$estimate,\n",
    "                                  ci1         = test$conf.int[[1]],\n",
    "                                  ci2         = test$conf.int[[2]],\n",
    "                                  pval        = test$p.value\n",
    "                                 ))\n",
    "                #return(data.frame(cell_eqtl   = cell1, \n",
    "                #                  cell_snatac = cell2, \n",
    "                #                  estimate1   = test$estimate[[1]],\n",
    "                #                  estimate2   = test$estimate[[2]],\n",
    "                #                  ci1         = test$conf.int[[1]],\n",
    "                #                  ci2         = test$conf.int[[2]],\n",
    "                #                  pval        = test$p.value\n",
    "                #                 ))\n",
    "            }else\n",
    "            {\n",
    "                return(data.frame(cell_eqtl   = cell1, \n",
    "                                  cell_snatac = cell2, \n",
    "                                  estimate    = NA,\n",
    "                                  ci1         = NA,\n",
    "                                  ci2         = NA,\n",
    "                                  pval        = 1\n",
    "                                 ))\n",
    "                #return(data.frame(cell_eqtl   = cell1, \n",
    "                #                  cell_snatac = cell2, \n",
    "                #                  estimate1   = NA,\n",
    "                #                  estimate2   = NA,\n",
    "                #                  ci1         = NA,\n",
    "                #                  ci2         = NA,\n",
    "                #                  pval        = 1\n",
    "                #                 ))\n",
    "            }\n",
    "        })), stringsAsFactors = FALSE)\n",
    "    })), stringsAsFactors = FALSE)\n",
    "    return(out)\n",
    "}\n",
    "\n",
    "tests_gene = calculate_eqtl2cell(eqtl2cell_gene)\n",
    "tests_isof = calculate_eqtl2cell(eqtl2cell_isof)\n"
   ]
  },
  {
   "cell_type": "code",
   "execution_count": 24,
   "metadata": {},
   "outputs": [
    {
     "data": {
      "text/html": [
       "<table>\n",
       "<caption>A data.frame: 6 × 6</caption>\n",
       "<thead>\n",
       "\t<tr><th></th><th scope=col>cell_eqtl</th><th scope=col>cell_snatac</th><th scope=col>estimate</th><th scope=col>ci1</th><th scope=col>ci2</th><th scope=col>pval</th></tr>\n",
       "\t<tr><th></th><th scope=col>&lt;chr&gt;</th><th scope=col>&lt;chr&gt;</th><th scope=col>&lt;dbl&gt;</th><th scope=col>&lt;dbl&gt;</th><th scope=col>&lt;dbl&gt;</th><th scope=col>&lt;dbl&gt;</th></tr>\n",
       "</thead>\n",
       "<tbody>\n",
       "\t<tr><th scope=row>6</th><td>cibersort.regular.cardiac_muscle</td><td>MAC</td><td>-0.3538216</td><td>-0.4363719</td><td>-0.27127124</td><td>8.131272e-16</td></tr>\n",
       "\t<tr><th scope=row>2</th><td>cibersort.regular.cardiac_muscle</td><td>vCM</td><td> 0.4863802</td><td> 0.3644809</td><td> 0.60827954</td><td>4.763539e-14</td></tr>\n",
       "\t<tr><th scope=row>1</th><td>cibersort.regular.cardiac_muscle</td><td>FB </td><td>-0.2553290</td><td>-0.3344124</td><td>-0.17624572</td><td>6.423617e-10</td></tr>\n",
       "\t<tr><th scope=row>3</th><td>cibersort.regular.cardiac_muscle</td><td>aCM</td><td> 0.3699731</td><td> 0.2466272</td><td> 0.49331897</td><td>8.357681e-09</td></tr>\n",
       "\t<tr><th scope=row>52</th><td>cibersort.regular.fibroblast    </td><td>LC </td><td> 0.3836194</td><td> 0.1408905</td><td> 0.62634831</td><td>2.181425e-03</td></tr>\n",
       "\t<tr><th scope=row>30</th><td>cibersort.regular.immune        </td><td>aCM</td><td>-0.2176995</td><td>-0.3591210</td><td>-0.07627796</td><td>2.714402e-03</td></tr>\n",
       "</tbody>\n",
       "</table>\n"
      ],
      "text/latex": [
       "A data.frame: 6 × 6\n",
       "\\begin{tabular}{r|llllll}\n",
       "  & cell\\_eqtl & cell\\_snatac & estimate & ci1 & ci2 & pval\\\\\n",
       "  & <chr> & <chr> & <dbl> & <dbl> & <dbl> & <dbl>\\\\\n",
       "\\hline\n",
       "\t6 & cibersort.regular.cardiac\\_muscle & MAC & -0.3538216 & -0.4363719 & -0.27127124 & 8.131272e-16\\\\\n",
       "\t2 & cibersort.regular.cardiac\\_muscle & vCM &  0.4863802 &  0.3644809 &  0.60827954 & 4.763539e-14\\\\\n",
       "\t1 & cibersort.regular.cardiac\\_muscle & FB  & -0.2553290 & -0.3344124 & -0.17624572 & 6.423617e-10\\\\\n",
       "\t3 & cibersort.regular.cardiac\\_muscle & aCM &  0.3699731 &  0.2466272 &  0.49331897 & 8.357681e-09\\\\\n",
       "\t52 & cibersort.regular.fibroblast     & LC  &  0.3836194 &  0.1408905 &  0.62634831 & 2.181425e-03\\\\\n",
       "\t30 & cibersort.regular.immune         & aCM & -0.2176995 & -0.3591210 & -0.07627796 & 2.714402e-03\\\\\n",
       "\\end{tabular}\n"
      ],
      "text/markdown": [
       "\n",
       "A data.frame: 6 × 6\n",
       "\n",
       "| <!--/--> | cell_eqtl &lt;chr&gt; | cell_snatac &lt;chr&gt; | estimate &lt;dbl&gt; | ci1 &lt;dbl&gt; | ci2 &lt;dbl&gt; | pval &lt;dbl&gt; |\n",
       "|---|---|---|---|---|---|---|\n",
       "| 6 | cibersort.regular.cardiac_muscle | MAC | -0.3538216 | -0.4363719 | -0.27127124 | 8.131272e-16 |\n",
       "| 2 | cibersort.regular.cardiac_muscle | vCM |  0.4863802 |  0.3644809 |  0.60827954 | 4.763539e-14 |\n",
       "| 1 | cibersort.regular.cardiac_muscle | FB  | -0.2553290 | -0.3344124 | -0.17624572 | 6.423617e-10 |\n",
       "| 3 | cibersort.regular.cardiac_muscle | aCM |  0.3699731 |  0.2466272 |  0.49331897 | 8.357681e-09 |\n",
       "| 52 | cibersort.regular.fibroblast     | LC  |  0.3836194 |  0.1408905 |  0.62634831 | 2.181425e-03 |\n",
       "| 30 | cibersort.regular.immune         | aCM | -0.2176995 | -0.3591210 | -0.07627796 | 2.714402e-03 |\n",
       "\n"
      ],
      "text/plain": [
       "   cell_eqtl                        cell_snatac estimate   ci1       \n",
       "6  cibersort.regular.cardiac_muscle MAC         -0.3538216 -0.4363719\n",
       "2  cibersort.regular.cardiac_muscle vCM          0.4863802  0.3644809\n",
       "1  cibersort.regular.cardiac_muscle FB          -0.2553290 -0.3344124\n",
       "3  cibersort.regular.cardiac_muscle aCM          0.3699731  0.2466272\n",
       "52 cibersort.regular.fibroblast     LC           0.3836194  0.1408905\n",
       "30 cibersort.regular.immune         aCM         -0.2176995 -0.3591210\n",
       "   ci2         pval        \n",
       "6  -0.27127124 8.131272e-16\n",
       "2   0.60827954 4.763539e-14\n",
       "1  -0.17624572 6.423617e-10\n",
       "3   0.49331897 8.357681e-09\n",
       "52  0.62634831 2.181425e-03\n",
       "30 -0.07627796 2.714402e-03"
      ]
     },
     "metadata": {},
     "output_type": "display_data"
    },
    {
     "data": {
      "text/html": [
       "<table>\n",
       "<caption>A data.frame: 6 × 6</caption>\n",
       "<thead>\n",
       "\t<tr><th></th><th scope=col>cell_eqtl</th><th scope=col>cell_snatac</th><th scope=col>estimate</th><th scope=col>ci1</th><th scope=col>ci2</th><th scope=col>pval</th></tr>\n",
       "\t<tr><th></th><th scope=col>&lt;chr&gt;</th><th scope=col>&lt;chr&gt;</th><th scope=col>&lt;dbl&gt;</th><th scope=col>&lt;dbl&gt;</th><th scope=col>&lt;dbl&gt;</th><th scope=col>&lt;dbl&gt;</th></tr>\n",
       "</thead>\n",
       "<tbody>\n",
       "\t<tr><th scope=row>2</th><td>cibersort.regular.cardiac_muscle</td><td>vCM</td><td> 0.5055158</td><td> 0.19296837</td><td> 0.81806314</td><td>0.002022455</td></tr>\n",
       "\t<tr><th scope=row>19</th><td>cibersort.regular.endocardial   </td><td>FB </td><td>-0.3504492</td><td>-0.62604685</td><td>-0.07485162</td><td>0.015563674</td></tr>\n",
       "\t<tr><th scope=row>60</th><td>cibersort.regular.cardiac_neuron</td><td>MAC</td><td>-0.2763442</td><td>-0.49782360</td><td>-0.05486484</td><td>0.016525461</td></tr>\n",
       "\t<tr><th scope=row>16</th><td>cibersort.regular.smooth_muscle </td><td>LC </td><td> 0.2656899</td><td> 0.02999305</td><td> 0.50138667</td><td>0.027456130</td></tr>\n",
       "\t<tr><th scope=row>3</th><td>cibersort.regular.cardiac_muscle</td><td>aCM</td><td> 0.2754309</td><td> 0.02286548</td><td> 0.52799631</td><td>0.033130287</td></tr>\n",
       "\t<tr><th scope=row>58</th><td>cibersort.regular.cardiac_neuron</td><td>EC </td><td> 0.5736864</td><td> 0.03846070</td><td> 1.10891212</td><td>0.036677160</td></tr>\n",
       "</tbody>\n",
       "</table>\n"
      ],
      "text/latex": [
       "A data.frame: 6 × 6\n",
       "\\begin{tabular}{r|llllll}\n",
       "  & cell\\_eqtl & cell\\_snatac & estimate & ci1 & ci2 & pval\\\\\n",
       "  & <chr> & <chr> & <dbl> & <dbl> & <dbl> & <dbl>\\\\\n",
       "\\hline\n",
       "\t2 & cibersort.regular.cardiac\\_muscle & vCM &  0.5055158 &  0.19296837 &  0.81806314 & 0.002022455\\\\\n",
       "\t19 & cibersort.regular.endocardial    & FB  & -0.3504492 & -0.62604685 & -0.07485162 & 0.015563674\\\\\n",
       "\t60 & cibersort.regular.cardiac\\_neuron & MAC & -0.2763442 & -0.49782360 & -0.05486484 & 0.016525461\\\\\n",
       "\t16 & cibersort.regular.smooth\\_muscle  & LC  &  0.2656899 &  0.02999305 &  0.50138667 & 0.027456130\\\\\n",
       "\t3 & cibersort.regular.cardiac\\_muscle & aCM &  0.2754309 &  0.02286548 &  0.52799631 & 0.033130287\\\\\n",
       "\t58 & cibersort.regular.cardiac\\_neuron & EC  &  0.5736864 &  0.03846070 &  1.10891212 & 0.036677160\\\\\n",
       "\\end{tabular}\n"
      ],
      "text/markdown": [
       "\n",
       "A data.frame: 6 × 6\n",
       "\n",
       "| <!--/--> | cell_eqtl &lt;chr&gt; | cell_snatac &lt;chr&gt; | estimate &lt;dbl&gt; | ci1 &lt;dbl&gt; | ci2 &lt;dbl&gt; | pval &lt;dbl&gt; |\n",
       "|---|---|---|---|---|---|---|\n",
       "| 2 | cibersort.regular.cardiac_muscle | vCM |  0.5055158 |  0.19296837 |  0.81806314 | 0.002022455 |\n",
       "| 19 | cibersort.regular.endocardial    | FB  | -0.3504492 | -0.62604685 | -0.07485162 | 0.015563674 |\n",
       "| 60 | cibersort.regular.cardiac_neuron | MAC | -0.2763442 | -0.49782360 | -0.05486484 | 0.016525461 |\n",
       "| 16 | cibersort.regular.smooth_muscle  | LC  |  0.2656899 |  0.02999305 |  0.50138667 | 0.027456130 |\n",
       "| 3 | cibersort.regular.cardiac_muscle | aCM |  0.2754309 |  0.02286548 |  0.52799631 | 0.033130287 |\n",
       "| 58 | cibersort.regular.cardiac_neuron | EC  |  0.5736864 |  0.03846070 |  1.10891212 | 0.036677160 |\n",
       "\n"
      ],
      "text/plain": [
       "   cell_eqtl                        cell_snatac estimate   ci1        \n",
       "2  cibersort.regular.cardiac_muscle vCM          0.5055158  0.19296837\n",
       "19 cibersort.regular.endocardial    FB          -0.3504492 -0.62604685\n",
       "60 cibersort.regular.cardiac_neuron MAC         -0.2763442 -0.49782360\n",
       "16 cibersort.regular.smooth_muscle  LC           0.2656899  0.02999305\n",
       "3  cibersort.regular.cardiac_muscle aCM          0.2754309  0.02286548\n",
       "58 cibersort.regular.cardiac_neuron EC           0.5736864  0.03846070\n",
       "   ci2         pval       \n",
       "2   0.81806314 0.002022455\n",
       "19 -0.07485162 0.015563674\n",
       "60 -0.05486484 0.016525461\n",
       "16  0.50138667 0.027456130\n",
       "3   0.52799631 0.033130287\n",
       "58  1.10891212 0.036677160"
      ]
     },
     "metadata": {},
     "output_type": "display_data"
    }
   ],
   "source": [
    "head(tests_gene[order(tests_gene$pval),])\n",
    "head(tests_isof[order(tests_isof$pval),])\n"
   ]
  },
  {
   "cell_type": "code",
   "execution_count": 25,
   "metadata": {},
   "outputs": [
    {
     "data": {
      "text/html": [
       "<table>\n",
       "<caption>A data.frame: 72 × 6</caption>\n",
       "<thead>\n",
       "\t<tr><th scope=col>cell_eqtl</th><th scope=col>cell_snatac</th><th scope=col>estimate</th><th scope=col>ci1</th><th scope=col>ci2</th><th scope=col>pval</th></tr>\n",
       "\t<tr><th scope=col>&lt;chr&gt;</th><th scope=col>&lt;chr&gt;</th><th scope=col>&lt;dbl&gt;</th><th scope=col>&lt;dbl&gt;</th><th scope=col>&lt;dbl&gt;</th><th scope=col>&lt;dbl&gt;</th></tr>\n",
       "</thead>\n",
       "<tbody>\n",
       "\t<tr><td>cibersort.regular.cardiac_muscle</td><td>FB </td><td>-0.25532904</td><td>-0.33441236</td><td>-0.176245718</td><td>6.423617e-10</td></tr>\n",
       "\t<tr><td>cibersort.regular.cardiac_muscle</td><td>vCM</td><td> 0.48638024</td><td> 0.36448094</td><td> 0.608279544</td><td>4.763539e-14</td></tr>\n",
       "\t<tr><td>cibersort.regular.cardiac_muscle</td><td>aCM</td><td> 0.36997311</td><td> 0.24662724</td><td> 0.493318975</td><td>8.357681e-09</td></tr>\n",
       "\t<tr><td>cibersort.regular.cardiac_muscle</td><td>EC </td><td>-0.01033020</td><td>-0.10411659</td><td> 0.083456186</td><td>8.286419e-01</td></tr>\n",
       "\t<tr><td>cibersort.regular.cardiac_muscle</td><td>SM </td><td>-0.08815168</td><td>-0.18106536</td><td> 0.004762005</td><td>6.288574e-02</td></tr>\n",
       "\t<tr><td>cibersort.regular.cardiac_muscle</td><td>MAC</td><td>-0.35382159</td><td>-0.43637194</td><td>-0.271271244</td><td>8.131272e-16</td></tr>\n",
       "\t<tr><td>cibersort.regular.cardiac_muscle</td><td>LC </td><td> 0.05664873</td><td>-0.07704935</td><td> 0.190346819</td><td>4.052728e-01</td></tr>\n",
       "\t<tr><td>cibersort.regular.cardiac_muscle</td><td>AD </td><td>-0.13855234</td><td>-0.23782324</td><td>-0.039281442</td><td>6.357131e-03</td></tr>\n",
       "\t<tr><td>cibersort.regular.cardiac_muscle</td><td>NR </td><td>-0.06681723</td><td>-0.17795141</td><td> 0.044316945</td><td>2.378545e-01</td></tr>\n",
       "\t<tr><td>cibersort.regular.smooth_muscle </td><td>FB </td><td> 0.06972177</td><td>-0.02542132</td><td> 0.164864854</td><td>1.504157e-01</td></tr>\n",
       "\t<tr><td>cibersort.regular.smooth_muscle </td><td>vCM</td><td>-0.01137976</td><td>-0.13224840</td><td> 0.109488877</td><td>8.532114e-01</td></tr>\n",
       "\t<tr><td>cibersort.regular.smooth_muscle </td><td>aCM</td><td>-0.10188445</td><td>-0.21101443</td><td> 0.007245516</td><td>6.718054e-02</td></tr>\n",
       "\t<tr><td>cibersort.regular.smooth_muscle </td><td>EC </td><td> 0.05034841</td><td>-0.04866749</td><td> 0.149364309</td><td>3.179864e-01</td></tr>\n",
       "\t<tr><td>cibersort.regular.smooth_muscle </td><td>SM </td><td> 0.12656198</td><td> 0.02468410</td><td> 0.228439849</td><td>1.504405e-02</td></tr>\n",
       "\t<tr><td>cibersort.regular.smooth_muscle </td><td>MAC</td><td>-0.07392801</td><td>-0.18455671</td><td> 0.036700689</td><td>1.896218e-01</td></tr>\n",
       "\t<tr><td>cibersort.regular.smooth_muscle </td><td>LC </td><td> 0.17998909</td><td> 0.04397290</td><td> 0.316005283</td><td>9.641921e-03</td></tr>\n",
       "\t<tr><td>cibersort.regular.smooth_muscle </td><td>AD </td><td>-0.13765342</td><td>-0.23717478</td><td>-0.038132068</td><td>6.843947e-03</td></tr>\n",
       "\t<tr><td>cibersort.regular.smooth_muscle </td><td>NR </td><td>-0.10177560</td><td>-0.21083141</td><td> 0.007280220</td><td>6.728655e-02</td></tr>\n",
       "\t<tr><td>cibersort.regular.endocardial   </td><td>FB </td><td> 0.10730750</td><td>-0.15796071</td><td> 0.372575705</td><td>4.211637e-01</td></tr>\n",
       "\t<tr><td>cibersort.regular.endocardial   </td><td>vCM</td><td>-0.05977000</td><td>-0.36692615</td><td> 0.247386138</td><td>6.981529e-01</td></tr>\n",
       "\t<tr><td>cibersort.regular.endocardial   </td><td>aCM</td><td>-0.06673222</td><td>-0.36824571</td><td> 0.234781279</td><td>6.592096e-01</td></tr>\n",
       "\t<tr><td>cibersort.regular.endocardial   </td><td>EC </td><td>-0.02814874</td><td>-0.29028179</td><td> 0.233984304</td><td>8.304593e-01</td></tr>\n",
       "\t<tr><td>cibersort.regular.endocardial   </td><td>SM </td><td> 0.06668921</td><td>-0.17739508</td><td> 0.310773510</td><td>5.863271e-01</td></tr>\n",
       "\t<tr><td>cibersort.regular.endocardial   </td><td>MAC</td><td>-0.09544072</td><td>-0.34028971</td><td> 0.149408272</td><td>4.381783e-01</td></tr>\n",
       "\t<tr><td>cibersort.regular.endocardial   </td><td>LC </td><td> 0.12401194</td><td>-0.22558159</td><td> 0.473605463</td><td>4.802731e-01</td></tr>\n",
       "\t<tr><td>cibersort.regular.endocardial   </td><td>AD </td><td>-0.22089887</td><td>-0.45195733</td><td> 0.010159594</td><td>6.058468e-02</td></tr>\n",
       "\t<tr><td>cibersort.regular.endocardial   </td><td>NR </td><td> 0.17298190</td><td>-0.13833829</td><td> 0.484302093</td><td>2.704291e-01</td></tr>\n",
       "\t<tr><td>cibersort.regular.immune        </td><td>FB </td><td> 0.10327170</td><td>-0.02203935</td><td> 0.228582749</td><td>1.057399e-01</td></tr>\n",
       "\t<tr><td>cibersort.regular.immune        </td><td>vCM</td><td>-0.06140976</td><td>-0.22292705</td><td> 0.100107539</td><td>4.543725e-01</td></tr>\n",
       "\t<tr><td>cibersort.regular.immune        </td><td>aCM</td><td>-0.21769946</td><td>-0.35912095</td><td>-0.076277964</td><td>2.714402e-03</td></tr>\n",
       "\t<tr><td>⋮</td><td>⋮</td><td>⋮</td><td>⋮</td><td>⋮</td><td>⋮</td></tr>\n",
       "\t<tr><td>cibersort.regular.endothelial   </td><td>LC </td><td>-0.325643898</td><td> -1.187890299</td><td> 0.53660250</td><td>0.401490180</td></tr>\n",
       "\t<tr><td>cibersort.regular.endothelial   </td><td>AD </td><td>-0.331494325</td><td> -0.882497788</td><td> 0.21950914</td><td>0.197848399</td></tr>\n",
       "\t<tr><td>cibersort.regular.endothelial   </td><td>NR </td><td>-0.018024975</td><td> -0.966279929</td><td> 0.93022998</td><td>0.965404017</td></tr>\n",
       "\t<tr><td>cibersort.regular.fibroblast    </td><td>FB </td><td>-0.030937850</td><td> -0.166100543</td><td> 0.10422484</td><td>0.651420074</td></tr>\n",
       "\t<tr><td>cibersort.regular.fibroblast    </td><td>vCM</td><td>-0.216246653</td><td> -0.394965041</td><td>-0.03752826</td><td>0.018102705</td></tr>\n",
       "\t<tr><td>cibersort.regular.fibroblast    </td><td>aCM</td><td>-0.243595010</td><td> -0.417570426</td><td>-0.06961959</td><td>0.006425713</td></tr>\n",
       "\t<tr><td>cibersort.regular.fibroblast    </td><td>EC </td><td> 0.171628504</td><td> -0.003748083</td><td> 0.34700509</td><td>0.055025862</td></tr>\n",
       "\t<tr><td>cibersort.regular.fibroblast    </td><td>SM </td><td> 0.019449982</td><td> -0.128038445</td><td> 0.16693841</td><td>0.794583863</td></tr>\n",
       "\t<tr><td>cibersort.regular.fibroblast    </td><td>MAC</td><td> 0.118854044</td><td> -0.066813915</td><td> 0.30452200</td><td>0.207617830</td></tr>\n",
       "\t<tr><td>cibersort.regular.fibroblast    </td><td>LC </td><td> 0.383619392</td><td>  0.140890477</td><td> 0.62634831</td><td>0.002181425</td></tr>\n",
       "\t<tr><td>cibersort.regular.fibroblast    </td><td>AD </td><td> 0.019885521</td><td> -0.160456910</td><td> 0.20022795</td><td>0.827656795</td></tr>\n",
       "\t<tr><td>cibersort.regular.fibroblast    </td><td>NR </td><td>-0.222657931</td><td> -0.410959975</td><td>-0.03435589</td><td>0.020842154</td></tr>\n",
       "\t<tr><td>cibersort.regular.cardiac_neuron</td><td>FB </td><td>-0.075567102</td><td> -0.243844080</td><td> 0.09270988</td><td>0.374740161</td></tr>\n",
       "\t<tr><td>cibersort.regular.cardiac_neuron</td><td>vCM</td><td>-0.124380596</td><td> -0.339657666</td><td> 0.09089647</td><td>0.254113575</td></tr>\n",
       "\t<tr><td>cibersort.regular.cardiac_neuron</td><td>aCM</td><td>-0.097681036</td><td> -0.321837708</td><td> 0.12647564</td><td>0.388982573</td></tr>\n",
       "\t<tr><td>cibersort.regular.cardiac_neuron</td><td>EC </td><td> 0.189403595</td><td> -0.031776658</td><td> 0.41058385</td><td>0.092358417</td></tr>\n",
       "\t<tr><td>cibersort.regular.cardiac_neuron</td><td>SM </td><td>-0.008722552</td><td> -0.201930183</td><td> 0.18448508</td><td>0.928740982</td></tr>\n",
       "\t<tr><td>cibersort.regular.cardiac_neuron</td><td>MAC</td><td>-0.010724677</td><td> -0.246799000</td><td> 0.22534965</td><td>0.928295143</td></tr>\n",
       "\t<tr><td>cibersort.regular.cardiac_neuron</td><td>LC </td><td> 0.041506507</td><td> -0.202028706</td><td> 0.28504172</td><td>0.735732565</td></tr>\n",
       "\t<tr><td>cibersort.regular.cardiac_neuron</td><td>AD </td><td>-0.077388530</td><td> -0.286918119</td><td> 0.13214106</td><td>0.465043906</td></tr>\n",
       "\t<tr><td>cibersort.regular.cardiac_neuron</td><td>NR </td><td> 0.163554391</td><td> -0.090457400</td><td> 0.41756618</td><td>0.204149497</td></tr>\n",
       "\t<tr><td>cibersort.regular.myofibroblast </td><td>FB </td><td>-0.794644597</td><td> -6.399800221</td><td> 4.81051103</td><td>0.322624484</td></tr>\n",
       "\t<tr><td>cibersort.regular.myofibroblast </td><td>vCM</td><td> 0.113234935</td><td> -6.270085802</td><td> 6.49655567</td><td>0.858865843</td></tr>\n",
       "\t<tr><td>cibersort.regular.myofibroblast </td><td>aCM</td><td> 0.123817141</td><td> -6.142144110</td><td> 6.38977839</td><td>0.843395908</td></tr>\n",
       "\t<tr><td>cibersort.regular.myofibroblast </td><td>EC </td><td>-0.269888962</td><td> -1.815857977</td><td> 1.27608005</td><td>0.269629310</td></tr>\n",
       "\t<tr><td>cibersort.regular.myofibroblast </td><td>SM </td><td>-0.592431367</td><td> -3.557087613</td><td> 2.37222488</td><td>0.238850362</td></tr>\n",
       "\t<tr><td>cibersort.regular.myofibroblast </td><td>MAC</td><td> 0.839832732</td><td>-26.548860879</td><td>28.22852634</td><td>0.763481016</td></tr>\n",
       "\t<tr><td>cibersort.regular.myofibroblast </td><td>LC </td><td> 0.968442565</td><td>-14.337629213</td><td>16.27451434</td><td>0.568918400</td></tr>\n",
       "\t<tr><td>cibersort.regular.myofibroblast </td><td>AD </td><td> 0.095979590</td><td> -6.821709623</td><td> 7.01366880</td><td>0.888910214</td></tr>\n",
       "\t<tr><td>cibersort.regular.myofibroblast </td><td>NR </td><td>-0.484342039</td><td> -0.944848553</td><td>-0.02383553</td><td>0.047548767</td></tr>\n",
       "</tbody>\n",
       "</table>\n"
      ],
      "text/latex": [
       "A data.frame: 72 × 6\n",
       "\\begin{tabular}{llllll}\n",
       " cell\\_eqtl & cell\\_snatac & estimate & ci1 & ci2 & pval\\\\\n",
       " <chr> & <chr> & <dbl> & <dbl> & <dbl> & <dbl>\\\\\n",
       "\\hline\n",
       "\t cibersort.regular.cardiac\\_muscle & FB  & -0.25532904 & -0.33441236 & -0.176245718 & 6.423617e-10\\\\\n",
       "\t cibersort.regular.cardiac\\_muscle & vCM &  0.48638024 &  0.36448094 &  0.608279544 & 4.763539e-14\\\\\n",
       "\t cibersort.regular.cardiac\\_muscle & aCM &  0.36997311 &  0.24662724 &  0.493318975 & 8.357681e-09\\\\\n",
       "\t cibersort.regular.cardiac\\_muscle & EC  & -0.01033020 & -0.10411659 &  0.083456186 & 8.286419e-01\\\\\n",
       "\t cibersort.regular.cardiac\\_muscle & SM  & -0.08815168 & -0.18106536 &  0.004762005 & 6.288574e-02\\\\\n",
       "\t cibersort.regular.cardiac\\_muscle & MAC & -0.35382159 & -0.43637194 & -0.271271244 & 8.131272e-16\\\\\n",
       "\t cibersort.regular.cardiac\\_muscle & LC  &  0.05664873 & -0.07704935 &  0.190346819 & 4.052728e-01\\\\\n",
       "\t cibersort.regular.cardiac\\_muscle & AD  & -0.13855234 & -0.23782324 & -0.039281442 & 6.357131e-03\\\\\n",
       "\t cibersort.regular.cardiac\\_muscle & NR  & -0.06681723 & -0.17795141 &  0.044316945 & 2.378545e-01\\\\\n",
       "\t cibersort.regular.smooth\\_muscle  & FB  &  0.06972177 & -0.02542132 &  0.164864854 & 1.504157e-01\\\\\n",
       "\t cibersort.regular.smooth\\_muscle  & vCM & -0.01137976 & -0.13224840 &  0.109488877 & 8.532114e-01\\\\\n",
       "\t cibersort.regular.smooth\\_muscle  & aCM & -0.10188445 & -0.21101443 &  0.007245516 & 6.718054e-02\\\\\n",
       "\t cibersort.regular.smooth\\_muscle  & EC  &  0.05034841 & -0.04866749 &  0.149364309 & 3.179864e-01\\\\\n",
       "\t cibersort.regular.smooth\\_muscle  & SM  &  0.12656198 &  0.02468410 &  0.228439849 & 1.504405e-02\\\\\n",
       "\t cibersort.regular.smooth\\_muscle  & MAC & -0.07392801 & -0.18455671 &  0.036700689 & 1.896218e-01\\\\\n",
       "\t cibersort.regular.smooth\\_muscle  & LC  &  0.17998909 &  0.04397290 &  0.316005283 & 9.641921e-03\\\\\n",
       "\t cibersort.regular.smooth\\_muscle  & AD  & -0.13765342 & -0.23717478 & -0.038132068 & 6.843947e-03\\\\\n",
       "\t cibersort.regular.smooth\\_muscle  & NR  & -0.10177560 & -0.21083141 &  0.007280220 & 6.728655e-02\\\\\n",
       "\t cibersort.regular.endocardial    & FB  &  0.10730750 & -0.15796071 &  0.372575705 & 4.211637e-01\\\\\n",
       "\t cibersort.regular.endocardial    & vCM & -0.05977000 & -0.36692615 &  0.247386138 & 6.981529e-01\\\\\n",
       "\t cibersort.regular.endocardial    & aCM & -0.06673222 & -0.36824571 &  0.234781279 & 6.592096e-01\\\\\n",
       "\t cibersort.regular.endocardial    & EC  & -0.02814874 & -0.29028179 &  0.233984304 & 8.304593e-01\\\\\n",
       "\t cibersort.regular.endocardial    & SM  &  0.06668921 & -0.17739508 &  0.310773510 & 5.863271e-01\\\\\n",
       "\t cibersort.regular.endocardial    & MAC & -0.09544072 & -0.34028971 &  0.149408272 & 4.381783e-01\\\\\n",
       "\t cibersort.regular.endocardial    & LC  &  0.12401194 & -0.22558159 &  0.473605463 & 4.802731e-01\\\\\n",
       "\t cibersort.regular.endocardial    & AD  & -0.22089887 & -0.45195733 &  0.010159594 & 6.058468e-02\\\\\n",
       "\t cibersort.regular.endocardial    & NR  &  0.17298190 & -0.13833829 &  0.484302093 & 2.704291e-01\\\\\n",
       "\t cibersort.regular.immune         & FB  &  0.10327170 & -0.02203935 &  0.228582749 & 1.057399e-01\\\\\n",
       "\t cibersort.regular.immune         & vCM & -0.06140976 & -0.22292705 &  0.100107539 & 4.543725e-01\\\\\n",
       "\t cibersort.regular.immune         & aCM & -0.21769946 & -0.35912095 & -0.076277964 & 2.714402e-03\\\\\n",
       "\t ⋮ & ⋮ & ⋮ & ⋮ & ⋮ & ⋮\\\\\n",
       "\t cibersort.regular.endothelial    & LC  & -0.325643898 &  -1.187890299 &  0.53660250 & 0.401490180\\\\\n",
       "\t cibersort.regular.endothelial    & AD  & -0.331494325 &  -0.882497788 &  0.21950914 & 0.197848399\\\\\n",
       "\t cibersort.regular.endothelial    & NR  & -0.018024975 &  -0.966279929 &  0.93022998 & 0.965404017\\\\\n",
       "\t cibersort.regular.fibroblast     & FB  & -0.030937850 &  -0.166100543 &  0.10422484 & 0.651420074\\\\\n",
       "\t cibersort.regular.fibroblast     & vCM & -0.216246653 &  -0.394965041 & -0.03752826 & 0.018102705\\\\\n",
       "\t cibersort.regular.fibroblast     & aCM & -0.243595010 &  -0.417570426 & -0.06961959 & 0.006425713\\\\\n",
       "\t cibersort.regular.fibroblast     & EC  &  0.171628504 &  -0.003748083 &  0.34700509 & 0.055025862\\\\\n",
       "\t cibersort.regular.fibroblast     & SM  &  0.019449982 &  -0.128038445 &  0.16693841 & 0.794583863\\\\\n",
       "\t cibersort.regular.fibroblast     & MAC &  0.118854044 &  -0.066813915 &  0.30452200 & 0.207617830\\\\\n",
       "\t cibersort.regular.fibroblast     & LC  &  0.383619392 &   0.140890477 &  0.62634831 & 0.002181425\\\\\n",
       "\t cibersort.regular.fibroblast     & AD  &  0.019885521 &  -0.160456910 &  0.20022795 & 0.827656795\\\\\n",
       "\t cibersort.regular.fibroblast     & NR  & -0.222657931 &  -0.410959975 & -0.03435589 & 0.020842154\\\\\n",
       "\t cibersort.regular.cardiac\\_neuron & FB  & -0.075567102 &  -0.243844080 &  0.09270988 & 0.374740161\\\\\n",
       "\t cibersort.regular.cardiac\\_neuron & vCM & -0.124380596 &  -0.339657666 &  0.09089647 & 0.254113575\\\\\n",
       "\t cibersort.regular.cardiac\\_neuron & aCM & -0.097681036 &  -0.321837708 &  0.12647564 & 0.388982573\\\\\n",
       "\t cibersort.regular.cardiac\\_neuron & EC  &  0.189403595 &  -0.031776658 &  0.41058385 & 0.092358417\\\\\n",
       "\t cibersort.regular.cardiac\\_neuron & SM  & -0.008722552 &  -0.201930183 &  0.18448508 & 0.928740982\\\\\n",
       "\t cibersort.regular.cardiac\\_neuron & MAC & -0.010724677 &  -0.246799000 &  0.22534965 & 0.928295143\\\\\n",
       "\t cibersort.regular.cardiac\\_neuron & LC  &  0.041506507 &  -0.202028706 &  0.28504172 & 0.735732565\\\\\n",
       "\t cibersort.regular.cardiac\\_neuron & AD  & -0.077388530 &  -0.286918119 &  0.13214106 & 0.465043906\\\\\n",
       "\t cibersort.regular.cardiac\\_neuron & NR  &  0.163554391 &  -0.090457400 &  0.41756618 & 0.204149497\\\\\n",
       "\t cibersort.regular.myofibroblast  & FB  & -0.794644597 &  -6.399800221 &  4.81051103 & 0.322624484\\\\\n",
       "\t cibersort.regular.myofibroblast  & vCM &  0.113234935 &  -6.270085802 &  6.49655567 & 0.858865843\\\\\n",
       "\t cibersort.regular.myofibroblast  & aCM &  0.123817141 &  -6.142144110 &  6.38977839 & 0.843395908\\\\\n",
       "\t cibersort.regular.myofibroblast  & EC  & -0.269888962 &  -1.815857977 &  1.27608005 & 0.269629310\\\\\n",
       "\t cibersort.regular.myofibroblast  & SM  & -0.592431367 &  -3.557087613 &  2.37222488 & 0.238850362\\\\\n",
       "\t cibersort.regular.myofibroblast  & MAC &  0.839832732 & -26.548860879 & 28.22852634 & 0.763481016\\\\\n",
       "\t cibersort.regular.myofibroblast  & LC  &  0.968442565 & -14.337629213 & 16.27451434 & 0.568918400\\\\\n",
       "\t cibersort.regular.myofibroblast  & AD  &  0.095979590 &  -6.821709623 &  7.01366880 & 0.888910214\\\\\n",
       "\t cibersort.regular.myofibroblast  & NR  & -0.484342039 &  -0.944848553 & -0.02383553 & 0.047548767\\\\\n",
       "\\end{tabular}\n"
      ],
      "text/markdown": [
       "\n",
       "A data.frame: 72 × 6\n",
       "\n",
       "| cell_eqtl &lt;chr&gt; | cell_snatac &lt;chr&gt; | estimate &lt;dbl&gt; | ci1 &lt;dbl&gt; | ci2 &lt;dbl&gt; | pval &lt;dbl&gt; |\n",
       "|---|---|---|---|---|---|\n",
       "| cibersort.regular.cardiac_muscle | FB  | -0.25532904 | -0.33441236 | -0.176245718 | 6.423617e-10 |\n",
       "| cibersort.regular.cardiac_muscle | vCM |  0.48638024 |  0.36448094 |  0.608279544 | 4.763539e-14 |\n",
       "| cibersort.regular.cardiac_muscle | aCM |  0.36997311 |  0.24662724 |  0.493318975 | 8.357681e-09 |\n",
       "| cibersort.regular.cardiac_muscle | EC  | -0.01033020 | -0.10411659 |  0.083456186 | 8.286419e-01 |\n",
       "| cibersort.regular.cardiac_muscle | SM  | -0.08815168 | -0.18106536 |  0.004762005 | 6.288574e-02 |\n",
       "| cibersort.regular.cardiac_muscle | MAC | -0.35382159 | -0.43637194 | -0.271271244 | 8.131272e-16 |\n",
       "| cibersort.regular.cardiac_muscle | LC  |  0.05664873 | -0.07704935 |  0.190346819 | 4.052728e-01 |\n",
       "| cibersort.regular.cardiac_muscle | AD  | -0.13855234 | -0.23782324 | -0.039281442 | 6.357131e-03 |\n",
       "| cibersort.regular.cardiac_muscle | NR  | -0.06681723 | -0.17795141 |  0.044316945 | 2.378545e-01 |\n",
       "| cibersort.regular.smooth_muscle  | FB  |  0.06972177 | -0.02542132 |  0.164864854 | 1.504157e-01 |\n",
       "| cibersort.regular.smooth_muscle  | vCM | -0.01137976 | -0.13224840 |  0.109488877 | 8.532114e-01 |\n",
       "| cibersort.regular.smooth_muscle  | aCM | -0.10188445 | -0.21101443 |  0.007245516 | 6.718054e-02 |\n",
       "| cibersort.regular.smooth_muscle  | EC  |  0.05034841 | -0.04866749 |  0.149364309 | 3.179864e-01 |\n",
       "| cibersort.regular.smooth_muscle  | SM  |  0.12656198 |  0.02468410 |  0.228439849 | 1.504405e-02 |\n",
       "| cibersort.regular.smooth_muscle  | MAC | -0.07392801 | -0.18455671 |  0.036700689 | 1.896218e-01 |\n",
       "| cibersort.regular.smooth_muscle  | LC  |  0.17998909 |  0.04397290 |  0.316005283 | 9.641921e-03 |\n",
       "| cibersort.regular.smooth_muscle  | AD  | -0.13765342 | -0.23717478 | -0.038132068 | 6.843947e-03 |\n",
       "| cibersort.regular.smooth_muscle  | NR  | -0.10177560 | -0.21083141 |  0.007280220 | 6.728655e-02 |\n",
       "| cibersort.regular.endocardial    | FB  |  0.10730750 | -0.15796071 |  0.372575705 | 4.211637e-01 |\n",
       "| cibersort.regular.endocardial    | vCM | -0.05977000 | -0.36692615 |  0.247386138 | 6.981529e-01 |\n",
       "| cibersort.regular.endocardial    | aCM | -0.06673222 | -0.36824571 |  0.234781279 | 6.592096e-01 |\n",
       "| cibersort.regular.endocardial    | EC  | -0.02814874 | -0.29028179 |  0.233984304 | 8.304593e-01 |\n",
       "| cibersort.regular.endocardial    | SM  |  0.06668921 | -0.17739508 |  0.310773510 | 5.863271e-01 |\n",
       "| cibersort.regular.endocardial    | MAC | -0.09544072 | -0.34028971 |  0.149408272 | 4.381783e-01 |\n",
       "| cibersort.regular.endocardial    | LC  |  0.12401194 | -0.22558159 |  0.473605463 | 4.802731e-01 |\n",
       "| cibersort.regular.endocardial    | AD  | -0.22089887 | -0.45195733 |  0.010159594 | 6.058468e-02 |\n",
       "| cibersort.regular.endocardial    | NR  |  0.17298190 | -0.13833829 |  0.484302093 | 2.704291e-01 |\n",
       "| cibersort.regular.immune         | FB  |  0.10327170 | -0.02203935 |  0.228582749 | 1.057399e-01 |\n",
       "| cibersort.regular.immune         | vCM | -0.06140976 | -0.22292705 |  0.100107539 | 4.543725e-01 |\n",
       "| cibersort.regular.immune         | aCM | -0.21769946 | -0.35912095 | -0.076277964 | 2.714402e-03 |\n",
       "| ⋮ | ⋮ | ⋮ | ⋮ | ⋮ | ⋮ |\n",
       "| cibersort.regular.endothelial    | LC  | -0.325643898 |  -1.187890299 |  0.53660250 | 0.401490180 |\n",
       "| cibersort.regular.endothelial    | AD  | -0.331494325 |  -0.882497788 |  0.21950914 | 0.197848399 |\n",
       "| cibersort.regular.endothelial    | NR  | -0.018024975 |  -0.966279929 |  0.93022998 | 0.965404017 |\n",
       "| cibersort.regular.fibroblast     | FB  | -0.030937850 |  -0.166100543 |  0.10422484 | 0.651420074 |\n",
       "| cibersort.regular.fibroblast     | vCM | -0.216246653 |  -0.394965041 | -0.03752826 | 0.018102705 |\n",
       "| cibersort.regular.fibroblast     | aCM | -0.243595010 |  -0.417570426 | -0.06961959 | 0.006425713 |\n",
       "| cibersort.regular.fibroblast     | EC  |  0.171628504 |  -0.003748083 |  0.34700509 | 0.055025862 |\n",
       "| cibersort.regular.fibroblast     | SM  |  0.019449982 |  -0.128038445 |  0.16693841 | 0.794583863 |\n",
       "| cibersort.regular.fibroblast     | MAC |  0.118854044 |  -0.066813915 |  0.30452200 | 0.207617830 |\n",
       "| cibersort.regular.fibroblast     | LC  |  0.383619392 |   0.140890477 |  0.62634831 | 0.002181425 |\n",
       "| cibersort.regular.fibroblast     | AD  |  0.019885521 |  -0.160456910 |  0.20022795 | 0.827656795 |\n",
       "| cibersort.regular.fibroblast     | NR  | -0.222657931 |  -0.410959975 | -0.03435589 | 0.020842154 |\n",
       "| cibersort.regular.cardiac_neuron | FB  | -0.075567102 |  -0.243844080 |  0.09270988 | 0.374740161 |\n",
       "| cibersort.regular.cardiac_neuron | vCM | -0.124380596 |  -0.339657666 |  0.09089647 | 0.254113575 |\n",
       "| cibersort.regular.cardiac_neuron | aCM | -0.097681036 |  -0.321837708 |  0.12647564 | 0.388982573 |\n",
       "| cibersort.regular.cardiac_neuron | EC  |  0.189403595 |  -0.031776658 |  0.41058385 | 0.092358417 |\n",
       "| cibersort.regular.cardiac_neuron | SM  | -0.008722552 |  -0.201930183 |  0.18448508 | 0.928740982 |\n",
       "| cibersort.regular.cardiac_neuron | MAC | -0.010724677 |  -0.246799000 |  0.22534965 | 0.928295143 |\n",
       "| cibersort.regular.cardiac_neuron | LC  |  0.041506507 |  -0.202028706 |  0.28504172 | 0.735732565 |\n",
       "| cibersort.regular.cardiac_neuron | AD  | -0.077388530 |  -0.286918119 |  0.13214106 | 0.465043906 |\n",
       "| cibersort.regular.cardiac_neuron | NR  |  0.163554391 |  -0.090457400 |  0.41756618 | 0.204149497 |\n",
       "| cibersort.regular.myofibroblast  | FB  | -0.794644597 |  -6.399800221 |  4.81051103 | 0.322624484 |\n",
       "| cibersort.regular.myofibroblast  | vCM |  0.113234935 |  -6.270085802 |  6.49655567 | 0.858865843 |\n",
       "| cibersort.regular.myofibroblast  | aCM |  0.123817141 |  -6.142144110 |  6.38977839 | 0.843395908 |\n",
       "| cibersort.regular.myofibroblast  | EC  | -0.269888962 |  -1.815857977 |  1.27608005 | 0.269629310 |\n",
       "| cibersort.regular.myofibroblast  | SM  | -0.592431367 |  -3.557087613 |  2.37222488 | 0.238850362 |\n",
       "| cibersort.regular.myofibroblast  | MAC |  0.839832732 | -26.548860879 | 28.22852634 | 0.763481016 |\n",
       "| cibersort.regular.myofibroblast  | LC  |  0.968442565 | -14.337629213 | 16.27451434 | 0.568918400 |\n",
       "| cibersort.regular.myofibroblast  | AD  |  0.095979590 |  -6.821709623 |  7.01366880 | 0.888910214 |\n",
       "| cibersort.regular.myofibroblast  | NR  | -0.484342039 |  -0.944848553 | -0.02383553 | 0.047548767 |\n",
       "\n"
      ],
      "text/plain": [
       "   cell_eqtl                        cell_snatac estimate     ci1          \n",
       "1  cibersort.regular.cardiac_muscle FB          -0.25532904  -0.33441236  \n",
       "2  cibersort.regular.cardiac_muscle vCM          0.48638024   0.36448094  \n",
       "3  cibersort.regular.cardiac_muscle aCM          0.36997311   0.24662724  \n",
       "4  cibersort.regular.cardiac_muscle EC          -0.01033020  -0.10411659  \n",
       "5  cibersort.regular.cardiac_muscle SM          -0.08815168  -0.18106536  \n",
       "6  cibersort.regular.cardiac_muscle MAC         -0.35382159  -0.43637194  \n",
       "7  cibersort.regular.cardiac_muscle LC           0.05664873  -0.07704935  \n",
       "8  cibersort.regular.cardiac_muscle AD          -0.13855234  -0.23782324  \n",
       "9  cibersort.regular.cardiac_muscle NR          -0.06681723  -0.17795141  \n",
       "10 cibersort.regular.smooth_muscle  FB           0.06972177  -0.02542132  \n",
       "11 cibersort.regular.smooth_muscle  vCM         -0.01137976  -0.13224840  \n",
       "12 cibersort.regular.smooth_muscle  aCM         -0.10188445  -0.21101443  \n",
       "13 cibersort.regular.smooth_muscle  EC           0.05034841  -0.04866749  \n",
       "14 cibersort.regular.smooth_muscle  SM           0.12656198   0.02468410  \n",
       "15 cibersort.regular.smooth_muscle  MAC         -0.07392801  -0.18455671  \n",
       "16 cibersort.regular.smooth_muscle  LC           0.17998909   0.04397290  \n",
       "17 cibersort.regular.smooth_muscle  AD          -0.13765342  -0.23717478  \n",
       "18 cibersort.regular.smooth_muscle  NR          -0.10177560  -0.21083141  \n",
       "19 cibersort.regular.endocardial    FB           0.10730750  -0.15796071  \n",
       "20 cibersort.regular.endocardial    vCM         -0.05977000  -0.36692615  \n",
       "21 cibersort.regular.endocardial    aCM         -0.06673222  -0.36824571  \n",
       "22 cibersort.regular.endocardial    EC          -0.02814874  -0.29028179  \n",
       "23 cibersort.regular.endocardial    SM           0.06668921  -0.17739508  \n",
       "24 cibersort.regular.endocardial    MAC         -0.09544072  -0.34028971  \n",
       "25 cibersort.regular.endocardial    LC           0.12401194  -0.22558159  \n",
       "26 cibersort.regular.endocardial    AD          -0.22089887  -0.45195733  \n",
       "27 cibersort.regular.endocardial    NR           0.17298190  -0.13833829  \n",
       "28 cibersort.regular.immune         FB           0.10327170  -0.02203935  \n",
       "29 cibersort.regular.immune         vCM         -0.06140976  -0.22292705  \n",
       "30 cibersort.regular.immune         aCM         -0.21769946  -0.35912095  \n",
       "⋮  ⋮                                ⋮           ⋮            ⋮            \n",
       "43 cibersort.regular.endothelial    LC          -0.325643898  -1.187890299\n",
       "44 cibersort.regular.endothelial    AD          -0.331494325  -0.882497788\n",
       "45 cibersort.regular.endothelial    NR          -0.018024975  -0.966279929\n",
       "46 cibersort.regular.fibroblast     FB          -0.030937850  -0.166100543\n",
       "47 cibersort.regular.fibroblast     vCM         -0.216246653  -0.394965041\n",
       "48 cibersort.regular.fibroblast     aCM         -0.243595010  -0.417570426\n",
       "49 cibersort.regular.fibroblast     EC           0.171628504  -0.003748083\n",
       "50 cibersort.regular.fibroblast     SM           0.019449982  -0.128038445\n",
       "51 cibersort.regular.fibroblast     MAC          0.118854044  -0.066813915\n",
       "52 cibersort.regular.fibroblast     LC           0.383619392   0.140890477\n",
       "53 cibersort.regular.fibroblast     AD           0.019885521  -0.160456910\n",
       "54 cibersort.regular.fibroblast     NR          -0.222657931  -0.410959975\n",
       "55 cibersort.regular.cardiac_neuron FB          -0.075567102  -0.243844080\n",
       "56 cibersort.regular.cardiac_neuron vCM         -0.124380596  -0.339657666\n",
       "57 cibersort.regular.cardiac_neuron aCM         -0.097681036  -0.321837708\n",
       "58 cibersort.regular.cardiac_neuron EC           0.189403595  -0.031776658\n",
       "59 cibersort.regular.cardiac_neuron SM          -0.008722552  -0.201930183\n",
       "60 cibersort.regular.cardiac_neuron MAC         -0.010724677  -0.246799000\n",
       "61 cibersort.regular.cardiac_neuron LC           0.041506507  -0.202028706\n",
       "62 cibersort.regular.cardiac_neuron AD          -0.077388530  -0.286918119\n",
       "63 cibersort.regular.cardiac_neuron NR           0.163554391  -0.090457400\n",
       "64 cibersort.regular.myofibroblast  FB          -0.794644597  -6.399800221\n",
       "65 cibersort.regular.myofibroblast  vCM          0.113234935  -6.270085802\n",
       "66 cibersort.regular.myofibroblast  aCM          0.123817141  -6.142144110\n",
       "67 cibersort.regular.myofibroblast  EC          -0.269888962  -1.815857977\n",
       "68 cibersort.regular.myofibroblast  SM          -0.592431367  -3.557087613\n",
       "69 cibersort.regular.myofibroblast  MAC          0.839832732 -26.548860879\n",
       "70 cibersort.regular.myofibroblast  LC           0.968442565 -14.337629213\n",
       "71 cibersort.regular.myofibroblast  AD           0.095979590  -6.821709623\n",
       "72 cibersort.regular.myofibroblast  NR          -0.484342039  -0.944848553\n",
       "   ci2          pval        \n",
       "1  -0.176245718 6.423617e-10\n",
       "2   0.608279544 4.763539e-14\n",
       "3   0.493318975 8.357681e-09\n",
       "4   0.083456186 8.286419e-01\n",
       "5   0.004762005 6.288574e-02\n",
       "6  -0.271271244 8.131272e-16\n",
       "7   0.190346819 4.052728e-01\n",
       "8  -0.039281442 6.357131e-03\n",
       "9   0.044316945 2.378545e-01\n",
       "10  0.164864854 1.504157e-01\n",
       "11  0.109488877 8.532114e-01\n",
       "12  0.007245516 6.718054e-02\n",
       "13  0.149364309 3.179864e-01\n",
       "14  0.228439849 1.504405e-02\n",
       "15  0.036700689 1.896218e-01\n",
       "16  0.316005283 9.641921e-03\n",
       "17 -0.038132068 6.843947e-03\n",
       "18  0.007280220 6.728655e-02\n",
       "19  0.372575705 4.211637e-01\n",
       "20  0.247386138 6.981529e-01\n",
       "21  0.234781279 6.592096e-01\n",
       "22  0.233984304 8.304593e-01\n",
       "23  0.310773510 5.863271e-01\n",
       "24  0.149408272 4.381783e-01\n",
       "25  0.473605463 4.802731e-01\n",
       "26  0.010159594 6.058468e-02\n",
       "27  0.484302093 2.704291e-01\n",
       "28  0.228582749 1.057399e-01\n",
       "29  0.100107539 4.543725e-01\n",
       "30 -0.076277964 2.714402e-03\n",
       "⋮  ⋮            ⋮           \n",
       "43  0.53660250  0.401490180 \n",
       "44  0.21950914  0.197848399 \n",
       "45  0.93022998  0.965404017 \n",
       "46  0.10422484  0.651420074 \n",
       "47 -0.03752826  0.018102705 \n",
       "48 -0.06961959  0.006425713 \n",
       "49  0.34700509  0.055025862 \n",
       "50  0.16693841  0.794583863 \n",
       "51  0.30452200  0.207617830 \n",
       "52  0.62634831  0.002181425 \n",
       "53  0.20022795  0.827656795 \n",
       "54 -0.03435589  0.020842154 \n",
       "55  0.09270988  0.374740161 \n",
       "56  0.09089647  0.254113575 \n",
       "57  0.12647564  0.388982573 \n",
       "58  0.41058385  0.092358417 \n",
       "59  0.18448508  0.928740982 \n",
       "60  0.22534965  0.928295143 \n",
       "61  0.28504172  0.735732565 \n",
       "62  0.13214106  0.465043906 \n",
       "63  0.41756618  0.204149497 \n",
       "64  4.81051103  0.322624484 \n",
       "65  6.49655567  0.858865843 \n",
       "66  6.38977839  0.843395908 \n",
       "67  1.27608005  0.269629310 \n",
       "68  2.37222488  0.238850362 \n",
       "69 28.22852634  0.763481016 \n",
       "70 16.27451434  0.568918400 \n",
       "71  7.01366880  0.888910214 \n",
       "72 -0.02383553  0.047548767 "
      ]
     },
     "metadata": {},
     "output_type": "display_data"
    }
   ],
   "source": [
    "tests_gene"
   ]
  },
  {
   "cell_type": "code",
   "execution_count": 28,
   "metadata": {},
   "outputs": [],
   "source": [
    "fwrite(tests_gene  , \"pipeline/eqtl.1.cell_type_validation/tests.gene.txt\"   , sep = \"\\t\", col.names = TRUE, row.names = FALSE)\n",
    "fwrite(tests_isof  , \"pipeline/eqtl.1.cell_type_validation/tests.isoform.txt\", sep = \"\\t\", col.names = TRUE, row.names = FALSE)\n",
    "fwrite(cells_snatac, \"pipeline/eqtl.1.cell_type_validation/cells_snatac.txt \", sep = \"\\t\", col.names = TRUE, row.names = FALSE)\n"
   ]
  },
  {
   "cell_type": "markdown",
   "metadata": {},
   "source": [
    "# NOT working"
   ]
  },
  {
   "cell_type": "code",
   "execution_count": null,
   "metadata": {},
   "outputs": [],
   "source": [
    "calculate_eqtl2cell = function(x, cs, phenotype)\n",
    "{\n",
    "    eqtl2cell         = qtl_list[[\"interactions\"]][[phenotype]]\n",
    "    eqtls             = qtl_list[[\"qtl\"         ]][[phenotype]]\n",
    "    eqtl2cell$tr2type = paste(eqtl2cell$transcript_id, eqtl2cell$type)\n",
    "    out               = unique(eqtl2cell[,c(\"transcript_id\", \"type\", \"tr2type\")])\n",
    "    \n",
    "    for(cell in sort(unique(eqtl2cell$interaction)))\n",
    "    {\n",
    "        mycol = paste(\"eqtl\", cell, sep = \".\")\n",
    "        out[,mycol] = 0\n",
    "        \n",
    "        out[ out$tr2type %in% eqtl2cell[ eqtl2cell$interaction == cell & eqtl2cell$cell == TRUE, \"tr2type\"], mycol] = 1\n",
    "    }\n",
    "    \n",
    "    for(cell in cells_snatac$cell_type)\n",
    "    {\n",
    "        mycol = paste(\"snatac\", cell, sep = \".\")\n",
    "        out[,mycol] = 0\n",
    "        \n",
    "        in_cell  = x[ x$coord %in% cts[ cts$cell_type == cell, \"coord\"], \"id\"]\n",
    "        tr2types = unique(cs[ cs$id %in% in_cell, \"tr2type\"])\n",
    "        \n",
    "        out[ out$tr2type %in% tr2types, mycol] = 1\n",
    "    }\n",
    "    return(out)\n",
    "}\n",
    "\n",
    "eqtl2cell_gene = calculate_eqtl2cell(int_gene, cs_gene, \"rna\"    )\n",
    "eqtl2cell_isof = calculate_eqtl2cell(int_isof, cs_isof, \"isoform\")\n"
   ]
  },
  {
   "cell_type": "code",
   "execution_count": null,
   "metadata": {},
   "outputs": [],
   "source": [
    "correlation_cells = function(totest)\n",
    "{\n",
    "    out = as.data.frame(matrix(0, nrow = nrow(cells_eqtl), ncol = nrow(cells_snatac), dimnames = list(cells_eqtl$cell_type, cells_snatac$cell_type)))\n",
    "    \n",
    "    for(cell1 in cells_eqtl$cell_type)\n",
    "    {\n",
    "        for(cell2 in cells_snatac$cell_type)\n",
    "        {\n",
    "            out[cell1, cell2] = nrow(totest[ totest[, paste(\"eqtl\", cell1, sep = \".\")] == 1 & totest[, paste(\"snatac\", cell2, sep = \".\")] == 1, ]) / nrow(totest[ totest[, paste(\"eqtl\", cell1, sep = \".\")] == 1 | totest[, paste(\"snatac\", cell2, sep = \".\")] == 1, ])\n",
    "            #out[cell1, cell2] = nrow(totest[ totest[, paste(\"eqtl\", cell1, sep = \".\")] == 1 & totest[, paste(\"snatac\", cell2, sep = \".\")] == 1, ]) / nrow(totest[ totest[, paste(\"eqtl\", cell1, sep = \".\")] == 1, ])\n",
    "        }    \n",
    "    }\n",
    "    return(out)\n",
    "}\n",
    "\n",
    "cor_gene = correlation_cells(eqtl2cell_gene)\n"
   ]
  },
  {
   "cell_type": "code",
   "execution_count": null,
   "metadata": {},
   "outputs": [],
   "source": [
    "cor_gene\n",
    "\n",
    "colSums(eqtl2cell_gene[, c(paste(\"eqtl\", cells_eqtl$cell_type, sep = \".\"), paste(\"snatac\", cells_snatac$cell_type, sep = \".\"))])"
   ]
  },
  {
   "cell_type": "code",
   "execution_count": null,
   "metadata": {},
   "outputs": [],
   "source": [
    "correlation_cells = function(phenotype, qtl_list, int_data, eqtl2cell)\n",
    "{\n",
    "    x       = qtl_list[[\"interactions\"]][[phenotype]]\n",
    "    x       = merge(x, eqtl2cell, by = c(\"transcript_id\", \"type\"))\n",
    "    x$delta = abs(x$beta_1 - x$beta_0)\n",
    "    \n",
    "    out = as.data.frame(rbindlist(lapply(cells_eqtl$cell_type, function(cell1)\n",
    "    {\n",
    "        totest = x[ x$interaction == cell1, ]\n",
    "        as.data.frame(rbindlist(lapply(cells_snatac$cell_type, function(cell2)\n",
    "        {\n",
    "            if(nrow(totest[totest[, paste(\"snatac\", cell2, sep = \".\")] == 1, ]) >= 2)\n",
    "            {\n",
    "                test = t.test(totest[totest[, paste(\"snatac\", cell2, sep = \".\")] == 1, \"delta\"], totest[totest[, paste(\"snatac\", cell2, sep = \".\")] == 0, \"delta\"])\n",
    "                #test = t.test(abs(totest[totest[, paste(\"snatac\", cell2, sep = \".\")] == 1, \"beta_1\"]), abs(totest[totest[, paste(\"snatac\", cell2, sep = \".\")] == 0, \"beta_1\"]))\n",
    "\n",
    "                return(data.frame(cell_eqtl   = cell1, \n",
    "                                  cell_snatac = cell2, \n",
    "                                  estimate1   = test$estimate[[1]],\n",
    "                                  estimate2   = test$estimate[[2]],\n",
    "                                  ci1         = test$conf.int[[1]],\n",
    "                                  ci2         = test$conf.int[[2]],\n",
    "                                  pval        = test$p.value\n",
    "                                 ))\n",
    "            }else\n",
    "            {\n",
    "                return(data.frame(cell_eqtl   = cell1, \n",
    "                                  cell_snatac = cell2, \n",
    "                                  estimate1   = NA,\n",
    "                                  estimate2   = NA,\n",
    "                                  ci1         = NA,\n",
    "                                  ci2         = NA,\n",
    "                                  pval        = 1\n",
    "                                 ))\n",
    "            }\n",
    "        })), stringsAsFactors = FALSE)\n",
    "    })), stringsAsFactors = FALSE)\n",
    "    return(out)\n",
    "}\n",
    "\n",
    "cor_gene = correlation_cells(\"rna\", qtl_list, int_gene, eqtl2cell_gene)\n"
   ]
  },
  {
   "cell_type": "code",
   "execution_count": null,
   "metadata": {},
   "outputs": [],
   "source": [
    "cor_gene"
   ]
  },
  {
   "cell_type": "code",
   "execution_count": null,
   "metadata": {},
   "outputs": [],
   "source": [
    "x = qtl_list$interactions$rna\n",
    "\n",
    "hist(abs(x[ x$cell == TRUE , \"beta_1\"] - x[ x$cell == TRUE , \"beta_0\"]))\n",
    "hist(abs(x[ x$cell == FALSE, \"beta_1\"] - x[ x$cell == FALSE, \"beta_0\"]))\n",
    "\n"
   ]
  },
  {
   "cell_type": "markdown",
   "metadata": {},
   "source": [
    "# Overlap between cell type associated eQTLs and cell type associated ATAC-seq peaks"
   ]
  },
  {
   "cell_type": "code",
   "execution_count": null,
   "metadata": {},
   "outputs": [],
   "source": [
    "overlap_cell_types = function()"
   ]
  },
  {
   "cell_type": "code",
   "execution_count": null,
   "metadata": {},
   "outputs": [],
   "source": [
    "cells_eqtl"
   ]
  },
  {
   "cell_type": "code",
   "execution_count": null,
   "metadata": {},
   "outputs": [],
   "source": [
    "colnames(ras)"
   ]
  },
  {
   "cell_type": "code",
   "execution_count": null,
   "metadata": {},
   "outputs": [],
   "source": [
    "str(cts_hg38)\n",
    "str(cts)"
   ]
  },
  {
   "cell_type": "code",
   "execution_count": null,
   "metadata": {},
   "outputs": [],
   "source": []
  }
 ],
 "metadata": {
  "kernelspec": {
   "display_name": "R 4.0.1",
   "language": "R",
   "name": "ir401"
  },
  "language_info": {
   "codemirror_mode": "r",
   "file_extension": ".r",
   "mimetype": "text/x-r-source",
   "name": "R",
   "pygments_lexer": "r",
   "version": "4.0.1"
  }
 },
 "nbformat": 4,
 "nbformat_minor": 2
}
