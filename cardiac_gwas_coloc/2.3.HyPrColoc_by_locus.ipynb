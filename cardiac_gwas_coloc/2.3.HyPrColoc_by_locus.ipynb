{
 "cells": [
  {
   "cell_type": "code",
   "execution_count": 2,
   "metadata": {},
   "outputs": [],
   "source": [
    "library(CPBayes)"
   ]
  },
  {
   "cell_type": "markdown",
   "metadata": {},
   "source": [
    "# Perform colocalization at each locus, between each pair of traits, for all ethnicities"
   ]
  },
  {
   "cell_type": "code",
   "execution_count": 8,
   "metadata": {},
   "outputs": [],
   "source": [
    "setwd(\"/frazer01/projects/CARDIPS/analysis/cardiac_gwas_coloc\")\n",
    "\n",
    "source(\"script/functions.R\"  )\n"
   ]
  },
  {
   "cell_type": "code",
   "execution_count": 9,
   "metadata": {},
   "outputs": [],
   "source": [
    "dir.create(\"pipeline/2.1.coloc\"               , showWarnings = FALSE)\n",
    "dir.create(\"pipeline/2.1.coloc/coloc_by_locus\", showWarnings = FALSE)\n"
   ]
  },
  {
   "cell_type": "code",
   "execution_count": 10,
   "metadata": {},
   "outputs": [],
   "source": [
    "manifest   = add_rownames(fread(\"pipeline/1.1.sumstats/manifest.txt\"                     , sep = \"\\t\", header = TRUE, data.table = FALSE))\n",
    "loci       = add_rownames(fread(\"pipeline/1.2.genomewide_significant_loci/loci.txt\"      , sep = \"\\t\", header = TRUE, data.table = FALSE))\n",
    "loci2study = add_rownames(fread(\"pipeline/1.2.genomewide_significant_loci/loci2study.txt\", sep = \"\\t\", header = TRUE, data.table = FALSE))\n"
   ]
  },
  {
   "cell_type": "code",
   "execution_count": 11,
   "metadata": {},
   "outputs": [],
   "source": [
    "populations = c('meta','AFR','AMR','CSA','EAS','EUR','MID')"
   ]
  },
  {
   "cell_type": "markdown",
   "metadata": {},
   "source": [
    "# Create qsub for each locus"
   ]
  },
  {
   "cell_type": "code",
   "execution_count": 6,
   "metadata": {},
   "outputs": [],
   "source": [
    "run_qsub = function(locus)\n",
    "{\n",
    "    qsub = paste(\"qsub\", paste(getwd(), \"script\", \"2.1.coloc_by_locus.sh\", sep = \"/\"), locus)\n",
    "    \n",
    "    system(qsub)\n",
    "    \n",
    "    #message(qsub)\n",
    "}\n",
    "\n",
    "invisible(lapply(loci$locus, run_qsub))\n"
   ]
  },
  {
   "cell_type": "markdown",
   "metadata": {},
   "source": [
    "# After colocalization is done, combine all data"
   ]
  },
  {
   "cell_type": "code",
   "execution_count": 12,
   "metadata": {},
   "outputs": [],
   "source": [
    "coloc = as.data.frame(rbindlist(lapply(loci$locus, function(x)\n",
    "{\n",
    "    infile = paste0(\"pipeline/2.1.coloc/coloc_by_locus/\", x, \".txt\")\n",
    "    indata = fread(infile, sep = \"\\t\", header = TRUE, data.table = FALSE)\n",
    "    \n",
    "    return(indata)\n",
    "})), stringsAsFactors = FALSE)\n",
    "\n",
    "fwrite(coloc, \"pipeline/2.1.coloc/coloc.txt\", sep = \"\\t\", col.names = TRUE, row.names = FALSE)"
   ]
  },
  {
   "cell_type": "markdown",
   "metadata": {},
   "source": [
    "# SCRATCH:\n",
    "- Create functions to run coloc"
   ]
  },
  {
   "cell_type": "code",
   "execution_count": null,
   "metadata": {},
   "outputs": [],
   "source": [
    "suppressPackageStartupMessages(library(coloc))"
   ]
  },
  {
   "cell_type": "code",
   "execution_count": null,
   "metadata": {},
   "outputs": [],
   "source": [
    "get_gwas_data = function(coord, gwas_file)\n",
    "{\n",
    "    my_head              = colnames(fread(cmd = paste(\"zcat\", gwas_file, \"|\", \"head -n 2\"), sep = \"\\t\", header = TRUE, data.table = FALSE))\n",
    "    gwas_data            = suppressWarnings(tabix.read.table(gwas_file, coord, col.names = TRUE, stringsAsFactors = FALSE))\n",
    "    colnames(gwas_data)  = my_head\n",
    "    gwas_data$variant_id = paste(gwas_data$chr, gwas_data$pos, gwas_data$ref, gwas_data$alt, sep = \"_\")\n",
    "    rownames(gwas_data)  = gwas_data$variant_id\n",
    "    \n",
    "    return(gwas_data)\n",
    "}\n",
    "\n",
    "create_dataset = function(study, totest, variants, pop, populations, manifest)\n",
    "{\n",
    "    trait_type = manifest[study, \"trait_type\"]\n",
    "    \n",
    "    if(trait_type %in% c(\"categorical\", \"icd10\", \"phecode\"))\n",
    "    {\n",
    "        if(pop == \"meta\"){n = sum(manifest[study, paste(\"n_cases\", populations, sep = \"_\")]) + sum(manifest[study, paste(\"n_controls\", populations, sep = \"_\")])}\n",
    "        if(pop != \"meta\"){n =     manifest[study, paste(\"n_cases\", pop        , sep = \"_\")]  +     manifest[study, paste(\"n_controls\", pop        , sep = \"_\")] }\n",
    "        \n",
    "        if(pop == \"meta\"){s = sum(manifest[study, paste(\"n_cases\", populations, sep = \"_\")]) / n}\n",
    "        if(pop != \"meta\"){s =     manifest[study, paste(\"n_cases\", pop        , sep = \"_\")]  / n}\n",
    "        \n",
    "        totest  = totest[is.na(totest[,paste(\"pval\", pop, sep = \"_\")]) == FALSE & is.na(totest[,paste(\"af_controls\", pop, sep = \"_\")]) == FALSE, ]\n",
    "        dataset = list(snp = variants, pvalues = totest[variants, paste(\"pval\", pop, sep = \"_\")], N = n, s = s, MAF = totest[variants, paste(\"af_controls\", pop, sep = \"_\")], type = \"cc\")\n",
    "        \n",
    "    }else\n",
    "    {\n",
    "        if(pop == \"meta\"){n = sum(manifest[study, paste(\"n_cases\", populations, sep = \"_\")])}\n",
    "        if(pop != \"meta\"){n =     manifest[study, paste(\"n_cases\", pop        , sep = \"_\")] }\n",
    "        \n",
    "        totest  = totest[is.na(totest[,paste(\"pval\", pop, sep = \"_\")]) == FALSE & is.na(totest[,paste(\"af\", pop, sep = \"_\")]) == FALSE, ]\n",
    "        dataset = list(snp = variants, pvalues = totest[variants, paste(\"pval\", pop, sep = \"_\")], N = n, MAF = totest[variants, paste(\"af\", pop, sep = \"_\")], type = \"quant\")\n",
    "    }\n",
    "    \n",
    "    return(dataset)\n",
    "}\n",
    "\n",
    "run_coloc_by_pop = function(locus, study1, study2, pop, populations, totest1, totest2, manifest)\n",
    "{\n",
    "    trait_type1     = manifest[study1, \"trait_type\"]\n",
    "    trait_type2     = manifest[study2, \"trait_type\"]\n",
    "    \n",
    "    message(paste(trait_type1, trait_type2))\n",
    "    \n",
    "    if( trait_type1 %in% c(\"categorical\", \"icd10\", \"phecode\")){variants1  = totest1[is.na(totest1[,paste(\"pval\", pop, sep = \"_\")]) == FALSE & is.na(totest1[,paste(\"af_controls\", pop, sep = \"_\")]) == FALSE, \"variant_id\"]}\n",
    "    if( trait_type2 %in% c(\"categorical\", \"icd10\", \"phecode\")){variants2  = totest2[is.na(totest2[,paste(\"pval\", pop, sep = \"_\")]) == FALSE & is.na(totest2[,paste(\"af_controls\", pop, sep = \"_\")]) == FALSE, \"variant_id\"]}\n",
    "    if(!trait_type1 %in% c(\"categorical\", \"icd10\", \"phecode\")){variants1  = totest1[is.na(totest1[,paste(\"pval\", pop, sep = \"_\")]) == FALSE & is.na(totest1[,paste(\"af\"         , pop, sep = \"_\")]) == FALSE, \"variant_id\"]}\n",
    "    if(!trait_type2 %in% c(\"categorical\", \"icd10\", \"phecode\")){variants2  = totest2[is.na(totest2[,paste(\"pval\", pop, sep = \"_\")]) == FALSE & is.na(totest2[,paste(\"af\"         , pop, sep = \"_\")]) == FALSE, \"variant_id\"]}\n",
    "    \n",
    "    variants        = intersect(variants1, variants2)\n",
    "    \n",
    "    if(length(variants) > 100)\n",
    "    {\n",
    "    dataset1        = create_dataset(study1, totest1, variants, pop, populations[populations != \"meta\"], manifest)\n",
    "    dataset2        = create_dataset(study2, totest2, variants, pop, populations[populations != \"meta\"], manifest)\n",
    "    coloc_mapped    = coloc.abf(dataset1 = dataset2, dataset2 = dataset2) \n",
    "    probs           = as.data.frame(t(coloc_mapped$summary))\n",
    "    myres           = coloc_mapped$results\n",
    "    myres           = myres[, c(which(colnames(myres) == \"snp\"), ncol(myres))]\n",
    "    colnames(myres) = c(\"variant_id\", \"pp_snp\")\n",
    "    myres           = cbind(data.frame(locus   = locus,\n",
    "                                       study1  = study1,\n",
    "                                       study2  = study2,\n",
    "                                       pop     = pop\n",
    "                                      ) , myres)\n",
    "    myres           = myres[order(myres$pp_snp, decreasing = TRUE), ]\n",
    "    out             = cbind(probs, myres[1, ])\n",
    "    }else\n",
    "    {\n",
    "        out = data.frame(nsnps = 0, PP.H0.abf = 1, PP.H0.abf = 0, PP.H0.abf = 0, PP.H0.abf = 0, PP.H0.abf = 0, \n",
    "                         locus = locus, study1 = study1, study2 = study2, pop = pop, variant_id = \"\", pp_snp = 0\n",
    "                        )\n",
    "    }\n",
    "    \n",
    "    return(out)\n",
    "}\n",
    "\n",
    "run_coloc_gwas = function(locus, study1, study2, loci, manifest)\n",
    "{\n",
    "    chrom       = loci    [locus , \"chrom\" ]\n",
    "    from        = loci    [locus , \"from\"  ]\n",
    "    to          = loci    [locus , \"to\"    ]\n",
    "    coord       = paste0(chrom, \":\", from, \"-\", to)\n",
    "    totest1     = get_gwas_data(coord, manifest[study1, \"sumstat_file\"])\n",
    "    totest2     = get_gwas_data(coord, manifest[study2, \"sumstat_file\"])\n",
    "    populations = intersect(c(\"meta\", unlist(strsplit(manifest[study1, \"pops\"], \",\"))), c(\"meta\", unlist(strsplit(manifest[study2, \"pops\"], \",\"))))\n",
    "    out         = as.data.frame(rbindlist(lapply(populations, function(pop){run_coloc_by_pop(locus, study1, study2, pop, populations, totest1, totest2, manifest)})), stringsAsFactors = FALSE)\n",
    "    \n",
    "    return(out)\n",
    "}\n",
    "\n",
    "#ii    = 1\n",
    "#jj    = 2\n",
    "locus = \"1_965800_2544414\"\n",
    "\n",
    "id1   = \"biomarkers-30600-both_sexes-irnt\"\n",
    "id2   = \"phecode-366-both_sexes\"\n",
    "\n",
    "x = run_coloc_gwas(locus, id1, id2, loci, manifest)\n",
    "\n",
    "#out = as.data.frame(rbindlist(lapply(1:(nrow(manifest) - 1), function(ii)\n",
    "#{\n",
    "#    id1 = manifest[ii, \"id\"]\n",
    "#    return(as.data.frame(rbindlist(lapply((ii + 1):nrow(manifest), function(jj)\n",
    "#    {\n",
    "#        id2   = manifest[jj, \"id\"]\n",
    "#        \n",
    "#        return(run_coloc_gwas(locus, id1, id2, loci, manifest))\n",
    "#    })), stringsAsFactors = FALSE))\n",
    "#})), stringsAsFactors = FALSE)\n",
    "#\n",
    "#fwrite(out, paste0(\"pipeline/2.1.coloc/coloc_by_locus/\", locus, \".txt\"), sep = \"\\t\", col.names = TRUE, row.names = FALSE)\n",
    "\n",
    "\n"
   ]
  },
  {
   "cell_type": "code",
   "execution_count": null,
   "metadata": {},
   "outputs": [],
   "source": [
    "str(x)"
   ]
  },
  {
   "cell_type": "code",
   "execution_count": null,
   "metadata": {},
   "outputs": [],
   "source": [
    "sort(unique(manifest$trait_type))"
   ]
  },
  {
   "cell_type": "code",
   "execution_count": null,
   "metadata": {},
   "outputs": [],
   "source": []
  }
 ],
 "metadata": {
  "kernelspec": {
   "display_name": "R 4.0.1",
   "language": "R",
   "name": "ir401"
  },
  "language_info": {
   "codemirror_mode": "r",
   "file_extension": ".r",
   "mimetype": "text/x-r-source",
   "name": "R",
   "pygments_lexer": "r",
   "version": "4.0.1"
  }
 },
 "nbformat": 4,
 "nbformat_minor": 2
}
