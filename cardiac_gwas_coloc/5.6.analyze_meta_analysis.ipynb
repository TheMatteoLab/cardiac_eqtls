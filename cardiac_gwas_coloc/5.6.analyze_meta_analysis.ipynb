{
 "cells": [
  {
   "cell_type": "markdown",
   "metadata": {},
   "source": [
    "# Analysis of meta-analyzed data"
   ]
  },
  {
   "cell_type": "code",
   "execution_count": 1,
   "metadata": {},
   "outputs": [],
   "source": [
    "setwd(\"/frazer01/projects/CARDIPS/analysis/cardiac_gwas_coloc\")\n",
    "\n",
    "source(\"script/functions.R\"  )\n"
   ]
  },
  {
   "cell_type": "markdown",
   "metadata": {},
   "source": [
    "# Input data"
   ]
  },
  {
   "cell_type": "code",
   "execution_count": 2,
   "metadata": {},
   "outputs": [],
   "source": [
    "suppressPackageStartupMessages(library(kohonen))\n"
   ]
  },
  {
   "cell_type": "code",
   "execution_count": 3,
   "metadata": {},
   "outputs": [],
   "source": [
    "manifest   = add_rownames(fread(\"pipeline/1.1.sumstats/manifest.txt\"                     , sep = \"\\t\", header = TRUE, data.table = FALSE))\n",
    "loci       = add_rownames(fread(\"pipeline/1.2.genomewide_significant_loci/loci.txt\"      , sep = \"\\t\", header = TRUE, data.table = FALSE))\n",
    "loci2study = add_rownames(fread(\"pipeline/1.2.genomewide_significant_loci/loci2study.txt\", sep = \"\\t\", header = TRUE, data.table = FALSE))\n"
   ]
  },
  {
   "cell_type": "code",
   "execution_count": 4,
   "metadata": {},
   "outputs": [],
   "source": [
    "qtl_list = readRDS(\"/frazer01/projects/CARDIPS/analysis/cardiac_qtls_combined/input/qtl/qtls.RDS\"   )\n",
    "exp_list = readRDS(\"/frazer01/projects/CARDIPS/analysis/cardiac_qtls_combined/input/expdata_qtl.rds\")"
   ]
  },
  {
   "cell_type": "code",
   "execution_count": 5,
   "metadata": {},
   "outputs": [],
   "source": [
    "phenotypes  = qtl_list$phenotypes\n",
    "qtls        = qtl_list$qtl\n",
    "coordinates = exp_list$coordinates\n",
    "rownames(coordinates) = coordinates$transcript_id"
   ]
  },
  {
   "cell_type": "code",
   "execution_count": 6,
   "metadata": {},
   "outputs": [],
   "source": [
    "coloc_list        = readRDS(\"pipeline/5.4.analyze_coloc_qtl_som_maps/coloc_list.rds\")\n",
    "locus2coloc       = fread  (\"pipeline/5.4.analyze_coloc_qtl_som_maps//locus2coloc.txt\", sep = \"\\t\", header = TRUE, data.table = FALSE)\n",
    "intersected       = fread  (\"pipeline/4.1.coloc_qtls/intersected_qtls_loci.txt\"       , sep = \"\\t\", header = TRUE, data.table = FALSE)\n",
    "qtls2test         = fread  (\"pipeline/4.1.coloc_qtls/qtls2test.txt\"                   , sep = \"\\t\", header = TRUE, data.table = FALSE)\n",
    "intersected       = intersected[ intersected$phenotype %in% c(\"rna\", \"isoform\"),]\n"
   ]
  },
  {
   "cell_type": "code",
   "execution_count": 7,
   "metadata": {},
   "outputs": [],
   "source": [
    "meta_list        = lapply(locus2coloc$id, function(id){readRDS(paste0(\"pipeline/5.5.meta_analysis/coloc_data/\", id, \".rds\"))})\n",
    "names(meta_list) = locus2coloc$id"
   ]
  },
  {
   "cell_type": "code",
   "execution_count": 8,
   "metadata": {},
   "outputs": [
    {
     "name": "stderr",
     "output_type": "stream",
     "text": [
      "Warning message in eval(expr, envir, enclos):\n",
      "“NAs introduced by coercion”\n"
     ]
    }
   ],
   "source": [
    "snps = fread(cmd = \"zcat /frazer01/reference/public/ukbb/variants.tsv.bgz\", sep = \"\\t\", header = TRUE, data.table = FALSE)\n",
    "snps$chrom = as.numeric(snps$chr)"
   ]
  },
  {
   "cell_type": "code",
   "execution_count": 9,
   "metadata": {},
   "outputs": [],
   "source": [
    "find_coloc_qtls = function(coloc)\n",
    "{\n",
    "    out = as.data.frame(rbindlist(lapply(names(coloc), function(transcript_id)\n",
    "    {\n",
    "        as.data.frame(rbindlist(lapply(names(coloc[[transcript_id]]), function(type)\n",
    "        {\n",
    "            x               = coloc[[transcript_id]][[type]][[\"pp\"]]\n",
    "            x$transcript_id = transcript_id\n",
    "            x$type          = as.numeric(sub(\"type \", \"\", type))\n",
    "            \n",
    "            return(x)\n",
    "        })), stringsAsFactors = FALSE)\n",
    "    })), stringsAsFactors = FALSE)\n",
    "    \n",
    "    out = out[ out$PP.H4.abf >= 0.8,]\n",
    "    \n",
    "    if(nrow(out) > 0)\n",
    "    {\n",
    "        out$id = paste(out$transcript_id, out$type, sep = \":\")\n",
    "    }else\n",
    "    {\n",
    "        return(c())\n",
    "    }\n",
    "}\n",
    "\n",
    "find_credible_set = function(x)\n",
    "{\n",
    "    cs      = x[[\"credible_set\"]]\n",
    "    fm      = x[[\"pp\"          ]]\n",
    "    cs      = cs[cs != \"null\"]\n",
    "    is_null = TRUE\n",
    "    \n",
    "    if((fm[1, \"id\"] == \"null\")|(length(cs) >= 10000)){is_null = FALSE}\n",
    "    \n",
    "    return(list(cs = cs, fm = is_null, index_var = ifelse(is_null == FALSE, yes = \"\", no = fm[1, \"id\"])))\n",
    "}\n",
    "\n",
    "locus2coloc = as.data.frame(rbindlist(lapply(meta_list, function(x)\n",
    "{\n",
    "    out              = x$som\n",
    "    out$traits       = paste(sort(unique(x$traits_cluster)), collapse = \"; \")\n",
    "    out$traits_n     = length(unique(x$traits_cluster))\n",
    "    eqtls            = find_coloc_qtls(x$coloc)\n",
    "    out$eqtls        = paste(eqtls, collapse = \";\")\n",
    "    out$eqtls_n      = length(eqtls)\n",
    "    credible_set     = find_credible_set(x[[\"finemapped_gwas\"]])\n",
    "    out$credible_set = length(credible_set[[\"cs\"]])\n",
    "    out$finemapped   =        credible_set[[\"fm\"]]\n",
    "    \n",
    "    if(length(credible_set[[\"cs\"]]) > 0)\n",
    "    {\n",
    "        cs_coord    = as.numeric(unlist(lapply(credible_set[[\"cs\"]], function(x){unlist(strsplit(x, \"_\"))[[3]]})))\n",
    "        out$cs_from = min(cs_coord)\n",
    "        out$cs_to   = max(cs_coord)\n",
    "        out$cs_snp  = credible_set[[\"index_var\"]]\n",
    "    }else\n",
    "    {\n",
    "        out$cs_from = NA\n",
    "        out$cs_to   = NA\n",
    "        out$cs_snp  = \"\"\n",
    "    }\n",
    "    \n",
    "    return(out)\n",
    "})), stringsAsFactors = FALSE)\n",
    "\n",
    "locus2coloc$cs_size = locus2coloc$cs_to - locus2coloc$cs_from + 1\n",
    "\n",
    "locus2coloc$chrom = as.numeric(unlist(lapply(locus2coloc$cs_snp, function(x){ifelse(x == \"\", yes = 0, no = unlist(strsplit(x, \"_\"))[[2]])})))\n",
    "locus2coloc$pos   = as.numeric(unlist(lapply(locus2coloc$cs_snp, function(x){ifelse(x == \"\", yes = 0, no = unlist(strsplit(x, \"_\"))[[3]])})))\n",
    "\n",
    "locus2coloc = merge(locus2coloc, snps[,c(\"chrom\", \"pos\", \"ref\", \"alt\", \"rsid\")], by = c(\"chrom\", \"pos\"), all.x = TRUE)\n",
    "\n",
    "locus2coloc = locus2coloc[!(locus2coloc$cs_snp == \"VAR_13_38249726_C_A\" & locus2coloc$alt == \"G\") & !(locus2coloc$cs_snp == \"VAR_15_99258710_A_T\" & locus2coloc$alt == \"G\"),]\n",
    "\n",
    "fwrite(locus2coloc, \"pipeline/5.4.analyze_coloc_qtl_som_maps/signal2coloc.txt\", sep = \"\\t\", col.names = TRUE, row.names = FALSE)"
   ]
  },
  {
   "cell_type": "markdown",
   "metadata": {},
   "source": [
    "# Create credible set list"
   ]
  },
  {
   "cell_type": "code",
   "execution_count": 11,
   "metadata": {},
   "outputs": [],
   "source": [
    "credible_sets = lapply(locus2coloc$id, function(signal_id)\n",
    "{\n",
    "    meta_list[[signal_id]][[\"finemapped_gwas\"]]\n",
    "})\n",
    "names(credible_sets) = locus2coloc$id\n",
    "\n",
    "saveRDS(credible_sets, \"pipeline/5.4.analyze_coloc_qtl_som_maps/credible_sets.rds\")"
   ]
  },
  {
   "cell_type": "markdown",
   "metadata": {},
   "source": [
    "## Annotate fine-mapped variants based on genes\n",
    "- https://adairama.wordpress.com/2013/02/15/functionally-annotate-snps-and-indels-in-bioconductor/"
   ]
  },
  {
   "cell_type": "code",
   "execution_count": 13,
   "metadata": {},
   "outputs": [],
   "source": [
    "fm99            = locus2coloc[ locus2coloc$finemapped == TRUE & locus2coloc$credible_set == 1,]\n",
    "fm99$variant_id = unlist(lapply(fm99$id, function(x){meta_list[[x]][[\"finemapped_gwas\"]][[\"credible_set\"]][[1]]}))\n",
    "fm99$chrom      = as.numeric(unlist(lapply(fm99$variant_id, function(x){unlist(strsplit(x, \"_\"))[[2]]})))\n",
    "fm99$pos        = as.numeric(unlist(lapply(fm99$variant_id, function(x){unlist(strsplit(x, \"_\"))[[3]]})))\n",
    "fm99            = merge(fm99, snps[,c(\"chrom\", \"pos\", \"rsid\", \"consequence\", \"consequence_category\")], by = c(\"chrom\", \"pos\"), all.x = TRUE)\n",
    "\n",
    "fm99[ is.na(fm99$consequence), \"consequence_category\"] = \"non_coding\"\n",
    "fm99[ is.na(fm99$consequence), \"consequence\"         ] = \"intergenic_variant\"\n",
    "fwrite(fm99, \"pipeline/5.4.analyze_coloc_qtl_som_maps/finemapped_99.txt\", sep = \"\\t\", col.names = TRUE, row.names = FALSE)"
   ]
  },
  {
   "cell_type": "code",
   "execution_count": 1,
   "metadata": {},
   "outputs": [
    {
     "ename": "ERROR",
     "evalue": "Error in eval(expr, envir, enclos): object 'fm99' not found\n",
     "output_type": "error",
     "traceback": [
      "Error in eval(expr, envir, enclos): object 'fm99' not found\nTraceback:\n"
     ]
    }
   ],
   "source": [
    "fm99"
   ]
  },
  {
   "cell_type": "markdown",
   "metadata": {},
   "source": [
    "# Process meta-analysis\n",
    "## 1. Summarize results:\n",
    "- how many signals/locus: consider NULL!\n",
    "- credible set size distributions\n"
   ]
  },
  {
   "cell_type": "code",
   "execution_count": null,
   "metadata": {},
   "outputs": [],
   "source": [
    "signal2locus = table(locus2coloc$locus)\n",
    "signal2locus = data.frame(locus = names(signal2locus), signals = as.numeric(signal2locus))"
   ]
  },
  {
   "cell_type": "code",
   "execution_count": null,
   "metadata": {},
   "outputs": [],
   "source": [
    "table(signal2locus$signals)\n",
    "\n",
    "hist(signal2locus$signals, main = \"Signals per locus\")"
   ]
  },
  {
   "cell_type": "code",
   "execution_count": null,
   "metadata": {},
   "outputs": [],
   "source": [
    "cs2bin = data.frame(bin  = 1:7, \n",
    "                    from = c(0, 1,  5, 10, 20,  50,   100), \n",
    "                    to   = c(1, 5, 10, 20, 50, 100, 10000))\n",
    "cs2bin$name = paste(cs2bin$from + 1, cs2bin$to, sep = \"-\")\n",
    "cs2bin[1,\"name\"] = \"1\"\n",
    "cs2bin[7,\"name\"] = \"101+\"\n",
    "\n",
    "pp2bin = data.frame(bin  = 1:8, \n",
    "                    from = c( 99, 95, 90, 80, 50, 10,  1, 0), \n",
    "                    to   = c(100, 99, 95, 90, 80, 50, 10, 1))\n",
    "pp2bin$name = paste(pp2bin$from, pp2bin$to, sep = \"-\")\n",
    "\n",
    "csets = as.data.frame(rbindlist(lapply(names(meta_list), function(id)\n",
    "{\n",
    "    x                  = meta_list[[id]]\n",
    "    out                = x$finemapped_gwas$pp\n",
    "    out                = out[out$cs == TRUE, c(\"id\", \"pval\", \"pp_snp\")]\n",
    "    colnames(out)[[1]] = \"variant_id\"\n",
    "    out$bin            = \"\"\n",
    "    out$id             = id\n",
    "    \n",
    "    for(bin in pp2bin$bin)\n",
    "    {\n",
    "        from = pp2bin[bin, \"from\"] / 100\n",
    "        to   = pp2bin[bin, \"to\"  ] / 100\n",
    "        name = pp2bin[bin, \"name\"]\n",
    "        \n",
    "        if(nrow(out[out$pp_snp > from & out$pp_snp <= to, ]) > 0){out[out$pp_snp > from & out$pp_snp <= to, \"bin\"] = name}\n",
    "    }\n",
    "    return(out)\n",
    "})), stringsAsFactors = FALSE)"
   ]
  },
  {
   "cell_type": "code",
   "execution_count": null,
   "metadata": {},
   "outputs": [],
   "source": [
    "csets2n = aggregate(pp_snp ~ id, data = csets, FUN = length)\n",
    "colnames(csets2n)[[2]] = \"n_variants\"\n",
    "for(bin in cs2bin$bin)\n",
    "{\n",
    "    from = cs2bin[bin, \"from\"]\n",
    "    to   = cs2bin[bin, \"to\"  ]\n",
    "    name = cs2bin[bin, \"name\"]\n",
    "\n",
    "    if(nrow(csets2n[csets2n$n_variants > from & csets2n$n_variants <= to, ]) > 0){csets2n[csets2n$n_variants > from & csets2n$n_variants <= to, \"bin\"] = name}\n",
    "}\n",
    "\n"
   ]
  },
  {
   "cell_type": "code",
   "execution_count": null,
   "metadata": {},
   "outputs": [],
   "source": [
    "cs2bin_n = table(csets2n$bin)\n",
    "cs2bin_n = merge(cs2bin, data.frame(name = names(cs2bin_n), n_signals = as.numeric(cs2bin_n)))\n",
    "cs2bin_n = cs2bin_n[order(cs2bin_n$bin),]\n",
    "\n",
    "barplot(toplot$n_signals, names.arg = cs2bin_n$name, horiz = TRUE, las = 2, main = \"Number of variants in credible set, by signal\")"
   ]
  },
  {
   "cell_type": "code",
   "execution_count": null,
   "metadata": {},
   "outputs": [],
   "source": [
    "cs2bin_n"
   ]
  },
  {
   "cell_type": "markdown",
   "metadata": {},
   "source": [
    "## 2. overlap between meta-analyzed signals and colocalized eQTLs"
   ]
  },
  {
   "cell_type": "code",
   "execution_count": null,
   "metadata": {},
   "outputs": [],
   "source": [
    "gwas2coloc = as.data.frame(rbindlist(lapply(names(meta_list), function(id)\n",
    "{\n",
    "    x   = meta_list[[id]][[\"coloc\"]]\n",
    "    if(length(x) > 0)\n",
    "    {\n",
    "        out = as.data.frame(rbindlist(lapply(names(x), function(transcript_id)\n",
    "        {\n",
    "            as.data.frame(rbindlist(lapply(names(x[[transcript_id]]), function(type_x)\n",
    "            {\n",
    "                type           = sub(\"type \", \"\", type_x)\n",
    "                this           = x[[transcript_id]][[type_x]]\n",
    "                out            = this[[\"pp\"]]\n",
    "                out$variant_id = out$id\n",
    "                out$id         = NULL\n",
    "                \n",
    "                return(cbind(data.frame(id = id, transcript_id = transcript_id, type = type), out))\n",
    "            })), stringsAsFactors = FALSE)\n",
    "        })), stringsAsFactors = FALSE)\n",
    "    }else\n",
    "    {\n",
    "        out = data.frame(id = id, transcript_id = \"\", type = 0,\n",
    "                         nsnps = 0, PP.H0.abf = 0, PP.H1.abf = 1, PP.H2.abf = 0, PP.H3.abf = 0, PP.H4.abf = 0, pp_snp = 0, variant_id = \"\"\n",
    "                        )\n",
    "    }\n",
    "    \n",
    "    return(out)\n",
    "})), stringsAsFactors = FALSE)\n",
    "\n",
    "gwas2coloc = gwas2coloc[ gwas2coloc$nsnps > 0,]"
   ]
  },
  {
   "cell_type": "markdown",
   "metadata": {},
   "source": [
    "## Combine all"
   ]
  },
  {
   "cell_type": "code",
   "execution_count": null,
   "metadata": {},
   "outputs": [],
   "source": [
    "signal2data = data.frame(id               = csets2n$id, \n",
    "                         csets_n_variants = csets2n$n_variants,\n",
    "                         csets_bin        = csets2n$bin\n",
    "                         )\n",
    "\n",
    "signal2data = merge(signal2data, as.data.frame(rbindlist(lapply(signal2data$id, function(id)\n",
    "{\n",
    "    x            = meta_list[[id]]\n",
    "    cluster_data = x[[\"som\"]]\n",
    "    traits       = x[[\"traits_cluster\"]]\n",
    "    out          = cluster_data\n",
    "    out$traits   = paste(traits, collapse = \";\")\n",
    "    out$n_traits = length(traits)\n",
    "    coloc        = gwas2coloc[ gwas2coloc$id == id & gwas2coloc$PP.H4.abf >= 0.8, ]\n",
    "    \n",
    "    if(nrow(coloc) > 0)\n",
    "    {\n",
    "        out$transcript_ids   = paste(coloc$transcript_id, coloc$type, sep = \":\", collapse = \";\")\n",
    "        out$n_transcript_ids = nrow(coloc)\n",
    "    }else\n",
    "    {\n",
    "        out$transcript_ids   = \"\"\n",
    "        out$n_transcript_ids = 0\n",
    "    }\n",
    "    \n",
    "    return(out)\n",
    "})), stringsAsFactors = FALSE))\n",
    "\n",
    "fwrite(signal2data, \"pipeline/5.5.meta_analysis/signal2data.txt\", sep = \"\\t\", col.names = TRUE, row.names = FALSE)"
   ]
  },
  {
   "cell_type": "code",
   "execution_count": null,
   "metadata": {},
   "outputs": [],
   "source": [
    "signal2locus_n = table(table(signal2data$locus))\n",
    "signal2locus_n = data.frame(n_loci = as.numeric(names(signal2locus_n)), n = as.numeric(signal2locus_n))\n",
    "signal2locus_n = signal2locus_n[order(signal2locus_n$n_loci),]\n",
    "\n",
    "barplot(signal2locus_n$n, names.arg = signal2locus_n$n_loci, horiz = TRUE, las = 2, main = \"Signals per locus\")"
   ]
  },
  {
   "cell_type": "code",
   "execution_count": null,
   "metadata": {},
   "outputs": [],
   "source": [
    "signal2trait_n = table(signal2data$n_traits)\n",
    "signal2trait_n = data.frame(n_traits = as.numeric(names(signal2trait_n)), n = as.numeric(signal2trait_n))\n",
    "signal2trait_n = signal2trait_n[order(signal2trait_n$n_traits),]\n",
    "\n",
    "barplot(signal2trait_n$n, names.arg = signal2trait_n$n_traits, horiz = TRUE, las = 2, main = \"Traits per signal\")"
   ]
  },
  {
   "cell_type": "code",
   "execution_count": null,
   "metadata": {},
   "outputs": [],
   "source": [
    "signal2coloc_n = table(signal2data$n_transcript_ids)\n",
    "signal2coloc_n = data.frame(n_transcript_ids = as.numeric(names(signal2coloc_n)), n = as.numeric(signal2coloc_n))\n",
    "signal2coloc_n = signal2coloc_n[order(signal2coloc_n$n_transcript_ids),]\n",
    "\n",
    "sum(signal2coloc_n[ signal2coloc_n$n_transcript_ids > 0, \"n\"])\n",
    "\n",
    "barplot(signal2coloc_n$n, names.arg = signal2coloc_n$n_transcript_ids, horiz = TRUE, las = 2, main = \"Colocalizing eQTLs by signal\")"
   ]
  },
  {
   "cell_type": "code",
   "execution_count": null,
   "metadata": {},
   "outputs": [],
   "source": [
    "signal2locus_n\n",
    "signal2trait_n\n",
    "signal2coloc_n"
   ]
  },
  {
   "cell_type": "markdown",
   "metadata": {},
   "source": [
    "# Add cell type information to eQTLs"
   ]
  },
  {
   "cell_type": "code",
   "execution_count": null,
   "metadata": {},
   "outputs": [],
   "source": [
    "qtl2gwas               = merge(gwas2coloc[ gwas2coloc$PP.H4.abf >= 0.8, c(\"id\", \"transcript_id\", \"type\")], signal2data[,c(\"id\", \"locus\", \"csets_n_variants\", \"csets_bin\", \"som\", \"cluster\", \"class\", \"traits\", \"n_traits\")], all.y = TRUE)\n",
    "qtl_int                = as.data.frame(rbindlist(qtl_list[[\"interactions\"]][c(\"rna\", \"isoform\")]))\n",
    "cell_data              = exp_list[[\"color\"]]\n",
    "cell_annots            = unique(c(cell_data[[\"by_tissue\"]][,\"body_site\"], cell_data[[\"by_organ\"]][,\"body_site\"], cell_data[[\"by_cell\"]][,\"cell_type\"]))\n",
    "qtl2gwas$id2type       = paste(qtl2gwas$transcript_id, qtl2gwas$type, sep = \":\")\n",
    "qtl_int $id2type       = paste(qtl_int $transcript_id, qtl_int $type, sep = \":\")\n",
    "qtl2gwas[,cell_annots] = 0\n",
    "\n",
    "for(annot in cell_annots)\n",
    "{\n",
    "    x = qtl_int[ qtl_int$interaction == annot & qtl_int$cell == TRUE, \"id2type\"]\n",
    "    qtl2gwas[ qtl2gwas$id2type %in% x, annot] = 1\n",
    "}\n",
    "\n",
    "qtl2gwas$id2type       = NULL\n",
    "\n",
    "qtl2gwas[is.na(qtl2gwas$transcript_id) == TRUE, cell_annots] = NA"
   ]
  },
  {
   "cell_type": "code",
   "execution_count": null,
   "metadata": {},
   "outputs": [],
   "source": [
    "colSums(qtl2gwas[,cell_annots], na.rm = TRUE)"
   ]
  },
  {
   "cell_type": "code",
   "execution_count": null,
   "metadata": {},
   "outputs": [],
   "source": [
    "str(qtl2gwas)\n",
    "\n"
   ]
  },
  {
   "cell_type": "code",
   "execution_count": null,
   "metadata": {},
   "outputs": [],
   "source": []
  }
 ],
 "metadata": {
  "kernelspec": {
   "display_name": "R 4.0.1",
   "language": "R",
   "name": "ir401"
  },
  "language_info": {
   "codemirror_mode": "r",
   "file_extension": ".r",
   "mimetype": "text/x-r-source",
   "name": "R",
   "pygments_lexer": "r",
   "version": "4.0.1"
  }
 },
 "nbformat": 4,
 "nbformat_minor": 2
}
