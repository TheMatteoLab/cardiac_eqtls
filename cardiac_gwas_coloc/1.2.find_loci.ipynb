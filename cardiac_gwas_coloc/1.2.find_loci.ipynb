{
 "cells": [
  {
   "cell_type": "markdown",
   "metadata": {},
   "source": [
    "# Find genome-wide significant loci\n",
    "- Inspired from: https://github.com/Nealelab/UK_Biobank_GWAS/blob/master/imputed-v2-gwas/Manhattan_plot.R\n",
    "- does not work well with pan-UKBB\n"
   ]
  },
  {
   "cell_type": "code",
   "execution_count": 118,
   "metadata": {},
   "outputs": [],
   "source": [
    "setwd(\"/frazer01/projects/CARDIPS/analysis/cardiac_gwas_coloc\")\n",
    "\n",
    "source(\"script/functions.R\"  )\n"
   ]
  },
  {
   "cell_type": "code",
   "execution_count": 119,
   "metadata": {},
   "outputs": [],
   "source": [
    "dir.create(\"pipeline/1.2.genomewide_significant_loci\"     , showWarnings = FALSE)\n",
    "dir.create(\"pipeline/1.2.genomewide_significant_loci/loci\", showWarnings = FALSE)\n"
   ]
  },
  {
   "cell_type": "markdown",
   "metadata": {},
   "source": [
    "# Filter manifest"
   ]
  },
  {
   "cell_type": "code",
   "execution_count": 120,
   "metadata": {},
   "outputs": [],
   "source": [
    "infiles               = list.files(\"pipeline/1.1.sumstats/sumstats\", pattern = \"bgz$\")\n",
    "manifest              = fread(\"input/sumstats_manifest.txt\", sep = \"\\t\", header = TRUE, data.table = FALSE)\n",
    "manifest              = manifest[ manifest$filename %in% infiles,]\n",
    "manifest$sumstat_file = paste(getwd(), \"pipeline\", \"1.1.sumstats\", \"sumstats\", manifest$filename, sep = \"/\")\n",
    "manifest$id           = sub(\".tsv.bgz\", \"\", manifest$filename)\n",
    "rownames(manifest)    = manifest$id\n",
    "\n",
    "manifest   = manifest[ !manifest$description %in% c(\"K57 Diverticular disease of intestine\", \"Cataract\", \"M16 Coxarthrosis [arthrosis of hip]\"), ]\n"
   ]
  },
  {
   "cell_type": "code",
   "execution_count": 123,
   "metadata": {},
   "outputs": [],
   "source": [
    "populations = c('AFR','AMR','CSA','EAS','EUR','MID')"
   ]
  },
  {
   "cell_type": "code",
   "execution_count": 121,
   "metadata": {},
   "outputs": [],
   "source": [
    "manifest$name = unlist(lapply(manifest$description, function(x){unlist(strsplit(x, \",\"))[[1]]}))\n",
    "manifest[ manifest$description == \"Treatment/medication code\", \"name\"] = manifest[ manifest$description == \"Treatment/medication code\", \"coding_description\"]\n",
    "manifest[ manifest$phenocode   == \"LDLC\"                     , \"name\"] = \"LDL adjusted by medication\""
   ]
  },
  {
   "cell_type": "code",
   "execution_count": 133,
   "metadata": {},
   "outputs": [],
   "source": [
    "manifest$n_cases_meta    = rowSums(manifest[, paste(\"n_cases\"   , populations, sep = \"_\")], na.rm = TRUE)\n",
    "manifest$n_controls_meta = rowSums(manifest[, paste(\"n_controls\", populations, sep = \"_\")], na.rm = TRUE)\n"
   ]
  },
  {
   "cell_type": "code",
   "execution_count": 135,
   "metadata": {},
   "outputs": [],
   "source": [
    "fwrite(manifest, \"pipeline/1.1.sumstats/manifest.txt\", sep = \"\\t\", col.names = TRUE, row.names = TRUE)"
   ]
  },
  {
   "cell_type": "markdown",
   "metadata": {},
   "source": [
    "# For each GWAS, get all variants with p-value <= 5e-8 and merge them"
   ]
  },
  {
   "cell_type": "code",
   "execution_count": 124,
   "metadata": {},
   "outputs": [
    {
     "name": "stderr",
     "output_type": "stream",
     "text": [
      "biomarkers-30600-both_sexes-irnt\n",
      "\n",
      "biomarkers-30680-both_sexes-irnt\n",
      "\n",
      "biomarkers-30690-both_sexes-irnt\n",
      "\n",
      "biomarkers-30760-both_sexes-irnt\n",
      "\n",
      "biomarkers-30780-both_sexes-irnt\n",
      "\n",
      "biomarkers-30870-both_sexes-irnt\n",
      "\n",
      "categorical-20003-both_sexes-1140861958\n",
      "\n",
      "categorical-20003-both_sexes-1140866738\n",
      "\n",
      "categorical-20003-both_sexes-1140879802\n",
      "\n",
      "categorical-20003-both_sexes-1141146234\n",
      "\n",
      "continuous-102-both_sexes-irnt\n",
      "\n",
      "continuous-12336-both_sexes-irnt\n",
      "\n",
      "continuous-12340-both_sexes-irnt\n",
      "\n",
      "continuous-20022-both_sexes-irnt\n",
      "\n",
      "continuous-21001-both_sexes-irnt\n",
      "\n",
      "continuous-DBP-both_sexes-combined_medadj_irnt\n",
      "\n",
      "continuous-LDLC-both_sexes-medadj_irnt\n",
      "\n",
      "continuous-MAP-both_sexes-combined_medadj_irnt\n",
      "\n",
      "continuous-PP-both_sexes-combined_medadj_irnt\n",
      "\n",
      "continuous-SBP-both_sexes-combined_medadj_irnt\n",
      "\n",
      "icd10-I20-both_sexes\n",
      "\n",
      "icd10-I25-both_sexes\n",
      "\n",
      "icd10-I26-both_sexes\n",
      "\n",
      "icd10-I48-both_sexes\n",
      "\n",
      "phecode-401-both_sexes\n",
      "\n",
      "phecode-411.2-both_sexes\n",
      "\n",
      "phecode-411.4-both_sexes\n",
      "\n"
     ]
    }
   ],
   "source": [
    "get_loci = function(id, manifest, populations, expand = 100000)\n",
    "{\n",
    "    message(id)\n",
    "    \n",
    "    infile    = manifest[id, \"sumstat_file\"]\n",
    "    indata    = fread(cmd = paste(\"zcat\", infile), sep = \"\\t\", header = TRUE, data.table = FALSE)\n",
    "    out       = indata\n",
    "    out$min_p = apply(out[,colnames(out) %in% paste(\"pval\", c(\"meta\", populations), sep = \"_\")], 1, function(x){ifelse(min(x, na.rm = TRUE) <= 5e-8, yes = 1, no = 0)})\n",
    "    out       = out[ out$min_p == 1, c(\"chr\", \"pos\")]\n",
    "    out$from  = unlist(lapply(out$pos - expand, function(x){max(0, x)}))\n",
    "    out$to    =               out$pos + expand\n",
    "    out$gwas  = id\n",
    "    return(out)\n",
    "}\n",
    "\n",
    "vars              = as.data.frame(rbindlist(lapply(manifest$id, function(id){get_loci(id, manifest, populations, 100000)})), stringsAsFactors = FALSE)\n",
    "vars              = vars[order(vars$chr, vars$pos), ]\n",
    "vars_bed_unmerged = paste(getwd(), \"pipeline\", \"1.2.genomewide_significant_loci\", \"loci\", \"loci.unmerged.bed\", sep = \"/\")\n",
    "\n",
    "fwrite(vars[,c(\"chr\", \"from\", \"to\", \"gwas\")], vars_bed_unmerged, sep = \"\\t\", col.names = FALSE, row.names = FALSE)"
   ]
  },
  {
   "cell_type": "code",
   "execution_count": 129,
   "metadata": {},
   "outputs": [
    {
     "name": "stdout",
     "output_type": "stream",
     "text": [
      "'data.frame':\t829278 obs. of  5 variables:\n",
      " $ chr : int  1 1 1 1 1 1 1 1 1 1 ...\n",
      " $ pos : int  1065800 1066097 1066403 1066819 1066828 1066946 1066952 1066953 1067576 1068883 ...\n",
      " $ from: num  965800 966097 966403 966819 966828 ...\n",
      " $ to  : num  1165800 1166097 1166403 1166819 1166828 ...\n",
      " $ gwas: chr  \"biomarkers-30680-both_sexes-irnt\" \"biomarkers-30680-both_sexes-irnt\" \"biomarkers-30680-both_sexes-irnt\" \"biomarkers-30680-both_sexes-irnt\" ...\n"
     ]
    }
   ],
   "source": [
    "str(vars)"
   ]
  },
  {
   "cell_type": "code",
   "execution_count": 126,
   "metadata": {},
   "outputs": [],
   "source": [
    "command_merge  = paste(\"bedtools\", \"merge\", \"-c\", 4, \"-o\", \"distinct\", \"-i\", vars_bed_unmerged)\n",
    "loci           = fread(cmd = command_merge, sep = \"\\t\", header = FALSE, data.table = FALSE)\n",
    "colnames(loci) = c(\"chrom\", \"from\", \"to\", \"ids\")\n",
    "loci$locus     = paste(loci$chrom, loci$from, loci$to, sep = \"_\")\n",
    "rownames(loci) = loci$locus\n",
    "loci$size      = loci$to - loci$from\n",
    "\n",
    "loci2study = as.data.frame(matrix(0, nrow = nrow(loci), ncol = nrow(manifest), dimnames = list(loci$locus, manifest$id)))\n",
    "for(locus in loci$locus)\n",
    "{\n",
    "    studies = unlist(strsplit(loci[locus, \"ids\"], \",\"))\n",
    "    loci2study[locus, studies] = 1\n",
    "}\n",
    "\n",
    "fwrite(loci      , \"pipeline/1.2.genomewide_significant_loci/loci.txt\"      , sep = \"\\t\", col.names = TRUE, row.names = TRUE)\n",
    "fwrite(loci2study, \"pipeline/1.2.genomewide_significant_loci/loci2study.txt\", sep = \"\\t\", col.names = TRUE, row.names = TRUE)\n"
   ]
  },
  {
   "cell_type": "code",
   "execution_count": 127,
   "metadata": {},
   "outputs": [
    {
     "data": {
      "text/html": [
       "2045"
      ],
      "text/latex": [
       "2045"
      ],
      "text/markdown": [
       "2045"
      ],
      "text/plain": [
       "[1] 2045"
      ]
     },
     "metadata": {},
     "output_type": "display_data"
    },
    {
     "data": {
      "image/png": "[encoded data removed]",
      "text/plain": [
       "Plot with title “Histogram of loci$size”"
      ]
     },
     "metadata": {
      "image/png": {
       "height": 420,
       "width": 420
      },
      "text/plain": {
       "height": 420,
       "width": 420
      }
     },
     "output_type": "display_data"
    },
    {
     "data": {
      "image/png": "[encoded data removed]",
      "text/plain": [
       "Plot with title “Histogram of rowSums(loci2study)”"
      ]
     },
     "metadata": {
      "image/png": {
       "height": 420,
       "width": 420
      },
      "text/plain": {
       "height": 420,
       "width": 420
      }
     },
     "output_type": "display_data"
    },
    {
     "data": {
      "image/png": "[encoded data removed]",
      "text/plain": [
       "Plot with title “Histogram of colSums(loci2study)”"
      ]
     },
     "metadata": {
      "image/png": {
       "height": 420,
       "width": 420
      },
      "text/plain": {
       "height": 420,
       "width": 420
      }
     },
     "output_type": "display_data"
    }
   ],
   "source": [
    "nrow(loci)\n",
    "hist(loci$size)\n",
    "hist(rowSums(loci2study))\n",
    "hist(colSums(loci2study))\n"
   ]
  },
  {
   "cell_type": "code",
   "execution_count": 136,
   "metadata": {},
   "outputs": [
    {
     "name": "stdout",
     "output_type": "stream",
     "text": [
      "'data.frame':\t2045 obs. of  6 variables:\n",
      " $ chrom: int  1 1 1 1 1 1 1 1 1 1 ...\n",
      " $ from : int  965800 2592477 2884087 3205016 6148182 6544723 7622595 8290051 9235173 9830927 ...\n",
      " $ to   : int  2544414 2853372 3089456 3441796 6406912 6879372 7901372 8995448 9556513 10934579 ...\n",
      " $ ids  : chr  \"biomarkers-30600-both_sexes-irnt,biomarkers-30680-both_sexes-irnt,biomarkers-30760-both_sexes-irnt,continuous-2\"| __truncated__ \"continuous-21001-both_sexes-irnt\" \"phecode-411.2-both_sexes\" \"continuous-DBP-both_sexes-combined_medadj_irnt,continuous-MAP-both_sexes-combined_medadj_irnt,continuous-PP-bot\"| __truncated__ ...\n",
      " $ locus: chr  \"1_965800_2544414\" \"1_2592477_2853372\" \"1_2884087_3089456\" \"1_3205016_3441796\" ...\n",
      " $ size : int  1578614 260895 205369 236780 258730 334649 278777 705397 321340 1103652 ...\n"
     ]
    }
   ],
   "source": [
    "str(loci)"
   ]
  },
  {
   "cell_type": "code",
   "execution_count": 137,
   "metadata": {},
   "outputs": [
    {
     "data": {
      "text/html": [
       "<table>\n",
       "<caption>A data.frame: 1 × 6</caption>\n",
       "<thead>\n",
       "\t<tr><th></th><th scope=col>chrom</th><th scope=col>from</th><th scope=col>to</th><th scope=col>ids</th><th scope=col>locus</th><th scope=col>size</th></tr>\n",
       "\t<tr><th></th><th scope=col>&lt;int&gt;</th><th scope=col>&lt;int&gt;</th><th scope=col>&lt;int&gt;</th><th scope=col>&lt;chr&gt;</th><th scope=col>&lt;chr&gt;</th><th scope=col>&lt;int&gt;</th></tr>\n",
       "</thead>\n",
       "<tbody>\n",
       "\t<tr><th scope=row>1_15163815_15363815</th><td>1</td><td>15163815</td><td>15363815</td><td>biomarkers-30760-both_sexes-irnt</td><td>1_15163815_15363815</td><td>200000</td></tr>\n",
       "</tbody>\n",
       "</table>\n"
      ],
      "text/latex": [
       "A data.frame: 1 × 6\n",
       "\\begin{tabular}{r|llllll}\n",
       "  & chrom & from & to & ids & locus & size\\\\\n",
       "  & <int> & <int> & <int> & <chr> & <chr> & <int>\\\\\n",
       "\\hline\n",
       "\t1\\_15163815\\_15363815 & 1 & 15163815 & 15363815 & biomarkers-30760-both\\_sexes-irnt & 1\\_15163815\\_15363815 & 200000\\\\\n",
       "\\end{tabular}\n"
      ],
      "text/markdown": [
       "\n",
       "A data.frame: 1 × 6\n",
       "\n",
       "| <!--/--> | chrom &lt;int&gt; | from &lt;int&gt; | to &lt;int&gt; | ids &lt;chr&gt; | locus &lt;chr&gt; | size &lt;int&gt; |\n",
       "|---|---|---|---|---|---|---|\n",
       "| 1_15163815_15363815 | 1 | 15163815 | 15363815 | biomarkers-30760-both_sexes-irnt | 1_15163815_15363815 | 200000 |\n",
       "\n"
      ],
      "text/plain": [
       "                    chrom from     to       ids                             \n",
       "1_15163815_15363815 1     15163815 15363815 biomarkers-30760-both_sexes-irnt\n",
       "                    locus               size  \n",
       "1_15163815_15363815 1_15163815_15363815 200000"
      ]
     },
     "metadata": {},
     "output_type": "display_data"
    }
   ],
   "source": [
    "loci[\"1_15163815_15363815\",]"
   ]
  },
  {
   "cell_type": "code",
   "execution_count": null,
   "metadata": {},
   "outputs": [],
   "source": []
  }
 ],
 "metadata": {
  "kernelspec": {
   "display_name": "R 4.0.1",
   "language": "R",
   "name": "ir401"
  },
  "language_info": {
   "codemirror_mode": "r",
   "file_extension": ".r",
   "mimetype": "text/x-r-source",
   "name": "R",
   "pygments_lexer": "r",
   "version": "4.0.1"
  }
 },
 "nbformat": 4,
 "nbformat_minor": 2
}
