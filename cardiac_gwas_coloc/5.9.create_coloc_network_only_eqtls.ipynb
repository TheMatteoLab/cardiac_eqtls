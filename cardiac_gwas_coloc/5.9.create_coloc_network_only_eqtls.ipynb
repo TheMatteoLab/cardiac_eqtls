{
 "cells": [
  {
   "cell_type": "markdown",
   "metadata": {},
   "source": [
    "# Create one coloc network per locus"
   ]
  },
  {
   "cell_type": "code",
   "execution_count": 1,
   "metadata": {},
   "outputs": [],
   "source": [
    "library(pheatmap)\n",
    "library(colorspace)\n"
   ]
  },
  {
   "cell_type": "code",
   "execution_count": 2,
   "metadata": {},
   "outputs": [],
   "source": [
    "setwd(\"/frazer01/projects/CARDIPS/analysis/cardiac_gwas_coloc\")\n",
    "\n",
    "source(\"script/functions.R\"  )\n"
   ]
  },
  {
   "cell_type": "code",
   "execution_count": 3,
   "metadata": {},
   "outputs": [],
   "source": [
    "dir.create(\"pipeline/5.9.coloc_network_only_eqtls\", showWarnings = FALSE)\n"
   ]
  },
  {
   "cell_type": "code",
   "execution_count": 4,
   "metadata": {},
   "outputs": [],
   "source": [
    "qtl_list = readRDS(\"/frazer01/projects/CARDIPS/analysis/cardiac_qtls_combined/input/qtl/qtls.RDS\"   )\n",
    "exp_list = readRDS(\"/frazer01/projects/CARDIPS/analysis/cardiac_qtls_combined/input/expdata_qtl.rds\")"
   ]
  },
  {
   "cell_type": "code",
   "execution_count": 5,
   "metadata": {},
   "outputs": [],
   "source": [
    "phenotypes  = qtl_list$phenotypes\n",
    "qtls        = qtl_list$qtl\n",
    "coordinates = exp_list$coordinates\n",
    "rownames(coordinates) = coordinates$transcript_id"
   ]
  },
  {
   "cell_type": "code",
   "execution_count": 8,
   "metadata": {},
   "outputs": [],
   "source": [
    "coloc_qtls = fread(\"pipeline/4.1.coloc_qtls/coloc.txt\", sep = \"\\t\", header = TRUE, data.table = FALSE)"
   ]
  },
  {
   "cell_type": "code",
   "execution_count": 6,
   "metadata": {},
   "outputs": [],
   "source": [
    "populations = c('meta','AFR','AMR','CSA','EAS','EUR','MID')"
   ]
  },
  {
   "cell_type": "code",
   "execution_count": 10,
   "metadata": {},
   "outputs": [],
   "source": [
    "eqtl_coloc = list(isoform         = fread(\"/frazer01/projects/CARDIPS/analysis/cardiac_eqtls/pipeline/3.2.eqtls/eqtl_overlap/cardiac_eqtls.isoform.txt\"      , sep = \"\\t\", header = TRUE, data.table = FALSE),\n",
    "                  gene            = fread(\"/frazer01/projects/CARDIPS/analysis/cardiac_eqtls/pipeline/3.2.eqtls/eqtl_overlap/cardiac_eqtls.gene.txt\"         , sep = \"\\t\", header = TRUE, data.table = FALSE),\n",
    "                  isoform_vs_gene = fread(\"/frazer01/projects/CARDIPS/analysis/cardiac_eqtls/pipeline/3.2.eqtls/eqtl_overlap/cardiac_eqtls.coloc_by_gene.txt\", sep = \"\\t\", header = TRUE, data.table = FALSE)\n",
    "                 )"
   ]
  },
  {
   "cell_type": "markdown",
   "metadata": {},
   "source": [
    "# Get coloc between QTLs"
   ]
  },
  {
   "cell_type": "code",
   "execution_count": 31,
   "metadata": {},
   "outputs": [],
   "source": [
    "coloc            = rbind(eqtl_coloc[[\"gene\"]], eqtl_coloc[[\"isoform\"]])\n",
    "coloc            = coloc[ coloc$PP.H4.abf >= 0.8,]\n",
    "coloc            = merge(coloc, coordinates[,c(\"transcript_id\", \"gene_id\", \"gene_name\")], by.x = \"transcript_id1\", by.y = \"transcript_id\")\n",
    "coloc            = merge(coloc, coordinates[,c(\"transcript_id\", \"gene_id\", \"gene_name\")], by.x = \"transcript_id2\", by.y = \"transcript_id\", suffixes = 1:2)\n",
    "coloc_dif        = coloc[ coloc$gene_id1 != coloc$gene_id2,]\n"
   ]
  },
  {
   "cell_type": "code",
   "execution_count": 50,
   "metadata": {},
   "outputs": [],
   "source": [
    "coloc_dif_unique = unique(coloc_dif[,c(\"gene_id1\", \"gene_id2\", \"gene_name1\", \"gene_name2\")])\n",
    "coloc_dif_unique = cbind(coloc_dif_unique, as.data.frame(rbindlist(lapply(1:nrow(coloc_dif_unique), function(ii)\n",
    "{\n",
    "    id1 = coloc_dif_unique[ii, \"gene_id1\"]\n",
    "    id2 = coloc_dif_unique[ii, \"gene_id2\"]\n",
    "    x   = coloc[ coloc$gene_id1 == id1 & coloc$gene_id2 == id2,]\n",
    "    x   = x[which.max(x$PP.H4.abf), c(\"transcript_id1\", \"transcript_id2\", \"type1\", \"type2\", \"id\", \"chrom\", \"pos\", \"ref\", \"alt\", \"af\", \"pp_snp\", paste0(\"PP.H\", 0:4, \".abf\"))]\n",
    "    \n",
    "    return(x)\n",
    "})), stringsAsFactors = FALSE))"
   ]
  },
  {
   "cell_type": "code",
   "execution_count": 333,
   "metadata": {},
   "outputs": [],
   "source": [
    "fwrite(coloc_dif_unique, \"pipeline/5.9.coloc_network_only_eqtls/coloc_dif_unique.txt\", sep = \"\\t\", col.names = TRUE, row.names = FALSE)"
   ]
  },
  {
   "cell_type": "code",
   "execution_count": 59,
   "metadata": {},
   "outputs": [
    {
     "data": {
      "text/html": [
       "2778"
      ],
      "text/latex": [
       "2778"
      ],
      "text/markdown": [
       "2778"
      ],
      "text/plain": [
       "[1] 2778"
      ]
     },
     "metadata": {},
     "output_type": "display_data"
    },
    {
     "data": {
      "text/html": [
       "449"
      ],
      "text/latex": [
       "449"
      ],
      "text/markdown": [
       "449"
      ],
      "text/plain": [
       "[1] 449"
      ]
     },
     "metadata": {},
     "output_type": "display_data"
    },
    {
     "data": {
      "text/html": [
       "44"
      ],
      "text/latex": [
       "44"
      ],
      "text/markdown": [
       "44"
      ],
      "text/plain": [
       "[1] 44"
      ]
     },
     "metadata": {},
     "output_type": "display_data"
    },
    {
     "data": {
      "text/html": [
       "7"
      ],
      "text/latex": [
       "7"
      ],
      "text/markdown": [
       "7"
      ],
      "text/plain": [
       "[1] 7"
      ]
     },
     "metadata": {},
     "output_type": "display_data"
    },
    {
     "data": {
      "text/html": [
       "<table>\n",
       "<caption>A data.frame: 7 × 2</caption>\n",
       "<thead>\n",
       "\t<tr><th></th><th scope=col>id</th><th scope=col>n</th></tr>\n",
       "\t<tr><th></th><th scope=col>&lt;chr&gt;</th><th scope=col>&lt;dbl&gt;</th></tr>\n",
       "</thead>\n",
       "<tbody>\n",
       "\t<tr><th scope=row>1133</th><td>VAR_17_44173215_T_C       </td><td>23</td></tr>\n",
       "\t<tr><th scope=row>2427</th><td>VAR_7_102126545_C_CACTTTTT</td><td>19</td></tr>\n",
       "\t<tr><th scope=row>882</th><td>VAR_16_29469615_CA_C      </td><td>13</td></tr>\n",
       "\t<tr><th scope=row>685</th><td>VAR_15_30910204_C_G       </td><td>12</td></tr>\n",
       "\t<tr><th scope=row>823</th><td>VAR_16_15147725_T_C       </td><td>11</td></tr>\n",
       "\t<tr><th scope=row>1795</th><td>VAR_22_24266831_G_C       </td><td>11</td></tr>\n",
       "\t<tr><th scope=row>1539</th><td>VAR_2_114357926_CCT_C     </td><td>10</td></tr>\n",
       "</tbody>\n",
       "</table>\n"
      ],
      "text/latex": [
       "A data.frame: 7 × 2\n",
       "\\begin{tabular}{r|ll}\n",
       "  & id & n\\\\\n",
       "  & <chr> & <dbl>\\\\\n",
       "\\hline\n",
       "\t1133 & VAR\\_17\\_44173215\\_T\\_C        & 23\\\\\n",
       "\t2427 & VAR\\_7\\_102126545\\_C\\_CACTTTTT & 19\\\\\n",
       "\t882 & VAR\\_16\\_29469615\\_CA\\_C       & 13\\\\\n",
       "\t685 & VAR\\_15\\_30910204\\_C\\_G        & 12\\\\\n",
       "\t823 & VAR\\_16\\_15147725\\_T\\_C        & 11\\\\\n",
       "\t1795 & VAR\\_22\\_24266831\\_G\\_C        & 11\\\\\n",
       "\t1539 & VAR\\_2\\_114357926\\_CCT\\_C      & 10\\\\\n",
       "\\end{tabular}\n"
      ],
      "text/markdown": [
       "\n",
       "A data.frame: 7 × 2\n",
       "\n",
       "| <!--/--> | id &lt;chr&gt; | n &lt;dbl&gt; |\n",
       "|---|---|---|\n",
       "| 1133 | VAR_17_44173215_T_C        | 23 |\n",
       "| 2427 | VAR_7_102126545_C_CACTTTTT | 19 |\n",
       "| 882 | VAR_16_29469615_CA_C       | 13 |\n",
       "| 685 | VAR_15_30910204_C_G        | 12 |\n",
       "| 823 | VAR_16_15147725_T_C        | 11 |\n",
       "| 1795 | VAR_22_24266831_G_C        | 11 |\n",
       "| 1539 | VAR_2_114357926_CCT_C      | 10 |\n",
       "\n"
      ],
      "text/plain": [
       "     id                         n \n",
       "1133 VAR_17_44173215_T_C        23\n",
       "2427 VAR_7_102126545_C_CACTTTTT 19\n",
       "882  VAR_16_29469615_CA_C       13\n",
       "685  VAR_15_30910204_C_G        12\n",
       "823  VAR_16_15147725_T_C        11\n",
       "1795 VAR_22_24266831_G_C        11\n",
       "1539 VAR_2_114357926_CCT_C      10"
      ]
     },
     "metadata": {},
     "output_type": "display_data"
    }
   ],
   "source": [
    "counts = table(coloc_dif_unique$id)\n",
    "counts = data.frame(id = names(counts), n = as.numeric(counts))\n",
    "counts = counts[order(counts$n, decreasing = TRUE),]\n",
    "\n",
    "nrow(counts)\n",
    "nrow(counts[counts$n >   1,])\n",
    "nrow(counts[counts$n >=  5,])\n",
    "nrow(counts[counts$n >= 10,])\n",
    "\n",
    "counts[ counts$n >= 10,]"
   ]
  },
  {
   "cell_type": "code",
   "execution_count": 304,
   "metadata": {},
   "outputs": [
    {
     "data": {
      "text/html": [
       "<style>\n",
       ".list-inline {list-style: none; margin:0; padding: 0}\n",
       ".list-inline>li {display: inline-block}\n",
       ".list-inline>li:not(:last-child)::after {content: \"\\00b7\"; padding: 0 .5ex}\n",
       "</style>\n",
       "<ol class=list-inline><li>'ARL17A'</li><li>'ARL17B'</li><li>'FAM215B'</li><li>'KANSL1'</li><li>'KANSL1-AS1'</li><li>'LRRC37A'</li><li>'LRRC37A2'</li></ol>\n"
      ],
      "text/latex": [
       "\\begin{enumerate*}\n",
       "\\item 'ARL17A'\n",
       "\\item 'ARL17B'\n",
       "\\item 'FAM215B'\n",
       "\\item 'KANSL1'\n",
       "\\item 'KANSL1-AS1'\n",
       "\\item 'LRRC37A'\n",
       "\\item 'LRRC37A2'\n",
       "\\end{enumerate*}\n"
      ],
      "text/markdown": [
       "1. 'ARL17A'\n",
       "2. 'ARL17B'\n",
       "3. 'FAM215B'\n",
       "4. 'KANSL1'\n",
       "5. 'KANSL1-AS1'\n",
       "6. 'LRRC37A'\n",
       "7. 'LRRC37A2'\n",
       "\n",
       "\n"
      ],
      "text/plain": [
       "[1] \"ARL17A\"     \"ARL17B\"     \"FAM215B\"    \"KANSL1\"     \"KANSL1-AS1\"\n",
       "[6] \"LRRC37A\"    \"LRRC37A2\"  "
      ]
     },
     "metadata": {},
     "output_type": "display_data"
    },
    {
     "data": {
      "text/html": [
       "<style>\n",
       ".list-inline {list-style: none; margin:0; padding: 0}\n",
       ".list-inline>li {display: inline-block}\n",
       ".list-inline>li:not(:last-child)::after {content: \"\\00b7\"; padding: 0 .5ex}\n",
       "</style>\n",
       "<ol class=list-inline><li>'AC105052.3'</li><li>'POLR2J2'</li><li>'POLR2J3'</li><li>'PRKRIP1'</li><li>'RASA4'</li><li>'RASA4B'</li><li>'UPK3BL1'</li></ol>\n"
      ],
      "text/latex": [
       "\\begin{enumerate*}\n",
       "\\item 'AC105052.3'\n",
       "\\item 'POLR2J2'\n",
       "\\item 'POLR2J3'\n",
       "\\item 'PRKRIP1'\n",
       "\\item 'RASA4'\n",
       "\\item 'RASA4B'\n",
       "\\item 'UPK3BL1'\n",
       "\\end{enumerate*}\n"
      ],
      "text/markdown": [
       "1. 'AC105052.3'\n",
       "2. 'POLR2J2'\n",
       "3. 'POLR2J3'\n",
       "4. 'PRKRIP1'\n",
       "5. 'RASA4'\n",
       "6. 'RASA4B'\n",
       "7. 'UPK3BL1'\n",
       "\n",
       "\n"
      ],
      "text/plain": [
       "[1] \"AC105052.3\" \"POLR2J2\"    \"POLR2J3\"    \"PRKRIP1\"    \"RASA4\"     \n",
       "[6] \"RASA4B\"     \"UPK3BL1\"   "
      ]
     },
     "metadata": {},
     "output_type": "display_data"
    },
    {
     "data": {
      "text/html": [
       "<style>\n",
       ".list-inline {list-style: none; margin:0; padding: 0}\n",
       ".list-inline>li {display: inline-block}\n",
       ".list-inline>li:not(:last-child)::after {content: \"\\00b7\"; padding: 0 .5ex}\n",
       "</style>\n",
       "<ol class=list-inline><li>'AC133555.5'</li><li>'BOLA2'</li><li>'BOLA2-SMG1P6'</li><li>'LAT'</li><li>'RP11-231C14.4'</li><li>'SLX1B'</li><li>'SMG1P2'</li></ol>\n"
      ],
      "text/latex": [
       "\\begin{enumerate*}\n",
       "\\item 'AC133555.5'\n",
       "\\item 'BOLA2'\n",
       "\\item 'BOLA2-SMG1P6'\n",
       "\\item 'LAT'\n",
       "\\item 'RP11-231C14.4'\n",
       "\\item 'SLX1B'\n",
       "\\item 'SMG1P2'\n",
       "\\end{enumerate*}\n"
      ],
      "text/markdown": [
       "1. 'AC133555.5'\n",
       "2. 'BOLA2'\n",
       "3. 'BOLA2-SMG1P6'\n",
       "4. 'LAT'\n",
       "5. 'RP11-231C14.4'\n",
       "6. 'SLX1B'\n",
       "7. 'SMG1P2'\n",
       "\n",
       "\n"
      ],
      "text/plain": [
       "[1] \"AC133555.5\"    \"BOLA2\"         \"BOLA2-SMG1P6\"  \"LAT\"          \n",
       "[5] \"RP11-231C14.4\" \"SLX1B\"         \"SMG1P2\"       "
      ]
     },
     "metadata": {},
     "output_type": "display_data"
    }
   ],
   "source": [
    "sort(unique(as.character(as.matrix(unique(coloc_dif_unique[ coloc_dif_unique$id == \"VAR_17_44173215_T_C\", c(\"gene_name1\", \"gene_name2\")])))))\n",
    "sort(unique(as.character(as.matrix(unique(coloc_dif_unique[ coloc_dif_unique$id == \"VAR_7_102126545_C_CACTTTTT\", c(\"gene_name1\", \"gene_name2\")])))))\n",
    "sort(unique(as.character(as.matrix(unique(coloc_dif_unique[ coloc_dif_unique$id == \"VAR_16_29469615_CA_C\", c(\"gene_name1\", \"gene_name2\")])))))\n"
   ]
  },
  {
   "cell_type": "markdown",
   "metadata": {},
   "source": [
    "# chr17 and COVID-19\n",
    "- rs74521229 (lead variant of eQTLs)\n",
    "- lead variants for COVID-19 colocalization with eQTLs: rs7221167; rs7225002; rs4510068\n",
    "- rs74521229 is in high LD (high D') with rs7225002 and rs4510068\n"
   ]
  },
  {
   "cell_type": "markdown",
   "metadata": {},
   "source": [
    "# Are eGenes that share eQTLs more likely to be cell type-specific?"
   ]
  },
  {
   "cell_type": "code",
   "execution_count": 311,
   "metadata": {},
   "outputs": [],
   "source": [
    "gene2n = rbind(data.frame(gene_id = coloc_dif_unique$gene_id1, id = coloc_dif_unique$id), \n",
    "               data.frame(gene_id = coloc_dif_unique$gene_id2, id = coloc_dif_unique$id)\n",
    "              )\n",
    "gene2n = merge(gene2n, counts)\n",
    "gene2n = aggregate(n ~ gene_id, data = gene2n, FUN = max)"
   ]
  },
  {
   "cell_type": "code",
   "execution_count": 322,
   "metadata": {},
   "outputs": [],
   "source": [
    "totest = merge(qtl_list$interactions$rna, gene2n, all.x = TRUE)\n",
    "totest[is.na(totest$n) == TRUE, \"n\"] = 0\n",
    "totest$cell = as.numeric(totest$cell)"
   ]
  },
  {
   "cell_type": "code",
   "execution_count": 332,
   "metadata": {},
   "outputs": [],
   "source": [
    "test_ct = function(cell, totest)\n",
    "{\n",
    "    x    = totest[ totest$interaction == cell,]\n",
    "    test = coefficients(summary(lm(n ~ cell, data = x)))\n",
    "    out  = data.frame(cell = cell, beta = test[2, \"Estimate\"], se = test[2, \"Std. Error\"], pval = test[2, \"Pr(>|t|)\"])\n",
    "    \n",
    "    return(out)\n",
    "}\n",
    "\n",
    "cells = sort(unique(totest$interaction))\n",
    "tests_cell = as.data.frame(rbindlist(lapply(cells, function(cell){test_ct(cell, totest)})), stringsAsFactors = FALSE)\n",
    "\n",
    "fwrite(tests_cell, \"pipeline/5.9.coloc_network_only_eqtls/enrichment_by_cell.txt\", sep = \"\\t\", col.names = TRUE, row.names = FALSE)"
   ]
  },
  {
   "cell_type": "code",
   "execution_count": 331,
   "metadata": {},
   "outputs": [
    {
     "data": {
      "text/html": [
       "<table>\n",
       "<caption>A data.frame: 16 × 4</caption>\n",
       "<thead>\n",
       "\t<tr><th scope=col>cell</th><th scope=col>beta</th><th scope=col>se</th><th scope=col>pval</th></tr>\n",
       "\t<tr><th scope=col>&lt;chr&gt;</th><th scope=col>&lt;dbl&gt;</th><th scope=col>&lt;dbl&gt;</th><th scope=col>&lt;dbl&gt;</th></tr>\n",
       "</thead>\n",
       "<tbody>\n",
       "\t<tr><td>adult                           </td><td> 0.6115061792</td><td>0.07167738</td><td>1.559311e-17</td></tr>\n",
       "\t<tr><td>arteria                         </td><td> 0.3722662052</td><td>0.06984068</td><td>9.927396e-08</td></tr>\n",
       "\t<tr><td>arteria_aorta                   </td><td> 0.2351492636</td><td>0.08333715</td><td>4.782775e-03</td></tr>\n",
       "\t<tr><td>arteria_coronary                </td><td> 0.1499352747</td><td>0.18673519</td><td>4.220258e-01</td></tr>\n",
       "\t<tr><td>cibersort.regular.cardiac_muscle</td><td> 0.2641887785</td><td>0.08103064</td><td>1.114786e-03</td></tr>\n",
       "\t<tr><td>cibersort.regular.cardiac_neuron</td><td>-0.1966318242</td><td>0.16028976</td><td>2.199411e-01</td></tr>\n",
       "\t<tr><td>cibersort.regular.endocardial   </td><td> 0.0544040804</td><td>0.18886179</td><td>7.733019e-01</td></tr>\n",
       "\t<tr><td>cibersort.regular.endothelial   </td><td>-0.1706229283</td><td>0.53001641</td><td>7.475170e-01</td></tr>\n",
       "\t<tr><td>cibersort.regular.fibroblast    </td><td> 0.7946037099</td><td>0.11404459</td><td>3.338070e-12</td></tr>\n",
       "\t<tr><td>cibersort.regular.immune        </td><td> 0.4974177432</td><td>0.09713252</td><td>3.070138e-07</td></tr>\n",
       "\t<tr><td>cibersort.regular.myofibroblast </td><td>-0.0493149165</td><td>1.01468179</td><td>9.612375e-01</td></tr>\n",
       "\t<tr><td>cibersort.regular.smooth_muscle </td><td> 0.2557779734</td><td>0.07738679</td><td>9.509754e-04</td></tr>\n",
       "\t<tr><td>heart                           </td><td> 0.2588021168</td><td>0.07483721</td><td>5.450504e-04</td></tr>\n",
       "\t<tr><td>heart_atrium                    </td><td> 0.2369165447</td><td>0.12463706</td><td>5.733741e-02</td></tr>\n",
       "\t<tr><td>heart_ventricle                 </td><td> 0.2236533146</td><td>0.09820764</td><td>2.277691e-02</td></tr>\n",
       "\t<tr><td>ipsc_cvpc                       </td><td> 0.0005271396</td><td>0.12685356</td><td>9.966844e-01</td></tr>\n",
       "</tbody>\n",
       "</table>\n"
      ],
      "text/latex": [
       "A data.frame: 16 × 4\n",
       "\\begin{tabular}{llll}\n",
       " cell & beta & se & pval\\\\\n",
       " <chr> & <dbl> & <dbl> & <dbl>\\\\\n",
       "\\hline\n",
       "\t adult                            &  0.6115061792 & 0.07167738 & 1.559311e-17\\\\\n",
       "\t arteria                          &  0.3722662052 & 0.06984068 & 9.927396e-08\\\\\n",
       "\t arteria\\_aorta                    &  0.2351492636 & 0.08333715 & 4.782775e-03\\\\\n",
       "\t arteria\\_coronary                 &  0.1499352747 & 0.18673519 & 4.220258e-01\\\\\n",
       "\t cibersort.regular.cardiac\\_muscle &  0.2641887785 & 0.08103064 & 1.114786e-03\\\\\n",
       "\t cibersort.regular.cardiac\\_neuron & -0.1966318242 & 0.16028976 & 2.199411e-01\\\\\n",
       "\t cibersort.regular.endocardial    &  0.0544040804 & 0.18886179 & 7.733019e-01\\\\\n",
       "\t cibersort.regular.endothelial    & -0.1706229283 & 0.53001641 & 7.475170e-01\\\\\n",
       "\t cibersort.regular.fibroblast     &  0.7946037099 & 0.11404459 & 3.338070e-12\\\\\n",
       "\t cibersort.regular.immune         &  0.4974177432 & 0.09713252 & 3.070138e-07\\\\\n",
       "\t cibersort.regular.myofibroblast  & -0.0493149165 & 1.01468179 & 9.612375e-01\\\\\n",
       "\t cibersort.regular.smooth\\_muscle  &  0.2557779734 & 0.07738679 & 9.509754e-04\\\\\n",
       "\t heart                            &  0.2588021168 & 0.07483721 & 5.450504e-04\\\\\n",
       "\t heart\\_atrium                     &  0.2369165447 & 0.12463706 & 5.733741e-02\\\\\n",
       "\t heart\\_ventricle                  &  0.2236533146 & 0.09820764 & 2.277691e-02\\\\\n",
       "\t ipsc\\_cvpc                        &  0.0005271396 & 0.12685356 & 9.966844e-01\\\\\n",
       "\\end{tabular}\n"
      ],
      "text/markdown": [
       "\n",
       "A data.frame: 16 × 4\n",
       "\n",
       "| cell &lt;chr&gt; | beta &lt;dbl&gt; | se &lt;dbl&gt; | pval &lt;dbl&gt; |\n",
       "|---|---|---|---|\n",
       "| adult                            |  0.6115061792 | 0.07167738 | 1.559311e-17 |\n",
       "| arteria                          |  0.3722662052 | 0.06984068 | 9.927396e-08 |\n",
       "| arteria_aorta                    |  0.2351492636 | 0.08333715 | 4.782775e-03 |\n",
       "| arteria_coronary                 |  0.1499352747 | 0.18673519 | 4.220258e-01 |\n",
       "| cibersort.regular.cardiac_muscle |  0.2641887785 | 0.08103064 | 1.114786e-03 |\n",
       "| cibersort.regular.cardiac_neuron | -0.1966318242 | 0.16028976 | 2.199411e-01 |\n",
       "| cibersort.regular.endocardial    |  0.0544040804 | 0.18886179 | 7.733019e-01 |\n",
       "| cibersort.regular.endothelial    | -0.1706229283 | 0.53001641 | 7.475170e-01 |\n",
       "| cibersort.regular.fibroblast     |  0.7946037099 | 0.11404459 | 3.338070e-12 |\n",
       "| cibersort.regular.immune         |  0.4974177432 | 0.09713252 | 3.070138e-07 |\n",
       "| cibersort.regular.myofibroblast  | -0.0493149165 | 1.01468179 | 9.612375e-01 |\n",
       "| cibersort.regular.smooth_muscle  |  0.2557779734 | 0.07738679 | 9.509754e-04 |\n",
       "| heart                            |  0.2588021168 | 0.07483721 | 5.450504e-04 |\n",
       "| heart_atrium                     |  0.2369165447 | 0.12463706 | 5.733741e-02 |\n",
       "| heart_ventricle                  |  0.2236533146 | 0.09820764 | 2.277691e-02 |\n",
       "| ipsc_cvpc                        |  0.0005271396 | 0.12685356 | 9.966844e-01 |\n",
       "\n"
      ],
      "text/plain": [
       "   cell                             beta          se         pval        \n",
       "1  adult                             0.6115061792 0.07167738 1.559311e-17\n",
       "2  arteria                           0.3722662052 0.06984068 9.927396e-08\n",
       "3  arteria_aorta                     0.2351492636 0.08333715 4.782775e-03\n",
       "4  arteria_coronary                  0.1499352747 0.18673519 4.220258e-01\n",
       "5  cibersort.regular.cardiac_muscle  0.2641887785 0.08103064 1.114786e-03\n",
       "6  cibersort.regular.cardiac_neuron -0.1966318242 0.16028976 2.199411e-01\n",
       "7  cibersort.regular.endocardial     0.0544040804 0.18886179 7.733019e-01\n",
       "8  cibersort.regular.endothelial    -0.1706229283 0.53001641 7.475170e-01\n",
       "9  cibersort.regular.fibroblast      0.7946037099 0.11404459 3.338070e-12\n",
       "10 cibersort.regular.immune          0.4974177432 0.09713252 3.070138e-07\n",
       "11 cibersort.regular.myofibroblast  -0.0493149165 1.01468179 9.612375e-01\n",
       "12 cibersort.regular.smooth_muscle   0.2557779734 0.07738679 9.509754e-04\n",
       "13 heart                             0.2588021168 0.07483721 5.450504e-04\n",
       "14 heart_atrium                      0.2369165447 0.12463706 5.733741e-02\n",
       "15 heart_ventricle                   0.2236533146 0.09820764 2.277691e-02\n",
       "16 ipsc_cvpc                         0.0005271396 0.12685356 9.966844e-01"
      ]
     },
     "metadata": {},
     "output_type": "display_data"
    }
   ],
   "source": [
    "tests_cell"
   ]
  },
  {
   "cell_type": "markdown",
   "metadata": {},
   "source": [
    "# Are eVariants associated with multiple eGenes more likely to be associated with the same cell type associations?"
   ]
  },
  {
   "cell_type": "code",
   "execution_count": 338,
   "metadata": {},
   "outputs": [
    {
     "name": "stdout",
     "output_type": "stream",
     "text": [
      "'data.frame':\t3622 obs. of  20 variables:\n",
      " $ gene_id1      : chr  \"ENSG00000001460.18_7\" \"ENSG00000007516.14_6\" \"ENSG00000006194.10_5\" \"ENSG00000006282.21_8\" ...\n",
      " $ gene_id2      : chr  \"ENSG00000001461.17_4\" \"ENSG00000007520.4_5\" \"ENSG00000010539.11_7\" \"ENSG00000011052.21_4\" ...\n",
      " $ gene_name1    : chr  \"STPG1\" \"BAIAP3\" \"ZNF263\" \"SPATA20\" ...\n",
      " $ gene_name2    : chr  \"NIPAL3\" \"TSR3\" \"ZNF200\" \"NME1-NME2\" ...\n",
      " $ transcript_id1: chr  \"ENSG00000001460.18_7\" \"ENSG00000007516.14_6\" \"ENSG00000006194.10_5\" \"ENSG00000006282.21_8\" ...\n",
      " $ transcript_id2: chr  \"ENSG00000001461.17_4\" \"ENSG00000007520.4_5\" \"ENSG00000010539.11_7\" \"ENSG00000011052.21_4\" ...\n",
      " $ type1         : int  0 1 0 2 0 1 0 2 0 1 ...\n",
      " $ type2         : int  0 0 0 0 1 0 1 0 1 0 ...\n",
      " $ id            : chr  \"VAR_1_24743783_C_T\" \"VAR_16_1393851_GCTGGGACAGGCCGT_G\" \"VAR_16_3340845_C_T\" \"VAR_17_49043348_C_T\" ...\n",
      " $ chrom         : int  1 16 16 17 17 6 16 11 17 22 ...\n",
      " $ pos           : int  24743783 1393851 3340845 49043348 40812797 111896286 1396788 17339127 7413057 50557120 ...\n",
      " $ ref           : chr  \"C\" \"GCTGGGACAGGCCGT\" \"C\" \"C\" ...\n",
      " $ alt           : chr  \"T\" \"G\" \"T\" \"T\" ...\n",
      " $ af            : num  0.253 0.055 0.238 0.065 0.42 0.801 0.521 0.733 0.781 0.495 ...\n",
      " $ pp_snp        : num  0.113 1 0.222 0.999 0.303 ...\n",
      " $ PP.H0.abf     : num  1.00e-23 4.96e-07 1.98e-22 1.08e-02 1.60e-02 ...\n",
      " $ PP.H1.abf     : num  1.13e-10 1.80e-07 8.98e-04 8.34e-04 8.96e-02 ...\n",
      " $ PP.H2.abf     : num  3.68e-15 1.44e-02 3.01e-20 4.18e-02 1.24e-02 ...\n",
      " $ PP.H3.abf     : num  0.04045 0.00424 0.13579 0.00229 0.06884 ...\n",
      " $ PP.H4.abf     : num  0.96 0.981 0.863 0.944 0.813 ...\n"
     ]
    }
   ],
   "source": [
    "str(coloc_dif_unique)\n"
   ]
  },
  {
   "cell_type": "code",
   "execution_count": 366,
   "metadata": {},
   "outputs": [],
   "source": [
    "perm_test = function(x)\n",
    "{\n",
    "    x$cell1 = sample(x$cell1)\n",
    "    x$cell2 = sample(x$cell2)\n",
    "    score   = nrow(x[ rowSums(x[,c(\"cell1\", \"cell2\")]) == 2,]) / nrow(x[ rowSums(x[,c(\"cell1\", \"cell2\")]) >= 1,])\n",
    "\n",
    "    return(score)\n",
    "}\n",
    "\n",
    "test_cell_var = function(cell, celldata, coloc_dif_unique)\n",
    "{\n",
    "    gene_ids = unique(celldata[ celldata$interaction == cell & celldata$cell == TRUE, \"gene_id\"])\n",
    "    x        = coloc_dif_unique\n",
    "    x$cell1  = 0\n",
    "    x$cell2  = 0\n",
    "    x[x$gene_id1 %in% gene_ids, \"cell1\"] = 1\n",
    "    x[x$gene_id2 %in% gene_ids, \"cell2\"] = 1\n",
    "    \n",
    "    score = nrow(x[ rowSums(x[,c(\"cell1\", \"cell2\")]) == 2,]) / nrow(x[ rowSums(x[,c(\"cell1\", \"cell2\")]) >= 1,])\n",
    "    \n",
    "    permdata = unlist(lapply(1:100, function(ii){perm_test(x)}))\n",
    "    \n",
    "    out = data.frame(cell      = cell, \n",
    "                     score     = score, \n",
    "                     n         = nrow(x[ rowSums(x[,c(\"cell1\", \"cell2\")]) == 2,]), \n",
    "                     perm_mean = mean(permdata),\n",
    "                     perm_sd   = sd  (permdata)\n",
    "                    )\n",
    "    \n",
    "    return(out)\n",
    "}\n",
    "\n",
    "celldata          = rbind(qtl_list$interactions$rna, qtl_list$interactions$isoform)\n",
    "cells_perm        = as.data.frame(rbindlist(lapply(cells, function(cell){test_cell_var(cell, celldata, coloc_dif_unique)})), stringsAsFactors = FALSE)\n",
    "cells_perm$zscore = (cells_perm$score - cells_perm$perm_mean) / cells_perm$perm_sd\n",
    "cells_perm$pval   = 2 * pnorm(q = -abs(cells_perm$zscore))\n",
    "\n",
    "fwrite(cells_perm, \"pipeline/5.9.coloc_network_only_eqtls/enrichment_by_cell_permutations.txt\", sep = \"\\t\", col.names = TRUE, row.names = FALSE)\n"
   ]
  },
  {
   "cell_type": "code",
   "execution_count": 367,
   "metadata": {},
   "outputs": [
    {
     "data": {
      "text/html": [
       "<table>\n",
       "<caption>A data.frame: 16 × 7</caption>\n",
       "<thead>\n",
       "\t<tr><th scope=col>cell</th><th scope=col>score</th><th scope=col>n</th><th scope=col>perm_mean</th><th scope=col>perm_sd</th><th scope=col>zscore</th><th scope=col>pval</th></tr>\n",
       "\t<tr><th scope=col>&lt;chr&gt;</th><th scope=col>&lt;dbl&gt;</th><th scope=col>&lt;int&gt;</th><th scope=col>&lt;dbl&gt;</th><th scope=col>&lt;dbl&gt;</th><th scope=col>&lt;dbl&gt;</th><th scope=col>&lt;dbl&gt;</th></tr>\n",
       "</thead>\n",
       "<tbody>\n",
       "\t<tr><td>adult                           </td><td>0.12140992</td><td>93</td><td>0.063492867</td><td>0.007914488</td><td> 7.3178525</td><td>2.519705e-13</td></tr>\n",
       "\t<tr><td>arteria                         </td><td>0.12670300</td><td>93</td><td>0.060685487</td><td>0.008991355</td><td> 7.3423315</td><td>2.099047e-13</td></tr>\n",
       "\t<tr><td>arteria_aorta                   </td><td>0.09205021</td><td>44</td><td>0.036510005</td><td>0.008934774</td><td> 6.2161845</td><td>5.093891e-10</td></tr>\n",
       "\t<tr><td>arteria_coronary                </td><td>0.00000000</td><td> 0</td><td>0.005865407</td><td>0.006965354</td><td>-0.8420831</td><td>3.997415e-01</td></tr>\n",
       "\t<tr><td>cibersort.regular.cardiac_muscle</td><td>0.10561798</td><td>47</td><td>0.035293422</td><td>0.008595663</td><td> 8.1814001</td><td>2.805645e-16</td></tr>\n",
       "\t<tr><td>cibersort.regular.cardiac_neuron</td><td>0.00000000</td><td> 0</td><td>0.008088903</td><td>0.008993802</td><td>-0.8993863</td><td>3.684469e-01</td></tr>\n",
       "\t<tr><td>cibersort.regular.endocardial   </td><td>0.02752294</td><td> 3</td><td>0.006345891</td><td>0.007620093</td><td> 2.7791058</td><td>5.450877e-03</td></tr>\n",
       "\t<tr><td>cibersort.regular.endothelial   </td><td>0.00000000</td><td> 0</td><td>0.000000000</td><td>0.000000000</td><td>       NaN</td><td>         NaN</td></tr>\n",
       "\t<tr><td>cibersort.regular.fibroblast    </td><td>0.08776596</td><td>33</td><td>0.029170061</td><td>0.007774638</td><td> 7.5368010</td><td>4.816404e-14</td></tr>\n",
       "\t<tr><td>cibersort.regular.immune        </td><td>0.06937799</td><td>29</td><td>0.030295352</td><td>0.007678025</td><td> 5.0901945</td><td>3.576965e-07</td></tr>\n",
       "\t<tr><td>cibersort.regular.myofibroblast </td><td>0.00000000</td><td> 0</td><td>0.000000000</td><td>0.000000000</td><td>       NaN</td><td>         NaN</td></tr>\n",
       "\t<tr><td>cibersort.regular.smooth_muscle </td><td>0.10885609</td><td>59</td><td>0.043940847</td><td>0.008402565</td><td> 7.7256462</td><td>1.112873e-14</td></tr>\n",
       "\t<tr><td>heart                           </td><td>0.11583012</td><td>60</td><td>0.040299955</td><td>0.007808540</td><td> 9.6727632</td><td>3.936046e-22</td></tr>\n",
       "\t<tr><td>heart_atrium                    </td><td>0.06111111</td><td>11</td><td>0.011643237</td><td>0.006740307</td><td> 7.3391124</td><td>2.150151e-13</td></tr>\n",
       "\t<tr><td>heart_ventricle                 </td><td>0.09385113</td><td>29</td><td>0.024848254</td><td>0.009008973</td><td> 7.6593500</td><td>1.868765e-14</td></tr>\n",
       "\t<tr><td>ipsc_cvpc                       </td><td>0.04104478</td><td>11</td><td>0.018880019</td><td>0.008755047</td><td> 2.5316547</td><td>1.135257e-02</td></tr>\n",
       "</tbody>\n",
       "</table>\n"
      ],
      "text/latex": [
       "A data.frame: 16 × 7\n",
       "\\begin{tabular}{lllllll}\n",
       " cell & score & n & perm\\_mean & perm\\_sd & zscore & pval\\\\\n",
       " <chr> & <dbl> & <int> & <dbl> & <dbl> & <dbl> & <dbl>\\\\\n",
       "\\hline\n",
       "\t adult                            & 0.12140992 & 93 & 0.063492867 & 0.007914488 &  7.3178525 & 2.519705e-13\\\\\n",
       "\t arteria                          & 0.12670300 & 93 & 0.060685487 & 0.008991355 &  7.3423315 & 2.099047e-13\\\\\n",
       "\t arteria\\_aorta                    & 0.09205021 & 44 & 0.036510005 & 0.008934774 &  6.2161845 & 5.093891e-10\\\\\n",
       "\t arteria\\_coronary                 & 0.00000000 &  0 & 0.005865407 & 0.006965354 & -0.8420831 & 3.997415e-01\\\\\n",
       "\t cibersort.regular.cardiac\\_muscle & 0.10561798 & 47 & 0.035293422 & 0.008595663 &  8.1814001 & 2.805645e-16\\\\\n",
       "\t cibersort.regular.cardiac\\_neuron & 0.00000000 &  0 & 0.008088903 & 0.008993802 & -0.8993863 & 3.684469e-01\\\\\n",
       "\t cibersort.regular.endocardial    & 0.02752294 &  3 & 0.006345891 & 0.007620093 &  2.7791058 & 5.450877e-03\\\\\n",
       "\t cibersort.regular.endothelial    & 0.00000000 &  0 & 0.000000000 & 0.000000000 &        NaN &          NaN\\\\\n",
       "\t cibersort.regular.fibroblast     & 0.08776596 & 33 & 0.029170061 & 0.007774638 &  7.5368010 & 4.816404e-14\\\\\n",
       "\t cibersort.regular.immune         & 0.06937799 & 29 & 0.030295352 & 0.007678025 &  5.0901945 & 3.576965e-07\\\\\n",
       "\t cibersort.regular.myofibroblast  & 0.00000000 &  0 & 0.000000000 & 0.000000000 &        NaN &          NaN\\\\\n",
       "\t cibersort.regular.smooth\\_muscle  & 0.10885609 & 59 & 0.043940847 & 0.008402565 &  7.7256462 & 1.112873e-14\\\\\n",
       "\t heart                            & 0.11583012 & 60 & 0.040299955 & 0.007808540 &  9.6727632 & 3.936046e-22\\\\\n",
       "\t heart\\_atrium                     & 0.06111111 & 11 & 0.011643237 & 0.006740307 &  7.3391124 & 2.150151e-13\\\\\n",
       "\t heart\\_ventricle                  & 0.09385113 & 29 & 0.024848254 & 0.009008973 &  7.6593500 & 1.868765e-14\\\\\n",
       "\t ipsc\\_cvpc                        & 0.04104478 & 11 & 0.018880019 & 0.008755047 &  2.5316547 & 1.135257e-02\\\\\n",
       "\\end{tabular}\n"
      ],
      "text/markdown": [
       "\n",
       "A data.frame: 16 × 7\n",
       "\n",
       "| cell &lt;chr&gt; | score &lt;dbl&gt; | n &lt;int&gt; | perm_mean &lt;dbl&gt; | perm_sd &lt;dbl&gt; | zscore &lt;dbl&gt; | pval &lt;dbl&gt; |\n",
       "|---|---|---|---|---|---|---|\n",
       "| adult                            | 0.12140992 | 93 | 0.063492867 | 0.007914488 |  7.3178525 | 2.519705e-13 |\n",
       "| arteria                          | 0.12670300 | 93 | 0.060685487 | 0.008991355 |  7.3423315 | 2.099047e-13 |\n",
       "| arteria_aorta                    | 0.09205021 | 44 | 0.036510005 | 0.008934774 |  6.2161845 | 5.093891e-10 |\n",
       "| arteria_coronary                 | 0.00000000 |  0 | 0.005865407 | 0.006965354 | -0.8420831 | 3.997415e-01 |\n",
       "| cibersort.regular.cardiac_muscle | 0.10561798 | 47 | 0.035293422 | 0.008595663 |  8.1814001 | 2.805645e-16 |\n",
       "| cibersort.regular.cardiac_neuron | 0.00000000 |  0 | 0.008088903 | 0.008993802 | -0.8993863 | 3.684469e-01 |\n",
       "| cibersort.regular.endocardial    | 0.02752294 |  3 | 0.006345891 | 0.007620093 |  2.7791058 | 5.450877e-03 |\n",
       "| cibersort.regular.endothelial    | 0.00000000 |  0 | 0.000000000 | 0.000000000 |        NaN |          NaN |\n",
       "| cibersort.regular.fibroblast     | 0.08776596 | 33 | 0.029170061 | 0.007774638 |  7.5368010 | 4.816404e-14 |\n",
       "| cibersort.regular.immune         | 0.06937799 | 29 | 0.030295352 | 0.007678025 |  5.0901945 | 3.576965e-07 |\n",
       "| cibersort.regular.myofibroblast  | 0.00000000 |  0 | 0.000000000 | 0.000000000 |        NaN |          NaN |\n",
       "| cibersort.regular.smooth_muscle  | 0.10885609 | 59 | 0.043940847 | 0.008402565 |  7.7256462 | 1.112873e-14 |\n",
       "| heart                            | 0.11583012 | 60 | 0.040299955 | 0.007808540 |  9.6727632 | 3.936046e-22 |\n",
       "| heart_atrium                     | 0.06111111 | 11 | 0.011643237 | 0.006740307 |  7.3391124 | 2.150151e-13 |\n",
       "| heart_ventricle                  | 0.09385113 | 29 | 0.024848254 | 0.009008973 |  7.6593500 | 1.868765e-14 |\n",
       "| ipsc_cvpc                        | 0.04104478 | 11 | 0.018880019 | 0.008755047 |  2.5316547 | 1.135257e-02 |\n",
       "\n"
      ],
      "text/plain": [
       "   cell                             score      n  perm_mean   perm_sd    \n",
       "1  adult                            0.12140992 93 0.063492867 0.007914488\n",
       "2  arteria                          0.12670300 93 0.060685487 0.008991355\n",
       "3  arteria_aorta                    0.09205021 44 0.036510005 0.008934774\n",
       "4  arteria_coronary                 0.00000000  0 0.005865407 0.006965354\n",
       "5  cibersort.regular.cardiac_muscle 0.10561798 47 0.035293422 0.008595663\n",
       "6  cibersort.regular.cardiac_neuron 0.00000000  0 0.008088903 0.008993802\n",
       "7  cibersort.regular.endocardial    0.02752294  3 0.006345891 0.007620093\n",
       "8  cibersort.regular.endothelial    0.00000000  0 0.000000000 0.000000000\n",
       "9  cibersort.regular.fibroblast     0.08776596 33 0.029170061 0.007774638\n",
       "10 cibersort.regular.immune         0.06937799 29 0.030295352 0.007678025\n",
       "11 cibersort.regular.myofibroblast  0.00000000  0 0.000000000 0.000000000\n",
       "12 cibersort.regular.smooth_muscle  0.10885609 59 0.043940847 0.008402565\n",
       "13 heart                            0.11583012 60 0.040299955 0.007808540\n",
       "14 heart_atrium                     0.06111111 11 0.011643237 0.006740307\n",
       "15 heart_ventricle                  0.09385113 29 0.024848254 0.009008973\n",
       "16 ipsc_cvpc                        0.04104478 11 0.018880019 0.008755047\n",
       "   zscore     pval        \n",
       "1   7.3178525 2.519705e-13\n",
       "2   7.3423315 2.099047e-13\n",
       "3   6.2161845 5.093891e-10\n",
       "4  -0.8420831 3.997415e-01\n",
       "5   8.1814001 2.805645e-16\n",
       "6  -0.8993863 3.684469e-01\n",
       "7   2.7791058 5.450877e-03\n",
       "8         NaN          NaN\n",
       "9   7.5368010 4.816404e-14\n",
       "10  5.0901945 3.576965e-07\n",
       "11        NaN          NaN\n",
       "12  7.7256462 1.112873e-14\n",
       "13  9.6727632 3.936046e-22\n",
       "14  7.3391124 2.150151e-13\n",
       "15  7.6593500 1.868765e-14\n",
       "16  2.5316547 1.135257e-02"
      ]
     },
     "metadata": {},
     "output_type": "display_data"
    }
   ],
   "source": [
    "cells_perm"
   ]
  },
  {
   "cell_type": "markdown",
   "metadata": {},
   "source": [
    "# Are eQTLs shared between genes more likely to overlap regulatory elements expressed in many tissues? YES\n",
    "- look for overlap with Roadmap ChromHMM\n",
    "- compare with: lead variants for other genes (not shared between genes); and non-eQTL lead variants"
   ]
  },
  {
   "cell_type": "code",
   "execution_count": 62,
   "metadata": {},
   "outputs": [],
   "source": [
    "qtls      = rbind(qtl_list[[\"qtl\"]][[\"rna\"]], qtl_list[[\"qtl\"]][[\"isoform\"]])\n",
    "qtls_rest = qtls[!qtls$gene_id %in% c(coloc_dif_unique$gene_id1, coloc_dif_unique$gene_id2),]\n"
   ]
  },
  {
   "cell_type": "code",
   "execution_count": 114,
   "metadata": {},
   "outputs": [],
   "source": [
    "qtl2test = counts\n",
    "qtl2test$bin = 1\n",
    "qtl2test[qtl2test$n >=  2, \"bin\"] =  2\n",
    "qtl2test[qtl2test$n >=  5, \"bin\"] =  5\n",
    "qtl2test[qtl2test$n >= 10, \"bin\"] = 10\n",
    "\n",
    "qtl2test       = rbind(qtl2test, data.frame(id = qtls_rest[! qtls_rest$id %in% qtl2test$id & qtls_rest$egene == TRUE                                                                        , \"id\"], n =  0, bin =  0))\n",
    "qtl2test       = rbind(qtl2test, data.frame(id = qtls_rest[! qtls_rest$id %in% qtl2test$id & qtls_rest$egene == FALSE & qtls_rest$type == 0 & grepl(\"ENSG\", qtls_rest$transcript_id) == TRUE, \"id\"], n = -1, bin = -1))\n",
    "qtl2test$chrom = paste0(\"chr\", unlist(lapply(qtl2test$id, function(x){unlist(strsplit(x, \"_\"))[[2]]})))\n",
    "qtl2test$pos   = as.numeric(   unlist(lapply(qtl2test$id, function(x){unlist(strsplit(x, \"_\"))[[3]]})))\n",
    "qtl2test       = unique(qtl2test)"
   ]
  },
  {
   "cell_type": "code",
   "execution_count": 115,
   "metadata": {},
   "outputs": [],
   "source": [
    "qtl2test_bed    = \"pipeline/5.9.coloc_network_only_eqtls/qtl2test.bed\"\n",
    "roadmap_files   = list.files(path = \"/frazer01/reference/public/RoadmapEpigenomics/ChmmModels\", pattern = \"_15_coreMarks_segments.bed\", full.names = TRUE)\n",
    "intersected_bed = \"pipeline/5.9.coloc_network_only_eqtls/intersected.bed\""
   ]
  },
  {
   "cell_type": "code",
   "execution_count": 116,
   "metadata": {},
   "outputs": [],
   "source": [
    "roadmap = data.frame(file = roadmap_files, eid = unlist(lapply(roadmap_files, function(x)\n",
    "{\n",
    "    x = unlist(strsplit(x, \"/\"))\n",
    "    x = x[[length(x)]]\n",
    "    return(sub(\"_15_coreMarks_segments.bed\", \"\", x))\n",
    "})))\n",
    "\n",
    "rownames(roadmap) = roadmap$eid"
   ]
  },
  {
   "cell_type": "code",
   "execution_count": 117,
   "metadata": {},
   "outputs": [],
   "source": [
    "fwrite(qtl2test[order(qtl2test$chrom, qtl2test$pos), c(\"chrom\", \"pos\", \"pos\", \"id\", \"n\", \"bin\")], qtl2test_bed, sep = \"\\t\", col.names = FALSE, row.names = FALSE)"
   ]
  },
  {
   "cell_type": "code",
   "execution_count": 118,
   "metadata": {},
   "outputs": [
    {
     "data": {
      "text/plain": [
       "\n",
       "   -1     0     1     2     5    10 \n",
       " 7525 15060  2329   405    37     7 "
      ]
     },
     "metadata": {},
     "output_type": "display_data"
    },
    {
     "name": "stdout",
     "output_type": "stream",
     "text": [
      "'data.frame':\t25363 obs. of  5 variables:\n",
      " $ id   : chr  \"VAR_17_44173215_T_C\" \"VAR_7_102126545_C_CACTTTTT\" \"VAR_16_29469615_CA_C\" \"VAR_15_30910204_C_G\" ...\n",
      " $ n    : num  23 19 13 12 11 11 10 9 8 8 ...\n",
      " $ bin  : num  10 10 10 10 10 10 10 5 5 5 ...\n",
      " $ chrom: chr  \"chr17\" \"chr7\" \"chr16\" \"chr15\" ...\n",
      " $ pos  : num  4.42e+07 1.02e+08 2.95e+07 3.09e+07 1.51e+07 ...\n"
     ]
    }
   ],
   "source": [
    "table(qtl2test$bin)\n",
    "str(qtl2test)\n"
   ]
  },
  {
   "cell_type": "code",
   "execution_count": 119,
   "metadata": {},
   "outputs": [],
   "source": [
    "command_intersect = paste(\"bedtools\", \"intersect\", \"-loj\", \"-filenames\",\n",
    "                          \"-a\", qtl2test_bed, paste(\"-b\", roadmap_files, collapse = \" \"),\n",
    "                          \">\", intersected_bed\n",
    "                         )\n",
    "\n",
    "system(command_intersect)"
   ]
  },
  {
   "cell_type": "code",
   "execution_count": 120,
   "metadata": {},
   "outputs": [
    {
     "name": "stdout",
     "output_type": "stream",
     "text": [
      "'data.frame':\t3222425 obs. of  7 variables:\n",
      " $ chrom: chr  \"chr1\" \"chr1\" \"chr1\" \"chr1\" ...\n",
      " $ pos  : int  63735 63735 63735 63735 63735 63735 63735 63735 63735 63735 ...\n",
      " $ id   : chr  \"VAR_1_63735_CCTA_C\" \"VAR_1_63735_CCTA_C\" \"VAR_1_63735_CCTA_C\" \"VAR_1_63735_CCTA_C\" ...\n",
      " $ n    : int  -1 -1 -1 -1 -1 -1 -1 -1 -1 -1 ...\n",
      " $ bin  : int  -1 -1 -1 -1 -1 -1 -1 -1 -1 -1 ...\n",
      " $ file : chr  \"/frazer01/reference/public/RoadmapEpigenomics/ChmmModels/E027_15_coreMarks_segments.bed\" \"/frazer01/reference/public/RoadmapEpigenomics/ChmmModels/E011_15_coreMarks_segments.bed\" \"/frazer01/reference/public/RoadmapEpigenomics/ChmmModels/E014_15_coreMarks_segments.bed\" \"/frazer01/reference/public/RoadmapEpigenomics/ChmmModels/E016_15_coreMarks_segments.bed\" ...\n",
      " $ mark : num  14 15 15 15 15 15 15 15 15 15 ...\n"
     ]
    }
   ],
   "source": [
    "intersected           = fread(intersected_bed, sep = \"\\t\", header = FALSE, data.table = FALSE)\n",
    "colnames(intersected) = c(\"chrom\", \"pos\", \"pos2\", \"id\", \"n\", \"bin\", \"file\", \"chrom2\", \"from\", \"to\", \"mark\")\n",
    "intersected$mark      = as.numeric(sub(\"E\", \"\", intersected$mark))\n",
    "\n",
    "intersected[,c(\"pos2\", \"chrom2\", \"from\", \"to\")] = NULL\n",
    "\n",
    "str(intersected)"
   ]
  },
  {
   "cell_type": "code",
   "execution_count": 123,
   "metadata": {},
   "outputs": [],
   "source": [
    "qtl2mark           = unique(intersected[, c(\"chrom\", \"pos\", \"id\", \"n\", \"bin\")])\n",
    "rownames(qtl2mark) = qtl2mark$id\n",
    "\n",
    "for(eid in roadmap$eid)\n",
    "{\n",
    "    infile         = roadmap[eid, \"file\"]\n",
    "    qtl2mark[,eid] = 15\n",
    "    todata         = intersected[ intersected$file == infile,]\n",
    "    \n",
    "    qtl2mark[ todata$id, eid] = todata$mark\n",
    "}\n",
    "\n"
   ]
  },
  {
   "cell_type": "code",
   "execution_count": 158,
   "metadata": {},
   "outputs": [],
   "source": [
    "states           = fread(\"/frazer01/reference/private/chromhmm_states.txt\", sep = \"\\t\", header = TRUE, data.table = FALSE)\n",
    "colnames(states) = c(\"mark\", \"mark_id\", \"description\", \"color_name\", \"color_code\")\n",
    "states$color_r   = as.hexmode(as.numeric(lapply(states$color_code, function(x){unlist(strsplit(x, \",\"))[[1]]})))\n",
    "states$color_g   = as.hexmode(as.numeric(lapply(states$color_code, function(x){unlist(strsplit(x, \",\"))[[2]]})))\n",
    "states$color_b   = as.hexmode(as.numeric(lapply(states$color_code, function(x){unlist(strsplit(x, \",\"))[[3]]})))\n",
    "states$color     = paste0(\"#\", states$color_r, states$color_g, states$color_b)\n",
    "states           = states[,c(\"mark\", \"mark_id\", \"description\", \"color\")]\n",
    "states$activity  = \"active\"\n",
    "rownames(states) = paste0(\"E\", states$mark)\n",
    "\n",
    "states[ states$mark %in% c(9, 13:15), \"activity\"] = \"repressed\"\n",
    "states[ states$mark %in% 10:12      , \"activity\"] = \"bivalent\"\n",
    "\n",
    "fwrite(states, \"pipeline/chromatin_states.txt\", sep = \"\\t\", col.names = TRUE, row.names = FALSE)\n",
    "\n",
    "activities = sort(unique(states$activity))"
   ]
  },
  {
   "cell_type": "code",
   "execution_count": 162,
   "metadata": {},
   "outputs": [],
   "source": [
    "qtl2mark_by_mark = qtl2mark[, c(\"chrom\", \"pos\", \"id\", \"n\", \"bin\")]\n",
    "\n",
    "qtl2mark_by_mark[, paste0(\"E\", 1:15)] = 0\n",
    "qtl2mark_by_mark[, activities       ] = 0\n",
    "\n",
    "for(id in qtl2mark_by_mark$id)\n",
    "{\n",
    "    indata   = paste0(\"E\", as.numeric(qtl2mark[id, roadmap$eid]))\n",
    "    to_state = table(indata)\n",
    "    \n",
    "    for(activity in activities)\n",
    "    {\n",
    "        qtl2mark_by_mark[id, activity] = length(indata[indata %in% rownames(states[states$activity == activity, ])]) / nrow(roadmap)\n",
    "    }\n",
    "\n",
    "    \n",
    "    qtl2mark_by_mark[id, names(to_state)] = as.numeric(to_state) / nrow(roadmap)\n",
    "}\n",
    "\n"
   ]
  },
  {
   "cell_type": "code",
   "execution_count": 150,
   "metadata": {},
   "outputs": [
    {
     "data": {
      "image/png": "[encoded data removed]",
      "text/plain": [
       "plot without title"
      ]
     },
     "metadata": {
      "image/png": {
       "height": 420,
       "width": 420
      },
      "text/plain": {
       "height": 420,
       "width": 420
      }
     },
     "output_type": "display_data"
    }
   ],
   "source": [
    "toplot_by_state = aggregate(. ~ bin, data = qtl2mark_by_mark[,c(\"bin\", paste0(\"E\", 1:15))], FUN = mean)\n",
    "\n",
    "barplot(t(as.matrix(toplot_by_state[,rownames(states)])), names.arg = toplot$bin, col = states$color)"
   ]
  },
  {
   "cell_type": "code",
   "execution_count": 196,
   "metadata": {},
   "outputs": [
    {
     "data": {
      "text/html": [
       "<table>\n",
       "<caption>A matrix: 2 × 4 of type dbl</caption>\n",
       "<thead>\n",
       "\t<tr><th></th><th scope=col>Estimate</th><th scope=col>Std. Error</th><th scope=col>t value</th><th scope=col>Pr(&gt;|t|)</th></tr>\n",
       "</thead>\n",
       "<tbody>\n",
       "\t<tr><th scope=row>(Intercept)</th><td>0.45750376</td><td>0.002378273</td><td>192.36802</td><td> 0.000000e+00</td></tr>\n",
       "\t<tr><th scope=row>n</th><td>0.09421947</td><td>0.003065186</td><td> 30.73859</td><td>9.495561e-204</td></tr>\n",
       "</tbody>\n",
       "</table>\n"
      ],
      "text/latex": [
       "A matrix: 2 × 4 of type dbl\n",
       "\\begin{tabular}{r|llll}\n",
       "  & Estimate & Std. Error & t value & Pr(>\\textbar{}t\\textbar{})\\\\\n",
       "\\hline\n",
       "\t(Intercept) & 0.45750376 & 0.002378273 & 192.36802 &  0.000000e+00\\\\\n",
       "\tn & 0.09421947 & 0.003065186 &  30.73859 & 9.495561e-204\\\\\n",
       "\\end{tabular}\n"
      ],
      "text/markdown": [
       "\n",
       "A matrix: 2 × 4 of type dbl\n",
       "\n",
       "| <!--/--> | Estimate | Std. Error | t value | Pr(&gt;|t|) |\n",
       "|---|---|---|---|---|\n",
       "| (Intercept) | 0.45750376 | 0.002378273 | 192.36802 |  0.000000e+00 |\n",
       "| n | 0.09421947 | 0.003065186 |  30.73859 | 9.495561e-204 |\n",
       "\n"
      ],
      "text/plain": [
       "            Estimate   Std. Error  t value   Pr(>|t|)     \n",
       "(Intercept) 0.45750376 0.002378273 192.36802  0.000000e+00\n",
       "n           0.09421947 0.003065186  30.73859 9.495561e-204"
      ]
     },
     "metadata": {},
     "output_type": "display_data"
    },
    {
     "data": {
      "text/html": [
       "<table>\n",
       "<caption>A matrix: 2 × 4 of type dbl</caption>\n",
       "<thead>\n",
       "\t<tr><th></th><th scope=col>Estimate</th><th scope=col>Std. Error</th><th scope=col>t value</th><th scope=col>Pr(&gt;|t|)</th></tr>\n",
       "</thead>\n",
       "<tbody>\n",
       "\t<tr><th scope=row>(Intercept)</th><td>0.48480266</td><td>0.002411360</td><td>201.04946</td><td> 0.000000e+00</td></tr>\n",
       "\t<tr><th scope=row>n</th><td>0.09203469</td><td>0.003099556</td><td> 29.69286</td><td>2.766822e-190</td></tr>\n",
       "</tbody>\n",
       "</table>\n"
      ],
      "text/latex": [
       "A matrix: 2 × 4 of type dbl\n",
       "\\begin{tabular}{r|llll}\n",
       "  & Estimate & Std. Error & t value & Pr(>\\textbar{}t\\textbar{})\\\\\n",
       "\\hline\n",
       "\t(Intercept) & 0.48480266 & 0.002411360 & 201.04946 &  0.000000e+00\\\\\n",
       "\tn & 0.09203469 & 0.003099556 &  29.69286 & 2.766822e-190\\\\\n",
       "\\end{tabular}\n"
      ],
      "text/markdown": [
       "\n",
       "A matrix: 2 × 4 of type dbl\n",
       "\n",
       "| <!--/--> | Estimate | Std. Error | t value | Pr(&gt;|t|) |\n",
       "|---|---|---|---|---|\n",
       "| (Intercept) | 0.48480266 | 0.002411360 | 201.04946 |  0.000000e+00 |\n",
       "| n | 0.09203469 | 0.003099556 |  29.69286 | 2.766822e-190 |\n",
       "\n"
      ],
      "text/plain": [
       "            Estimate   Std. Error  t value   Pr(>|t|)     \n",
       "(Intercept) 0.48480266 0.002411360 201.04946  0.000000e+00\n",
       "n           0.09203469 0.003099556  29.69286 2.766822e-190"
      ]
     },
     "metadata": {},
     "output_type": "display_data"
    },
    {
     "data": {
      "text/html": [
       "<table>\n",
       "<caption>A matrix: 2 × 4 of type dbl</caption>\n",
       "<thead>\n",
       "\t<tr><th></th><th scope=col>Estimate</th><th scope=col>Std. Error</th><th scope=col>t value</th><th scope=col>Pr(&gt;|t|)</th></tr>\n",
       "</thead>\n",
       "<tbody>\n",
       "\t<tr><th scope=row>(Intercept)</th><td>0.47153516</td><td>0.002985545</td><td>157.93938</td><td>0.000000e+00</td></tr>\n",
       "\t<tr><th scope=row>n</th><td>0.06772697</td><td>0.004531209</td><td> 14.94678</td><td>3.291896e-50</td></tr>\n",
       "</tbody>\n",
       "</table>\n"
      ],
      "text/latex": [
       "A matrix: 2 × 4 of type dbl\n",
       "\\begin{tabular}{r|llll}\n",
       "  & Estimate & Std. Error & t value & Pr(>\\textbar{}t\\textbar{})\\\\\n",
       "\\hline\n",
       "\t(Intercept) & 0.47153516 & 0.002985545 & 157.93938 & 0.000000e+00\\\\\n",
       "\tn & 0.06772697 & 0.004531209 &  14.94678 & 3.291896e-50\\\\\n",
       "\\end{tabular}\n"
      ],
      "text/markdown": [
       "\n",
       "A matrix: 2 × 4 of type dbl\n",
       "\n",
       "| <!--/--> | Estimate | Std. Error | t value | Pr(&gt;|t|) |\n",
       "|---|---|---|---|---|\n",
       "| (Intercept) | 0.47153516 | 0.002985545 | 157.93938 | 0.000000e+00 |\n",
       "| n | 0.06772697 | 0.004531209 |  14.94678 | 3.291896e-50 |\n",
       "\n"
      ],
      "text/plain": [
       "            Estimate   Std. Error  t value   Pr(>|t|)    \n",
       "(Intercept) 0.47153516 0.002985545 157.93938 0.000000e+00\n",
       "n           0.06772697 0.004531209  14.94678 3.291896e-50"
      ]
     },
     "metadata": {},
     "output_type": "display_data"
    },
    {
     "data": {
      "text/plain": [
       "\n",
       "\tWelch Two Sample t-test\n",
       "\n",
       "data:  qtl2mark_by_mark[qtl2mark_by_mark$bin > 0, \"active\"] and qtl2mark_by_mark[qtl2mark_by_mark$bin == 0, \"active\"]\n",
       "t = 20.869, df = 3865.6, p-value < 2.2e-16\n",
       "alternative hypothesis: true difference in means is not equal to 0\n",
       "95 percent confidence interval:\n",
       " 0.1475114 0.1781014\n",
       "sample estimates:\n",
       "mean of x mean of y \n",
       "0.6227388 0.4599324 \n"
      ]
     },
     "metadata": {},
     "output_type": "display_data"
    }
   ],
   "source": [
    "summary(lm(active    ~ n, data = qtl2mark_by_mark                               ))$coefficients\n",
    "summary(lm(active    ~ n, data = qtl2mark_by_mark[qtl2mark_by_mark$active >  0,]))$coefficients\n",
    "summary(lm(active    ~ n, data = qtl2mark_by_mark[qtl2mark_by_mark$bin    >= 0,]))$coefficients\n",
    "\n",
    "t.test(qtl2mark_by_mark[qtl2mark_by_mark$bin > 0, \"active\"], qtl2mark_by_mark[qtl2mark_by_mark$bin == 0, \"active\"])\n",
    "\n"
   ]
  },
  {
   "cell_type": "code",
   "execution_count": 202,
   "metadata": {},
   "outputs": [
    {
     "data": {
      "image/png": "[encoded data removed]",
      "text/plain": [
       "plot without title"
      ]
     },
     "metadata": {
      "image/png": {
       "height": 420,
       "width": 420
      },
      "text/plain": {
       "height": 420,
       "width": 420
      }
     },
     "output_type": "display_data"
    },
    {
     "data": {
      "image/png": "[encoded data removed]",
      "text/plain": [
       "plot without title"
      ]
     },
     "metadata": {
      "image/png": {
       "height": 420,
       "width": 420
      },
      "text/plain": {
       "height": 420,
       "width": 420
      }
     },
     "output_type": "display_data"
    },
    {
     "data": {
      "image/png": "[encoded data removed]",
      "text/plain": [
       "plot without title"
      ]
     },
     "metadata": {
      "image/png": {
       "height": 420,
       "width": 420
      },
      "text/plain": {
       "height": 420,
       "width": 420
      }
     },
     "output_type": "display_data"
    }
   ],
   "source": [
    "boxplot(active    ~ bin, data = qtl2mark_by_mark[qtl2mark_by_mark$active > 0,])\n",
    "boxplot(active    ~ bin, data = qtl2mark_by_mark)\n",
    "boxplot(repressed ~ bin, data = qtl2mark_by_mark)\n"
   ]
  },
  {
   "cell_type": "markdown",
   "metadata": {},
   "source": [
    "# Are eQTLs shared between multiple eGenes more likely to overlap HiC anchors? And anchors with multiple loops? NO: they are just more likely to overlap anchors than negative controls"
   ]
  },
  {
   "cell_type": "code",
   "execution_count": 175,
   "metadata": {},
   "outputs": [],
   "source": [
    "loops       = fread(\"/frazer01/projects/CARDIPS/analysis/hic_paper/loop_coordinates_ipsc_cvpc.txt\", sep = \"\\t\", header = TRUE, data.table = FALSE)\n",
    "anchors     = data.frame(chrom = c(loops$chrA, loops$chrB), from = c(loops$startA, loops$startB), to = c(loops$endA, loops$endB))\n",
    "anchors     = anchors[order(anchors$chrom, anchors$from, anchors$to),]\n",
    "anchors_bed = \"pipeline/5.9.coloc_network_only_eqtls/loop_anchors.bed\"\n",
    "\n",
    "fwrite(anchors, anchors_bed, sep = \"\\t\", col.names = FALSE, row.names = FALSE)"
   ]
  },
  {
   "cell_type": "code",
   "execution_count": 186,
   "metadata": {},
   "outputs": [],
   "source": [
    "intersected_anchors_bed = \"pipeline/5.9.coloc_network_only_eqtls/intersected_anchors.bed\"\n",
    "command_intersect       = paste(\"bedtools\", \"intersect\", \n",
    "                                \"-a\", qtl2test_bed, \n",
    "                                \"-b\", anchors_bed,\n",
    "                                \"-c\",\n",
    "                                \">\" , intersected_anchors_bed\n",
    "                               )\n",
    "\n",
    "system(command_intersect)"
   ]
  },
  {
   "cell_type": "code",
   "execution_count": 187,
   "metadata": {},
   "outputs": [],
   "source": [
    "qtl2anchor           = fread(intersected_anchors_bed, sep = \"\\t\", header = FALSE, data.table = FALSE)\n",
    "colnames(qtl2anchor) = c(\"chrom\", \"pos\", \"pos2\", \"id\", \"n\", \"bin\", \"anchors\")\n"
   ]
  },
  {
   "cell_type": "code",
   "execution_count": 199,
   "metadata": {},
   "outputs": [
    {
     "data": {
      "text/plain": [
       "\n",
       "\tFisher's Exact Test for Count Data\n",
       "\n",
       "data:  matrix(c(nrow(qtl2anchor[qtl2anchor$bin > -1 & qtl2anchor$anchors > 0, ]), nrow(qtl2anchor[qtl2anchor$bin > -1 & qtl2anchor$anchors == 0, ]), nrow(qtl2anchor[qtl2anchor$bin == -1 & qtl2anchor$anchors > 0, ]), nrow(qtl2anchor[qtl2anchor$bin == -1 & qtl2anchor$anchors == 0, ])), nrow = 2, byrow = TRUE)\n",
       "p-value = 0.0002021\n",
       "alternative hypothesis: true odds ratio is not equal to 1\n",
       "95 percent confidence interval:\n",
       " 1.081856 1.297410\n",
       "sample estimates:\n",
       "odds ratio \n",
       "  1.184319 \n"
      ]
     },
     "metadata": {},
     "output_type": "display_data"
    },
    {
     "data": {
      "text/plain": [
       "\n",
       "\tFisher's Exact Test for Count Data\n",
       "\n",
       "data:  matrix(c(nrow(qtl2anchor[qtl2anchor$bin > 0 & qtl2anchor$anchors > 0, ]), nrow(qtl2anchor[qtl2anchor$bin > 0 & qtl2anchor$anchors == 0, ]), nrow(qtl2anchor[qtl2anchor$bin == 0 & qtl2anchor$anchors > 0, ]), nrow(qtl2anchor[qtl2anchor$bin == 0 & qtl2anchor$anchors == 0, ])), nrow = 2, byrow = TRUE)\n",
       "p-value = 0.0005699\n",
       "alternative hypothesis: true odds ratio is not equal to 1\n",
       "95 percent confidence interval:\n",
       " 0.6843192 0.9054918\n",
       "sample estimates:\n",
       "odds ratio \n",
       " 0.7883653 \n"
      ]
     },
     "metadata": {},
     "output_type": "display_data"
    },
    {
     "data": {
      "text/plain": [
       "\n",
       "\tWelch Two Sample t-test\n",
       "\n",
       "data:  qtl2anchor[qtl2anchor$bin > 0, \"anchors\"] and qtl2anchor[qtl2anchor$bin == 0, \"anchors\"]\n",
       "t = -4.9745, df = 4498.5, p-value = 6.786e-07\n",
       "alternative hypothesis: true difference in means is not equal to 0\n",
       "95 percent confidence interval:\n",
       " -0.05723447 -0.02487453\n",
       "sample estimates:\n",
       "mean of x mean of y \n",
       "0.1108711 0.1519256 \n"
      ]
     },
     "metadata": {},
     "output_type": "display_data"
    },
    {
     "data": {
      "text/plain": [
       "\n",
       "\tWelch Two Sample t-test\n",
       "\n",
       "data:  qtl2anchor[qtl2anchor$bin >= 0, \"anchors\"] and qtl2anchor[qtl2anchor$bin == -1, \"anchors\"]\n",
       "t = 3.1276, df = 15009, p-value = 0.001766\n",
       "alternative hypothesis: true difference in means is not equal to 0\n",
       "95 percent confidence interval:\n",
       " 0.007100114 0.030940651\n",
       "sample estimates:\n",
       "mean of x mean of y \n",
       "0.1455320 0.1265116 \n"
      ]
     },
     "metadata": {},
     "output_type": "display_data"
    }
   ],
   "source": [
    "fisher.test(matrix(c(nrow(qtl2anchor[qtl2anchor$bin >  -1 & qtl2anchor$anchors >  0,]),\n",
    "                     nrow(qtl2anchor[qtl2anchor$bin >  -1 & qtl2anchor$anchors == 0,]),\n",
    "                     nrow(qtl2anchor[qtl2anchor$bin == -1 & qtl2anchor$anchors >  0,]),\n",
    "                     nrow(qtl2anchor[qtl2anchor$bin == -1 & qtl2anchor$anchors == 0,])\n",
    "                    ), nrow = 2, byrow = TRUE))\n",
    "\n",
    "fisher.test(matrix(c(nrow(qtl2anchor[qtl2anchor$bin >  0 & qtl2anchor$anchors >  0,]),\n",
    "                     nrow(qtl2anchor[qtl2anchor$bin >  0 & qtl2anchor$anchors == 0,]),\n",
    "                     nrow(qtl2anchor[qtl2anchor$bin == 0 & qtl2anchor$anchors >  0,]),\n",
    "                     nrow(qtl2anchor[qtl2anchor$bin == 0 & qtl2anchor$anchors == 0,])\n",
    "                    ), nrow = 2, byrow = TRUE))\n",
    "\n",
    "\n",
    "t.test(qtl2anchor[qtl2anchor$bin >  0, \"anchors\"], qtl2anchor[qtl2anchor$bin ==  0, \"anchors\"])\n",
    "t.test(qtl2anchor[qtl2anchor$bin >= 0, \"anchors\"], qtl2anchor[qtl2anchor$bin == -1, \"anchors\"])\n"
   ]
  },
  {
   "cell_type": "code",
   "execution_count": 205,
   "metadata": {},
   "outputs": [
    {
     "data": {
      "text/html": [
       "<table>\n",
       "<caption>A matrix: 2 × 4 of type dbl</caption>\n",
       "<thead>\n",
       "\t<tr><th></th><th scope=col>Estimate</th><th scope=col>Std. Error</th><th scope=col>t value</th><th scope=col>Pr(&gt;|t|)</th></tr>\n",
       "</thead>\n",
       "<tbody>\n",
       "\t<tr><th scope=row>(Intercept)</th><td> 0.1492148</td><td>0.003637500</td><td>41.021247</td><td>0.000000000</td></tr>\n",
       "\t<tr><th scope=row>n</th><td>-0.0181374</td><td>0.005520691</td><td>-3.285349</td><td>0.001020525</td></tr>\n",
       "</tbody>\n",
       "</table>\n"
      ],
      "text/latex": [
       "A matrix: 2 × 4 of type dbl\n",
       "\\begin{tabular}{r|llll}\n",
       "  & Estimate & Std. Error & t value & Pr(>\\textbar{}t\\textbar{})\\\\\n",
       "\\hline\n",
       "\t(Intercept) &  0.1492148 & 0.003637500 & 41.021247 & 0.000000000\\\\\n",
       "\tn & -0.0181374 & 0.005520691 & -3.285349 & 0.001020525\\\\\n",
       "\\end{tabular}\n"
      ],
      "text/markdown": [
       "\n",
       "A matrix: 2 × 4 of type dbl\n",
       "\n",
       "| <!--/--> | Estimate | Std. Error | t value | Pr(&gt;|t|) |\n",
       "|---|---|---|---|---|\n",
       "| (Intercept) |  0.1492148 | 0.003637500 | 41.021247 | 0.000000000 |\n",
       "| n | -0.0181374 | 0.005520691 | -3.285349 | 0.001020525 |\n",
       "\n"
      ],
      "text/plain": [
       "            Estimate   Std. Error  t value   Pr(>|t|)   \n",
       "(Intercept)  0.1492148 0.003637500 41.021247 0.000000000\n",
       "n           -0.0181374 0.005520691 -3.285349 0.001020525"
      ]
     },
     "metadata": {},
     "output_type": "display_data"
    },
    {
     "data": {
      "text/html": [
       "<table>\n",
       "<caption>A matrix: 2 × 4 of type dbl</caption>\n",
       "<thead>\n",
       "\t<tr><th></th><th scope=col>Estimate</th><th scope=col>Std. Error</th><th scope=col>t value</th><th scope=col>Pr(&gt;|t|)</th></tr>\n",
       "</thead>\n",
       "<tbody>\n",
       "\t<tr><th scope=row>(Intercept)</th><td> 0.1398257222</td><td>0.002909162</td><td>48.0639201</td><td>0.0000000</td></tr>\n",
       "\t<tr><th scope=row>n</th><td>-0.0004099945</td><td>0.003749410</td><td>-0.1093491</td><td>0.9129265</td></tr>\n",
       "</tbody>\n",
       "</table>\n"
      ],
      "text/latex": [
       "A matrix: 2 × 4 of type dbl\n",
       "\\begin{tabular}{r|llll}\n",
       "  & Estimate & Std. Error & t value & Pr(>\\textbar{}t\\textbar{})\\\\\n",
       "\\hline\n",
       "\t(Intercept) &  0.1398257222 & 0.002909162 & 48.0639201 & 0.0000000\\\\\n",
       "\tn & -0.0004099945 & 0.003749410 & -0.1093491 & 0.9129265\\\\\n",
       "\\end{tabular}\n"
      ],
      "text/markdown": [
       "\n",
       "A matrix: 2 × 4 of type dbl\n",
       "\n",
       "| <!--/--> | Estimate | Std. Error | t value | Pr(&gt;|t|) |\n",
       "|---|---|---|---|---|\n",
       "| (Intercept) |  0.1398257222 | 0.002909162 | 48.0639201 | 0.0000000 |\n",
       "| n | -0.0004099945 | 0.003749410 | -0.1093491 | 0.9129265 |\n",
       "\n"
      ],
      "text/plain": [
       "            Estimate      Std. Error  t value    Pr(>|t|) \n",
       "(Intercept)  0.1398257222 0.002909162 48.0639201 0.0000000\n",
       "n           -0.0004099945 0.003749410 -0.1093491 0.9129265"
      ]
     },
     "metadata": {},
     "output_type": "display_data"
    }
   ],
   "source": [
    "summary(lm(anchors ~ n, data = qtl2anchor[qtl2anchor$bin >= 0,]))$coefficients\n",
    "summary(lm(anchors ~ n, data = qtl2anchor                      ))$coefficients\n"
   ]
  },
  {
   "cell_type": "markdown",
   "metadata": {},
   "source": [
    "## Distance from anchors"
   ]
  },
  {
   "cell_type": "code",
   "execution_count": 206,
   "metadata": {},
   "outputs": [],
   "source": [
    "intersected_anchors_dis = \"pipeline/5.9.coloc_network_only_eqtls/intersected_anchors.bed\"\n",
    "command_intersect       = paste(\"bedtools\", \"closest\", \n",
    "                                \"-d\", \"-t\", \"first\",\n",
    "                                \"-a\", qtl2test_bed, \n",
    "                                \"-b\", anchors_bed,\n",
    "                                \">\" , intersected_anchors_dis\n",
    "                               )\n",
    "\n",
    "system(command_intersect)"
   ]
  },
  {
   "cell_type": "code",
   "execution_count": 209,
   "metadata": {},
   "outputs": [],
   "source": [
    "qtl2dis           = fread(intersected_anchors_dis, sep = \"\\t\", header = FALSE, data.table = FALSE)\n",
    "colnames(qtl2dis) = c(\"chrom\", \"pos\", \"pos2\", \"id\", \"n\", \"bin\", \"chr2\", \"from2\", \"to2\", \"distance\")\n",
    "\n",
    "qtl2dis[,c(\"chr2\", \"from2\", \"to2\")] = NULL"
   ]
  },
  {
   "cell_type": "code",
   "execution_count": 212,
   "metadata": {},
   "outputs": [
    {
     "data": {
      "text/plain": [
       "\n",
       "\tWelch Two Sample t-test\n",
       "\n",
       "data:  qtl2dis_test[qtl2dis_test$bin > 0, \"distance\"] and qtl2dis_test[qtl2dis_test$bin == 0, \"distance\"]\n",
       "t = 5.2133, df = 3072.1, p-value = 1.978e-07\n",
       "alternative hypothesis: true difference in means is not equal to 0\n",
       "95 percent confidence interval:\n",
       "  6382.188 14076.837\n",
       "sample estimates:\n",
       "mean of x mean of y \n",
       " 52791.76  42562.25 \n"
      ]
     },
     "metadata": {},
     "output_type": "display_data"
    },
    {
     "data": {
      "text/plain": [
       "\n",
       "\tWelch Two Sample t-test\n",
       "\n",
       "data:  qtl2dis_test[qtl2dis_test$bin >= 0, \"distance\"] and qtl2dis_test[qtl2dis_test$bin == -1, \"distance\"]\n",
       "t = -1.3453, df = 15153, p-value = 0.1786\n",
       "alternative hypothesis: true difference in means is not equal to 0\n",
       "95 percent confidence interval:\n",
       " -3079.4089   572.8357\n",
       "sample estimates:\n",
       "mean of x mean of y \n",
       " 44092.18  45345.46 \n"
      ]
     },
     "metadata": {},
     "output_type": "display_data"
    }
   ],
   "source": [
    "qtl2dis_test = qtl2dis[ qtl2dis$distance <= 1000000,]\n",
    "\n",
    "t.test(qtl2dis_test[qtl2dis_test$bin >  0, \"distance\"], qtl2dis_test[qtl2dis_test$bin ==  0, \"distance\"])\n",
    "t.test(qtl2dis_test[qtl2dis_test$bin >= 0, \"distance\"], qtl2dis_test[qtl2dis_test$bin == -1, \"distance\"])\n"
   ]
  },
  {
   "cell_type": "code",
   "execution_count": 213,
   "metadata": {},
   "outputs": [
    {
     "data": {
      "text/html": [
       "<table>\n",
       "<caption>A matrix: 2 × 4 of type dbl</caption>\n",
       "<thead>\n",
       "\t<tr><th></th><th scope=col>Estimate</th><th scope=col>Std. Error</th><th scope=col>t value</th><th scope=col>Pr(&gt;|t|)</th></tr>\n",
       "</thead>\n",
       "<tbody>\n",
       "\t<tr><th scope=row>(Intercept)</th><td>42234.685</td><td>560.3860</td><td>75.36713</td><td>0.000000e+00</td></tr>\n",
       "\t<tr><th scope=row>n</th><td> 9589.422</td><td>870.0291</td><td>11.02196</td><td>3.701389e-28</td></tr>\n",
       "</tbody>\n",
       "</table>\n"
      ],
      "text/latex": [
       "A matrix: 2 × 4 of type dbl\n",
       "\\begin{tabular}{r|llll}\n",
       "  & Estimate & Std. Error & t value & Pr(>\\textbar{}t\\textbar{})\\\\\n",
       "\\hline\n",
       "\t(Intercept) & 42234.685 & 560.3860 & 75.36713 & 0.000000e+00\\\\\n",
       "\tn &  9589.422 & 870.0291 & 11.02196 & 3.701389e-28\\\\\n",
       "\\end{tabular}\n"
      ],
      "text/markdown": [
       "\n",
       "A matrix: 2 × 4 of type dbl\n",
       "\n",
       "| <!--/--> | Estimate | Std. Error | t value | Pr(&gt;|t|) |\n",
       "|---|---|---|---|---|\n",
       "| (Intercept) | 42234.685 | 560.3860 | 75.36713 | 0.000000e+00 |\n",
       "| n |  9589.422 | 870.0291 | 11.02196 | 3.701389e-28 |\n",
       "\n"
      ],
      "text/plain": [
       "            Estimate  Std. Error t value  Pr(>|t|)    \n",
       "(Intercept) 42234.685 560.3860   75.36713 0.000000e+00\n",
       "n            9589.422 870.0291   11.02196 3.701389e-28"
      ]
     },
     "metadata": {},
     "output_type": "display_data"
    },
    {
     "data": {
      "text/html": [
       "<table>\n",
       "<caption>A matrix: 2 × 4 of type dbl</caption>\n",
       "<thead>\n",
       "\t<tr><th></th><th scope=col>Estimate</th><th scope=col>Std. Error</th><th scope=col>t value</th><th scope=col>Pr(&gt;|t|)</th></tr>\n",
       "</thead>\n",
       "<tbody>\n",
       "\t<tr><th scope=row>(Intercept)</th><td>45106.651</td><td>449.3549</td><td>100.380904</td><td>0.000000e+00</td></tr>\n",
       "\t<tr><th scope=row>n</th><td> 3956.075</td><td>585.3884</td><td>  6.758034</td><td>1.429373e-11</td></tr>\n",
       "</tbody>\n",
       "</table>\n"
      ],
      "text/latex": [
       "A matrix: 2 × 4 of type dbl\n",
       "\\begin{tabular}{r|llll}\n",
       "  & Estimate & Std. Error & t value & Pr(>\\textbar{}t\\textbar{})\\\\\n",
       "\\hline\n",
       "\t(Intercept) & 45106.651 & 449.3549 & 100.380904 & 0.000000e+00\\\\\n",
       "\tn &  3956.075 & 585.3884 &   6.758034 & 1.429373e-11\\\\\n",
       "\\end{tabular}\n"
      ],
      "text/markdown": [
       "\n",
       "A matrix: 2 × 4 of type dbl\n",
       "\n",
       "| <!--/--> | Estimate | Std. Error | t value | Pr(&gt;|t|) |\n",
       "|---|---|---|---|---|\n",
       "| (Intercept) | 45106.651 | 449.3549 | 100.380904 | 0.000000e+00 |\n",
       "| n |  3956.075 | 585.3884 |   6.758034 | 1.429373e-11 |\n",
       "\n"
      ],
      "text/plain": [
       "            Estimate  Std. Error t value    Pr(>|t|)    \n",
       "(Intercept) 45106.651 449.3549   100.380904 0.000000e+00\n",
       "n            3956.075 585.3884     6.758034 1.429373e-11"
      ]
     },
     "metadata": {},
     "output_type": "display_data"
    }
   ],
   "source": [
    "summary(lm(distance ~ n, data = qtl2dis_test[qtl2dis_test$bin >= 0,]))$coefficients\n",
    "summary(lm(distance ~ n, data = qtl2dis_test                        ))$coefficients\n"
   ]
  },
  {
   "cell_type": "markdown",
   "metadata": {},
   "source": [
    "# Are eQTLs shared by multiple genes more likely to overlap or be close to GWAS hotspots\n",
    "- GWAS hotspots: region with multiple associations\n",
    "- Divide genome into bins, then do correlation by bin\n",
    "\n",
    "## Divide genome into bins"
   ]
  },
  {
   "cell_type": "code",
   "execution_count": 219,
   "metadata": {},
   "outputs": [],
   "source": [
    "genome_bins = \"pipeline/5.9.coloc_network_only_eqtls/genome_1mb_bins.bed\"\n",
    "chrom_sizes = \"/frazer01/reference/public/hg19/hg19.size.txt\"\n",
    "command_bin = paste(\"bedtools\", \"makewindows\", \n",
    "                    \"-g\", chrom_sizes, \n",
    "                    \"-w\", \"1000000\",\n",
    "                    \">\" , genome_bins)\n",
    "\n",
    "system(command_bin)"
   ]
  },
  {
   "cell_type": "markdown",
   "metadata": {},
   "source": [
    "## Make a bed file with all the GWAS catalog data"
   ]
  },
  {
   "cell_type": "code",
   "execution_count": 232,
   "metadata": {},
   "outputs": [],
   "source": [
    "library(tidyr)\n",
    "library(dplyr)"
   ]
  },
  {
   "cell_type": "code",
   "execution_count": 220,
   "metadata": {},
   "outputs": [],
   "source": [
    "gwas = fread(\"/frazer01/reference/public/gwas_catalog/alternative\", sep = \"\\t\", header = TRUE, data.table = FALSE)"
   ]
  },
  {
   "cell_type": "code",
   "execution_count": 266,
   "metadata": {},
   "outputs": [],
   "source": [
    "gwas_bed_hg38      = \"pipeline/5.9.coloc_network_only_eqtls/gwas_hg38.bed\"\n",
    "gwas2bed           = gwas[,c(\"CHR_ID\", \"CHR_POS\", \"P-VALUE\", \"MAPPED_TRAIT\")]\n",
    "colnames(gwas2bed) = c(\"chrom\", \"pos\", \"pval\", \"trait\")\n",
    "gwas2bed$pval      = as.numeric(tolower(gwas2bed$pval))\n",
    "gwas2bed           = gwas2bed[ gwas2bed$pval <= 5e-8,]\n",
    "gwas2bed           = as.data.frame(gwas2bed %>% separate_rows(chrom, pos))\n",
    "gwas2bed           = unique(gwas2bed[ gwas2bed$chrom %in% as.character(1:22), c(\"chrom\", \"pos\", \"trait\")])\n",
    "gwas2bed$pos       = as.numeric(gwas2bed$pos)\n",
    "gwas2bed$chrom     = paste0(\"chr\", gwas2bed$chrom)\n",
    "gwas2bed           = gwas2bed[order(gwas2bed$chrom, gwas2bed$pos),]\n",
    "gwas2bed$end       = gwas2bed$pos + 1\n",
    "fwrite(gwas2bed[,c(\"chrom\", \"pos\", \"end\")], gwas_bed_hg38, sep = \"\\t\", col.names = FALSE, row.names = FALSE)"
   ]
  },
  {
   "cell_type": "code",
   "execution_count": 268,
   "metadata": {},
   "outputs": [],
   "source": [
    "gwas_bed_hg19    = sub(\"hg38\", \"hg19\", gwas_bed_hg38)\n",
    "liftover         = \"/software/ucsc.linux.x86_64.20151103/liftOver\"\n",
    "chain_file       = \"/frazer01/reference/private/hg38ToHg19.over.chain\"\n",
    "command_liftover = paste(liftover, gwas_bed_hg38, chain_file, gwas_bed_hg19, \"unMapped\")\n",
    "\n",
    "system(command_liftover)\n"
   ]
  },
  {
   "cell_type": "markdown",
   "metadata": {},
   "source": [
    "## Assign GWAS and eQTL data to bins"
   ]
  },
  {
   "cell_type": "code",
   "execution_count": 270,
   "metadata": {},
   "outputs": [],
   "source": [
    "assign_to_bin = function(bed)\n",
    "{\n",
    "    out_bed = sub(\"bed$\", \"bin.bed\", bed)\n",
    "    command_intersect = paste(\"bedtools\", \"intersect\", \"-loj\",\n",
    "                              \"-a\", bed, \n",
    "                              \"-b\", genome_bins,\n",
    "                              \">\" , out_bed\n",
    "                             )\n",
    "\n",
    "    system(command_intersect)\n",
    "    \n",
    "    return(out_bed)\n",
    "}\n",
    "\n",
    "gwas_bin_bed     = assign_to_bin(gwas_bed_hg19)\n",
    "qtl2test_bin_bed = assign_to_bin(qtl2test_bed )\n"
   ]
  },
  {
   "cell_type": "code",
   "execution_count": 271,
   "metadata": {},
   "outputs": [],
   "source": [
    "bin2gwas           = fread(gwas_bin_bed, sep = \"\\t\", header = FALSE, data.table = FALSE)\n",
    "colnames(bin2gwas) = c(\"traits\", \"na1\", \"na2\", \"chrom\", \"from\", \"to\")\n",
    "bin2gwas           = aggregate(traits ~ chrom + from + to, data = bin2gwas, FUN = length)\n",
    "bin2gwas$gbin      = paste(bin2gwas$chrom, bin2gwas$from, bin2gwas$to, sep = \"_\")"
   ]
  },
  {
   "cell_type": "code",
   "execution_count": 283,
   "metadata": {},
   "outputs": [],
   "source": [
    "bin2eqtl           = fread(qtl2test_bin_bed, sep = \"\\t\", header = FALSE, data.table = FALSE)\n",
    "colnames(bin2eqtl) = c(\"chrom\", \"pos\", \"pos2\", \"id\", \"n\", \"bin\", \"chrom2\", \"from\", \"to\")\n",
    "bin2eqtl$gbin      = paste(bin2eqtl$chrom2, bin2eqtl$from, bin2eqtl$to, sep = \"_\")\n",
    "bin2eqtl           = bin2eqtl[, c(\"chrom\", \"pos\", \"id\", \"n\", \"bin\", \"from\", \"to\", \"gbin\")]\n",
    "bin2eqtl           = merge(bin2eqtl, bin2gwas[,c(\"gbin\", \"traits\")], all.x = TRUE)\n",
    "\n",
    "bin2eqtl[is.na(bin2eqtl$traits) == TRUE, \"traits\"] = 0"
   ]
  },
  {
   "cell_type": "code",
   "execution_count": 285,
   "metadata": {},
   "outputs": [
    {
     "data": {
      "text/html": [
       "<table>\n",
       "<caption>A matrix: 2 × 4 of type dbl</caption>\n",
       "<thead>\n",
       "\t<tr><th></th><th scope=col>Estimate</th><th scope=col>Std. Error</th><th scope=col>t value</th><th scope=col>Pr(&gt;|t|)</th></tr>\n",
       "</thead>\n",
       "<tbody>\n",
       "\t<tr><th scope=row>(Intercept)</th><td>54.49821</td><td>0.7104856</td><td>76.70558</td><td> 0.000000e+00</td></tr>\n",
       "\t<tr><th scope=row>n</th><td>24.49942</td><td>1.0783152</td><td>22.72009</td><td>1.123002e-112</td></tr>\n",
       "</tbody>\n",
       "</table>\n"
      ],
      "text/latex": [
       "A matrix: 2 × 4 of type dbl\n",
       "\\begin{tabular}{r|llll}\n",
       "  & Estimate & Std. Error & t value & Pr(>\\textbar{}t\\textbar{})\\\\\n",
       "\\hline\n",
       "\t(Intercept) & 54.49821 & 0.7104856 & 76.70558 &  0.000000e+00\\\\\n",
       "\tn & 24.49942 & 1.0783152 & 22.72009 & 1.123002e-112\\\\\n",
       "\\end{tabular}\n"
      ],
      "text/markdown": [
       "\n",
       "A matrix: 2 × 4 of type dbl\n",
       "\n",
       "| <!--/--> | Estimate | Std. Error | t value | Pr(&gt;|t|) |\n",
       "|---|---|---|---|---|\n",
       "| (Intercept) | 54.49821 | 0.7104856 | 76.70558 |  0.000000e+00 |\n",
       "| n | 24.49942 | 1.0783152 | 22.72009 | 1.123002e-112 |\n",
       "\n"
      ],
      "text/plain": [
       "            Estimate Std. Error t value  Pr(>|t|)     \n",
       "(Intercept) 54.49821 0.7104856  76.70558  0.000000e+00\n",
       "n           24.49942 1.0783152  22.72009 1.123002e-112"
      ]
     },
     "metadata": {},
     "output_type": "display_data"
    },
    {
     "data": {
      "text/html": [
       "<table>\n",
       "<caption>A matrix: 2 × 4 of type dbl</caption>\n",
       "<thead>\n",
       "\t<tr><th></th><th scope=col>Estimate</th><th scope=col>Std. Error</th><th scope=col>t value</th><th scope=col>Pr(&gt;|t|)</th></tr>\n",
       "</thead>\n",
       "<tbody>\n",
       "\t<tr><th scope=row>(Intercept)</th><td>60.73721</td><td>0.5507436</td><td>110.2822</td><td>0.000000e+00</td></tr>\n",
       "\t<tr><th scope=row>n</th><td>12.71965</td><td>0.7098138</td><td> 17.9197</td><td>2.282398e-71</td></tr>\n",
       "</tbody>\n",
       "</table>\n"
      ],
      "text/latex": [
       "A matrix: 2 × 4 of type dbl\n",
       "\\begin{tabular}{r|llll}\n",
       "  & Estimate & Std. Error & t value & Pr(>\\textbar{}t\\textbar{})\\\\\n",
       "\\hline\n",
       "\t(Intercept) & 60.73721 & 0.5507436 & 110.2822 & 0.000000e+00\\\\\n",
       "\tn & 12.71965 & 0.7098138 &  17.9197 & 2.282398e-71\\\\\n",
       "\\end{tabular}\n"
      ],
      "text/markdown": [
       "\n",
       "A matrix: 2 × 4 of type dbl\n",
       "\n",
       "| <!--/--> | Estimate | Std. Error | t value | Pr(&gt;|t|) |\n",
       "|---|---|---|---|---|\n",
       "| (Intercept) | 60.73721 | 0.5507436 | 110.2822 | 0.000000e+00 |\n",
       "| n | 12.71965 | 0.7098138 |  17.9197 | 2.282398e-71 |\n",
       "\n"
      ],
      "text/plain": [
       "            Estimate Std. Error t value  Pr(>|t|)    \n",
       "(Intercept) 60.73721 0.5507436  110.2822 0.000000e+00\n",
       "n           12.71965 0.7098138   17.9197 2.282398e-71"
      ]
     },
     "metadata": {},
     "output_type": "display_data"
    }
   ],
   "source": [
    "summary(lm(traits ~ n, data = bin2eqtl[bin2eqtl$bin >= 0,]))$coefficients\n",
    "summary(lm(traits ~ n, data = bin2eqtl                    ))$coefficients\n"
   ]
  },
  {
   "cell_type": "code",
   "execution_count": 291,
   "metadata": {},
   "outputs": [
    {
     "name": "stdout",
     "output_type": "stream",
     "text": [
      "'data.frame':\t3211 obs. of  8 variables:\n",
      " $ gbin  : chr  \"chr1_0_1000000\" \"chr1_1000000_2000000\" \"chr1_10000000_11000000\" \"chr1_100000000_101000000\" ...\n",
      " $ chrom : chr  \"chr1\" \"chr1\" \"chr1\" \"chr1\" ...\n",
      " $ from  : int  0 1000000 10000000 100000000 101000000 102000000 103000000 104000000 105000000 106000000 ...\n",
      " $ to    : int  1000000 2000000 11000000 101000000 102000000 103000000 104000000 105000000 106000000 107000000 ...\n",
      " $ traits: num  7 40 93 9 36 4 31 7 0 4 ...\n",
      " $ n     : num  1 4 1 2 0 -1 -1 0 0 0 ...\n",
      " $ bin   : num  NA NA NA NA NA NA NA NA NA NA ...\n",
      " $ x     : int  1 2 3 4 5 6 7 8 9 10 ...\n"
     ]
    }
   ],
   "source": [
    "toplot           = fread(genome_bins, sep = \"\\t\", header = FALSE, data.table = FALSE)\n",
    "colnames(toplot) = c(\"chrom\", \"from\", \"to\")\n",
    "toplot$gbin      = paste(toplot$chrom, toplot$from, toplot$to, sep = \"_\")\n",
    "toplot           = merge(toplot, bin2gwas[,c(\"gbin\", \"traits\"  )], all.x = TRUE)\n",
    "toplot           = merge(toplot, aggregate(n ~ gbin, data = bin2eqtl, max), all.x = TRUE)\n",
    "\n",
    "toplot[is.na(toplot$traits) == TRUE, \"traits\"] =  0\n",
    "toplot[is.na(toplot$n     ) == TRUE, \"n\"     ] =  0\n",
    "toplot[is.na(toplot$bin   ) == TRUE, \"bin\"   ] = -1\n",
    "\n",
    "toplot$x = 1:nrow(toplot)\n",
    "\n",
    "str(toplot)"
   ]
  },
  {
   "cell_type": "code",
   "execution_count": 294,
   "metadata": {},
   "outputs": [
    {
     "data": {
      "image/png": "[encoded data removed]",
      "text/plain": [
       "plot without title"
      ]
     },
     "metadata": {
      "image/png": {
       "height": 420,
       "width": 420
      },
      "text/plain": {
       "height": 420,
       "width": 420
      }
     },
     "output_type": "display_data"
    }
   ],
   "source": [
    "plot  (toplot$x, toplot$traits, type = \"l\")\n",
    "points(toplot$x, toplot$n * 50, pch  = 16, cex = 0.5, col = \"#ff0000\")\n"
   ]
  },
  {
   "cell_type": "code",
   "execution_count": 282,
   "metadata": {},
   "outputs": [
    {
     "name": "stdout",
     "output_type": "stream",
     "text": [
      "'data.frame':\t25363 obs. of  9 variables:\n",
      " $ gbin  : chr  \"chr1__\" \"chr1__\" \"chr1__\" \"chr1__\" ...\n",
      " $ chrom : chr  \"chr1\" \"chr1\" \"chr1\" \"chr1\" ...\n",
      " $ pos   : int  63735 233685 247916 250236 251627 531808 723819 752566 756308 768253 ...\n",
      " $ id    : chr  \"VAR_1_63735_CCTA_C\" \"VAR_1_233685_GC_G\" \"VAR_1_247916_CAGG_C\" \"VAR_1_250236_CT_C\" ...\n",
      " $ n     : int  -1 -1 0 0 0 0 0 0 -1 0 ...\n",
      " $ bin   : int  -1 -1 0 0 0 0 0 0 -1 0 ...\n",
      " $ from  : int  0 0 0 0 0 0 0 0 0 0 ...\n",
      " $ to    : int  1000000 1000000 1000000 1000000 1000000 1000000 1000000 1000000 1000000 1000000 ...\n",
      " $ traits: num  0 0 0 0 0 0 0 0 0 0 ...\n",
      "'data.frame':\t2678 obs. of  5 variables:\n",
      " $ chrom : chr  \"chr1\" \"chr10\" \"chr11\" \"chr12\" ...\n",
      " $ from  : int  0 0 0 0 0 0 0 0 0 0 ...\n",
      " $ to    : int  1000000 1000000 1000000 1000000 1000000 1000000 1000000 1000000 1000000 1000000 ...\n",
      " $ traits: int  7 19 96 65 187 19 31 47 157 27 ...\n",
      " $ gbin  : chr  \"chr1_0_1000000\" \"chr10_0_1000000\" \"chr11_0_1000000\" \"chr12_0_1000000\" ...\n"
     ]
    }
   ],
   "source": [
    "str(bin2eqtl)\n",
    "\n",
    "str(bin2gwas)"
   ]
  },
  {
   "cell_type": "markdown",
   "metadata": {},
   "source": [
    "# OLD"
   ]
  },
  {
   "cell_type": "markdown",
   "metadata": {},
   "source": [
    "# Combine into one single data frame\n",
    "- nodes\n",
    "- edges\n",
    "\n",
    "## GWAS vs. GWAS"
   ]
  },
  {
   "cell_type": "code",
   "execution_count": 183,
   "metadata": {},
   "outputs": [],
   "source": [
    "nodes_gwas     = data.frame(transcript_id = manifest$id, gene_id = manifest$id, gene_name = manifest$name, gene_type = \"GWAs\", transcript_type = \"GWAs\", phenotype = \"gwas\", color = \"#ff0000\")\n",
    "nodes_gwas     = merge(nodes_gwas, data.frame(locus_id = rownames(loci), chrom = paste0(\"chr\", loci$chrom), start = loci$from, end = loci$to))\n",
    "#nodes_gwas$gws = FALSE\n",
    "#\n",
    "#for(transcript_id in colnames(loci2study))\n",
    "#{\n",
    "#    ids = rownames(loci2study[ loci2study[, transcript_id] == 1,])\n",
    "#    nodes_gwas[ nodes_gwas$transcript_id == transcript_id & nodes_gwas$locus_id %in% ids, \"gws\"] = TRUE\n",
    "#}\n",
    "#\n",
    "#nodes_gwas = nodes_gwas[ nodes_gwas$gws == TRUE, ]\n",
    "\n",
    "\n"
   ]
  },
  {
   "cell_type": "code",
   "execution_count": 184,
   "metadata": {},
   "outputs": [],
   "source": [
    "edges_gwas_locus = lapply(loci$locus, function(locus)\n",
    "{\n",
    "    x                = coloc_gwas[ coloc_gwas$locus == locus, ]\n",
    "    mycols           = c(\"transcript_id1\", \"transcript_id2\", \"type1\", \"type2\", \"pop\", \"id\", \"pp_snp\", paste(\"PP.H\", 0:4, \".abf\", sep = \"\"))\n",
    "    x$transcript_id1 = x$study1\n",
    "    x$transcript_id2 = x$study2\n",
    "    x$type1          = 0\n",
    "    x$type2          = 0\n",
    "    x$id             = x$variant_id\n",
    "    x                = x[,mycols]\n",
    "    \n",
    "    return(x)\n",
    "})\n",
    "\n",
    "names(edges_gwas_locus) = loci$locus"
   ]
  },
  {
   "cell_type": "markdown",
   "metadata": {},
   "source": [
    "## GWAS vs. QTL"
   ]
  },
  {
   "cell_type": "code",
   "execution_count": 185,
   "metadata": {},
   "outputs": [],
   "source": [
    "edges_gwas_qtl_locus = lapply(loci$locus, function(locus)\n",
    "{\n",
    "    x                = coloc_qtls[ coloc_qtls$locus == locus, ]\n",
    "    if(nrow(x) > 0)\n",
    "    {\n",
    "        mycols           = c(\"transcript_id1\", \"transcript_id2\", \"type1\", \"type2\", \"pop\", \"id\", \"pp_snp\", paste(\"PP.H\", 0:4, \".abf\", sep = \"\"))\n",
    "        x$transcript_id1 = x$transcript_id\n",
    "        x$transcript_id2 = x$gwas\n",
    "        x$type1          = x$type\n",
    "        x$type2          = 0\n",
    "        x                = x[,mycols]\n",
    "\n",
    "        return(x)\n",
    "    }else\n",
    "    {\n",
    "        return(data.frame())\n",
    "    }\n",
    "})\n",
    "\n",
    "names(edges_gwas_qtl_locus) = loci$locus"
   ]
  },
  {
   "cell_type": "markdown",
   "metadata": {},
   "source": [
    "# Create network for each locus"
   ]
  },
  {
   "cell_type": "code",
   "execution_count": 186,
   "metadata": {},
   "outputs": [],
   "source": [
    "suppressPackageStartupMessages(library(igraph  ))\n",
    "suppressPackageStartupMessages(library(corrplot))"
   ]
  },
  {
   "cell_type": "code",
   "execution_count": 187,
   "metadata": {},
   "outputs": [],
   "source": [
    "loci$n_qtls = unlist(lapply(edges_gwas_qtl_locus, nrow))"
   ]
  },
  {
   "cell_type": "code",
   "execution_count": 200,
   "metadata": {},
   "outputs": [],
   "source": [
    "create_network_locus = function(locus, threshold = 0.5)\n",
    "{\n",
    "    chrom           = paste0(\"chr\", loci  [locus , \"chrom\" ])\n",
    "    from            =               loci  [locus , \"from\"  ]\n",
    "    to              =               loci  [locus , \"to\"    ]\n",
    "    gwas_gwas       = edges_gwas_locus    [[locus]]\n",
    "    gwas_qtls       = edges_gwas_qtl_locus[[locus]]\n",
    "    transcript_ids  = sort(unique(c(gwas_qtls$transcript_id1, gwas_qtls$transcript_id2, gwas_gwas$transcript_id1, gwas_gwas$transcript_id2)))\n",
    "    qtls_qtls       = edges_all[ edges_all$transcript_id1 %in% transcript_ids & edges_all$transcript_id2 %in% transcript_ids,]\n",
    "    edges           = rbind(gwas_gwas, gwas_qtls, qtls_qtls)\n",
    "    nodes           = rbind(nodes_all, nodes_gwas[ nodes_gwas$locus_id == locus, colnames(nodes_all)])\n",
    "    edges           = edges[ edges$PP.H4.abf >= threshold,]\n",
    "    nodes           = unique(nodes[ nodes$transcript_id %in% c(edges$transcript_id1, edges$transcript_id2),])\n",
    "    network         = graph_from_data_frame(d = edges, vertices = nodes, directed = FALSE)\n",
    "    \n",
    "    return(list(nodes = nodes, edges = edges, network = network))\n",
    "}\n",
    "\n",
    "#locus = loci[2, \"locus\"]\n",
    "x = create_network_locus(\"1_72412988_73058905\", 0.9)\n",
    "\n",
    "loci2net            = loci[ loci$n_qtls > 0 | loci$n_gwas > 1,]\n",
    "loci_network        = lapply(loci2net$locus, function(locus){create_network_locus(locus, 0.9)})\n",
    "names(loci_network) = loci2net$locus\n",
    "\n",
    "saveRDS(loci_network, \"pipeline/5.2.coloc_network/network_by_locus.rds\")\n",
    "fwrite(loci2net, \"pipeline/5.2.coloc_network/loci2net.txt\", sep = \"\\t\", col.names = TRUE, row.names = FALSE)\n",
    "\n"
   ]
  },
  {
   "cell_type": "markdown",
   "metadata": {},
   "source": [
    "# Get all associations (PP-h4 > 0.5 or PP-h3 > 0.5)"
   ]
  },
  {
   "cell_type": "code",
   "execution_count": 250,
   "metadata": {},
   "outputs": [],
   "source": [
    "get_pps = function(locus, threshold = 0.5)\n",
    "{\n",
    "    chrom           = paste0(\"chr\", loci  [locus , \"chrom\" ])\n",
    "    from            =               loci  [locus , \"from\"  ]\n",
    "    to              =               loci  [locus , \"to\"    ]\n",
    "    gwas_gwas       = edges_gwas_locus    [[locus]]\n",
    "    gwas_qtls       = edges_gwas_qtl_locus[[locus]]\n",
    "    transcript_ids  = sort(unique(c(gwas_qtls$transcript_id1, gwas_qtls$transcript_id2, gwas_gwas$transcript_id1, gwas_gwas$transcript_id2)))\n",
    "    qtls_qtls       = edges_all[ edges_all$transcript_id1 %in% transcript_ids & edges_all$transcript_id2 %in% transcript_ids,]\n",
    "    edges           = rbind(gwas_gwas, gwas_qtls, qtls_qtls)\n",
    "    nodes           = rbind(nodes_all, nodes_gwas[ nodes_gwas$locus_id == locus, colnames(nodes_all)])\n",
    "    edges           = edges[ edges$PP.H4.abf >= threshold | edges$PP.H3.abf >= threshold,]\n",
    "    nodes           = unique(nodes[ nodes$transcript_id %in% c(edges$transcript_id1, edges$transcript_id2),])\n",
    "    \n",
    "    return(list(nodes = nodes, edges = edges))\n",
    "}\n",
    "\n",
    "#locus = loci[2, \"locus\"]\n",
    "x = get_pps(\"1_72412988_73058905\", 0.5)\n",
    "\n",
    "top_pps        = lapply(loci2net$locus, function(locus){get_pps(locus, 0.5)})\n",
    "names(top_pps) = loci2net$locus\n",
    "\n",
    "saveRDS(top_pps, \"pipeline/5.2.coloc_network/top_pps.rds\")\n"
   ]
  },
  {
   "cell_type": "code",
   "execution_count": 266,
   "metadata": {},
   "outputs": [],
   "source": [
    "loci2net_count = as.data.frame(rbindlist(lapply(top_pps, function(x)\n",
    "{\n",
    "    nodes = x$nodes\n",
    "    edges = x$edges\n",
    "    out = data.frame(nodes = nrow(nodes), \n",
    "                     edges = nrow(unique(edges[, c(\"transcript_id1\", \"transcript_id2\")])), \n",
    "                     nodes_09 = length(unique(c(edges[edges$PP.H4.abf >= 0.9, \"transcript_id1\"], edges[edges$PP.H4.abf >= 0.9, \"transcript_id2\"]))),\n",
    "                     edges_09 = nrow(unique(edges[edges$PP.H4.abf >= 0.9, c(\"transcript_id1\", \"transcript_id2\")]))\n",
    "                    )\n",
    "    for(phenotype in c(\"gwas\", phenotypes$phenotype))\n",
    "    {\n",
    "        out[,paste(\"nodes\", phenotype, sep = \".\")] = nrow(nodes[nodes$phenotype == phenotype,])\n",
    "    }\n",
    "    \n",
    "    return(out)\n",
    "})), stringsAsFactors = FALSE)\n",
    "\n",
    "loci2net_count = cbind(loci2net[,c(\"locus\", \"size\", \"chrom\", \"from\", \"to\", \"ids\", \"n_gwas\")], loci2net_count)\n",
    "\n",
    "fwrite(loci2net_count, \"pipeline/5.2.coloc_network/loci2net_count.txt\", sep = \"\\t\", col.names = TRUE, row.names = FALSE)\n"
   ]
  },
  {
   "cell_type": "code",
   "execution_count": 272,
   "metadata": {},
   "outputs": [
    {
     "data": {
      "image/png": "[encoded data removed]",
      "text/plain": [
       "Plot with title “Histogram of loci2net_count$n_gwas”"
      ]
     },
     "metadata": {
      "image/png": {
       "height": 360,
       "width": 660
      },
      "text/plain": {
       "height": 360,
       "width": 660
      }
     },
     "output_type": "display_data"
    },
    {
     "data": {
      "image/png": "[encoded data removed]",
      "text/plain": [
       "Plot with title “Histogram of loci2net_count$nodes_09”"
      ]
     },
     "metadata": {
      "image/png": {
       "height": 360,
       "width": 660
      },
      "text/plain": {
       "height": 360,
       "width": 660
      }
     },
     "output_type": "display_data"
    },
    {
     "data": {
      "image/png": "[encoded data removed]",
      "text/plain": [
       "Plot with title “Histogram of loci2net_count$edges_09”"
      ]
     },
     "metadata": {
      "image/png": {
       "height": 360,
       "width": 660
      },
      "text/plain": {
       "height": 360,
       "width": 660
      }
     },
     "output_type": "display_data"
    }
   ],
   "source": [
    "hist(loci2net_count$n_gwas, breaks = 0:30)\n",
    "hist(loci2net_count$nodes_09)\n",
    "hist(loci2net_count$edges_09)\n",
    "\n"
   ]
  },
  {
   "cell_type": "code",
   "execution_count": 273,
   "metadata": {},
   "outputs": [
    {
     "data": {
      "text/html": [
       "<table>\n",
       "<caption>A data.frame: 6 × 16</caption>\n",
       "<thead>\n",
       "\t<tr><th></th><th scope=col>locus</th><th scope=col>size</th><th scope=col>chrom</th><th scope=col>from</th><th scope=col>to</th><th scope=col>ids</th><th scope=col>n_gwas</th><th scope=col>nodes</th><th scope=col>edges</th><th scope=col>nodes_09</th><th scope=col>edges_09</th><th scope=col>nodes.gwas</th><th scope=col>nodes.rna</th><th scope=col>nodes.isoform</th><th scope=col>nodes.atac</th><th scope=col>nodes.chip</th></tr>\n",
       "\t<tr><th></th><th scope=col>&lt;chr&gt;</th><th scope=col>&lt;int&gt;</th><th scope=col>&lt;int&gt;</th><th scope=col>&lt;int&gt;</th><th scope=col>&lt;int&gt;</th><th scope=col>&lt;chr&gt;</th><th scope=col>&lt;dbl&gt;</th><th scope=col>&lt;int&gt;</th><th scope=col>&lt;int&gt;</th><th scope=col>&lt;int&gt;</th><th scope=col>&lt;int&gt;</th><th scope=col>&lt;int&gt;</th><th scope=col>&lt;int&gt;</th><th scope=col>&lt;int&gt;</th><th scope=col>&lt;int&gt;</th><th scope=col>&lt;int&gt;</th></tr>\n",
       "</thead>\n",
       "<tbody>\n",
       "\t<tr><th scope=row>6_25044242_33934568</th><td>6_25044242_33934568 </td><td>8890326</td><td> 6</td><td>25044242</td><td>33934568</td><td>biomarkers-30600-both_sexes-irnt,biomarkers-30680-both_sexes-irnt,biomarkers-30690-both_sexes-irnt,biomarkers-30760-both_sexes-irnt,biomarkers-30780-both_sexes-irnt,biomarkers-30870-both_sexes-irnt,categorical-20003-both_sexes-1140861958,continuous-102-both_sexes-irnt,continuous-20022-both_sexes-irnt,continuous-21001-both_sexes-irnt,continuous-DBP-both_sexes-combined_medadj_irnt,continuous-LDLC-both_sexes-medadj_irnt,continuous-MAP-both_sexes-combined_medadj_irnt,continuous-PP-both_sexes-combined_medadj_irnt,continuous-SBP-both_sexes-combined_medadj_irnt,icd10-I20-both_sexes,icd10-I25-both_sexes,phecode-401-both_sexes,phecode-411.4-both_sexes                                                          </td><td>19</td><td>406</td><td>15752</td><td>286</td><td>473</td><td>27</td><td>161</td><td>163</td><td>18</td><td>37</td></tr>\n",
       "\t<tr><th scope=row>17_40144007_48070076</th><td>17_40144007_48070076</td><td>7926069</td><td>17</td><td>40144007</td><td>48070076</td><td>biomarkers-30600-both_sexes-irnt,biomarkers-30680-both_sexes-irnt,biomarkers-30690-both_sexes-irnt,biomarkers-30760-both_sexes-irnt,biomarkers-30780-both_sexes-irnt,biomarkers-30870-both_sexes-irnt,categorical-20003-both_sexes-1140861958,continuous-102-both_sexes-irnt,continuous-12340-both_sexes-irnt,continuous-20022-both_sexes-irnt,continuous-21001-both_sexes-irnt,continuous-DBP-both_sexes-combined_medadj_irnt,continuous-LDLC-both_sexes-medadj_irnt,continuous-MAP-both_sexes-combined_medadj_irnt,continuous-PP-both_sexes-combined_medadj_irnt,continuous-SBP-both_sexes-combined_medadj_irnt,icd10-I20-both_sexes,icd10-I25-both_sexes,phecode-401-both_sexes,phecode-411.2-both_sexes,phecode-411.4-both_sexes</td><td>21</td><td>279</td><td> 4844</td><td>166</td><td>461</td><td>27</td><td>104</td><td> 76</td><td>40</td><td>32</td></tr>\n",
       "\t<tr><th scope=row>16_14277712_16384360</th><td>16_14277712_16384360</td><td>2106648</td><td>16</td><td>14277712</td><td>16384360</td><td>biomarkers-30600-both_sexes-irnt,biomarkers-30680-both_sexes-irnt,biomarkers-30760-both_sexes-irnt,biomarkers-30870-both_sexes-irnt,continuous-102-both_sexes-irnt,continuous-21001-both_sexes-irnt,continuous-DBP-both_sexes-combined_medadj_irnt,continuous-LDLC-both_sexes-medadj_irnt,continuous-MAP-both_sexes-combined_medadj_irnt,continuous-PP-both_sexes-combined_medadj_irnt,continuous-SBP-both_sexes-combined_medadj_irnt                                                                                                                                                                                                                                                                                               </td><td>11</td><td> 89</td><td> 1567</td><td> 75</td><td>321</td><td>17</td><td> 25</td><td> 34</td><td> 9</td><td> 4</td></tr>\n",
       "\t<tr><th scope=row>1_965800_2544414</th><td>1_965800_2544414    </td><td>1578614</td><td> 1</td><td>  965800</td><td> 2544414</td><td>biomarkers-30600-both_sexes-irnt,biomarkers-30680-both_sexes-irnt,biomarkers-30760-both_sexes-irnt,continuous-21001-both_sexes-irnt,continuous-MAP-both_sexes-combined_medadj_irnt,continuous-PP-both_sexes-combined_medadj_irnt,continuous-SBP-both_sexes-combined_medadj_irnt                                                                                                                                                                                                                                                                                                                                                                                                                                                     </td><td> 7</td><td>126</td><td> 2644</td><td> 85</td><td>269</td><td>15</td><td> 50</td><td> 32</td><td>10</td><td>19</td></tr>\n",
       "\t<tr><th scope=row>19_43889535_47004800</th><td>19_43889535_47004800</td><td>3115265</td><td>19</td><td>43889535</td><td>47004800</td><td>biomarkers-30600-both_sexes-irnt,biomarkers-30690-both_sexes-irnt,biomarkers-30760-both_sexes-irnt,biomarkers-30780-both_sexes-irnt,biomarkers-30870-both_sexes-irnt,categorical-20003-both_sexes-1140861958,categorical-20003-both_sexes-1141146234,continuous-102-both_sexes-irnt,continuous-21001-both_sexes-irnt,continuous-DBP-both_sexes-combined_medadj_irnt,continuous-LDLC-both_sexes-medadj_irnt,continuous-MAP-both_sexes-combined_medadj_irnt,continuous-PP-both_sexes-combined_medadj_irnt,continuous-SBP-both_sexes-combined_medadj_irnt,icd10-I20-both_sexes,icd10-I25-both_sexes,phecode-411.2-both_sexes,phecode-411.4-both_sexes                                                                                  </td><td>18</td><td>164</td><td> 3145</td><td>107</td><td>215</td><td>24</td><td> 61</td><td> 48</td><td>14</td><td>17</td></tr>\n",
       "\t<tr><th scope=row>22_24141101_24503541</th><td>22_24141101_24503541</td><td> 362440</td><td>22</td><td>24141101</td><td>24503541</td><td>biomarkers-30870-both_sexes-irnt                                                                                                                                                                                                                                                                                                                                                                                                                                                                                                                                                                                                                                                                                                    </td><td> 1</td><td> 44</td><td>  415</td><td> 36</td><td>200</td><td> 7</td><td> 12</td><td>  6</td><td> 8</td><td>11</td></tr>\n",
       "</tbody>\n",
       "</table>\n"
      ],
      "text/latex": [
       "A data.frame: 6 × 16\n",
       "\\begin{tabular}{r|llllllllllllllll}\n",
       "  & locus & size & chrom & from & to & ids & n\\_gwas & nodes & edges & nodes\\_09 & edges\\_09 & nodes.gwas & nodes.rna & nodes.isoform & nodes.atac & nodes.chip\\\\\n",
       "  & <chr> & <int> & <int> & <int> & <int> & <chr> & <dbl> & <int> & <int> & <int> & <int> & <int> & <int> & <int> & <int> & <int>\\\\\n",
       "\\hline\n",
       "\t6\\_25044242\\_33934568 & 6\\_25044242\\_33934568  & 8890326 &  6 & 25044242 & 33934568 & biomarkers-30600-both\\_sexes-irnt,biomarkers-30680-both\\_sexes-irnt,biomarkers-30690-both\\_sexes-irnt,biomarkers-30760-both\\_sexes-irnt,biomarkers-30780-both\\_sexes-irnt,biomarkers-30870-both\\_sexes-irnt,categorical-20003-both\\_sexes-1140861958,continuous-102-both\\_sexes-irnt,continuous-20022-both\\_sexes-irnt,continuous-21001-both\\_sexes-irnt,continuous-DBP-both\\_sexes-combined\\_medadj\\_irnt,continuous-LDLC-both\\_sexes-medadj\\_irnt,continuous-MAP-both\\_sexes-combined\\_medadj\\_irnt,continuous-PP-both\\_sexes-combined\\_medadj\\_irnt,continuous-SBP-both\\_sexes-combined\\_medadj\\_irnt,icd10-I20-both\\_sexes,icd10-I25-both\\_sexes,phecode-401-both\\_sexes,phecode-411.4-both\\_sexes                                                           & 19 & 406 & 15752 & 286 & 473 & 27 & 161 & 163 & 18 & 37\\\\\n",
       "\t17\\_40144007\\_48070076 & 17\\_40144007\\_48070076 & 7926069 & 17 & 40144007 & 48070076 & biomarkers-30600-both\\_sexes-irnt,biomarkers-30680-both\\_sexes-irnt,biomarkers-30690-both\\_sexes-irnt,biomarkers-30760-both\\_sexes-irnt,biomarkers-30780-both\\_sexes-irnt,biomarkers-30870-both\\_sexes-irnt,categorical-20003-both\\_sexes-1140861958,continuous-102-both\\_sexes-irnt,continuous-12340-both\\_sexes-irnt,continuous-20022-both\\_sexes-irnt,continuous-21001-both\\_sexes-irnt,continuous-DBP-both\\_sexes-combined\\_medadj\\_irnt,continuous-LDLC-both\\_sexes-medadj\\_irnt,continuous-MAP-both\\_sexes-combined\\_medadj\\_irnt,continuous-PP-both\\_sexes-combined\\_medadj\\_irnt,continuous-SBP-both\\_sexes-combined\\_medadj\\_irnt,icd10-I20-both\\_sexes,icd10-I25-both\\_sexes,phecode-401-both\\_sexes,phecode-411.2-both\\_sexes,phecode-411.4-both\\_sexes & 21 & 279 &  4844 & 166 & 461 & 27 & 104 &  76 & 40 & 32\\\\\n",
       "\t16\\_14277712\\_16384360 & 16\\_14277712\\_16384360 & 2106648 & 16 & 14277712 & 16384360 & biomarkers-30600-both\\_sexes-irnt,biomarkers-30680-both\\_sexes-irnt,biomarkers-30760-both\\_sexes-irnt,biomarkers-30870-both\\_sexes-irnt,continuous-102-both\\_sexes-irnt,continuous-21001-both\\_sexes-irnt,continuous-DBP-both\\_sexes-combined\\_medadj\\_irnt,continuous-LDLC-both\\_sexes-medadj\\_irnt,continuous-MAP-both\\_sexes-combined\\_medadj\\_irnt,continuous-PP-both\\_sexes-combined\\_medadj\\_irnt,continuous-SBP-both\\_sexes-combined\\_medadj\\_irnt                                                                                                                                                                                                                                                                                                & 11 &  89 &  1567 &  75 & 321 & 17 &  25 &  34 &  9 &  4\\\\\n",
       "\t1\\_965800\\_2544414 & 1\\_965800\\_2544414     & 1578614 &  1 &   965800 &  2544414 & biomarkers-30600-both\\_sexes-irnt,biomarkers-30680-both\\_sexes-irnt,biomarkers-30760-both\\_sexes-irnt,continuous-21001-both\\_sexes-irnt,continuous-MAP-both\\_sexes-combined\\_medadj\\_irnt,continuous-PP-both\\_sexes-combined\\_medadj\\_irnt,continuous-SBP-both\\_sexes-combined\\_medadj\\_irnt                                                                                                                                                                                                                                                                                                                                                                                                                                                      &  7 & 126 &  2644 &  85 & 269 & 15 &  50 &  32 & 10 & 19\\\\\n",
       "\t19\\_43889535\\_47004800 & 19\\_43889535\\_47004800 & 3115265 & 19 & 43889535 & 47004800 & biomarkers-30600-both\\_sexes-irnt,biomarkers-30690-both\\_sexes-irnt,biomarkers-30760-both\\_sexes-irnt,biomarkers-30780-both\\_sexes-irnt,biomarkers-30870-both\\_sexes-irnt,categorical-20003-both\\_sexes-1140861958,categorical-20003-both\\_sexes-1141146234,continuous-102-both\\_sexes-irnt,continuous-21001-both\\_sexes-irnt,continuous-DBP-both\\_sexes-combined\\_medadj\\_irnt,continuous-LDLC-both\\_sexes-medadj\\_irnt,continuous-MAP-both\\_sexes-combined\\_medadj\\_irnt,continuous-PP-both\\_sexes-combined\\_medadj\\_irnt,continuous-SBP-both\\_sexes-combined\\_medadj\\_irnt,icd10-I20-both\\_sexes,icd10-I25-both\\_sexes,phecode-411.2-both\\_sexes,phecode-411.4-both\\_sexes                                                                                   & 18 & 164 &  3145 & 107 & 215 & 24 &  61 &  48 & 14 & 17\\\\\n",
       "\t22\\_24141101\\_24503541 & 22\\_24141101\\_24503541 &  362440 & 22 & 24141101 & 24503541 & biomarkers-30870-both\\_sexes-irnt                                                                                                                                                                                                                                                                                                                                                                                                                                                                                                                                                                                                                                                                                                     &  1 &  44 &   415 &  36 & 200 &  7 &  12 &   6 &  8 & 11\\\\\n",
       "\\end{tabular}\n"
      ],
      "text/markdown": [
       "\n",
       "A data.frame: 6 × 16\n",
       "\n",
       "| <!--/--> | locus &lt;chr&gt; | size &lt;int&gt; | chrom &lt;int&gt; | from &lt;int&gt; | to &lt;int&gt; | ids &lt;chr&gt; | n_gwas &lt;dbl&gt; | nodes &lt;int&gt; | edges &lt;int&gt; | nodes_09 &lt;int&gt; | edges_09 &lt;int&gt; | nodes.gwas &lt;int&gt; | nodes.rna &lt;int&gt; | nodes.isoform &lt;int&gt; | nodes.atac &lt;int&gt; | nodes.chip &lt;int&gt; |\n",
       "|---|---|---|---|---|---|---|---|---|---|---|---|---|---|---|---|---|\n",
       "| 6_25044242_33934568 | 6_25044242_33934568  | 8890326 |  6 | 25044242 | 33934568 | biomarkers-30600-both_sexes-irnt,biomarkers-30680-both_sexes-irnt,biomarkers-30690-both_sexes-irnt,biomarkers-30760-both_sexes-irnt,biomarkers-30780-both_sexes-irnt,biomarkers-30870-both_sexes-irnt,categorical-20003-both_sexes-1140861958,continuous-102-both_sexes-irnt,continuous-20022-both_sexes-irnt,continuous-21001-both_sexes-irnt,continuous-DBP-both_sexes-combined_medadj_irnt,continuous-LDLC-both_sexes-medadj_irnt,continuous-MAP-both_sexes-combined_medadj_irnt,continuous-PP-both_sexes-combined_medadj_irnt,continuous-SBP-both_sexes-combined_medadj_irnt,icd10-I20-both_sexes,icd10-I25-both_sexes,phecode-401-both_sexes,phecode-411.4-both_sexes                                                           | 19 | 406 | 15752 | 286 | 473 | 27 | 161 | 163 | 18 | 37 |\n",
       "| 17_40144007_48070076 | 17_40144007_48070076 | 7926069 | 17 | 40144007 | 48070076 | biomarkers-30600-both_sexes-irnt,biomarkers-30680-both_sexes-irnt,biomarkers-30690-both_sexes-irnt,biomarkers-30760-both_sexes-irnt,biomarkers-30780-both_sexes-irnt,biomarkers-30870-both_sexes-irnt,categorical-20003-both_sexes-1140861958,continuous-102-both_sexes-irnt,continuous-12340-both_sexes-irnt,continuous-20022-both_sexes-irnt,continuous-21001-both_sexes-irnt,continuous-DBP-both_sexes-combined_medadj_irnt,continuous-LDLC-both_sexes-medadj_irnt,continuous-MAP-both_sexes-combined_medadj_irnt,continuous-PP-both_sexes-combined_medadj_irnt,continuous-SBP-both_sexes-combined_medadj_irnt,icd10-I20-both_sexes,icd10-I25-both_sexes,phecode-401-both_sexes,phecode-411.2-both_sexes,phecode-411.4-both_sexes | 21 | 279 |  4844 | 166 | 461 | 27 | 104 |  76 | 40 | 32 |\n",
       "| 16_14277712_16384360 | 16_14277712_16384360 | 2106648 | 16 | 14277712 | 16384360 | biomarkers-30600-both_sexes-irnt,biomarkers-30680-both_sexes-irnt,biomarkers-30760-both_sexes-irnt,biomarkers-30870-both_sexes-irnt,continuous-102-both_sexes-irnt,continuous-21001-both_sexes-irnt,continuous-DBP-both_sexes-combined_medadj_irnt,continuous-LDLC-both_sexes-medadj_irnt,continuous-MAP-both_sexes-combined_medadj_irnt,continuous-PP-both_sexes-combined_medadj_irnt,continuous-SBP-both_sexes-combined_medadj_irnt                                                                                                                                                                                                                                                                                                | 11 |  89 |  1567 |  75 | 321 | 17 |  25 |  34 |  9 |  4 |\n",
       "| 1_965800_2544414 | 1_965800_2544414     | 1578614 |  1 |   965800 |  2544414 | biomarkers-30600-both_sexes-irnt,biomarkers-30680-both_sexes-irnt,biomarkers-30760-both_sexes-irnt,continuous-21001-both_sexes-irnt,continuous-MAP-both_sexes-combined_medadj_irnt,continuous-PP-both_sexes-combined_medadj_irnt,continuous-SBP-both_sexes-combined_medadj_irnt                                                                                                                                                                                                                                                                                                                                                                                                                                                      |  7 | 126 |  2644 |  85 | 269 | 15 |  50 |  32 | 10 | 19 |\n",
       "| 19_43889535_47004800 | 19_43889535_47004800 | 3115265 | 19 | 43889535 | 47004800 | biomarkers-30600-both_sexes-irnt,biomarkers-30690-both_sexes-irnt,biomarkers-30760-both_sexes-irnt,biomarkers-30780-both_sexes-irnt,biomarkers-30870-both_sexes-irnt,categorical-20003-both_sexes-1140861958,categorical-20003-both_sexes-1141146234,continuous-102-both_sexes-irnt,continuous-21001-both_sexes-irnt,continuous-DBP-both_sexes-combined_medadj_irnt,continuous-LDLC-both_sexes-medadj_irnt,continuous-MAP-both_sexes-combined_medadj_irnt,continuous-PP-both_sexes-combined_medadj_irnt,continuous-SBP-both_sexes-combined_medadj_irnt,icd10-I20-both_sexes,icd10-I25-both_sexes,phecode-411.2-both_sexes,phecode-411.4-both_sexes                                                                                   | 18 | 164 |  3145 | 107 | 215 | 24 |  61 |  48 | 14 | 17 |\n",
       "| 22_24141101_24503541 | 22_24141101_24503541 |  362440 | 22 | 24141101 | 24503541 | biomarkers-30870-both_sexes-irnt                                                                                                                                                                                                                                                                                                                                                                                                                                                                                                                                                                                                                                                                                                     |  1 |  44 |   415 |  36 | 200 |  7 |  12 |   6 |  8 | 11 |\n",
       "\n"
      ],
      "text/plain": [
       "                     locus                size    chrom from     to      \n",
       "6_25044242_33934568  6_25044242_33934568  8890326  6    25044242 33934568\n",
       "17_40144007_48070076 17_40144007_48070076 7926069 17    40144007 48070076\n",
       "16_14277712_16384360 16_14277712_16384360 2106648 16    14277712 16384360\n",
       "1_965800_2544414     1_965800_2544414     1578614  1      965800  2544414\n",
       "19_43889535_47004800 19_43889535_47004800 3115265 19    43889535 47004800\n",
       "22_24141101_24503541 22_24141101_24503541  362440 22    24141101 24503541\n",
       "                     ids                                                                                                                                                                                                                                                                                                                                                                                                                                                                                                                                                                                                                                                                                                                                 \n",
       "6_25044242_33934568  biomarkers-30600-both_sexes-irnt,biomarkers-30680-both_sexes-irnt,biomarkers-30690-both_sexes-irnt,biomarkers-30760-both_sexes-irnt,biomarkers-30780-both_sexes-irnt,biomarkers-30870-both_sexes-irnt,categorical-20003-both_sexes-1140861958,continuous-102-both_sexes-irnt,continuous-20022-both_sexes-irnt,continuous-21001-both_sexes-irnt,continuous-DBP-both_sexes-combined_medadj_irnt,continuous-LDLC-both_sexes-medadj_irnt,continuous-MAP-both_sexes-combined_medadj_irnt,continuous-PP-both_sexes-combined_medadj_irnt,continuous-SBP-both_sexes-combined_medadj_irnt,icd10-I20-both_sexes,icd10-I25-both_sexes,phecode-401-both_sexes,phecode-411.4-both_sexes                                                          \n",
       "17_40144007_48070076 biomarkers-30600-both_sexes-irnt,biomarkers-30680-both_sexes-irnt,biomarkers-30690-both_sexes-irnt,biomarkers-30760-both_sexes-irnt,biomarkers-30780-both_sexes-irnt,biomarkers-30870-both_sexes-irnt,categorical-20003-both_sexes-1140861958,continuous-102-both_sexes-irnt,continuous-12340-both_sexes-irnt,continuous-20022-both_sexes-irnt,continuous-21001-both_sexes-irnt,continuous-DBP-both_sexes-combined_medadj_irnt,continuous-LDLC-both_sexes-medadj_irnt,continuous-MAP-both_sexes-combined_medadj_irnt,continuous-PP-both_sexes-combined_medadj_irnt,continuous-SBP-both_sexes-combined_medadj_irnt,icd10-I20-both_sexes,icd10-I25-both_sexes,phecode-401-both_sexes,phecode-411.2-both_sexes,phecode-411.4-both_sexes\n",
       "16_14277712_16384360 biomarkers-30600-both_sexes-irnt,biomarkers-30680-both_sexes-irnt,biomarkers-30760-both_sexes-irnt,biomarkers-30870-both_sexes-irnt,continuous-102-both_sexes-irnt,continuous-21001-both_sexes-irnt,continuous-DBP-both_sexes-combined_medadj_irnt,continuous-LDLC-both_sexes-medadj_irnt,continuous-MAP-both_sexes-combined_medadj_irnt,continuous-PP-both_sexes-combined_medadj_irnt,continuous-SBP-both_sexes-combined_medadj_irnt                                                                                                                                                                                                                                                                                               \n",
       "1_965800_2544414     biomarkers-30600-both_sexes-irnt,biomarkers-30680-both_sexes-irnt,biomarkers-30760-both_sexes-irnt,continuous-21001-both_sexes-irnt,continuous-MAP-both_sexes-combined_medadj_irnt,continuous-PP-both_sexes-combined_medadj_irnt,continuous-SBP-both_sexes-combined_medadj_irnt                                                                                                                                                                                                                                                                                                                                                                                                                                                     \n",
       "19_43889535_47004800 biomarkers-30600-both_sexes-irnt,biomarkers-30690-both_sexes-irnt,biomarkers-30760-both_sexes-irnt,biomarkers-30780-both_sexes-irnt,biomarkers-30870-both_sexes-irnt,categorical-20003-both_sexes-1140861958,categorical-20003-both_sexes-1141146234,continuous-102-both_sexes-irnt,continuous-21001-both_sexes-irnt,continuous-DBP-both_sexes-combined_medadj_irnt,continuous-LDLC-both_sexes-medadj_irnt,continuous-MAP-both_sexes-combined_medadj_irnt,continuous-PP-both_sexes-combined_medadj_irnt,continuous-SBP-both_sexes-combined_medadj_irnt,icd10-I20-both_sexes,icd10-I25-both_sexes,phecode-411.2-both_sexes,phecode-411.4-both_sexes                                                                                  \n",
       "22_24141101_24503541 biomarkers-30870-both_sexes-irnt                                                                                                                                                                                                                                                                                                                                                                                                                                                                                                                                                                                                                                                                                                    \n",
       "                     n_gwas nodes edges nodes_09 edges_09 nodes.gwas nodes.rna\n",
       "6_25044242_33934568  19     406   15752 286      473      27         161      \n",
       "17_40144007_48070076 21     279    4844 166      461      27         104      \n",
       "16_14277712_16384360 11      89    1567  75      321      17          25      \n",
       "1_965800_2544414      7     126    2644  85      269      15          50      \n",
       "19_43889535_47004800 18     164    3145 107      215      24          61      \n",
       "22_24141101_24503541  1      44     415  36      200       7          12      \n",
       "                     nodes.isoform nodes.atac nodes.chip\n",
       "6_25044242_33934568  163           18         37        \n",
       "17_40144007_48070076  76           40         32        \n",
       "16_14277712_16384360  34            9          4        \n",
       "1_965800_2544414      32           10         19        \n",
       "19_43889535_47004800  48           14         17        \n",
       "22_24141101_24503541   6            8         11        "
      ]
     },
     "metadata": {},
     "output_type": "display_data"
    }
   ],
   "source": [
    "head(loci2net_count[order(loci2net_count$edges_09, decreasing = TRUE),])"
   ]
  },
  {
   "cell_type": "markdown",
   "metadata": {},
   "source": [
    "# plot networks"
   ]
  },
  {
   "cell_type": "code",
   "execution_count": 277,
   "metadata": {},
   "outputs": [
    {
     "data": {
      "text/html": [
       "<strong>png:</strong> 2"
      ],
      "text/latex": [
       "\\textbf{png:} 2"
      ],
      "text/markdown": [
       "**png:** 2"
      ],
      "text/plain": [
       "png \n",
       "  2 "
      ]
     },
     "metadata": {},
     "output_type": "display_data"
    }
   ],
   "source": [
    "plot_subgraph = function(locus)\n",
    "{\n",
    "    network_locus = loci_network[[locus]]\n",
    "    nodes         = network_locus$nodes\n",
    "    edges         = network_locus$edges\n",
    "    x             = network_locus$network\n",
    "    coord         = nodes[nodes$transcript_id %in% names(V(x)),]\n",
    "    chrom         = unique(coord$chrom)\n",
    "    from          = min   (coord$start)\n",
    "    to            = max   (coord$end  )\n",
    "    ids           = nodes\n",
    "    ids           = ids[order(ids$start),]\n",
    "    \n",
    "    toplot = as.data.frame(matrix(0, nrow = nrow(ids), ncol = nrow(ids), dimnames = list(ids$transcript_id, ids$transcript_id)))\n",
    "    \n",
    "    for(ii in 1:(nrow(ids)-1))\n",
    "    {\n",
    "        id1 = ids[ii, \"transcript_id\"]\n",
    "        \n",
    "        for(jj in (ii+1):nrow(ids))\n",
    "        {\n",
    "            id2  = ids[jj, \"transcript_id\"]\n",
    "            this = edges[ (edges$transcript_id1 == id1 & edges$transcript_id2 == id2) | (edges$transcript_id1 == id2 & edges$transcript_id2 == id1),]\n",
    "            \n",
    "            if(nrow(this) > 0)\n",
    "            {\n",
    "                #toplot[c(id1, id2), c(id2, id1)] =  max(this[, \"PP.H4.abf\"])\n",
    "                toplot[id1, id2] =  max(this[, \"PP.H4.abf\"])\n",
    "            }\n",
    "        }\n",
    "        toplot[ii,ii] = 1\n",
    "    }\n",
    "    \n",
    "    toplot           = as.matrix(toplot)\n",
    "    rownames(toplot) = ids$gene_name\n",
    "    colnames(toplot) = ids$gene_name\n",
    "    \n",
    "    layout(rbind(1:2))\n",
    "    corrplot(toplot, method = \"color\", tl.pos = \"t\", tl.cex = 0.8, tl.col = \"#000000\")\n",
    "    plot.igraph(x, vertex.label = V(x)$gene_name, main = locus)\n",
    "    \n",
    "    #return(toplot)\n",
    "}\n",
    "options(repr.plot.width = 20, repr.plot.height = 8)\n",
    "\n",
    "toplot = loci2net_count[ loci2net_count$edges_09 > 0,]\n",
    "\n",
    "pdf(file = \"pipeline/5.2.coloc_network/network_loci.pdf\", width = 20, height = 9)\n",
    "invisible(lapply(toplot[order(toplot$edges_09, decreasing = TRUE), \"locus\"], plot_subgraph))\n",
    "\n",
    "dev.off()\n",
    "\n",
    "#toplot = plot_subgraph(decomposed, 409)\n"
   ]
  },
  {
   "cell_type": "code",
   "execution_count": null,
   "metadata": {},
   "outputs": [],
   "source": []
  }
 ],
 "metadata": {
  "kernelspec": {
   "display_name": "R 4.0.1",
   "language": "R",
   "name": "ir401"
  },
  "language_info": {
   "codemirror_mode": "r",
   "file_extension": ".r",
   "mimetype": "text/x-r-source",
   "name": "R",
   "pygments_lexer": "r",
   "version": "4.0.1"
  }
 },
 "nbformat": 4,
 "nbformat_minor": 2
}
