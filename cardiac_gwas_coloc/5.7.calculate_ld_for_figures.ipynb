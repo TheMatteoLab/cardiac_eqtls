{
 "cells": [
  {
   "cell_type": "markdown",
   "metadata": {},
   "source": [
    "# Calculate LD\n",
    "- get token from https://ldlink.nci.nih.gov/?tab=apiaccess\n",
    "- token: 44c6c4744e3e"
   ]
  },
  {
   "cell_type": "code",
   "execution_count": 2,
   "metadata": {},
   "outputs": [],
   "source": [
    "library(seqminer)\n",
    "library(LDlinkR)"
   ]
  },
  {
   "cell_type": "code",
   "execution_count": 3,
   "metadata": {},
   "outputs": [],
   "source": [
    "token = \"44c6c4744e3e\""
   ]
  },
  {
   "cell_type": "code",
   "execution_count": 4,
   "metadata": {},
   "outputs": [],
   "source": [
    "setwd(\"/frazer01/projects/CARDIPS/analysis/cardiac_gwas_coloc\")\n",
    "\n",
    "source(\"script/functions.R\"  )\n"
   ]
  },
  {
   "cell_type": "code",
   "execution_count": 5,
   "metadata": {},
   "outputs": [],
   "source": [
    "dir.create(\"pipeline/5.7.ld_for_figures\", showWarnings = FALSE)\n"
   ]
  },
  {
   "cell_type": "code",
   "execution_count": 6,
   "metadata": {},
   "outputs": [
    {
     "name": "stderr",
     "output_type": "stream",
     "text": [
      "Warning message in eval(expr, envir, enclos):\n",
      "“NAs introduced by coercion”\n"
     ]
    }
   ],
   "source": [
    "snps = fread(cmd = \"zcat /frazer01/reference/public/ukbb/variants.tsv.bgz\", sep = \"\\t\", header = TRUE, data.table = FALSE)\n",
    "snps$chrom = as.numeric(snps$chr)"
   ]
  },
  {
   "cell_type": "code",
   "execution_count": 20,
   "metadata": {},
   "outputs": [
    {
     "name": "stderr",
     "output_type": "stream",
     "text": [
      "\n",
      "LDlink server is working...\n",
      "\n",
      "\n",
      "\n",
      "LDlink server is working...\n",
      "\n",
      "\n"
     ]
    }
   ],
   "source": [
    "calculate_ld = function(signal_id, variant_id, distance = 100000, pop = \"CEU\")\n",
    "{\n",
    "    indata     = readRDS(paste0(\"pipeline/5.5.meta_analysis/coloc_data/\", signal_id, \".rds\"))\n",
    "    meta       = indata[[\"meta_analysis_gwas\"]]\n",
    "    meta$index = FALSE\n",
    "    meta$pos   = as.numeric(unlist(lapply(meta$id, function(x){unlist(strsplit(x, \"_\"))[[3]]})))\n",
    "    \n",
    "    meta[meta$id == variant_id, \"index\"] = TRUE\n",
    "    \n",
    "    meta          = meta[meta$pos >= meta[meta$index == TRUE, \"pos\"] - distance & meta$pos <= meta[meta$index == TRUE, \"pos\"] + distance,]\n",
    "    #meta$distance = abs(meta$pos - meta[meta$index == TRUE, \"pos\"])\n",
    "    #\n",
    "    #if(nrow(meta) > 1000)\n",
    "    #{\n",
    "    #    meta = meta[order(meta$distance),]\n",
    "    #    meta = meta[1:1000,]\n",
    "    #}\n",
    "    \n",
    "    meta$chrom = as.numeric(unlist(strsplit(meta[meta$index == TRUE, \"id\"], \"_\"))[[2]])\n",
    "    #meta       = merge(meta, snps[,c(\"chrom\", \"pos\", \"rsid\")], by = c(\"chrom\", \"pos\"), all.x = TRUE)\n",
    "    rsid       = snps[snps$chrom == meta[meta$index == TRUE, \"chrom\"] & snps$pos == meta[meta$index == TRUE, \"pos\"], \"rsid\"][[1]]\n",
    "\n",
    "    my_proxies = LDproxy(snp = rsid, pop = pop, r2d = \"r2\", token = token)\n",
    "    \n",
    "    my_proxies$chrom = as.numeric(sub(\"chr\", \"\", unlist(lapply(my_proxies$Coord, function(coord){unlist(strsplit(coord, \":\"))[[1]]}))))\n",
    "    my_proxies$pos   = as.numeric(               unlist(lapply(my_proxies$Coord, function(coord){unlist(strsplit(coord, \":\"))[[2]]})))\n",
    "    my_proxies       = data.frame(rsid = my_proxies$RS_Number, r2 = my_proxies$R2, pos = my_proxies$pos, chrom = my_proxies$chrom)\n",
    "    \n",
    "    meta = merge(meta, my_proxies, by = c(\"chrom\", \"pos\"), all.x = TRUE)\n",
    "    \n",
    "    return(meta)\n",
    "}\n",
    "\n",
    "rs13107325 = calculate_ld(\"4_101904130_104478012.1\", \"VAR_4_103188709_C_T\", 100000, \"CEU\")\n",
    "rs1229984  = calculate_ld(\"4_99841138_100760909.1\" , \"VAR_4_100239319_T_C\", 100000, \"EAS\")\n",
    "\n",
    "\t\t"
   ]
  },
  {
   "cell_type": "code",
   "execution_count": 22,
   "metadata": {},
   "outputs": [],
   "source": [
    "fwrite(rs13107325, \"pipeline/5.7.ld_for_figures/rs13107325.txt\", sep = \"\\t\", col.names = TRUE, row.names = FALSE)\n",
    "fwrite(rs1229984 , \"pipeline/5.7.ld_for_figures/rs1229984.txt\" , sep = \"\\t\", col.names = TRUE, row.names = FALSE)\n"
   ]
  },
  {
   "cell_type": "code",
   "execution_count": null,
   "metadata": {},
   "outputs": [],
   "source": []
  }
 ],
 "metadata": {
  "kernelspec": {
   "display_name": "R 4.0.1",
   "language": "R",
   "name": "ir401"
  },
  "language_info": {
   "codemirror_mode": "r",
   "file_extension": ".r",
   "mimetype": "text/x-r-source",
   "name": "R",
   "pygments_lexer": "r",
   "version": "4.0.1"
  }
 },
 "nbformat": 4,
 "nbformat_minor": 2
}
