{
 "cells": [
  {
   "cell_type": "markdown",
   "metadata": {},
   "source": [
    "# Create one coloc network per locus"
   ]
  },
  {
   "cell_type": "code",
   "execution_count": 173,
   "metadata": {},
   "outputs": [],
   "source": [
    "library(pheatmap)\n",
    "library(colorspace)\n"
   ]
  },
  {
   "cell_type": "code",
   "execution_count": 174,
   "metadata": {},
   "outputs": [],
   "source": [
    "setwd(\"/frazer01/projects/CARDIPS/analysis/cardiac_gwas_coloc\")\n",
    "\n",
    "source(\"script/functions.R\"  )\n"
   ]
  },
  {
   "cell_type": "code",
   "execution_count": 175,
   "metadata": {},
   "outputs": [],
   "source": [
    "dir.create(\"pipeline/5.2.coloc_network\", showWarnings = FALSE)\n"
   ]
  },
  {
   "cell_type": "code",
   "execution_count": 176,
   "metadata": {},
   "outputs": [],
   "source": [
    "manifest   = add_rownames(fread(\"pipeline/1.1.sumstats/manifest.txt\"                     , sep = \"\\t\", header = TRUE, data.table = FALSE))\n",
    "loci       = add_rownames(fread(\"pipeline/1.2.genomewide_significant_loci/loci.txt\"      , sep = \"\\t\", header = TRUE, data.table = FALSE))\n",
    "loci2study = add_rownames(fread(\"pipeline/1.2.genomewide_significant_loci/loci2study.txt\", sep = \"\\t\", header = TRUE, data.table = FALSE))\n",
    "coloc_gwas =              fread(\"pipeline/2.1.coloc/coloc.txt\"                           , sep = \"\\t\", header = TRUE, data.table = FALSE)\n",
    "coloc_qtls =              fread(\"pipeline/4.1.coloc_qtls/coloc.txt\"                      , sep = \"\\t\", header = TRUE, data.table = FALSE)"
   ]
  },
  {
   "cell_type": "code",
   "execution_count": 177,
   "metadata": {},
   "outputs": [],
   "source": [
    "manifest    = manifest[ !manifest$description %in% c(\"K57 Diverticular disease of intestine\", \"Cataract\", \"M16 Coxarthrosis [arthrosis of hip]\"), ]\n",
    "loci2study  = loci2study[,rownames(manifest)]\n",
    "loci2study  = loci2study[ rowSums(loci2study) > 0,]\n",
    "loci        = loci[rownames(loci2study),]\n",
    "loci$n_gwas = rowSums(loci2study)\n"
   ]
  },
  {
   "cell_type": "code",
   "execution_count": 278,
   "metadata": {},
   "outputs": [
    {
     "name": "stdout",
     "output_type": "stream",
     "text": [
      "'data.frame':\t27 obs. of  42 variables:\n",
      " $ trait_type                    : chr  \"biomarkers\" \"biomarkers\" \"biomarkers\" \"biomarkers\" ...\n",
      " $ phenocode                     : chr  \"30600\" \"30680\" \"30690\" \"30760\" ...\n",
      " $ pheno_sex                     : chr  \"both_sexes\" \"both_sexes\" \"both_sexes\" \"both_sexes\" ...\n",
      " $ coding                        : int  NA NA NA NA NA NA 1140861958 1140866738 1140879802 1141146234 ...\n",
      " $ modifier                      : chr  \"irnt\" \"irnt\" \"irnt\" \"irnt\" ...\n",
      " $ description                   : chr  \"Albumin\" \"Calcium\" \"Cholesterol\" \"HDL cholesterol\" ...\n",
      " $ description_more              : chr  \"\" \"\" \"\" \"\" ...\n",
      " $ coding_description            : chr  \"\" \"\" \"\" \"\" ...\n",
      " $ category                      : chr  \"Biological samples > Assay results > Blood assays > Blood biochemistry\" \"Biological samples > Assay results > Blood assays > Blood biochemistry\" \"Biological samples > Assay results > Blood assays > Blood biochemistry\" \"Biological samples > Assay results > Blood assays > Blood biochemistry\" ...\n",
      " $ n_cases_full_cohort_both_sexes: int  422605 422461 461507 422405 460650 461140 55313 18567 20640 14505 ...\n",
      " $ n_cases_full_cohort_females   : int  208336 208265 229127 208262 228761 228999 21548 7989 7935 5388 ...\n",
      " $ n_cases_full_cohort_males     : int  179998 179931 194912 179888 194496 194702 33765 10578 12705 9117 ...\n",
      " $ pops                          : chr  \"AFR,AMR,CSA,EAS,EUR,MID\" \"AFR,AMR,CSA,EAS,EUR,MID\" \"AFR,AMR,CSA,EAS,EUR,MID\" \"AFR,AMR,CSA,EAS,EUR,MID\" ...\n",
      " $ num_pops                      : int  6 6 6 6 6 6 6 5 5 4 ...\n",
      " $ n_cases_AFR                   : int  5759 5758 6212 5754 6200 6211 761 227 892 131 ...\n",
      " $ n_cases_AMR                   : int  856 856 938 854 938 937 80 NA NA NA ...\n",
      " $ n_cases_CSA                   : int  7694 7697 8422 7688 8404 8415 1618 341 673 421 ...\n",
      " $ n_cases_EAS                   : int  2340 2344 2572 2342 2568 2570 207 58 117 NA ...\n",
      " $ n_cases_EUR                   : int  367192 367050 400963 367021 400223 400639 47941 16428 17099 12644 ...\n",
      " $ n_cases_MID                   : int  1364 1361 1500 1364 1498 1499 224 59 75 52 ...\n",
      " $ n_controls_AFR                : int  NA NA NA NA NA NA 5863 6397 5732 6493 ...\n",
      " $ n_controls_AMR                : int  NA NA NA NA NA NA 900 NA NA NA ...\n",
      " $ n_controls_CSA                : int  NA NA NA NA NA NA 7231 8508 8176 8428 ...\n",
      " $ n_controls_EAS                : int  NA NA NA NA NA NA 2500 2649 2590 NA ...\n",
      " $ n_controls_EUR                : int  NA NA NA NA NA NA 372532 404045 403374 407829 ...\n",
      " $ n_controls_MID                : int  NA NA NA NA NA NA 1371 1536 1520 1543 ...\n",
      " $ saige_heritability_AFR        : num  0.254 0.105 0.261 0.338 0.261 ...\n",
      " $ saige_heritability_AMR        : num  0.113 0 0.117 0.596 0.245 ...\n",
      " $ saige_heritability_CSA        : num  0.241 0.138 0.23 0.434 0.208 ...\n",
      " $ saige_heritability_EAS        : num  0.0613 0.0375 0.1158 0.2249 0.1205 ...\n",
      " $ saige_heritability_EUR        : num  0.0645 0.0657 0.0638 0.1434 0.0606 ...\n",
      " $ saige_heritability_MID        : num  0.205 0 0 0.466 0 ...\n",
      " $ lambda_gc_AFR                 : num  1.029 1.036 1.041 1.017 0.988 ...\n",
      " $ lambda_gc_AMR                 : num  0.995 0.542 1.033 1.01 0.999 ...\n",
      " $ lambda_gc_CSA                 : num  1.01 1.02 1.03 1.02 1.02 ...\n",
      " $ lambda_gc_EAS                 : num  0.985 0.998 1 1.015 1.016 ...\n",
      " $ lambda_gc_EUR                 : num  1.39 1.31 1.41 1.78 1.32 ...\n",
      " $ lambda_gc_MID                 : num  1.003 1.002 0.859 0.999 1.03 ...\n",
      " $ filename                      : chr  \"biomarkers-30600-both_sexes-irnt.tsv.bgz\" \"biomarkers-30680-both_sexes-irnt.tsv.bgz\" \"biomarkers-30690-both_sexes-irnt.tsv.bgz\" \"biomarkers-30760-both_sexes-irnt.tsv.bgz\" ...\n",
      " $ sumstat_file                  : chr  \"/frazer01/projects/CARDIPS/analysis/cardiac_gwas_coloc/pipeline/1.1.sumstats/sumstats/biomarkers-30600-both_sexes-irnt.tsv.bgz\" \"/frazer01/projects/CARDIPS/analysis/cardiac_gwas_coloc/pipeline/1.1.sumstats/sumstats/biomarkers-30680-both_sexes-irnt.tsv.bgz\" \"/frazer01/projects/CARDIPS/analysis/cardiac_gwas_coloc/pipeline/1.1.sumstats/sumstats/biomarkers-30690-both_sexes-irnt.tsv.bgz\" \"/frazer01/projects/CARDIPS/analysis/cardiac_gwas_coloc/pipeline/1.1.sumstats/sumstats/biomarkers-30760-both_sexes-irnt.tsv.bgz\" ...\n",
      " $ id                            : chr  \"biomarkers-30600-both_sexes-irnt\" \"biomarkers-30680-both_sexes-irnt\" \"biomarkers-30690-both_sexes-irnt\" \"biomarkers-30760-both_sexes-irnt\" ...\n",
      " $ name                          : chr  \"Albumin\" \"Calcium\" \"Cholesterol\" \"HDL cholesterol\" ...\n"
     ]
    }
   ],
   "source": [
    "str(manifest)"
   ]
  },
  {
   "cell_type": "code",
   "execution_count": 178,
   "metadata": {},
   "outputs": [],
   "source": [
    "qtl_list = readRDS(\"/frazer01/projects/CARDIPS/analysis/cardiac_qtls_combined/input/qtl/qtls.RDS\"   )\n",
    "exp_list = readRDS(\"/frazer01/projects/CARDIPS/analysis/cardiac_qtls_combined/input/expdata_qtl.rds\")"
   ]
  },
  {
   "cell_type": "code",
   "execution_count": 179,
   "metadata": {},
   "outputs": [],
   "source": [
    "phenotypes  = qtl_list$phenotypes\n",
    "qtls        = qtl_list$qtl\n",
    "coordinates = exp_list$coordinates\n",
    "rownames(coordinates) = coordinates$transcript_id"
   ]
  },
  {
   "cell_type": "code",
   "execution_count": 180,
   "metadata": {},
   "outputs": [],
   "source": [
    "populations = c('meta','AFR','AMR','CSA','EAS','EUR','MID')"
   ]
  },
  {
   "cell_type": "code",
   "execution_count": 181,
   "metadata": {},
   "outputs": [],
   "source": [
    "coloc_qtls = merge(coloc_qtls, coordinates[,c(\"transcript_id\", \"gene_id\", \"gene_name\", \"phenotype\")], by = \"transcript_id\")"
   ]
  },
  {
   "cell_type": "markdown",
   "metadata": {},
   "source": [
    "# Get coloc between QTLs"
   ]
  },
  {
   "cell_type": "code",
   "execution_count": 182,
   "metadata": {},
   "outputs": [],
   "source": [
    "coloc_data  = fread(\"/frazer01/projects/CARDIPS/analysis/cardiac_qtls_combined/pipeline/coloc/processing/coloc.txt\", sep = \"\\t\", header = TRUE, data.table = FALSE)\n",
    "nodes_all   = merge(coordinates[ coordinates$transcript_id %in% unique(c(coloc_data$transcript_id1, coloc_data$transcript_id2, coloc_qtls$transcript_id)),], qtl_list$phenotypes[,c(\"phenotype\", \"color\")])[,c(\"transcript_id\", \"gene_id\", \"gene_name\", \"transcript_type\", \"gene_type\", \"phenotype\", \"chrom\", \"start\", \"end\", \"color\")]\n",
    "edges_all   = coloc_data[, c(\"transcript_id1\", \"transcript_id2\", \"type1\", \"type2\", \"id\", \"pp_snp\", paste(\"PP.H\", 0:4, \".abf\", sep = \"\"))]\n",
    "#network_all = graph_from_data_frame(d = edges_all, vertices = nodes_all, directed = FALSE)\n",
    "edges_all$pop = \"meta\""
   ]
  },
  {
   "cell_type": "markdown",
   "metadata": {},
   "source": [
    "# Combine into one single data frame\n",
    "- nodes\n",
    "- edges\n",
    "\n",
    "## GWAS vs. GWAS"
   ]
  },
  {
   "cell_type": "code",
   "execution_count": 183,
   "metadata": {},
   "outputs": [],
   "source": [
    "nodes_gwas     = data.frame(transcript_id = manifest$id, gene_id = manifest$id, gene_name = manifest$name, gene_type = \"GWAs\", transcript_type = \"GWAs\", phenotype = \"gwas\", color = \"#ff0000\")\n",
    "nodes_gwas     = merge(nodes_gwas, data.frame(locus_id = rownames(loci), chrom = paste0(\"chr\", loci$chrom), start = loci$from, end = loci$to))\n",
    "#nodes_gwas$gws = FALSE\n",
    "#\n",
    "#for(transcript_id in colnames(loci2study))\n",
    "#{\n",
    "#    ids = rownames(loci2study[ loci2study[, transcript_id] == 1,])\n",
    "#    nodes_gwas[ nodes_gwas$transcript_id == transcript_id & nodes_gwas$locus_id %in% ids, \"gws\"] = TRUE\n",
    "#}\n",
    "#\n",
    "#nodes_gwas = nodes_gwas[ nodes_gwas$gws == TRUE, ]\n",
    "\n",
    "\n"
   ]
  },
  {
   "cell_type": "code",
   "execution_count": 184,
   "metadata": {},
   "outputs": [],
   "source": [
    "edges_gwas_locus = lapply(loci$locus, function(locus)\n",
    "{\n",
    "    x                = coloc_gwas[ coloc_gwas$locus == locus, ]\n",
    "    mycols           = c(\"transcript_id1\", \"transcript_id2\", \"type1\", \"type2\", \"pop\", \"id\", \"pp_snp\", paste(\"PP.H\", 0:4, \".abf\", sep = \"\"))\n",
    "    x$transcript_id1 = x$study1\n",
    "    x$transcript_id2 = x$study2\n",
    "    x$type1          = 0\n",
    "    x$type2          = 0\n",
    "    x$id             = x$variant_id\n",
    "    x                = x[,mycols]\n",
    "    \n",
    "    return(x)\n",
    "})\n",
    "\n",
    "names(edges_gwas_locus) = loci$locus"
   ]
  },
  {
   "cell_type": "markdown",
   "metadata": {},
   "source": [
    "## GWAS vs. QTL"
   ]
  },
  {
   "cell_type": "code",
   "execution_count": 185,
   "metadata": {},
   "outputs": [],
   "source": [
    "edges_gwas_qtl_locus = lapply(loci$locus, function(locus)\n",
    "{\n",
    "    x                = coloc_qtls[ coloc_qtls$locus == locus, ]\n",
    "    if(nrow(x) > 0)\n",
    "    {\n",
    "        mycols           = c(\"transcript_id1\", \"transcript_id2\", \"type1\", \"type2\", \"pop\", \"id\", \"pp_snp\", paste(\"PP.H\", 0:4, \".abf\", sep = \"\"))\n",
    "        x$transcript_id1 = x$transcript_id\n",
    "        x$transcript_id2 = x$gwas\n",
    "        x$type1          = x$type\n",
    "        x$type2          = 0\n",
    "        x                = x[,mycols]\n",
    "\n",
    "        return(x)\n",
    "    }else\n",
    "    {\n",
    "        return(data.frame())\n",
    "    }\n",
    "})\n",
    "\n",
    "names(edges_gwas_qtl_locus) = loci$locus"
   ]
  },
  {
   "cell_type": "markdown",
   "metadata": {},
   "source": [
    "# Create network for each locus"
   ]
  },
  {
   "cell_type": "code",
   "execution_count": 186,
   "metadata": {},
   "outputs": [],
   "source": [
    "suppressPackageStartupMessages(library(igraph  ))\n",
    "suppressPackageStartupMessages(library(corrplot))"
   ]
  },
  {
   "cell_type": "code",
   "execution_count": 187,
   "metadata": {},
   "outputs": [],
   "source": [
    "loci$n_qtls = unlist(lapply(edges_gwas_qtl_locus, nrow))"
   ]
  },
  {
   "cell_type": "code",
   "execution_count": 200,
   "metadata": {},
   "outputs": [],
   "source": [
    "create_network_locus = function(locus, threshold = 0.5)\n",
    "{\n",
    "    chrom           = paste0(\"chr\", loci  [locus , \"chrom\" ])\n",
    "    from            =               loci  [locus , \"from\"  ]\n",
    "    to              =               loci  [locus , \"to\"    ]\n",
    "    gwas_gwas       = edges_gwas_locus    [[locus]]\n",
    "    gwas_qtls       = edges_gwas_qtl_locus[[locus]]\n",
    "    transcript_ids  = sort(unique(c(gwas_qtls$transcript_id1, gwas_qtls$transcript_id2, gwas_gwas$transcript_id1, gwas_gwas$transcript_id2)))\n",
    "    qtls_qtls       = edges_all[ edges_all$transcript_id1 %in% transcript_ids & edges_all$transcript_id2 %in% transcript_ids,]\n",
    "    edges           = rbind(gwas_gwas, gwas_qtls, qtls_qtls)\n",
    "    nodes           = rbind(nodes_all, nodes_gwas[ nodes_gwas$locus_id == locus, colnames(nodes_all)])\n",
    "    edges           = edges[ edges$PP.H4.abf >= threshold,]\n",
    "    nodes           = unique(nodes[ nodes$transcript_id %in% c(edges$transcript_id1, edges$transcript_id2),])\n",
    "    network         = graph_from_data_frame(d = edges, vertices = nodes, directed = FALSE)\n",
    "    \n",
    "    return(list(nodes = nodes, edges = edges, network = network))\n",
    "}\n",
    "\n",
    "#locus = loci[2, \"locus\"]\n",
    "x = create_network_locus(\"1_72412988_73058905\", 0.9)\n",
    "\n",
    "loci2net            = loci[ loci$n_qtls > 0 | loci$n_gwas > 1,]\n",
    "loci_network        = lapply(loci2net$locus, function(locus){create_network_locus(locus, 0.9)})\n",
    "names(loci_network) = loci2net$locus\n",
    "\n",
    "saveRDS(loci_network, \"pipeline/5.2.coloc_network/network_by_locus.rds\")\n",
    "fwrite(loci2net, \"pipeline/5.2.coloc_network/loci2net.txt\", sep = \"\\t\", col.names = TRUE, row.names = FALSE)\n",
    "\n"
   ]
  },
  {
   "cell_type": "markdown",
   "metadata": {},
   "source": [
    "# Get all associations (PP-h4 > 0.5 or PP-h3 > 0.5)"
   ]
  },
  {
   "cell_type": "code",
   "execution_count": 250,
   "metadata": {},
   "outputs": [],
   "source": [
    "get_pps = function(locus, threshold = 0.5)\n",
    "{\n",
    "    chrom           = paste0(\"chr\", loci  [locus , \"chrom\" ])\n",
    "    from            =               loci  [locus , \"from\"  ]\n",
    "    to              =               loci  [locus , \"to\"    ]\n",
    "    gwas_gwas       = edges_gwas_locus    [[locus]]\n",
    "    gwas_qtls       = edges_gwas_qtl_locus[[locus]]\n",
    "    transcript_ids  = sort(unique(c(gwas_qtls$transcript_id1, gwas_qtls$transcript_id2, gwas_gwas$transcript_id1, gwas_gwas$transcript_id2)))\n",
    "    qtls_qtls       = edges_all[ edges_all$transcript_id1 %in% transcript_ids & edges_all$transcript_id2 %in% transcript_ids,]\n",
    "    edges           = rbind(gwas_gwas, gwas_qtls, qtls_qtls)\n",
    "    nodes           = rbind(nodes_all, nodes_gwas[ nodes_gwas$locus_id == locus, colnames(nodes_all)])\n",
    "    edges           = edges[ edges$PP.H4.abf >= threshold | edges$PP.H3.abf >= threshold,]\n",
    "    nodes           = unique(nodes[ nodes$transcript_id %in% c(edges$transcript_id1, edges$transcript_id2),])\n",
    "    \n",
    "    return(list(nodes = nodes, edges = edges))\n",
    "}\n",
    "\n",
    "#locus = loci[2, \"locus\"]\n",
    "x = get_pps(\"1_72412988_73058905\", 0.5)\n",
    "\n",
    "top_pps        = lapply(loci2net$locus, function(locus){get_pps(locus, 0.5)})\n",
    "names(top_pps) = loci2net$locus\n",
    "\n",
    "saveRDS(top_pps, \"pipeline/5.2.coloc_network/top_pps.rds\")\n"
   ]
  },
  {
   "cell_type": "code",
   "execution_count": 266,
   "metadata": {},
   "outputs": [],
   "source": [
    "loci2net_count = as.data.frame(rbindlist(lapply(top_pps, function(x)\n",
    "{\n",
    "    nodes = x$nodes\n",
    "    edges = x$edges\n",
    "    out = data.frame(nodes = nrow(nodes), \n",
    "                     edges = nrow(unique(edges[, c(\"transcript_id1\", \"transcript_id2\")])), \n",
    "                     nodes_09 = length(unique(c(edges[edges$PP.H4.abf >= 0.9, \"transcript_id1\"], edges[edges$PP.H4.abf >= 0.9, \"transcript_id2\"]))),\n",
    "                     edges_09 = nrow(unique(edges[edges$PP.H4.abf >= 0.9, c(\"transcript_id1\", \"transcript_id2\")]))\n",
    "                    )\n",
    "    for(phenotype in c(\"gwas\", phenotypes$phenotype))\n",
    "    {\n",
    "        out[,paste(\"nodes\", phenotype, sep = \".\")] = nrow(nodes[nodes$phenotype == phenotype,])\n",
    "    }\n",
    "    \n",
    "    return(out)\n",
    "})), stringsAsFactors = FALSE)\n",
    "\n",
    "loci2net_count = cbind(loci2net[,c(\"locus\", \"size\", \"chrom\", \"from\", \"to\", \"ids\", \"n_gwas\")], loci2net_count)\n",
    "\n",
    "fwrite(loci2net_count, \"pipeline/5.2.coloc_network/loci2net_count.txt\", sep = \"\\t\", col.names = TRUE, row.names = FALSE)\n"
   ]
  },
  {
   "cell_type": "code",
   "execution_count": 272,
   "metadata": {},
   "outputs": [
    {
     "data": {
      "image/png": "[encoded data removed]",
      "text/plain": [
       "Plot with title “Histogram of loci2net_count$n_gwas”"
      ]
     },
     "metadata": {
      "image/png": {
       "height": 360,
       "width": 660
      },
      "text/plain": {
       "height": 360,
       "width": 660
      }
     },
     "output_type": "display_data"
    },
    {
     "data": {
      "image/png": "[encoded data removed]",
      "text/plain": [
       "Plot with title “Histogram of loci2net_count$nodes_09”"
      ]
     },
     "metadata": {
      "image/png": {
       "height": 360,
       "width": 660
      },
      "text/plain": {
       "height": 360,
       "width": 660
      }
     },
     "output_type": "display_data"
    },
    {
     "data": {
      "image/png": "[encoded data removed]",
      "text/plain": [
       "Plot with title “Histogram of loci2net_count$edges_09”"
      ]
     },
     "metadata": {
      "image/png": {
       "height": 360,
       "width": 660
      },
      "text/plain": {
       "height": 360,
       "width": 660
      }
     },
     "output_type": "display_data"
    }
   ],
   "source": [
    "hist(loci2net_count$n_gwas, breaks = 0:30)\n",
    "hist(loci2net_count$nodes_09)\n",
    "hist(loci2net_count$edges_09)\n",
    "\n"
   ]
  },
  {
   "cell_type": "code",
   "execution_count": 273,
   "metadata": {},
   "outputs": [
    {
     "data": {
      "text/html": [
       "<table>\n",
       "<caption>A data.frame: 6 × 16</caption>\n",
       "<thead>\n",
       "\t<tr><th></th><th scope=col>locus</th><th scope=col>size</th><th scope=col>chrom</th><th scope=col>from</th><th scope=col>to</th><th scope=col>ids</th><th scope=col>n_gwas</th><th scope=col>nodes</th><th scope=col>edges</th><th scope=col>nodes_09</th><th scope=col>edges_09</th><th scope=col>nodes.gwas</th><th scope=col>nodes.rna</th><th scope=col>nodes.isoform</th><th scope=col>nodes.atac</th><th scope=col>nodes.chip</th></tr>\n",
       "\t<tr><th></th><th scope=col>&lt;chr&gt;</th><th scope=col>&lt;int&gt;</th><th scope=col>&lt;int&gt;</th><th scope=col>&lt;int&gt;</th><th scope=col>&lt;int&gt;</th><th scope=col>&lt;chr&gt;</th><th scope=col>&lt;dbl&gt;</th><th scope=col>&lt;int&gt;</th><th scope=col>&lt;int&gt;</th><th scope=col>&lt;int&gt;</th><th scope=col>&lt;int&gt;</th><th scope=col>&lt;int&gt;</th><th scope=col>&lt;int&gt;</th><th scope=col>&lt;int&gt;</th><th scope=col>&lt;int&gt;</th><th scope=col>&lt;int&gt;</th></tr>\n",
       "</thead>\n",
       "<tbody>\n",
       "\t<tr><th scope=row>6_25044242_33934568</th><td>6_25044242_33934568 </td><td>8890326</td><td> 6</td><td>25044242</td><td>33934568</td><td>biomarkers-30600-both_sexes-irnt,biomarkers-30680-both_sexes-irnt,biomarkers-30690-both_sexes-irnt,biomarkers-30760-both_sexes-irnt,biomarkers-30780-both_sexes-irnt,biomarkers-30870-both_sexes-irnt,categorical-20003-both_sexes-1140861958,continuous-102-both_sexes-irnt,continuous-20022-both_sexes-irnt,continuous-21001-both_sexes-irnt,continuous-DBP-both_sexes-combined_medadj_irnt,continuous-LDLC-both_sexes-medadj_irnt,continuous-MAP-both_sexes-combined_medadj_irnt,continuous-PP-both_sexes-combined_medadj_irnt,continuous-SBP-both_sexes-combined_medadj_irnt,icd10-I20-both_sexes,icd10-I25-both_sexes,phecode-401-both_sexes,phecode-411.4-both_sexes                                                          </td><td>19</td><td>406</td><td>15752</td><td>286</td><td>473</td><td>27</td><td>161</td><td>163</td><td>18</td><td>37</td></tr>\n",
       "\t<tr><th scope=row>17_40144007_48070076</th><td>17_40144007_48070076</td><td>7926069</td><td>17</td><td>40144007</td><td>48070076</td><td>biomarkers-30600-both_sexes-irnt,biomarkers-30680-both_sexes-irnt,biomarkers-30690-both_sexes-irnt,biomarkers-30760-both_sexes-irnt,biomarkers-30780-both_sexes-irnt,biomarkers-30870-both_sexes-irnt,categorical-20003-both_sexes-1140861958,continuous-102-both_sexes-irnt,continuous-12340-both_sexes-irnt,continuous-20022-both_sexes-irnt,continuous-21001-both_sexes-irnt,continuous-DBP-both_sexes-combined_medadj_irnt,continuous-LDLC-both_sexes-medadj_irnt,continuous-MAP-both_sexes-combined_medadj_irnt,continuous-PP-both_sexes-combined_medadj_irnt,continuous-SBP-both_sexes-combined_medadj_irnt,icd10-I20-both_sexes,icd10-I25-both_sexes,phecode-401-both_sexes,phecode-411.2-both_sexes,phecode-411.4-both_sexes</td><td>21</td><td>279</td><td> 4844</td><td>166</td><td>461</td><td>27</td><td>104</td><td> 76</td><td>40</td><td>32</td></tr>\n",
       "\t<tr><th scope=row>16_14277712_16384360</th><td>16_14277712_16384360</td><td>2106648</td><td>16</td><td>14277712</td><td>16384360</td><td>biomarkers-30600-both_sexes-irnt,biomarkers-30680-both_sexes-irnt,biomarkers-30760-both_sexes-irnt,biomarkers-30870-both_sexes-irnt,continuous-102-both_sexes-irnt,continuous-21001-both_sexes-irnt,continuous-DBP-both_sexes-combined_medadj_irnt,continuous-LDLC-both_sexes-medadj_irnt,continuous-MAP-both_sexes-combined_medadj_irnt,continuous-PP-both_sexes-combined_medadj_irnt,continuous-SBP-both_sexes-combined_medadj_irnt                                                                                                                                                                                                                                                                                               </td><td>11</td><td> 89</td><td> 1567</td><td> 75</td><td>321</td><td>17</td><td> 25</td><td> 34</td><td> 9</td><td> 4</td></tr>\n",
       "\t<tr><th scope=row>1_965800_2544414</th><td>1_965800_2544414    </td><td>1578614</td><td> 1</td><td>  965800</td><td> 2544414</td><td>biomarkers-30600-both_sexes-irnt,biomarkers-30680-both_sexes-irnt,biomarkers-30760-both_sexes-irnt,continuous-21001-both_sexes-irnt,continuous-MAP-both_sexes-combined_medadj_irnt,continuous-PP-both_sexes-combined_medadj_irnt,continuous-SBP-both_sexes-combined_medadj_irnt                                                                                                                                                                                                                                                                                                                                                                                                                                                     </td><td> 7</td><td>126</td><td> 2644</td><td> 85</td><td>269</td><td>15</td><td> 50</td><td> 32</td><td>10</td><td>19</td></tr>\n",
       "\t<tr><th scope=row>19_43889535_47004800</th><td>19_43889535_47004800</td><td>3115265</td><td>19</td><td>43889535</td><td>47004800</td><td>biomarkers-30600-both_sexes-irnt,biomarkers-30690-both_sexes-irnt,biomarkers-30760-both_sexes-irnt,biomarkers-30780-both_sexes-irnt,biomarkers-30870-both_sexes-irnt,categorical-20003-both_sexes-1140861958,categorical-20003-both_sexes-1141146234,continuous-102-both_sexes-irnt,continuous-21001-both_sexes-irnt,continuous-DBP-both_sexes-combined_medadj_irnt,continuous-LDLC-both_sexes-medadj_irnt,continuous-MAP-both_sexes-combined_medadj_irnt,continuous-PP-both_sexes-combined_medadj_irnt,continuous-SBP-both_sexes-combined_medadj_irnt,icd10-I20-both_sexes,icd10-I25-both_sexes,phecode-411.2-both_sexes,phecode-411.4-both_sexes                                                                                  </td><td>18</td><td>164</td><td> 3145</td><td>107</td><td>215</td><td>24</td><td> 61</td><td> 48</td><td>14</td><td>17</td></tr>\n",
       "\t<tr><th scope=row>22_24141101_24503541</th><td>22_24141101_24503541</td><td> 362440</td><td>22</td><td>24141101</td><td>24503541</td><td>biomarkers-30870-both_sexes-irnt                                                                                                                                                                                                                                                                                                                                                                                                                                                                                                                                                                                                                                                                                                    </td><td> 1</td><td> 44</td><td>  415</td><td> 36</td><td>200</td><td> 7</td><td> 12</td><td>  6</td><td> 8</td><td>11</td></tr>\n",
       "</tbody>\n",
       "</table>\n"
      ],
      "text/latex": [
       "A data.frame: 6 × 16\n",
       "\\begin{tabular}{r|llllllllllllllll}\n",
       "  & locus & size & chrom & from & to & ids & n\\_gwas & nodes & edges & nodes\\_09 & edges\\_09 & nodes.gwas & nodes.rna & nodes.isoform & nodes.atac & nodes.chip\\\\\n",
       "  & <chr> & <int> & <int> & <int> & <int> & <chr> & <dbl> & <int> & <int> & <int> & <int> & <int> & <int> & <int> & <int> & <int>\\\\\n",
       "\\hline\n",
       "\t6\\_25044242\\_33934568 & 6\\_25044242\\_33934568  & 8890326 &  6 & 25044242 & 33934568 & biomarkers-30600-both\\_sexes-irnt,biomarkers-30680-both\\_sexes-irnt,biomarkers-30690-both\\_sexes-irnt,biomarkers-30760-both\\_sexes-irnt,biomarkers-30780-both\\_sexes-irnt,biomarkers-30870-both\\_sexes-irnt,categorical-20003-both\\_sexes-1140861958,continuous-102-both\\_sexes-irnt,continuous-20022-both\\_sexes-irnt,continuous-21001-both\\_sexes-irnt,continuous-DBP-both\\_sexes-combined\\_medadj\\_irnt,continuous-LDLC-both\\_sexes-medadj\\_irnt,continuous-MAP-both\\_sexes-combined\\_medadj\\_irnt,continuous-PP-both\\_sexes-combined\\_medadj\\_irnt,continuous-SBP-both\\_sexes-combined\\_medadj\\_irnt,icd10-I20-both\\_sexes,icd10-I25-both\\_sexes,phecode-401-both\\_sexes,phecode-411.4-both\\_sexes                                                           & 19 & 406 & 15752 & 286 & 473 & 27 & 161 & 163 & 18 & 37\\\\\n",
       "\t17\\_40144007\\_48070076 & 17\\_40144007\\_48070076 & 7926069 & 17 & 40144007 & 48070076 & biomarkers-30600-both\\_sexes-irnt,biomarkers-30680-both\\_sexes-irnt,biomarkers-30690-both\\_sexes-irnt,biomarkers-30760-both\\_sexes-irnt,biomarkers-30780-both\\_sexes-irnt,biomarkers-30870-both\\_sexes-irnt,categorical-20003-both\\_sexes-1140861958,continuous-102-both\\_sexes-irnt,continuous-12340-both\\_sexes-irnt,continuous-20022-both\\_sexes-irnt,continuous-21001-both\\_sexes-irnt,continuous-DBP-both\\_sexes-combined\\_medadj\\_irnt,continuous-LDLC-both\\_sexes-medadj\\_irnt,continuous-MAP-both\\_sexes-combined\\_medadj\\_irnt,continuous-PP-both\\_sexes-combined\\_medadj\\_irnt,continuous-SBP-both\\_sexes-combined\\_medadj\\_irnt,icd10-I20-both\\_sexes,icd10-I25-both\\_sexes,phecode-401-both\\_sexes,phecode-411.2-both\\_sexes,phecode-411.4-both\\_sexes & 21 & 279 &  4844 & 166 & 461 & 27 & 104 &  76 & 40 & 32\\\\\n",
       "\t16\\_14277712\\_16384360 & 16\\_14277712\\_16384360 & 2106648 & 16 & 14277712 & 16384360 & biomarkers-30600-both\\_sexes-irnt,biomarkers-30680-both\\_sexes-irnt,biomarkers-30760-both\\_sexes-irnt,biomarkers-30870-both\\_sexes-irnt,continuous-102-both\\_sexes-irnt,continuous-21001-both\\_sexes-irnt,continuous-DBP-both\\_sexes-combined\\_medadj\\_irnt,continuous-LDLC-both\\_sexes-medadj\\_irnt,continuous-MAP-both\\_sexes-combined\\_medadj\\_irnt,continuous-PP-both\\_sexes-combined\\_medadj\\_irnt,continuous-SBP-both\\_sexes-combined\\_medadj\\_irnt                                                                                                                                                                                                                                                                                                & 11 &  89 &  1567 &  75 & 321 & 17 &  25 &  34 &  9 &  4\\\\\n",
       "\t1\\_965800\\_2544414 & 1\\_965800\\_2544414     & 1578614 &  1 &   965800 &  2544414 & biomarkers-30600-both\\_sexes-irnt,biomarkers-30680-both\\_sexes-irnt,biomarkers-30760-both\\_sexes-irnt,continuous-21001-both\\_sexes-irnt,continuous-MAP-both\\_sexes-combined\\_medadj\\_irnt,continuous-PP-both\\_sexes-combined\\_medadj\\_irnt,continuous-SBP-both\\_sexes-combined\\_medadj\\_irnt                                                                                                                                                                                                                                                                                                                                                                                                                                                      &  7 & 126 &  2644 &  85 & 269 & 15 &  50 &  32 & 10 & 19\\\\\n",
       "\t19\\_43889535\\_47004800 & 19\\_43889535\\_47004800 & 3115265 & 19 & 43889535 & 47004800 & biomarkers-30600-both\\_sexes-irnt,biomarkers-30690-both\\_sexes-irnt,biomarkers-30760-both\\_sexes-irnt,biomarkers-30780-both\\_sexes-irnt,biomarkers-30870-both\\_sexes-irnt,categorical-20003-both\\_sexes-1140861958,categorical-20003-both\\_sexes-1141146234,continuous-102-both\\_sexes-irnt,continuous-21001-both\\_sexes-irnt,continuous-DBP-both\\_sexes-combined\\_medadj\\_irnt,continuous-LDLC-both\\_sexes-medadj\\_irnt,continuous-MAP-both\\_sexes-combined\\_medadj\\_irnt,continuous-PP-both\\_sexes-combined\\_medadj\\_irnt,continuous-SBP-both\\_sexes-combined\\_medadj\\_irnt,icd10-I20-both\\_sexes,icd10-I25-both\\_sexes,phecode-411.2-both\\_sexes,phecode-411.4-both\\_sexes                                                                                   & 18 & 164 &  3145 & 107 & 215 & 24 &  61 &  48 & 14 & 17\\\\\n",
       "\t22\\_24141101\\_24503541 & 22\\_24141101\\_24503541 &  362440 & 22 & 24141101 & 24503541 & biomarkers-30870-both\\_sexes-irnt                                                                                                                                                                                                                                                                                                                                                                                                                                                                                                                                                                                                                                                                                                     &  1 &  44 &   415 &  36 & 200 &  7 &  12 &   6 &  8 & 11\\\\\n",
       "\\end{tabular}\n"
      ],
      "text/markdown": [
       "\n",
       "A data.frame: 6 × 16\n",
       "\n",
       "| <!--/--> | locus &lt;chr&gt; | size &lt;int&gt; | chrom &lt;int&gt; | from &lt;int&gt; | to &lt;int&gt; | ids &lt;chr&gt; | n_gwas &lt;dbl&gt; | nodes &lt;int&gt; | edges &lt;int&gt; | nodes_09 &lt;int&gt; | edges_09 &lt;int&gt; | nodes.gwas &lt;int&gt; | nodes.rna &lt;int&gt; | nodes.isoform &lt;int&gt; | nodes.atac &lt;int&gt; | nodes.chip &lt;int&gt; |\n",
       "|---|---|---|---|---|---|---|---|---|---|---|---|---|---|---|---|---|\n",
       "| 6_25044242_33934568 | 6_25044242_33934568  | 8890326 |  6 | 25044242 | 33934568 | biomarkers-30600-both_sexes-irnt,biomarkers-30680-both_sexes-irnt,biomarkers-30690-both_sexes-irnt,biomarkers-30760-both_sexes-irnt,biomarkers-30780-both_sexes-irnt,biomarkers-30870-both_sexes-irnt,categorical-20003-both_sexes-1140861958,continuous-102-both_sexes-irnt,continuous-20022-both_sexes-irnt,continuous-21001-both_sexes-irnt,continuous-DBP-both_sexes-combined_medadj_irnt,continuous-LDLC-both_sexes-medadj_irnt,continuous-MAP-both_sexes-combined_medadj_irnt,continuous-PP-both_sexes-combined_medadj_irnt,continuous-SBP-both_sexes-combined_medadj_irnt,icd10-I20-both_sexes,icd10-I25-both_sexes,phecode-401-both_sexes,phecode-411.4-both_sexes                                                           | 19 | 406 | 15752 | 286 | 473 | 27 | 161 | 163 | 18 | 37 |\n",
       "| 17_40144007_48070076 | 17_40144007_48070076 | 7926069 | 17 | 40144007 | 48070076 | biomarkers-30600-both_sexes-irnt,biomarkers-30680-both_sexes-irnt,biomarkers-30690-both_sexes-irnt,biomarkers-30760-both_sexes-irnt,biomarkers-30780-both_sexes-irnt,biomarkers-30870-both_sexes-irnt,categorical-20003-both_sexes-1140861958,continuous-102-both_sexes-irnt,continuous-12340-both_sexes-irnt,continuous-20022-both_sexes-irnt,continuous-21001-both_sexes-irnt,continuous-DBP-both_sexes-combined_medadj_irnt,continuous-LDLC-both_sexes-medadj_irnt,continuous-MAP-both_sexes-combined_medadj_irnt,continuous-PP-both_sexes-combined_medadj_irnt,continuous-SBP-both_sexes-combined_medadj_irnt,icd10-I20-both_sexes,icd10-I25-both_sexes,phecode-401-both_sexes,phecode-411.2-both_sexes,phecode-411.4-both_sexes | 21 | 279 |  4844 | 166 | 461 | 27 | 104 |  76 | 40 | 32 |\n",
       "| 16_14277712_16384360 | 16_14277712_16384360 | 2106648 | 16 | 14277712 | 16384360 | biomarkers-30600-both_sexes-irnt,biomarkers-30680-both_sexes-irnt,biomarkers-30760-both_sexes-irnt,biomarkers-30870-both_sexes-irnt,continuous-102-both_sexes-irnt,continuous-21001-both_sexes-irnt,continuous-DBP-both_sexes-combined_medadj_irnt,continuous-LDLC-both_sexes-medadj_irnt,continuous-MAP-both_sexes-combined_medadj_irnt,continuous-PP-both_sexes-combined_medadj_irnt,continuous-SBP-both_sexes-combined_medadj_irnt                                                                                                                                                                                                                                                                                                | 11 |  89 |  1567 |  75 | 321 | 17 |  25 |  34 |  9 |  4 |\n",
       "| 1_965800_2544414 | 1_965800_2544414     | 1578614 |  1 |   965800 |  2544414 | biomarkers-30600-both_sexes-irnt,biomarkers-30680-both_sexes-irnt,biomarkers-30760-both_sexes-irnt,continuous-21001-both_sexes-irnt,continuous-MAP-both_sexes-combined_medadj_irnt,continuous-PP-both_sexes-combined_medadj_irnt,continuous-SBP-both_sexes-combined_medadj_irnt                                                                                                                                                                                                                                                                                                                                                                                                                                                      |  7 | 126 |  2644 |  85 | 269 | 15 |  50 |  32 | 10 | 19 |\n",
       "| 19_43889535_47004800 | 19_43889535_47004800 | 3115265 | 19 | 43889535 | 47004800 | biomarkers-30600-both_sexes-irnt,biomarkers-30690-both_sexes-irnt,biomarkers-30760-both_sexes-irnt,biomarkers-30780-both_sexes-irnt,biomarkers-30870-both_sexes-irnt,categorical-20003-both_sexes-1140861958,categorical-20003-both_sexes-1141146234,continuous-102-both_sexes-irnt,continuous-21001-both_sexes-irnt,continuous-DBP-both_sexes-combined_medadj_irnt,continuous-LDLC-both_sexes-medadj_irnt,continuous-MAP-both_sexes-combined_medadj_irnt,continuous-PP-both_sexes-combined_medadj_irnt,continuous-SBP-both_sexes-combined_medadj_irnt,icd10-I20-both_sexes,icd10-I25-both_sexes,phecode-411.2-both_sexes,phecode-411.4-both_sexes                                                                                   | 18 | 164 |  3145 | 107 | 215 | 24 |  61 |  48 | 14 | 17 |\n",
       "| 22_24141101_24503541 | 22_24141101_24503541 |  362440 | 22 | 24141101 | 24503541 | biomarkers-30870-both_sexes-irnt                                                                                                                                                                                                                                                                                                                                                                                                                                                                                                                                                                                                                                                                                                     |  1 |  44 |   415 |  36 | 200 |  7 |  12 |   6 |  8 | 11 |\n",
       "\n"
      ],
      "text/plain": [
       "                     locus                size    chrom from     to      \n",
       "6_25044242_33934568  6_25044242_33934568  8890326  6    25044242 33934568\n",
       "17_40144007_48070076 17_40144007_48070076 7926069 17    40144007 48070076\n",
       "16_14277712_16384360 16_14277712_16384360 2106648 16    14277712 16384360\n",
       "1_965800_2544414     1_965800_2544414     1578614  1      965800  2544414\n",
       "19_43889535_47004800 19_43889535_47004800 3115265 19    43889535 47004800\n",
       "22_24141101_24503541 22_24141101_24503541  362440 22    24141101 24503541\n",
       "                     ids                                                                                                                                                                                                                                                                                                                                                                                                                                                                                                                                                                                                                                                                                                                                 \n",
       "6_25044242_33934568  biomarkers-30600-both_sexes-irnt,biomarkers-30680-both_sexes-irnt,biomarkers-30690-both_sexes-irnt,biomarkers-30760-both_sexes-irnt,biomarkers-30780-both_sexes-irnt,biomarkers-30870-both_sexes-irnt,categorical-20003-both_sexes-1140861958,continuous-102-both_sexes-irnt,continuous-20022-both_sexes-irnt,continuous-21001-both_sexes-irnt,continuous-DBP-both_sexes-combined_medadj_irnt,continuous-LDLC-both_sexes-medadj_irnt,continuous-MAP-both_sexes-combined_medadj_irnt,continuous-PP-both_sexes-combined_medadj_irnt,continuous-SBP-both_sexes-combined_medadj_irnt,icd10-I20-both_sexes,icd10-I25-both_sexes,phecode-401-both_sexes,phecode-411.4-both_sexes                                                          \n",
       "17_40144007_48070076 biomarkers-30600-both_sexes-irnt,biomarkers-30680-both_sexes-irnt,biomarkers-30690-both_sexes-irnt,biomarkers-30760-both_sexes-irnt,biomarkers-30780-both_sexes-irnt,biomarkers-30870-both_sexes-irnt,categorical-20003-both_sexes-1140861958,continuous-102-both_sexes-irnt,continuous-12340-both_sexes-irnt,continuous-20022-both_sexes-irnt,continuous-21001-both_sexes-irnt,continuous-DBP-both_sexes-combined_medadj_irnt,continuous-LDLC-both_sexes-medadj_irnt,continuous-MAP-both_sexes-combined_medadj_irnt,continuous-PP-both_sexes-combined_medadj_irnt,continuous-SBP-both_sexes-combined_medadj_irnt,icd10-I20-both_sexes,icd10-I25-both_sexes,phecode-401-both_sexes,phecode-411.2-both_sexes,phecode-411.4-both_sexes\n",
       "16_14277712_16384360 biomarkers-30600-both_sexes-irnt,biomarkers-30680-both_sexes-irnt,biomarkers-30760-both_sexes-irnt,biomarkers-30870-both_sexes-irnt,continuous-102-both_sexes-irnt,continuous-21001-both_sexes-irnt,continuous-DBP-both_sexes-combined_medadj_irnt,continuous-LDLC-both_sexes-medadj_irnt,continuous-MAP-both_sexes-combined_medadj_irnt,continuous-PP-both_sexes-combined_medadj_irnt,continuous-SBP-both_sexes-combined_medadj_irnt                                                                                                                                                                                                                                                                                               \n",
       "1_965800_2544414     biomarkers-30600-both_sexes-irnt,biomarkers-30680-both_sexes-irnt,biomarkers-30760-both_sexes-irnt,continuous-21001-both_sexes-irnt,continuous-MAP-both_sexes-combined_medadj_irnt,continuous-PP-both_sexes-combined_medadj_irnt,continuous-SBP-both_sexes-combined_medadj_irnt                                                                                                                                                                                                                                                                                                                                                                                                                                                     \n",
       "19_43889535_47004800 biomarkers-30600-both_sexes-irnt,biomarkers-30690-both_sexes-irnt,biomarkers-30760-both_sexes-irnt,biomarkers-30780-both_sexes-irnt,biomarkers-30870-both_sexes-irnt,categorical-20003-both_sexes-1140861958,categorical-20003-both_sexes-1141146234,continuous-102-both_sexes-irnt,continuous-21001-both_sexes-irnt,continuous-DBP-both_sexes-combined_medadj_irnt,continuous-LDLC-both_sexes-medadj_irnt,continuous-MAP-both_sexes-combined_medadj_irnt,continuous-PP-both_sexes-combined_medadj_irnt,continuous-SBP-both_sexes-combined_medadj_irnt,icd10-I20-both_sexes,icd10-I25-both_sexes,phecode-411.2-both_sexes,phecode-411.4-both_sexes                                                                                  \n",
       "22_24141101_24503541 biomarkers-30870-both_sexes-irnt                                                                                                                                                                                                                                                                                                                                                                                                                                                                                                                                                                                                                                                                                                    \n",
       "                     n_gwas nodes edges nodes_09 edges_09 nodes.gwas nodes.rna\n",
       "6_25044242_33934568  19     406   15752 286      473      27         161      \n",
       "17_40144007_48070076 21     279    4844 166      461      27         104      \n",
       "16_14277712_16384360 11      89    1567  75      321      17          25      \n",
       "1_965800_2544414      7     126    2644  85      269      15          50      \n",
       "19_43889535_47004800 18     164    3145 107      215      24          61      \n",
       "22_24141101_24503541  1      44     415  36      200       7          12      \n",
       "                     nodes.isoform nodes.atac nodes.chip\n",
       "6_25044242_33934568  163           18         37        \n",
       "17_40144007_48070076  76           40         32        \n",
       "16_14277712_16384360  34            9          4        \n",
       "1_965800_2544414      32           10         19        \n",
       "19_43889535_47004800  48           14         17        \n",
       "22_24141101_24503541   6            8         11        "
      ]
     },
     "metadata": {},
     "output_type": "display_data"
    }
   ],
   "source": [
    "head(loci2net_count[order(loci2net_count$edges_09, decreasing = TRUE),])"
   ]
  },
  {
   "cell_type": "markdown",
   "metadata": {},
   "source": [
    "# plot networks"
   ]
  },
  {
   "cell_type": "code",
   "execution_count": 277,
   "metadata": {},
   "outputs": [
    {
     "data": {
      "text/html": [
       "<strong>png:</strong> 2"
      ],
      "text/latex": [
       "\\textbf{png:} 2"
      ],
      "text/markdown": [
       "**png:** 2"
      ],
      "text/plain": [
       "png \n",
       "  2 "
      ]
     },
     "metadata": {},
     "output_type": "display_data"
    }
   ],
   "source": [
    "plot_subgraph = function(locus)\n",
    "{\n",
    "    network_locus = loci_network[[locus]]\n",
    "    nodes         = network_locus$nodes\n",
    "    edges         = network_locus$edges\n",
    "    x             = network_locus$network\n",
    "    coord         = nodes[nodes$transcript_id %in% names(V(x)),]\n",
    "    chrom         = unique(coord$chrom)\n",
    "    from          = min   (coord$start)\n",
    "    to            = max   (coord$end  )\n",
    "    ids           = nodes\n",
    "    ids           = ids[order(ids$start),]\n",
    "    \n",
    "    toplot = as.data.frame(matrix(0, nrow = nrow(ids), ncol = nrow(ids), dimnames = list(ids$transcript_id, ids$transcript_id)))\n",
    "    \n",
    "    for(ii in 1:(nrow(ids)-1))\n",
    "    {\n",
    "        id1 = ids[ii, \"transcript_id\"]\n",
    "        \n",
    "        for(jj in (ii+1):nrow(ids))\n",
    "        {\n",
    "            id2  = ids[jj, \"transcript_id\"]\n",
    "            this = edges[ (edges$transcript_id1 == id1 & edges$transcript_id2 == id2) | (edges$transcript_id1 == id2 & edges$transcript_id2 == id1),]\n",
    "            \n",
    "            if(nrow(this) > 0)\n",
    "            {\n",
    "                #toplot[c(id1, id2), c(id2, id1)] =  max(this[, \"PP.H4.abf\"])\n",
    "                toplot[id1, id2] =  max(this[, \"PP.H4.abf\"])\n",
    "            }\n",
    "        }\n",
    "        toplot[ii,ii] = 1\n",
    "    }\n",
    "    \n",
    "    toplot           = as.matrix(toplot)\n",
    "    rownames(toplot) = ids$gene_name\n",
    "    colnames(toplot) = ids$gene_name\n",
    "    \n",
    "    layout(rbind(1:2))\n",
    "    corrplot(toplot, method = \"color\", tl.pos = \"t\", tl.cex = 0.8, tl.col = \"#000000\")\n",
    "    plot.igraph(x, vertex.label = V(x)$gene_name, main = locus)\n",
    "    \n",
    "    #return(toplot)\n",
    "}\n",
    "options(repr.plot.width = 20, repr.plot.height = 8)\n",
    "\n",
    "toplot = loci2net_count[ loci2net_count$edges_09 > 0,]\n",
    "\n",
    "pdf(file = \"pipeline/5.2.coloc_network/network_loci.pdf\", width = 20, height = 9)\n",
    "invisible(lapply(toplot[order(toplot$edges_09, decreasing = TRUE), \"locus\"], plot_subgraph))\n",
    "\n",
    "dev.off()\n",
    "\n",
    "#toplot = plot_subgraph(decomposed, 409)\n"
   ]
  },
  {
   "cell_type": "code",
   "execution_count": null,
   "metadata": {},
   "outputs": [],
   "source": []
  }
 ],
 "metadata": {
  "kernelspec": {
   "display_name": "R 4.0.1",
   "language": "R",
   "name": "ir401"
  },
  "language_info": {
   "codemirror_mode": "r",
   "file_extension": ".r",
   "mimetype": "text/x-r-source",
   "name": "R",
   "pygments_lexer": "r",
   "version": "4.0.1"
  }
 },
 "nbformat": 4,
 "nbformat_minor": 2
}
