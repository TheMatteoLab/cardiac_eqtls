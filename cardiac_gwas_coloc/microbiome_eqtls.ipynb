{
 "cells": [
  {
   "cell_type": "markdown",
   "metadata": {},
   "source": [
    "# eQTLs with associations with the microbiome\n",
    "- 2022/04/22"
   ]
  },
  {
   "cell_type": "code",
   "execution_count": 1,
   "metadata": {},
   "outputs": [],
   "source": [
    "setwd(\"/frazer01/projects/CARDIPS/analysis/cardiac_gwas_coloc\")\n",
    "\n",
    "source(\"script/functions.R\"  )\n"
   ]
  },
  {
   "cell_type": "code",
   "execution_count": 2,
   "metadata": {},
   "outputs": [],
   "source": [
    "dir.create(\"pipeline/microbiome_eqtls\", showWarnings = FALSE)\n"
   ]
  },
  {
   "cell_type": "code",
   "execution_count": 3,
   "metadata": {},
   "outputs": [],
   "source": [
    "suppressPackageStartupMessages(library(stringr   ))\n",
    "suppressPackageStartupMessages(library(colorspace))\n",
    "suppressPackageStartupMessages(library(kohonen   ))\n",
    "suppressPackageStartupMessages(library(tempR     ))\n",
    "suppressPackageStartupMessages(library(latticeExtra))\n",
    "suppressPackageStartupMessages(library(tis))\n"
   ]
  },
  {
   "cell_type": "code",
   "execution_count": 4,
   "metadata": {},
   "outputs": [],
   "source": [
    "exp_data = readRDS(\"/frazer01/projects/CARDIPS/analysis/cardiac_qtls_combined/input/expdata_qtl.rds\")\n",
    "qtl_data = readRDS(\"/frazer01/projects/CARDIPS/analysis/cardiac_qtls_combined/input/qtl/qtls.RDS\"   )\n"
   ]
  },
  {
   "cell_type": "code",
   "execution_count": 5,
   "metadata": {},
   "outputs": [],
   "source": [
    "coordinates = exp_data[[\"coordinates\"]]\n",
    "gene_info   = coordinates[ coordinates$phenotype == \"rna\",]\n"
   ]
  },
  {
   "cell_type": "code",
   "execution_count": 6,
   "metadata": {},
   "outputs": [],
   "source": [
    "colordata_tissue = exp_data[[\"color\"]][[\"by_tissue\"]]\n",
    "colordata_organ  = exp_data[[\"color\"]][[\"by_organ\" ]]\n",
    "colordata_cell   = exp_data[[\"color\"]][[\"by_cell\"  ]]\n",
    "\n",
    "colordata_tissue = colordata_tissue[colordata_tissue$body_site != \"ipsc_cvpc\",]\n",
    "colordata_stage  = colordata_organ [c(\"ipsc_cvpc\", \"adult\"),]\n",
    "colordata_organ  = colordata_organ [c(\"arteria\"  , \"heart\"),]\n",
    "\n",
    "colordata_stage $order = 1:2\n",
    "colordata_organ $order = 1:2\n",
    "colordata_tissue$order = 1:nrow(colordata_tissue)\n",
    "\n",
    "rownames(colordata_cell) = colordata_cell$cell_type\n",
    "colordata_cell           = colordata_cell[,c(\"cell_type\", \"name\", \"color\", \"order\")] \n",
    "\n",
    "mycols                    = c(\"body_site\", \"name\", \"color\", \"order\")\n",
    "colnames(colordata_stage ) = mycols\n",
    "colnames(colordata_organ ) = mycols\n",
    "colnames(colordata_tissue) = mycols\n",
    "colnames(colordata_cell  ) = mycols\n",
    "\n",
    "colordata_stage $type = \"stage\"\n",
    "colordata_organ $type = \"organ\"\n",
    "colordata_tissue$type = \"tissue\"\n",
    "colordata_cell  $type = \"cell\"\n",
    "\n",
    "colordata = list(by_stage = colordata_stage, by_organ = colordata_organ, by_tissue = colordata_tissue, by_cell = colordata_cell)"
   ]
  },
  {
   "cell_type": "code",
   "execution_count": 7,
   "metadata": {},
   "outputs": [],
   "source": [
    "colordata_df = as.data.frame(rbindlist(colordata))"
   ]
  },
  {
   "cell_type": "code",
   "execution_count": 81,
   "metadata": {},
   "outputs": [],
   "source": [
    "gene_names = c(\"EGR1\", \"GPBAR1\", \"NR1I2\", \"FXR1\", \"SLCO1B1\", \"SLCO1B3\", \"SLCO1B7\",\"UGT1A1\", \"UGT1A3\", \"UGT1A4\", \"UGT1A5\", \"UGT1A6\", \"UGT1A7\", \"UGT1A8\", \"UGT1A9\", \"UGT1A10\", \"TMPRSS11E\",\n",
    "               \"TGFB1\", \"SMAD3\", \"ADRB2\",\"CPS1\",\"NOS3\",\"ARG1\",\"ALPL\",\"FXR\",\"ZNF268\",\"CPS1\",\"CPS1\",\"CPS1\",\"CPS1\",\"CPS1\",\"SYNE2\",\"TGFB1\",\"ARG1\",\"NOS3\",\"NOS3\",\"PYROXD2\")\n"
   ]
  },
  {
   "cell_type": "code",
   "execution_count": 82,
   "metadata": {},
   "outputs": [],
   "source": [
    "eqtls = rbind(qtl_data[[\"qtl\"]][[\"rna\"]], qtl_data[[\"qtl\"]][[\"isoform\"]])\n",
    "ints  = rbind(qtl_data[[\"interactions\"]][[\"rna\"]], qtl_data[[\"interactions\"]][[\"isoform\"]])\n",
    "eqtls = eqtls[ eqtls$gene_name %in% gene_names & eqtls$egene == TRUE,]\n",
    "ints  = ints [ ints $gene_name %in% gene_names & ints $cell  == TRUE,]\n",
    "\n",
    "eqtls = eqtls[ order(eqtls$gene_name, eqtls$type),]"
   ]
  },
  {
   "cell_type": "code",
   "execution_count": 84,
   "metadata": {},
   "outputs": [],
   "source": [
    "plot_eqtl = function(ii, eqtls)\n",
    "{\n",
    "    gene_name     = eqtls[ ii, \"gene_name\"    ]\n",
    "    transcript_id = eqtls[ ii, \"transcript_id\"]\n",
    "    id            = eqtls[ ii, \"id\"           ]\n",
    "    type          = eqtls[ ii, \"type\"         ]\n",
    "    qval          = signif(eqtls[ ii, \"qval\"], digits = 3)\n",
    "    source        = ifelse(grepl(\"ENST\", transcript_id) == TRUE, yes = \"use_isoform\", no = \"tpm_gene\")\n",
    "    \n",
    "    if(source == \"tpm_gene\"   ){phenotype = \"rna\"}\n",
    "    if(source == \"use_isoform\"){phenotype = \"isoform\"}\n",
    "    \n",
    "    gtdata      = add_rownames(fread(paste(\"/frazer01/projects/CARDIPS/analysis/cardiac_eqtls/pipeline/1.3.genotype\"  , source, paste(\"gt_data\", transcript_id, \"txt\", sep = \".\"), sep = \"/\"), sep = \"\\t\", header = TRUE , data.table = FALSE))\n",
    "    gtinfo      =              fread(paste(\"/frazer01/projects/CARDIPS/analysis/cardiac_eqtls/pipeline/1.3.genotype\"  , source, paste(\"gt_info\", transcript_id, \"txt\", sep = \".\"), sep = \"/\"), sep = \"\\t\", header = TRUE , data.table = FALSE)\n",
    "    gtdata      = data.frame(wgs_id = colnames(gtdata), gt = as.numeric(gtdata[id,]))\n",
    "    expdata     = exp_data[[\"expression\"]][[phenotype]][[\"normalized\"]][transcript_id,]\n",
    "    expdata     = data.frame(run = colnames(expdata), norm = as.numeric(expdata[1,]))\n",
    "    toplot      = merge(exp_data$covariates, exp_data$metadata[,c(\"run\", \"wgs_id\", \"phenotype\")], by = \"run\")\n",
    "    toplot      = toplot[toplot$phenotype == \"rna\",]\n",
    "    toplot      = merge(toplot, expdata, by = \"run\")\n",
    "    toplot      = merge(toplot, gtdata , by = \"wgs_id\"   )\n",
    "    gtinfo      = gtinfo[gtinfo$id == id,]\n",
    "    eqtls       = qtl_data[[\"qtl\"]][[phenotype]]\n",
    "    toplot$x    = toplot$gt * 2 + 1\n",
    "    \n",
    "    png(filename = paste(\"pipeline/microbiome_eqtls\", paste(gene_name, type, transcript_id, \"png\", sep = \".\"), sep = \"/\"), width = 6, height = 6, units = \"in\", res = 300)\n",
    "    \n",
    "    par(mar = c(2,4,5,1))\n",
    "    #plot(1,1, type = \"n\", xlim = c(0,7), ylim = range(toplot$norm), axes = FALSE, xlab = \"\", ylab = \"\")\n",
    "    plot(1,1, type = \"n\", xlim = c(0.5,3.5), ylim = c(-3,3), axes = FALSE, xlab = \"\", ylab = \"\")\n",
    "    axis(2)\n",
    "    \n",
    "    boxplot(norm ~ x, data = toplot, outline = FALSE, col = \"#cccccc\", add = TRUE, at = (1:3), axes = FALSE)\n",
    "    points (x = jitter(toplot$x, amount = 0.25), y = toplot$norm, pch = 16, cex = 0.75)\n",
    "    abline (lm(norm ~ x, data = toplot), lty = \"dashed\", col = \"#0000ff\", lwd = 3)\n",
    "    \n",
    "    gt1  = gtinfo[1, \"ref\" ]\n",
    "    gt2  = gtinfo[1, \"alt\" ]\n",
    "    rsid = gtinfo[1, \"rsid\"]\n",
    "   gene = gene_name\n",
    "    gts  = c(paste(gt1, gt1, sep = \"/\"), paste(gt1, gt2, sep = \"/\"), paste(gt2, gt2, sep = \"/\"))\n",
    "    \n",
    "    if(source == \"use_isoform\"){gene = paste0(transcript_id, \" (\", gene, \")\")}\n",
    "    \n",
    "    mtext(gts                          , side = 1, cex = 1.25, line =  0  , at = 1:3)\n",
    "    mtext(paste0(gene, \" (\", type, \")\"), side = 3, cex = 1.25, line =  3.5, font = 3)\n",
    "    mtext(transcript_id                , side = 3, cex = 1.25, line =  2  , font = 3)\n",
    "    mtext(paste0(rsid, \" q = \", qval)  , side = 3, cex = 1.25, line =  0.5)\n",
    "    mtext(\"Normalized expression\"      , side = 2, cex = 1.25, line =  2.5)\n",
    "    #mtext(text = panel           , side = 2, line =  2.5, las = 2, at = max(toplot$norm) * 1.05, font = 2, cex = 1.5)\n",
    "    \n",
    "    dev.off()\n",
    "}\n",
    "\n",
    "\n",
    "ii = 1\n",
    "\n",
    "#pdf(file = \"pipeline/microbiome_eqtls/plots.pdf\", width = 6, height = 6)\n",
    "\n",
    "invisible(lapply(1:nrow(eqtls), function(ii){plot_eqtl (ii, eqtls)}))\n",
    "\n",
    "#dev.off()"
   ]
  },
  {
   "cell_type": "code",
   "execution_count": 63,
   "metadata": {},
   "outputs": [
    {
     "data": {
      "text/html": [
       "1"
      ],
      "text/latex": [
       "1"
      ],
      "text/markdown": [
       "1"
      ],
      "text/plain": [
       "[1] 1"
      ]
     },
     "metadata": {},
     "output_type": "display_data"
    }
   ],
   "source": [
    "x"
   ]
  },
  {
   "cell_type": "code",
   "execution_count": 65,
   "metadata": {},
   "outputs": [
    {
     "name": "stdout",
     "output_type": "stream",
     "text": [
      "'data.frame':\t19 obs. of  30 variables:\n",
      " $ id             : chr  \"VAR_14_64651663_C_A\" \"VAR_19_41790086_GTTATGGTA_G\" \"VAR_2_211457261_C_T\" \"VAR_2_211461880_T_A\" ...\n",
      " $ transcript_id  : chr  \"ENSG00000054654.18_8\" \"ENSG00000105329.10_7\" \"ENSG00000021826.17_7\" \"ENSG00000021826.17_7\" ...\n",
      " $ gene_id        : chr  \"ENSG00000054654.18_8\" \"ENSG00000105329.10_7\" \"ENSG00000021826.17_7\" \"ENSG00000021826.17_7\" ...\n",
      " $ gene_name      : chr  \"SYNE2\" \"TGFB1\" \"CPS1\" \"CPS1\" ...\n",
      " $ gene_type      : chr  \"protein_coding\" \"protein_coding\" \"protein_coding\" \"protein_coding\" ...\n",
      " $ start          : int  64228617 41807492 211342406 211342406 211342406 211342406 211342406 219124219 137801168 131791972 ...\n",
      " $ end            : int  64693151 41859827 211543831 211543831 211543831 211543831 211543831 219128584 137804992 131905472 ...\n",
      " $ strand         : chr  \"+\" \"-\" \"+\" \"+\" ...\n",
      " $ chrom          : int  14 19 2 2 2 2 2 2 5 6 ...\n",
      " $ pos            : int  64651663 41790086 211457261 211461880 211675576 211781209 212043724 219128506 137570957 131411586 ...\n",
      " $ ref            : chr  \"C\" \"GTTATGGTA\" \"C\" \"T\" ...\n",
      " $ alt            : chr  \"A\" \"G\" \"T\" \"A\" ...\n",
      " $ rsid           : chr  \"rs1266927\" \"rs138120077\" \"rs10184633\" \"rs7598448\" ...\n",
      " $ af             : num  0.461 0.146 0.584 0.599 0.116 0.709 0.368 0.935 0.675 0.221 ...\n",
      " $ beta           : num  0.2092 0.1862 -0.4071 0.7247 0.0362 ...\n",
      " $ se             : num  0.0264 0.0317 0.0579 0.1676 0.0798 ...\n",
      " $ pval           : num  4.87e-16 4.98e-10 4.55e-13 2.04e-05 1.05e-12 ...\n",
      " $ bonferroni     : num  1.19e-12 9.59e-07 1.05e-09 4.69e-02 2.41e-09 ...\n",
      " $ fdr            : num  2.57e-13 2.42e-07 2.06e-10 9.22e-03 4.73e-10 ...\n",
      " $ tests          : int  527 486 452 452 452 452 452 381 184 495 ...\n",
      " $ type           : int  0 0 0 2 4 1 3 0 0 0 ...\n",
      " $ qval           : num  1.93e-12 1.04e-06 1.21e-09 3.68e-02 3.75e-08 ...\n",
      " $ egene          : logi  TRUE TRUE TRUE TRUE TRUE TRUE ...\n",
      " $ distance       : int  423046 69741 114855 119474 333170 438803 701318 4287 -230211 -380386 ...\n",
      " $ annotation.atac: logi  FALSE FALSE FALSE FALSE FALSE FALSE ...\n",
      " $ annotation.body: logi  TRUE TRUE TRUE TRUE FALSE FALSE ...\n",
      " $ annotation.chip: logi  FALSE FALSE FALSE FALSE FALSE FALSE ...\n",
      " $ annotation.exon: logi  FALSE FALSE FALSE FALSE FALSE FALSE ...\n",
      " $ self.body      : logi  TRUE FALSE TRUE TRUE FALSE FALSE ...\n",
      " $ self.exon      : logi  FALSE FALSE FALSE FALSE FALSE FALSE ...\n"
     ]
    }
   ],
   "source": [
    "str(eqtls)"
   ]
  },
  {
   "cell_type": "code",
   "execution_count": 80,
   "metadata": {},
   "outputs": [
    {
     "data": {
      "text/html": [
       "<table class=\"dataframe\">\n",
       "<caption>A data.frame: 7 × 9</caption>\n",
       "<thead>\n",
       "\t<tr><th></th><th scope=col>gene_name</th><th scope=col>transcript_id</th><th scope=col>type</th><th scope=col>id</th><th scope=col>rsid</th><th scope=col>beta</th><th scope=col>se</th><th scope=col>pval</th><th scope=col>qval</th></tr>\n",
       "\t<tr><th></th><th scope=col>&lt;chr&gt;</th><th scope=col>&lt;chr&gt;</th><th scope=col>&lt;int&gt;</th><th scope=col>&lt;chr&gt;</th><th scope=col>&lt;chr&gt;</th><th scope=col>&lt;dbl&gt;</th><th scope=col>&lt;dbl&gt;</th><th scope=col>&lt;dbl&gt;</th><th scope=col>&lt;dbl&gt;</th></tr>\n",
       "</thead>\n",
       "<tbody>\n",
       "\t<tr><th scope=row>3831</th><td>PYROXD2</td><td>ENSG00000119943.13_6</td><td>0</td><td>VAR_10_100152055_C_G   </td><td>rs6584191 </td><td> 0.7415820</td><td>0.04963883</td><td>4.735138e-59</td><td>1.840302e-54</td></tr>\n",
       "\t<tr><th scope=row>42005</th><td>PYROXD2</td><td>ENST00000462874.1_2 </td><td>0</td><td>VAR_10_100102771_G_A   </td><td>rs11189559</td><td> 0.4997102</td><td>0.09838592</td><td>1.006478e-07</td><td>3.616606e-04</td></tr>\n",
       "\t<tr><th scope=row>42007</th><td>PYROXD2</td><td>ENST00000370575.5_3 </td><td>0</td><td>VAR_10_100144009_T_TGAC</td><td>rs5787280 </td><td> 1.1496729</td><td>0.08619978</td><td>2.384870e-45</td><td>1.052761e-40</td></tr>\n",
       "\t<tr><th scope=row>42010</th><td>PYROXD2</td><td>ENST00000464808.1_2 </td><td>0</td><td>VAR_10_100154545_G_A   </td><td>rs11189587</td><td>-0.4512822</td><td>0.08178558</td><td>2.129927e-08</td><td>8.408225e-05</td></tr>\n",
       "\t<tr><th scope=row>42011</th><td>PYROXD2</td><td>ENST00000483923.5_2 </td><td>0</td><td>VAR_10_100156853_T_C   </td><td>rs7072216 </td><td>-0.6555906</td><td>0.07387968</td><td>1.274535e-16</td><td>1.106006e-12</td></tr>\n",
       "\t<tr><th scope=row>42013</th><td>PYROXD2</td><td>ENST00000370575.5_3 </td><td>1</td><td>VAR_10_100167322_C_T   </td><td>rs11189595</td><td> 0.4021789</td><td>0.09133390</td><td>9.837673e-06</td><td>3.241165e-02</td></tr>\n",
       "\t<tr><th scope=row>42015</th><td>PYROXD2</td><td>ENST00000494941.1_2 </td><td>0</td><td>VAR_10_100170762_C_T   </td><td>rs3814140 </td><td>-0.8363076</td><td>0.09096532</td><td>2.795769e-21</td><td>3.409871e-17</td></tr>\n",
       "</tbody>\n",
       "</table>\n"
      ],
      "text/latex": [
       "A data.frame: 7 × 9\n",
       "\\begin{tabular}{r|lllllllll}\n",
       "  & gene\\_name & transcript\\_id & type & id & rsid & beta & se & pval & qval\\\\\n",
       "  & <chr> & <chr> & <int> & <chr> & <chr> & <dbl> & <dbl> & <dbl> & <dbl>\\\\\n",
       "\\hline\n",
       "\t3831 & PYROXD2 & ENSG00000119943.13\\_6 & 0 & VAR\\_10\\_100152055\\_C\\_G    & rs6584191  &  0.7415820 & 0.04963883 & 4.735138e-59 & 1.840302e-54\\\\\n",
       "\t42005 & PYROXD2 & ENST00000462874.1\\_2  & 0 & VAR\\_10\\_100102771\\_G\\_A    & rs11189559 &  0.4997102 & 0.09838592 & 1.006478e-07 & 3.616606e-04\\\\\n",
       "\t42007 & PYROXD2 & ENST00000370575.5\\_3  & 0 & VAR\\_10\\_100144009\\_T\\_TGAC & rs5787280  &  1.1496729 & 0.08619978 & 2.384870e-45 & 1.052761e-40\\\\\n",
       "\t42010 & PYROXD2 & ENST00000464808.1\\_2  & 0 & VAR\\_10\\_100154545\\_G\\_A    & rs11189587 & -0.4512822 & 0.08178558 & 2.129927e-08 & 8.408225e-05\\\\\n",
       "\t42011 & PYROXD2 & ENST00000483923.5\\_2  & 0 & VAR\\_10\\_100156853\\_T\\_C    & rs7072216  & -0.6555906 & 0.07387968 & 1.274535e-16 & 1.106006e-12\\\\\n",
       "\t42013 & PYROXD2 & ENST00000370575.5\\_3  & 1 & VAR\\_10\\_100167322\\_C\\_T    & rs11189595 &  0.4021789 & 0.09133390 & 9.837673e-06 & 3.241165e-02\\\\\n",
       "\t42015 & PYROXD2 & ENST00000494941.1\\_2  & 0 & VAR\\_10\\_100170762\\_C\\_T    & rs3814140  & -0.8363076 & 0.09096532 & 2.795769e-21 & 3.409871e-17\\\\\n",
       "\\end{tabular}\n"
      ],
      "text/markdown": [
       "\n",
       "A data.frame: 7 × 9\n",
       "\n",
       "| <!--/--> | gene_name &lt;chr&gt; | transcript_id &lt;chr&gt; | type &lt;int&gt; | id &lt;chr&gt; | rsid &lt;chr&gt; | beta &lt;dbl&gt; | se &lt;dbl&gt; | pval &lt;dbl&gt; | qval &lt;dbl&gt; |\n",
       "|---|---|---|---|---|---|---|---|---|---|\n",
       "| 3831 | PYROXD2 | ENSG00000119943.13_6 | 0 | VAR_10_100152055_C_G    | rs6584191  |  0.7415820 | 0.04963883 | 4.735138e-59 | 1.840302e-54 |\n",
       "| 42005 | PYROXD2 | ENST00000462874.1_2  | 0 | VAR_10_100102771_G_A    | rs11189559 |  0.4997102 | 0.09838592 | 1.006478e-07 | 3.616606e-04 |\n",
       "| 42007 | PYROXD2 | ENST00000370575.5_3  | 0 | VAR_10_100144009_T_TGAC | rs5787280  |  1.1496729 | 0.08619978 | 2.384870e-45 | 1.052761e-40 |\n",
       "| 42010 | PYROXD2 | ENST00000464808.1_2  | 0 | VAR_10_100154545_G_A    | rs11189587 | -0.4512822 | 0.08178558 | 2.129927e-08 | 8.408225e-05 |\n",
       "| 42011 | PYROXD2 | ENST00000483923.5_2  | 0 | VAR_10_100156853_T_C    | rs7072216  | -0.6555906 | 0.07387968 | 1.274535e-16 | 1.106006e-12 |\n",
       "| 42013 | PYROXD2 | ENST00000370575.5_3  | 1 | VAR_10_100167322_C_T    | rs11189595 |  0.4021789 | 0.09133390 | 9.837673e-06 | 3.241165e-02 |\n",
       "| 42015 | PYROXD2 | ENST00000494941.1_2  | 0 | VAR_10_100170762_C_T    | rs3814140  | -0.8363076 | 0.09096532 | 2.795769e-21 | 3.409871e-17 |\n",
       "\n"
      ],
      "text/plain": [
       "      gene_name transcript_id        type id                      rsid      \n",
       "3831  PYROXD2   ENSG00000119943.13_6 0    VAR_10_100152055_C_G    rs6584191 \n",
       "42005 PYROXD2   ENST00000462874.1_2  0    VAR_10_100102771_G_A    rs11189559\n",
       "42007 PYROXD2   ENST00000370575.5_3  0    VAR_10_100144009_T_TGAC rs5787280 \n",
       "42010 PYROXD2   ENST00000464808.1_2  0    VAR_10_100154545_G_A    rs11189587\n",
       "42011 PYROXD2   ENST00000483923.5_2  0    VAR_10_100156853_T_C    rs7072216 \n",
       "42013 PYROXD2   ENST00000370575.5_3  1    VAR_10_100167322_C_T    rs11189595\n",
       "42015 PYROXD2   ENST00000494941.1_2  0    VAR_10_100170762_C_T    rs3814140 \n",
       "      beta       se         pval         qval        \n",
       "3831   0.7415820 0.04963883 4.735138e-59 1.840302e-54\n",
       "42005  0.4997102 0.09838592 1.006478e-07 3.616606e-04\n",
       "42007  1.1496729 0.08619978 2.384870e-45 1.052761e-40\n",
       "42010 -0.4512822 0.08178558 2.129927e-08 8.408225e-05\n",
       "42011 -0.6555906 0.07387968 1.274535e-16 1.106006e-12\n",
       "42013  0.4021789 0.09133390 9.837673e-06 3.241165e-02\n",
       "42015 -0.8363076 0.09096532 2.795769e-21 3.409871e-17"
      ]
     },
     "metadata": {},
     "output_type": "display_data"
    }
   ],
   "source": [
    "eqtls = rbind(qtl_data[[\"qtl\"]][[\"rna\"]], qtl_data[[\"qtl\"]][[\"isoform\"]])\n",
    "eqtls[ (eqtls$gene_name == \"PYROXD2\" | eqtls$rsid == \"rs942814\") & eqtls$egene == TRUE, c(\"gene_name\", \"transcript_id\", \"type\", \"id\", \"rsid\", \"beta\", \"se\", \"pval\", \"qval\")]"
   ]
  },
  {
   "cell_type": "code",
   "execution_count": null,
   "metadata": {},
   "outputs": [],
   "source": []
  }
 ],
 "metadata": {
  "kernelspec": {
   "display_name": "R 4.0.1",
   "language": "R",
   "name": "ir401"
  },
  "language_info": {
   "codemirror_mode": "r",
   "file_extension": ".r",
   "mimetype": "text/x-r-source",
   "name": "R",
   "pygments_lexer": "r",
   "version": "4.0.1"
  }
 },
 "nbformat": 4,
 "nbformat_minor": 2
}
