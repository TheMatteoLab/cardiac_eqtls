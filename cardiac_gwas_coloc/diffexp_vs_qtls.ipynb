{
 "cells": [
  {
   "cell_type": "code",
   "execution_count": null,
   "metadata": {},
   "outputs": [],
   "source": []
  },
  {
   "cell_type": "code",
   "execution_count": 3,
   "metadata": {},
   "outputs": [],
   "source": [
    "setwd(\"/frazer01/projects/CARDIPS/analysis/cardiac_gwas_coloc\")\n",
    "\n",
    "source(\"script/functions.R\"  )\n"
   ]
  },
  {
   "cell_type": "code",
   "execution_count": 4,
   "metadata": {},
   "outputs": [],
   "source": [
    "dir.create(\"pipeline/diffexp\"     , showWarnings = FALSE)\n"
   ]
  },
  {
   "cell_type": "code",
   "execution_count": 5,
   "metadata": {},
   "outputs": [],
   "source": [
    "qtl_list = readRDS(\"/frazer01/projects/CARDIPS/analysis/cardiac_qtls_combined/input/qtl/qtls.RDS\"   )\n",
    "exp_list = readRDS(\"/frazer01/projects/CARDIPS/analysis/cardiac_qtls_combined/input/expdata_qtl.rds\")"
   ]
  },
  {
   "cell_type": "code",
   "execution_count": 6,
   "metadata": {},
   "outputs": [],
   "source": [
    "phenotypes     = qtl_list$phenotypes[c(\"rna\", \"isoform\"),]\n",
    "qtls           = qtl_list$qtl$rna\n",
    "qtls           = qtls[ qtls$egene == TRUE, ]\n",
    "qtls$trid      = paste(qtls$transcript_id, qtls$id  )\n",
    "qtls$tr2type   = paste(qtls$transcript_id, qtls$type)"
   ]
  },
  {
   "cell_type": "code",
   "execution_count": 54,
   "metadata": {},
   "outputs": [],
   "source": [
    "ints           = qtl_list$interactions$rna\n"
   ]
  },
  {
   "cell_type": "code",
   "execution_count": 18,
   "metadata": {},
   "outputs": [],
   "source": [
    "tissues              = exp_list$color$by_tissue\n",
    "metadata             = exp_list$metadata\n",
    "covariates           = exp_list$covariates[, c(\"run\", \"sex\", \"total_reads_norm\", \"uniquely_mapped_reads_to_canonical_chromsomes\", \"mitochondrial_reads\", tissues$body_site)]\n",
    "expdata              = exp_list$expression$rna$normalized\n",
    "rownames(covariates) = covariates$run"
   ]
  },
  {
   "cell_type": "markdown",
   "metadata": {},
   "source": [
    "# Differential expression 1 vs all"
   ]
  },
  {
   "cell_type": "code",
   "execution_count": 59,
   "metadata": {},
   "outputs": [
    {
     "name": "stderr",
     "output_type": "stream",
     "text": [
      "ipsc_cvpc\n",
      "heart_atrium\n",
      "heart_ventricle\n",
      "arteria_aorta\n",
      "arteria_coronary\n"
     ]
    }
   ],
   "source": [
    "calculate_diffexp_gene = function(gene_id, expdata, totest)\n",
    "{\n",
    "    totest$exp = as.numeric(expdata[ gene_id, rownames(totest)])\n",
    "    mylm       = as.data.frame(coefficients(summary(lm(exp ~ ., data = totest))))[\"tissue\", ]\n",
    "    \n",
    "    return(mylm)\n",
    "}\n",
    "\n",
    "calculate_diffexp = function(tissue, expdata, metadata, covariates)\n",
    "{\n",
    "    message(tissue, appendLF = FALSE)\n",
    "    totest            = covariates[ colnames(expdata), c(\"sex\", \"total_reads_norm\", \"uniquely_mapped_reads_to_canonical_chromsomes\", \"mitochondrial_reads\")]\n",
    "    totest$tissue     = covariates[ colnames(expdata), tissue]\n",
    "    out               = as.data.frame(rbindlist(lapply(rownames(expdata), function(gene_id){calculate_diffexp_gene(gene_id, expdata, totest)})), stringsAsFactors = FALSE)\n",
    "    colnames(out)     = c(\"beta\", \"se\", \"tval\", \"pval\")\n",
    "    out$transcript_id = rownames(expdata)\n",
    "    out$qval          = p.adjust(out$pval, method = \"BH\")\n",
    "    \n",
    "    return(out)\n",
    "}\n",
    "\n",
    "tissue = \"ipsc_cvpc\"\n",
    "\n",
    "diffexp        = lapply(tissues$body_site, function(tissue){calculate_diffexp(tissue, expdata, metadata, covariates)})\n",
    "names(diffexp) = tissues$body_site\n",
    "\n",
    "saveRDS(diffexp, \"pipeline/diffexp/diffexp.rds\")"
   ]
  },
  {
   "cell_type": "markdown",
   "metadata": {},
   "source": [
    "# Test if tissue-specific are more diffexp in the same tissue"
   ]
  },
  {
   "cell_type": "code",
   "execution_count": 68,
   "metadata": {},
   "outputs": [],
   "source": [
    "test_ts_diffexp = function(tissue, de, ints)\n",
    "{\n",
    "    de    = de[ de$transcript_id %in% ints$transcript_id, ]\n",
    "    de$ts = FALSE\n",
    "    de$de = FALSE\n",
    "    \n",
    "    de[ de$qval <= 0.05, \"de\"] = TRUE\n",
    "    de[ de$transcript_id %in% ints[ ints$cell == TRUE & ints$interaction == tissue, \"transcript_id\"], \"ts\"] = TRUE\n",
    "    \n",
    "    totest = table(de[, c(\"ts\", \"de\")])\n",
    "    test   = fisher.test(totest)\n",
    "    out    = data.frame(tissue = tissue, or = test$estimate, ci1 = test$conf.int[[1]], ci2 = test$conf.int[[2]], pval = test$p.value)\n",
    "    \n",
    "    return(out)\n",
    "}\n",
    "\n",
    "tissue = \"ipsc_cvpc\"\n",
    "\n",
    "tests = as.data.frame(rbindlist(lapply(tissues$body_site, function(tissue){test_ts_diffexp(tissue, diffexp[[tissue]], ints)})), stringsAsFactors = FALSE)\n",
    "tests$qval = p.adjust(tests$pval, method = \"bonferroni\")"
   ]
  },
  {
   "cell_type": "code",
   "execution_count": 69,
   "metadata": {},
   "outputs": [
    {
     "data": {
      "text/html": [
       "<table class=\"dataframe\">\n",
       "<caption>A data.frame: 5 × 6</caption>\n",
       "<thead>\n",
       "\t<tr><th scope=col>tissue</th><th scope=col>or</th><th scope=col>ci1</th><th scope=col>ci2</th><th scope=col>pval</th><th scope=col>qval</th></tr>\n",
       "\t<tr><th scope=col>&lt;chr&gt;</th><th scope=col>&lt;dbl&gt;</th><th scope=col>&lt;dbl&gt;</th><th scope=col>&lt;dbl&gt;</th><th scope=col>&lt;dbl&gt;</th><th scope=col>&lt;dbl&gt;</th></tr>\n",
       "</thead>\n",
       "<tbody>\n",
       "\t<tr><td>ipsc_cvpc       </td><td>0.8828144</td><td>0.5446318</td><td>1.510643</td><td>0.60679657</td><td>1.00000000</td></tr>\n",
       "\t<tr><td>heart_atrium    </td><td>1.7517371</td><td>1.1925172</td><td>2.642562</td><td>0.00268343</td><td>0.01341715</td></tr>\n",
       "\t<tr><td>heart_ventricle </td><td>1.3193624</td><td>1.0002053</td><td>1.758460</td><td>0.04959098</td><td>0.24795492</td></tr>\n",
       "\t<tr><td>arteria_aorta   </td><td>1.2724191</td><td>0.9466962</td><td>1.739674</td><td>0.11265988</td><td>0.56329940</td></tr>\n",
       "\t<tr><td>arteria_coronary</td><td>1.2532989</td><td>0.7304400</td><td>2.255053</td><td>0.44812741</td><td>1.00000000</td></tr>\n",
       "</tbody>\n",
       "</table>\n"
      ],
      "text/latex": [
       "A data.frame: 5 × 6\n",
       "\\begin{tabular}{llllll}\n",
       " tissue & or & ci1 & ci2 & pval & qval\\\\\n",
       " <chr> & <dbl> & <dbl> & <dbl> & <dbl> & <dbl>\\\\\n",
       "\\hline\n",
       "\t ipsc\\_cvpc        & 0.8828144 & 0.5446318 & 1.510643 & 0.60679657 & 1.00000000\\\\\n",
       "\t heart\\_atrium     & 1.7517371 & 1.1925172 & 2.642562 & 0.00268343 & 0.01341715\\\\\n",
       "\t heart\\_ventricle  & 1.3193624 & 1.0002053 & 1.758460 & 0.04959098 & 0.24795492\\\\\n",
       "\t arteria\\_aorta    & 1.2724191 & 0.9466962 & 1.739674 & 0.11265988 & 0.56329940\\\\\n",
       "\t arteria\\_coronary & 1.2532989 & 0.7304400 & 2.255053 & 0.44812741 & 1.00000000\\\\\n",
       "\\end{tabular}\n"
      ],
      "text/markdown": [
       "\n",
       "A data.frame: 5 × 6\n",
       "\n",
       "| tissue &lt;chr&gt; | or &lt;dbl&gt; | ci1 &lt;dbl&gt; | ci2 &lt;dbl&gt; | pval &lt;dbl&gt; | qval &lt;dbl&gt; |\n",
       "|---|---|---|---|---|---|\n",
       "| ipsc_cvpc        | 0.8828144 | 0.5446318 | 1.510643 | 0.60679657 | 1.00000000 |\n",
       "| heart_atrium     | 1.7517371 | 1.1925172 | 2.642562 | 0.00268343 | 0.01341715 |\n",
       "| heart_ventricle  | 1.3193624 | 1.0002053 | 1.758460 | 0.04959098 | 0.24795492 |\n",
       "| arteria_aorta    | 1.2724191 | 0.9466962 | 1.739674 | 0.11265988 | 0.56329940 |\n",
       "| arteria_coronary | 1.2532989 | 0.7304400 | 2.255053 | 0.44812741 | 1.00000000 |\n",
       "\n"
      ],
      "text/plain": [
       "  tissue           or        ci1       ci2      pval       qval      \n",
       "1 ipsc_cvpc        0.8828144 0.5446318 1.510643 0.60679657 1.00000000\n",
       "2 heart_atrium     1.7517371 1.1925172 2.642562 0.00268343 0.01341715\n",
       "3 heart_ventricle  1.3193624 1.0002053 1.758460 0.04959098 0.24795492\n",
       "4 arteria_aorta    1.2724191 0.9466962 1.739674 0.11265988 0.56329940\n",
       "5 arteria_coronary 1.2532989 0.7304400 2.255053 0.44812741 1.00000000"
      ]
     },
     "metadata": {},
     "output_type": "display_data"
    }
   ],
   "source": [
    "tests"
   ]
  },
  {
   "cell_type": "code",
   "execution_count": 15,
   "metadata": {},
   "outputs": [
    {
     "name": "stdout",
     "output_type": "stream",
     "text": [
      "'data.frame':\t5 obs. of  4 variables:\n",
      " $ body_site: chr  \"ipsc_cvpc\" \"heart_atrium\" \"heart_ventricle\" \"arteria_aorta\" ...\n",
      " $ tissue   : chr  \"iPSC-CVPC\" \"Atrium\" \"Ventricle\" \"Aorta\" ...\n",
      " $ color    : chr  \"#0066CC\" \"#FF34B3\" \"#8B1C62\" \"#8B636C\" ...\n",
      " $ order    : int  1 2 3 4 5\n"
     ]
    }
   ],
   "source": [
    "str(tissues)"
   ]
  },
  {
   "cell_type": "code",
   "execution_count": 55,
   "metadata": {},
   "outputs": [
    {
     "name": "stdout",
     "output_type": "stream",
     "text": [
      "'data.frame':\t288480 obs. of  39 variables:\n",
      " $ transcript_id: chr  \"ENSG00000000457.14_7\" \"ENSG00000000460.17_7\" \"ENSG00000000971.16_4\" \"ENSG00000001036.14_5\" ...\n",
      " $ gene_id      : chr  \"ENSG00000000457.14_7\" \"ENSG00000000460.17_7\" \"ENSG00000000971.16_4\" \"ENSG00000001036.14_5\" ...\n",
      " $ gene_name    : chr  \"SCYL3\" \"C1orf112\" \"CFH\" \"FUCA2\" ...\n",
      " $ gene_type    : chr  \"protein_coding\" \"protein_coding\" \"protein_coding\" \"protein_coding\" ...\n",
      " $ start        : int  169818772 169631245 196621173 143815949 53362139 41040684 41040684 24683489 24742292 46097726 ...\n",
      " $ end          : int  169863408 169823221 196716634 143832857 53481768 41067715 41067715 24743424 24799466 46114425 ...\n",
      " $ strand       : chr  \"-\" \"+\" \"+\" \"-\" ...\n",
      " $ chrom        : int  1 1 1 6 6 6 6 1 1 6 ...\n",
      " $ pos          : int  169860528 169653795 196357746 143927360 53377619 41098510 41222926 24731659 24759685 46134213 ...\n",
      " $ ref          : chr  \"C\" \"A\" \"A\" \"G\" ...\n",
      " $ alt          : chr  \"A\" \"G\" \"G\" \"T\" ...\n",
      " $ rsid         : chr  \"rs3753312\" \"rs75776028\" \"rs10737670\" \"rs74387446\" ...\n",
      " $ id           : chr  \"VAR_1_169860528_C_A\" \"VAR_1_169653795_A_G\" \"VAR_1_196357746_A_G\" \"VAR_6_143927360_G_T\" ...\n",
      " $ af           : num  0.13 0.19 0.33 0.087 0.449 0.067 0.382 0.253 0.271 0.606 ...\n",
      " $ beta         : num  0.346 -0.268 0.143 0.457 -0.312 ...\n",
      " $ se           : num  0.0738 0.0667 0.0226 0.0711 0.0454 ...\n",
      " $ pval         : num  8.57e-06 2.68e-05 1.13e-10 4.52e-11 7.01e-13 ...\n",
      " $ bonferroni   : num  2.43e-02 8.44e-02 1.47e-07 8.92e-08 1.75e-09 ...\n",
      " $ fdr          : num  3.68e-03 1.19e-02 2.56e-08 2.31e-08 4.00e-10 ...\n",
      " $ tests        : int  429 444 226 511 570 564 564 450 455 374 ...\n",
      " $ type         : int  0 0 0 0 0 0 1 0 0 0 ...\n",
      " $ beta_int     : num  0.1293 0.1812 0.1507 -0.1657 0.0134 ...\n",
      " $ se_int       : num  0.1287 0.113 0.0384 0.1231 0.0861 ...\n",
      " $ pval_int     : num  0.301903 0.145214 0.000346 0.185389 1 ...\n",
      " $ interaction  : chr  \"arteria\" \"arteria\" \"arteria\" \"arteria\" ...\n",
      " $ beta_0       : num  0.135 -0.519 0.296 0.362 -0.42 ...\n",
      " $ se_0         : num  0.19 0.162 0.128 0.231 0.103 ...\n",
      " $ pval_0       : num  4.75e-01 1.43e-03 2.08e-02 1.18e-01 5.26e-05 ...\n",
      " $ beta_1       : num  0.2848 -0.0892 0.3851 0.2247 -0.3517 ...\n",
      " $ se_1         : num  0.1543 0.0968 0.0896 0.2738 0.1331 ...\n",
      " $ pval_1       : num  6.59e-02 3.57e-01 2.23e-05 4.12e-01 8.59e-03 ...\n",
      " $ distance     : int  2880 22550 -263427 -94503 104149 57826 182242 11765 17393 36487 ...\n",
      " $ qval_int     : num  1 1 1 1 1 ...\n",
      " $ qval_1       : num  0.133153 0.488806 0.000144 0.542982 0.025647 ...\n",
      " $ qval_0       : num  0.592425 0.005119 0.048817 0.199747 0.000288 ...\n",
      " $ int_signif   : logi  FALSE FALSE FALSE FALSE FALSE FALSE ...\n",
      " $ cell         : logi  FALSE FALSE FALSE FALSE FALSE FALSE ...\n",
      " $ specific     : logi  FALSE FALSE FALSE FALSE FALSE FALSE ...\n",
      " $ associated   : logi  FALSE FALSE FALSE FALSE FALSE FALSE ...\n"
     ]
    }
   ],
   "source": [
    "str(ints)"
   ]
  },
  {
   "cell_type": "code",
   "execution_count": null,
   "metadata": {},
   "outputs": [],
   "source": []
  }
 ],
 "metadata": {
  "kernelspec": {
   "display_name": "R 4.0.1",
   "language": "R",
   "name": "ir401"
  },
  "language_info": {
   "codemirror_mode": "r",
   "file_extension": ".r",
   "mimetype": "text/x-r-source",
   "name": "R",
   "pygments_lexer": "r",
   "version": "4.0.1"
  }
 },
 "nbformat": 4,
 "nbformat_minor": 2
}
