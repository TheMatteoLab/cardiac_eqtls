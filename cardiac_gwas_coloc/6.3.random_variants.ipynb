{
 "cells": [
  {
   "cell_type": "markdown",
   "metadata": {},
   "source": [
    "# Find a match for each of the variants in the credible sets:\n",
    "- Condition 1: same GC contenta around the variant\n",
    "- Condition 2: match coding and non-coding"
   ]
  },
  {
   "cell_type": "code",
   "execution_count": 1,
   "metadata": {},
   "outputs": [],
   "source": [
    "setwd(\"/frazer01/projects/CARDIPS/analysis/cardiac_gwas_coloc\")\n",
    "\n",
    "source(\"script/functions.R\"  )\n"
   ]
  },
  {
   "cell_type": "code",
   "execution_count": 2,
   "metadata": {},
   "outputs": [],
   "source": [
    "dir.create(\"pipeline/6.2.footprints_finemap/random\"          , showWarnings = FALSE)\n",
    "dir.create(\"pipeline/6.2.footprints_finemap/random/input\"     , showWarnings = FALSE)\n"
   ]
  },
  {
   "cell_type": "code",
   "execution_count": 4,
   "metadata": {},
   "outputs": [],
   "source": [
    "loci             = add_rownames(fread  (\"pipeline/1.2.genomewide_significant_loci/loci.txt\"              , sep = \"\\t\", header = TRUE, data.table = FALSE))\n",
    "manifest         = add_rownames(fread  (\"pipeline/1.1.sumstats/manifest.txt\"                             , sep = \"\\t\", header = TRUE, data.table = FALSE))\n",
    "moloc_df         =              fread  (\"pipeline/2.2.moloc/moloc.txt\"                                   , sep = \"\\t\", header = TRUE, data.table = FALSE)\n",
    "locus2coloc      =              fread  (\"pipeline/5.4.analyze_coloc_qtl_som_maps/signal2coloc.txt\"       , sep = \"\\t\", header = TRUE, data.table = FALSE)\n",
    "cs_annot         =              fread  (\"pipeline/6.2.footprints_finemap/credible_sets_50_annotated.txt\" , sep = \"\\t\", header = TRUE, data.table = FALSE)\n",
    "cs50             = locus2coloc[ locus2coloc$credible_set <= 50 & locus2coloc$finemapped == TRUE,]\n"
   ]
  },
  {
   "cell_type": "code",
   "execution_count": 121,
   "metadata": {},
   "outputs": [],
   "source": [
    "snps       = fread(cmd = \"zcat /frazer01/reference/public/ukbb/variants.tsv.bgz\", sep = \"\\t\", header = TRUE, data.table = FALSE)\n",
    "snps       = snps[snps$chr %in% as.character(1:22),]\n",
    "snps$chrom = as.numeric(snps$chr)\n",
    "snps$id    = paste(\"VAR\", snps$chrom, snps$pos, snps$ref, snps$alt, sep = \"_\")\n",
    "snps$maf   = snps$minor_AF"
   ]
  },
  {
   "cell_type": "code",
   "execution_count": 123,
   "metadata": {},
   "outputs": [],
   "source": [
    "snps2bed              = snps[,c(\"chrom\", \"pos\", \"id\", \"maf\", \"consequence_category\")]\n",
    "snps2bed$chrom        = paste0(\"chr\", snps2bed$chrom)\n",
    "snps_bed              = paste(getwd(), \"pipeline/6.2.footprints_finemap/random/input\", \"ukbb_snps.bed\", sep = \"/\")\n",
    "snps2bed$credible_set = 0\n",
    "snps2bed$maf          = round(snps2bed$maf * 100 / 4, digits = 0) * 4\n",
    "\n",
    "snps2bed[snps2bed$consequence_category != \"non_coding\", \"consequence_category\"] = \"coding\"\n",
    "snps2bed[snps2bed$id %in% cs_annot$id                 , \"credible_set\"        ] = 1\n",
    "\n",
    "fwrite(snps2bed[,c(\"chrom\", \"pos\", \"pos\", \"id\", \"maf\", \"consequence_category\", \"credible_set\")], snps_bed, sep = \"\\t\", col.names = FALSE, row.names = FALSE)"
   ]
  },
  {
   "cell_type": "code",
   "execution_count": 125,
   "metadata": {},
   "outputs": [
    {
     "data": {
      "text/plain": [
       "\n",
       "      0       4       8      12      16      20      24      28      32      36 \n",
       "5103145 1845031 1011039  789160  663249  594517  545421  509474  487906  468675 \n",
       "     40      44      48 \n",
       " 458125  445943  442618 "
      ]
     },
     "metadata": {},
     "output_type": "display_data"
    }
   ],
   "source": [
    "table(snps2bed$maf)"
   ]
  },
  {
   "cell_type": "markdown",
   "metadata": {},
   "source": [
    "# Step 1: divide genome into bins of 200 bp"
   ]
  },
  {
   "cell_type": "code",
   "execution_count": 100,
   "metadata": {},
   "outputs": [],
   "source": [
    "chrom_sizes = \"/frazer01/reference/public/hg19/hg19.size.txt\"\n",
    "hg19_fasta  = \"/frazer01/reference/public/hg19/hg19.fa\"\n"
   ]
  },
  {
   "cell_type": "code",
   "execution_count": 101,
   "metadata": {},
   "outputs": [],
   "source": [
    "windows_bed = paste(getwd(), \"pipeline/6.2.footprints_finemap/random/input\", \"windows.bed\", sep = \"/\")\n",
    "command     = paste(\"bedtools\", \"makewindows\", \n",
    "                    \"-g\", chrom_sizes,\n",
    "                    \"-w\", 500,\n",
    "                    \">\", windows_bed)\n",
    "\n",
    "system(command)\n"
   ]
  },
  {
   "cell_type": "code",
   "execution_count": 126,
   "metadata": {},
   "outputs": [],
   "source": [
    "windows_snps_bed = paste(getwd(), \"pipeline/6.2.footprints_finemap/random/input\", \"windows_snps.bed\", sep = \"/\")\n",
    "command          = paste(\"bedtools\", \"intersect\", \n",
    "                         \"-loj\",\n",
    "                         \"-a\", windows_bed,\n",
    "                         \"-b\", snps_bed,\n",
    "                         \">\" , windows_snps_bed)\n",
    "\n",
    "system(command)\n",
    "\n",
    "windows_snps     = fread(windows_snps_bed, sep = \"\\t\", header = FALSE, data.table = FALSE)\n",
    "windows_snps     = windows_snps[ windows_snps[,4] != \".\",]\n",
    "windows_snps$bin = paste(windows_snps[,1], windows_snps[,2], windows_snps[,3], sep = \"_\")\n",
    "\n",
    "fwrite(windows_snps[,c(\"V1\", \"V2\", \"V3\", \"bin\", \"V7\", \"V8\", \"V9\", \"V10\")], windows_snps_bed, sep = \"\\t\", col.names = FALSE, row.names = FALSE)"
   ]
  },
  {
   "cell_type": "markdown",
   "metadata": {},
   "source": [
    "# Step 2: calculate GC content in each bin"
   ]
  },
  {
   "cell_type": "code",
   "execution_count": 138,
   "metadata": {},
   "outputs": [],
   "source": [
    "windows_nuc_txt  = paste(getwd(), \"pipeline/6.2.footprints_finemap/random/input\", \"windows_nuc.txt\", sep = \"/\")\n",
    "command          = paste(\"bedtools\", \"nuc\", \n",
    "                         \"-fi\" , hg19_fasta,\n",
    "                         \"-bed\", windows_snps_bed,\n",
    "                         \"|\", \"cut -f1,4-8,10\",\n",
    "                         \"|\", \"tail -n +2\",\n",
    "                         \">\", windows_nuc_txt)\n",
    "\n",
    "system(command)\n"
   ]
  },
  {
   "cell_type": "markdown",
   "metadata": {},
   "source": [
    "# Step 3: For each variant in the credible sets, find 100 with the same features (coding/noncoding; sam GC content, same MAF, same chromosome)"
   ]
  },
  {
   "cell_type": "code",
   "execution_count": 139,
   "metadata": {},
   "outputs": [],
   "source": [
    "gc           = fread(windows_nuc_txt, sep = \"\\t\", header = FALSE, data.table = FALSE)\n",
    "colnames(gc) = c(\"chrom\", \"bin\", \"id\", \"maf\", \"consequence\", \"cs\", \"gc\")\n",
    "gc$gc        = round(100 * gc$gc, digits = 0)"
   ]
  },
  {
   "cell_type": "code",
   "execution_count": 153,
   "metadata": {},
   "outputs": [],
   "source": [
    "gc$combined = paste(gc$chrom, gc$maf, gc$gc, gc$consequence)\n",
    "gc_dt       = data.table(gc)\n",
    "setkey(gc_dt, combined)"
   ]
  },
  {
   "cell_type": "code",
   "execution_count": 154,
   "metadata": {},
   "outputs": [],
   "source": [
    "to_select0          = unique(gc[gc$cs == 1, c(\"id\", \"chrom\", \"consequence\", \"maf\", \"gc\")])\n",
    "to_select1          = aggregate(gc  ~ id + chrom + consequence, data = to_select0, function(x){x[[1]]})\n",
    "to_select2          = aggregate(maf ~ id + chrom + consequence, data = to_select0, function(x){x[[1]]})\n",
    "to_select           = merge(to_select1, to_select2, by = c(\"id\", \"chrom\", \"consequence\"))\n",
    "to_select$combined  = paste(to_select$chrom, to_select$maf, to_select$gc, to_select$consequence)\n",
    "rownames(to_select) = to_select$id"
   ]
  },
  {
   "cell_type": "code",
   "execution_count": 190,
   "metadata": {},
   "outputs": [],
   "source": [
    "select_random = function(id, to_select, gc_dt, seed = 1)\n",
    "{\n",
    "    combined  = to_select[id, \"combined\"]\n",
    "    selection = as.data.frame(gc_dt[combined])[,\"id\"]\n",
    "    \n",
    "    set.seed(seed)\n",
    "    \n",
    "    to_replace = ifelse(test = length(selection) >= 100, yes = FALSE, no = TRUE)\n",
    "    out        = sample(selection, 100, replace = to_replace)\n",
    "    \n",
    "    #writeLines(text = out, con = paste0(\"pipeline/6.2.footprints_finemap/random/selected_by_variant/\", id, \".txt\"))\n",
    "    \n",
    "    return(out)\n",
    "}\n",
    "\n",
    "random_vars        = lapply (to_select$id, function(id){select_random(id, to_select, gc_dt)})\n",
    "names(random_vars) = to_select$id\n",
    "\n",
    "saveRDS(random_vars, \"pipeline/6.2.footprints_finemap/random/selected_by_variant.rds\")"
   ]
  },
  {
   "cell_type": "code",
   "execution_count": null,
   "metadata": {},
   "outputs": [],
   "source": []
  }
 ],
 "metadata": {
  "kernelspec": {
   "display_name": "R 4.0.1",
   "language": "R",
   "name": "ir401"
  },
  "language_info": {
   "codemirror_mode": "r",
   "file_extension": ".r",
   "mimetype": "text/x-r-source",
   "name": "R",
   "pygments_lexer": "r",
   "version": "4.0.1"
  }
 },
 "nbformat": 4,
 "nbformat_minor": 2
}
