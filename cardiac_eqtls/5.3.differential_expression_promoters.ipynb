{
 "cells": [
  {
   "cell_type": "code",
   "execution_count": 1,
   "metadata": {},
   "outputs": [],
   "source": [
    "setwd(\"/frazer01/projects/CARDIPS/analysis/cardiac_eqtls\")\n",
    "\n",
    "source(\"script/packages.R\"  )\n",
    "source(\"script/input_data.R\")\n",
    "source(\"script/functions.R\" )\n"
   ]
  },
  {
   "cell_type": "code",
   "execution_count": 17,
   "metadata": {},
   "outputs": [],
   "source": [
    "gene_info               = fread(\"input/phenotypes/gene_info.txt\"   , sep = \"\\t\", header = TRUE, data.table = FALSE)\n",
    "isof_info               = fread(\"input/phenotypes/isoform_info.txt\", sep = \"\\t\", header = TRUE, data.table = FALSE)\n",
    "gene_info$transcript_id = gene_info$gene_id\n",
    "promoters               = fread(\"/frazer01/reference/private/Gencode.v34lift37/promoters.bed\", sep = \"\\t\", header = FALSE, data.table = FALSE)\n"
   ]
  },
  {
   "cell_type": "code",
   "execution_count": 10,
   "metadata": {},
   "outputs": [],
   "source": [
    "diffexp         = fread(\"pipeline/4.1.differential_expression/diffexp.txt\", sep = \"\\t\", header = TRUE, data.table = FALSE)\n"
   ]
  },
  {
   "cell_type": "code",
   "execution_count": 11,
   "metadata": {},
   "outputs": [],
   "source": [
    "tmpwd = \"pipeline/5.1.expression_enrichments/stage_enrichment\"\n",
    "dir.create(tmpwd, showWarnings = FALSE)"
   ]
  },
  {
   "cell_type": "code",
   "execution_count": 12,
   "metadata": {},
   "outputs": [
    {
     "data": {
      "text/html": [
       "<table>\n",
       "<caption>A data.frame: 3 × 2</caption>\n",
       "<thead>\n",
       "\t<tr><th></th><th scope=col>tissue1</th><th scope=col>tissue2</th></tr>\n",
       "\t<tr><th></th><th scope=col>&lt;chr&gt;</th><th scope=col>&lt;chr&gt;</th></tr>\n",
       "</thead>\n",
       "<tbody>\n",
       "\t<tr><th scope=row>1</th><td>ipsc_cvpc</td><td>heart  </td></tr>\n",
       "\t<tr><th scope=row>130468</th><td>ipsc_cvpc</td><td>arteria</td></tr>\n",
       "\t<tr><th scope=row>260935</th><td>heart    </td><td>arteria</td></tr>\n",
       "</tbody>\n",
       "</table>\n"
      ],
      "text/latex": [
       "A data.frame: 3 × 2\n",
       "\\begin{tabular}{r|ll}\n",
       "  & tissue1 & tissue2\\\\\n",
       "  & <chr> & <chr>\\\\\n",
       "\\hline\n",
       "\t1 & ipsc\\_cvpc & heart  \\\\\n",
       "\t130468 & ipsc\\_cvpc & arteria\\\\\n",
       "\t260935 & heart     & arteria\\\\\n",
       "\\end{tabular}\n"
      ],
      "text/markdown": [
       "\n",
       "A data.frame: 3 × 2\n",
       "\n",
       "| <!--/--> | tissue1 &lt;chr&gt; | tissue2 &lt;chr&gt; |\n",
       "|---|---|---|\n",
       "| 1 | ipsc_cvpc | heart   |\n",
       "| 130468 | ipsc_cvpc | arteria |\n",
       "| 260935 | heart     | arteria |\n",
       "\n"
      ],
      "text/plain": [
       "       tissue1   tissue2\n",
       "1      ipsc_cvpc heart  \n",
       "130468 ipsc_cvpc arteria\n",
       "260935 heart     arteria"
      ]
     },
     "metadata": {},
     "output_type": "display_data"
    }
   ],
   "source": [
    "tissues = unique(diffexp[,c(\"tissue1\", \"tissue2\")])\n",
    "\n",
    "tissues"
   ]
  },
  {
   "cell_type": "code",
   "execution_count": 25,
   "metadata": {},
   "outputs": [
    {
     "name": "stderr",
     "output_type": "stream",
     "text": [
      "ipsc_cvpc heart gene_tpm\n",
      "\n",
      "ipsc_cvpc heart isoform_use\n",
      "\n",
      "ipsc_cvpc arteria gene_tpm\n",
      "\n",
      "ipsc_cvpc arteria isoform_use\n",
      "\n",
      "heart arteria gene_tpm\n",
      "\n",
      "heart arteria isoform_use\n",
      "\n"
     ]
    }
   ],
   "source": [
    "run_homer_tissue = function(tissue, name, genes, isof_info, promoters)\n",
    "{\n",
    "    isoforms           = promoters[ promoters[,4] %in% isof_info[ isof_info$gene_id %in% genes | isof_info$transcript_id %in% genes, \"transcript_id\"],]\n",
    "    colnames(isoforms) = c(\"chrom\", \"from\", \"to\", \"transcript_id\")\n",
    "    isoforms           = merge(isoforms, isof_info[,c(\"transcript_id\", \"strand\")])\n",
    "    isoforms$score     = 0\n",
    "    isoforms           = isoforms[order(isoforms[,\"chrom\"], isoforms[,\"from\"], isoforms[,\"to\"]),]\n",
    "    analysis_name      = paste(name, tissue, sep = \".\")\n",
    "    bed_file           = paste(tmpwd, paste(analysis_name,             \"bed\", sep = \".\"), sep = \"/\")\n",
    "    bed_file_unmerged  = paste(tmpwd, paste(analysis_name, \"unmerged\", \"bed\", sep = \".\"), sep = \"/\")\n",
    "    motif_file         = \"/frazer01/reference/public/hocomoco_v11/HOCOMOCOv11_core_HUMAN_mono_homer_format_0.0001.motif\"\n",
    "\n",
    "    fwrite(isoforms[,c(\"chrom\", \"from\", \"to\", \"transcript_id\", \"score\", \"strand\")], bed_file_unmerged, sep = \"\\t\", col.names = FALSE, row.names = FALSE)\n",
    "    \n",
    "    system(paste(\"bedtools merge -c 4 -o distinct\", \"-i\", bed_file_unmerged, \">\", bed_file))\n",
    "    \n",
    "    command = paste(\"findMotifsGenome.pl\", bed_file, \"hg19\", paste(tmpwd, analysis_name, sep = \"/\"), \n",
    "                    \"-mknown\" , motif_file, \n",
    "                    \"-mcheck\" , motif_file, \n",
    "                    \"-nomotif\", \n",
    "                    \"-size\"   , 200,\n",
    "                    \"\"\n",
    "                   )\n",
    "    \n",
    "    return(command)\n",
    "}\n",
    "\n",
    "enrichment_epigenome = function(diffexp, tissue1, tissue2, type, isof_info, promoters)\n",
    "{\n",
    "    message(paste(tissue1, tissue2, type))\n",
    "    \n",
    "    x  = diffexp[diffexp$type == type & diffexp$tissue1 == tissue1 & diffexp$tissue2 == tissue2 & diffexp$diffexp == TRUE, ]\n",
    "    \n",
    "    dif1 = x[x$beta > 0,]\n",
    "    dif2 = x[x$beta < 0,]\n",
    "    \n",
    "    out     = c(run_homer_tissue(tissue1, paste(type, tissue1, tissue2, sep = \".\"), unique(dif1$transcript_id), isof_info, promoters),\n",
    "                run_homer_tissue(tissue2, paste(type, tissue1, tissue2, sep = \".\"), unique(dif2$transcript_id), isof_info, promoters),\n",
    "                \"\")\n",
    "    return(out)\n",
    "}\n",
    "\n",
    "to_run = unlist(lapply(1:nrow(tissues), function(ii)\n",
    "{\n",
    "    tissue1 = tissues[ii, \"tissue1\"]\n",
    "    tissue2 = tissues[ii, \"tissue2\"]\n",
    "    \n",
    "    out2 = unlist(lapply(c(\"gene_tpm\", \"isoform_use\"), function(type)\n",
    "    {\n",
    "        enrichment_epigenome(diffexp, tissue1, tissue2, type, isof_info, promoters)\n",
    "    }))\n",
    "    return(out2)\n",
    "}))\n"
   ]
  },
  {
   "cell_type": "code",
   "execution_count": 26,
   "metadata": {},
   "outputs": [
    {
     "name": "stderr",
     "output_type": "stream",
     "text": [
      "bash pipeline/5.1.expression_enrichments/stage_enrichment.run_homer.sh\n",
      "\n",
      "nohup bash pipeline/5.1.expression_enrichments/stage_enrichment.run_homer.sh &\n",
      "\n"
     ]
    }
   ],
   "source": [
    "shfile = paste(tmpwd, \"run_homer.sh\", sep = \".\")\n",
    "writeLines(to_run, con = shfile, sep = \"\\n\")\n",
    "\n",
    "message(paste(\"bash\", shfile))\n",
    "message(paste(\"nohup\", \"bash\", shfile, \"&\"))"
   ]
  },
  {
   "cell_type": "code",
   "execution_count": 27,
   "metadata": {},
   "outputs": [
    {
     "ename": "ERROR",
     "evalue": "Error in eval(expr, envir, enclos): object 'motifs' not found\n",
     "output_type": "error",
     "traceback": [
      "Error in eval(expr, envir, enclos): object 'motifs' not found\nTraceback:\n"
     ]
    }
   ],
   "source": [
    "motifs"
   ]
  },
  {
   "cell_type": "code",
   "execution_count": null,
   "metadata": {},
   "outputs": [],
   "source": []
  }
 ],
 "metadata": {
  "kernelspec": {
   "display_name": "R 4.0.1",
   "language": "R",
   "name": "ir401"
  },
  "language_info": {
   "codemirror_mode": "r",
   "file_extension": ".r",
   "mimetype": "text/x-r-source",
   "name": "R",
   "pygments_lexer": "r",
   "version": "4.0.1"
  }
 },
 "nbformat": 4,
 "nbformat_minor": 2
}
