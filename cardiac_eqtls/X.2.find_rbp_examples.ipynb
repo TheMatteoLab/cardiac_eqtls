{
 "cells": [
  {
   "cell_type": "code",
   "execution_count": 1,
   "metadata": {},
   "outputs": [],
   "source": [
    "setwd(\"/frazer01/projects/CARDIPS/analysis/cardiac_eqtls\")\n",
    "\n",
    "source(\"script/packages.R\"  )\n",
    "source(\"script/input_data.R\")\n",
    "source(\"script/functions.R\" )\n",
    "source(\"script/colors.R\"    )\n",
    "\n",
    "library(shape)"
   ]
  },
  {
   "cell_type": "code",
   "execution_count": 2,
   "metadata": {},
   "outputs": [],
   "source": [
    "geneinfo_gene       = fread(\"pipeline/1.2.expression/gene_info.txt\"                          , sep = \"\\t\", header = TRUE , data.table = FALSE)\n",
    "geneinfo_isoform    = fread(\"pipeline/1.2.expression/isoform_info.txt\"                       , sep = \"\\t\", header = TRUE , data.table = FALSE)\n",
    "diffexp             = fread(\"pipeline/4.1.differential_expression/diffexp.txt\"               , sep = \"\\t\", header = TRUE , data.table = FALSE)\n",
    "diffexp_cell        = fread(\"pipeline/4.1.differential_expression/diffexp_cell.txt\"          , sep = \"\\t\", header = TRUE , data.table = FALSE)\n",
    "diffexp_cell_tissue = fread(\"pipeline/4.1.differential_expression/diffexp_cell_tissue.txt\"   , sep = \"\\t\", header = TRUE , data.table = FALSE)\n",
    "coloc_gene          = fread(\"pipeline/6.1.coloc_gwas/coloc.eqtls.gene.txt\"                   , sep = \"\\t\", header = TRUE , data.table = FALSE)\n",
    "coloc_isoform       = fread(\"pipeline/6.1.coloc_gwas/coloc.eqtls.isoform.txt\"                , sep = \"\\t\", header = TRUE , data.table = FALSE)\n",
    "eqtl_genes          = fread(\"pipeline/3.2.eqtls/eqtls/cardiac_eqtls.gene.egenes.txt\"         , sep = \"\\t\", header = TRUE , data.table = FALSE)\n",
    "int_genes           = fread(\"pipeline/3.2.eqtls/eqtls/cardiac_eqtls.gene.interactions.txt\"   , sep = \"\\t\", header = TRUE , data.table = FALSE)\n",
    "eqtl_isoforms       = fread(\"pipeline/3.2.eqtls/eqtls/cardiac_eqtls.isoform.egenes.txt\"      , sep = \"\\t\", header = TRUE , data.table = FALSE)\n",
    "int_isoforms        = fread(\"pipeline/3.2.eqtls/eqtls/cardiac_eqtls.isoform.interactions.txt\", sep = \"\\t\", header = TRUE , data.table = FALSE)\n",
    "\n",
    "# external\n",
    "diffexp_quadrant = fread(\"/frazer01/home/jennifer/projects/cardiac_eqtls/diffexp/results/summary.cell_stage_associations.txt\", sep = \"\\t\", header = TRUE , data.table = FALSE)\n",
    "\n"
   ]
  },
  {
   "cell_type": "code",
   "execution_count": 3,
   "metadata": {},
   "outputs": [],
   "source": [
    "indata = fread(\"pipeline/6.1.coloc_gwas/intersect_rbps/intdata_pp_with_motifs.txt\", sep = \"\\t\", header = TRUE, data.table = FALSE)"
   ]
  },
  {
   "cell_type": "code",
   "execution_count": 29,
   "metadata": {},
   "outputs": [],
   "source": [
    "rbps = colnames(indata)\n",
    "rbps = gsub(\"^eclip\\\\.\", \"\", rbps[grepl(\"^eclip\\\\.\", rbps) == TRUE])\n",
    "\n",
    "for(rbp in rbps)\n",
    "{\n",
    "    col_eclip = paste(\"eclip\"          , rbp, sep = \".\")\n",
    "    col_score = paste(\"rbp_eclip_score\", rbp, sep = \".\")\n",
    "    col_delta = paste(\"rbp_eclip_delta\", rbp, sep = \".\")\n",
    "    fimo      = gsub(\"^score\\\\.\", \"\", colnames(indata)[grepl(\"^score\\\\.\", colnames(indata)) == TRUE & grepl(rbp, colnames(indata)) == TRUE])\n",
    "    \n",
    "    indata[,col_score] = 0\n",
    "    indata[,col_delta] = 0\n",
    "    \n",
    "    if(length(fimo) == 1)\n",
    "    {\n",
    "        indata[indata[, col_eclip] == TRUE, col_score] =     indata[indata[, col_eclip] == TRUE, paste(\"score\", fimo, sep = \".\")]\n",
    "        indata[indata[, col_eclip] == TRUE, col_delta] = abs(indata[indata[, col_eclip] == TRUE, paste(\"delta\", fimo, sep = \".\")])\n",
    "    }else\n",
    "    {\n",
    "        indata[indata[, col_eclip] == TRUE, col_score] = unlist(apply(indata[indata[, col_eclip] == TRUE, paste(\"score\", fimo, sep = \".\")], 1, function(xx){ifelse(test = length(xx[is.na(xx) == FALSE]) > 0, yes = max(    xx , na.rm = TRUE), no = 0)}))\n",
    "        indata[indata[, col_eclip] == TRUE, col_delta] = unlist(apply(indata[indata[, col_eclip] == TRUE, paste(\"delta\", fimo, sep = \".\")], 1, function(xx){ifelse(test = length(xx[is.na(xx) == FALSE]) > 0, yes = max(abs(xx), na.rm = TRUE), no = 0)}))\n",
    "    }\n",
    "}\n",
    "\n",
    "indata$rbp_eclip_score = unlist(apply(indata[,grepl(\"^rbp_eclip_score\\\\.\", colnames(indata)) == TRUE], 1, max))\n",
    "indata$rbp_eclip_delta = unlist(apply(indata[,grepl(\"^rbp_eclip_delta\\\\.\", colnames(indata)) == TRUE], 1, max))\n"
   ]
  },
  {
   "cell_type": "code",
   "execution_count": 30,
   "metadata": {},
   "outputs": [],
   "source": [
    "x       = indata[indata$rbp_eclip_score > 0,colnames(indata) %in% c(\"transcript_id\", \"type\", \"gene_name\", \"id\", \"pp\", \"coloc_gene\", \"coloc_snp\", \"rbp_eclip_score\", \"rbp_eclip_delta\") | (grepl(\"^rbp_eclip_score\\\\.\", colnames(indata)) == TRUE | grepl(\"^rbp_eclip_delta\\\\.\", colnames(indata)) == TRUE)]\n",
    "x$score = (1 + x$pp) * (1 + x$coloc_gene) * (1 + x$coloc_snp) * (1 + x$rbp_eclip_score / 5) * (1 + x$rbp_eclip_delta / 4)\n",
    "x       = x[order(x$score, decreasing = TRUE),]\n",
    "\n",
    "outfolder = \"pipeline/6.1.coloc_gwas/intersect_rbps\"\n",
    "fwrite(x, paste(outfolder, \"eIsoforms_rbp.txt\"  , sep = \"/\"), sep = \"\\t\", col.names = TRUE, row.names = FALSE)\n"
   ]
  },
  {
   "cell_type": "code",
   "execution_count": null,
   "metadata": {},
   "outputs": [],
   "source": [
    "render_html(\"ALAD\")\n",
    "render_html(\"NDUFAF7\")\n",
    "render_html(\"RNASET2\")\n",
    "render_html(\"WDR55\")\n",
    "render_html(\"DDX39B\")\n",
    "render_html(\"LTBR\")\n",
    "render_html(\"UBE2G2\")\n",
    "render_html(\"FAM118A\")\n",
    "render_html(\"ATAD3B\")\n",
    "render_html(\"PI4KA\")\n",
    "render_html(\"HSPA4\")\n",
    "render_html(\"DNAJB2\")\n",
    "render_html(\"PSMA3-AS1\")\n",
    "render_html(\"CARF\")\n",
    "render_html(\"SSR1\")\n",
    "render_html(\"RAB5A\")\n",
    "render_html(\"UACA\")\n",
    "render_html(\"RC3H1\")\n",
    "render_html(\"FANCA\")\n",
    "render_html(\"CHN2\")\n",
    "render_html(\"CASTOR3\")\n",
    "render_html(\"AL157392.3\")\n",
    "render_html(\"USP24\")\n",
    "render_html(\"SLC22A18\")\n",
    "render_html(\"CRACR2B\")\n",
    "render_html(\"LMNA\")\n",
    "render_html(\"MSL1\")\n",
    "render_html(\"C19orf54\")\n",
    "render_html(\"TBRG4\")\n",
    "render_html(\"RNF207\")\n",
    "render_html(\"CD151\")\n",
    "render_html(\"CARHSP1\")\n",
    "render_html(\"ZNF75A\")\n",
    "render_html(\"TBX2\")\n",
    "render_html(\"PTP4A3\")\n",
    "render_html(\"PCNT\")\n",
    "render_html(\"WDR73\")\n",
    "render_html(\"TFB1M\")\n",
    "render_html(\"ARHGEF7\")\n",
    "render_html(\"BUD23\")\n",
    "render_html(\"IFNAR2\")\n",
    "render_html(\"AP1M1\")\n",
    "render_html(\"MYL12B\")\n",
    "render_html(\"NFE2L1\")\n",
    "\n"
   ]
  },
  {
   "cell_type": "code",
   "execution_count": 26,
   "metadata": {},
   "outputs": [
    {
     "name": "stdout",
     "output_type": "stream",
     "text": [
      "'data.frame':\t4044 obs. of  23 variables:\n",
      " $ transcript_id          : chr  \"ENST00000370128.8_1\" \"ENST00000260563.4_1\" \"ENST00000370128.8_1\" \"ENST00000260563.4_1\" ...\n",
      " $ gene_name              : chr  \"RTCA\" \"RTCA\" \"RTCA\" \"RTCA\" ...\n",
      " $ id                     : chr  \"VAR_1_100732526_C_G\" \"VAR_1_100732526_C_G\" \"VAR_1_100733552_T_C\" \"VAR_1_100733552_T_C\" ...\n",
      " $ type                   : int  0 0 0 0 0 0 0 1 0 0 ...\n",
      " $ pp                     : num  0.0185 0.0324 0.0106 0.0113 0.0157 ...\n",
      " $ coloc_gene             : num  0.748 0.723 0.748 0.723 0.723 ...\n",
      " $ coloc_snp              : num  0.0244 0.04 0.0138 0.0137 0.0192 ...\n",
      " $ rbp_eclip_score.FMR1   : num  0 0 0 0 0 0 0 0 0 0 ...\n",
      " $ rbp_eclip_delta.FMR1   : num  0 0 0 0 0 0 0 0 0 0 ...\n",
      " $ rbp_eclip_score.FUS    : num  0 0 0 0 0 0 0 0 0 0 ...\n",
      " $ rbp_eclip_delta.FUS    : num  0 0 0 0 0 0 0 0 0 0 ...\n",
      " $ rbp_eclip_score.FXR2   : num  0 0 0 0 0 0 0 0 0 0 ...\n",
      " $ rbp_eclip_delta.FXR2   : num  0 0 0 0 0 0 0 0 0 0 ...\n",
      " $ rbp_eclip_score.HNRNPA1: num  6.17 6.17 0 0 2.34 ...\n",
      " $ rbp_eclip_delta.HNRNPA1: num  2.43 2.43 0 0 4.14 ...\n",
      " $ rbp_eclip_score.HNRNPL : num  0 0 6.77 6.77 0 ...\n",
      " $ rbp_eclip_delta.HNRNPL : num  0 0 8.36 8.36 0 ...\n",
      " $ rbp_eclip_score.RBM5   : num  0 0 0 0 0 0 0 0 0 0 ...\n",
      " $ rbp_eclip_delta.RBM5   : num  0 0 0 0 0 0 0 0 0 0 ...\n",
      " $ rbp_eclip_score.SRSF7  : num  0 0 0 0 0 0 0 0 0 0 ...\n",
      " $ rbp_eclip_delta.SRSF7  : num  0 0 0 0 0 0 0 0 0 0 ...\n",
      " $ rbp_eclip_score        : num  6.17 6.17 6.77 6.77 2.34 ...\n",
      " $ rbp_eclip_delta        : num  2.43 2.43 8.36 8.36 4.14 ...\n"
     ]
    }
   ],
   "source": [
    "str(x)"
   ]
  },
  {
   "cell_type": "code",
   "execution_count": null,
   "metadata": {},
   "outputs": [],
   "source": []
  }
 ],
 "metadata": {
  "kernelspec": {
   "display_name": "R 4.0.1",
   "language": "R",
   "name": "ir401"
  },
  "language_info": {
   "codemirror_mode": "r",
   "file_extension": ".r",
   "mimetype": "text/x-r-source",
   "name": "R",
   "pygments_lexer": "r",
   "version": "4.0.1"
  }
 },
 "nbformat": 4,
 "nbformat_minor": 2
}
