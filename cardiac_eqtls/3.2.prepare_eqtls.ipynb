{
 "cells": [
  {
   "cell_type": "code",
   "execution_count": 1,
   "metadata": {},
   "outputs": [],
   "source": [
    "setwd(\"/frazer01/projects/CARDIPS/analysis/cardiac_eqtls\")\n",
    "\n",
    "source(\"script/packages.R\"  )\n",
    "source(\"script/input_data.R\")\n",
    "source(\"script/functions.R\" )\n"
   ]
  },
  {
   "cell_type": "code",
   "execution_count": 2,
   "metadata": {},
   "outputs": [],
   "source": [
    "covs2qtl = add_rownames(fread(\"pipeline/3.1.covariates/covariates.txt\", sep = \"\\t\", header = TRUE, data.table = FALSE))\n"
   ]
  },
  {
   "cell_type": "markdown",
   "metadata": {},
   "source": [
    "# Prepare eQTLs:\n",
    "- define covariates and save to text\n",
    "- run eQTL analysis"
   ]
  },
  {
   "cell_type": "code",
   "execution_count": 3,
   "metadata": {},
   "outputs": [],
   "source": [
    "covs_standard = c(\"sex\", \"total_reads_norm\", \"uniquely_mapped_reads_to_canonical_chromsomes\", \"mitochondrial_reads\", paste(\"pc\", 1:20, sep = \"\"))"
   ]
  },
  {
   "cell_type": "code",
   "execution_count": 4,
   "metadata": {},
   "outputs": [],
   "source": [
    "gene_ids = readLines(\"pipeline/1.2.expression/tpm_gene.gene_ids.txt\")\n",
    "gene_ids = data.frame(gene_id = gene_ids, n = 1:length(gene_ids))\n"
   ]
  },
  {
   "cell_type": "code",
   "execution_count": 5,
   "metadata": {},
   "outputs": [],
   "source": [
    "iso_ids = readLines(\"pipeline/1.2.expression/use_isoform.gene_ids.txt\")\n",
    "iso_ids = data.frame(gene_id = iso_ids, n = 1:length(iso_ids))\n"
   ]
  },
  {
   "cell_type": "markdown",
   "metadata": {},
   "source": [
    "## Prepare variables for interaction test\n",
    "- for test: only use a small subset\n",
    "- for the real analysis: use all"
   ]
  },
  {
   "cell_type": "code",
   "execution_count": 6,
   "metadata": {},
   "outputs": [],
   "source": [
    "covariates        = colnames(add_rownames(fread    (\"pipeline/3.1.covariates/covariates.txt\", sep = \"\\t\", header = TRUE , data.table = FALSE)))\n"
   ]
  },
  {
   "cell_type": "code",
   "execution_count": 7,
   "metadata": {},
   "outputs": [],
   "source": [
    "toint_test = c('ipsc_cvpc', 'heart', 'arteria')\n",
    "toint_real = covariates[grepl(\"cibersort.regular\", covariates) == TRUE | \n",
    "                        grepl(\"heart\"    , covariates) == TRUE | \n",
    "                        grepl(\"arteria\"  , covariates) == TRUE | \n",
    "                        grepl(\"ipsc_cvpc\", covariates) == TRUE]"
   ]
  },
  {
   "cell_type": "code",
   "execution_count": 8,
   "metadata": {},
   "outputs": [],
   "source": [
    "toint_test_file = paste(getwd(), \"pipeline/3.2.eqtls/vars/covariates_to_interaction_test.txt\", sep = \"/\")\n",
    "toint_real_file = paste(getwd(), \"pipeline/3.2.eqtls/vars/covariates_to_interaction.txt\"     , sep = \"/\")\n",
    "\n",
    "writeLines(toint_test, con = toint_test_file, sep = \"\\n\")\n",
    "writeLines(toint_real, con = toint_real_file, sep = \"\\n\")\n"
   ]
  },
  {
   "cell_type": "markdown",
   "metadata": {},
   "source": [
    "## Test different combinations of PEER factors\n",
    "- keep standard covariates\n",
    "- try PEER 20 by 20\n",
    "- select 200 random genes (20 for each expression decile)"
   ]
  },
  {
   "cell_type": "markdown",
   "metadata": {},
   "source": [
    "### Select random genes"
   ]
  },
  {
   "cell_type": "code",
   "execution_count": 9,
   "metadata": {},
   "outputs": [],
   "source": [
    "tpm      = add_rownames(fread(\"pipeline/1.2.expression/tpm_gene.expressed.txt\", sep = \"\\t\", header = TRUE, data.table = FALSE))\n",
    "geneinfo = fread(\"pipeline/1.2.expression/gene_info.txt\", sep = \"\\t\", header = TRUE, data.table = FALSE)\n",
    "tpm      = tpm[geneinfo[geneinfo$chrom %in% paste(\"chr\", 1:22, sep = \"\"), \"gene_id\"],]"
   ]
  },
  {
   "cell_type": "code",
   "execution_count": null,
   "metadata": {},
   "outputs": [],
   "source": [
    "gene2exp           = as.data.frame(rowMeans(tpm))\n",
    "gene2exp$gene_id   = rownames(gene2exp)\n",
    "colnames(gene2exp) = c(\"tpm\", \"gene_id\")\n",
    "deciles            = as.data.frame(quantile(gene2exp$tpm, probs = (0:10)/10))\n",
    "deciles$decile     = as.numeric(gsub(\"%\", \"\", rownames(deciles)))\n",
    "colnames(deciles)  = c(\"tpm\", \"decile\")\n",
    "\n",
    "genes2test         = unlist(lapply(2:nrow(deciles), function(x)\n",
    "{\n",
    "    this = gene2exp[gene2exp$tpm >= deciles[x - 1, \"tpm\"] & gene2exp$tpm <= deciles[x, \"tpm\"], \"gene_id\"]\n",
    "    \n",
    "    set.seed(1)\n",
    "    \n",
    "    return(sample(this, size = 20, replace = FALSE))\n",
    "}))\n",
    "\n",
    "genes2test = gene_ids[gene_ids$gene_id %in% genes2test, ]"
   ]
  },
  {
   "cell_type": "markdown",
   "metadata": {},
   "source": [
    "### Prepare covariate files and run eQTLs on PEER factor number "
   ]
  },
  {
   "cell_type": "code",
   "execution_count": null,
   "metadata": {},
   "outputs": [],
   "source": [
    "file_genes_to_test = paste(getwd(), \"pipeline/3.2.eqtls/genes_to_test.txt\", sep = \"/\")\n",
    "writeLines(genes2test$gene_id, con = file_genes_to_test, sep = \"\\n\")"
   ]
  },
  {
   "cell_type": "code",
   "execution_count": 10,
   "metadata": {},
   "outputs": [],
   "source": [
    "run_eqtls_qsub = function(x)\n",
    "{\n",
    "    writeLines(c(covs_standard, paste(\"peer\", 1:x, sep = \"\")), con = paste(\"pipeline/3.2.eqtls/vars/test_peer\", x, \"txt\", sep = \".\"), sep = \"\\n\")\n",
    "    \n",
    "    name    = paste(\"test_peer\", x, sep = \".\")\n",
    "    sh_file = paste(getwd(), \"pipeline/3.2.eqtls/script\", paste(\"run.3.3\", name, \"gene\", \"sh\", sep = \".\"), sep = \"/\")\n",
    "    \n",
    "    writeLines(text = c(\"#!/usr/bin/sh\",\n",
    "                        \"source /frazer01/home/matteo/.bashrc\",\n",
    "                        paste(\"Rscript\", paste(paste(getwd()       , \"script\", \"3.3.run_eQTLs.R\", sep = \"/\"),\n",
    "                                               \"--taskid\"          , \"$SGE_TASK_ID\",\n",
    "                                               \"--gene_file\"       , file_genes_to_test,\n",
    "                                               \"--interaction_file\", toint_test_file,\n",
    "                                               \"--name\"            , name,\n",
    "                                               \"--analysis\"        , \"gene\")\n",
    "                             )\n",
    "                       ), \n",
    "               con  = sh_file, \n",
    "               sep  = \"\\n\\n\")\n",
    "    \n",
    "    qsub_command = paste(\"qsub\",\n",
    "                         \"-t\", paste(1, \"-\", nrow(genes2test), \":1\", sep = \"\"),\n",
    "                         \"-tc\", 200, \n",
    "                         \"-o\" , paste(getwd(), paste(\"logs/eqtls\", name, \"gene\", \"out\", sep = \".\"), sep = \"/\"),\n",
    "                         \"-e\" , paste(getwd(), paste(\"logs/eqtls\", name, \"gene\", \"err\", sep = \".\"), sep = \"/\"),\n",
    "                         sh_file\n",
    "                        )\n",
    "    \n",
    "    #message(qsub_command)\n",
    "    system(qsub_command)\n",
    "}\n"
   ]
  },
  {
   "cell_type": "markdown",
   "metadata": {},
   "source": [
    "#### first run: every 20 PEER factors"
   ]
  },
  {
   "cell_type": "code",
   "execution_count": null,
   "metadata": {},
   "outputs": [],
   "source": [
    "invisible(lapply(c(5, 10, (1:15) * 20), run_eqtls_qsub))\n"
   ]
  },
  {
   "cell_type": "markdown",
   "metadata": {},
   "source": [
    "#### second run: focus around the best PEER factor combination"
   ]
  },
  {
   "cell_type": "code",
   "execution_count": null,
   "metadata": {},
   "outputs": [],
   "source": [
    "invisible(lapply(c(270, 275, 285, 290), run_eqtls_qsub))\n"
   ]
  },
  {
   "cell_type": "markdown",
   "metadata": {},
   "source": [
    "# Run eQTLs (gene)\n",
    "- 285 PEER factors"
   ]
  },
  {
   "cell_type": "code",
   "execution_count": 11,
   "metadata": {},
   "outputs": [],
   "source": [
    "file_genes    = paste(getwd(), \"pipeline/1.2.expression/tpm_gene.gene_ids.txt\"   , sep = \"/\")\n",
    "file_isoforms = paste(getwd(), \"pipeline/1.2.expression/use_isoform.gene_ids.txt\", sep = \"/\")\n"
   ]
  },
  {
   "cell_type": "code",
   "execution_count": 13,
   "metadata": {},
   "outputs": [
    {
     "name": "stderr",
     "output_type": "stream",
     "text": [
      "qsub -l short -t 1-20647:1 -tc 500 -o /frazer01/projects/CARDIPS/analysis/cardiac_eqtls/logs/eqtls.cardiac_eqtls.gene.out -e /frazer01/projects/CARDIPS/analysis/cardiac_eqtls/logs/eqtls.cardiac_eqtls.gene.err /frazer01/projects/CARDIPS/analysis/cardiac_eqtls/pipeline/3.2.eqtls/script/run.3.3.cardiac_eqtls.gene.sh\n",
      "\n",
      "qsub -l short -t 1-44961:1 -tc 500 -o /frazer01/projects/CARDIPS/analysis/cardiac_eqtls/logs/eqtls.cardiac_eqtls.isoform.out -e /frazer01/projects/CARDIPS/analysis/cardiac_eqtls/logs/eqtls.cardiac_eqtls.isoform.err /frazer01/projects/CARDIPS/analysis/cardiac_eqtls/pipeline/3.2.eqtls/script/run.3.3.cardiac_eqtls.isoform.sh\n",
      "\n"
     ]
    }
   ],
   "source": [
    "run_eqtls_qsub = function(name, analysis_type, x, file_genes, gene_ids, toint_file)\n",
    "{\n",
    "    dir.create(paste(\"pipeline/3.2.eqtls/eqtls_by_gene\", paste(name, analysis_type, sep = \".\"), sep = \"/\"), showWarnings = FALSE)\n",
    "    \n",
    "    writeLines(c(covs_standard, paste(\"peer\", 1:x, sep = \"\")), con = paste(\"pipeline/3.2.eqtls/vars\", paste(name, analysis_type, \"txt\", sep = \".\"), sep = \"/\"), sep = \"\\n\")\n",
    "    \n",
    "    sh_file = paste(getwd(), \"pipeline/3.2.eqtls/script\", paste(\"run.3.3\", name, analysis_type, \"sh\", sep = \".\"), sep = \"/\")\n",
    "    \n",
    "    writeLines(text = c(\"#!/usr/bin/sh\",\n",
    "                        \"source /frazer01/home/matteo/.bashrc\",\n",
    "                        paste(\"Rscript\", paste(paste(getwd()       , \"script\", \"3.3.run_eQTLs.R\", sep = \"/\"),\n",
    "                                               \"--taskid\"          , \"$SGE_TASK_ID\",\n",
    "                                               \"--gene_file\"       , file_genes,\n",
    "                                               \"--interaction_file\", toint_file,\n",
    "                                               \"--name\"            , name,\n",
    "                                               \"--analysis\"        , analysis_type)\n",
    "                             )\n",
    "                       ), \n",
    "               con  = sh_file, \n",
    "               sep  = \"\\n\\n\")\n",
    "    \n",
    "    qsub_command = paste(\"qsub\",\n",
    "                         \"-l\", \"short\",\n",
    "                         \"-t\", paste(1, \"-\", nrow(gene_ids), \":1\", sep = \"\"),\n",
    "                         \"-tc\", 500, \n",
    "                         \"-o\" , paste(getwd(), paste(\"logs/eqtls\", name, analysis_type, \"out\", sep = \".\"), sep = \"/\"),\n",
    "                         \"-e\" , paste(getwd(), paste(\"logs/eqtls\", name, analysis_type, \"err\", sep = \".\"), sep = \"/\"),\n",
    "                         sh_file\n",
    "                        )\n",
    "    \n",
    "    message(qsub_command)\n",
    "    system(qsub_command)\n",
    "}\n",
    "\n",
    "run_eqtls_qsub(\"cardiac_eqtls\", \"gene\"   , 285, file_genes   , gene_ids, toint_real_file) # run all genes\n",
    "run_eqtls_qsub(\"cardiac_eqtls\", \"isoform\",  80, file_isoforms, iso_ids , toint_real_file) # run all isoforms\n"
   ]
  },
  {
   "cell_type": "code",
   "execution_count": 11,
   "metadata": {},
   "outputs": [
    {
     "data": {
      "text/html": [
       "<style>\n",
       ".list-inline {list-style: none; margin:0; padding: 0}\n",
       ".list-inline>li {display: inline-block}\n",
       ".list-inline>li:not(:last-child)::after {content: \"\\00b7\"; padding: 0 .5ex}\n",
       "</style>\n",
       "<ol class=list-inline><li>'cibersort.regular.cardiac_muscle'</li><li>'cibersort.regular.smooth_muscle'</li><li>'cibersort.regular.endocardial'</li><li>'cibersort.regular.immune'</li><li>'cibersort.regular.endothelial'</li><li>'cibersort.regular.fibroblast'</li><li>'cibersort.regular.cardiac_neuron'</li><li>'cibersort.regular.myofibroblast'</li><li>'arteria_aorta'</li><li>'arteria_coronary'</li><li>'heart_atrium'</li><li>'heart_ventricle'</li><li>'ipsc_cvpc'</li><li>'heart'</li><li>'arteria'</li></ol>\n"
      ],
      "text/latex": [
       "\\begin{enumerate*}\n",
       "\\item 'cibersort.regular.cardiac\\_muscle'\n",
       "\\item 'cibersort.regular.smooth\\_muscle'\n",
       "\\item 'cibersort.regular.endocardial'\n",
       "\\item 'cibersort.regular.immune'\n",
       "\\item 'cibersort.regular.endothelial'\n",
       "\\item 'cibersort.regular.fibroblast'\n",
       "\\item 'cibersort.regular.cardiac\\_neuron'\n",
       "\\item 'cibersort.regular.myofibroblast'\n",
       "\\item 'arteria\\_aorta'\n",
       "\\item 'arteria\\_coronary'\n",
       "\\item 'heart\\_atrium'\n",
       "\\item 'heart\\_ventricle'\n",
       "\\item 'ipsc\\_cvpc'\n",
       "\\item 'heart'\n",
       "\\item 'arteria'\n",
       "\\end{enumerate*}\n"
      ],
      "text/markdown": [
       "1. 'cibersort.regular.cardiac_muscle'\n",
       "2. 'cibersort.regular.smooth_muscle'\n",
       "3. 'cibersort.regular.endocardial'\n",
       "4. 'cibersort.regular.immune'\n",
       "5. 'cibersort.regular.endothelial'\n",
       "6. 'cibersort.regular.fibroblast'\n",
       "7. 'cibersort.regular.cardiac_neuron'\n",
       "8. 'cibersort.regular.myofibroblast'\n",
       "9. 'arteria_aorta'\n",
       "10. 'arteria_coronary'\n",
       "11. 'heart_atrium'\n",
       "12. 'heart_ventricle'\n",
       "13. 'ipsc_cvpc'\n",
       "14. 'heart'\n",
       "15. 'arteria'\n",
       "\n",
       "\n"
      ],
      "text/plain": [
       " [1] \"cibersort.regular.cardiac_muscle\" \"cibersort.regular.smooth_muscle\" \n",
       " [3] \"cibersort.regular.endocardial\"    \"cibersort.regular.immune\"        \n",
       " [5] \"cibersort.regular.endothelial\"    \"cibersort.regular.fibroblast\"    \n",
       " [7] \"cibersort.regular.cardiac_neuron\" \"cibersort.regular.myofibroblast\" \n",
       " [9] \"arteria_aorta\"                    \"arteria_coronary\"                \n",
       "[11] \"heart_atrium\"                     \"heart_ventricle\"                 \n",
       "[13] \"ipsc_cvpc\"                        \"heart\"                           \n",
       "[15] \"arteria\"                         "
      ]
     },
     "metadata": {},
     "output_type": "display_data"
    }
   ],
   "source": [
    "toint_real"
   ]
  },
  {
   "cell_type": "code",
   "execution_count": null,
   "metadata": {},
   "outputs": [],
   "source": []
  }
 ],
 "metadata": {
  "kernelspec": {
   "display_name": "R 4.0.1",
   "language": "R",
   "name": "ir401"
  },
  "language_info": {
   "codemirror_mode": "r",
   "file_extension": ".r",
   "mimetype": "text/x-r-source",
   "name": "R",
   "pygments_lexer": "r",
   "version": "4.0.1"
  }
 },
 "nbformat": 4,
 "nbformat_minor": 2
}
