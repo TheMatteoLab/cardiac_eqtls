{
 "cells": [
  {
   "cell_type": "code",
   "execution_count": 1,
   "metadata": {},
   "outputs": [],
   "source": [
    "setwd(\"/frazer01/projects/CARDIPS/analysis/cardiac_eqtls\")\n",
    "\n",
    "source(\"script/packages.R\"  )\n",
    "source(\"script/input_data.R\")\n",
    "source(\"script/functions.R\" )\n"
   ]
  },
  {
   "cell_type": "markdown",
   "metadata": {},
   "source": [
    "# Analysis of differential expression results"
   ]
  },
  {
   "cell_type": "code",
   "execution_count": 2,
   "metadata": {},
   "outputs": [],
   "source": [
    "gene_info               = fread(\"pipeline/1.2.expression/gene_info.txt\"   , sep = \"\\t\", header = TRUE, data.table = FALSE)\n",
    "isof_info               = fread(\"pipeline/1.2.expression//isoform_info.txt\", sep = \"\\t\", header = TRUE, data.table = FALSE)\n",
    "gene_info$transcript_id = gene_info$gene_id"
   ]
  },
  {
   "cell_type": "code",
   "execution_count": null,
   "metadata": {},
   "outputs": [
    {
     "name": "stderr",
     "output_type": "stream",
     "text": [
      "gene_tpm 163144 56078\n",
      "\n",
      "isoform_tpm 306168 71475\n",
      "\n"
     ]
    }
   ],
   "source": [
    "read_diffexp = function(name, gene_info)\n",
    "{\n",
    "    indata               = fread(paste(\"pipeline/4.1.differential_expression\", paste(\"diffexp_cell\", name, \"txt\", sep = \".\"), sep = \"/\"), sep = \"\\t\", header = TRUE, data.table = FALSE)\n",
    "    indata               = merge(gene_info[,c(\"transcript_id\", \"gene_id\", \"gene_name\", \"gene_type\")], indata)\n",
    "    indata$qval          = p.adjust(indata$pval, method = \"bonferroni\")\n",
    "    indata$type          = name\n",
    "    indata               = indata[order(indata$pval),]\n",
    "    \n",
    "    message(paste(name, nrow(indata), nrow(indata[indata$qval < 0.05,])))\n",
    "    return(indata)\n",
    "}\n",
    "\n",
    "diffexp_gene    = read_diffexp(\"gene_tpm\"   , gene_info)\n",
    "diffexp_iso_tpm = read_diffexp(\"isoform_tpm\", isof_info)\n",
    "diffexp_iso_use = read_diffexp(\"isoform_use\", isof_info)\n",
    "diffexp         = rbind(diffexp_gene, diffexp_iso_tpm, diffexp_iso_use)\n",
    "\n",
    "fwrite(diffexp, \"pipeline/4.1.differential_expression/diffexp_cell.txt\", sep = \"\\t\", col.names = TRUE, row.names = FALSE)"
   ]
  },
  {
   "cell_type": "code",
   "execution_count": null,
   "metadata": {},
   "outputs": [],
   "source": [
    "diffexp[diffexp$gene_name == \"ARMCX6\" & diffexp$type == \"gene_tpm\",]"
   ]
  },
  {
   "cell_type": "code",
   "execution_count": null,
   "metadata": {},
   "outputs": [],
   "source": [
    "metadata   =              fread(\"pipeline/3.1.covariates/metadata.txt\"     , sep = \"\\t\", header = TRUE , data.table = FALSE)\n",
    "covariates = add_rownames(fread(\"pipeline/3.1.covariates/covariates.txt\"   , sep = \"\\t\", header = TRUE , data.table = FALSE))\n",
    "int_list   = readLines         (\"pipeline/3.2.eqtls/vars/cardiac_eqtls.gene.txt\")\n",
    "int2_list  = readLines         (\"pipeline/3.2.eqtls/vars/covariates_to_interaction.txt\")\n",
    "covariates = covariates[,unique(c(int_list, int2_list))]\n",
    "gene_tpm   = add_rownames(fread(\"pipeline/1.2.expression/tpm_gene.normalized.txt\"   , sep = \"\\t\", header = TRUE , data.table = FALSE))\n",
    "isof_tpm   = add_rownames(fread(\"pipeline/1.2.expression/tpm_isoform.normalized.txt\", sep = \"\\t\", header = TRUE , data.table = FALSE))\n",
    "isof_use   = add_rownames(fread(\"pipeline/1.2.expression/use_isoform.expressed.txt\" , sep = \"\\t\", header = TRUE , data.table = FALSE))\n"
   ]
  },
  {
   "cell_type": "code",
   "execution_count": null,
   "metadata": {},
   "outputs": [],
   "source": [
    "a = merge(covariates, data.frame(assay_id = colnames(gene_tpm), exp = as.numeric(gene_tpm[\"ENSG00000198960.11_6\",])), by.x = \"row.names\", by.y = \"assay_id\")"
   ]
  },
  {
   "cell_type": "code",
   "execution_count": null,
   "metadata": {},
   "outputs": [],
   "source": [
    "plot(a$cibersort.regular.cardiac_muscle, a$exp)"
   ]
  },
  {
   "cell_type": "code",
   "execution_count": null,
   "metadata": {},
   "outputs": [],
   "source": []
  }
 ],
 "metadata": {
  "kernelspec": {
   "display_name": "R 4.0.1",
   "language": "R",
   "name": "ir401"
  },
  "language_info": {
   "codemirror_mode": "r",
   "file_extension": ".r",
   "mimetype": "text/x-r-source",
   "name": "R",
   "pygments_lexer": "r",
   "version": "4.0.1"
  }
 },
 "nbformat": 4,
 "nbformat_minor": 2
}
