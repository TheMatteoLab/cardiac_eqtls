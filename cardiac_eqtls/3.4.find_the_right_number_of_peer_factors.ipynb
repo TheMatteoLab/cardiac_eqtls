{
 "cells": [
  {
   "cell_type": "code",
   "execution_count": 423,
   "metadata": {},
   "outputs": [],
   "source": [
    "setwd(\"/frazer01/projects/CARDIPS/analysis/cardiac_eqtls\")\n",
    "\n",
    "source(\"script/packages.R\"  )\n",
    "source(\"script/input_data.R\")\n",
    "source(\"script/functions.R\" )\n"
   ]
  },
  {
   "cell_type": "markdown",
   "metadata": {},
   "source": [
    "# Find the right number of PEER factors to run eQTLs"
   ]
  },
  {
   "cell_type": "code",
   "execution_count": 424,
   "metadata": {},
   "outputs": [],
   "source": [
    "totest = list.dirs(path = \"pipeline/3.2.eqtls//eqtls_by_gene\", full.names = FALSE, recursive = FALSE)\n",
    "totest = totest[grepl(\"test_peer\", totest) == TRUE]\n",
    "\n"
   ]
  },
  {
   "cell_type": "code",
   "execution_count": 431,
   "metadata": {},
   "outputs": [
    {
     "data": {
      "text/html": [
       "<style>\n",
       ".list-inline {list-style: none; margin:0; padding: 0}\n",
       ".list-inline>li {display: inline-block}\n",
       ".list-inline>li:not(:last-child)::after {content: \"\\00b7\"; padding: 0 .5ex}\n",
       "</style>\n",
       "<ol class=list-inline><li>'test_peer.10.gene'</li><li>'test_peer.100.gene'</li><li>'test_peer.120.gene'</li><li>'test_peer.140.gene'</li><li>'test_peer.160.gene'</li><li>'test_peer.180.gene'</li><li>'test_peer.20.gene'</li><li>'test_peer.200.gene'</li><li>'test_peer.220.gene'</li><li>'test_peer.240.gene'</li><li>'test_peer.260.gene'</li><li>'test_peer.270.gene'</li><li>'test_peer.275.gene'</li><li>'test_peer.280.gene'</li><li>'test_peer.285.gene'</li><li>'test_peer.290.gene'</li><li>'test_peer.300.gene'</li><li>'test_peer.40.gene'</li><li>'test_peer.5.gene'</li><li>'test_peer.60.gene'</li><li>'test_peer.80.gene'</li></ol>\n"
      ],
      "text/latex": [
       "\\begin{enumerate*}\n",
       "\\item 'test\\_peer.10.gene'\n",
       "\\item 'test\\_peer.100.gene'\n",
       "\\item 'test\\_peer.120.gene'\n",
       "\\item 'test\\_peer.140.gene'\n",
       "\\item 'test\\_peer.160.gene'\n",
       "\\item 'test\\_peer.180.gene'\n",
       "\\item 'test\\_peer.20.gene'\n",
       "\\item 'test\\_peer.200.gene'\n",
       "\\item 'test\\_peer.220.gene'\n",
       "\\item 'test\\_peer.240.gene'\n",
       "\\item 'test\\_peer.260.gene'\n",
       "\\item 'test\\_peer.270.gene'\n",
       "\\item 'test\\_peer.275.gene'\n",
       "\\item 'test\\_peer.280.gene'\n",
       "\\item 'test\\_peer.285.gene'\n",
       "\\item 'test\\_peer.290.gene'\n",
       "\\item 'test\\_peer.300.gene'\n",
       "\\item 'test\\_peer.40.gene'\n",
       "\\item 'test\\_peer.5.gene'\n",
       "\\item 'test\\_peer.60.gene'\n",
       "\\item 'test\\_peer.80.gene'\n",
       "\\end{enumerate*}\n"
      ],
      "text/markdown": [
       "1. 'test_peer.10.gene'\n",
       "2. 'test_peer.100.gene'\n",
       "3. 'test_peer.120.gene'\n",
       "4. 'test_peer.140.gene'\n",
       "5. 'test_peer.160.gene'\n",
       "6. 'test_peer.180.gene'\n",
       "7. 'test_peer.20.gene'\n",
       "8. 'test_peer.200.gene'\n",
       "9. 'test_peer.220.gene'\n",
       "10. 'test_peer.240.gene'\n",
       "11. 'test_peer.260.gene'\n",
       "12. 'test_peer.270.gene'\n",
       "13. 'test_peer.275.gene'\n",
       "14. 'test_peer.280.gene'\n",
       "15. 'test_peer.285.gene'\n",
       "16. 'test_peer.290.gene'\n",
       "17. 'test_peer.300.gene'\n",
       "18. 'test_peer.40.gene'\n",
       "19. 'test_peer.5.gene'\n",
       "20. 'test_peer.60.gene'\n",
       "21. 'test_peer.80.gene'\n",
       "\n",
       "\n"
      ],
      "text/plain": [
       " [1] \"test_peer.10.gene\"  \"test_peer.100.gene\" \"test_peer.120.gene\"\n",
       " [4] \"test_peer.140.gene\" \"test_peer.160.gene\" \"test_peer.180.gene\"\n",
       " [7] \"test_peer.20.gene\"  \"test_peer.200.gene\" \"test_peer.220.gene\"\n",
       "[10] \"test_peer.240.gene\" \"test_peer.260.gene\" \"test_peer.270.gene\"\n",
       "[13] \"test_peer.275.gene\" \"test_peer.280.gene\" \"test_peer.285.gene\"\n",
       "[16] \"test_peer.290.gene\" \"test_peer.300.gene\" \"test_peer.40.gene\" \n",
       "[19] \"test_peer.5.gene\"   \"test_peer.60.gene\"  \"test_peer.80.gene\" "
      ]
     },
     "metadata": {},
     "output_type": "display_data"
    }
   ],
   "source": [
    "totest"
   ]
  },
  {
   "cell_type": "code",
   "execution_count": 425,
   "metadata": {},
   "outputs": [],
   "source": [
    "geneinfo = fread(\"pipeline/1.2.expression/gene_info.txt\"   , sep = \"\\t\", header = TRUE , data.table = FALSE)\n",
    "isoinfo  = fread(\"pipeline/1.2.expression/isoform_info.txt\", sep = \"\\t\", header = TRUE , data.table = FALSE)\n"
   ]
  },
  {
   "cell_type": "code",
   "execution_count": 426,
   "metadata": {},
   "outputs": [],
   "source": [
    "qtl_list        = lapply(totest, function(folder){merge_qtls(folder, geneinfo)})\n",
    "names(qtl_list) = totest"
   ]
  },
  {
   "cell_type": "code",
   "execution_count": 427,
   "metadata": {},
   "outputs": [],
   "source": [
    "peer2qtl = as.data.frame(rbindlist(lapply(totest, function(folder)\n",
    "{\n",
    "    x   = qtl_list[[folder]]\n",
    "    out = data.frame(peer         = as.numeric(unlist(strsplit(folder, \"\\\\.\"))[[2]]),\n",
    "                     tested_genes = length(unique(x$transcript_id))\n",
    "                    )\n",
    "    \n",
    "    for(type in 0:5)\n",
    "    {\n",
    "        out[,paste(\"type\", type, sep = \"_\")] = nrow(x[x$egene == TRUE & x$type == type,])\n",
    "    }\n",
    "    \n",
    "    return(out)\n",
    "})), stringsAsFactors = FALSE)\n",
    "\n",
    "peer2qtl = peer2qtl[order(peer2qtl$peer),]"
   ]
  },
  {
   "cell_type": "code",
   "execution_count": 428,
   "metadata": {},
   "outputs": [],
   "source": [
    "peer2qtl$egenes = peer2qtl$type_0 / peer2qtl$tested_genes * 100\n",
    "peer2qtl$top    = FALSE\n",
    "peer2qtl$color  = \"#cccccc\"\n",
    "peer2qtl$cex    = 1\n",
    "\n",
    "peer2qtl[which.max(peer2qtl$egenes), \"top\"  ] = TRUE\n",
    "peer2qtl[which.max(peer2qtl$egenes), \"color\"] = \"#ff0000\"\n",
    "peer2qtl[which.max(peer2qtl$egenes), \"cex\"  ] = 2"
   ]
  },
  {
   "cell_type": "code",
   "execution_count": 429,
   "metadata": {},
   "outputs": [
    {
     "data": {
      "image/png": "[encoded data removed]",
      "text/plain": [
       "plot without title"
      ]
     },
     "metadata": {
      "image/png": {
       "height": 420,
       "width": 420
      },
      "text/plain": {
       "height": 420,
       "width": 420
      }
     },
     "output_type": "display_data"
    }
   ],
   "source": [
    "plot(peer2qtl$peer, peer2qtl$egenes, xlim = c(0,max(peer2qtl$peer)), ylim = c(0, max(peer2qtl$egenes)), pch = 21, cex = peer2qtl$cex, col = \"#000000\", bg = peer2qtl$color, xlab = \"\", ylab = \"\")\n",
    "\n",
    "mtext(text = \"eGenes (%)\"      , side = 2, line = 2.5)\n",
    "mtext(text = \"PEER factors (N)\", side = 1, line = 2.5)\n",
    "\n",
    "abline(v = peer2qtl[peer2qtl$top == TRUE, \"peer\"], lty = \"dashed\", col = \"#ff0000\", lwd = 2)\n",
    "\n",
    "axis(1, at = peer2qtl[peer2qtl$top == TRUE, \"peer\"], col = \"#ff0000\", col.axis = \"#ff0000\")"
   ]
  },
  {
   "cell_type": "code",
   "execution_count": 430,
   "metadata": {},
   "outputs": [
    {
     "data": {
      "text/html": [
       "<table>\n",
       "<caption>A data.frame: 21 × 12</caption>\n",
       "<thead>\n",
       "\t<tr><th></th><th scope=col>peer</th><th scope=col>tested_genes</th><th scope=col>type_0</th><th scope=col>type_1</th><th scope=col>type_2</th><th scope=col>type_3</th><th scope=col>type_4</th><th scope=col>type_5</th><th scope=col>egenes</th><th scope=col>top</th><th scope=col>color</th><th scope=col>cex</th></tr>\n",
       "\t<tr><th></th><th scope=col>&lt;dbl&gt;</th><th scope=col>&lt;int&gt;</th><th scope=col>&lt;int&gt;</th><th scope=col>&lt;int&gt;</th><th scope=col>&lt;int&gt;</th><th scope=col>&lt;int&gt;</th><th scope=col>&lt;int&gt;</th><th scope=col>&lt;int&gt;</th><th scope=col>&lt;dbl&gt;</th><th scope=col>&lt;lgl&gt;</th><th scope=col>&lt;chr&gt;</th><th scope=col>&lt;dbl&gt;</th></tr>\n",
       "</thead>\n",
       "<tbody>\n",
       "\t<tr><th scope=row>19</th><td>  5</td><td>200</td><td> 70</td><td>14</td><td> 2</td><td>0</td><td>0</td><td>0</td><td>35.00000</td><td>FALSE</td><td>#cccccc</td><td>1</td></tr>\n",
       "\t<tr><th scope=row>1</th><td> 10</td><td>200</td><td> 72</td><td>15</td><td> 0</td><td>0</td><td>0</td><td>0</td><td>36.00000</td><td>FALSE</td><td>#cccccc</td><td>1</td></tr>\n",
       "\t<tr><th scope=row>7</th><td> 20</td><td>200</td><td> 72</td><td>20</td><td> 3</td><td>0</td><td>0</td><td>0</td><td>36.00000</td><td>FALSE</td><td>#cccccc</td><td>1</td></tr>\n",
       "\t<tr><th scope=row>18</th><td> 40</td><td>200</td><td> 61</td><td> 9</td><td> 1</td><td>0</td><td>0</td><td>0</td><td>30.50000</td><td>FALSE</td><td>#cccccc</td><td>1</td></tr>\n",
       "\t<tr><th scope=row>20</th><td> 60</td><td>200</td><td> 72</td><td>18</td><td> 0</td><td>0</td><td>0</td><td>0</td><td>36.00000</td><td>FALSE</td><td>#cccccc</td><td>1</td></tr>\n",
       "\t<tr><th scope=row>21</th><td> 80</td><td>200</td><td>102</td><td>26</td><td> 7</td><td>3</td><td>0</td><td>0</td><td>51.00000</td><td>FALSE</td><td>#cccccc</td><td>1</td></tr>\n",
       "\t<tr><th scope=row>2</th><td>100</td><td>200</td><td> 92</td><td>36</td><td> 4</td><td>2</td><td>0</td><td>0</td><td>46.00000</td><td>FALSE</td><td>#cccccc</td><td>1</td></tr>\n",
       "\t<tr><th scope=row>3</th><td>120</td><td>200</td><td> 99</td><td>28</td><td> 2</td><td>2</td><td>0</td><td>0</td><td>49.50000</td><td>FALSE</td><td>#cccccc</td><td>1</td></tr>\n",
       "\t<tr><th scope=row>4</th><td>140</td><td>199</td><td>102</td><td>29</td><td> 8</td><td>0</td><td>0</td><td>0</td><td>51.25628</td><td>FALSE</td><td>#cccccc</td><td>1</td></tr>\n",
       "\t<tr><th scope=row>5</th><td>160</td><td>200</td><td>108</td><td>33</td><td> 6</td><td>1</td><td>0</td><td>0</td><td>54.00000</td><td>FALSE</td><td>#cccccc</td><td>1</td></tr>\n",
       "\t<tr><th scope=row>6</th><td>180</td><td>200</td><td>119</td><td>38</td><td> 6</td><td>3</td><td>0</td><td>0</td><td>59.50000</td><td>FALSE</td><td>#cccccc</td><td>1</td></tr>\n",
       "\t<tr><th scope=row>8</th><td>200</td><td>200</td><td>126</td><td>51</td><td>10</td><td>5</td><td>1</td><td>0</td><td>63.00000</td><td>FALSE</td><td>#cccccc</td><td>1</td></tr>\n",
       "\t<tr><th scope=row>9</th><td>220</td><td>200</td><td>127</td><td>47</td><td>11</td><td>5</td><td>0</td><td>0</td><td>63.50000</td><td>FALSE</td><td>#cccccc</td><td>1</td></tr>\n",
       "\t<tr><th scope=row>10</th><td>240</td><td>200</td><td>132</td><td>47</td><td>11</td><td>1</td><td>0</td><td>0</td><td>66.00000</td><td>FALSE</td><td>#cccccc</td><td>1</td></tr>\n",
       "\t<tr><th scope=row>11</th><td>260</td><td>200</td><td>138</td><td>49</td><td>14</td><td>5</td><td>3</td><td>0</td><td>69.00000</td><td>FALSE</td><td>#cccccc</td><td>1</td></tr>\n",
       "\t<tr><th scope=row>12</th><td>270</td><td>200</td><td>137</td><td>66</td><td>20</td><td>3</td><td>0</td><td>0</td><td>68.50000</td><td>FALSE</td><td>#cccccc</td><td>1</td></tr>\n",
       "\t<tr><th scope=row>13</th><td>275</td><td>200</td><td>133</td><td>61</td><td>23</td><td>3</td><td>0</td><td>0</td><td>66.50000</td><td>FALSE</td><td>#cccccc</td><td>1</td></tr>\n",
       "\t<tr><th scope=row>14</th><td>280</td><td>200</td><td>145</td><td>62</td><td>26</td><td>2</td><td>0</td><td>0</td><td>72.50000</td><td>FALSE</td><td>#cccccc</td><td>1</td></tr>\n",
       "\t<tr><th scope=row>15</th><td>285</td><td>200</td><td>148</td><td>71</td><td>27</td><td>7</td><td>0</td><td>0</td><td>74.00000</td><td> TRUE</td><td>#ff0000</td><td>2</td></tr>\n",
       "\t<tr><th scope=row>16</th><td>290</td><td>200</td><td>143</td><td>54</td><td>18</td><td>6</td><td>1</td><td>0</td><td>71.50000</td><td>FALSE</td><td>#cccccc</td><td>1</td></tr>\n",
       "\t<tr><th scope=row>17</th><td>300</td><td>200</td><td>143</td><td>68</td><td>19</td><td>9</td><td>0</td><td>0</td><td>71.50000</td><td>FALSE</td><td>#cccccc</td><td>1</td></tr>\n",
       "</tbody>\n",
       "</table>\n"
      ],
      "text/latex": [
       "A data.frame: 21 × 12\n",
       "\\begin{tabular}{r|llllllllllll}\n",
       "  & peer & tested\\_genes & type\\_0 & type\\_1 & type\\_2 & type\\_3 & type\\_4 & type\\_5 & egenes & top & color & cex\\\\\n",
       "  & <dbl> & <int> & <int> & <int> & <int> & <int> & <int> & <int> & <dbl> & <lgl> & <chr> & <dbl>\\\\\n",
       "\\hline\n",
       "\t19 &   5 & 200 &  70 & 14 &  2 & 0 & 0 & 0 & 35.00000 & FALSE & \\#cccccc & 1\\\\\n",
       "\t1 &  10 & 200 &  72 & 15 &  0 & 0 & 0 & 0 & 36.00000 & FALSE & \\#cccccc & 1\\\\\n",
       "\t7 &  20 & 200 &  72 & 20 &  3 & 0 & 0 & 0 & 36.00000 & FALSE & \\#cccccc & 1\\\\\n",
       "\t18 &  40 & 200 &  61 &  9 &  1 & 0 & 0 & 0 & 30.50000 & FALSE & \\#cccccc & 1\\\\\n",
       "\t20 &  60 & 200 &  72 & 18 &  0 & 0 & 0 & 0 & 36.00000 & FALSE & \\#cccccc & 1\\\\\n",
       "\t21 &  80 & 200 & 102 & 26 &  7 & 3 & 0 & 0 & 51.00000 & FALSE & \\#cccccc & 1\\\\\n",
       "\t2 & 100 & 200 &  92 & 36 &  4 & 2 & 0 & 0 & 46.00000 & FALSE & \\#cccccc & 1\\\\\n",
       "\t3 & 120 & 200 &  99 & 28 &  2 & 2 & 0 & 0 & 49.50000 & FALSE & \\#cccccc & 1\\\\\n",
       "\t4 & 140 & 199 & 102 & 29 &  8 & 0 & 0 & 0 & 51.25628 & FALSE & \\#cccccc & 1\\\\\n",
       "\t5 & 160 & 200 & 108 & 33 &  6 & 1 & 0 & 0 & 54.00000 & FALSE & \\#cccccc & 1\\\\\n",
       "\t6 & 180 & 200 & 119 & 38 &  6 & 3 & 0 & 0 & 59.50000 & FALSE & \\#cccccc & 1\\\\\n",
       "\t8 & 200 & 200 & 126 & 51 & 10 & 5 & 1 & 0 & 63.00000 & FALSE & \\#cccccc & 1\\\\\n",
       "\t9 & 220 & 200 & 127 & 47 & 11 & 5 & 0 & 0 & 63.50000 & FALSE & \\#cccccc & 1\\\\\n",
       "\t10 & 240 & 200 & 132 & 47 & 11 & 1 & 0 & 0 & 66.00000 & FALSE & \\#cccccc & 1\\\\\n",
       "\t11 & 260 & 200 & 138 & 49 & 14 & 5 & 3 & 0 & 69.00000 & FALSE & \\#cccccc & 1\\\\\n",
       "\t12 & 270 & 200 & 137 & 66 & 20 & 3 & 0 & 0 & 68.50000 & FALSE & \\#cccccc & 1\\\\\n",
       "\t13 & 275 & 200 & 133 & 61 & 23 & 3 & 0 & 0 & 66.50000 & FALSE & \\#cccccc & 1\\\\\n",
       "\t14 & 280 & 200 & 145 & 62 & 26 & 2 & 0 & 0 & 72.50000 & FALSE & \\#cccccc & 1\\\\\n",
       "\t15 & 285 & 200 & 148 & 71 & 27 & 7 & 0 & 0 & 74.00000 &  TRUE & \\#ff0000 & 2\\\\\n",
       "\t16 & 290 & 200 & 143 & 54 & 18 & 6 & 1 & 0 & 71.50000 & FALSE & \\#cccccc & 1\\\\\n",
       "\t17 & 300 & 200 & 143 & 68 & 19 & 9 & 0 & 0 & 71.50000 & FALSE & \\#cccccc & 1\\\\\n",
       "\\end{tabular}\n"
      ],
      "text/markdown": [
       "\n",
       "A data.frame: 21 × 12\n",
       "\n",
       "| <!--/--> | peer &lt;dbl&gt; | tested_genes &lt;int&gt; | type_0 &lt;int&gt; | type_1 &lt;int&gt; | type_2 &lt;int&gt; | type_3 &lt;int&gt; | type_4 &lt;int&gt; | type_5 &lt;int&gt; | egenes &lt;dbl&gt; | top &lt;lgl&gt; | color &lt;chr&gt; | cex &lt;dbl&gt; |\n",
       "|---|---|---|---|---|---|---|---|---|---|---|---|---|\n",
       "| 19 |   5 | 200 |  70 | 14 |  2 | 0 | 0 | 0 | 35.00000 | FALSE | #cccccc | 1 |\n",
       "| 1 |  10 | 200 |  72 | 15 |  0 | 0 | 0 | 0 | 36.00000 | FALSE | #cccccc | 1 |\n",
       "| 7 |  20 | 200 |  72 | 20 |  3 | 0 | 0 | 0 | 36.00000 | FALSE | #cccccc | 1 |\n",
       "| 18 |  40 | 200 |  61 |  9 |  1 | 0 | 0 | 0 | 30.50000 | FALSE | #cccccc | 1 |\n",
       "| 20 |  60 | 200 |  72 | 18 |  0 | 0 | 0 | 0 | 36.00000 | FALSE | #cccccc | 1 |\n",
       "| 21 |  80 | 200 | 102 | 26 |  7 | 3 | 0 | 0 | 51.00000 | FALSE | #cccccc | 1 |\n",
       "| 2 | 100 | 200 |  92 | 36 |  4 | 2 | 0 | 0 | 46.00000 | FALSE | #cccccc | 1 |\n",
       "| 3 | 120 | 200 |  99 | 28 |  2 | 2 | 0 | 0 | 49.50000 | FALSE | #cccccc | 1 |\n",
       "| 4 | 140 | 199 | 102 | 29 |  8 | 0 | 0 | 0 | 51.25628 | FALSE | #cccccc | 1 |\n",
       "| 5 | 160 | 200 | 108 | 33 |  6 | 1 | 0 | 0 | 54.00000 | FALSE | #cccccc | 1 |\n",
       "| 6 | 180 | 200 | 119 | 38 |  6 | 3 | 0 | 0 | 59.50000 | FALSE | #cccccc | 1 |\n",
       "| 8 | 200 | 200 | 126 | 51 | 10 | 5 | 1 | 0 | 63.00000 | FALSE | #cccccc | 1 |\n",
       "| 9 | 220 | 200 | 127 | 47 | 11 | 5 | 0 | 0 | 63.50000 | FALSE | #cccccc | 1 |\n",
       "| 10 | 240 | 200 | 132 | 47 | 11 | 1 | 0 | 0 | 66.00000 | FALSE | #cccccc | 1 |\n",
       "| 11 | 260 | 200 | 138 | 49 | 14 | 5 | 3 | 0 | 69.00000 | FALSE | #cccccc | 1 |\n",
       "| 12 | 270 | 200 | 137 | 66 | 20 | 3 | 0 | 0 | 68.50000 | FALSE | #cccccc | 1 |\n",
       "| 13 | 275 | 200 | 133 | 61 | 23 | 3 | 0 | 0 | 66.50000 | FALSE | #cccccc | 1 |\n",
       "| 14 | 280 | 200 | 145 | 62 | 26 | 2 | 0 | 0 | 72.50000 | FALSE | #cccccc | 1 |\n",
       "| 15 | 285 | 200 | 148 | 71 | 27 | 7 | 0 | 0 | 74.00000 |  TRUE | #ff0000 | 2 |\n",
       "| 16 | 290 | 200 | 143 | 54 | 18 | 6 | 1 | 0 | 71.50000 | FALSE | #cccccc | 1 |\n",
       "| 17 | 300 | 200 | 143 | 68 | 19 | 9 | 0 | 0 | 71.50000 | FALSE | #cccccc | 1 |\n",
       "\n"
      ],
      "text/plain": [
       "   peer tested_genes type_0 type_1 type_2 type_3 type_4 type_5 egenes   top  \n",
       "19   5  200           70    14      2     0      0      0      35.00000 FALSE\n",
       "1   10  200           72    15      0     0      0      0      36.00000 FALSE\n",
       "7   20  200           72    20      3     0      0      0      36.00000 FALSE\n",
       "18  40  200           61     9      1     0      0      0      30.50000 FALSE\n",
       "20  60  200           72    18      0     0      0      0      36.00000 FALSE\n",
       "21  80  200          102    26      7     3      0      0      51.00000 FALSE\n",
       "2  100  200           92    36      4     2      0      0      46.00000 FALSE\n",
       "3  120  200           99    28      2     2      0      0      49.50000 FALSE\n",
       "4  140  199          102    29      8     0      0      0      51.25628 FALSE\n",
       "5  160  200          108    33      6     1      0      0      54.00000 FALSE\n",
       "6  180  200          119    38      6     3      0      0      59.50000 FALSE\n",
       "8  200  200          126    51     10     5      1      0      63.00000 FALSE\n",
       "9  220  200          127    47     11     5      0      0      63.50000 FALSE\n",
       "10 240  200          132    47     11     1      0      0      66.00000 FALSE\n",
       "11 260  200          138    49     14     5      3      0      69.00000 FALSE\n",
       "12 270  200          137    66     20     3      0      0      68.50000 FALSE\n",
       "13 275  200          133    61     23     3      0      0      66.50000 FALSE\n",
       "14 280  200          145    62     26     2      0      0      72.50000 FALSE\n",
       "15 285  200          148    71     27     7      0      0      74.00000  TRUE\n",
       "16 290  200          143    54     18     6      1      0      71.50000 FALSE\n",
       "17 300  200          143    68     19     9      0      0      71.50000 FALSE\n",
       "   color   cex\n",
       "19 #cccccc 1  \n",
       "1  #cccccc 1  \n",
       "7  #cccccc 1  \n",
       "18 #cccccc 1  \n",
       "20 #cccccc 1  \n",
       "21 #cccccc 1  \n",
       "2  #cccccc 1  \n",
       "3  #cccccc 1  \n",
       "4  #cccccc 1  \n",
       "5  #cccccc 1  \n",
       "6  #cccccc 1  \n",
       "8  #cccccc 1  \n",
       "9  #cccccc 1  \n",
       "10 #cccccc 1  \n",
       "11 #cccccc 1  \n",
       "12 #cccccc 1  \n",
       "13 #cccccc 1  \n",
       "14 #cccccc 1  \n",
       "15 #ff0000 2  \n",
       "16 #cccccc 1  \n",
       "17 #cccccc 1  "
      ]
     },
     "metadata": {},
     "output_type": "display_data"
    }
   ],
   "source": [
    "peer2qtl"
   ]
  },
  {
   "cell_type": "code",
   "execution_count": null,
   "metadata": {},
   "outputs": [],
   "source": []
  }
 ],
 "metadata": {
  "kernelspec": {
   "display_name": "R 4.0.1",
   "language": "R",
   "name": "ir401"
  },
  "language_info": {
   "codemirror_mode": "r",
   "file_extension": ".r",
   "mimetype": "text/x-r-source",
   "name": "R",
   "pygments_lexer": "r",
   "version": "4.0.1"
  }
 },
 "nbformat": 4,
 "nbformat_minor": 2
}
