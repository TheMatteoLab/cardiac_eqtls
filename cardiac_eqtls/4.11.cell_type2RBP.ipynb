{
 "cells": [
  {
   "cell_type": "code",
   "execution_count": 1,
   "metadata": {},
   "outputs": [],
   "source": [
    "setwd(\"/frazer01/projects/CARDIPS/analysis/cardiac_eqtls\")\n",
    "\n",
    "source(\"script/packages.R\"  )\n",
    "source(\"script/input_data.R\")\n",
    "source(\"script/functions.R\" )\n",
    "source(\"script/colors.R\"    )\n"
   ]
  },
  {
   "cell_type": "code",
   "execution_count": 2,
   "metadata": {},
   "outputs": [],
   "source": [
    "dir.create(\"pipeline/4.10.diffexp_eclip_enrichment\"    , showWarnings = FALSE)\n",
    "dir.create(\"pipeline/4.10.diffexp_eclip_enrichment/tmp\", showWarnings = FALSE)\n"
   ]
  },
  {
   "cell_type": "code",
   "execution_count": 3,
   "metadata": {},
   "outputs": [],
   "source": [
    "geneinfo_genes    = fread(\"pipeline/1.2.expression/gene_info.txt\"   , sep = \"\\t\", header = TRUE , data.table = FALSE)\n",
    "geneinfo_isoforms = fread(\"pipeline/1.2.expression/isoform_info.txt\", sep = \"\\t\", header = TRUE , data.table = FALSE)\n"
   ]
  },
  {
   "cell_type": "code",
   "execution_count": 11,
   "metadata": {},
   "outputs": [],
   "source": [
    "diffgene = fread(paste(\"pipeline/4.1.differential_expression\", \"diffexp.txt\"     , sep = \"/\"), sep = \"\\t\", header = TRUE, data.table = FALSE)\n",
    "diffcell = fread(paste(\"pipeline/4.1.differential_expression\", \"diffexp_cell.txt\", sep = \"/\"), sep = \"\\t\", header = TRUE, data.table = FALSE)\n",
    "\n",
    "diffcell$cell_type = gsub(\"cibersort.regular\\\\.\", \"\", diffcell$cell_type)\n",
    "\n",
    "diffgene_gene = diffgene[diffgene$type == \"gene_tpm\",]\n",
    "diffcell_gene = diffcell[diffcell$type == \"gene_tpm\",]\n",
    "\n",
    "diffgene = diffgene[diffgene$type == \"isoform_use\",]\n",
    "diffcell = diffcell[diffcell$type == \"isoform_use\",]\n",
    "\n",
    "\n"
   ]
  },
  {
   "cell_type": "code",
   "execution_count": 5,
   "metadata": {},
   "outputs": [],
   "source": [
    "eclip_folder = \"/frazer01/home/tarthur/projects/CARDIPS/fine_mapping/analysis/garfield/bfiles/2020-10-26-rbp_annotation_prep/intersection_results\"\n",
    "eclip_in     = list.files(eclip_folder, pattern = \"_merged_sorted.bed\")\n",
    "eclip_files  = data.frame(file  = paste(eclip_folder, eclip_in, sep = \"/\"), \n",
    "                          eclip = gsub(\"_merged_sorted.bed\", \"\", eclip_in), \n",
    "                          rbp   = unlist(lapply(eclip_in, function(x){unlist(strsplit(x, \"_\"))[[1]]})),\n",
    "                          cell  = unlist(lapply(eclip_in, function(x){unlist(strsplit(x, \"_\"))[[2]]}))\n",
    "                         )"
   ]
  },
  {
   "cell_type": "code",
   "execution_count": 6,
   "metadata": {},
   "outputs": [],
   "source": [
    "eclip2gene = readRDS(\"pipeline/4.10.diffexp_eclip_enrichment/eclip2gene.rds\")"
   ]
  },
  {
   "cell_type": "markdown",
   "metadata": {},
   "source": [
    "# Test if RBPs associated with a cell type have their targets associated with that cell type"
   ]
  },
  {
   "cell_type": "code",
   "execution_count": 62,
   "metadata": {},
   "outputs": [
    {
     "name": "stderr",
     "output_type": "stream",
     "text": [
      "cardiac_muscle\n",
      "\n",
      "cardiac_neuron\n",
      "\n",
      "endocardial\n",
      "\n",
      "endothelial\n",
      "\n",
      "fibroblast\n",
      "\n",
      "immune\n",
      "\n",
      "myofibroblast\n",
      "\n",
      "smooth_muscle\n",
      "\n"
     ]
    }
   ],
   "source": [
    "test_enrichment_targets = function(cell, eclip, diffcell, eclip2gene, perms = 100)\n",
    "{\n",
    "    #message(paste(cell, eclip))\n",
    "    \n",
    "    eclip_targets   = eclip2gene[[eclip]]\n",
    "    diffcell        = aggregate(beta ~ gene_id + gene_name, data = diffcell[ diffcell$cell_type == cell,], FUN = max)\n",
    "    diffcell$target = FALSE\n",
    "    \n",
    "    diffcell[ diffcell$gene_id %in% eclip_targets, \"target\"] = TRUE\n",
    "    \n",
    "    test = t.test(diffcell[ diffcell$target == TRUE, \"beta\"], diffcell[ diffcell$target == FALSE, \"beta\"])\n",
    "    out  = data.frame(cell_type        = cell,\n",
    "                      eclip            = eclip,\n",
    "                      n_targets        = nrow(diffcell[ diffcell$target == TRUE,]),\n",
    "                      estimate_targets = test$estimate[[1]],\n",
    "                      estimate_rest    = test$estimate[[2]],\n",
    "                      ci1              = test$conf.int[[1]],\n",
    "                      ci2              = test$conf.int[[2]],\n",
    "                      pval             = test$p.value\n",
    "                     )\n",
    "    \n",
    "    #out  = data.frame(cell_type        = cell,\n",
    "    #                  eclip            = eclip,\n",
    "    #                  n_targets        = nrow(diffcell[ diffcell$target == TRUE,       ]),\n",
    "    #                  estimate_targets = mean(diffcell[ diffcell$target == TRUE, \"beta\"])\n",
    "    #                 )\n",
    "    \n",
    "    toperm   = diffcell[diffcell$target == FALSE,]\n",
    "    permdata = as.data.frame(rbindlist(lapply(1:perms, function(perm)\n",
    "    {\n",
    "        this = toperm[ sample(1:nrow(toperm), size = out$n_targets, replace = FALSE),]\n",
    "        return(data.frame(perm = perm, mean = mean(this$beta)))\n",
    "    })), stringsAsFactors = FALSE)\n",
    "    \n",
    "    out = cbind(out, data.frame(perm_mean = mean(permdata$mean), perm_sd = sd(permdata$mean)))\n",
    "    \n",
    "    return(out)\n",
    "}\n",
    "\n",
    "cell  = \"cardiac_muscle\"\n",
    "eclip = \"HNRNPL_HepG2\"\n",
    "\n",
    "\n",
    "#eclip2cell = test_enrichment_targets(cell, eclip, diffcell, eclip2gene, 100)\n",
    "\n",
    "\n",
    "eclip2cell = as.data.frame(rbindlist(lapply(sort(unique(diffcell$cell_type)), function(cell)\n",
    "{\n",
    "    message(cell)\n",
    "    as.data.frame(rbindlist(lapply(eclip_files$eclip, function(eclip){test_enrichment_targets(cell, eclip, diffcell, eclip2gene, 100)})), stringsAsFactors = FALSE)\n",
    "})), stringsAsFactors = FALSE)\n",
    "\n",
    "eclip2cell           = merge(eclip_files[,c(\"eclip\", \"rbp\", \"cell\")], eclip2cell)\n",
    "eclip2cell$gene_name = eclip2cell$rbp\n",
    "eclip2cell$log2r     = log2(eclip2cell$estimate_targets / eclip2cell$estimate_rest)\n",
    "eclip2dif            = merge(eclip2cell, diffcell_gene[,c(\"gene_name\", \"gene_id\", \"cell_type\", \"beta\", \"se\", \"pval\", \"qval\")], by = c(\"gene_name\", \"cell_type\"), suffixes = c(\"_enrichment\", \"_diffexp\"))\n",
    "eclip2dif$zscore     = (eclip2dif$estimate_targets - eclip2dif$perm_mean) / eclip2dif$perm_sd\n",
    "eclip2dif$pval_perm  = 2*pnorm(-abs(eclip2dif$zscore))\n",
    "\n",
    "\n",
    "fwrite(eclip2dif, \"pipeline/4.10.diffexp_eclip_enrichment/celltype2RBP_enrichment.txt\", sep = \"\\t\", col.names = TRUE, row.names = FALSE)"
   ]
  },
  {
   "cell_type": "code",
   "execution_count": 71,
   "metadata": {},
   "outputs": [
    {
     "name": "stdout",
     "output_type": "stream",
     "text": [
      "'data.frame':\t488 obs. of  21 variables:\n",
      " $ gene_name       : chr  \"CPEB4\" \"CPEB4\" \"CPEB4\" \"CPEB4\" ...\n",
      " $ cell_type       : chr  \"cardiac_muscle\" \"cardiac_neuron\" \"endocardial\" \"endothelial\" ...\n",
      " $ eclip           : chr  \"CPEB4_K562\" \"CPEB4_K562\" \"CPEB4_K562\" \"CPEB4_K562\" ...\n",
      " $ rbp             : chr  \"CPEB4\" \"CPEB4\" \"CPEB4\" \"CPEB4\" ...\n",
      " $ cell            : chr  \"K562\" \"K562\" \"K562\" \"K562\" ...\n",
      " $ n_targets       : int  100 100 100 100 100 100 100 100 998 998 ...\n",
      " $ estimate_targets: num  0.746 3.011 2.16 1.368 2.863 ...\n",
      " $ estimate_rest   : num  0.652 2.833 1.961 1.273 2.472 ...\n",
      " $ ci1             : num  -0.0235 -0.2727 -0.0806 -0.0882 0.0406 ...\n",
      " $ ci2             : num  0.213 0.629 0.478 0.279 0.742 ...\n",
      " $ pval_enrichment : num  0.115 0.4348 0.1612 0.3057 0.0291 ...\n",
      " $ perm_mean       : num  0.649 2.836 1.952 1.274 2.472 ...\n",
      " $ perm_sd         : num  0.0518 0.276 0.1285 0.0951 0.1701 ...\n",
      " $ log2r           : num  0.196 0.088 0.139 0.104 0.212 ...\n",
      " $ gene_id         : chr  \"ENSG00000113742.14_6\" \"ENSG00000113742.14_6\" \"ENSG00000113742.14_6\" \"ENSG00000113742.14_6\" ...\n",
      " $ beta            : num  2.53 -13.97 -6.93 -3.23 -6.77 ...\n",
      " $ se              : num  0.149 1.038 0.529 0.493 0.529 ...\n",
      " $ pval_diffexp    : num  5.98e-57 5.61e-38 3.64e-36 9.77e-11 8.41e-35 ...\n",
      " $ qval            : num  9.76e-52 9.15e-33 5.94e-31 1.59e-05 1.37e-29 ...\n",
      " $ zscore          : num  1.887 0.635 1.615 0.983 2.297 ...\n",
      " $ pval_perm       : num  0.0592 0.5253 0.1063 0.3255 0.0216 ...\n"
     ]
    }
   ],
   "source": [
    "str(eclip2dif)"
   ]
  },
  {
   "cell_type": "code",
   "execution_count": 73,
   "metadata": {},
   "outputs": [
    {
     "data": {
      "text/plain": [
       "\n",
       "\tPearson's product-moment correlation\n",
       "\n",
       "data:  eclip2dif[eclip2dif$cell_type == \"cardiac_muscle\", \"zscore\"] and eclip2dif[eclip2dif$cell_type == \"cardiac_muscle\", \"beta\"]\n",
       "t = -1.2129, df = 59, p-value = 0.23\n",
       "alternative hypothesis: true correlation is not equal to 0\n",
       "95 percent confidence interval:\n",
       " -0.39238154  0.09976689\n",
       "sample estimates:\n",
       "       cor \n",
       "-0.1559724 \n"
      ]
     },
     "metadata": {},
     "output_type": "display_data"
    },
    {
     "data": {
      "image/png": "[encoded data removed]",
      "text/plain": [
       "plot without title"
      ]
     },
     "metadata": {
      "image/png": {
       "height": 420,
       "width": 420
      },
      "text/plain": {
       "height": 420,
       "width": 420
      }
     },
     "output_type": "display_data"
    }
   ],
   "source": [
    "plot(zscore ~ beta, data = eclip2dif[ eclip2dif$cell_type == \"cardiac_muscle\",])\n",
    "\n",
    "cor.test(eclip2dif[ eclip2dif$cell_type == \"cardiac_muscle\", \"zscore\"], eclip2dif[ eclip2dif$cell_type == \"cardiac_muscle\", \"beta\"])"
   ]
  },
  {
   "cell_type": "code",
   "execution_count": 37,
   "metadata": {},
   "outputs": [
    {
     "name": "stdout",
     "output_type": "stream",
     "text": [
      "List of 59\n",
      " $ CPEB4_K562   : chr [1:175] \"ENSG00000157933.10_4\" \"ENSG00000173436.15_6\" \"ENSG00000158747.15_5\" \"ENSG00000270136.6_6\" ...\n",
      " $ EIF4G2_K562  : chr [1:2831] \"ENSG00000188157.15_6\" \"ENSG00000188157.15_6\" \"ENSG00000188157.15_6\" \"ENSG00000131591.17_10\" ...\n",
      " $ EWSR1_K562   : chr [1:2746] \"ENSG00000188976.11_5\" \"ENSG00000188157.15_6\" \"ENSG00000188157.15_6\" \"ENSG00000188157.15_6\" ...\n",
      " $ FMR1_K562    : chr [1:1748] \"ENSG00000188976.11_5\" \"ENSG00000188976.11_5\" \"ENSG00000127054.21_5\" \"ENSG00000127054.21_5\" ...\n",
      " $ FUBP3_HepG2  : chr [1:1010] \"ENSG00000188157.15_6\" \"ENSG00000242590.1_7\" \"ENSG00000157933.10_4\" \"ENSG00000116285.13_5\" ...\n",
      " $ FUS_HepG2    : chr [1:4467] \"ENSG00000188157.15_6\" \"ENSG00000188157.15_6\" \"ENSG00000188157.15_6\" \"ENSG00000078808.18_6\" ...\n",
      " $ FUS_K562     : chr [1:6780] \"ENSG00000187634.12_9\" \"ENSG00000188976.11_5\" \"ENSG00000187961.14_6\" \"ENSG00000187961.14_6\" ...\n",
      " $ FXR2_HepG2   : chr [1:899] \"ENSG00000107404.20_7\" \"ENSG00000225285.1_7\" \"ENSG00000189339.12_5\" \"ENSG00000157933.10_4\" ...\n",
      " $ FXR2_K562    : chr [1:1609] \"ENSG00000188976.11_5\" \"ENSG00000188976.11_5\" \"ENSG00000107404.20_7\" \"ENSG00000116198.13_7\" ...\n",
      " $ HNRNPA1_HepG2: chr [1:11491] \"ENSG00000188976.11_5\" \"ENSG00000188157.15_6\" \"ENSG00000188157.15_6\" \"ENSG00000078808.18_6\" ...\n",
      " $ HNRNPA1_K562 : chr [1:4122] \"ENSG00000188976.11_5\" \"ENSG00000187961.14_6\" \"ENSG00000188157.15_6\" \"ENSG00000160072.20_4\" ...\n",
      " $ HNRNPC_HepG2 : chr [1:24693] \"ENSG00000131591.17_10\" \"ENSG00000131591.17_10\" \"ENSG00000131591.17_10\" \"ENSG00000078808.18_6\" ...\n",
      " $ HNRNPC_K562  : chr [1:8907] \"ENSG00000187961.14_6\" \"ENSG00000131591.17_10\" \"ENSG00000131591.17_10\" \"ENSG00000221978.12_7\" ...\n",
      " $ HNRNPK_HepG2 : chr [1:7416] \"ENSG00000230021.10_7\" \"ENSG00000230021.10_7\" \"ENSG00000230021.10_7\" \"ENSG00000230021.10_7\" ...\n",
      " $ HNRNPK_K562  : chr [1:2889] \"ENSG00000230021.10_7\" \"ENSG00000228794.10_7\" \"ENSG00000225880.5_6\" \"ENSG00000187961.14_6\" ...\n",
      " $ HNRNPL_HepG2 : chr [1:12307] \"ENSG00000131584.19_5\" \"ENSG00000160072.20_4\" \"ENSG00000197785.14_7\" \"ENSG00000078369.18_5\" ...\n",
      " $ HNRNPL_K562  : chr [1:11866] \"ENSG00000188976.11_5\" \"ENSG00000131591.17_10\" \"ENSG00000107404.20_7\" \"ENSG00000160072.20_4\" ...\n",
      " $ HNRNPM_HepG2 : chr [1:6013] \"ENSG00000188157.15_6\" \"ENSG00000131591.17_10\" \"ENSG00000131591.17_10\" \"ENSG00000078808.18_6\" ...\n",
      " $ HNRNPM_K562  : chr [1:5487] \"ENSG00000188976.11_5\" \"ENSG00000188976.11_5\" \"ENSG00000187961.14_6\" \"ENSG00000188157.15_6\" ...\n",
      " $ HNRNPU_HepG2 : chr [1:6282] \"ENSG00000188157.15_6\" \"ENSG00000217801.10_7\" \"ENSG00000160087.21_8\" \"ENSG00000131584.19_5\" ...\n",
      " $ HNRNPU_K562  : chr [1:12886] \"ENSG00000230021.10_7\" \"ENSG00000228794.10_7\" \"ENSG00000225880.5_6\" \"ENSG00000188976.11_5\" ...\n",
      " $ IGF2BP1_HepG2: chr [1:4563] \"ENSG00000188157.15_6\" \"ENSG00000188157.15_6\" \"ENSG00000188157.15_6\" \"ENSG00000242590.1_7\" ...\n",
      " $ IGF2BP1_K562 : chr [1:2842] \"ENSG00000131591.17_10\" \"ENSG00000078808.18_6\" \"ENSG00000078808.18_6\" \"ENSG00000078808.18_6\" ...\n",
      " $ IGF2BP2_K562 : chr [1:3284] \"ENSG00000078808.18_6\" \"ENSG00000224870.7_8\" \"ENSG00000224870.7_8\" \"ENSG00000242485.6_5\" ...\n",
      " $ IGF2BP3_HepG2: chr [1:4007] \"ENSG00000187961.14_6\" \"ENSG00000188157.15_6\" \"ENSG00000188157.15_6\" \"ENSG00000242590.1_7\" ...\n",
      " $ KHDRBS1_K562 : chr [1:8162] \"ENSG00000187961.14_6\" \"ENSG00000078808.18_6\" \"ENSG00000268575.1_8\" \"ENSG00000227775.3_6\" ...\n",
      " $ KHSRP_HepG2  : chr [1:5874] \"ENSG00000107404.20_7\" \"ENSG00000224870.7_8\" \"ENSG00000242485.6_5\" \"ENSG00000160075.12_5\" ...\n",
      " $ KHSRP_K562   : chr [1:19880] \"ENSG00000230021.10_7\" \"ENSG00000228794.10_7\" \"ENSG00000225880.5_6\" \"ENSG00000188976.11_5\" ...\n",
      " $ MATR3_HepG2  : chr [1:4727] \"ENSG00000160075.12_5\" \"ENSG00000078369.18_5\" \"ENSG00000067606.17_6\" \"ENSG00000067606.17_6\" ...\n",
      " $ MATR3_K562   : chr [1:3536] \"ENSG00000078369.18_5\" \"ENSG00000078369.18_5\" \"ENSG00000157933.10_4\" \"ENSG00000157933.10_4\" ...\n",
      " $ PABPC4_K562  : chr [1:1198] \"ENSG00000187961.14_6\" \"ENSG00000197785.14_7\" \"ENSG00000160075.12_5\" \"ENSG00000162585.17_6\" ...\n",
      " $ PABPN1_HepG2 : chr [1:2060] \"ENSG00000187961.14_6\" \"ENSG00000188157.15_6\" \"ENSG00000188157.15_6\" \"ENSG00000188157.15_6\" ...\n",
      " $ PCBP1_HepG2  : chr [1:475] \"ENSG00000107404.20_7\" \"ENSG00000162576.16_4\" \"ENSG00000189339.12_5\" \"ENSG00000157933.10_4\" ...\n",
      " $ PCBP1_K562   : chr [1:885] \"ENSG00000131591.17_10\" \"ENSG00000107404.20_7\" \"ENSG00000189339.12_5\" \"ENSG00000157933.10_4\" ...\n",
      " $ PCBP2_HepG2  : chr [1:5105] \"ENSG00000188157.15_6\" \"ENSG00000188157.15_6\" \"ENSG00000188157.15_6\" \"ENSG00000131591.17_10\" ...\n",
      " $ PTBP1_HepG2  : chr [1:6152] \"ENSG00000188157.15_6\" \"ENSG00000242590.1_7\" \"ENSG00000078808.18_6\" \"ENSG00000107404.20_7\" ...\n",
      " $ PTBP1_K562   : chr [1:3226] \"ENSG00000188157.15_6\" \"ENSG00000242590.1_7\" \"ENSG00000107404.20_7\" \"ENSG00000008128.23_7\" ...\n",
      " $ PUM1_K562    : chr [1:1335] \"ENSG00000187961.14_6\" \"ENSG00000127054.21_5\" \"ENSG00000107404.20_7\" \"ENSG00000160072.20_4\" ...\n",
      " $ PUM2_K562    : chr [1:1173] \"ENSG00000188157.15_6\" \"ENSG00000188157.15_6\" \"ENSG00000188157.15_6\" \"ENSG00000242590.1_7\" ...\n",
      " $ QKI_HepG2    : chr [1:5581] \"ENSG00000188157.15_6\" \"ENSG00000107404.20_7\" \"ENSG00000225285.1_7\" \"ENSG00000189339.12_5\" ...\n",
      " $ QKI_K652     : chr [1:1266] \"ENSG00000107404.20_7\" \"ENSG00000171735.19_5\" \"ENSG00000142599.19_8\" \"ENSG00000177000.13_8\" ...\n",
      " $ RBFOX2_HepG2 : chr [1:7089] \"ENSG00000187961.14_6\" \"ENSG00000187961.14_6\" \"ENSG00000187583.11_5\" \"ENSG00000188157.15_6\" ...\n",
      " $ RBFOX2_K562  : chr [1:5361] \"ENSG00000188976.11_5\" \"ENSG00000187961.14_6\" \"ENSG00000187961.14_6\" \"ENSG00000188157.15_6\" ...\n",
      " $ RBM22_K562   : chr [1:1061] \"ENSG00000078808.18_6\" \"ENSG00000008130.15_5\" \"ENSG00000198793.13_8\" \"ENSG00000253086.1\" ...\n",
      " $ RBM5_HepG2   : chr [1:2615] \"ENSG00000188976.11_5\" \"ENSG00000188157.15_6\" \"ENSG00000107404.20_7\" \"ENSG00000221978.12_7\" ...\n",
      " $ SFPQ_HepG2   : chr [1:2685] \"ENSG00000078808.18_6\" \"ENSG00000160075.12_5\" \"ENSG00000078369.18_5\" \"ENSG00000078369.18_5\" ...\n",
      " $ SRSF1_HepG2  : chr [1:6176] \"ENSG00000188976.11_5\" \"ENSG00000131591.17_10\" \"ENSG00000285812.1_2\" \"ENSG00000179403.12_6\" ...\n",
      " $ SRSF7_HepG2  : chr [1:1484] \"ENSG00000188976.11_5\" \"ENSG00000188157.15_6\" \"ENSG00000078808.18_6\" \"ENSG00000078808.18_6\" ...\n",
      " $ SRSF7_K562   : chr [1:2057] \"ENSG00000131591.17_10\" \"ENSG00000078808.18_6\" \"ENSG00000078808.18_6\" \"ENSG00000078808.18_6\" ...\n",
      " $ SRSF9_HepG2  : chr [1:2874] \"ENSG00000078808.18_6\" \"ENSG00000078808.18_6\" \"ENSG00000235098.8_5\" \"ENSG00000225905.1_7\" ...\n",
      " $ TAF15_HepG2  : chr [1:7069] \"ENSG00000188157.15_6\" \"ENSG00000188157.15_6\" \"ENSG00000217801.10_7\" \"ENSG00000131591.17_10\" ...\n",
      " $ TAF15_K562   : chr [1:2586] \"ENSG00000188157.15_6\" \"ENSG00000131591.17_10\" \"ENSG00000131591.17_10\" \"ENSG00000285812.1_2\" ...\n",
      " $ TARDBP_K562  : chr [1:5795] \"ENSG00000228794.10_7\" \"ENSG00000188976.11_5\" \"ENSG00000188976.11_5\" \"ENSG00000188157.15_6\" ...\n",
      " $ TIA1_HepG2   : chr [1:5464] \"ENSG00000188157.15_6\" \"ENSG00000188157.15_6\" \"ENSG00000188157.15_6\" \"ENSG00000188157.15_6\" ...\n",
      " $ TIA1_K562    : chr [1:9344] \"ENSG00000188976.11_5\" \"ENSG00000187961.14_6\" \"ENSG00000187608.10_8\" \"ENSG00000188157.15_6\" ...\n",
      " $ TRA2A_HepG2  : chr [1:603] \"ENSG00000008128.23_7\" \"ENSG00000268575.1_8\" \"ENSG00000157933.10_4\" \"ENSG00000285646.2_4\" ...\n",
      " $ TRA2A_K562   : chr [1:1316] \"ENSG00000127054.21_5\" \"ENSG00000127054.21_5\" \"ENSG00000160072.20_4\" \"ENSG00000248333.8_5\" ...\n",
      " $ U2AF2_HepG2  : chr [1:5873] \"ENSG00000008130.15_5\" \"ENSG00000067606.17_6\" \"ENSG00000157933.10_4\" \"ENSG00000157933.10_4\" ...\n",
      " $ U2AF2_K562   : chr [1:5916] \"ENSG00000188157.15_6\" \"ENSG00000160075.12_5\" \"ENSG00000248333.8_5\" \"ENSG00000008128.23_7\" ...\n"
     ]
    }
   ],
   "source": [
    "str(eclip2gene)"
   ]
  },
  {
   "cell_type": "code",
   "execution_count": null,
   "metadata": {},
   "outputs": [],
   "source": []
  }
 ],
 "metadata": {
  "kernelspec": {
   "display_name": "R 4.0.1",
   "language": "R",
   "name": "ir401"
  },
  "language_info": {
   "codemirror_mode": "r",
   "file_extension": ".r",
   "mimetype": "text/x-r-source",
   "name": "R",
   "pygments_lexer": "r",
   "version": "4.0.1"
  }
 },
 "nbformat": 4,
 "nbformat_minor": 2
}
