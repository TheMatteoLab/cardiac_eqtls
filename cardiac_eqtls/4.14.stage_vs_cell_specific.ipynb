{
 "cells": [
  {
   "cell_type": "code",
   "execution_count": 1,
   "metadata": {},
   "outputs": [],
   "source": [
    "setwd(\"/frazer01/projects/CARDIPS/analysis/cardiac_eqtls\")\n",
    "\n",
    "source(\"script/packages.R\"  )\n",
    "source(\"script/input_data.R\")\n",
    "source(\"script/functions.R\" )\n",
    "source(\"script/colors.R\"    )\n"
   ]
  },
  {
   "cell_type": "code",
   "execution_count": 2,
   "metadata": {},
   "outputs": [],
   "source": [
    "dir.create(\"pipeline/4.14.stage_vs_cell_specific_associations\", showWarnings = FALSE)"
   ]
  },
  {
   "cell_type": "code",
   "execution_count": 3,
   "metadata": {},
   "outputs": [],
   "source": [
    "diftiss = fread(\"pipeline/4.1.differential_expression/diffexp.txt\"     , sep = \"\\t\", header = TRUE, data.table = FALSE)\n",
    "difcell = fread(\"pipeline/4.1.differential_expression/diffexp_cell.txt\", sep = \"\\t\", header = TRUE, data.table = FALSE)\n",
    "\n",
    "diftiss = diftiss[diftiss$type != \"isoform_tpm\",]\n",
    "difcell = difcell[difcell$type != \"isoform_tpm\",]\n",
    "\n",
    "difcell$cell_type = gsub(\"cibersort.regular.\", \"\", difcell$cell_type)"
   ]
  },
  {
   "cell_type": "code",
   "execution_count": 4,
   "metadata": {},
   "outputs": [],
   "source": [
    "cells    = unique(difcell$cell_type)\n",
    "tissues0 = unique(diftiss[,c(\"tissue1\", \"tissue2\")])\n"
   ]
  },
  {
   "cell_type": "markdown",
   "metadata": {},
   "source": [
    "# test cell type proportion differences"
   ]
  },
  {
   "cell_type": "code",
   "execution_count": 5,
   "metadata": {},
   "outputs": [],
   "source": [
    "covariates           = add_rownames(fread(\"pipeline/3.1.covariates/covariates.txt\"   , sep = \"\\t\", header = TRUE , data.table = FALSE))\n",
    "covariates$run       = rownames(covariates)\n",
    "covariates           = covariates[,colnames(covariates) %in% c(\"run\", \"ipsc_cvpc\", \"heart\", \"arteria\") | grepl(\"cibersort.regular\", colnames(covariates)) == TRUE ]\n",
    "colnames(covariates) = gsub(\"cibersort.regular.\", \"\", colnames(covariates))\n"
   ]
  },
  {
   "cell_type": "code",
   "execution_count": 6,
   "metadata": {},
   "outputs": [],
   "source": [
    "\n",
    "tests_cell_vs_tissue = as.data.frame(rbindlist(lapply(1:nrow(tissues0), function(ii)\n",
    "{\n",
    "    tissue1 = tissues0[ii, \"tissue1\"]\n",
    "    tissue2 = tissues0[ii, \"tissue2\"]\n",
    "    out     = as.data.frame(rbindlist(lapply(cells, function(cell)\n",
    "    {\n",
    "        test = t.test(covariates[covariates[,tissue1] == 1, cell], covariates[covariates[,tissue2] == 1, cell])\n",
    "        out  = data.frame(cell = cell, tissue1 = tissue1, tissue2 = tissue2, estimate1 = test$estimate[[1]], estimate2 = test$estimate[[2]], ci1 = test$conf.int[[1]], ci2 = test$conf.int[[2]], pval = test$p.value)\n",
    "        \n",
    "        return(out)\n",
    "    })), stringsAsFactors = FALSE)\n",
    "    \n",
    "    return(out)\n",
    "})), stringsAsFactors = FALSE)\n",
    "\n",
    "\n",
    "tests_cell_vs_tissue$log2r = log2(tests_cell_vs_tissue$estimate1 / tests_cell_vs_tissue$estimate2)\n",
    "tests_cell_vs_tissue$qval  = p.adjust(tests_cell_vs_tissue$pval, method = \"BH\")\n",
    "\n",
    "fwrite(tests_cell_vs_tissue, \"pipeline/4.14.stage_vs_cell_specific_associations/tests_cell_vs_tissue.txt\", sep = \"\\t\", col.names = TRUE, row.names = FALSE)\n"
   ]
  },
  {
   "cell_type": "markdown",
   "metadata": {},
   "source": [
    "# Test stage associations with cell type associations"
   ]
  },
  {
   "cell_type": "code",
   "execution_count": 17,
   "metadata": {},
   "outputs": [],
   "source": [
    "run_fisher_test = function(mycol, indata)\n",
    "{\n",
    "    indata$mycol = indata[,mycol]\n",
    "    out    = data.frame(x11 = nrow(indata[indata$mycol == TRUE  & indata$spec_cell == TRUE , ]),\n",
    "                        x12 = nrow(indata[indata$mycol == FALSE & indata$spec_cell == TRUE , ]),\n",
    "                        x21 = nrow(indata[indata$mycol == TRUE  & indata$spec_cell == FALSE, ]),\n",
    "                        x22 = nrow(indata[indata$mycol == FALSE & indata$spec_cell == FALSE, ])\n",
    "                       )\n",
    "    \n",
    "    totest = matrix(as.numeric(out[1,]), nrow = 2, byrow = TRUE)\n",
    "    \n",
    "    test = fisher.test(totest)\n",
    "    out  = cbind(out, data.frame(estimate = test$estimate, ci1 = test$conf.int[[1]], ci2 = test$conf.int[[2]], pval = test$p.value))\n",
    "    \n",
    "    return(out)\n",
    "}\n",
    "\n",
    "test_stage_vs_cell = function(cell, tissue1, tissue2, type, diftiss, difcell)\n",
    "{\n",
    "    indata = merge(diftiss[ diftiss$tissue1   == tissue1 & diftiss$type == type & diftiss$tissue2 == tissue2, c(\"transcript_id\", \"gene_id\", \"gene_name\", \"beta\", \"log2r\", \"pval\", \"qval\")],\n",
    "                   difcell[ difcell$cell_type == cell    & difcell$type == type                             , c(\"transcript_id\", \"beta\", \"pval\", \"qval\")],\n",
    "                   by = \"transcript_id\", suffixes = c(\"_stage\", \"_cell\")\n",
    "                  )\n",
    "    colnames(indata)[[5]] = \"log2r_stage\"\n",
    "    \n",
    "    indata$spec1_stage = FALSE\n",
    "    indata$spec2_stage = FALSE\n",
    "    indata$spec_cell   = FALSE\n",
    "    \n",
    "    indata[ indata$qval_stage <= 0.05 & indata$log2r_stage >  2, \"spec1_stage\"] = TRUE\n",
    "    indata[ indata$qval_stage <= 0.05 & indata$log2r_stage < -2, \"spec2_stage\"] = TRUE\n",
    "    indata[ indata$qval_cell  <= 0.05 & indata$beta_cell   >  0, \"spec_cell\"  ] = TRUE\n",
    "    \n",
    "    test1 = cbind(data.frame(cell = cell, tissue1 = tissue1, tissue2 = tissue2, tissue = tissue1, type = type), run_fisher_test(\"spec1_stage\", indata))\n",
    "    test2 = cbind(data.frame(cell = cell, tissue1 = tissue1, tissue2 = tissue2, tissue = tissue2, type = type), run_fisher_test(\"spec2_stage\", indata))\n",
    "    out1  = rbind(test1, test2)\n",
    "    \n",
    "    return(out1)\n",
    "    #indata = indata[is.infinite(indata$log2r_stage) == FALSE,]\n",
    "    #mycor  = cor.test(indata$log2r_stage, indata$beta_cell)\n",
    "    mycor  = cor.test(indata$beta_stage, indata$beta_cell)\n",
    "    \n",
    "    out2   = data.frame(cell = cell, tissue1 = tissue1, tissue2 = tissue2, type = type, cor = mycor$estimate, pval = mycor$p.value)\n",
    "    \n",
    "    return(list(fisher = out1, cor = out2))\n",
    "}\n",
    "\n",
    "cell    = \"cardiac_muscle\"\n",
    "tissue1 = \"ipsc_cvpc\"\n",
    "tissue2 = \"heart\"\n",
    "type    = \"gene_tpm\"\n",
    "\n",
    "tissues = unique(diftiss[,c(\"tissue1\", \"tissue2\", \"type\")])\n",
    "\n",
    "\n",
    "tests_stage_vs_cell = as.data.frame(rbindlist(lapply(1:nrow(tissues), function(ii)\n",
    "{\n",
    "    tissue1 = tissues[ii, \"tissue1\"]\n",
    "    tissue2 = tissues[ii, \"tissue2\"]\n",
    "    type    = tissues[ii, \"type\"   ]\n",
    "    out     = as.data.frame(rbindlist(lapply(cells, function(cell){test_stage_vs_cell(cell, tissue1, tissue2, type, diftiss, difcell)})), stringsAsFactors = FALSE)\n",
    "    \n",
    "    return(out)\n",
    "})), stringsAsFactors = FALSE)\n",
    "\n",
    "tests_stage_vs_cell$log2r = log2    (tests_stage_vs_cell$estimate)\n",
    "tests_stage_vs_cell$qval  = p.adjust(tests_stage_vs_cell$pval, method = \"BH\")\n",
    "tests_stage_vs_cell       = merge(tests_stage_vs_cell, tests_cell_vs_tissue, by = c(\"cell\", \"tissue1\", \"tissue2\"), suffixes = c(\"_stage\", \"_tissue\"))\n",
    "\n",
    "tests_stage_vs_cell[tests_stage_vs_cell$tissue == tests_stage_vs_cell$tissue2, \"log2r_tissue\"] = - tests_stage_vs_cell[tests_stage_vs_cell$tissue == tests_stage_vs_cell$tissue2, \"log2r_tissue\"]\n",
    "tests_stage_vs_cell[tests_stage_vs_cell$tissue == tests_stage_vs_cell$tissue2, \"ci1_tissue\"  ] = - tests_stage_vs_cell[tests_stage_vs_cell$tissue == tests_stage_vs_cell$tissue2, \"ci1_tissue\"  ]\n",
    "tests_stage_vs_cell[tests_stage_vs_cell$tissue == tests_stage_vs_cell$tissue2, \"ci2_tissue\"  ] = - tests_stage_vs_cell[tests_stage_vs_cell$tissue == tests_stage_vs_cell$tissue2, \"ci2_tissue\"  ]\n",
    "\n",
    "fwrite(tests_stage_vs_cell, \"pipeline/4.14.stage_vs_cell_specific_associations/tests_stage_vs_cell.txt\", sep = \"\\t\", col.names = TRUE, row.names = FALSE)\n"
   ]
  },
  {
   "cell_type": "code",
   "execution_count": 23,
   "metadata": {},
   "outputs": [],
   "source": [
    "stage2tissue = merge(diftiss, difcell, by = c(\"transcript_id\", \"gene_id\", \"gene_name\", \"gene_type\", \"type\"), suffixes = c(\"_stage\", \"_tissue\"))\n",
    "\n",
    "fwrite(stage2tissue, \"pipeline/4.14.stage_vs_cell_specific_associations/stage2tissue.txt\", sep = \"\\t\", col.names = TRUE, row.names = FALSE)\n"
   ]
  },
  {
   "cell_type": "code",
   "execution_count": 18,
   "metadata": {},
   "outputs": [
    {
     "name": "stdout",
     "output_type": "stream",
     "text": [
      "'data.frame':\t96 obs. of  22 variables:\n",
      " $ cell        : chr  \"cardiac_muscle\" \"cardiac_muscle\" \"cardiac_muscle\" \"cardiac_muscle\" ...\n",
      " $ tissue1     : chr  \"heart\" \"heart\" \"heart\" \"heart\" ...\n",
      " $ tissue2     : chr  \"arteria\" \"arteria\" \"arteria\" \"arteria\" ...\n",
      " $ tissue      : chr  \"heart\" \"arteria\" \"heart\" \"arteria\" ...\n",
      " $ type        : chr  \"gene_tpm\" \"gene_tpm\" \"isoform_use\" \"isoform_use\" ...\n",
      " $ x11         : int  525 59 462 1 705 360 511 66 697 503 ...\n",
      " $ x12         : int  4417 4883 2531 2992 4237 4582 2482 2927 4245 4439 ...\n",
      " $ x21         : int  109 2665 169 318 945 3808 1282 3792 2942 2363 ...\n",
      " $ x22         : int  15342 12786 35109 34960 14506 11643 33996 31486 12509 13088 ...\n",
      " $ estimate    : num  16.7263 0.058 37.8734 0.0368 2.554 ...\n",
      " $ ci1_stage   : num  1.35e+01 4.39e-02 3.15e+01 9.31e-04 2.30 ...\n",
      " $ ci2_stage   : num  20.7996 0.0752 45.6902 0.2064 2.8356 ...\n",
      " $ pval_stage  : num  2.03e-220 3.35e-259 0.00 3.15e-10 8.12e-67 ...\n",
      " $ log2r_stage : num  4.06 -4.11 5.24 -4.77 1.35 ...\n",
      " $ qval_stage  : num  3.90e-219 8.03e-258 0.00 5.49e-10 4.87e-66 ...\n",
      " $ estimate1   : num  0.727 0.727 0.727 0.727 0.507 ...\n",
      " $ estimate2   : num  0.00494 0.00494 0.00494 0.00494 0.00494 ...\n",
      " $ ci1_tissue  : num  0.705 -0.705 0.705 -0.705 0.469 ...\n",
      " $ ci2_tissue  : num  0.739 -0.739 0.739 -0.739 0.535 ...\n",
      " $ pval_tissue : num  6.06e-295 6.06e-295 6.06e-295 6.06e-295 5.47e-73 ...\n",
      " $ log2r_tissue: num  7.2 -7.2 7.2 -7.2 6.68 ...\n",
      " $ qval_tissue : num  1.46e-293 1.46e-293 1.46e-293 1.46e-293 1.87e-72 ...\n"
     ]
    }
   ],
   "source": [
    "str(tests_stage_vs_cell)"
   ]
  },
  {
   "cell_type": "code",
   "execution_count": 21,
   "metadata": {},
   "outputs": [
    {
     "data": {
      "text/plain": [
       "\n",
       "\tPearson's product-moment correlation\n",
       "\n",
       "data:  tests_stage_vs_cell[tests_stage_vs_cell$type == \"gene_tpm\", \"log2r_stage\"] and tests_stage_vs_cell[tests_stage_vs_cell$type == \"gene_tpm\", \"log2r_tissue\"]\n",
       "t = NaN, df = 46, p-value = NA\n",
       "alternative hypothesis: true correlation is not equal to 0\n",
       "95 percent confidence interval:\n",
       " NaN NaN\n",
       "sample estimates:\n",
       "cor \n",
       "NaN \n"
      ]
     },
     "metadata": {},
     "output_type": "display_data"
    },
    {
     "data": {
      "text/plain": [
       "\n",
       "\tPearson's product-moment correlation\n",
       "\n",
       "data:  tests_stage_vs_cell[tests_stage_vs_cell$type == \"isoform_use\", \"log2r_stage\"] and tests_stage_vs_cell[tests_stage_vs_cell$type == \"isoform_use\", \"log2r_tissue\"]\n",
       "t = NaN, df = 46, p-value = NA\n",
       "alternative hypothesis: true correlation is not equal to 0\n",
       "95 percent confidence interval:\n",
       " NaN NaN\n",
       "sample estimates:\n",
       "cor \n",
       "NaN \n"
      ]
     },
     "metadata": {},
     "output_type": "display_data"
    }
   ],
   "source": [
    "cor.test(tests_stage_vs_cell[tests_stage_vs_cell$type == \"gene_tpm\"   , \"log2r_stage\"], tests_stage_vs_cell[tests_stage_vs_cell$type == \"gene_tpm\"   , \"log2r_tissue\"])\n",
    "cor.test(tests_stage_vs_cell[tests_stage_vs_cell$type == \"isoform_use\", \"log2r_stage\"], tests_stage_vs_cell[tests_stage_vs_cell$type == \"isoform_use\", \"log2r_tissue\"])\n",
    "#cor.test(tests_stage_vs_cell[tests_stage_vs_cell$type == \"gene_tpm\"    & tests_stage_vs_cell$estimate < , \"log2r_stage\"], tests_stage_vs_cell[tests_stage_vs_cell$type == \"gene_tpm\"   , \"log2r\"])\n",
    "#cor.test(tests_stage_vs_cell[tests_stage_vs_cell$type == \"isoform_use\" & , \"estimate\"], tests_stage_vs_cell[tests_stage_vs_cell$type == \"isoform_use\", \"log2r\"])\n"
   ]
  },
  {
   "cell_type": "code",
   "execution_count": 22,
   "metadata": {},
   "outputs": [
    {
     "data": {
      "image/png": "[encoded data removed]",
      "text/plain": [
       "plot without title"
      ]
     },
     "metadata": {
      "image/png": {
       "height": 420,
       "width": 420
      },
      "text/plain": {
       "height": 420,
       "width": 420
      }
     },
     "output_type": "display_data"
    },
    {
     "data": {
      "image/png": "[encoded data removed]",
      "text/plain": [
       "plot without title"
      ]
     },
     "metadata": {
      "image/png": {
       "height": 420,
       "width": 420
      },
      "text/plain": {
       "height": 420,
       "width": 420
      }
     },
     "output_type": "display_data"
    }
   ],
   "source": [
    "plot(tests_stage_vs_cell[tests_stage_vs_cell$type == \"gene_tpm\"   , \"log2r_stage\"], tests_stage_vs_cell[tests_stage_vs_cell$type == \"gene_tpm\"   , \"log2r_tissue\"])\n",
    "plot(tests_stage_vs_cell[tests_stage_vs_cell$type == \"isoform_use\", \"log2r_stage\"], tests_stage_vs_cell[tests_stage_vs_cell$type == \"isoform_use\", \"log2r_tissue\"])\n"
   ]
  },
  {
   "cell_type": "markdown",
   "metadata": {},
   "source": [
    "# look at some examples"
   ]
  },
  {
   "cell_type": "code",
   "execution_count": 51,
   "metadata": {},
   "outputs": [
    {
     "data": {
      "text/html": [
       "<dl>\n",
       "\t<dt>$tissue</dt>\n",
       "\t\t<dd><table>\n",
       "<caption>A data.frame: 1 × 3</caption>\n",
       "<thead>\n",
       "\t<tr><th></th><th scope=col>log2r</th><th scope=col>pval</th><th scope=col>qval</th></tr>\n",
       "\t<tr><th></th><th scope=col>&lt;dbl&gt;</th><th scope=col>&lt;dbl&gt;</th><th scope=col>&lt;dbl&gt;</th></tr>\n",
       "</thead>\n",
       "<tbody>\n",
       "\t<tr><th scope=row>1272</th><td>-1.902267</td><td>6.844763e-23</td><td>1.395852e-18</td></tr>\n",
       "</tbody>\n",
       "</table>\n",
       "</dd>\n",
       "\t<dt>$cell</dt>\n",
       "\t\t<dd><table>\n",
       "<caption>A data.frame: 8 × 4</caption>\n",
       "<thead>\n",
       "\t<tr><th></th><th scope=col>cell_type</th><th scope=col>beta</th><th scope=col>pval</th><th scope=col>qval</th></tr>\n",
       "\t<tr><th></th><th scope=col>&lt;chr&gt;</th><th scope=col>&lt;dbl&gt;</th><th scope=col>&lt;dbl&gt;</th><th scope=col>&lt;dbl&gt;</th></tr>\n",
       "</thead>\n",
       "<tbody>\n",
       "\t<tr><th scope=row>4520</th><td>cardiac_muscle</td><td> 1.5095669</td><td>1.634980e-43</td><td>2.667371e-38</td></tr>\n",
       "\t<tr><th scope=row>26359</th><td>fibroblast    </td><td>-3.0468092</td><td>1.062449e-15</td><td>1.733322e-10</td></tr>\n",
       "\t<tr><th scope=row>28246</th><td>immune        </td><td>-2.1707101</td><td>8.336384e-15</td><td>1.360031e-09</td></tr>\n",
       "\t<tr><th scope=row>28420</th><td>endocardial   </td><td>-2.9573442</td><td>9.675514e-15</td><td>1.578502e-09</td></tr>\n",
       "\t<tr><th scope=row>34221</th><td>endothelial   </td><td>-2.3637304</td><td>1.949320e-12</td><td>3.180199e-07</td></tr>\n",
       "\t<tr><th scope=row>80073</th><td>cardiac_neuron</td><td>-2.7413876</td><td>3.188646e-04</td><td>1.000000e+00</td></tr>\n",
       "\t<tr><th scope=row>92103</th><td>myofibroblast </td><td>-1.4027450</td><td>3.079750e-03</td><td>1.000000e+00</td></tr>\n",
       "\t<tr><th scope=row>98390</th><td>smooth_muscle </td><td>-0.4233919</td><td>7.952647e-03</td><td>1.000000e+00</td></tr>\n",
       "</tbody>\n",
       "</table>\n",
       "</dd>\n",
       "\t<dt>$test_cell</dt>\n",
       "\t\t<dd><table>\n",
       "<caption>A data.frame: 8 × 4</caption>\n",
       "<thead>\n",
       "\t<tr><th></th><th scope=col>cell</th><th scope=col>log2r</th><th scope=col>pval</th><th scope=col>qval</th></tr>\n",
       "\t<tr><th></th><th scope=col>&lt;chr&gt;</th><th scope=col>&lt;dbl&gt;</th><th scope=col>&lt;dbl&gt;</th><th scope=col>&lt;dbl&gt;</th></tr>\n",
       "</thead>\n",
       "<tbody>\n",
       "\t<tr><th scope=row>1</th><td>cardiac_muscle</td><td>-0.5202659</td><td>2.556893e-26</td><td>4.383245e-26</td></tr>\n",
       "\t<tr><th scope=row>2</th><td>immune        </td><td>-3.4264156</td><td>1.003667e-37</td><td>2.007333e-37</td></tr>\n",
       "\t<tr><th scope=row>3</th><td>fibroblast    </td><td>-5.8023938</td><td>3.097807e-48</td><td>6.758851e-48</td></tr>\n",
       "\t<tr><th scope=row>4</th><td>cardiac_neuron</td><td> 2.1992497</td><td>1.336262e-26</td><td>2.466945e-26</td></tr>\n",
       "\t<tr><th scope=row>5</th><td>endocardial   </td><td> 1.1083647</td><td>2.343788e-24</td><td>3.750062e-24</td></tr>\n",
       "\t<tr><th scope=row>6</th><td>endothelial   </td><td> 0.3508787</td><td>2.088990e-03</td><td>2.506788e-03</td></tr>\n",
       "\t<tr><th scope=row>7</th><td>smooth_muscle </td><td> 1.8394090</td><td>2.955331e-80</td><td>1.418559e-79</td></tr>\n",
       "\t<tr><th scope=row>8</th><td>myofibroblast </td><td> 0.2425657</td><td>2.735294e-01</td><td>2.983958e-01</td></tr>\n",
       "</tbody>\n",
       "</table>\n",
       "</dd>\n",
       "</dl>\n"
      ],
      "text/latex": [
       "\\begin{description}\n",
       "\\item[\\$tissue] A data.frame: 1 × 3\n",
       "\\begin{tabular}{r|lll}\n",
       "  & log2r & pval & qval\\\\\n",
       "  & <dbl> & <dbl> & <dbl>\\\\\n",
       "\\hline\n",
       "\t1272 & -1.902267 & 6.844763e-23 & 1.395852e-18\\\\\n",
       "\\end{tabular}\n",
       "\n",
       "\\item[\\$cell] A data.frame: 8 × 4\n",
       "\\begin{tabular}{r|llll}\n",
       "  & cell\\_type & beta & pval & qval\\\\\n",
       "  & <chr> & <dbl> & <dbl> & <dbl>\\\\\n",
       "\\hline\n",
       "\t4520 & cardiac\\_muscle &  1.5095669 & 1.634980e-43 & 2.667371e-38\\\\\n",
       "\t26359 & fibroblast     & -3.0468092 & 1.062449e-15 & 1.733322e-10\\\\\n",
       "\t28246 & immune         & -2.1707101 & 8.336384e-15 & 1.360031e-09\\\\\n",
       "\t28420 & endocardial    & -2.9573442 & 9.675514e-15 & 1.578502e-09\\\\\n",
       "\t34221 & endothelial    & -2.3637304 & 1.949320e-12 & 3.180199e-07\\\\\n",
       "\t80073 & cardiac\\_neuron & -2.7413876 & 3.188646e-04 & 1.000000e+00\\\\\n",
       "\t92103 & myofibroblast  & -1.4027450 & 3.079750e-03 & 1.000000e+00\\\\\n",
       "\t98390 & smooth\\_muscle  & -0.4233919 & 7.952647e-03 & 1.000000e+00\\\\\n",
       "\\end{tabular}\n",
       "\n",
       "\\item[\\$test\\_cell] A data.frame: 8 × 4\n",
       "\\begin{tabular}{r|llll}\n",
       "  & cell & log2r & pval & qval\\\\\n",
       "  & <chr> & <dbl> & <dbl> & <dbl>\\\\\n",
       "\\hline\n",
       "\t1 & cardiac\\_muscle & -0.5202659 & 2.556893e-26 & 4.383245e-26\\\\\n",
       "\t2 & immune         & -3.4264156 & 1.003667e-37 & 2.007333e-37\\\\\n",
       "\t3 & fibroblast     & -5.8023938 & 3.097807e-48 & 6.758851e-48\\\\\n",
       "\t4 & cardiac\\_neuron &  2.1992497 & 1.336262e-26 & 2.466945e-26\\\\\n",
       "\t5 & endocardial    &  1.1083647 & 2.343788e-24 & 3.750062e-24\\\\\n",
       "\t6 & endothelial    &  0.3508787 & 2.088990e-03 & 2.506788e-03\\\\\n",
       "\t7 & smooth\\_muscle  &  1.8394090 & 2.955331e-80 & 1.418559e-79\\\\\n",
       "\t8 & myofibroblast  &  0.2425657 & 2.735294e-01 & 2.983958e-01\\\\\n",
       "\\end{tabular}\n",
       "\n",
       "\\end{description}\n"
      ],
      "text/markdown": [
       "$tissue\n",
       ":   \n",
       "A data.frame: 1 × 3\n",
       "\n",
       "| <!--/--> | log2r &lt;dbl&gt; | pval &lt;dbl&gt; | qval &lt;dbl&gt; |\n",
       "|---|---|---|---|\n",
       "| 1272 | -1.902267 | 6.844763e-23 | 1.395852e-18 |\n",
       "\n",
       "\n",
       "$cell\n",
       ":   \n",
       "A data.frame: 8 × 4\n",
       "\n",
       "| <!--/--> | cell_type &lt;chr&gt; | beta &lt;dbl&gt; | pval &lt;dbl&gt; | qval &lt;dbl&gt; |\n",
       "|---|---|---|---|---|\n",
       "| 4520 | cardiac_muscle |  1.5095669 | 1.634980e-43 | 2.667371e-38 |\n",
       "| 26359 | fibroblast     | -3.0468092 | 1.062449e-15 | 1.733322e-10 |\n",
       "| 28246 | immune         | -2.1707101 | 8.336384e-15 | 1.360031e-09 |\n",
       "| 28420 | endocardial    | -2.9573442 | 9.675514e-15 | 1.578502e-09 |\n",
       "| 34221 | endothelial    | -2.3637304 | 1.949320e-12 | 3.180199e-07 |\n",
       "| 80073 | cardiac_neuron | -2.7413876 | 3.188646e-04 | 1.000000e+00 |\n",
       "| 92103 | myofibroblast  | -1.4027450 | 3.079750e-03 | 1.000000e+00 |\n",
       "| 98390 | smooth_muscle  | -0.4233919 | 7.952647e-03 | 1.000000e+00 |\n",
       "\n",
       "\n",
       "$test_cell\n",
       ":   \n",
       "A data.frame: 8 × 4\n",
       "\n",
       "| <!--/--> | cell &lt;chr&gt; | log2r &lt;dbl&gt; | pval &lt;dbl&gt; | qval &lt;dbl&gt; |\n",
       "|---|---|---|---|---|\n",
       "| 1 | cardiac_muscle | -0.5202659 | 2.556893e-26 | 4.383245e-26 |\n",
       "| 2 | immune         | -3.4264156 | 1.003667e-37 | 2.007333e-37 |\n",
       "| 3 | fibroblast     | -5.8023938 | 3.097807e-48 | 6.758851e-48 |\n",
       "| 4 | cardiac_neuron |  2.1992497 | 1.336262e-26 | 2.466945e-26 |\n",
       "| 5 | endocardial    |  1.1083647 | 2.343788e-24 | 3.750062e-24 |\n",
       "| 6 | endothelial    |  0.3508787 | 2.088990e-03 | 2.506788e-03 |\n",
       "| 7 | smooth_muscle  |  1.8394090 | 2.955331e-80 | 1.418559e-79 |\n",
       "| 8 | myofibroblast  |  0.2425657 | 2.735294e-01 | 2.983958e-01 |\n",
       "\n",
       "\n",
       "\n",
       "\n"
      ],
      "text/plain": [
       "$tissue\n",
       "         log2r         pval         qval\n",
       "1272 -1.902267 6.844763e-23 1.395852e-18\n",
       "\n",
       "$cell\n",
       "           cell_type       beta         pval         qval\n",
       "4520  cardiac_muscle  1.5095669 1.634980e-43 2.667371e-38\n",
       "26359     fibroblast -3.0468092 1.062449e-15 1.733322e-10\n",
       "28246         immune -2.1707101 8.336384e-15 1.360031e-09\n",
       "28420    endocardial -2.9573442 9.675514e-15 1.578502e-09\n",
       "34221    endothelial -2.3637304 1.949320e-12 3.180199e-07\n",
       "80073 cardiac_neuron -2.7413876 3.188646e-04 1.000000e+00\n",
       "92103  myofibroblast -1.4027450 3.079750e-03 1.000000e+00\n",
       "98390  smooth_muscle -0.4233919 7.952647e-03 1.000000e+00\n",
       "\n",
       "$test_cell\n",
       "            cell      log2r         pval         qval\n",
       "1 cardiac_muscle -0.5202659 2.556893e-26 4.383245e-26\n",
       "2         immune -3.4264156 1.003667e-37 2.007333e-37\n",
       "3     fibroblast -5.8023938 3.097807e-48 6.758851e-48\n",
       "4 cardiac_neuron  2.1992497 1.336262e-26 2.466945e-26\n",
       "5    endocardial  1.1083647 2.343788e-24 3.750062e-24\n",
       "6    endothelial  0.3508787 2.088990e-03 2.506788e-03\n",
       "7  smooth_muscle  1.8394090 2.955331e-80 1.418559e-79\n",
       "8  myofibroblast  0.2425657 2.735294e-01 2.983958e-01\n"
      ]
     },
     "metadata": {},
     "output_type": "display_data"
    }
   ],
   "source": [
    "look_at_gene = function(gene_name)\n",
    "{\n",
    "    this_tiss = diftiss[ diftiss$gene_name == gene_name & diftiss$type == \"gene_tpm\" & diftiss$tissue1 == \"ipsc_cvpc\" & diftiss$tissue2 == \"heart\", c(\"log2r\", \"pval\", \"qval\")]\n",
    "    this_cell = difcell[ difcell$gene_name == gene_name & difcell$type == \"gene_tpm\" , c(\"cell_type\", \"beta\", \"pval\", \"qval\")]\n",
    "    this_test = tests_cell_vs_tissue[ tests_cell_vs_tissue$tissue1 == \"ipsc_cvpc\" & tests_cell_vs_tissue$tissue2 == \"heart\", c(\"cell\", \"log2r\", \"pval\", \"qval\")]\n",
    "    \n",
    "    return(list(tissue = this_tiss, cell = this_cell, test_cell = this_test))\n",
    "}\n",
    "look_at_gene(\"RBFOX1\")\n",
    "#look_at_gene(\"RBFOX2\")\n",
    "#look_at_gene(\"FXR1\")\n",
    "\n"
   ]
  },
  {
   "cell_type": "code",
   "execution_count": 49,
   "metadata": {},
   "outputs": [
    {
     "data": {
      "text/html": [
       "<table>\n",
       "<caption>A data.frame: 3 × 2</caption>\n",
       "<thead>\n",
       "\t<tr><th></th><th scope=col>gene_name</th><th scope=col>gene_id</th></tr>\n",
       "\t<tr><th></th><th scope=col>&lt;chr&gt;</th><th scope=col>&lt;chr&gt;</th></tr>\n",
       "</thead>\n",
       "<tbody>\n",
       "\t<tr><th scope=row>1272</th><td>RBFOX1</td><td>ENSG00000078328.21_7</td></tr>\n",
       "\t<tr><th scope=row>2020</th><td>RBFOX2</td><td>ENSG00000100320.23_7</td></tr>\n",
       "\t<tr><th scope=row>3761</th><td>FXR1  </td><td>ENSG00000114416.18_9</td></tr>\n",
       "</tbody>\n",
       "</table>\n"
      ],
      "text/latex": [
       "A data.frame: 3 × 2\n",
       "\\begin{tabular}{r|ll}\n",
       "  & gene\\_name & gene\\_id\\\\\n",
       "  & <chr> & <chr>\\\\\n",
       "\\hline\n",
       "\t1272 & RBFOX1 & ENSG00000078328.21\\_7\\\\\n",
       "\t2020 & RBFOX2 & ENSG00000100320.23\\_7\\\\\n",
       "\t3761 & FXR1   & ENSG00000114416.18\\_9\\\\\n",
       "\\end{tabular}\n"
      ],
      "text/markdown": [
       "\n",
       "A data.frame: 3 × 2\n",
       "\n",
       "| <!--/--> | gene_name &lt;chr&gt; | gene_id &lt;chr&gt; |\n",
       "|---|---|---|\n",
       "| 1272 | RBFOX1 | ENSG00000078328.21_7 |\n",
       "| 2020 | RBFOX2 | ENSG00000100320.23_7 |\n",
       "| 3761 | FXR1   | ENSG00000114416.18_9 |\n",
       "\n"
      ],
      "text/plain": [
       "     gene_name gene_id             \n",
       "1272 RBFOX1    ENSG00000078328.21_7\n",
       "2020 RBFOX2    ENSG00000100320.23_7\n",
       "3761 FXR1      ENSG00000114416.18_9"
      ]
     },
     "metadata": {},
     "output_type": "display_data"
    }
   ],
   "source": [
    "unique(diftiss[ diftiss$gene_name %in% c(\"RBFOX1\", \"RBFOX2\", \"FXR1\"), c(\"gene_name\", \"gene_id\")])"
   ]
  },
  {
   "cell_type": "code",
   "execution_count": 44,
   "metadata": {},
   "outputs": [],
   "source": [
    "library(MASS)"
   ]
  },
  {
   "cell_type": "code",
   "execution_count": 45,
   "metadata": {},
   "outputs": [
    {
     "data": {
      "text/html": [
       "<pre class=language-r><code>function (formula, data, subset, na.action, lambda = 0, model = FALSE, \n",
       "<span style=white-space:pre-wrap>    x = FALSE, y = FALSE, contrasts = NULL, ...) </span>\n",
       "{\n",
       "<span style=white-space:pre-wrap>    m &lt;- match.call(expand.dots = FALSE)</span>\n",
       "<span style=white-space:pre-wrap>    m$model &lt;- m$x &lt;- m$y &lt;- m$contrasts &lt;- m$... &lt;- m$lambda &lt;- NULL</span>\n",
       "<span style=white-space:pre-wrap>    m[[1L]] &lt;- quote(stats::model.frame)</span>\n",
       "<span style=white-space:pre-wrap>    m &lt;- eval.parent(m)</span>\n",
       "<span style=white-space:pre-wrap>    Terms &lt;- attr(m, \"terms\")</span>\n",
       "<span style=white-space:pre-wrap>    Y &lt;- model.response(m)</span>\n",
       "<span style=white-space:pre-wrap>    X &lt;- model.matrix(Terms, m, contrasts)</span>\n",
       "<span style=white-space:pre-wrap>    n &lt;- nrow(X)</span>\n",
       "<span style=white-space:pre-wrap>    p &lt;- ncol(X)</span>\n",
       "<span style=white-space:pre-wrap>    offset &lt;- model.offset(m)</span>\n",
       "<span style=white-space:pre-wrap>    if (!is.null(offset)) </span>\n",
       "<span style=white-space:pre-wrap>        Y &lt;- Y - offset</span>\n",
       "<span style=white-space:pre-wrap>    if (Inter &lt;- attr(Terms, \"intercept\")) {</span>\n",
       "<span style=white-space:pre-wrap>        Xm &lt;- colMeans(X[, -Inter])</span>\n",
       "<span style=white-space:pre-wrap>        Ym &lt;- mean(Y)</span>\n",
       "<span style=white-space:pre-wrap>        p &lt;- p - 1</span>\n",
       "<span style=white-space:pre-wrap>        X &lt;- X[, -Inter] - rep(Xm, rep(n, p))</span>\n",
       "<span style=white-space:pre-wrap>        Y &lt;- Y - Ym</span>\n",
       "<span style=white-space:pre-wrap>    }</span>\n",
       "<span style=white-space:pre-wrap>    else Ym &lt;- Xm &lt;- NA</span>\n",
       "<span style=white-space:pre-wrap>    Xscale &lt;- drop(rep(1/n, n) %*% X^2)^0.5</span>\n",
       "<span style=white-space:pre-wrap>    X &lt;- X/rep(Xscale, rep(n, p))</span>\n",
       "<span style=white-space:pre-wrap>    Xs &lt;- svd(X)</span>\n",
       "<span style=white-space:pre-wrap>    rhs &lt;- t(Xs$u) %*% Y</span>\n",
       "<span style=white-space:pre-wrap>    d &lt;- Xs$d</span>\n",
       "<span style=white-space:pre-wrap>    lscoef &lt;- Xs$v %*% (rhs/d)</span>\n",
       "<span style=white-space:pre-wrap>    lsfit &lt;- X %*% lscoef</span>\n",
       "<span style=white-space:pre-wrap>    resid &lt;- Y - lsfit</span>\n",
       "<span style=white-space:pre-wrap>    s2 &lt;- sum(resid^2)/(n - p - Inter)</span>\n",
       "<span style=white-space:pre-wrap>    HKB &lt;- (p - 2) * s2/sum(lscoef^2)</span>\n",
       "<span style=white-space:pre-wrap>    LW &lt;- (p - 2) * s2 * n/sum(lsfit^2)</span>\n",
       "<span style=white-space:pre-wrap>    k &lt;- length(lambda)</span>\n",
       "<span style=white-space:pre-wrap>    dx &lt;- length(d)</span>\n",
       "<span style=white-space:pre-wrap>    div &lt;- d^2 + rep(lambda, rep(dx, k))</span>\n",
       "<span style=white-space:pre-wrap>    a &lt;- drop(d * rhs)/div</span>\n",
       "<span style=white-space:pre-wrap>    dim(a) &lt;- c(dx, k)</span>\n",
       "<span style=white-space:pre-wrap>    coef &lt;- Xs$v %*% a</span>\n",
       "<span style=white-space:pre-wrap>    dimnames(coef) &lt;- list(names(Xscale), format(lambda))</span>\n",
       "<span style=white-space:pre-wrap>    GCV &lt;- colSums((Y - X %*% coef)^2)/(n - colSums(matrix(d^2/div, </span>\n",
       "<span style=white-space:pre-wrap>        dx)))^2</span>\n",
       "<span style=white-space:pre-wrap>    res &lt;- list(coef = drop(coef), scales = Xscale, Inter = Inter, </span>\n",
       "<span style=white-space:pre-wrap>        lambda = lambda, ym = Ym, xm = Xm, GCV = GCV, kHKB = HKB, </span>\n",
       "<span style=white-space:pre-wrap>        kLW = LW)</span>\n",
       "<span style=white-space:pre-wrap>    class(res) &lt;- \"ridgelm\"</span>\n",
       "<span style=white-space:pre-wrap>    res</span>\n",
       "}</code></pre>"
      ],
      "text/latex": [
       "\\begin{minted}{r}\n",
       "function (formula, data, subset, na.action, lambda = 0, model = FALSE, \n",
       "    x = FALSE, y = FALSE, contrasts = NULL, ...) \n",
       "\\{\n",
       "    m <- match.call(expand.dots = FALSE)\n",
       "    m\\$model <- m\\$x <- m\\$y <- m\\$contrasts <- m\\$... <- m\\$lambda <- NULL\n",
       "    m{[}{[}1L{]}{]} <- quote(stats::model.frame)\n",
       "    m <- eval.parent(m)\n",
       "    Terms <- attr(m, \"terms\")\n",
       "    Y <- model.response(m)\n",
       "    X <- model.matrix(Terms, m, contrasts)\n",
       "    n <- nrow(X)\n",
       "    p <- ncol(X)\n",
       "    offset <- model.offset(m)\n",
       "    if (!is.null(offset)) \n",
       "        Y <- Y - offset\n",
       "    if (Inter <- attr(Terms, \"intercept\")) \\{\n",
       "        Xm <- colMeans(X{[}, -Inter{]})\n",
       "        Ym <- mean(Y)\n",
       "        p <- p - 1\n",
       "        X <- X{[}, -Inter{]} - rep(Xm, rep(n, p))\n",
       "        Y <- Y - Ym\n",
       "    \\}\n",
       "    else Ym <- Xm <- NA\n",
       "    Xscale <- drop(rep(1/n, n) \\%*\\% X\\textasciicircum{}2)\\textasciicircum{}0.5\n",
       "    X <- X/rep(Xscale, rep(n, p))\n",
       "    Xs <- svd(X)\n",
       "    rhs <- t(Xs\\$u) \\%*\\% Y\n",
       "    d <- Xs\\$d\n",
       "    lscoef <- Xs\\$v \\%*\\% (rhs/d)\n",
       "    lsfit <- X \\%*\\% lscoef\n",
       "    resid <- Y - lsfit\n",
       "    s2 <- sum(resid\\textasciicircum{}2)/(n - p - Inter)\n",
       "    HKB <- (p - 2) * s2/sum(lscoef\\textasciicircum{}2)\n",
       "    LW <- (p - 2) * s2 * n/sum(lsfit\\textasciicircum{}2)\n",
       "    k <- length(lambda)\n",
       "    dx <- length(d)\n",
       "    div <- d\\textasciicircum{}2 + rep(lambda, rep(dx, k))\n",
       "    a <- drop(d * rhs)/div\n",
       "    dim(a) <- c(dx, k)\n",
       "    coef <- Xs\\$v \\%*\\% a\n",
       "    dimnames(coef) <- list(names(Xscale), format(lambda))\n",
       "    GCV <- colSums((Y - X \\%*\\% coef)\\textasciicircum{}2)/(n - colSums(matrix(d\\textasciicircum{}2/div, \n",
       "        dx)))\\textasciicircum{}2\n",
       "    res <- list(coef = drop(coef), scales = Xscale, Inter = Inter, \n",
       "        lambda = lambda, ym = Ym, xm = Xm, GCV = GCV, kHKB = HKB, \n",
       "        kLW = LW)\n",
       "    class(res) <- \"ridgelm\"\n",
       "    res\n",
       "\\}\n",
       "\\end{minted}"
      ],
      "text/markdown": [
       "```r\n",
       "function (formula, data, subset, na.action, lambda = 0, model = FALSE, \n",
       "    x = FALSE, y = FALSE, contrasts = NULL, ...) \n",
       "{\n",
       "    m <- match.call(expand.dots = FALSE)\n",
       "    m$model <- m$x <- m$y <- m$contrasts <- m$... <- m$lambda <- NULL\n",
       "    m[[1L]] <- quote(stats::model.frame)\n",
       "    m <- eval.parent(m)\n",
       "    Terms <- attr(m, \"terms\")\n",
       "    Y <- model.response(m)\n",
       "    X <- model.matrix(Terms, m, contrasts)\n",
       "    n <- nrow(X)\n",
       "    p <- ncol(X)\n",
       "    offset <- model.offset(m)\n",
       "    if (!is.null(offset)) \n",
       "        Y <- Y - offset\n",
       "    if (Inter <- attr(Terms, \"intercept\")) {\n",
       "        Xm <- colMeans(X[, -Inter])\n",
       "        Ym <- mean(Y)\n",
       "        p <- p - 1\n",
       "        X <- X[, -Inter] - rep(Xm, rep(n, p))\n",
       "        Y <- Y - Ym\n",
       "    }\n",
       "    else Ym <- Xm <- NA\n",
       "    Xscale <- drop(rep(1/n, n) %*% X^2)^0.5\n",
       "    X <- X/rep(Xscale, rep(n, p))\n",
       "    Xs <- svd(X)\n",
       "    rhs <- t(Xs$u) %*% Y\n",
       "    d <- Xs$d\n",
       "    lscoef <- Xs$v %*% (rhs/d)\n",
       "    lsfit <- X %*% lscoef\n",
       "    resid <- Y - lsfit\n",
       "    s2 <- sum(resid^2)/(n - p - Inter)\n",
       "    HKB <- (p - 2) * s2/sum(lscoef^2)\n",
       "    LW <- (p - 2) * s2 * n/sum(lsfit^2)\n",
       "    k <- length(lambda)\n",
       "    dx <- length(d)\n",
       "    div <- d^2 + rep(lambda, rep(dx, k))\n",
       "    a <- drop(d * rhs)/div\n",
       "    dim(a) <- c(dx, k)\n",
       "    coef <- Xs$v %*% a\n",
       "    dimnames(coef) <- list(names(Xscale), format(lambda))\n",
       "    GCV <- colSums((Y - X %*% coef)^2)/(n - colSums(matrix(d^2/div, \n",
       "        dx)))^2\n",
       "    res <- list(coef = drop(coef), scales = Xscale, Inter = Inter, \n",
       "        lambda = lambda, ym = Ym, xm = Xm, GCV = GCV, kHKB = HKB, \n",
       "        kLW = LW)\n",
       "    class(res) <- \"ridgelm\"\n",
       "    res\n",
       "}\n",
       "```"
      ],
      "text/plain": [
       "function (formula, data, subset, na.action, lambda = 0, model = FALSE, \n",
       "    x = FALSE, y = FALSE, contrasts = NULL, ...) \n",
       "{\n",
       "    m <- match.call(expand.dots = FALSE)\n",
       "    m$model <- m$x <- m$y <- m$contrasts <- m$... <- m$lambda <- NULL\n",
       "    m[[1L]] <- quote(stats::model.frame)\n",
       "    m <- eval.parent(m)\n",
       "    Terms <- attr(m, \"terms\")\n",
       "    Y <- model.response(m)\n",
       "    X <- model.matrix(Terms, m, contrasts)\n",
       "    n <- nrow(X)\n",
       "    p <- ncol(X)\n",
       "    offset <- model.offset(m)\n",
       "    if (!is.null(offset)) \n",
       "        Y <- Y - offset\n",
       "    if (Inter <- attr(Terms, \"intercept\")) {\n",
       "        Xm <- colMeans(X[, -Inter])\n",
       "        Ym <- mean(Y)\n",
       "        p <- p - 1\n",
       "        X <- X[, -Inter] - rep(Xm, rep(n, p))\n",
       "        Y <- Y - Ym\n",
       "    }\n",
       "    else Ym <- Xm <- NA\n",
       "    Xscale <- drop(rep(1/n, n) %*% X^2)^0.5\n",
       "    X <- X/rep(Xscale, rep(n, p))\n",
       "    Xs <- svd(X)\n",
       "    rhs <- t(Xs$u) %*% Y\n",
       "    d <- Xs$d\n",
       "    lscoef <- Xs$v %*% (rhs/d)\n",
       "    lsfit <- X %*% lscoef\n",
       "    resid <- Y - lsfit\n",
       "    s2 <- sum(resid^2)/(n - p - Inter)\n",
       "    HKB <- (p - 2) * s2/sum(lscoef^2)\n",
       "    LW <- (p - 2) * s2 * n/sum(lsfit^2)\n",
       "    k <- length(lambda)\n",
       "    dx <- length(d)\n",
       "    div <- d^2 + rep(lambda, rep(dx, k))\n",
       "    a <- drop(d * rhs)/div\n",
       "    dim(a) <- c(dx, k)\n",
       "    coef <- Xs$v %*% a\n",
       "    dimnames(coef) <- list(names(Xscale), format(lambda))\n",
       "    GCV <- colSums((Y - X %*% coef)^2)/(n - colSums(matrix(d^2/div, \n",
       "        dx)))^2\n",
       "    res <- list(coef = drop(coef), scales = Xscale, Inter = Inter, \n",
       "        lambda = lambda, ym = Ym, xm = Xm, GCV = GCV, kHKB = HKB, \n",
       "        kLW = LW)\n",
       "    class(res) <- \"ridgelm\"\n",
       "    res\n",
       "}\n",
       "<bytecode: 0x87b2140>\n",
       "<environment: namespace:MASS>"
      ]
     },
     "metadata": {},
     "output_type": "display_data"
    }
   ],
   "source": [
    "lm.ridge"
   ]
  },
  {
   "cell_type": "code",
   "execution_count": null,
   "metadata": {},
   "outputs": [],
   "source": []
  }
 ],
 "metadata": {
  "kernelspec": {
   "display_name": "R 4.0.1",
   "language": "R",
   "name": "ir401"
  },
  "language_info": {
   "codemirror_mode": "r",
   "file_extension": ".r",
   "mimetype": "text/x-r-source",
   "name": "R",
   "pygments_lexer": "r",
   "version": "4.0.1"
  }
 },
 "nbformat": 4,
 "nbformat_minor": 2
}
