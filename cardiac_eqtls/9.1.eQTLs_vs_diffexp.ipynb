{
 "cells": [
  {
   "cell_type": "code",
   "execution_count": 1,
   "metadata": {},
   "outputs": [],
   "source": [
    "setwd(\"/frazer01/projects/CARDIPS/analysis/cardiac_eqtls\")\n",
    "\n",
    "source(\"script/packages.R\"  )\n",
    "source(\"script/input_data.R\")\n",
    "source(\"script/functions.R\" )\n"
   ]
  },
  {
   "cell_type": "code",
   "execution_count": 2,
   "metadata": {},
   "outputs": [],
   "source": [
    "gene_info               = fread(\"pipeline/1.2.expression/gene_info.txt\"    , sep = \"\\t\", header = TRUE, data.table = FALSE)\n",
    "isof_info               = fread(\"pipeline/1.2.expression//isoform_info.txt\", sep = \"\\t\", header = TRUE, data.table = FALSE)\n",
    "gene_info$transcript_id = gene_info$gene_id"
   ]
  },
  {
   "cell_type": "code",
   "execution_count": 3,
   "metadata": {},
   "outputs": [],
   "source": [
    "dir.create(\"pipeline/9.1.eqtls_vs_diffexp\", showWarnings = FALSE)"
   ]
  },
  {
   "cell_type": "markdown",
   "metadata": {},
   "source": [
    "# Input data"
   ]
  },
  {
   "cell_type": "code",
   "execution_count": 39,
   "metadata": {},
   "outputs": [],
   "source": [
    "diffexp       = fread(\"pipeline/4.15.differential_expression_ridge/diffexp.txt\"        , sep = \"\\t\", header = TRUE , data.table = FALSE)\n",
    "diffcell      = fread(\"pipeline/4.1.differential_expression/diffexp_cell.txt\"          , sep = \"\\t\", header = TRUE , data.table = FALSE)\n",
    "eqtl_genes    = fread(\"pipeline/3.2.eqtls/eqtls/cardiac_eqtls.gene.egenes.txt\"         , sep = \"\\t\", header = TRUE, data.table = FALSE)\n",
    "int_genes     = fread(\"pipeline/3.2.eqtls/eqtls/cardiac_eqtls.gene.interactions.txt\"   , sep = \"\\t\", header = TRUE, data.table = FALSE)\n",
    "eqtl_isoforms = fread(\"pipeline/3.2.eqtls/eqtls/cardiac_eqtls.isoform.egenes.txt\"      , sep = \"\\t\", header = TRUE, data.table = FALSE)\n",
    "int_isoforms  = fread(\"pipeline/3.2.eqtls/eqtls/cardiac_eqtls.isoform.interactions.txt\", sep = \"\\t\", header = TRUE, data.table = FALSE)\n",
    "rbps          = gene_info[ gene_info$gene_name %in% readLines(\"pipeline/rbps.txt\"), \"gene_id\"]"
   ]
  },
  {
   "cell_type": "code",
   "execution_count": 29,
   "metadata": {},
   "outputs": [],
   "source": [
    "eqtl_genes   $rbp = FALSE\n",
    "int_genes    $rbp = FALSE\n",
    "eqtl_isoforms$rbp = FALSE\n",
    "int_isoforms $rbp = FALSE\n",
    "\n",
    "eqtl_genes   [eqtl_genes   $gene_id %in% rbps, \"rbp\"] = TRUE\n",
    "int_genes    [int_genes    $gene_id %in% rbps, \"rbp\"] = TRUE\n",
    "eqtl_isoforms[eqtl_isoforms$gene_id %in% rbps, \"rbp\"] = TRUE\n",
    "int_isoforms [int_isoforms $gene_id %in% rbps, \"rbp\"] = TRUE\n"
   ]
  },
  {
   "cell_type": "markdown",
   "metadata": {},
   "source": [
    "# Analysis\n",
    "## Are differentially expressed genes/isoforms more likely to have stage-specific eQTLs?"
   ]
  },
  {
   "cell_type": "code",
   "execution_count": 27,
   "metadata": {},
   "outputs": [
    {
     "data": {
      "text/plain": [
       "[[1]]\n",
       "     [,1] [,2]\n",
       "[1,]  137  368\n",
       "[2,] 2871 8316\n",
       "\n",
       "[[2]]\n",
       "\n",
       "\tFisher's Exact Test for Count Data\n",
       "\n",
       "data:  totest\n",
       "p-value = 0.4664\n",
       "alternative hypothesis: true odds ratio is not equal to 1\n",
       "95 percent confidence interval:\n",
       " 0.8756108 1.3219233\n",
       "sample estimates:\n",
       "odds ratio \n",
       "  1.078336 \n",
       "\n"
      ]
     },
     "metadata": {},
     "output_type": "display_data"
    },
    {
     "data": {
      "text/plain": [
       "[[1]]\n",
       "     [,1] [,2]\n",
       "[1,]   58  123\n",
       "[2,] 4161 7350\n",
       "\n",
       "[[2]]\n",
       "\n",
       "\tFisher's Exact Test for Count Data\n",
       "\n",
       "data:  totest\n",
       "p-value = 0.2752\n",
       "alternative hypothesis: true odds ratio is not equal to 1\n",
       "95 percent confidence interval:\n",
       " 0.5973283 1.1500562\n",
       "sample estimates:\n",
       "odds ratio \n",
       " 0.8329235 \n",
       "\n"
      ]
     },
     "metadata": {},
     "output_type": "display_data"
    }
   ],
   "source": [
    "test_eqtl_vs_diffexp = function(type, interaction, tissue1, tissue2, eqtls, diffexp)\n",
    "{\n",
    "    diffexp          = diffexp[diffexp$type == type & diffexp$tissue1 == tissue1 & diffexp$tissue2 == tissue2 & diffexp$covariate == \"tissue\",]\n",
    "    diffexp$specific = FALSE\n",
    "    \n",
    "    if(tissue1 == interaction){diffexp[diffexp$diffexp == TRUE & diffexp$beta > 0, \"specific\"] = TRUE}\n",
    "    if(tissue2 == interaction){diffexp[diffexp$diffexp == TRUE & diffexp$beta < 0, \"specific\"] = TRUE}\n",
    "    \n",
    "    eqtls_all  = unique(eqtls$transcript_id)\n",
    "    eqtls_cell = unique(eqtls[eqtls$interaction == interaction & eqtls$cell == TRUE, \"transcript_id\"])\n",
    "    genes_all  = unique(diffexp$transcript_id)\n",
    "    genes_cell = unique(diffexp[diffexp$specific == TRUE, \"transcript_id\"])\n",
    "    eqtls_all  = setdiff(eqtls_all, eqtls_cell)\n",
    "    genes_all  = setdiff(genes_all, genes_cell)\n",
    "    totest     = matrix(c(length(intersect(eqtls_cell, genes_cell)),\n",
    "                          length(intersect(eqtls_cell, genes_all )),\n",
    "                          length(intersect(eqtls_all , genes_cell)),\n",
    "                          length(intersect(eqtls_all , genes_all ))\n",
    "                         ), \n",
    "                        nrow = 2, byrow = TRUE)\n",
    "    \n",
    "    test = fisher.test(totest)\n",
    "    \n",
    "    return(list(totest, test))\n",
    "    \n",
    "}\n",
    "\n",
    "type        = \"gene_tpm\"\n",
    "interaction = \"heart\"\n",
    "tissue1     = \"ipsc_cvpc\"\n",
    "tissue2     = \"heart\"\n",
    "\n",
    "test_eqtl_vs_diffexp(\"gene_tpm\", \"heart\"    , \"ipsc_cvpc\", \"heart\", int_genes, diffexp)\n",
    "test_eqtl_vs_diffexp(\"gene_tpm\", \"ipsc_cvpc\", \"ipsc_cvpc\", \"heart\", int_genes, diffexp)\n"
   ]
  },
  {
   "cell_type": "markdown",
   "metadata": {},
   "source": [
    "## Are cell type-specific genes/isoforms more likely to have cell type-specific eQTLs?"
   ]
  },
  {
   "cell_type": "code",
   "execution_count": 54,
   "metadata": {},
   "outputs": [],
   "source": [
    "test_eqtl_vs_diffexp_cell = function(type, cell, eqtls, diffexp)\n",
    "{\n",
    "    diffexp = diffexp[diffexp$type == type & diffexp$cell_type == cell,]\n",
    "    \n",
    "    eqtls_all  = unique(eqtls$transcript_id)\n",
    "    eqtls_cell = unique(eqtls[eqtls$interaction == cell & eqtls$cell == TRUE, \"transcript_id\"])\n",
    "    genes_all  = unique(diffexp$transcript_id)\n",
    "    genes_cell = unique(diffexp[diffexp$qval <= 0.05, \"transcript_id\"])\n",
    "    eqtls_all  = setdiff(eqtls_all, eqtls_cell)\n",
    "    genes_all  = setdiff(genes_all, genes_cell)\n",
    "    totest     = matrix(c(length(intersect(eqtls_cell, genes_cell)),\n",
    "                          length(intersect(eqtls_cell, genes_all )),\n",
    "                          length(intersect(eqtls_all , genes_cell)),\n",
    "                          length(intersect(eqtls_all , genes_all ))\n",
    "                         ), \n",
    "                        nrow = 2, byrow = TRUE)\n",
    "    \n",
    "    test = fisher.test(totest)\n",
    "    \n",
    "    out = data.frame(type        = type, cell = cell,\n",
    "                     eqtl1_cell1 = length(intersect(eqtls_cell, genes_cell)),\n",
    "                     eqtl1_cell0 = length(intersect(eqtls_cell, genes_all )),\n",
    "                     eqtl0_cell1 = length(intersect(eqtls_all , genes_cell)),\n",
    "                     eqtl0_cell0 = length(intersect(eqtls_all , genes_all )),\n",
    "                     or          = test$estimate,\n",
    "                     ci1         = test$conf.int[[1]],\n",
    "                     ci2         = test$conf.int[[2]],\n",
    "                     pval        = test$p.value\n",
    "                    )\n",
    "    \n",
    "    return(out)\n",
    "    \n",
    "}\n",
    "\n",
    "tests = as.data.frame(rbindlist(lapply(sort(unique(diffcell$cell_type)), function(cell)\n",
    "{\n",
    "    out1 = test_eqtl_vs_diffexp_cell(\"gene_tpm\"   , cell, int_genes   , diffcell)\n",
    "    out2 = test_eqtl_vs_diffexp_cell(\"isoform_use\", cell, int_isoforms, diffcell)\n",
    "    \n",
    "    return(rbind(out1, out2))\n",
    "})), stringsAsFactors = FALSE)\n",
    "\n",
    "tests      = tests[order(tests$type, tests$cell),]\n",
    "tests$qval = p.adjust(tests$pval)\n"
   ]
  },
  {
   "cell_type": "code",
   "execution_count": 55,
   "metadata": {},
   "outputs": [
    {
     "data": {
      "text/html": [
       "<table>\n",
       "<caption>A data.frame: 16 × 11</caption>\n",
       "<thead>\n",
       "\t<tr><th></th><th scope=col>type</th><th scope=col>cell</th><th scope=col>eqtl1_cell1</th><th scope=col>eqtl1_cell0</th><th scope=col>eqtl0_cell1</th><th scope=col>eqtl0_cell0</th><th scope=col>or</th><th scope=col>ci1</th><th scope=col>ci2</th><th scope=col>pval</th><th scope=col>qval</th></tr>\n",
       "\t<tr><th></th><th scope=col>&lt;chr&gt;</th><th scope=col>&lt;chr&gt;</th><th scope=col>&lt;int&gt;</th><th scope=col>&lt;int&gt;</th><th scope=col>&lt;int&gt;</th><th scope=col>&lt;int&gt;</th><th scope=col>&lt;dbl&gt;</th><th scope=col>&lt;dbl&gt;</th><th scope=col>&lt;dbl&gt;</th><th scope=col>&lt;dbl&gt;</th><th scope=col>&lt;dbl&gt;</th></tr>\n",
       "</thead>\n",
       "<tbody>\n",
       "\t<tr><th scope=row>1</th><td>gene_tpm   </td><td>cibersort.regular.cardiac_muscle</td><td>269</td><td>158</td><td>5756</td><td>5509</td><td>1.6293970</td><td>1.3289776</td><td>  2.0030467</td><td>1.239477e-06</td><td>1.859216e-05</td></tr>\n",
       "\t<tr><th scope=row>3</th><td>gene_tpm   </td><td>cibersort.regular.cardiac_neuron</td><td> 42</td><td> 76</td><td>3792</td><td>7782</td><td>1.1340988</td><td>0.7572788</td><td>  1.6782099</td><td>5.543799e-01</td><td>1.000000e+00</td></tr>\n",
       "\t<tr><th scope=row>5</th><td>gene_tpm   </td><td>cibersort.regular.endocardial   </td><td> 34</td><td> 45</td><td>4381</td><td>7232</td><td>1.2472037</td><td>0.7734297</td><td>  1.9943343</td><td>3.523202e-01</td><td>1.000000e+00</td></tr>\n",
       "\t<tr><th scope=row>7</th><td>gene_tpm   </td><td>cibersort.regular.endothelial   </td><td>  4</td><td>  6</td><td>4501</td><td>7181</td><td>1.0636093</td><td>0.2206371</td><td>  4.4879649</td><td>1.000000e+00</td><td>1.000000e+00</td></tr>\n",
       "\t<tr><th scope=row>9</th><td>gene_tpm   </td><td>cibersort.regular.fibroblast    </td><td> 93</td><td>126</td><td>5711</td><td>5762</td><td>0.7447078</td><td>0.5619634</td><td>  0.9839192</td><td>3.435873e-02</td><td>4.466634e-01</td></tr>\n",
       "\t<tr><th scope=row>11</th><td>gene_tpm   </td><td>cibersort.regular.immune        </td><td>111</td><td>192</td><td>3766</td><td>7623</td><td>1.1701904</td><td>0.9147752</td><td>  1.4910569</td><td>1.946124e-01</td><td>1.000000e+00</td></tr>\n",
       "\t<tr><th scope=row>13</th><td>gene_tpm   </td><td>cibersort.regular.myofibroblast </td><td>  2</td><td>  1</td><td>2078</td><td>9611</td><td>9.2459638</td><td>0.4811982</td><td>543.7816730</td><td>8.366004e-02</td><td>9.202604e-01</td></tr>\n",
       "\t<tr><th scope=row>15</th><td>gene_tpm   </td><td>cibersort.regular.smooth_muscle </td><td>120</td><td>348</td><td>2704</td><td>8520</td><td>1.0865150</td><td>0.8714346</td><td>  1.3472281</td><td>4.406049e-01</td><td>1.000000e+00</td></tr>\n",
       "\t<tr><th scope=row>2</th><td>isoform_use</td><td>cibersort.regular.cardiac_muscle</td><td> 41</td><td> 45</td><td>1318</td><td>5761</td><td>3.9814270</td><td>2.5313447</td><td>  6.2468613</td><td>1.184500e-09</td><td>1.895200e-08</td></tr>\n",
       "\t<tr><th scope=row>4</th><td>isoform_use</td><td>cibersort.regular.cardiac_neuron</td><td>  4</td><td> 28</td><td> 510</td><td>6623</td><td>1.8548930</td><td>0.4709800</td><td>  5.3316927</td><td>2.857271e-01</td><td>1.000000e+00</td></tr>\n",
       "\t<tr><th scope=row>6</th><td>isoform_use</td><td>cibersort.regular.endocardial   </td><td>  5</td><td> 26</td><td> 993</td><td>6141</td><td>1.1892415</td><td>0.3557895</td><td>  3.1572392</td><td>6.109388e-01</td><td>1.000000e+00</td></tr>\n",
       "\t<tr><th scope=row>8</th><td>isoform_use</td><td>cibersort.regular.endothelial   </td><td>  1</td><td>  2</td><td> 546</td><td>6616</td><td>6.0549313</td><td>0.1025071</td><td>116.5294488</td><td>2.120173e-01</td><td>1.000000e+00</td></tr>\n",
       "\t<tr><th scope=row>10</th><td>isoform_use</td><td>cibersort.regular.fibroblast    </td><td> 10</td><td> 58</td><td>1731</td><td>5366</td><td>0.5345395</td><td>0.2430168</td><td>  1.0577603</td><td>6.541834e-02</td><td>7.850200e-01</td></tr>\n",
       "\t<tr><th scope=row>12</th><td>isoform_use</td><td>cibersort.regular.immune        </td><td> 10</td><td>104</td><td> 443</td><td>6608</td><td>1.4341798</td><td>0.6632916</td><td>  2.7700897</td><td>2.470675e-01</td><td>1.000000e+00</td></tr>\n",
       "\t<tr><th scope=row>14</th><td>isoform_use</td><td>cibersort.regular.myofibroblast </td><td>  0</td><td>  2</td><td> 134</td><td>7029</td><td>0.0000000</td><td>0.0000000</td><td>280.4406862</td><td>1.000000e+00</td><td>1.000000e+00</td></tr>\n",
       "\t<tr><th scope=row>16</th><td>isoform_use</td><td>cibersort.regular.smooth_muscle </td><td> 21</td><td>174</td><td> 234</td><td>6736</td><td>3.4731499</td><td>2.0579995</td><td>  5.6017534</td><td>5.111765e-06</td><td>7.156471e-05</td></tr>\n",
       "</tbody>\n",
       "</table>\n"
      ],
      "text/latex": [
       "A data.frame: 16 × 11\n",
       "\\begin{tabular}{r|lllllllllll}\n",
       "  & type & cell & eqtl1\\_cell1 & eqtl1\\_cell0 & eqtl0\\_cell1 & eqtl0\\_cell0 & or & ci1 & ci2 & pval & qval\\\\\n",
       "  & <chr> & <chr> & <int> & <int> & <int> & <int> & <dbl> & <dbl> & <dbl> & <dbl> & <dbl>\\\\\n",
       "\\hline\n",
       "\t1 & gene\\_tpm    & cibersort.regular.cardiac\\_muscle & 269 & 158 & 5756 & 5509 & 1.6293970 & 1.3289776 &   2.0030467 & 1.239477e-06 & 1.859216e-05\\\\\n",
       "\t3 & gene\\_tpm    & cibersort.regular.cardiac\\_neuron &  42 &  76 & 3792 & 7782 & 1.1340988 & 0.7572788 &   1.6782099 & 5.543799e-01 & 1.000000e+00\\\\\n",
       "\t5 & gene\\_tpm    & cibersort.regular.endocardial    &  34 &  45 & 4381 & 7232 & 1.2472037 & 0.7734297 &   1.9943343 & 3.523202e-01 & 1.000000e+00\\\\\n",
       "\t7 & gene\\_tpm    & cibersort.regular.endothelial    &   4 &   6 & 4501 & 7181 & 1.0636093 & 0.2206371 &   4.4879649 & 1.000000e+00 & 1.000000e+00\\\\\n",
       "\t9 & gene\\_tpm    & cibersort.regular.fibroblast     &  93 & 126 & 5711 & 5762 & 0.7447078 & 0.5619634 &   0.9839192 & 3.435873e-02 & 4.466634e-01\\\\\n",
       "\t11 & gene\\_tpm    & cibersort.regular.immune         & 111 & 192 & 3766 & 7623 & 1.1701904 & 0.9147752 &   1.4910569 & 1.946124e-01 & 1.000000e+00\\\\\n",
       "\t13 & gene\\_tpm    & cibersort.regular.myofibroblast  &   2 &   1 & 2078 & 9611 & 9.2459638 & 0.4811982 & 543.7816730 & 8.366004e-02 & 9.202604e-01\\\\\n",
       "\t15 & gene\\_tpm    & cibersort.regular.smooth\\_muscle  & 120 & 348 & 2704 & 8520 & 1.0865150 & 0.8714346 &   1.3472281 & 4.406049e-01 & 1.000000e+00\\\\\n",
       "\t2 & isoform\\_use & cibersort.regular.cardiac\\_muscle &  41 &  45 & 1318 & 5761 & 3.9814270 & 2.5313447 &   6.2468613 & 1.184500e-09 & 1.895200e-08\\\\\n",
       "\t4 & isoform\\_use & cibersort.regular.cardiac\\_neuron &   4 &  28 &  510 & 6623 & 1.8548930 & 0.4709800 &   5.3316927 & 2.857271e-01 & 1.000000e+00\\\\\n",
       "\t6 & isoform\\_use & cibersort.regular.endocardial    &   5 &  26 &  993 & 6141 & 1.1892415 & 0.3557895 &   3.1572392 & 6.109388e-01 & 1.000000e+00\\\\\n",
       "\t8 & isoform\\_use & cibersort.regular.endothelial    &   1 &   2 &  546 & 6616 & 6.0549313 & 0.1025071 & 116.5294488 & 2.120173e-01 & 1.000000e+00\\\\\n",
       "\t10 & isoform\\_use & cibersort.regular.fibroblast     &  10 &  58 & 1731 & 5366 & 0.5345395 & 0.2430168 &   1.0577603 & 6.541834e-02 & 7.850200e-01\\\\\n",
       "\t12 & isoform\\_use & cibersort.regular.immune         &  10 & 104 &  443 & 6608 & 1.4341798 & 0.6632916 &   2.7700897 & 2.470675e-01 & 1.000000e+00\\\\\n",
       "\t14 & isoform\\_use & cibersort.regular.myofibroblast  &   0 &   2 &  134 & 7029 & 0.0000000 & 0.0000000 & 280.4406862 & 1.000000e+00 & 1.000000e+00\\\\\n",
       "\t16 & isoform\\_use & cibersort.regular.smooth\\_muscle  &  21 & 174 &  234 & 6736 & 3.4731499 & 2.0579995 &   5.6017534 & 5.111765e-06 & 7.156471e-05\\\\\n",
       "\\end{tabular}\n"
      ],
      "text/markdown": [
       "\n",
       "A data.frame: 16 × 11\n",
       "\n",
       "| <!--/--> | type &lt;chr&gt; | cell &lt;chr&gt; | eqtl1_cell1 &lt;int&gt; | eqtl1_cell0 &lt;int&gt; | eqtl0_cell1 &lt;int&gt; | eqtl0_cell0 &lt;int&gt; | or &lt;dbl&gt; | ci1 &lt;dbl&gt; | ci2 &lt;dbl&gt; | pval &lt;dbl&gt; | qval &lt;dbl&gt; |\n",
       "|---|---|---|---|---|---|---|---|---|---|---|---|\n",
       "| 1 | gene_tpm    | cibersort.regular.cardiac_muscle | 269 | 158 | 5756 | 5509 | 1.6293970 | 1.3289776 |   2.0030467 | 1.239477e-06 | 1.859216e-05 |\n",
       "| 3 | gene_tpm    | cibersort.regular.cardiac_neuron |  42 |  76 | 3792 | 7782 | 1.1340988 | 0.7572788 |   1.6782099 | 5.543799e-01 | 1.000000e+00 |\n",
       "| 5 | gene_tpm    | cibersort.regular.endocardial    |  34 |  45 | 4381 | 7232 | 1.2472037 | 0.7734297 |   1.9943343 | 3.523202e-01 | 1.000000e+00 |\n",
       "| 7 | gene_tpm    | cibersort.regular.endothelial    |   4 |   6 | 4501 | 7181 | 1.0636093 | 0.2206371 |   4.4879649 | 1.000000e+00 | 1.000000e+00 |\n",
       "| 9 | gene_tpm    | cibersort.regular.fibroblast     |  93 | 126 | 5711 | 5762 | 0.7447078 | 0.5619634 |   0.9839192 | 3.435873e-02 | 4.466634e-01 |\n",
       "| 11 | gene_tpm    | cibersort.regular.immune         | 111 | 192 | 3766 | 7623 | 1.1701904 | 0.9147752 |   1.4910569 | 1.946124e-01 | 1.000000e+00 |\n",
       "| 13 | gene_tpm    | cibersort.regular.myofibroblast  |   2 |   1 | 2078 | 9611 | 9.2459638 | 0.4811982 | 543.7816730 | 8.366004e-02 | 9.202604e-01 |\n",
       "| 15 | gene_tpm    | cibersort.regular.smooth_muscle  | 120 | 348 | 2704 | 8520 | 1.0865150 | 0.8714346 |   1.3472281 | 4.406049e-01 | 1.000000e+00 |\n",
       "| 2 | isoform_use | cibersort.regular.cardiac_muscle |  41 |  45 | 1318 | 5761 | 3.9814270 | 2.5313447 |   6.2468613 | 1.184500e-09 | 1.895200e-08 |\n",
       "| 4 | isoform_use | cibersort.regular.cardiac_neuron |   4 |  28 |  510 | 6623 | 1.8548930 | 0.4709800 |   5.3316927 | 2.857271e-01 | 1.000000e+00 |\n",
       "| 6 | isoform_use | cibersort.regular.endocardial    |   5 |  26 |  993 | 6141 | 1.1892415 | 0.3557895 |   3.1572392 | 6.109388e-01 | 1.000000e+00 |\n",
       "| 8 | isoform_use | cibersort.regular.endothelial    |   1 |   2 |  546 | 6616 | 6.0549313 | 0.1025071 | 116.5294488 | 2.120173e-01 | 1.000000e+00 |\n",
       "| 10 | isoform_use | cibersort.regular.fibroblast     |  10 |  58 | 1731 | 5366 | 0.5345395 | 0.2430168 |   1.0577603 | 6.541834e-02 | 7.850200e-01 |\n",
       "| 12 | isoform_use | cibersort.regular.immune         |  10 | 104 |  443 | 6608 | 1.4341798 | 0.6632916 |   2.7700897 | 2.470675e-01 | 1.000000e+00 |\n",
       "| 14 | isoform_use | cibersort.regular.myofibroblast  |   0 |   2 |  134 | 7029 | 0.0000000 | 0.0000000 | 280.4406862 | 1.000000e+00 | 1.000000e+00 |\n",
       "| 16 | isoform_use | cibersort.regular.smooth_muscle  |  21 | 174 |  234 | 6736 | 3.4731499 | 2.0579995 |   5.6017534 | 5.111765e-06 | 7.156471e-05 |\n",
       "\n"
      ],
      "text/plain": [
       "   type        cell                             eqtl1_cell1 eqtl1_cell0\n",
       "1  gene_tpm    cibersort.regular.cardiac_muscle 269         158        \n",
       "3  gene_tpm    cibersort.regular.cardiac_neuron  42          76        \n",
       "5  gene_tpm    cibersort.regular.endocardial     34          45        \n",
       "7  gene_tpm    cibersort.regular.endothelial      4           6        \n",
       "9  gene_tpm    cibersort.regular.fibroblast      93         126        \n",
       "11 gene_tpm    cibersort.regular.immune         111         192        \n",
       "13 gene_tpm    cibersort.regular.myofibroblast    2           1        \n",
       "15 gene_tpm    cibersort.regular.smooth_muscle  120         348        \n",
       "2  isoform_use cibersort.regular.cardiac_muscle  41          45        \n",
       "4  isoform_use cibersort.regular.cardiac_neuron   4          28        \n",
       "6  isoform_use cibersort.regular.endocardial      5          26        \n",
       "8  isoform_use cibersort.regular.endothelial      1           2        \n",
       "10 isoform_use cibersort.regular.fibroblast      10          58        \n",
       "12 isoform_use cibersort.regular.immune          10         104        \n",
       "14 isoform_use cibersort.regular.myofibroblast    0           2        \n",
       "16 isoform_use cibersort.regular.smooth_muscle   21         174        \n",
       "   eqtl0_cell1 eqtl0_cell0 or        ci1       ci2         pval        \n",
       "1  5756        5509        1.6293970 1.3289776   2.0030467 1.239477e-06\n",
       "3  3792        7782        1.1340988 0.7572788   1.6782099 5.543799e-01\n",
       "5  4381        7232        1.2472037 0.7734297   1.9943343 3.523202e-01\n",
       "7  4501        7181        1.0636093 0.2206371   4.4879649 1.000000e+00\n",
       "9  5711        5762        0.7447078 0.5619634   0.9839192 3.435873e-02\n",
       "11 3766        7623        1.1701904 0.9147752   1.4910569 1.946124e-01\n",
       "13 2078        9611        9.2459638 0.4811982 543.7816730 8.366004e-02\n",
       "15 2704        8520        1.0865150 0.8714346   1.3472281 4.406049e-01\n",
       "2  1318        5761        3.9814270 2.5313447   6.2468613 1.184500e-09\n",
       "4   510        6623        1.8548930 0.4709800   5.3316927 2.857271e-01\n",
       "6   993        6141        1.1892415 0.3557895   3.1572392 6.109388e-01\n",
       "8   546        6616        6.0549313 0.1025071 116.5294488 2.120173e-01\n",
       "10 1731        5366        0.5345395 0.2430168   1.0577603 6.541834e-02\n",
       "12  443        6608        1.4341798 0.6632916   2.7700897 2.470675e-01\n",
       "14  134        7029        0.0000000 0.0000000 280.4406862 1.000000e+00\n",
       "16  234        6736        3.4731499 2.0579995   5.6017534 5.111765e-06\n",
       "   qval        \n",
       "1  1.859216e-05\n",
       "3  1.000000e+00\n",
       "5  1.000000e+00\n",
       "7  1.000000e+00\n",
       "9  4.466634e-01\n",
       "11 1.000000e+00\n",
       "13 9.202604e-01\n",
       "15 1.000000e+00\n",
       "2  1.895200e-08\n",
       "4  1.000000e+00\n",
       "6  1.000000e+00\n",
       "8  1.000000e+00\n",
       "10 7.850200e-01\n",
       "12 1.000000e+00\n",
       "14 1.000000e+00\n",
       "16 7.156471e-05"
      ]
     },
     "metadata": {},
     "output_type": "display_data"
    }
   ],
   "source": []
  },
  {
   "cell_type": "markdown",
   "metadata": {},
   "source": [
    "## Describe RBPs and their isoforms: are they more likely to have eQTLs?"
   ]
  },
  {
   "cell_type": "code",
   "execution_count": 34,
   "metadata": {},
   "outputs": [
    {
     "data": {
      "text/plain": [
       "       rbp\n",
       "egene   FALSE  TRUE\n",
       "  FALSE  7835    59\n",
       "  TRUE  11635    57"
      ]
     },
     "metadata": {},
     "output_type": "display_data"
    },
    {
     "data": {
      "text/plain": [
       "       rbp\n",
       "egene   FALSE  TRUE\n",
       "  FALSE 29518   349\n",
       "  TRUE   7107    58"
      ]
     },
     "metadata": {},
     "output_type": "display_data"
    },
    {
     "data": {
      "text/plain": [
       "\n",
       "\tFisher's Exact Test for Count Data\n",
       "\n",
       "data:  table(eqtl_genes[eqtl_genes$type == 0, c(\"egene\", \"rbp\")])\n",
       "p-value = 0.02254\n",
       "alternative hypothesis: true odds ratio is not equal to 1\n",
       "95 percent confidence interval:\n",
       " 0.4435180 0.9537343\n",
       "sample estimates:\n",
       "odds ratio \n",
       "  0.650604 \n"
      ]
     },
     "metadata": {},
     "output_type": "display_data"
    },
    {
     "data": {
      "text/plain": [
       "\n",
       "\tFisher's Exact Test for Count Data\n",
       "\n",
       "data:  table(eqtl_isoforms[eqtl_isoforms$type == 0, c(\"egene\", \"rbp\")])\n",
       "p-value = 0.007973\n",
       "alternative hypothesis: true odds ratio is not equal to 1\n",
       "95 percent confidence interval:\n",
       " 0.5128156 0.9147867\n",
       "sample estimates:\n",
       "odds ratio \n",
       " 0.6902554 \n"
      ]
     },
     "metadata": {},
     "output_type": "display_data"
    }
   ],
   "source": [
    "table(eqtl_genes   [ eqtl_genes   $type == 0,c(\"egene\", \"rbp\")])\n",
    "table(eqtl_isoforms[ eqtl_isoforms$type == 0,c(\"egene\", \"rbp\")])\n",
    "\n",
    "fisher.test(table(eqtl_genes   [ eqtl_genes   $type == 0,c(\"egene\", \"rbp\")]))\n",
    "fisher.test(table(eqtl_isoforms[ eqtl_isoforms$type == 0,c(\"egene\", \"rbp\")]))\n"
   ]
  },
  {
   "cell_type": "code",
   "execution_count": null,
   "metadata": {},
   "outputs": [],
   "source": []
  }
 ],
 "metadata": {
  "kernelspec": {
   "display_name": "R 4.0.1",
   "language": "R",
   "name": "ir401"
  },
  "language_info": {
   "codemirror_mode": "r",
   "file_extension": ".r",
   "mimetype": "text/x-r-source",
   "name": "R",
   "pygments_lexer": "r",
   "version": "4.0.1"
  }
 },
 "nbformat": 4,
 "nbformat_minor": 2
}
