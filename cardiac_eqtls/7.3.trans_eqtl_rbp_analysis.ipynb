{
 "cells": [
  {
   "cell_type": "code",
   "execution_count": 1,
   "metadata": {},
   "outputs": [],
   "source": [
    "setwd(\"/frazer01/projects/CARDIPS/analysis/cardiac_eqtls\")\n",
    "\n",
    "source(\"script/packages.R\"  )\n",
    "source(\"script/input_data.R\")\n",
    "source(\"script/functions.R\" )\n",
    "source(\"script/colors.R\"    )\n"
   ]
  },
  {
   "cell_type": "code",
   "execution_count": 2,
   "metadata": {},
   "outputs": [],
   "source": [
    "geneinfo_gene       = fread(\"pipeline/1.2.expression/gene_info.txt\"    , sep = \"\\t\", header = TRUE , data.table = FALSE)\n",
    "geneinfo_isoform    = fread(\"pipeline/1.2.expression/isoform_info.txt\" , sep = \"\\t\", header = TRUE , data.table = FALSE)\n",
    "eqtl_rbp            = fread(\"pipeline/7.1.trans/rbp/input/eqtl_rbp.txt\", sep = \"\\t\", header = TRUE , data.table = FALSE)\n",
    "gene_map            = fread(\"/frazer01/reference/public/cross_mapability/hg19_gencode19_75merExon_75merUTR_2mismatch_gene_mappability.txt\" , sep = \"\\t\", header = FALSE, data.table = FALSE)\n",
    "gene_cross          = fread(\"/frazer01/reference/public/cross_mapability/hg19_gencode19_75merExon_75merUTR_2mismatch_cross_mappability.txt\", sep = \"\\t\", header = FALSE, data.table = FALSE)\n",
    "\n",
    "colnames(gene_map  ) = c(\"gene_id\", \"mappability\")\n",
    "colnames(gene_cross) = c(\"gene_id1\", \"gene_id2\", \"cross\")\n"
   ]
  },
  {
   "cell_type": "code",
   "execution_count": 21,
   "metadata": {},
   "outputs": [],
   "source": [
    "eqtl_rbp$gene2type = paste(eqtl_rbp$gene_id, eqtl_rbp$type)"
   ]
  },
  {
   "cell_type": "code",
   "execution_count": 10,
   "metadata": {},
   "outputs": [],
   "source": [
    "isoform2rbp = fread(\"pipeline/7.1.trans/rbp/input/isoform2rbp.txt\", sep = \"\\t\", header = TRUE , data.table = FALSE)\n"
   ]
  },
  {
   "cell_type": "code",
   "execution_count": 3,
   "metadata": {},
   "outputs": [],
   "source": [
    "trans0 = as.data.frame(rbindlist(lapply(list.files(\"pipeline/7.1.trans/rbp/trans_eqtls_by_rbp/\", full.names = TRUE), function(x)\n",
    "{\n",
    "    fread(x, sep = \"\\t\", header = TRUE, data.table = FALSE)\n",
    "})), stringsAsFactors = FALSE)\n",
    "\n",
    "fwrite(trans0, \"pipeline/7.1.trans/rbp/trans_eqtls.unfiltered.txt\", sep = \"\\t\", col.names = TRUE, row.names = FALSE)\n"
   ]
  },
  {
   "cell_type": "markdown",
   "metadata": {},
   "source": [
    "# Filter by mappability, similar to GTEx methods:\n",
    "- gene mappability >= 0.8\n",
    "- remove all cross mapped interactions"
   ]
  },
  {
   "cell_type": "code",
   "execution_count": 4,
   "metadata": {},
   "outputs": [],
   "source": [
    "gene_cross      $gene1 = unlist(lapply(gene_cross      $gene_id1, function(x){unlist(strsplit(x, \"\\\\.\"))[[1]]}))\n",
    "gene_cross      $gene2 = unlist(lapply(gene_cross      $gene_id2, function(x){unlist(strsplit(x, \"\\\\.\"))[[1]]}))\n",
    "gene_map        $gene  = unlist(lapply(gene_map        $gene_id , function(x){unlist(strsplit(x, \"\\\\.\"))[[1]]}))\n",
    "geneinfo_gene   $gene  = unlist(lapply(geneinfo_gene   $gene_id , function(x){unlist(strsplit(x, \"\\\\.\"))[[1]]}))\n",
    "geneinfo_isoform$gene  = unlist(lapply(geneinfo_isoform$gene_id , function(x){unlist(strsplit(x, \"\\\\.\"))[[1]]}))\n"
   ]
  },
  {
   "cell_type": "code",
   "execution_count": 5,
   "metadata": {},
   "outputs": [],
   "source": [
    "trans = merge(trans0, geneinfo_isoform[,c(\"transcript_id\", \"gene_id\", \"gene_name\")], by.x = \"transcript_id_trans\", by.y = \"transcript_id\", suffixes = c(\"_rbp\", \"_trans\"))"
   ]
  },
  {
   "cell_type": "code",
   "execution_count": 35,
   "metadata": {},
   "outputs": [
    {
     "data": {
      "text/html": [
       "9185040"
      ],
      "text/latex": [
       "9185040"
      ],
      "text/markdown": [
       "9185040"
      ],
      "text/plain": [
       "[1] 9185040"
      ]
     },
     "metadata": {},
     "output_type": "display_data"
    },
    {
     "data": {
      "text/html": [
       "8213590"
      ],
      "text/latex": [
       "8213590"
      ],
      "text/markdown": [
       "8213590"
      ],
      "text/plain": [
       "[1] 8213590"
      ]
     },
     "metadata": {},
     "output_type": "display_data"
    }
   ],
   "source": [
    "geneinfo_gene$is_map = FALSE\n",
    "geneinfo_gene[geneinfo_gene$gene %in% gene_map[gene_map$mappability >= 0.8, \"gene\"], \"is_map\"] = TRUE\n",
    "\n",
    "gene_cross$gene2gene = paste(gene_cross$gene1, gene_cross$gene2)\n",
    "\n",
    "gene_cross_filtered = merge(gene_cross         [,c(\"gene1\", \"gene2\", \"cross\"           )], geneinfo_gene[geneinfo_gene$is_map == TRUE, c(\"gene\", \"gene_id\")], by.x = \"gene1\", by.y = \"gene\")\n",
    "gene_cross_filtered = merge(gene_cross_filtered[,c(\"gene1\", \"gene2\", \"cross\", \"gene_id\")], geneinfo_gene[geneinfo_gene$is_map == TRUE, c(\"gene\", \"gene_id\")], by.x = \"gene2\", by.y = \"gene\", suffixes = 1:2)\n",
    "\n",
    "gene_cross_filtered$gene2gene = paste(gene_cross_filtered$gene_id1   , gene_cross_filtered$gene_id2     )\n",
    "trans              $gene2gene = paste(trans              $gene_id_rbp, trans              $gene_id_trans)\n",
    "\n",
    "nrow(trans)\n",
    "trans_filtered = trans[!trans$gene2gene %in% gene_cross_filtered$gene2gene & trans$gene_id_rbp %in% geneinfo_gene[geneinfo_gene$is_map == TRUE, \"gene_id\"] & trans$gene_id_trans %in% geneinfo_gene[geneinfo_gene$is_map == TRUE, \"gene_id\"] & trans$gene_id_rbp != trans$gene_id_trans,]\n",
    "nrow(trans_filtered)\n"
   ]
  },
  {
   "cell_type": "code",
   "execution_count": 36,
   "metadata": {},
   "outputs": [],
   "source": [
    "trans_filtered = merge(trans_filtered, geneinfo_gene[,c(\"gene_id\", \"chrom\", \"start\", \"end\")], by.x = \"gene_id_rbp\"  , by.y = \"gene_id\")\n",
    "trans_filtered = merge(trans_filtered, geneinfo_gene[,c(\"gene_id\", \"chrom\", \"start\", \"end\")], by.x = \"gene_id_trans\", by.y = \"gene_id\", suffixes = c(\"_rbp\", \"_trans\"))\n",
    "\n",
    "trans_filtered = trans_filtered[trans_filtered$chrom_rbp != trans_filtered$chrom_trans,]\n"
   ]
  },
  {
   "cell_type": "code",
   "execution_count": 40,
   "metadata": {},
   "outputs": [
    {
     "data": {
      "text/html": [
       "7748617"
      ],
      "text/latex": [
       "7748617"
      ],
      "text/markdown": [
       "7748617"
      ],
      "text/plain": [
       "[1] 7748617"
      ]
     },
     "metadata": {},
     "output_type": "display_data"
    }
   ],
   "source": [
    "nrow(trans_filtered)\n"
   ]
  },
  {
   "cell_type": "code",
   "execution_count": 38,
   "metadata": {},
   "outputs": [],
   "source": [
    "isoform2rbp   $rbp2iso = paste(isoform2rbp   $rbp_name     , isoform2rbp   $transcript_id      )\n",
    "trans_filtered$rbp2iso = paste(trans_filtered$gene_name_rbp, trans_filtered$transcript_id_trans)\n",
    "isoform2rbp   $n_bs    = isoform2rbp$x\n",
    "\n",
    "trans2rbp = merge(trans_filtered, isoform2rbp[,c(\"rbp2iso\", \"n_bs\")], all.x = TRUE)\n",
    "trans2rbp[is.na(trans2rbp$n_bs) == TRUE, \"n_bs\"] = 0"
   ]
  },
  {
   "cell_type": "code",
   "execution_count": 45,
   "metadata": {},
   "outputs": [],
   "source": [
    "trans2rbp$rbp2type = paste(trans2rbp$gene_id_rbp, trans2rbp$type)\n"
   ]
  },
  {
   "cell_type": "code",
   "execution_count": 44,
   "metadata": {},
   "outputs": [
    {
     "name": "stdout",
     "output_type": "stream",
     "text": [
      "'data.frame':\t7748617 obs. of  21 variables:\n",
      " $ rbp2iso            : chr  \"ABCF1 ENST00000000233.10_2\" \"ABCF1 ENST00000000233.10_2\" \"ABCF1 ENST00000000233.10_2\" \"ABCF1 ENST00000000412.3\" ...\n",
      " $ gene_id_trans      : chr  \"ENSG00000004059.11_6\" \"ENSG00000004059.11_6\" \"ENSG00000004059.11_6\" \"ENSG00000003056.3\" ...\n",
      " $ gene_id_rbp        : chr  \"ENSG00000204574.13_6\" \"ENSG00000204574.13_6\" \"ENSG00000204574.13_6\" \"ENSG00000204574.13_6\" ...\n",
      " $ transcript_id_trans: chr  \"ENST00000000233.10_2\" \"ENST00000000233.10_2\" \"ENST00000000233.10_2\" \"ENST00000000412.3\" ...\n",
      " $ gene_name_rbp      : chr  \"ABCF1\" \"ABCF1\" \"ABCF1\" \"ABCF1\" ...\n",
      " $ type               : int  2 0 1 2 1 0 0 1 2 0 ...\n",
      " $ beta_gt            : num  0.00488 -0.00129 -0.00911 -0.03142 -0.04261 ...\n",
      " $ se_gt              : num  0.0809 0.1068 0.1362 0.0428 0.072 ...\n",
      " $ pval_gt            : num  0.952 0.99 0.947 0.463 0.554 ...\n",
      " $ beta_exp           : num  0.1929 0.1929 0.1929 0.0539 0.0539 ...\n",
      " $ se_exp             : num  0.083 0.083 0.083 0.0439 0.0439 ...\n",
      " $ pval_exp           : num  0.0203 0.0203 0.0203 0.22 0.22 ...\n",
      " $ gene_name_trans    : chr  \"ARF5\" \"ARF5\" \"ARF5\" \"M6PR\" ...\n",
      " $ gene2gene          : chr  \"ENSG00000204574.13_6 ENSG00000004059.11_6\" \"ENSG00000204574.13_6 ENSG00000004059.11_6\" \"ENSG00000204574.13_6 ENSG00000004059.11_6\" \"ENSG00000204574.13_6 ENSG00000003056.3\" ...\n",
      " $ chrom_rbp          : chr  \"chr6\" \"chr6\" \"chr6\" \"chr6\" ...\n",
      " $ start_rbp          : int  30539170 30539170 30539170 30539170 30539170 30539170 30539170 30539170 30539170 30539170 ...\n",
      " $ end_rbp            : int  30564956 30564956 30564956 30564956 30564956 30564956 30564956 30564956 30564956 30564956 ...\n",
      " $ chrom_trans        : chr  \"chr7\" \"chr7\" \"chr7\" \"chr12\" ...\n",
      " $ start_trans        : int  127228440 127228440 127228440 9092959 9092959 9092959 64072969 64072969 64072969 2904136 ...\n",
      " $ end_trans          : int  127231754 127231754 127231754 9102551 9102551 9102551 64084215 64084215 64084215 2914589 ...\n",
      " $ n_bs               : num  3 3 3 1 1 1 9 9 9 12 ...\n"
     ]
    }
   ],
   "source": [
    "str(trans2rbp)"
   ]
  },
  {
   "cell_type": "markdown",
   "metadata": {},
   "source": [
    "# Find trans-eQTLs:\n",
    "- RBP is eGene\n",
    "- "
   ]
  },
  {
   "cell_type": "code",
   "execution_count": 46,
   "metadata": {},
   "outputs": [
    {
     "data": {
      "text/html": [
       "2"
      ],
      "text/latex": [
       "2"
      ],
      "text/markdown": [
       "2"
      ],
      "text/plain": [
       "[1] 2"
      ]
     },
     "metadata": {},
     "output_type": "display_data"
    }
   ],
   "source": [
    "trans_fdr        = trans2rbp[trans2rbp$n_bs > 0 & trans2rbp$rbp2type %in% eqtl_rbp[ eqtl_rbp$egene == TRUE, \"gene2type\"],]\n",
    "trans_fdr$fdr_gt = p.adjust(trans_fdr$pval_gt, method = \"bonferroni\")\n",
    "\n",
    "nrow(trans_fdr[trans_fdr$fdr_gt < 0.05,])\n"
   ]
  },
  {
   "cell_type": "code",
   "execution_count": 50,
   "metadata": {},
   "outputs": [
    {
     "data": {
      "text/html": [
       "<table>\n",
       "<caption>A data.frame: 6 × 2</caption>\n",
       "<thead>\n",
       "\t<tr><th></th><th scope=col>gene_name_rbp</th><th scope=col>gene_name_trans</th></tr>\n",
       "\t<tr><th></th><th scope=col>&lt;chr&gt;</th><th scope=col>&lt;chr&gt;</th></tr>\n",
       "</thead>\n",
       "<tbody>\n",
       "\t<tr><th scope=row>5549643</th><td>RPS3  </td><td>HLA-C  </td></tr>\n",
       "\t<tr><th scope=row>6849474</th><td>U2AF2 </td><td>P3H3   </td></tr>\n",
       "\t<tr><th scope=row>3883922</th><td>LIN28B</td><td>DCXR   </td></tr>\n",
       "\t<tr><th scope=row>4027990</th><td>METAP2</td><td>CD151  </td></tr>\n",
       "\t<tr><th scope=row>4014895</th><td>METAP2</td><td>ZC3HC1 </td></tr>\n",
       "\t<tr><th scope=row>7481060</th><td>YBX3  </td><td>SLCO3A1</td></tr>\n",
       "</tbody>\n",
       "</table>\n"
      ],
      "text/latex": [
       "A data.frame: 6 × 2\n",
       "\\begin{tabular}{r|ll}\n",
       "  & gene\\_name\\_rbp & gene\\_name\\_trans\\\\\n",
       "  & <chr> & <chr>\\\\\n",
       "\\hline\n",
       "\t5549643 & RPS3   & HLA-C  \\\\\n",
       "\t6849474 & U2AF2  & P3H3   \\\\\n",
       "\t3883922 & LIN28B & DCXR   \\\\\n",
       "\t4027990 & METAP2 & CD151  \\\\\n",
       "\t4014895 & METAP2 & ZC3HC1 \\\\\n",
       "\t7481060 & YBX3   & SLCO3A1\\\\\n",
       "\\end{tabular}\n"
      ],
      "text/markdown": [
       "\n",
       "A data.frame: 6 × 2\n",
       "\n",
       "| <!--/--> | gene_name_rbp &lt;chr&gt; | gene_name_trans &lt;chr&gt; |\n",
       "|---|---|---|\n",
       "| 5549643 | RPS3   | HLA-C   |\n",
       "| 6849474 | U2AF2  | P3H3    |\n",
       "| 3883922 | LIN28B | DCXR    |\n",
       "| 4027990 | METAP2 | CD151   |\n",
       "| 4014895 | METAP2 | ZC3HC1  |\n",
       "| 7481060 | YBX3   | SLCO3A1 |\n",
       "\n"
      ],
      "text/plain": [
       "        gene_name_rbp gene_name_trans\n",
       "5549643 RPS3          HLA-C          \n",
       "6849474 U2AF2         P3H3           \n",
       "3883922 LIN28B        DCXR           \n",
       "4027990 METAP2        CD151          \n",
       "4014895 METAP2        ZC3HC1         \n",
       "7481060 YBX3          SLCO3A1        "
      ]
     },
     "metadata": {},
     "output_type": "display_data"
    }
   ],
   "source": [
    "head(trans_fdr[order(trans_fdr$pval_gt), c(\"gene_name_rbp\", \"gene_name_trans\")])"
   ]
  },
  {
   "cell_type": "code",
   "execution_count": 41,
   "metadata": {},
   "outputs": [
    {
     "data": {
      "text/plain": [
       "\n",
       "\tPearson's product-moment correlation\n",
       "\n",
       "data:  abs(trans2rbp$beta_gt) and trans2rbp$n_bs\n",
       "t = -80.821, df = 7748615, p-value < 2.2e-16\n",
       "alternative hypothesis: true correlation is not equal to 0\n",
       "95 percent confidence interval:\n",
       " -0.02972575 -0.02831873\n",
       "sample estimates:\n",
       "        cor \n",
       "-0.02902226 \n"
      ]
     },
     "metadata": {},
     "output_type": "display_data"
    },
    {
     "data": {
      "text/plain": [
       "\n",
       "\tWelch Two Sample t-test\n",
       "\n",
       "data:  abs(trans2rbp[trans2rbp$n_bs == 0, \"beta_gt\"]) and abs(trans2rbp[trans2rbp$n_bs > 0, \"beta_gt\"])\n",
       "t = 94.61, df = 4455378, p-value < 2.2e-16\n",
       "alternative hypothesis: true difference in means is not equal to 0\n",
       "95 percent confidence interval:\n",
       " 0.005471112 0.005702589\n",
       "sample estimates:\n",
       " mean of x  mean of y \n",
       "0.09035696 0.08477011 \n"
      ]
     },
     "metadata": {},
     "output_type": "display_data"
    }
   ],
   "source": [
    "cor.test(abs(trans2rbp$beta_gt), trans2rbp$n_bs)\n",
    "t.test(abs(trans2rbp[trans2rbp$n_bs == 0, \"beta_gt\"]), abs(trans2rbp[trans2rbp$n_bs > 0, \"beta_gt\"]))"
   ]
  },
  {
   "cell_type": "code",
   "execution_count": 19,
   "metadata": {},
   "outputs": [
    {
     "name": "stdout",
     "output_type": "stream",
     "text": [
      "'data.frame':\t240 obs. of  24 variables:\n",
      " $ transcript_id: chr  \"ENSG00000003756.17_8\" \"ENSG00000004478.8_4\" \"ENSG00000004478.8_4\" \"ENSG00000004478.8_4\" ...\n",
      " $ gene_id      : chr  \"ENSG00000003756.17_8\" \"ENSG00000004478.8_4\" \"ENSG00000004478.8_4\" \"ENSG00000004478.8_4\" ...\n",
      " $ gene_name    : chr  \"RBM5\" \"FKBP4\" \"FKBP4\" \"FKBP4\" ...\n",
      " $ gene_type    : chr  \"protein_coding\" \"protein_coding\" \"protein_coding\" \"protein_coding\" ...\n",
      " $ start        : int  50126352 2904136 2904136 2904136 18942768 15490861 15490861 49337907 49337907 797075 ...\n",
      " $ end          : int  50156454 2914589 2914589 2914589 18979039 15529952 15529952 49375297 49375297 812327 ...\n",
      " $ strand       : chr  \"+\" \"+\" \"+\" \"+\" ...\n",
      " $ chrom        : int  3 12 12 12 19 19 19 17 17 19 ...\n",
      " $ pos          : int  50291617 3131206 2559828 3077678 18542000 15184745 15595193 49333926 49249186 738113 ...\n",
      " $ ref          : chr  \"G\" \"T\" \"G\" \"C\" ...\n",
      " $ alt          : chr  \"A\" \"C\" \"A\" \"T\" ...\n",
      " $ rsid         : chr  \"rs9852677\" \"rs3741952\" \"rs4765934\" \"rs61916417\" ...\n",
      " $ id           : chr  \"VAR_3_50291617_G_A\" \"VAR_12_3131206_T_C\" \"VAR_12_2559828_G_A\" \"VAR_12_3077678_C_T\" ...\n",
      " $ af           : num  0.171 0.748 0.372 0.175 0.305 0.087 0.241 0.586 0.524 0.771 ...\n",
      " $ beta         : num  -0.095 -0.113 0.132 -0.105 -0.109 ...\n",
      " $ se           : num  0.0351 0.0289 0.0285 0.0322 0.0325 ...\n",
      " $ pval         : num  3.75e-03 2.62e-05 1.28e-06 7.68e-04 4.45e-04 ...\n",
      " $ bonferroni   : num  1 0.06404 0.00313 1 0.79218 ...\n",
      " $ fdr          : num  1 0.019472 0.000953 1 0.222079 ...\n",
      " $ tests        : int  915 744 744 2447 499 637 637 425 425 1454 ...\n",
      " $ type         : int  0 0 1 2 0 1 0 1 0 1 ...\n",
      " $ qval         : num  1 0.0347 0.00552 1 0.29288 ...\n",
      " $ egene        : logi  FALSE TRUE TRUE FALSE FALSE FALSE ...\n",
      " $ distance     : int  165265 227070 -344308 173542 -400768 345207 -65241 -3981 -88721 -58962 ...\n",
      "'data.frame':\t8213590 obs. of  16 variables:\n",
      " $ rbp2iso            : chr  \"ABCF1 ENST00000000233.10_2\" \"ABCF1 ENST00000000233.10_2\" \"ABCF1 ENST00000000233.10_2\" \"ABCF1 ENST00000000412.3\" ...\n",
      " $ transcript_id_trans: chr  \"ENST00000000233.10_2\" \"ENST00000000233.10_2\" \"ENST00000000233.10_2\" \"ENST00000000412.3\" ...\n",
      " $ gene_id_rbp        : chr  \"ENSG00000204574.13_6\" \"ENSG00000204574.13_6\" \"ENSG00000204574.13_6\" \"ENSG00000204574.13_6\" ...\n",
      " $ gene_name_rbp      : chr  \"ABCF1\" \"ABCF1\" \"ABCF1\" \"ABCF1\" ...\n",
      " $ type               : int  0 1 2 0 1 2 1 0 2 1 ...\n",
      " $ beta_gt            : num  -0.00129 -0.00911 0.00488 -0.00236 -0.04261 ...\n",
      " $ se_gt              : num  0.1068 0.1362 0.0809 0.0565 0.072 ...\n",
      " $ pval_gt            : num  0.99 0.947 0.952 0.967 0.554 ...\n",
      " $ beta_exp           : num  0.1929 0.1929 0.1929 0.0539 0.0539 ...\n",
      " $ se_exp             : num  0.083 0.083 0.083 0.0439 0.0439 ...\n",
      " $ pval_exp           : num  0.0203 0.0203 0.0203 0.22 0.22 ...\n",
      " $ gene_id_trans      : chr  \"ENSG00000004059.11_6\" \"ENSG00000004059.11_6\" \"ENSG00000004059.11_6\" \"ENSG00000003056.3\" ...\n",
      " $ gene_name_trans    : chr  \"ARF5\" \"ARF5\" \"ARF5\" \"M6PR\" ...\n",
      " $ gene2gene          : chr  \"ENSG00000204574.13_6 ENSG00000004059.11_6\" \"ENSG00000204574.13_6 ENSG00000004059.11_6\" \"ENSG00000204574.13_6 ENSG00000004059.11_6\" \"ENSG00000204574.13_6 ENSG00000003056.3\" ...\n",
      " $ rbp2type           : chr  \"ENSG00000204574.13_6 0\" \"ENSG00000204574.13_6 1\" \"ENSG00000204574.13_6 2\" \"ENSG00000204574.13_6 0\" ...\n",
      " $ n_bs               : num  3 3 3 1 1 1 9 9 9 12 ...\n"
     ]
    }
   ],
   "source": [
    "str(eqtl_rbp)\n",
    "str(trans2rbp)"
   ]
  },
  {
   "cell_type": "markdown",
   "metadata": {},
   "source": [
    "# FDR Correction"
   ]
  },
  {
   "cell_type": "code",
   "execution_count": 8,
   "metadata": {},
   "outputs": [
    {
     "data": {
      "text/html": [
       "201"
      ],
      "text/latex": [
       "201"
      ],
      "text/markdown": [
       "201"
      ],
      "text/plain": [
       "[1] 201"
      ]
     },
     "metadata": {},
     "output_type": "display_data"
    }
   ],
   "source": [
    "\n",
    "trans_fdr = as.data.frame(rbindlist(lapply(sort(unique(trans_filtered$rbp2type)), function(x)\n",
    "{\n",
    "    this = trans_filtered[trans_filtered$rbp2type == x,]\n",
    "    this$fdr_gt = p.adjust(this$pval_gt, method = \"BH\")\n",
    "    \n",
    "    return(this)\n",
    "})), stringsAsFactors = FALSE)\n",
    "\n",
    "nrow(trans_fdr[trans_fdr$fdr_gt < 0.05,])\n"
   ]
  },
  {
   "cell_type": "code",
   "execution_count": 41,
   "metadata": {},
   "outputs": [
    {
     "data": {
      "text/html": [
       "8214211"
      ],
      "text/latex": [
       "8214211"
      ],
      "text/markdown": [
       "8214211"
      ],
      "text/plain": [
       "[1] 8214211"
      ]
     },
     "metadata": {},
     "output_type": "display_data"
    },
    {
     "data": {
      "text/html": [
       "138"
      ],
      "text/latex": [
       "138"
      ],
      "text/markdown": [
       "138"
      ],
      "text/plain": [
       "[1] 138"
      ]
     },
     "metadata": {},
     "output_type": "display_data"
    },
    {
     "data": {
      "text/html": [
       "62"
      ],
      "text/latex": [
       "62"
      ],
      "text/markdown": [
       "62"
      ],
      "text/plain": [
       "[1] 62"
      ]
     },
     "metadata": {},
     "output_type": "display_data"
    }
   ],
   "source": [
    "nrow(trans_filtered)\n",
    "\n",
    "trans_filtered$fdr_gt = p.adjust(trans_filtered$pval_gt, method = \"BH\")\n",
    "\n",
    "nrow(trans_filtered[trans_filtered$fdr_gt < 0.05,])\n",
    "\n",
    "trans_filtered$fdr_gt = p.adjust(trans_filtered$pval_gt, method = \"bonferroni\")\n",
    "\n",
    "nrow(trans_filtered[trans_filtered$fdr_gt < 0.05,])\n",
    "\n",
    "\n"
   ]
  },
  {
   "cell_type": "code",
   "execution_count": 9,
   "metadata": {},
   "outputs": [
    {
     "data": {
      "text/html": [
       "<table>\n",
       "<caption>A data.frame: 201 × 15</caption>\n",
       "<thead>\n",
       "\t<tr><th></th><th scope=col>transcript_id_trans</th><th scope=col>gene_id_rbp</th><th scope=col>gene_name_rbp</th><th scope=col>type</th><th scope=col>beta_gt</th><th scope=col>se_gt</th><th scope=col>pval_gt</th><th scope=col>beta_exp</th><th scope=col>se_exp</th><th scope=col>pval_exp</th><th scope=col>gene_id_trans</th><th scope=col>gene_name_trans</th><th scope=col>gene2gene</th><th scope=col>rbp2type</th><th scope=col>fdr_gt</th></tr>\n",
       "\t<tr><th></th><th scope=col>&lt;chr&gt;</th><th scope=col>&lt;chr&gt;</th><th scope=col>&lt;chr&gt;</th><th scope=col>&lt;int&gt;</th><th scope=col>&lt;dbl&gt;</th><th scope=col>&lt;dbl&gt;</th><th scope=col>&lt;dbl&gt;</th><th scope=col>&lt;dbl&gt;</th><th scope=col>&lt;dbl&gt;</th><th scope=col>&lt;dbl&gt;</th><th scope=col>&lt;chr&gt;</th><th scope=col>&lt;chr&gt;</th><th scope=col>&lt;chr&gt;</th><th scope=col>&lt;chr&gt;</th><th scope=col>&lt;dbl&gt;</th></tr>\n",
       "</thead>\n",
       "<tbody>\n",
       "\t<tr><th scope=row>1290835</th><td>ENST00000221943.13_3</td><td>ENSG00000077348.9_5 </td><td>EXOSC5</td><td>0</td><td>-1.8316911</td><td>0.07005790</td><td>2.561077e-111</td><td> 0.329216320</td><td>0.06715195</td><td>1.130755e-06</td><td>ENSG00000105341.18_8</td><td>DMAC2      </td><td>ENSG00000077348.9_5 ENSG00000105341.18_8 </td><td>ENSG00000077348.9_5 0 </td><td>9.199900e-107</td></tr>\n",
       "\t<tr><th scope=row>1305077</th><td>ENST00000438807.7_2 </td><td>ENSG00000077348.9_5 </td><td>EXOSC5</td><td>0</td><td> 1.7660105</td><td>0.07024377</td><td>5.650790e-105</td><td>-0.353242412</td><td>0.06619657</td><td>1.214285e-07</td><td>ENSG00000105341.18_8</td><td>DMAC2      </td><td>ENSG00000077348.9_5 ENSG00000105341.18_8 </td><td>ENSG00000077348.9_5 0 </td><td>1.014938e-100</td></tr>\n",
       "\t<tr><th scope=row>1321819</th><td>ENST00000589970.5_4 </td><td>ENSG00000077348.9_5 </td><td>EXOSC5</td><td>0</td><td> 1.4305681</td><td>0.06605678</td><td> 2.482885e-83</td><td>-0.248140228</td><td>0.05874833</td><td>2.658543e-05</td><td>ENSG00000105341.18_8</td><td>DMAC2      </td><td>ENSG00000077348.9_5 ENSG00000105341.18_8 </td><td>ENSG00000077348.9_5 0 </td><td> 2.973007e-79</td></tr>\n",
       "\t<tr><th scope=row>4447242</th><td>ENST00000232766.6_2 </td><td>ENSG00000132153.15_4</td><td>DHX30 </td><td>0</td><td> 1.0885030</td><td>0.05868925</td><td> 7.645252e-65</td><td>-0.030778172</td><td>0.04488684</td><td>4.930974e-01</td><td>ENSG00000114648.12_5</td><td>KLHL18     </td><td>ENSG00000132153.15_4 ENSG00000114648.12_5</td><td>ENSG00000132153.15_4 0</td><td> 2.740135e-60</td></tr>\n",
       "\t<tr><th scope=row>4466322</th><td>ENST00000483201.1_1 </td><td>ENSG00000132153.15_4</td><td>DHX30 </td><td>0</td><td>-1.1254084</td><td>0.06119269</td><td> 6.021527e-64</td><td> 0.036452486</td><td>0.04668954</td><td>4.351691e-01</td><td>ENSG00000114648.12_5</td><td>KLHL18     </td><td>ENSG00000132153.15_4 ENSG00000114648.12_5</td><td>ENSG00000132153.15_4 0</td><td> 1.079088e-59</td></tr>\n",
       "\t<tr><th scope=row>7308091</th><td>ENST00000545991.1_2 </td><td>ENSG00000177192.14_6</td><td>PUS1  </td><td>1</td><td> 1.1263665</td><td>0.08303945</td><td> 4.057461e-38</td><td> 0.173940835</td><td>0.06592876</td><td>8.482515e-03</td><td>ENSG00000185163.10_5</td><td>DDX51      </td><td>ENSG00000177192.14_6 ENSG00000185163.10_5</td><td>ENSG00000177192.14_6 1</td><td> 1.457075e-33</td></tr>\n",
       "\t<tr><th scope=row>6406449</th><td>ENST00000503548.1_1 </td><td>ENSG00000163950.13_6</td><td>SLBP  </td><td>0</td><td> 0.8465191</td><td>0.06433221</td><td> 3.697921e-36</td><td>-0.004642902</td><td>0.06630632</td><td>9.441924e-01</td><td>ENSG00000163945.18_7</td><td>UVSSA      </td><td>ENSG00000163950.13_6 ENSG00000163945.18_7</td><td>ENSG00000163950.13_6 0</td><td> 1.328256e-31</td></tr>\n",
       "\t<tr><th scope=row>1422302</th><td>ENST00000520773.5_2 </td><td>ENSG00000086589.12_6</td><td>RBM22 </td><td>0</td><td> 1.2615286</td><td>0.11152995</td><td> 9.485335e-28</td><td> 0.063131727</td><td>0.05746532</td><td>2.722476e-01</td><td>ENSG00000197083.11_6</td><td>ZNF300P1   </td><td>ENSG00000086589.12_6 ENSG00000197083.11_6</td><td>ENSG00000086589.12_6 0</td><td> 3.407038e-23</td></tr>\n",
       "\t<tr><th scope=row>7292419</th><td>ENST00000397333.4_3 </td><td>ENSG00000177192.14_6</td><td>PUS1  </td><td>1</td><td>-0.7217171</td><td>0.06656053</td><td> 9.186856e-26</td><td>-0.005428641</td><td>0.05113513</td><td>9.154781e-01</td><td>ENSG00000185163.10_5</td><td>DDX51      </td><td>ENSG00000177192.14_6 ENSG00000185163.10_5</td><td>ENSG00000177192.14_6 1</td><td> 1.649546e-21</td></tr>\n",
       "\t<tr><th scope=row>1317503</th><td>ENST00000546362.5_1 </td><td>ENSG00000077348.9_5 </td><td>EXOSC5</td><td>0</td><td>-1.0221577</td><td>0.10044566</td><td> 4.825409e-23</td><td> 0.243054959</td><td>0.07605391</td><td>1.445184e-03</td><td>ENSG00000142046.15_5</td><td>TMEM91     </td><td>ENSG00000077348.9_5 ENSG00000142046.15_5 </td><td>ENSG00000077348.9_5 0 </td><td> 4.333459e-19</td></tr>\n",
       "\t<tr><th scope=row>173583</th><td>ENST00000577916.6_2 </td><td>ENSG00000005007.13_4</td><td>UPF1  </td><td>0</td><td>-0.5059715</td><td>0.05097062</td><td> 4.650243e-22</td><td>-0.063344637</td><td>0.04371253</td><td>1.476690e-01</td><td>ENSG00000105655.19_8</td><td>ISYNA1     </td><td>ENSG00000005007.13_4 ENSG00000105655.19_8</td><td>ENSG00000005007.13_4 0</td><td> 1.670274e-17</td></tr>\n",
       "\t<tr><th scope=row>7892229</th><td>ENST00000259006.8_4 </td><td>ENSG00000198231.13_7</td><td>DDX42 </td><td>1</td><td>-0.4421802</td><td>0.04910855</td><td> 1.376043e-18</td><td>-0.003589164</td><td>0.04276131</td><td>9.331278e-01</td><td>ENSG00000136490.9_7 </td><td>LIMD2      </td><td>ENSG00000198231.13_7 ENSG00000136490.9_7 </td><td>ENSG00000198231.13_7 1</td><td> 4.942196e-14</td></tr>\n",
       "\t<tr><th scope=row>1404833</th><td>ENST00000356555.6_2 </td><td>ENSG00000086589.12_6</td><td>RBM22 </td><td>0</td><td>-1.2241191</td><td>0.13979871</td><td> 1.058999e-17</td><td>-0.074437539</td><td>0.07013483</td><td>2.888293e-01</td><td>ENSG00000197083.11_6</td><td>ZNF300P1   </td><td>ENSG00000086589.12_6 ENSG00000197083.11_6</td><td>ENSG00000086589.12_6 0</td><td> 1.901910e-13</td></tr>\n",
       "\t<tr><th scope=row>8048558</th><td>ENST00000434086.1_2 </td><td>ENSG00000204574.13_6</td><td>ABCF1 </td><td>1</td><td>-1.4697015</td><td>0.17032436</td><td> 2.970678e-17</td><td> 0.070976414</td><td>0.10817986</td><td>5.119376e-01</td><td>ENSG00000214922.9_7 </td><td>HLA-F-AS1  </td><td>ENSG00000204574.13_6 ENSG00000214922.9_7 </td><td>ENSG00000204574.13_6 1</td><td> 1.061304e-12</td></tr>\n",
       "\t<tr><th scope=row>7285958</th><td>ENST00000329073.8_2 </td><td>ENSG00000177192.14_6</td><td>PUS1  </td><td>1</td><td> 0.6655914</td><td>0.07721736</td><td> 3.196916e-17</td><td>-0.017370385</td><td>0.05799308</td><td>7.646118e-01</td><td>ENSG00000185163.10_5</td><td>DDX51      </td><td>ENSG00000177192.14_6 ENSG00000185163.10_5</td><td>ENSG00000177192.14_6 1</td><td> 3.826815e-13</td></tr>\n",
       "\t<tr><th scope=row>1322249</th><td>ENST00000592922.6_3 </td><td>ENSG00000077348.9_5 </td><td>EXOSC5</td><td>0</td><td>-0.6819991</td><td>0.07944383</td><td> 4.234906e-17</td><td> 0.168745943</td><td>0.05921174</td><td>4.478189e-03</td><td>ENSG00000105341.18_8</td><td>DMAC2      </td><td>ENSG00000077348.9_5 ENSG00000105341.18_8 </td><td>ENSG00000077348.9_5 0 </td><td> 3.042526e-13</td></tr>\n",
       "\t<tr><th scope=row>8068435</th><td>ENST00000640615.1_2 </td><td>ENSG00000204574.13_6</td><td>ABCF1 </td><td>1</td><td> 1.4088927</td><td>0.16950632</td><td> 3.664148e-16</td><td> 0.257168491</td><td>0.10735006</td><td>1.680578e-02</td><td>ENSG00000234745.11_5</td><td>HLA-B      </td><td>ENSG00000204574.13_6 ENSG00000234745.11_5</td><td>ENSG00000204574.13_6 1</td><td> 6.545268e-12</td></tr>\n",
       "\t<tr><th scope=row>435017</th><td>ENST00000330794.9_3 </td><td>ENSG00000015479.19_8</td><td>MATR3 </td><td>1</td><td> 0.5558965</td><td>0.06819679</td><td> 1.267696e-15</td><td> 0.216103950</td><td>0.07936023</td><td>6.598730e-03</td><td>ENSG00000184584.13_8</td><td>STING1     </td><td>ENSG00000015479.19_8 ENSG00000184584.13_8</td><td>ENSG00000015479.19_8 1</td><td> 4.482954e-11</td></tr>\n",
       "\t<tr><th scope=row>399654</th><td>ENST00000330794.9_3 </td><td>ENSG00000015479.19_8</td><td>MATR3 </td><td>0</td><td>-0.4834587</td><td>0.06733500</td><td> 1.510765e-12</td><td> 0.216103950</td><td>0.07936023</td><td>6.598730e-03</td><td>ENSG00000184584.13_8</td><td>STING1     </td><td>ENSG00000015479.19_8 ENSG00000184584.13_8</td><td>ENSG00000015479.19_8 0</td><td> 5.342520e-08</td></tr>\n",
       "\t<tr><th scope=row>8053654</th><td>ENST00000480966.1_2 </td><td>ENSG00000204574.13_6</td><td>ABCF1 </td><td>1</td><td>-1.0648358</td><td>0.14858180</td><td> 1.655137e-12</td><td> 0.077434535</td><td>0.09319551</td><td>4.062705e-01</td><td>ENSG00000204560.10_6</td><td>DHX16      </td><td>ENSG00000204574.13_6 ENSG00000204560.10_6</td><td>ENSG00000204574.13_6 1</td><td> 1.971047e-08</td></tr>\n",
       "\t<tr><th scope=row>1304873</th><td>ENST00000436170.6_1 </td><td>ENSG00000077348.9_5 </td><td>EXOSC5</td><td>0</td><td> 0.6731165</td><td>0.09465229</td><td> 2.417893e-12</td><td>-0.194289950</td><td>0.06966704</td><td>5.406615e-03</td><td>ENSG00000142046.15_5</td><td>TMEM91     </td><td>ENSG00000077348.9_5 ENSG00000142046.15_5 </td><td>ENSG00000077348.9_5 0 </td><td> 1.447593e-08</td></tr>\n",
       "\t<tr><th scope=row>310328</th><td>ENST00000512737.5_1 </td><td>ENSG00000011260.14_4</td><td>UTP18 </td><td>1</td><td> 0.4057315</td><td>0.05772478</td><td> 4.247639e-12</td><td> 0.046147177</td><td>0.04036437</td><td>2.532466e-01</td><td>ENSG00000243678.11_4</td><td>NME2       </td><td>ENSG00000011260.14_4 ENSG00000243678.11_4</td><td>ENSG00000011260.14_4 1</td><td> 1.525752e-07</td></tr>\n",
       "\t<tr><th scope=row>8046864</th><td>ENST00000412585.7_3 </td><td>ENSG00000204574.13_6</td><td>ABCF1 </td><td>1</td><td>-1.1588871</td><td>0.16569535</td><td> 5.368629e-12</td><td>-0.205380697</td><td>0.10379011</td><td>4.815627e-02</td><td>ENSG00000234745.11_5</td><td>HLA-B      </td><td>ENSG00000204574.13_6 ENSG00000234745.11_5</td><td>ENSG00000204574.13_6 1</td><td> 4.794991e-08</td></tr>\n",
       "\t<tr><th scope=row>7297838</th><td>ENST00000462829.2_2 </td><td>ENSG00000177192.14_6</td><td>PUS1  </td><td>1</td><td> 0.6459448</td><td>0.09499650</td><td> 1.962286e-11</td><td>-0.026742373</td><td>0.07026500</td><td>7.035992e-01</td><td>ENSG00000185163.10_5</td><td>DDX51      </td><td>ENSG00000177192.14_6 ENSG00000185163.10_5</td><td>ENSG00000177192.14_6 1</td><td> 1.761691e-07</td></tr>\n",
       "\t<tr><th scope=row>8045917</th><td>ENST00000399247.6_3 </td><td>ENSG00000204574.13_6</td><td>ABCF1 </td><td>1</td><td> 1.1771784</td><td>0.17466790</td><td> 2.911703e-11</td><td>-0.143908805</td><td>0.10919959</td><td>1.879044e-01</td><td>ENSG00000214922.9_7 </td><td>HLA-F-AS1  </td><td>ENSG00000204574.13_6 ENSG00000214922.9_7 </td><td>ENSG00000204574.13_6 1</td><td> 2.080470e-07</td></tr>\n",
       "\t<tr><th scope=row>6360651</th><td>ENST00000409569.2_3 </td><td>ENSG00000163938.17_5</td><td>GNL3  </td><td>1</td><td> 1.1335645</td><td>0.16884385</td><td> 3.446421e-11</td><td> 0.047211108</td><td>0.06485313</td><td>4.668303e-01</td><td>ENSG00000172965.17_9</td><td>MIR4435-2HG</td><td>ENSG00000163938.17_5 ENSG00000172965.17_9</td><td>ENSG00000163938.17_5 1</td><td> 1.237920e-06</td></tr>\n",
       "\t<tr><th scope=row>8038827</th><td>ENST00000321897.9_4 </td><td>ENSG00000204574.13_6</td><td>ABCF1 </td><td>1</td><td>-1.0080996</td><td>0.15158662</td><td> 5.198924e-11</td><td>-0.129411395</td><td>0.09470694</td><td>1.721579e-01</td><td>ENSG00000137411.18_5</td><td>VARS2      </td><td>ENSG00000204574.13_6 ENSG00000137411.18_5</td><td>ENSG00000204574.13_6 1</td><td> 3.095613e-07</td></tr>\n",
       "\t<tr><th scope=row>7687162</th><td>ENST00000401959.6_4 </td><td>ENSG00000196419.12_3</td><td>XRCC6 </td><td>0</td><td>-0.3821755</td><td>0.05815318</td><td> 8.608508e-11</td><td>-0.138391976</td><td>0.07043739</td><td>4.976457e-02</td><td>ENSG00000100138.15_7</td><td>SNU13      </td><td>ENSG00000196419.12_3 ENSG00000100138.15_7</td><td>ENSG00000196419.12_3 0</td><td> 3.092348e-06</td></tr>\n",
       "\t<tr><th scope=row>8016816</th><td>ENST00000473266.1_1 </td><td>ENSG00000204574.13_6</td><td>ABCF1 </td><td>0</td><td> 0.8341843</td><td>0.12813317</td><td> 1.274372e-10</td><td> 0.077155242</td><td>0.10200082</td><td>4.496059e-01</td><td>ENSG00000241370.5_5 </td><td>RPP21      </td><td>ENSG00000204574.13_6 ENSG00000241370.5_5 </td><td>ENSG00000204574.13_6 0</td><td> 4.552820e-06</td></tr>\n",
       "\t<tr><th scope=row>274408</th><td>ENST00000512737.5_1 </td><td>ENSG00000011260.14_4</td><td>UTP18 </td><td>0</td><td>-0.3868595</td><td>0.05951999</td><td> 1.363255e-10</td><td> 0.046147177</td><td>0.04036437</td><td>2.532466e-01</td><td>ENSG00000243678.11_4</td><td>NME2       </td><td>ENSG00000011260.14_4 ENSG00000243678.11_4</td><td>ENSG00000011260.14_4 0</td><td> 4.896812e-06</td></tr>\n",
       "\t<tr><th scope=row>⋮</th><td>⋮</td><td>⋮</td><td>⋮</td><td>⋮</td><td>⋮</td><td>⋮</td><td>⋮</td><td>⋮</td><td>⋮</td><td>⋮</td><td>⋮</td><td>⋮</td><td>⋮</td><td>⋮</td><td>⋮</td></tr>\n",
       "\t<tr><th scope=row>3774658</th><td>ENST00000381653.9_2 </td><td>ENSG00000118246.14_5</td><td>FASTKD2</td><td>0</td><td>-0.2923937</td><td>0.06183866</td><td>2.644920e-06</td><td> 0.093103149</td><td>0.06502254</td><td>0.152547360</td><td>ENSG00000088833.17_6</td><td>NSFL1C </td><td>ENSG00000118246.14_5 ENSG00000088833.17_6</td><td>ENSG00000118246.14_5 0</td><td>0.047498795</td></tr>\n",
       "\t<tr><th scope=row>5221849</th><td>ENST00000495327.1_2 </td><td>ENSG00000138385.16_4</td><td>SSB    </td><td>0</td><td>-0.6261306</td><td>0.13246523</td><td>2.668841e-06</td><td> 0.053791583</td><td>0.11123160</td><td>0.628792991</td><td>ENSG00000106344.8_8 </td><td>RBM28  </td><td>ENSG00000138385.16_4 ENSG00000106344.8_8 </td><td>ENSG00000138385.16_4 0</td><td>0.034082540</td></tr>\n",
       "\t<tr><th scope=row>3379443</th><td>ENST00000374018.5_1 </td><td>ENSG00000114503.11_7</td><td>NCBP2  </td><td>1</td><td>-0.5966760</td><td>0.12633322</td><td>2.712992e-06</td><td>-0.139952875</td><td>0.09042408</td><td>0.122053052</td><td>ENSG00000124562.10_5</td><td>SNRPC  </td><td>ENSG00000114503.11_7 ENSG00000124562.10_5</td><td>ENSG00000114503.11_7 1</td><td>0.019491218</td></tr>\n",
       "\t<tr><th scope=row>3133908</th><td>ENST00000440863.7_3 </td><td>ENSG00000113360.16_6</td><td>DROSHA </td><td>1</td><td> 0.4538778</td><td>0.09618971</td><td>2.771651e-06</td><td>-0.018678227</td><td>0.04635473</td><td>0.687091658</td><td>ENSG00000140474.14_6</td><td>ULK3   </td><td>ENSG00000113360.16_6 ENSG00000140474.14_6</td><td>ENSG00000113360.16_6 1</td><td>0.049773314</td></tr>\n",
       "\t<tr><th scope=row>570939</th><td>ENST00000621128.4_3 </td><td>ENSG00000029363.17_9</td><td>BCLAF1 </td><td>1</td><td> 0.5170339</td><td>0.10966349</td><td>2.823068e-06</td><td>-0.013133634</td><td>0.04353029</td><td>0.762944186</td><td>ENSG00000149294.16_7</td><td>NCAM1  </td><td>ENSG00000029363.17_9 ENSG00000149294.16_7</td><td>ENSG00000029363.17_9 1</td><td>0.033798713</td></tr>\n",
       "\t<tr><th scope=row>1782425</th><td>ENST00000530649.5_1 </td><td>ENSG00000090621.14_8</td><td>PABPC4 </td><td>0</td><td>-0.2430032</td><td>0.05154573</td><td>2.833134e-06</td><td> 0.043613892</td><td>0.03985883</td><td>0.274169734</td><td>ENSG00000149591.17_5</td><td>TAGLN  </td><td>ENSG00000090621.14_8 ENSG00000149591.17_5</td><td>ENSG00000090621.14_8 0</td><td>0.033500864</td></tr>\n",
       "\t<tr><th scope=row>5233694</th><td>ENST00000617816.1_1 </td><td>ENSG00000138385.16_4</td><td>SSB    </td><td>0</td><td> 0.6069197</td><td>0.12876784</td><td>2.846696e-06</td><td>-0.021720013</td><td>0.10758048</td><td>0.840046186</td><td>ENSG00000160051.11_4</td><td>IQCC   </td><td>ENSG00000138385.16_4 ENSG00000160051.11_4</td><td>ENSG00000138385.16_4 0</td><td>0.034082540</td></tr>\n",
       "\t<tr><th scope=row>5937056</th><td>ENST00000477536.1_3 </td><td>ENSG00000153187.20_9</td><td>HNRNPU </td><td>1</td><td>-0.3345465</td><td>0.07101623</td><td>2.894535e-06</td><td> 0.079958199</td><td>0.06800142</td><td>0.239987679</td><td>ENSG00000173706.14_7</td><td>HEG1   </td><td>ENSG00000153187.20_9 ENSG00000173706.14_7</td><td>ENSG00000153187.20_9 1</td><td>0.041473080</td></tr>\n",
       "\t<tr><th scope=row>145540</th><td>ENST00000270061.12_2</td><td>ENSG00000005007.13_4</td><td>UPF1   </td><td>0</td><td> 0.4069823</td><td>0.08652170</td><td>2.974309e-06</td><td>-0.144852461</td><td>0.07117896</td><td>0.042152448</td><td>ENSG00000130511.16_5</td><td>SSBP4  </td><td>ENSG00000005007.13_4 ENSG00000130511.16_5</td><td>ENSG00000005007.13_4 0</td><td>0.035610414</td></tr>\n",
       "\t<tr><th scope=row>490968</th><td>ENST00000531935.1_1 </td><td>ENSG00000021776.11_6</td><td>AQR    </td><td>0</td><td>-0.3322443</td><td>0.07069279</td><td>3.031455e-06</td><td>-0.016589045</td><td>0.03107997</td><td>0.593649995</td><td>ENSG00000197798.9_6 </td><td>FAM118B</td><td>ENSG00000021776.11_6 ENSG00000197798.9_6 </td><td>ENSG00000021776.11_6 0</td><td>0.036294603</td></tr>\n",
       "\t<tr><th scope=row>424034</th><td>ENST00000570486.5_2 </td><td>ENSG00000015479.19_8</td><td>MATR3  </td><td>0</td><td> 0.4545218</td><td>0.09676010</td><td>3.066710e-06</td><td> 0.043311753</td><td>0.11217869</td><td>0.699521004</td><td>ENSG00000167840.13_4</td><td>ZNF232 </td><td>ENSG00000015479.19_8 ENSG00000167840.13_4</td><td>ENSG00000015479.19_8 0</td><td>0.036149354</td></tr>\n",
       "\t<tr><th scope=row>3020041</th><td>ENST00000372982.8_1 </td><td>ENSG00000111786.9_5 </td><td>SRSF9  </td><td>0</td><td>-0.6456487</td><td>0.13781243</td><td>3.253840e-06</td><td>-0.012683701</td><td>0.10266548</td><td>0.901705226</td><td>ENSG00000137413.16_4</td><td>TAF8   </td><td>ENSG00000111786.9_5 ENSG00000137413.16_4 </td><td>ENSG00000111786.9_5 0 </td><td>0.038957138</td></tr>\n",
       "\t<tr><th scope=row>8043582</th><td>ENST00000376266.9_2 </td><td>ENSG00000204574.13_6</td><td>ABCF1  </td><td>1</td><td>-0.7304673</td><td>0.15597516</td><td>3.281106e-06</td><td>-0.116299089</td><td>0.09623860</td><td>0.227208178</td><td>ENSG00000204536.14_7</td><td>CCHCR1 </td><td>ENSG00000204574.13_6 ENSG00000204536.14_7</td><td>ENSG00000204574.13_6 1</td><td>0.009768399</td></tr>\n",
       "\t<tr><th scope=row>5935341</th><td>ENST00000465807.1_1 </td><td>ENSG00000153187.20_9</td><td>HNRNPU </td><td>1</td><td> 0.5869330</td><td>0.12559685</td><td>3.463594e-06</td><td> 0.247240851</td><td>0.11993180</td><td>0.039554261</td><td>ENSG00000107821.15_3</td><td>KAZALD1</td><td>ENSG00000153187.20_9 ENSG00000107821.15_3</td><td>ENSG00000153187.20_9 1</td><td>0.041473080</td></tr>\n",
       "\t<tr><th scope=row>4996459</th><td>ENST00000399697.7_2 </td><td>ENSG00000136450.13_7</td><td>SRSF1  </td><td>1</td><td>-0.2332733</td><td>0.04996767</td><td>3.519226e-06</td><td> 0.053481213</td><td>0.05320770</td><td>0.315111969</td><td>ENSG00000186184.19_6</td><td>POLR1D </td><td>ENSG00000136450.13_7 ENSG00000186184.19_6</td><td>ENSG00000136450.13_7 1</td><td>0.031600009</td></tr>\n",
       "\t<tr><th scope=row>5231193</th><td>ENST00000586269.1_2 </td><td>ENSG00000138385.16_4</td><td>SSB    </td><td>0</td><td>-0.6203801</td><td>0.13358717</td><td>3.956950e-06</td><td>-0.006579426</td><td>0.11154028</td><td>0.952976171</td><td>ENSG00000089639.11_6</td><td>GMIP   </td><td>ENSG00000138385.16_4 ENSG00000089639.11_6</td><td>ENSG00000138385.16_4 0</td><td>0.035531432</td></tr>\n",
       "\t<tr><th scope=row>5696795</th><td>ENST00000575301.5_1 </td><td>ENSG00000145907.15_6</td><td>G3BP1  </td><td>1</td><td>-0.3863246</td><td>0.08330101</td><td>4.071240e-06</td><td>-0.066738834</td><td>0.05708275</td><td>0.242663380</td><td>ENSG00000169992.10_4</td><td>NLGN2  </td><td>ENSG00000145907.15_6 ENSG00000169992.10_4</td><td>ENSG00000145907.15_6 1</td><td>0.048743599</td></tr>\n",
       "\t<tr><th scope=row>8083483</th><td>ENST00000424000.6_1 </td><td>ENSG00000204574.13_6</td><td>ABCF1  </td><td>2</td><td> 0.4043243</td><td>0.08725174</td><td>4.142837e-06</td><td>-0.224872795</td><td>0.09059188</td><td>0.013244976</td><td>ENSG00000155636.15_5</td><td>RBM45  </td><td>ENSG00000204574.13_6 ENSG00000155636.15_5</td><td>ENSG00000204574.13_6 2</td><td>0.029601396</td></tr>\n",
       "\t<tr><th scope=row>4454610</th><td>ENST00000369489.10_3</td><td>ENSG00000132153.15_4</td><td>DHX30  </td><td>0</td><td> 0.5812486</td><td>0.12581650</td><td>4.429001e-06</td><td>-0.129755740</td><td>0.08231775</td><td>0.115329271</td><td>ENSG00000116815.16_7</td><td>CD58   </td><td>ENSG00000132153.15_4 ENSG00000116815.16_7</td><td>ENSG00000132153.15_4 0</td><td>0.039684952</td></tr>\n",
       "\t<tr><th scope=row>554587</th><td>ENST00000466335.1_4 </td><td>ENSG00000029363.17_9</td><td>BCLAF1 </td><td>1</td><td>-0.6344980</td><td>0.13742563</td><td>4.487349e-06</td><td> 0.036420496</td><td>0.05452209</td><td>0.504315875</td><td>ENSG00000165996.14_6</td><td>HACD1  </td><td>ENSG00000029363.17_9 ENSG00000165996.14_6</td><td>ENSG00000029363.17_9 1</td><td>0.040293024</td></tr>\n",
       "\t<tr><th scope=row>5019616</th><td>ENST00000649426.1_2 </td><td>ENSG00000136450.13_7</td><td>SRSF1  </td><td>1</td><td>-0.2497511</td><td>0.05429538</td><td>4.863816e-06</td><td> 0.012808438</td><td>0.05779516</td><td>0.824664027</td><td>ENSG00000115267.8_7 </td><td>IFIH1  </td><td>ENSG00000136450.13_7 ENSG00000115267.8_7 </td><td>ENSG00000136450.13_7 1</td><td>0.032909627</td></tr>\n",
       "\t<tr><th scope=row>6359018</th><td>ENST00000394091.5_2 </td><td>ENSG00000163938.17_5</td><td>GNL3   </td><td>1</td><td> 0.8200364</td><td>0.17844564</td><td>4.965498e-06</td><td> 0.097424370</td><td>0.06762701</td><td>0.150057916</td><td>ENSG00000138468.16_6</td><td>SENP7  </td><td>ENSG00000163938.17_5 ENSG00000138468.16_6</td><td>ENSG00000163938.17_5 1</td><td>0.044588934</td></tr>\n",
       "\t<tr><th scope=row>1321761</th><td>ENST00000589503.1_2 </td><td>ENSG00000077348.9_5 </td><td>EXOSC5 </td><td>0</td><td>-0.3116010</td><td>0.06794082</td><td>5.180924e-06</td><td> 0.086934945</td><td>0.04918788</td><td>0.077514897</td><td>ENSG00000105341.18_8</td><td>DMAC2  </td><td>ENSG00000077348.9_5 ENSG00000105341.18_8 </td><td>ENSG00000077348.9_5 0 </td><td>0.023263643</td></tr>\n",
       "\t<tr><th scope=row>4999580</th><td>ENST00000440863.7_3 </td><td>ENSG00000136450.13_7</td><td>SRSF1  </td><td>1</td><td>-0.3765682</td><td>0.08233435</td><td>5.497613e-06</td><td> 0.082213161</td><td>0.08762950</td><td>0.348409918</td><td>ENSG00000140474.14_6</td><td>ULK3   </td><td>ENSG00000136450.13_7 ENSG00000140474.14_6</td><td>ENSG00000136450.13_7 1</td><td>0.032909627</td></tr>\n",
       "\t<tr><th scope=row>148770</th><td>ENST00000338128.13_3</td><td>ENSG00000005007.13_4</td><td>UPF1   </td><td>0</td><td> 0.2419204</td><td>0.05290265</td><td>5.515866e-06</td><td> 0.031617204</td><td>0.04349152</td><td>0.467439695</td><td>ENSG00000105655.19_8</td><td>ISYNA1 </td><td>ENSG00000005007.13_4 ENSG00000105655.19_8</td><td>ENSG00000005007.13_4 0</td><td>0.049529716</td></tr>\n",
       "\t<tr><th scope=row>8080232</th><td>ENST00000383742.7_3 </td><td>ENSG00000204574.13_6</td><td>ABCF1  </td><td>2</td><td>-0.3998405</td><td>0.08921355</td><td>8.402320e-06</td><td>-0.272874065</td><td>0.09255580</td><td>0.003282667</td><td>ENSG00000178038.17_5</td><td>ALS2CL </td><td>ENSG00000204574.13_6 ENSG00000178038.17_5</td><td>ENSG00000204574.13_6 2</td><td>0.048866410</td></tr>\n",
       "\t<tr><th scope=row>8086664</th><td>ENST00000462256.5_2 </td><td>ENSG00000204574.13_6</td><td>ABCF1  </td><td>2</td><td>-0.2464018</td><td>0.05533098</td><td>9.574676e-06</td><td>-0.066320927</td><td>0.05739553</td><td>0.248203850</td><td>ENSG00000198563.14_9</td><td>DDX39B </td><td>ENSG00000204574.13_6 ENSG00000198563.14_9</td><td>ENSG00000204574.13_6 2</td><td>0.048866410</td></tr>\n",
       "\t<tr><th scope=row>1325349</th><td>ENST00000650113.1_2 </td><td>ENSG00000077348.9_5 </td><td>EXOSC5 </td><td>0</td><td>-0.4393660</td><td>0.09976813</td><td>1.197506e-05</td><td>-0.043039834</td><td>0.07216291</td><td>0.551047637</td><td>ENSG00000140598.15_8</td><td>EFL1   </td><td>ENSG00000077348.9_5 ENSG00000140598.15_8 </td><td>ENSG00000077348.9_5 0 </td><td>0.047796447</td></tr>\n",
       "\t<tr><th scope=row>8042690</th><td>ENST00000371579.7_3 </td><td>ENSG00000204574.13_6</td><td>ABCF1  </td><td>1</td><td>-0.3549334</td><td>0.08096046</td><td>1.309347e-05</td><td>-0.015365117</td><td>0.04987663</td><td>0.758109393</td><td>ENSG00000176978.14_6</td><td>DPP7   </td><td>ENSG00000204574.13_6 ENSG00000176978.14_6</td><td>ENSG00000204574.13_6 1</td><td>0.035982871</td></tr>\n",
       "\t<tr><th scope=row>8066777</th><td>ENST00000602875.5_2 </td><td>ENSG00000204574.13_6</td><td>ABCF1  </td><td>1</td><td>-0.6651959</td><td>0.15312998</td><td>1.566221e-05</td><td>-0.033537786</td><td>0.09431872</td><td>0.722242844</td><td>ENSG00000213523.10_7</td><td>SRA1   </td><td>ENSG00000204574.13_6 ENSG00000213523.10_7</td><td>ENSG00000204574.13_6 1</td><td>0.039967725</td></tr>\n",
       "</tbody>\n",
       "</table>\n"
      ],
      "text/latex": [
       "A data.frame: 201 × 15\n",
       "\\begin{tabular}{r|lllllllllllllll}\n",
       "  & transcript\\_id\\_trans & gene\\_id\\_rbp & gene\\_name\\_rbp & type & beta\\_gt & se\\_gt & pval\\_gt & beta\\_exp & se\\_exp & pval\\_exp & gene\\_id\\_trans & gene\\_name\\_trans & gene2gene & rbp2type & fdr\\_gt\\\\\n",
       "  & <chr> & <chr> & <chr> & <int> & <dbl> & <dbl> & <dbl> & <dbl> & <dbl> & <dbl> & <chr> & <chr> & <chr> & <chr> & <dbl>\\\\\n",
       "\\hline\n",
       "\t1290835 & ENST00000221943.13\\_3 & ENSG00000077348.9\\_5  & EXOSC5 & 0 & -1.8316911 & 0.07005790 & 2.561077e-111 &  0.329216320 & 0.06715195 & 1.130755e-06 & ENSG00000105341.18\\_8 & DMAC2       & ENSG00000077348.9\\_5 ENSG00000105341.18\\_8  & ENSG00000077348.9\\_5 0  & 9.199900e-107\\\\\n",
       "\t1305077 & ENST00000438807.7\\_2  & ENSG00000077348.9\\_5  & EXOSC5 & 0 &  1.7660105 & 0.07024377 & 5.650790e-105 & -0.353242412 & 0.06619657 & 1.214285e-07 & ENSG00000105341.18\\_8 & DMAC2       & ENSG00000077348.9\\_5 ENSG00000105341.18\\_8  & ENSG00000077348.9\\_5 0  & 1.014938e-100\\\\\n",
       "\t1321819 & ENST00000589970.5\\_4  & ENSG00000077348.9\\_5  & EXOSC5 & 0 &  1.4305681 & 0.06605678 &  2.482885e-83 & -0.248140228 & 0.05874833 & 2.658543e-05 & ENSG00000105341.18\\_8 & DMAC2       & ENSG00000077348.9\\_5 ENSG00000105341.18\\_8  & ENSG00000077348.9\\_5 0  &  2.973007e-79\\\\\n",
       "\t4447242 & ENST00000232766.6\\_2  & ENSG00000132153.15\\_4 & DHX30  & 0 &  1.0885030 & 0.05868925 &  7.645252e-65 & -0.030778172 & 0.04488684 & 4.930974e-01 & ENSG00000114648.12\\_5 & KLHL18      & ENSG00000132153.15\\_4 ENSG00000114648.12\\_5 & ENSG00000132153.15\\_4 0 &  2.740135e-60\\\\\n",
       "\t4466322 & ENST00000483201.1\\_1  & ENSG00000132153.15\\_4 & DHX30  & 0 & -1.1254084 & 0.06119269 &  6.021527e-64 &  0.036452486 & 0.04668954 & 4.351691e-01 & ENSG00000114648.12\\_5 & KLHL18      & ENSG00000132153.15\\_4 ENSG00000114648.12\\_5 & ENSG00000132153.15\\_4 0 &  1.079088e-59\\\\\n",
       "\t7308091 & ENST00000545991.1\\_2  & ENSG00000177192.14\\_6 & PUS1   & 1 &  1.1263665 & 0.08303945 &  4.057461e-38 &  0.173940835 & 0.06592876 & 8.482515e-03 & ENSG00000185163.10\\_5 & DDX51       & ENSG00000177192.14\\_6 ENSG00000185163.10\\_5 & ENSG00000177192.14\\_6 1 &  1.457075e-33\\\\\n",
       "\t6406449 & ENST00000503548.1\\_1  & ENSG00000163950.13\\_6 & SLBP   & 0 &  0.8465191 & 0.06433221 &  3.697921e-36 & -0.004642902 & 0.06630632 & 9.441924e-01 & ENSG00000163945.18\\_7 & UVSSA       & ENSG00000163950.13\\_6 ENSG00000163945.18\\_7 & ENSG00000163950.13\\_6 0 &  1.328256e-31\\\\\n",
       "\t1422302 & ENST00000520773.5\\_2  & ENSG00000086589.12\\_6 & RBM22  & 0 &  1.2615286 & 0.11152995 &  9.485335e-28 &  0.063131727 & 0.05746532 & 2.722476e-01 & ENSG00000197083.11\\_6 & ZNF300P1    & ENSG00000086589.12\\_6 ENSG00000197083.11\\_6 & ENSG00000086589.12\\_6 0 &  3.407038e-23\\\\\n",
       "\t7292419 & ENST00000397333.4\\_3  & ENSG00000177192.14\\_6 & PUS1   & 1 & -0.7217171 & 0.06656053 &  9.186856e-26 & -0.005428641 & 0.05113513 & 9.154781e-01 & ENSG00000185163.10\\_5 & DDX51       & ENSG00000177192.14\\_6 ENSG00000185163.10\\_5 & ENSG00000177192.14\\_6 1 &  1.649546e-21\\\\\n",
       "\t1317503 & ENST00000546362.5\\_1  & ENSG00000077348.9\\_5  & EXOSC5 & 0 & -1.0221577 & 0.10044566 &  4.825409e-23 &  0.243054959 & 0.07605391 & 1.445184e-03 & ENSG00000142046.15\\_5 & TMEM91      & ENSG00000077348.9\\_5 ENSG00000142046.15\\_5  & ENSG00000077348.9\\_5 0  &  4.333459e-19\\\\\n",
       "\t173583 & ENST00000577916.6\\_2  & ENSG00000005007.13\\_4 & UPF1   & 0 & -0.5059715 & 0.05097062 &  4.650243e-22 & -0.063344637 & 0.04371253 & 1.476690e-01 & ENSG00000105655.19\\_8 & ISYNA1      & ENSG00000005007.13\\_4 ENSG00000105655.19\\_8 & ENSG00000005007.13\\_4 0 &  1.670274e-17\\\\\n",
       "\t7892229 & ENST00000259006.8\\_4  & ENSG00000198231.13\\_7 & DDX42  & 1 & -0.4421802 & 0.04910855 &  1.376043e-18 & -0.003589164 & 0.04276131 & 9.331278e-01 & ENSG00000136490.9\\_7  & LIMD2       & ENSG00000198231.13\\_7 ENSG00000136490.9\\_7  & ENSG00000198231.13\\_7 1 &  4.942196e-14\\\\\n",
       "\t1404833 & ENST00000356555.6\\_2  & ENSG00000086589.12\\_6 & RBM22  & 0 & -1.2241191 & 0.13979871 &  1.058999e-17 & -0.074437539 & 0.07013483 & 2.888293e-01 & ENSG00000197083.11\\_6 & ZNF300P1    & ENSG00000086589.12\\_6 ENSG00000197083.11\\_6 & ENSG00000086589.12\\_6 0 &  1.901910e-13\\\\\n",
       "\t8048558 & ENST00000434086.1\\_2  & ENSG00000204574.13\\_6 & ABCF1  & 1 & -1.4697015 & 0.17032436 &  2.970678e-17 &  0.070976414 & 0.10817986 & 5.119376e-01 & ENSG00000214922.9\\_7  & HLA-F-AS1   & ENSG00000204574.13\\_6 ENSG00000214922.9\\_7  & ENSG00000204574.13\\_6 1 &  1.061304e-12\\\\\n",
       "\t7285958 & ENST00000329073.8\\_2  & ENSG00000177192.14\\_6 & PUS1   & 1 &  0.6655914 & 0.07721736 &  3.196916e-17 & -0.017370385 & 0.05799308 & 7.646118e-01 & ENSG00000185163.10\\_5 & DDX51       & ENSG00000177192.14\\_6 ENSG00000185163.10\\_5 & ENSG00000177192.14\\_6 1 &  3.826815e-13\\\\\n",
       "\t1322249 & ENST00000592922.6\\_3  & ENSG00000077348.9\\_5  & EXOSC5 & 0 & -0.6819991 & 0.07944383 &  4.234906e-17 &  0.168745943 & 0.05921174 & 4.478189e-03 & ENSG00000105341.18\\_8 & DMAC2       & ENSG00000077348.9\\_5 ENSG00000105341.18\\_8  & ENSG00000077348.9\\_5 0  &  3.042526e-13\\\\\n",
       "\t8068435 & ENST00000640615.1\\_2  & ENSG00000204574.13\\_6 & ABCF1  & 1 &  1.4088927 & 0.16950632 &  3.664148e-16 &  0.257168491 & 0.10735006 & 1.680578e-02 & ENSG00000234745.11\\_5 & HLA-B       & ENSG00000204574.13\\_6 ENSG00000234745.11\\_5 & ENSG00000204574.13\\_6 1 &  6.545268e-12\\\\\n",
       "\t435017 & ENST00000330794.9\\_3  & ENSG00000015479.19\\_8 & MATR3  & 1 &  0.5558965 & 0.06819679 &  1.267696e-15 &  0.216103950 & 0.07936023 & 6.598730e-03 & ENSG00000184584.13\\_8 & STING1      & ENSG00000015479.19\\_8 ENSG00000184584.13\\_8 & ENSG00000015479.19\\_8 1 &  4.482954e-11\\\\\n",
       "\t399654 & ENST00000330794.9\\_3  & ENSG00000015479.19\\_8 & MATR3  & 0 & -0.4834587 & 0.06733500 &  1.510765e-12 &  0.216103950 & 0.07936023 & 6.598730e-03 & ENSG00000184584.13\\_8 & STING1      & ENSG00000015479.19\\_8 ENSG00000184584.13\\_8 & ENSG00000015479.19\\_8 0 &  5.342520e-08\\\\\n",
       "\t8053654 & ENST00000480966.1\\_2  & ENSG00000204574.13\\_6 & ABCF1  & 1 & -1.0648358 & 0.14858180 &  1.655137e-12 &  0.077434535 & 0.09319551 & 4.062705e-01 & ENSG00000204560.10\\_6 & DHX16       & ENSG00000204574.13\\_6 ENSG00000204560.10\\_6 & ENSG00000204574.13\\_6 1 &  1.971047e-08\\\\\n",
       "\t1304873 & ENST00000436170.6\\_1  & ENSG00000077348.9\\_5  & EXOSC5 & 0 &  0.6731165 & 0.09465229 &  2.417893e-12 & -0.194289950 & 0.06966704 & 5.406615e-03 & ENSG00000142046.15\\_5 & TMEM91      & ENSG00000077348.9\\_5 ENSG00000142046.15\\_5  & ENSG00000077348.9\\_5 0  &  1.447593e-08\\\\\n",
       "\t310328 & ENST00000512737.5\\_1  & ENSG00000011260.14\\_4 & UTP18  & 1 &  0.4057315 & 0.05772478 &  4.247639e-12 &  0.046147177 & 0.04036437 & 2.532466e-01 & ENSG00000243678.11\\_4 & NME2        & ENSG00000011260.14\\_4 ENSG00000243678.11\\_4 & ENSG00000011260.14\\_4 1 &  1.525752e-07\\\\\n",
       "\t8046864 & ENST00000412585.7\\_3  & ENSG00000204574.13\\_6 & ABCF1  & 1 & -1.1588871 & 0.16569535 &  5.368629e-12 & -0.205380697 & 0.10379011 & 4.815627e-02 & ENSG00000234745.11\\_5 & HLA-B       & ENSG00000204574.13\\_6 ENSG00000234745.11\\_5 & ENSG00000204574.13\\_6 1 &  4.794991e-08\\\\\n",
       "\t7297838 & ENST00000462829.2\\_2  & ENSG00000177192.14\\_6 & PUS1   & 1 &  0.6459448 & 0.09499650 &  1.962286e-11 & -0.026742373 & 0.07026500 & 7.035992e-01 & ENSG00000185163.10\\_5 & DDX51       & ENSG00000177192.14\\_6 ENSG00000185163.10\\_5 & ENSG00000177192.14\\_6 1 &  1.761691e-07\\\\\n",
       "\t8045917 & ENST00000399247.6\\_3  & ENSG00000204574.13\\_6 & ABCF1  & 1 &  1.1771784 & 0.17466790 &  2.911703e-11 & -0.143908805 & 0.10919959 & 1.879044e-01 & ENSG00000214922.9\\_7  & HLA-F-AS1   & ENSG00000204574.13\\_6 ENSG00000214922.9\\_7  & ENSG00000204574.13\\_6 1 &  2.080470e-07\\\\\n",
       "\t6360651 & ENST00000409569.2\\_3  & ENSG00000163938.17\\_5 & GNL3   & 1 &  1.1335645 & 0.16884385 &  3.446421e-11 &  0.047211108 & 0.06485313 & 4.668303e-01 & ENSG00000172965.17\\_9 & MIR4435-2HG & ENSG00000163938.17\\_5 ENSG00000172965.17\\_9 & ENSG00000163938.17\\_5 1 &  1.237920e-06\\\\\n",
       "\t8038827 & ENST00000321897.9\\_4  & ENSG00000204574.13\\_6 & ABCF1  & 1 & -1.0080996 & 0.15158662 &  5.198924e-11 & -0.129411395 & 0.09470694 & 1.721579e-01 & ENSG00000137411.18\\_5 & VARS2       & ENSG00000204574.13\\_6 ENSG00000137411.18\\_5 & ENSG00000204574.13\\_6 1 &  3.095613e-07\\\\\n",
       "\t7687162 & ENST00000401959.6\\_4  & ENSG00000196419.12\\_3 & XRCC6  & 0 & -0.3821755 & 0.05815318 &  8.608508e-11 & -0.138391976 & 0.07043739 & 4.976457e-02 & ENSG00000100138.15\\_7 & SNU13       & ENSG00000196419.12\\_3 ENSG00000100138.15\\_7 & ENSG00000196419.12\\_3 0 &  3.092348e-06\\\\\n",
       "\t8016816 & ENST00000473266.1\\_1  & ENSG00000204574.13\\_6 & ABCF1  & 0 &  0.8341843 & 0.12813317 &  1.274372e-10 &  0.077155242 & 0.10200082 & 4.496059e-01 & ENSG00000241370.5\\_5  & RPP21       & ENSG00000204574.13\\_6 ENSG00000241370.5\\_5  & ENSG00000204574.13\\_6 0 &  4.552820e-06\\\\\n",
       "\t274408 & ENST00000512737.5\\_1  & ENSG00000011260.14\\_4 & UTP18  & 0 & -0.3868595 & 0.05951999 &  1.363255e-10 &  0.046147177 & 0.04036437 & 2.532466e-01 & ENSG00000243678.11\\_4 & NME2        & ENSG00000011260.14\\_4 ENSG00000243678.11\\_4 & ENSG00000011260.14\\_4 0 &  4.896812e-06\\\\\n",
       "\t⋮ & ⋮ & ⋮ & ⋮ & ⋮ & ⋮ & ⋮ & ⋮ & ⋮ & ⋮ & ⋮ & ⋮ & ⋮ & ⋮ & ⋮ & ⋮\\\\\n",
       "\t3774658 & ENST00000381653.9\\_2  & ENSG00000118246.14\\_5 & FASTKD2 & 0 & -0.2923937 & 0.06183866 & 2.644920e-06 &  0.093103149 & 0.06502254 & 0.152547360 & ENSG00000088833.17\\_6 & NSFL1C  & ENSG00000118246.14\\_5 ENSG00000088833.17\\_6 & ENSG00000118246.14\\_5 0 & 0.047498795\\\\\n",
       "\t5221849 & ENST00000495327.1\\_2  & ENSG00000138385.16\\_4 & SSB     & 0 & -0.6261306 & 0.13246523 & 2.668841e-06 &  0.053791583 & 0.11123160 & 0.628792991 & ENSG00000106344.8\\_8  & RBM28   & ENSG00000138385.16\\_4 ENSG00000106344.8\\_8  & ENSG00000138385.16\\_4 0 & 0.034082540\\\\\n",
       "\t3379443 & ENST00000374018.5\\_1  & ENSG00000114503.11\\_7 & NCBP2   & 1 & -0.5966760 & 0.12633322 & 2.712992e-06 & -0.139952875 & 0.09042408 & 0.122053052 & ENSG00000124562.10\\_5 & SNRPC   & ENSG00000114503.11\\_7 ENSG00000124562.10\\_5 & ENSG00000114503.11\\_7 1 & 0.019491218\\\\\n",
       "\t3133908 & ENST00000440863.7\\_3  & ENSG00000113360.16\\_6 & DROSHA  & 1 &  0.4538778 & 0.09618971 & 2.771651e-06 & -0.018678227 & 0.04635473 & 0.687091658 & ENSG00000140474.14\\_6 & ULK3    & ENSG00000113360.16\\_6 ENSG00000140474.14\\_6 & ENSG00000113360.16\\_6 1 & 0.049773314\\\\\n",
       "\t570939 & ENST00000621128.4\\_3  & ENSG00000029363.17\\_9 & BCLAF1  & 1 &  0.5170339 & 0.10966349 & 2.823068e-06 & -0.013133634 & 0.04353029 & 0.762944186 & ENSG00000149294.16\\_7 & NCAM1   & ENSG00000029363.17\\_9 ENSG00000149294.16\\_7 & ENSG00000029363.17\\_9 1 & 0.033798713\\\\\n",
       "\t1782425 & ENST00000530649.5\\_1  & ENSG00000090621.14\\_8 & PABPC4  & 0 & -0.2430032 & 0.05154573 & 2.833134e-06 &  0.043613892 & 0.03985883 & 0.274169734 & ENSG00000149591.17\\_5 & TAGLN   & ENSG00000090621.14\\_8 ENSG00000149591.17\\_5 & ENSG00000090621.14\\_8 0 & 0.033500864\\\\\n",
       "\t5233694 & ENST00000617816.1\\_1  & ENSG00000138385.16\\_4 & SSB     & 0 &  0.6069197 & 0.12876784 & 2.846696e-06 & -0.021720013 & 0.10758048 & 0.840046186 & ENSG00000160051.11\\_4 & IQCC    & ENSG00000138385.16\\_4 ENSG00000160051.11\\_4 & ENSG00000138385.16\\_4 0 & 0.034082540\\\\\n",
       "\t5937056 & ENST00000477536.1\\_3  & ENSG00000153187.20\\_9 & HNRNPU  & 1 & -0.3345465 & 0.07101623 & 2.894535e-06 &  0.079958199 & 0.06800142 & 0.239987679 & ENSG00000173706.14\\_7 & HEG1    & ENSG00000153187.20\\_9 ENSG00000173706.14\\_7 & ENSG00000153187.20\\_9 1 & 0.041473080\\\\\n",
       "\t145540 & ENST00000270061.12\\_2 & ENSG00000005007.13\\_4 & UPF1    & 0 &  0.4069823 & 0.08652170 & 2.974309e-06 & -0.144852461 & 0.07117896 & 0.042152448 & ENSG00000130511.16\\_5 & SSBP4   & ENSG00000005007.13\\_4 ENSG00000130511.16\\_5 & ENSG00000005007.13\\_4 0 & 0.035610414\\\\\n",
       "\t490968 & ENST00000531935.1\\_1  & ENSG00000021776.11\\_6 & AQR     & 0 & -0.3322443 & 0.07069279 & 3.031455e-06 & -0.016589045 & 0.03107997 & 0.593649995 & ENSG00000197798.9\\_6  & FAM118B & ENSG00000021776.11\\_6 ENSG00000197798.9\\_6  & ENSG00000021776.11\\_6 0 & 0.036294603\\\\\n",
       "\t424034 & ENST00000570486.5\\_2  & ENSG00000015479.19\\_8 & MATR3   & 0 &  0.4545218 & 0.09676010 & 3.066710e-06 &  0.043311753 & 0.11217869 & 0.699521004 & ENSG00000167840.13\\_4 & ZNF232  & ENSG00000015479.19\\_8 ENSG00000167840.13\\_4 & ENSG00000015479.19\\_8 0 & 0.036149354\\\\\n",
       "\t3020041 & ENST00000372982.8\\_1  & ENSG00000111786.9\\_5  & SRSF9   & 0 & -0.6456487 & 0.13781243 & 3.253840e-06 & -0.012683701 & 0.10266548 & 0.901705226 & ENSG00000137413.16\\_4 & TAF8    & ENSG00000111786.9\\_5 ENSG00000137413.16\\_4  & ENSG00000111786.9\\_5 0  & 0.038957138\\\\\n",
       "\t8043582 & ENST00000376266.9\\_2  & ENSG00000204574.13\\_6 & ABCF1   & 1 & -0.7304673 & 0.15597516 & 3.281106e-06 & -0.116299089 & 0.09623860 & 0.227208178 & ENSG00000204536.14\\_7 & CCHCR1  & ENSG00000204574.13\\_6 ENSG00000204536.14\\_7 & ENSG00000204574.13\\_6 1 & 0.009768399\\\\\n",
       "\t5935341 & ENST00000465807.1\\_1  & ENSG00000153187.20\\_9 & HNRNPU  & 1 &  0.5869330 & 0.12559685 & 3.463594e-06 &  0.247240851 & 0.11993180 & 0.039554261 & ENSG00000107821.15\\_3 & KAZALD1 & ENSG00000153187.20\\_9 ENSG00000107821.15\\_3 & ENSG00000153187.20\\_9 1 & 0.041473080\\\\\n",
       "\t4996459 & ENST00000399697.7\\_2  & ENSG00000136450.13\\_7 & SRSF1   & 1 & -0.2332733 & 0.04996767 & 3.519226e-06 &  0.053481213 & 0.05320770 & 0.315111969 & ENSG00000186184.19\\_6 & POLR1D  & ENSG00000136450.13\\_7 ENSG00000186184.19\\_6 & ENSG00000136450.13\\_7 1 & 0.031600009\\\\\n",
       "\t5231193 & ENST00000586269.1\\_2  & ENSG00000138385.16\\_4 & SSB     & 0 & -0.6203801 & 0.13358717 & 3.956950e-06 & -0.006579426 & 0.11154028 & 0.952976171 & ENSG00000089639.11\\_6 & GMIP    & ENSG00000138385.16\\_4 ENSG00000089639.11\\_6 & ENSG00000138385.16\\_4 0 & 0.035531432\\\\\n",
       "\t5696795 & ENST00000575301.5\\_1  & ENSG00000145907.15\\_6 & G3BP1   & 1 & -0.3863246 & 0.08330101 & 4.071240e-06 & -0.066738834 & 0.05708275 & 0.242663380 & ENSG00000169992.10\\_4 & NLGN2   & ENSG00000145907.15\\_6 ENSG00000169992.10\\_4 & ENSG00000145907.15\\_6 1 & 0.048743599\\\\\n",
       "\t8083483 & ENST00000424000.6\\_1  & ENSG00000204574.13\\_6 & ABCF1   & 2 &  0.4043243 & 0.08725174 & 4.142837e-06 & -0.224872795 & 0.09059188 & 0.013244976 & ENSG00000155636.15\\_5 & RBM45   & ENSG00000204574.13\\_6 ENSG00000155636.15\\_5 & ENSG00000204574.13\\_6 2 & 0.029601396\\\\\n",
       "\t4454610 & ENST00000369489.10\\_3 & ENSG00000132153.15\\_4 & DHX30   & 0 &  0.5812486 & 0.12581650 & 4.429001e-06 & -0.129755740 & 0.08231775 & 0.115329271 & ENSG00000116815.16\\_7 & CD58    & ENSG00000132153.15\\_4 ENSG00000116815.16\\_7 & ENSG00000132153.15\\_4 0 & 0.039684952\\\\\n",
       "\t554587 & ENST00000466335.1\\_4  & ENSG00000029363.17\\_9 & BCLAF1  & 1 & -0.6344980 & 0.13742563 & 4.487349e-06 &  0.036420496 & 0.05452209 & 0.504315875 & ENSG00000165996.14\\_6 & HACD1   & ENSG00000029363.17\\_9 ENSG00000165996.14\\_6 & ENSG00000029363.17\\_9 1 & 0.040293024\\\\\n",
       "\t5019616 & ENST00000649426.1\\_2  & ENSG00000136450.13\\_7 & SRSF1   & 1 & -0.2497511 & 0.05429538 & 4.863816e-06 &  0.012808438 & 0.05779516 & 0.824664027 & ENSG00000115267.8\\_7  & IFIH1   & ENSG00000136450.13\\_7 ENSG00000115267.8\\_7  & ENSG00000136450.13\\_7 1 & 0.032909627\\\\\n",
       "\t6359018 & ENST00000394091.5\\_2  & ENSG00000163938.17\\_5 & GNL3    & 1 &  0.8200364 & 0.17844564 & 4.965498e-06 &  0.097424370 & 0.06762701 & 0.150057916 & ENSG00000138468.16\\_6 & SENP7   & ENSG00000163938.17\\_5 ENSG00000138468.16\\_6 & ENSG00000163938.17\\_5 1 & 0.044588934\\\\\n",
       "\t1321761 & ENST00000589503.1\\_2  & ENSG00000077348.9\\_5  & EXOSC5  & 0 & -0.3116010 & 0.06794082 & 5.180924e-06 &  0.086934945 & 0.04918788 & 0.077514897 & ENSG00000105341.18\\_8 & DMAC2   & ENSG00000077348.9\\_5 ENSG00000105341.18\\_8  & ENSG00000077348.9\\_5 0  & 0.023263643\\\\\n",
       "\t4999580 & ENST00000440863.7\\_3  & ENSG00000136450.13\\_7 & SRSF1   & 1 & -0.3765682 & 0.08233435 & 5.497613e-06 &  0.082213161 & 0.08762950 & 0.348409918 & ENSG00000140474.14\\_6 & ULK3    & ENSG00000136450.13\\_7 ENSG00000140474.14\\_6 & ENSG00000136450.13\\_7 1 & 0.032909627\\\\\n",
       "\t148770 & ENST00000338128.13\\_3 & ENSG00000005007.13\\_4 & UPF1    & 0 &  0.2419204 & 0.05290265 & 5.515866e-06 &  0.031617204 & 0.04349152 & 0.467439695 & ENSG00000105655.19\\_8 & ISYNA1  & ENSG00000005007.13\\_4 ENSG00000105655.19\\_8 & ENSG00000005007.13\\_4 0 & 0.049529716\\\\\n",
       "\t8080232 & ENST00000383742.7\\_3  & ENSG00000204574.13\\_6 & ABCF1   & 2 & -0.3998405 & 0.08921355 & 8.402320e-06 & -0.272874065 & 0.09255580 & 0.003282667 & ENSG00000178038.17\\_5 & ALS2CL  & ENSG00000204574.13\\_6 ENSG00000178038.17\\_5 & ENSG00000204574.13\\_6 2 & 0.048866410\\\\\n",
       "\t8086664 & ENST00000462256.5\\_2  & ENSG00000204574.13\\_6 & ABCF1   & 2 & -0.2464018 & 0.05533098 & 9.574676e-06 & -0.066320927 & 0.05739553 & 0.248203850 & ENSG00000198563.14\\_9 & DDX39B  & ENSG00000204574.13\\_6 ENSG00000198563.14\\_9 & ENSG00000204574.13\\_6 2 & 0.048866410\\\\\n",
       "\t1325349 & ENST00000650113.1\\_2  & ENSG00000077348.9\\_5  & EXOSC5  & 0 & -0.4393660 & 0.09976813 & 1.197506e-05 & -0.043039834 & 0.07216291 & 0.551047637 & ENSG00000140598.15\\_8 & EFL1    & ENSG00000077348.9\\_5 ENSG00000140598.15\\_8  & ENSG00000077348.9\\_5 0  & 0.047796447\\\\\n",
       "\t8042690 & ENST00000371579.7\\_3  & ENSG00000204574.13\\_6 & ABCF1   & 1 & -0.3549334 & 0.08096046 & 1.309347e-05 & -0.015365117 & 0.04987663 & 0.758109393 & ENSG00000176978.14\\_6 & DPP7    & ENSG00000204574.13\\_6 ENSG00000176978.14\\_6 & ENSG00000204574.13\\_6 1 & 0.035982871\\\\\n",
       "\t8066777 & ENST00000602875.5\\_2  & ENSG00000204574.13\\_6 & ABCF1   & 1 & -0.6651959 & 0.15312998 & 1.566221e-05 & -0.033537786 & 0.09431872 & 0.722242844 & ENSG00000213523.10\\_7 & SRA1    & ENSG00000204574.13\\_6 ENSG00000213523.10\\_7 & ENSG00000204574.13\\_6 1 & 0.039967725\\\\\n",
       "\\end{tabular}\n"
      ],
      "text/markdown": [
       "\n",
       "A data.frame: 201 × 15\n",
       "\n",
       "| <!--/--> | transcript_id_trans &lt;chr&gt; | gene_id_rbp &lt;chr&gt; | gene_name_rbp &lt;chr&gt; | type &lt;int&gt; | beta_gt &lt;dbl&gt; | se_gt &lt;dbl&gt; | pval_gt &lt;dbl&gt; | beta_exp &lt;dbl&gt; | se_exp &lt;dbl&gt; | pval_exp &lt;dbl&gt; | gene_id_trans &lt;chr&gt; | gene_name_trans &lt;chr&gt; | gene2gene &lt;chr&gt; | rbp2type &lt;chr&gt; | fdr_gt &lt;dbl&gt; |\n",
       "|---|---|---|---|---|---|---|---|---|---|---|---|---|---|---|---|\n",
       "| 1290835 | ENST00000221943.13_3 | ENSG00000077348.9_5  | EXOSC5 | 0 | -1.8316911 | 0.07005790 | 2.561077e-111 |  0.329216320 | 0.06715195 | 1.130755e-06 | ENSG00000105341.18_8 | DMAC2       | ENSG00000077348.9_5 ENSG00000105341.18_8  | ENSG00000077348.9_5 0  | 9.199900e-107 |\n",
       "| 1305077 | ENST00000438807.7_2  | ENSG00000077348.9_5  | EXOSC5 | 0 |  1.7660105 | 0.07024377 | 5.650790e-105 | -0.353242412 | 0.06619657 | 1.214285e-07 | ENSG00000105341.18_8 | DMAC2       | ENSG00000077348.9_5 ENSG00000105341.18_8  | ENSG00000077348.9_5 0  | 1.014938e-100 |\n",
       "| 1321819 | ENST00000589970.5_4  | ENSG00000077348.9_5  | EXOSC5 | 0 |  1.4305681 | 0.06605678 |  2.482885e-83 | -0.248140228 | 0.05874833 | 2.658543e-05 | ENSG00000105341.18_8 | DMAC2       | ENSG00000077348.9_5 ENSG00000105341.18_8  | ENSG00000077348.9_5 0  |  2.973007e-79 |\n",
       "| 4447242 | ENST00000232766.6_2  | ENSG00000132153.15_4 | DHX30  | 0 |  1.0885030 | 0.05868925 |  7.645252e-65 | -0.030778172 | 0.04488684 | 4.930974e-01 | ENSG00000114648.12_5 | KLHL18      | ENSG00000132153.15_4 ENSG00000114648.12_5 | ENSG00000132153.15_4 0 |  2.740135e-60 |\n",
       "| 4466322 | ENST00000483201.1_1  | ENSG00000132153.15_4 | DHX30  | 0 | -1.1254084 | 0.06119269 |  6.021527e-64 |  0.036452486 | 0.04668954 | 4.351691e-01 | ENSG00000114648.12_5 | KLHL18      | ENSG00000132153.15_4 ENSG00000114648.12_5 | ENSG00000132153.15_4 0 |  1.079088e-59 |\n",
       "| 7308091 | ENST00000545991.1_2  | ENSG00000177192.14_6 | PUS1   | 1 |  1.1263665 | 0.08303945 |  4.057461e-38 |  0.173940835 | 0.06592876 | 8.482515e-03 | ENSG00000185163.10_5 | DDX51       | ENSG00000177192.14_6 ENSG00000185163.10_5 | ENSG00000177192.14_6 1 |  1.457075e-33 |\n",
       "| 6406449 | ENST00000503548.1_1  | ENSG00000163950.13_6 | SLBP   | 0 |  0.8465191 | 0.06433221 |  3.697921e-36 | -0.004642902 | 0.06630632 | 9.441924e-01 | ENSG00000163945.18_7 | UVSSA       | ENSG00000163950.13_6 ENSG00000163945.18_7 | ENSG00000163950.13_6 0 |  1.328256e-31 |\n",
       "| 1422302 | ENST00000520773.5_2  | ENSG00000086589.12_6 | RBM22  | 0 |  1.2615286 | 0.11152995 |  9.485335e-28 |  0.063131727 | 0.05746532 | 2.722476e-01 | ENSG00000197083.11_6 | ZNF300P1    | ENSG00000086589.12_6 ENSG00000197083.11_6 | ENSG00000086589.12_6 0 |  3.407038e-23 |\n",
       "| 7292419 | ENST00000397333.4_3  | ENSG00000177192.14_6 | PUS1   | 1 | -0.7217171 | 0.06656053 |  9.186856e-26 | -0.005428641 | 0.05113513 | 9.154781e-01 | ENSG00000185163.10_5 | DDX51       | ENSG00000177192.14_6 ENSG00000185163.10_5 | ENSG00000177192.14_6 1 |  1.649546e-21 |\n",
       "| 1317503 | ENST00000546362.5_1  | ENSG00000077348.9_5  | EXOSC5 | 0 | -1.0221577 | 0.10044566 |  4.825409e-23 |  0.243054959 | 0.07605391 | 1.445184e-03 | ENSG00000142046.15_5 | TMEM91      | ENSG00000077348.9_5 ENSG00000142046.15_5  | ENSG00000077348.9_5 0  |  4.333459e-19 |\n",
       "| 173583 | ENST00000577916.6_2  | ENSG00000005007.13_4 | UPF1   | 0 | -0.5059715 | 0.05097062 |  4.650243e-22 | -0.063344637 | 0.04371253 | 1.476690e-01 | ENSG00000105655.19_8 | ISYNA1      | ENSG00000005007.13_4 ENSG00000105655.19_8 | ENSG00000005007.13_4 0 |  1.670274e-17 |\n",
       "| 7892229 | ENST00000259006.8_4  | ENSG00000198231.13_7 | DDX42  | 1 | -0.4421802 | 0.04910855 |  1.376043e-18 | -0.003589164 | 0.04276131 | 9.331278e-01 | ENSG00000136490.9_7  | LIMD2       | ENSG00000198231.13_7 ENSG00000136490.9_7  | ENSG00000198231.13_7 1 |  4.942196e-14 |\n",
       "| 1404833 | ENST00000356555.6_2  | ENSG00000086589.12_6 | RBM22  | 0 | -1.2241191 | 0.13979871 |  1.058999e-17 | -0.074437539 | 0.07013483 | 2.888293e-01 | ENSG00000197083.11_6 | ZNF300P1    | ENSG00000086589.12_6 ENSG00000197083.11_6 | ENSG00000086589.12_6 0 |  1.901910e-13 |\n",
       "| 8048558 | ENST00000434086.1_2  | ENSG00000204574.13_6 | ABCF1  | 1 | -1.4697015 | 0.17032436 |  2.970678e-17 |  0.070976414 | 0.10817986 | 5.119376e-01 | ENSG00000214922.9_7  | HLA-F-AS1   | ENSG00000204574.13_6 ENSG00000214922.9_7  | ENSG00000204574.13_6 1 |  1.061304e-12 |\n",
       "| 7285958 | ENST00000329073.8_2  | ENSG00000177192.14_6 | PUS1   | 1 |  0.6655914 | 0.07721736 |  3.196916e-17 | -0.017370385 | 0.05799308 | 7.646118e-01 | ENSG00000185163.10_5 | DDX51       | ENSG00000177192.14_6 ENSG00000185163.10_5 | ENSG00000177192.14_6 1 |  3.826815e-13 |\n",
       "| 1322249 | ENST00000592922.6_3  | ENSG00000077348.9_5  | EXOSC5 | 0 | -0.6819991 | 0.07944383 |  4.234906e-17 |  0.168745943 | 0.05921174 | 4.478189e-03 | ENSG00000105341.18_8 | DMAC2       | ENSG00000077348.9_5 ENSG00000105341.18_8  | ENSG00000077348.9_5 0  |  3.042526e-13 |\n",
       "| 8068435 | ENST00000640615.1_2  | ENSG00000204574.13_6 | ABCF1  | 1 |  1.4088927 | 0.16950632 |  3.664148e-16 |  0.257168491 | 0.10735006 | 1.680578e-02 | ENSG00000234745.11_5 | HLA-B       | ENSG00000204574.13_6 ENSG00000234745.11_5 | ENSG00000204574.13_6 1 |  6.545268e-12 |\n",
       "| 435017 | ENST00000330794.9_3  | ENSG00000015479.19_8 | MATR3  | 1 |  0.5558965 | 0.06819679 |  1.267696e-15 |  0.216103950 | 0.07936023 | 6.598730e-03 | ENSG00000184584.13_8 | STING1      | ENSG00000015479.19_8 ENSG00000184584.13_8 | ENSG00000015479.19_8 1 |  4.482954e-11 |\n",
       "| 399654 | ENST00000330794.9_3  | ENSG00000015479.19_8 | MATR3  | 0 | -0.4834587 | 0.06733500 |  1.510765e-12 |  0.216103950 | 0.07936023 | 6.598730e-03 | ENSG00000184584.13_8 | STING1      | ENSG00000015479.19_8 ENSG00000184584.13_8 | ENSG00000015479.19_8 0 |  5.342520e-08 |\n",
       "| 8053654 | ENST00000480966.1_2  | ENSG00000204574.13_6 | ABCF1  | 1 | -1.0648358 | 0.14858180 |  1.655137e-12 |  0.077434535 | 0.09319551 | 4.062705e-01 | ENSG00000204560.10_6 | DHX16       | ENSG00000204574.13_6 ENSG00000204560.10_6 | ENSG00000204574.13_6 1 |  1.971047e-08 |\n",
       "| 1304873 | ENST00000436170.6_1  | ENSG00000077348.9_5  | EXOSC5 | 0 |  0.6731165 | 0.09465229 |  2.417893e-12 | -0.194289950 | 0.06966704 | 5.406615e-03 | ENSG00000142046.15_5 | TMEM91      | ENSG00000077348.9_5 ENSG00000142046.15_5  | ENSG00000077348.9_5 0  |  1.447593e-08 |\n",
       "| 310328 | ENST00000512737.5_1  | ENSG00000011260.14_4 | UTP18  | 1 |  0.4057315 | 0.05772478 |  4.247639e-12 |  0.046147177 | 0.04036437 | 2.532466e-01 | ENSG00000243678.11_4 | NME2        | ENSG00000011260.14_4 ENSG00000243678.11_4 | ENSG00000011260.14_4 1 |  1.525752e-07 |\n",
       "| 8046864 | ENST00000412585.7_3  | ENSG00000204574.13_6 | ABCF1  | 1 | -1.1588871 | 0.16569535 |  5.368629e-12 | -0.205380697 | 0.10379011 | 4.815627e-02 | ENSG00000234745.11_5 | HLA-B       | ENSG00000204574.13_6 ENSG00000234745.11_5 | ENSG00000204574.13_6 1 |  4.794991e-08 |\n",
       "| 7297838 | ENST00000462829.2_2  | ENSG00000177192.14_6 | PUS1   | 1 |  0.6459448 | 0.09499650 |  1.962286e-11 | -0.026742373 | 0.07026500 | 7.035992e-01 | ENSG00000185163.10_5 | DDX51       | ENSG00000177192.14_6 ENSG00000185163.10_5 | ENSG00000177192.14_6 1 |  1.761691e-07 |\n",
       "| 8045917 | ENST00000399247.6_3  | ENSG00000204574.13_6 | ABCF1  | 1 |  1.1771784 | 0.17466790 |  2.911703e-11 | -0.143908805 | 0.10919959 | 1.879044e-01 | ENSG00000214922.9_7  | HLA-F-AS1   | ENSG00000204574.13_6 ENSG00000214922.9_7  | ENSG00000204574.13_6 1 |  2.080470e-07 |\n",
       "| 6360651 | ENST00000409569.2_3  | ENSG00000163938.17_5 | GNL3   | 1 |  1.1335645 | 0.16884385 |  3.446421e-11 |  0.047211108 | 0.06485313 | 4.668303e-01 | ENSG00000172965.17_9 | MIR4435-2HG | ENSG00000163938.17_5 ENSG00000172965.17_9 | ENSG00000163938.17_5 1 |  1.237920e-06 |\n",
       "| 8038827 | ENST00000321897.9_4  | ENSG00000204574.13_6 | ABCF1  | 1 | -1.0080996 | 0.15158662 |  5.198924e-11 | -0.129411395 | 0.09470694 | 1.721579e-01 | ENSG00000137411.18_5 | VARS2       | ENSG00000204574.13_6 ENSG00000137411.18_5 | ENSG00000204574.13_6 1 |  3.095613e-07 |\n",
       "| 7687162 | ENST00000401959.6_4  | ENSG00000196419.12_3 | XRCC6  | 0 | -0.3821755 | 0.05815318 |  8.608508e-11 | -0.138391976 | 0.07043739 | 4.976457e-02 | ENSG00000100138.15_7 | SNU13       | ENSG00000196419.12_3 ENSG00000100138.15_7 | ENSG00000196419.12_3 0 |  3.092348e-06 |\n",
       "| 8016816 | ENST00000473266.1_1  | ENSG00000204574.13_6 | ABCF1  | 0 |  0.8341843 | 0.12813317 |  1.274372e-10 |  0.077155242 | 0.10200082 | 4.496059e-01 | ENSG00000241370.5_5  | RPP21       | ENSG00000204574.13_6 ENSG00000241370.5_5  | ENSG00000204574.13_6 0 |  4.552820e-06 |\n",
       "| 274408 | ENST00000512737.5_1  | ENSG00000011260.14_4 | UTP18  | 0 | -0.3868595 | 0.05951999 |  1.363255e-10 |  0.046147177 | 0.04036437 | 2.532466e-01 | ENSG00000243678.11_4 | NME2        | ENSG00000011260.14_4 ENSG00000243678.11_4 | ENSG00000011260.14_4 0 |  4.896812e-06 |\n",
       "| ⋮ | ⋮ | ⋮ | ⋮ | ⋮ | ⋮ | ⋮ | ⋮ | ⋮ | ⋮ | ⋮ | ⋮ | ⋮ | ⋮ | ⋮ | ⋮ |\n",
       "| 3774658 | ENST00000381653.9_2  | ENSG00000118246.14_5 | FASTKD2 | 0 | -0.2923937 | 0.06183866 | 2.644920e-06 |  0.093103149 | 0.06502254 | 0.152547360 | ENSG00000088833.17_6 | NSFL1C  | ENSG00000118246.14_5 ENSG00000088833.17_6 | ENSG00000118246.14_5 0 | 0.047498795 |\n",
       "| 5221849 | ENST00000495327.1_2  | ENSG00000138385.16_4 | SSB     | 0 | -0.6261306 | 0.13246523 | 2.668841e-06 |  0.053791583 | 0.11123160 | 0.628792991 | ENSG00000106344.8_8  | RBM28   | ENSG00000138385.16_4 ENSG00000106344.8_8  | ENSG00000138385.16_4 0 | 0.034082540 |\n",
       "| 3379443 | ENST00000374018.5_1  | ENSG00000114503.11_7 | NCBP2   | 1 | -0.5966760 | 0.12633322 | 2.712992e-06 | -0.139952875 | 0.09042408 | 0.122053052 | ENSG00000124562.10_5 | SNRPC   | ENSG00000114503.11_7 ENSG00000124562.10_5 | ENSG00000114503.11_7 1 | 0.019491218 |\n",
       "| 3133908 | ENST00000440863.7_3  | ENSG00000113360.16_6 | DROSHA  | 1 |  0.4538778 | 0.09618971 | 2.771651e-06 | -0.018678227 | 0.04635473 | 0.687091658 | ENSG00000140474.14_6 | ULK3    | ENSG00000113360.16_6 ENSG00000140474.14_6 | ENSG00000113360.16_6 1 | 0.049773314 |\n",
       "| 570939 | ENST00000621128.4_3  | ENSG00000029363.17_9 | BCLAF1  | 1 |  0.5170339 | 0.10966349 | 2.823068e-06 | -0.013133634 | 0.04353029 | 0.762944186 | ENSG00000149294.16_7 | NCAM1   | ENSG00000029363.17_9 ENSG00000149294.16_7 | ENSG00000029363.17_9 1 | 0.033798713 |\n",
       "| 1782425 | ENST00000530649.5_1  | ENSG00000090621.14_8 | PABPC4  | 0 | -0.2430032 | 0.05154573 | 2.833134e-06 |  0.043613892 | 0.03985883 | 0.274169734 | ENSG00000149591.17_5 | TAGLN   | ENSG00000090621.14_8 ENSG00000149591.17_5 | ENSG00000090621.14_8 0 | 0.033500864 |\n",
       "| 5233694 | ENST00000617816.1_1  | ENSG00000138385.16_4 | SSB     | 0 |  0.6069197 | 0.12876784 | 2.846696e-06 | -0.021720013 | 0.10758048 | 0.840046186 | ENSG00000160051.11_4 | IQCC    | ENSG00000138385.16_4 ENSG00000160051.11_4 | ENSG00000138385.16_4 0 | 0.034082540 |\n",
       "| 5937056 | ENST00000477536.1_3  | ENSG00000153187.20_9 | HNRNPU  | 1 | -0.3345465 | 0.07101623 | 2.894535e-06 |  0.079958199 | 0.06800142 | 0.239987679 | ENSG00000173706.14_7 | HEG1    | ENSG00000153187.20_9 ENSG00000173706.14_7 | ENSG00000153187.20_9 1 | 0.041473080 |\n",
       "| 145540 | ENST00000270061.12_2 | ENSG00000005007.13_4 | UPF1    | 0 |  0.4069823 | 0.08652170 | 2.974309e-06 | -0.144852461 | 0.07117896 | 0.042152448 | ENSG00000130511.16_5 | SSBP4   | ENSG00000005007.13_4 ENSG00000130511.16_5 | ENSG00000005007.13_4 0 | 0.035610414 |\n",
       "| 490968 | ENST00000531935.1_1  | ENSG00000021776.11_6 | AQR     | 0 | -0.3322443 | 0.07069279 | 3.031455e-06 | -0.016589045 | 0.03107997 | 0.593649995 | ENSG00000197798.9_6  | FAM118B | ENSG00000021776.11_6 ENSG00000197798.9_6  | ENSG00000021776.11_6 0 | 0.036294603 |\n",
       "| 424034 | ENST00000570486.5_2  | ENSG00000015479.19_8 | MATR3   | 0 |  0.4545218 | 0.09676010 | 3.066710e-06 |  0.043311753 | 0.11217869 | 0.699521004 | ENSG00000167840.13_4 | ZNF232  | ENSG00000015479.19_8 ENSG00000167840.13_4 | ENSG00000015479.19_8 0 | 0.036149354 |\n",
       "| 3020041 | ENST00000372982.8_1  | ENSG00000111786.9_5  | SRSF9   | 0 | -0.6456487 | 0.13781243 | 3.253840e-06 | -0.012683701 | 0.10266548 | 0.901705226 | ENSG00000137413.16_4 | TAF8    | ENSG00000111786.9_5 ENSG00000137413.16_4  | ENSG00000111786.9_5 0  | 0.038957138 |\n",
       "| 8043582 | ENST00000376266.9_2  | ENSG00000204574.13_6 | ABCF1   | 1 | -0.7304673 | 0.15597516 | 3.281106e-06 | -0.116299089 | 0.09623860 | 0.227208178 | ENSG00000204536.14_7 | CCHCR1  | ENSG00000204574.13_6 ENSG00000204536.14_7 | ENSG00000204574.13_6 1 | 0.009768399 |\n",
       "| 5935341 | ENST00000465807.1_1  | ENSG00000153187.20_9 | HNRNPU  | 1 |  0.5869330 | 0.12559685 | 3.463594e-06 |  0.247240851 | 0.11993180 | 0.039554261 | ENSG00000107821.15_3 | KAZALD1 | ENSG00000153187.20_9 ENSG00000107821.15_3 | ENSG00000153187.20_9 1 | 0.041473080 |\n",
       "| 4996459 | ENST00000399697.7_2  | ENSG00000136450.13_7 | SRSF1   | 1 | -0.2332733 | 0.04996767 | 3.519226e-06 |  0.053481213 | 0.05320770 | 0.315111969 | ENSG00000186184.19_6 | POLR1D  | ENSG00000136450.13_7 ENSG00000186184.19_6 | ENSG00000136450.13_7 1 | 0.031600009 |\n",
       "| 5231193 | ENST00000586269.1_2  | ENSG00000138385.16_4 | SSB     | 0 | -0.6203801 | 0.13358717 | 3.956950e-06 | -0.006579426 | 0.11154028 | 0.952976171 | ENSG00000089639.11_6 | GMIP    | ENSG00000138385.16_4 ENSG00000089639.11_6 | ENSG00000138385.16_4 0 | 0.035531432 |\n",
       "| 5696795 | ENST00000575301.5_1  | ENSG00000145907.15_6 | G3BP1   | 1 | -0.3863246 | 0.08330101 | 4.071240e-06 | -0.066738834 | 0.05708275 | 0.242663380 | ENSG00000169992.10_4 | NLGN2   | ENSG00000145907.15_6 ENSG00000169992.10_4 | ENSG00000145907.15_6 1 | 0.048743599 |\n",
       "| 8083483 | ENST00000424000.6_1  | ENSG00000204574.13_6 | ABCF1   | 2 |  0.4043243 | 0.08725174 | 4.142837e-06 | -0.224872795 | 0.09059188 | 0.013244976 | ENSG00000155636.15_5 | RBM45   | ENSG00000204574.13_6 ENSG00000155636.15_5 | ENSG00000204574.13_6 2 | 0.029601396 |\n",
       "| 4454610 | ENST00000369489.10_3 | ENSG00000132153.15_4 | DHX30   | 0 |  0.5812486 | 0.12581650 | 4.429001e-06 | -0.129755740 | 0.08231775 | 0.115329271 | ENSG00000116815.16_7 | CD58    | ENSG00000132153.15_4 ENSG00000116815.16_7 | ENSG00000132153.15_4 0 | 0.039684952 |\n",
       "| 554587 | ENST00000466335.1_4  | ENSG00000029363.17_9 | BCLAF1  | 1 | -0.6344980 | 0.13742563 | 4.487349e-06 |  0.036420496 | 0.05452209 | 0.504315875 | ENSG00000165996.14_6 | HACD1   | ENSG00000029363.17_9 ENSG00000165996.14_6 | ENSG00000029363.17_9 1 | 0.040293024 |\n",
       "| 5019616 | ENST00000649426.1_2  | ENSG00000136450.13_7 | SRSF1   | 1 | -0.2497511 | 0.05429538 | 4.863816e-06 |  0.012808438 | 0.05779516 | 0.824664027 | ENSG00000115267.8_7  | IFIH1   | ENSG00000136450.13_7 ENSG00000115267.8_7  | ENSG00000136450.13_7 1 | 0.032909627 |\n",
       "| 6359018 | ENST00000394091.5_2  | ENSG00000163938.17_5 | GNL3    | 1 |  0.8200364 | 0.17844564 | 4.965498e-06 |  0.097424370 | 0.06762701 | 0.150057916 | ENSG00000138468.16_6 | SENP7   | ENSG00000163938.17_5 ENSG00000138468.16_6 | ENSG00000163938.17_5 1 | 0.044588934 |\n",
       "| 1321761 | ENST00000589503.1_2  | ENSG00000077348.9_5  | EXOSC5  | 0 | -0.3116010 | 0.06794082 | 5.180924e-06 |  0.086934945 | 0.04918788 | 0.077514897 | ENSG00000105341.18_8 | DMAC2   | ENSG00000077348.9_5 ENSG00000105341.18_8  | ENSG00000077348.9_5 0  | 0.023263643 |\n",
       "| 4999580 | ENST00000440863.7_3  | ENSG00000136450.13_7 | SRSF1   | 1 | -0.3765682 | 0.08233435 | 5.497613e-06 |  0.082213161 | 0.08762950 | 0.348409918 | ENSG00000140474.14_6 | ULK3    | ENSG00000136450.13_7 ENSG00000140474.14_6 | ENSG00000136450.13_7 1 | 0.032909627 |\n",
       "| 148770 | ENST00000338128.13_3 | ENSG00000005007.13_4 | UPF1    | 0 |  0.2419204 | 0.05290265 | 5.515866e-06 |  0.031617204 | 0.04349152 | 0.467439695 | ENSG00000105655.19_8 | ISYNA1  | ENSG00000005007.13_4 ENSG00000105655.19_8 | ENSG00000005007.13_4 0 | 0.049529716 |\n",
       "| 8080232 | ENST00000383742.7_3  | ENSG00000204574.13_6 | ABCF1   | 2 | -0.3998405 | 0.08921355 | 8.402320e-06 | -0.272874065 | 0.09255580 | 0.003282667 | ENSG00000178038.17_5 | ALS2CL  | ENSG00000204574.13_6 ENSG00000178038.17_5 | ENSG00000204574.13_6 2 | 0.048866410 |\n",
       "| 8086664 | ENST00000462256.5_2  | ENSG00000204574.13_6 | ABCF1   | 2 | -0.2464018 | 0.05533098 | 9.574676e-06 | -0.066320927 | 0.05739553 | 0.248203850 | ENSG00000198563.14_9 | DDX39B  | ENSG00000204574.13_6 ENSG00000198563.14_9 | ENSG00000204574.13_6 2 | 0.048866410 |\n",
       "| 1325349 | ENST00000650113.1_2  | ENSG00000077348.9_5  | EXOSC5  | 0 | -0.4393660 | 0.09976813 | 1.197506e-05 | -0.043039834 | 0.07216291 | 0.551047637 | ENSG00000140598.15_8 | EFL1    | ENSG00000077348.9_5 ENSG00000140598.15_8  | ENSG00000077348.9_5 0  | 0.047796447 |\n",
       "| 8042690 | ENST00000371579.7_3  | ENSG00000204574.13_6 | ABCF1   | 1 | -0.3549334 | 0.08096046 | 1.309347e-05 | -0.015365117 | 0.04987663 | 0.758109393 | ENSG00000176978.14_6 | DPP7    | ENSG00000204574.13_6 ENSG00000176978.14_6 | ENSG00000204574.13_6 1 | 0.035982871 |\n",
       "| 8066777 | ENST00000602875.5_2  | ENSG00000204574.13_6 | ABCF1   | 1 | -0.6651959 | 0.15312998 | 1.566221e-05 | -0.033537786 | 0.09431872 | 0.722242844 | ENSG00000213523.10_7 | SRA1    | ENSG00000204574.13_6 ENSG00000213523.10_7 | ENSG00000204574.13_6 1 | 0.039967725 |\n",
       "\n"
      ],
      "text/plain": [
       "        transcript_id_trans  gene_id_rbp          gene_name_rbp type beta_gt   \n",
       "1290835 ENST00000221943.13_3 ENSG00000077348.9_5  EXOSC5        0    -1.8316911\n",
       "1305077 ENST00000438807.7_2  ENSG00000077348.9_5  EXOSC5        0     1.7660105\n",
       "1321819 ENST00000589970.5_4  ENSG00000077348.9_5  EXOSC5        0     1.4305681\n",
       "4447242 ENST00000232766.6_2  ENSG00000132153.15_4 DHX30         0     1.0885030\n",
       "4466322 ENST00000483201.1_1  ENSG00000132153.15_4 DHX30         0    -1.1254084\n",
       "7308091 ENST00000545991.1_2  ENSG00000177192.14_6 PUS1          1     1.1263665\n",
       "6406449 ENST00000503548.1_1  ENSG00000163950.13_6 SLBP          0     0.8465191\n",
       "1422302 ENST00000520773.5_2  ENSG00000086589.12_6 RBM22         0     1.2615286\n",
       "7292419 ENST00000397333.4_3  ENSG00000177192.14_6 PUS1          1    -0.7217171\n",
       "1317503 ENST00000546362.5_1  ENSG00000077348.9_5  EXOSC5        0    -1.0221577\n",
       "173583  ENST00000577916.6_2  ENSG00000005007.13_4 UPF1          0    -0.5059715\n",
       "7892229 ENST00000259006.8_4  ENSG00000198231.13_7 DDX42         1    -0.4421802\n",
       "1404833 ENST00000356555.6_2  ENSG00000086589.12_6 RBM22         0    -1.2241191\n",
       "8048558 ENST00000434086.1_2  ENSG00000204574.13_6 ABCF1         1    -1.4697015\n",
       "7285958 ENST00000329073.8_2  ENSG00000177192.14_6 PUS1          1     0.6655914\n",
       "1322249 ENST00000592922.6_3  ENSG00000077348.9_5  EXOSC5        0    -0.6819991\n",
       "8068435 ENST00000640615.1_2  ENSG00000204574.13_6 ABCF1         1     1.4088927\n",
       "435017  ENST00000330794.9_3  ENSG00000015479.19_8 MATR3         1     0.5558965\n",
       "399654  ENST00000330794.9_3  ENSG00000015479.19_8 MATR3         0    -0.4834587\n",
       "8053654 ENST00000480966.1_2  ENSG00000204574.13_6 ABCF1         1    -1.0648358\n",
       "1304873 ENST00000436170.6_1  ENSG00000077348.9_5  EXOSC5        0     0.6731165\n",
       "310328  ENST00000512737.5_1  ENSG00000011260.14_4 UTP18         1     0.4057315\n",
       "8046864 ENST00000412585.7_3  ENSG00000204574.13_6 ABCF1         1    -1.1588871\n",
       "7297838 ENST00000462829.2_2  ENSG00000177192.14_6 PUS1          1     0.6459448\n",
       "8045917 ENST00000399247.6_3  ENSG00000204574.13_6 ABCF1         1     1.1771784\n",
       "6360651 ENST00000409569.2_3  ENSG00000163938.17_5 GNL3          1     1.1335645\n",
       "8038827 ENST00000321897.9_4  ENSG00000204574.13_6 ABCF1         1    -1.0080996\n",
       "7687162 ENST00000401959.6_4  ENSG00000196419.12_3 XRCC6         0    -0.3821755\n",
       "8016816 ENST00000473266.1_1  ENSG00000204574.13_6 ABCF1         0     0.8341843\n",
       "274408  ENST00000512737.5_1  ENSG00000011260.14_4 UTP18         0    -0.3868595\n",
       "⋮       ⋮                    ⋮                    ⋮             ⋮    ⋮         \n",
       "3774658 ENST00000381653.9_2  ENSG00000118246.14_5 FASTKD2       0    -0.2923937\n",
       "5221849 ENST00000495327.1_2  ENSG00000138385.16_4 SSB           0    -0.6261306\n",
       "3379443 ENST00000374018.5_1  ENSG00000114503.11_7 NCBP2         1    -0.5966760\n",
       "3133908 ENST00000440863.7_3  ENSG00000113360.16_6 DROSHA        1     0.4538778\n",
       "570939  ENST00000621128.4_3  ENSG00000029363.17_9 BCLAF1        1     0.5170339\n",
       "1782425 ENST00000530649.5_1  ENSG00000090621.14_8 PABPC4        0    -0.2430032\n",
       "5233694 ENST00000617816.1_1  ENSG00000138385.16_4 SSB           0     0.6069197\n",
       "5937056 ENST00000477536.1_3  ENSG00000153187.20_9 HNRNPU        1    -0.3345465\n",
       "145540  ENST00000270061.12_2 ENSG00000005007.13_4 UPF1          0     0.4069823\n",
       "490968  ENST00000531935.1_1  ENSG00000021776.11_6 AQR           0    -0.3322443\n",
       "424034  ENST00000570486.5_2  ENSG00000015479.19_8 MATR3         0     0.4545218\n",
       "3020041 ENST00000372982.8_1  ENSG00000111786.9_5  SRSF9         0    -0.6456487\n",
       "8043582 ENST00000376266.9_2  ENSG00000204574.13_6 ABCF1         1    -0.7304673\n",
       "5935341 ENST00000465807.1_1  ENSG00000153187.20_9 HNRNPU        1     0.5869330\n",
       "4996459 ENST00000399697.7_2  ENSG00000136450.13_7 SRSF1         1    -0.2332733\n",
       "5231193 ENST00000586269.1_2  ENSG00000138385.16_4 SSB           0    -0.6203801\n",
       "5696795 ENST00000575301.5_1  ENSG00000145907.15_6 G3BP1         1    -0.3863246\n",
       "8083483 ENST00000424000.6_1  ENSG00000204574.13_6 ABCF1         2     0.4043243\n",
       "4454610 ENST00000369489.10_3 ENSG00000132153.15_4 DHX30         0     0.5812486\n",
       "554587  ENST00000466335.1_4  ENSG00000029363.17_9 BCLAF1        1    -0.6344980\n",
       "5019616 ENST00000649426.1_2  ENSG00000136450.13_7 SRSF1         1    -0.2497511\n",
       "6359018 ENST00000394091.5_2  ENSG00000163938.17_5 GNL3          1     0.8200364\n",
       "1321761 ENST00000589503.1_2  ENSG00000077348.9_5  EXOSC5        0    -0.3116010\n",
       "4999580 ENST00000440863.7_3  ENSG00000136450.13_7 SRSF1         1    -0.3765682\n",
       "148770  ENST00000338128.13_3 ENSG00000005007.13_4 UPF1          0     0.2419204\n",
       "8080232 ENST00000383742.7_3  ENSG00000204574.13_6 ABCF1         2    -0.3998405\n",
       "8086664 ENST00000462256.5_2  ENSG00000204574.13_6 ABCF1         2    -0.2464018\n",
       "1325349 ENST00000650113.1_2  ENSG00000077348.9_5  EXOSC5        0    -0.4393660\n",
       "8042690 ENST00000371579.7_3  ENSG00000204574.13_6 ABCF1         1    -0.3549334\n",
       "8066777 ENST00000602875.5_2  ENSG00000204574.13_6 ABCF1         1    -0.6651959\n",
       "        se_gt      pval_gt       beta_exp     se_exp     pval_exp    \n",
       "1290835 0.07005790 2.561077e-111  0.329216320 0.06715195 1.130755e-06\n",
       "1305077 0.07024377 5.650790e-105 -0.353242412 0.06619657 1.214285e-07\n",
       "1321819 0.06605678  2.482885e-83 -0.248140228 0.05874833 2.658543e-05\n",
       "4447242 0.05868925  7.645252e-65 -0.030778172 0.04488684 4.930974e-01\n",
       "4466322 0.06119269  6.021527e-64  0.036452486 0.04668954 4.351691e-01\n",
       "7308091 0.08303945  4.057461e-38  0.173940835 0.06592876 8.482515e-03\n",
       "6406449 0.06433221  3.697921e-36 -0.004642902 0.06630632 9.441924e-01\n",
       "1422302 0.11152995  9.485335e-28  0.063131727 0.05746532 2.722476e-01\n",
       "7292419 0.06656053  9.186856e-26 -0.005428641 0.05113513 9.154781e-01\n",
       "1317503 0.10044566  4.825409e-23  0.243054959 0.07605391 1.445184e-03\n",
       "173583  0.05097062  4.650243e-22 -0.063344637 0.04371253 1.476690e-01\n",
       "7892229 0.04910855  1.376043e-18 -0.003589164 0.04276131 9.331278e-01\n",
       "1404833 0.13979871  1.058999e-17 -0.074437539 0.07013483 2.888293e-01\n",
       "8048558 0.17032436  2.970678e-17  0.070976414 0.10817986 5.119376e-01\n",
       "7285958 0.07721736  3.196916e-17 -0.017370385 0.05799308 7.646118e-01\n",
       "1322249 0.07944383  4.234906e-17  0.168745943 0.05921174 4.478189e-03\n",
       "8068435 0.16950632  3.664148e-16  0.257168491 0.10735006 1.680578e-02\n",
       "435017  0.06819679  1.267696e-15  0.216103950 0.07936023 6.598730e-03\n",
       "399654  0.06733500  1.510765e-12  0.216103950 0.07936023 6.598730e-03\n",
       "8053654 0.14858180  1.655137e-12  0.077434535 0.09319551 4.062705e-01\n",
       "1304873 0.09465229  2.417893e-12 -0.194289950 0.06966704 5.406615e-03\n",
       "310328  0.05772478  4.247639e-12  0.046147177 0.04036437 2.532466e-01\n",
       "8046864 0.16569535  5.368629e-12 -0.205380697 0.10379011 4.815627e-02\n",
       "7297838 0.09499650  1.962286e-11 -0.026742373 0.07026500 7.035992e-01\n",
       "8045917 0.17466790  2.911703e-11 -0.143908805 0.10919959 1.879044e-01\n",
       "6360651 0.16884385  3.446421e-11  0.047211108 0.06485313 4.668303e-01\n",
       "8038827 0.15158662  5.198924e-11 -0.129411395 0.09470694 1.721579e-01\n",
       "7687162 0.05815318  8.608508e-11 -0.138391976 0.07043739 4.976457e-02\n",
       "8016816 0.12813317  1.274372e-10  0.077155242 0.10200082 4.496059e-01\n",
       "274408  0.05951999  1.363255e-10  0.046147177 0.04036437 2.532466e-01\n",
       "⋮       ⋮          ⋮             ⋮            ⋮          ⋮           \n",
       "3774658 0.06183866 2.644920e-06   0.093103149 0.06502254 0.152547360 \n",
       "5221849 0.13246523 2.668841e-06   0.053791583 0.11123160 0.628792991 \n",
       "3379443 0.12633322 2.712992e-06  -0.139952875 0.09042408 0.122053052 \n",
       "3133908 0.09618971 2.771651e-06  -0.018678227 0.04635473 0.687091658 \n",
       "570939  0.10966349 2.823068e-06  -0.013133634 0.04353029 0.762944186 \n",
       "1782425 0.05154573 2.833134e-06   0.043613892 0.03985883 0.274169734 \n",
       "5233694 0.12876784 2.846696e-06  -0.021720013 0.10758048 0.840046186 \n",
       "5937056 0.07101623 2.894535e-06   0.079958199 0.06800142 0.239987679 \n",
       "145540  0.08652170 2.974309e-06  -0.144852461 0.07117896 0.042152448 \n",
       "490968  0.07069279 3.031455e-06  -0.016589045 0.03107997 0.593649995 \n",
       "424034  0.09676010 3.066710e-06   0.043311753 0.11217869 0.699521004 \n",
       "3020041 0.13781243 3.253840e-06  -0.012683701 0.10266548 0.901705226 \n",
       "8043582 0.15597516 3.281106e-06  -0.116299089 0.09623860 0.227208178 \n",
       "5935341 0.12559685 3.463594e-06   0.247240851 0.11993180 0.039554261 \n",
       "4996459 0.04996767 3.519226e-06   0.053481213 0.05320770 0.315111969 \n",
       "5231193 0.13358717 3.956950e-06  -0.006579426 0.11154028 0.952976171 \n",
       "5696795 0.08330101 4.071240e-06  -0.066738834 0.05708275 0.242663380 \n",
       "8083483 0.08725174 4.142837e-06  -0.224872795 0.09059188 0.013244976 \n",
       "4454610 0.12581650 4.429001e-06  -0.129755740 0.08231775 0.115329271 \n",
       "554587  0.13742563 4.487349e-06   0.036420496 0.05452209 0.504315875 \n",
       "5019616 0.05429538 4.863816e-06   0.012808438 0.05779516 0.824664027 \n",
       "6359018 0.17844564 4.965498e-06   0.097424370 0.06762701 0.150057916 \n",
       "1321761 0.06794082 5.180924e-06   0.086934945 0.04918788 0.077514897 \n",
       "4999580 0.08233435 5.497613e-06   0.082213161 0.08762950 0.348409918 \n",
       "148770  0.05290265 5.515866e-06   0.031617204 0.04349152 0.467439695 \n",
       "8080232 0.08921355 8.402320e-06  -0.272874065 0.09255580 0.003282667 \n",
       "8086664 0.05533098 9.574676e-06  -0.066320927 0.05739553 0.248203850 \n",
       "1325349 0.09976813 1.197506e-05  -0.043039834 0.07216291 0.551047637 \n",
       "8042690 0.08096046 1.309347e-05  -0.015365117 0.04987663 0.758109393 \n",
       "8066777 0.15312998 1.566221e-05  -0.033537786 0.09431872 0.722242844 \n",
       "        gene_id_trans        gene_name_trans\n",
       "1290835 ENSG00000105341.18_8 DMAC2          \n",
       "1305077 ENSG00000105341.18_8 DMAC2          \n",
       "1321819 ENSG00000105341.18_8 DMAC2          \n",
       "4447242 ENSG00000114648.12_5 KLHL18         \n",
       "4466322 ENSG00000114648.12_5 KLHL18         \n",
       "7308091 ENSG00000185163.10_5 DDX51          \n",
       "6406449 ENSG00000163945.18_7 UVSSA          \n",
       "1422302 ENSG00000197083.11_6 ZNF300P1       \n",
       "7292419 ENSG00000185163.10_5 DDX51          \n",
       "1317503 ENSG00000142046.15_5 TMEM91         \n",
       "173583  ENSG00000105655.19_8 ISYNA1         \n",
       "7892229 ENSG00000136490.9_7  LIMD2          \n",
       "1404833 ENSG00000197083.11_6 ZNF300P1       \n",
       "8048558 ENSG00000214922.9_7  HLA-F-AS1      \n",
       "7285958 ENSG00000185163.10_5 DDX51          \n",
       "1322249 ENSG00000105341.18_8 DMAC2          \n",
       "8068435 ENSG00000234745.11_5 HLA-B          \n",
       "435017  ENSG00000184584.13_8 STING1         \n",
       "399654  ENSG00000184584.13_8 STING1         \n",
       "8053654 ENSG00000204560.10_6 DHX16          \n",
       "1304873 ENSG00000142046.15_5 TMEM91         \n",
       "310328  ENSG00000243678.11_4 NME2           \n",
       "8046864 ENSG00000234745.11_5 HLA-B          \n",
       "7297838 ENSG00000185163.10_5 DDX51          \n",
       "8045917 ENSG00000214922.9_7  HLA-F-AS1      \n",
       "6360651 ENSG00000172965.17_9 MIR4435-2HG    \n",
       "8038827 ENSG00000137411.18_5 VARS2          \n",
       "7687162 ENSG00000100138.15_7 SNU13          \n",
       "8016816 ENSG00000241370.5_5  RPP21          \n",
       "274408  ENSG00000243678.11_4 NME2           \n",
       "⋮       ⋮                    ⋮              \n",
       "3774658 ENSG00000088833.17_6 NSFL1C         \n",
       "5221849 ENSG00000106344.8_8  RBM28          \n",
       "3379443 ENSG00000124562.10_5 SNRPC          \n",
       "3133908 ENSG00000140474.14_6 ULK3           \n",
       "570939  ENSG00000149294.16_7 NCAM1          \n",
       "1782425 ENSG00000149591.17_5 TAGLN          \n",
       "5233694 ENSG00000160051.11_4 IQCC           \n",
       "5937056 ENSG00000173706.14_7 HEG1           \n",
       "145540  ENSG00000130511.16_5 SSBP4          \n",
       "490968  ENSG00000197798.9_6  FAM118B        \n",
       "424034  ENSG00000167840.13_4 ZNF232         \n",
       "3020041 ENSG00000137413.16_4 TAF8           \n",
       "8043582 ENSG00000204536.14_7 CCHCR1         \n",
       "5935341 ENSG00000107821.15_3 KAZALD1        \n",
       "4996459 ENSG00000186184.19_6 POLR1D         \n",
       "5231193 ENSG00000089639.11_6 GMIP           \n",
       "5696795 ENSG00000169992.10_4 NLGN2          \n",
       "8083483 ENSG00000155636.15_5 RBM45          \n",
       "4454610 ENSG00000116815.16_7 CD58           \n",
       "554587  ENSG00000165996.14_6 HACD1          \n",
       "5019616 ENSG00000115267.8_7  IFIH1          \n",
       "6359018 ENSG00000138468.16_6 SENP7          \n",
       "1321761 ENSG00000105341.18_8 DMAC2          \n",
       "4999580 ENSG00000140474.14_6 ULK3           \n",
       "148770  ENSG00000105655.19_8 ISYNA1         \n",
       "8080232 ENSG00000178038.17_5 ALS2CL         \n",
       "8086664 ENSG00000198563.14_9 DDX39B         \n",
       "1325349 ENSG00000140598.15_8 EFL1           \n",
       "8042690 ENSG00000176978.14_6 DPP7           \n",
       "8066777 ENSG00000213523.10_7 SRA1           \n",
       "        gene2gene                                 rbp2type              \n",
       "1290835 ENSG00000077348.9_5 ENSG00000105341.18_8  ENSG00000077348.9_5 0 \n",
       "1305077 ENSG00000077348.9_5 ENSG00000105341.18_8  ENSG00000077348.9_5 0 \n",
       "1321819 ENSG00000077348.9_5 ENSG00000105341.18_8  ENSG00000077348.9_5 0 \n",
       "4447242 ENSG00000132153.15_4 ENSG00000114648.12_5 ENSG00000132153.15_4 0\n",
       "4466322 ENSG00000132153.15_4 ENSG00000114648.12_5 ENSG00000132153.15_4 0\n",
       "7308091 ENSG00000177192.14_6 ENSG00000185163.10_5 ENSG00000177192.14_6 1\n",
       "6406449 ENSG00000163950.13_6 ENSG00000163945.18_7 ENSG00000163950.13_6 0\n",
       "1422302 ENSG00000086589.12_6 ENSG00000197083.11_6 ENSG00000086589.12_6 0\n",
       "7292419 ENSG00000177192.14_6 ENSG00000185163.10_5 ENSG00000177192.14_6 1\n",
       "1317503 ENSG00000077348.9_5 ENSG00000142046.15_5  ENSG00000077348.9_5 0 \n",
       "173583  ENSG00000005007.13_4 ENSG00000105655.19_8 ENSG00000005007.13_4 0\n",
       "7892229 ENSG00000198231.13_7 ENSG00000136490.9_7  ENSG00000198231.13_7 1\n",
       "1404833 ENSG00000086589.12_6 ENSG00000197083.11_6 ENSG00000086589.12_6 0\n",
       "8048558 ENSG00000204574.13_6 ENSG00000214922.9_7  ENSG00000204574.13_6 1\n",
       "7285958 ENSG00000177192.14_6 ENSG00000185163.10_5 ENSG00000177192.14_6 1\n",
       "1322249 ENSG00000077348.9_5 ENSG00000105341.18_8  ENSG00000077348.9_5 0 \n",
       "8068435 ENSG00000204574.13_6 ENSG00000234745.11_5 ENSG00000204574.13_6 1\n",
       "435017  ENSG00000015479.19_8 ENSG00000184584.13_8 ENSG00000015479.19_8 1\n",
       "399654  ENSG00000015479.19_8 ENSG00000184584.13_8 ENSG00000015479.19_8 0\n",
       "8053654 ENSG00000204574.13_6 ENSG00000204560.10_6 ENSG00000204574.13_6 1\n",
       "1304873 ENSG00000077348.9_5 ENSG00000142046.15_5  ENSG00000077348.9_5 0 \n",
       "310328  ENSG00000011260.14_4 ENSG00000243678.11_4 ENSG00000011260.14_4 1\n",
       "8046864 ENSG00000204574.13_6 ENSG00000234745.11_5 ENSG00000204574.13_6 1\n",
       "7297838 ENSG00000177192.14_6 ENSG00000185163.10_5 ENSG00000177192.14_6 1\n",
       "8045917 ENSG00000204574.13_6 ENSG00000214922.9_7  ENSG00000204574.13_6 1\n",
       "6360651 ENSG00000163938.17_5 ENSG00000172965.17_9 ENSG00000163938.17_5 1\n",
       "8038827 ENSG00000204574.13_6 ENSG00000137411.18_5 ENSG00000204574.13_6 1\n",
       "7687162 ENSG00000196419.12_3 ENSG00000100138.15_7 ENSG00000196419.12_3 0\n",
       "8016816 ENSG00000204574.13_6 ENSG00000241370.5_5  ENSG00000204574.13_6 0\n",
       "274408  ENSG00000011260.14_4 ENSG00000243678.11_4 ENSG00000011260.14_4 0\n",
       "⋮       ⋮                                         ⋮                     \n",
       "3774658 ENSG00000118246.14_5 ENSG00000088833.17_6 ENSG00000118246.14_5 0\n",
       "5221849 ENSG00000138385.16_4 ENSG00000106344.8_8  ENSG00000138385.16_4 0\n",
       "3379443 ENSG00000114503.11_7 ENSG00000124562.10_5 ENSG00000114503.11_7 1\n",
       "3133908 ENSG00000113360.16_6 ENSG00000140474.14_6 ENSG00000113360.16_6 1\n",
       "570939  ENSG00000029363.17_9 ENSG00000149294.16_7 ENSG00000029363.17_9 1\n",
       "1782425 ENSG00000090621.14_8 ENSG00000149591.17_5 ENSG00000090621.14_8 0\n",
       "5233694 ENSG00000138385.16_4 ENSG00000160051.11_4 ENSG00000138385.16_4 0\n",
       "5937056 ENSG00000153187.20_9 ENSG00000173706.14_7 ENSG00000153187.20_9 1\n",
       "145540  ENSG00000005007.13_4 ENSG00000130511.16_5 ENSG00000005007.13_4 0\n",
       "490968  ENSG00000021776.11_6 ENSG00000197798.9_6  ENSG00000021776.11_6 0\n",
       "424034  ENSG00000015479.19_8 ENSG00000167840.13_4 ENSG00000015479.19_8 0\n",
       "3020041 ENSG00000111786.9_5 ENSG00000137413.16_4  ENSG00000111786.9_5 0 \n",
       "8043582 ENSG00000204574.13_6 ENSG00000204536.14_7 ENSG00000204574.13_6 1\n",
       "5935341 ENSG00000153187.20_9 ENSG00000107821.15_3 ENSG00000153187.20_9 1\n",
       "4996459 ENSG00000136450.13_7 ENSG00000186184.19_6 ENSG00000136450.13_7 1\n",
       "5231193 ENSG00000138385.16_4 ENSG00000089639.11_6 ENSG00000138385.16_4 0\n",
       "5696795 ENSG00000145907.15_6 ENSG00000169992.10_4 ENSG00000145907.15_6 1\n",
       "8083483 ENSG00000204574.13_6 ENSG00000155636.15_5 ENSG00000204574.13_6 2\n",
       "4454610 ENSG00000132153.15_4 ENSG00000116815.16_7 ENSG00000132153.15_4 0\n",
       "554587  ENSG00000029363.17_9 ENSG00000165996.14_6 ENSG00000029363.17_9 1\n",
       "5019616 ENSG00000136450.13_7 ENSG00000115267.8_7  ENSG00000136450.13_7 1\n",
       "6359018 ENSG00000163938.17_5 ENSG00000138468.16_6 ENSG00000163938.17_5 1\n",
       "1321761 ENSG00000077348.9_5 ENSG00000105341.18_8  ENSG00000077348.9_5 0 \n",
       "4999580 ENSG00000136450.13_7 ENSG00000140474.14_6 ENSG00000136450.13_7 1\n",
       "148770  ENSG00000005007.13_4 ENSG00000105655.19_8 ENSG00000005007.13_4 0\n",
       "8080232 ENSG00000204574.13_6 ENSG00000178038.17_5 ENSG00000204574.13_6 2\n",
       "8086664 ENSG00000204574.13_6 ENSG00000198563.14_9 ENSG00000204574.13_6 2\n",
       "1325349 ENSG00000077348.9_5 ENSG00000140598.15_8  ENSG00000077348.9_5 0 \n",
       "8042690 ENSG00000204574.13_6 ENSG00000176978.14_6 ENSG00000204574.13_6 1\n",
       "8066777 ENSG00000204574.13_6 ENSG00000213523.10_7 ENSG00000204574.13_6 1\n",
       "        fdr_gt       \n",
       "1290835 9.199900e-107\n",
       "1305077 1.014938e-100\n",
       "1321819  2.973007e-79\n",
       "4447242  2.740135e-60\n",
       "4466322  1.079088e-59\n",
       "7308091  1.457075e-33\n",
       "6406449  1.328256e-31\n",
       "1422302  3.407038e-23\n",
       "7292419  1.649546e-21\n",
       "1317503  4.333459e-19\n",
       "173583   1.670274e-17\n",
       "7892229  4.942196e-14\n",
       "1404833  1.901910e-13\n",
       "8048558  1.061304e-12\n",
       "7285958  3.826815e-13\n",
       "1322249  3.042526e-13\n",
       "8068435  6.545268e-12\n",
       "435017   4.482954e-11\n",
       "399654   5.342520e-08\n",
       "8053654  1.971047e-08\n",
       "1304873  1.447593e-08\n",
       "310328   1.525752e-07\n",
       "8046864  4.794991e-08\n",
       "7297838  1.761691e-07\n",
       "8045917  2.080470e-07\n",
       "6360651  1.237920e-06\n",
       "8038827  3.095613e-07\n",
       "7687162  3.092348e-06\n",
       "8016816  4.552820e-06\n",
       "274408   4.896812e-06\n",
       "⋮       ⋮            \n",
       "3774658 0.047498795  \n",
       "5221849 0.034082540  \n",
       "3379443 0.019491218  \n",
       "3133908 0.049773314  \n",
       "570939  0.033798713  \n",
       "1782425 0.033500864  \n",
       "5233694 0.034082540  \n",
       "5937056 0.041473080  \n",
       "145540  0.035610414  \n",
       "490968  0.036294603  \n",
       "424034  0.036149354  \n",
       "3020041 0.038957138  \n",
       "8043582 0.009768399  \n",
       "5935341 0.041473080  \n",
       "4996459 0.031600009  \n",
       "5231193 0.035531432  \n",
       "5696795 0.048743599  \n",
       "8083483 0.029601396  \n",
       "4454610 0.039684952  \n",
       "554587  0.040293024  \n",
       "5019616 0.032909627  \n",
       "6359018 0.044588934  \n",
       "1321761 0.023263643  \n",
       "4999580 0.032909627  \n",
       "148770  0.049529716  \n",
       "8080232 0.048866410  \n",
       "8086664 0.048866410  \n",
       "1325349 0.047796447  \n",
       "8042690 0.035982871  \n",
       "8066777 0.039967725  "
      ]
     },
     "metadata": {},
     "output_type": "display_data"
    }
   ],
   "source": [
    "a = trans_fdr[trans_fdr$fdr_gt < 0.05,]\n",
    "a[order(a$pval_gt),]"
   ]
  },
  {
   "cell_type": "code",
   "execution_count": 33,
   "metadata": {},
   "outputs": [
    {
     "name": "stdout",
     "output_type": "stream",
     "text": [
      "'data.frame':\t9185040 obs. of  12 variables:\n",
      " $ transcript_id_trans: chr  \"ENST00000000233.10_2\" \"ENST00000000233.10_2\" \"ENST00000000233.10_2\" \"ENST00000000233.10_2\" ...\n",
      " $ gene_id_rbp        : chr  \"ENSG00000198301.12_6\" \"ENSG00000137656.12_6\" \"ENSG00000138385.16_4\" \"ENSG00000278053.5_5\" ...\n",
      " $ gene_name_rbp      : chr  \"SDAD1\" \"BUD13\" \"SSB\" \"DDX52\" ...\n",
      " $ type               : int  0 0 1 0 0 1 1 0 1 2 ...\n",
      " $ beta_gt            : num  -0.0131 0.065 -0.0874 0.0218 -0.0293 ...\n",
      " $ se_gt              : num  0.0903 0.1167 0.0765 0.077 0.1341 ...\n",
      " $ pval_gt            : num  0.885 0.578 0.254 0.777 0.827 ...\n",
      " $ beta_exp           : num  0.1283 -0.016 0.1933 0.0125 0.0628 ...\n",
      " $ se_exp             : num  0.0734 0.0462 0.092 0.0658 0.0587 ...\n",
      " $ pval_exp           : num  0.0809 0.7288 0.036 0.8489 0.2847 ...\n",
      " $ gene_id_trans      : chr  \"ENSG00000004059.11_6\" \"ENSG00000004059.11_6\" \"ENSG00000004059.11_6\" \"ENSG00000004059.11_6\" ...\n",
      " $ gene_name_trans    : chr  \"ARF5\" \"ARF5\" \"ARF5\" \"ARF5\" ...\n"
     ]
    }
   ],
   "source": [
    "str(trans)"
   ]
  },
  {
   "cell_type": "code",
   "execution_count": 16,
   "metadata": {},
   "outputs": [
    {
     "data": {
      "text/html": [
       "<table>\n",
       "<caption>A data.frame: 6 × 10</caption>\n",
       "<thead>\n",
       "\t<tr><th></th><th scope=col>gene_id</th><th scope=col>gene_name</th><th scope=col>type</th><th scope=col>beta_gt</th><th scope=col>se_gt</th><th scope=col>pval_gt</th><th scope=col>beta_exp</th><th scope=col>se_exp</th><th scope=col>pval_exp</th><th scope=col>transcript_id_trans</th></tr>\n",
       "\t<tr><th></th><th scope=col>&lt;chr&gt;</th><th scope=col>&lt;chr&gt;</th><th scope=col>&lt;int&gt;</th><th scope=col>&lt;dbl&gt;</th><th scope=col>&lt;dbl&gt;</th><th scope=col>&lt;dbl&gt;</th><th scope=col>&lt;dbl&gt;</th><th scope=col>&lt;dbl&gt;</th><th scope=col>&lt;dbl&gt;</th><th scope=col>&lt;chr&gt;</th></tr>\n",
       "</thead>\n",
       "<tbody>\n",
       "\t<tr><th scope=row>498561</th><td>ENSG00000021776.11_6</td><td>AQR </td><td>0</td><td>-0.02484298</td><td>0.04367786</td><td>0.569655874</td><td> 0.7761448</td><td>0.01896424</td><td>4.447857e-204</td><td>ENST00000559767.1_2 </td></tr>\n",
       "\t<tr><th scope=row>7296221</th><td>ENSG00000165392.11_5</td><td>WRN </td><td>0</td><td> 0.26895872</td><td>0.09155295</td><td>0.003394549</td><td>-1.3214207</td><td>0.03331833</td><td>2.117626e-196</td><td>ENST00000298139.7_3 </td></tr>\n",
       "\t<tr><th scope=row>7334492</th><td>ENSG00000165392.11_5</td><td>WRN </td><td>1</td><td> 0.02362748</td><td>0.05871155</td><td>0.687465268</td><td>-1.3214207</td><td>0.03331833</td><td>2.117626e-196</td><td>ENST00000298139.7_3 </td></tr>\n",
       "\t<tr><th scope=row>1303564</th><td>ENSG00000065183.16_4</td><td>WDR3</td><td>0</td><td> 0.03334196</td><td>0.06077210</td><td>0.583395557</td><td>-1.3857772</td><td>0.03957107</td><td>1.104553e-167</td><td>ENST00000349139.6_2 </td></tr>\n",
       "\t<tr><th scope=row>498558</th><td>ENSG00000021776.11_6</td><td>AQR </td><td>0</td><td>-0.02747553</td><td>0.03871158</td><td>0.478052022</td><td>-0.5868621</td><td>0.01680972</td><td>5.251989e-167</td><td>ENST00000156471.10_3</td></tr>\n",
       "\t<tr><th scope=row>4337194</th><td>ENSG00000124571.18_7</td><td>XPO5</td><td>0</td><td>-0.01217756</td><td>0.03581265</td><td>0.733913108</td><td>-0.7151746</td><td>0.02060243</td><td>9.329657e-166</td><td>ENST00000265351.12_3</td></tr>\n",
       "</tbody>\n",
       "</table>\n"
      ],
      "text/latex": [
       "A data.frame: 6 × 10\n",
       "\\begin{tabular}{r|llllllllll}\n",
       "  & gene\\_id & gene\\_name & type & beta\\_gt & se\\_gt & pval\\_gt & beta\\_exp & se\\_exp & pval\\_exp & transcript\\_id\\_trans\\\\\n",
       "  & <chr> & <chr> & <int> & <dbl> & <dbl> & <dbl> & <dbl> & <dbl> & <dbl> & <chr>\\\\\n",
       "\\hline\n",
       "\t498561 & ENSG00000021776.11\\_6 & AQR  & 0 & -0.02484298 & 0.04367786 & 0.569655874 &  0.7761448 & 0.01896424 & 4.447857e-204 & ENST00000559767.1\\_2 \\\\\n",
       "\t7296221 & ENSG00000165392.11\\_5 & WRN  & 0 &  0.26895872 & 0.09155295 & 0.003394549 & -1.3214207 & 0.03331833 & 2.117626e-196 & ENST00000298139.7\\_3 \\\\\n",
       "\t7334492 & ENSG00000165392.11\\_5 & WRN  & 1 &  0.02362748 & 0.05871155 & 0.687465268 & -1.3214207 & 0.03331833 & 2.117626e-196 & ENST00000298139.7\\_3 \\\\\n",
       "\t1303564 & ENSG00000065183.16\\_4 & WDR3 & 0 &  0.03334196 & 0.06077210 & 0.583395557 & -1.3857772 & 0.03957107 & 1.104553e-167 & ENST00000349139.6\\_2 \\\\\n",
       "\t498558 & ENSG00000021776.11\\_6 & AQR  & 0 & -0.02747553 & 0.03871158 & 0.478052022 & -0.5868621 & 0.01680972 & 5.251989e-167 & ENST00000156471.10\\_3\\\\\n",
       "\t4337194 & ENSG00000124571.18\\_7 & XPO5 & 0 & -0.01217756 & 0.03581265 & 0.733913108 & -0.7151746 & 0.02060243 & 9.329657e-166 & ENST00000265351.12\\_3\\\\\n",
       "\\end{tabular}\n"
      ],
      "text/markdown": [
       "\n",
       "A data.frame: 6 × 10\n",
       "\n",
       "| <!--/--> | gene_id &lt;chr&gt; | gene_name &lt;chr&gt; | type &lt;int&gt; | beta_gt &lt;dbl&gt; | se_gt &lt;dbl&gt; | pval_gt &lt;dbl&gt; | beta_exp &lt;dbl&gt; | se_exp &lt;dbl&gt; | pval_exp &lt;dbl&gt; | transcript_id_trans &lt;chr&gt; |\n",
       "|---|---|---|---|---|---|---|---|---|---|---|\n",
       "| 498561 | ENSG00000021776.11_6 | AQR  | 0 | -0.02484298 | 0.04367786 | 0.569655874 |  0.7761448 | 0.01896424 | 4.447857e-204 | ENST00000559767.1_2  |\n",
       "| 7296221 | ENSG00000165392.11_5 | WRN  | 0 |  0.26895872 | 0.09155295 | 0.003394549 | -1.3214207 | 0.03331833 | 2.117626e-196 | ENST00000298139.7_3  |\n",
       "| 7334492 | ENSG00000165392.11_5 | WRN  | 1 |  0.02362748 | 0.05871155 | 0.687465268 | -1.3214207 | 0.03331833 | 2.117626e-196 | ENST00000298139.7_3  |\n",
       "| 1303564 | ENSG00000065183.16_4 | WDR3 | 0 |  0.03334196 | 0.06077210 | 0.583395557 | -1.3857772 | 0.03957107 | 1.104553e-167 | ENST00000349139.6_2  |\n",
       "| 498558 | ENSG00000021776.11_6 | AQR  | 0 | -0.02747553 | 0.03871158 | 0.478052022 | -0.5868621 | 0.01680972 | 5.251989e-167 | ENST00000156471.10_3 |\n",
       "| 4337194 | ENSG00000124571.18_7 | XPO5 | 0 | -0.01217756 | 0.03581265 | 0.733913108 | -0.7151746 | 0.02060243 | 9.329657e-166 | ENST00000265351.12_3 |\n",
       "\n"
      ],
      "text/plain": [
       "        gene_id              gene_name type beta_gt     se_gt      pval_gt    \n",
       "498561  ENSG00000021776.11_6 AQR       0    -0.02484298 0.04367786 0.569655874\n",
       "7296221 ENSG00000165392.11_5 WRN       0     0.26895872 0.09155295 0.003394549\n",
       "7334492 ENSG00000165392.11_5 WRN       1     0.02362748 0.05871155 0.687465268\n",
       "1303564 ENSG00000065183.16_4 WDR3      0     0.03334196 0.06077210 0.583395557\n",
       "498558  ENSG00000021776.11_6 AQR       0    -0.02747553 0.03871158 0.478052022\n",
       "4337194 ENSG00000124571.18_7 XPO5      0    -0.01217756 0.03581265 0.733913108\n",
       "        beta_exp   se_exp     pval_exp      transcript_id_trans \n",
       "498561   0.7761448 0.01896424 4.447857e-204 ENST00000559767.1_2 \n",
       "7296221 -1.3214207 0.03331833 2.117626e-196 ENST00000298139.7_3 \n",
       "7334492 -1.3214207 0.03331833 2.117626e-196 ENST00000298139.7_3 \n",
       "1303564 -1.3857772 0.03957107 1.104553e-167 ENST00000349139.6_2 \n",
       "498558  -0.5868621 0.01680972 5.251989e-167 ENST00000156471.10_3\n",
       "4337194 -0.7151746 0.02060243 9.329657e-166 ENST00000265351.12_3"
      ]
     },
     "metadata": {},
     "output_type": "display_data"
    }
   ],
   "source": [
    "head(trans[order(trans$pval_exp),])"
   ]
  },
  {
   "cell_type": "code",
   "execution_count": null,
   "metadata": {},
   "outputs": [],
   "source": []
  }
 ],
 "metadata": {
  "kernelspec": {
   "display_name": "R 4.0.1",
   "language": "R",
   "name": "ir401"
  },
  "language_info": {
   "codemirror_mode": "r",
   "file_extension": ".r",
   "mimetype": "text/x-r-source",
   "name": "R",
   "pygments_lexer": "r",
   "version": "4.0.1"
  }
 },
 "nbformat": 4,
 "nbformat_minor": 2
}
