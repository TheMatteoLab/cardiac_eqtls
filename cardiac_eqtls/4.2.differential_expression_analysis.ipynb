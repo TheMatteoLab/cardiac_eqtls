{
 "cells": [
  {
   "cell_type": "code",
   "execution_count": 1,
   "metadata": {},
   "outputs": [],
   "source": [
    "setwd(\"/frazer01/projects/CARDIPS/analysis/cardiac_eqtls\")\n",
    "\n",
    "source(\"script/packages.R\"  )\n",
    "source(\"script/input_data.R\")\n",
    "source(\"script/functions.R\" )\n"
   ]
  },
  {
   "cell_type": "markdown",
   "metadata": {},
   "source": [
    "# Analysis of differential expression results"
   ]
  },
  {
   "cell_type": "code",
   "execution_count": 2,
   "metadata": {},
   "outputs": [],
   "source": [
    "gene_info               = fread(\"pipeline/1.2.expression/gene_info.txt\"   , sep = \"\\t\", header = TRUE, data.table = FALSE)\n",
    "isof_info               = fread(\"pipeline/1.2.expression//isoform_info.txt\", sep = \"\\t\", header = TRUE, data.table = FALSE)\n",
    "gene_info$transcript_id = gene_info$gene_id"
   ]
  },
  {
   "cell_type": "code",
   "execution_count": 3,
   "metadata": {},
   "outputs": [
    {
     "name": "stderr",
     "output_type": "stream",
     "text": [
      "gene_tpm ipsc_cvpc heart 20393 15512\n",
      "\n",
      "isoform_tpm ipsc_cvpc heart 38271 26005\n",
      "\n",
      "isoform_use ipsc_cvpc heart 38271 21921\n",
      "\n",
      "gene_tpm ipsc_cvpc arteria 20393 16409\n",
      "\n",
      "isoform_tpm ipsc_cvpc arteria 38271 27777\n",
      "\n",
      "isoform_use ipsc_cvpc arteria 38271 23448\n",
      "\n",
      "gene_tpm heart arteria 20393 15402\n",
      "\n",
      "isoform_tpm heart arteria 38271 25598\n",
      "\n",
      "isoform_use heart arteria 38271 19246\n",
      "\n"
     ]
    }
   ],
   "source": [
    "read_diffexp = function(name, tissue1, tissue2, gene_info)\n",
    "{\n",
    "    indata               = add_rownames(fread(paste(\"pipeline/4.1.differential_expression\", paste(\"diffexp\", name, tissue1, tissue2, \"txt\", sep = \".\"), sep = \"/\"), sep = \"\\t\", header = TRUE, data.table = FALSE))\n",
    "    indata$transcript_id = rownames(indata)\n",
    "    indata               = indata[order(indata$pval),]\n",
    "    indata               = merge(gene_info[,c(\"transcript_id\", \"gene_id\", \"gene_name\", \"gene_type\")], indata)\n",
    "    indata$qval          = p.adjust(indata$pval, method = \"bonferroni\")\n",
    "    indata$tissue1       = tissue1\n",
    "    indata$tissue2       = tissue2\n",
    "    indata$type          = name\n",
    "    indata$diffexp       = FALSE\n",
    "    \n",
    "    indata[indata$qval < 0.05, \"diffexp\"] = TRUE\n",
    "    \n",
    "    message(paste(name, tissue1, tissue2, nrow(indata), nrow(indata[indata$qval < 0.05,])))\n",
    "    return(indata)\n",
    "}\n",
    "\n",
    "diffexp = as.data.frame(rbindlist(lapply(c(\"ipsc_cvpc\", \"heart\"), function(tissue1)\n",
    "{\n",
    "\tout = as.data.frame(rbindlist(lapply(c(\"heart\", \"arteria\"), function(tissue2)\n",
    "\t{\n",
    "\t\tif(tissue1 != tissue2)\n",
    "\t\t{\n",
    "\t\t\tindata_gene    = read_diffexp(\"gene_tpm\"   , tissue1, tissue2, gene_info)\n",
    "\t\t\tindata_iso_tpm = read_diffexp(\"isoform_tpm\", tissue1, tissue2, isof_info)\n",
    "\t\t\tindata_iso_use = read_diffexp(\"isoform_use\", tissue1, tissue2, isof_info)\n",
    "            \n",
    "            return(rbind(indata_gene, indata_iso_tpm, indata_iso_use))\n",
    "\t\t}\n",
    "\t})), stringsAsFactors = FALSE)\n",
    "    \n",
    "     return(out)\n",
    "})), stringsAsFactors = FALSE)\n",
    "\n",
    "#name    = \"gene_tpm\"\n",
    "#tissue1 = \"ipsc_cvpc\"\n",
    "#tissue2 = \"heart\"\n",
    "#head(read_diffexp(\"gene_tpm\"   , tissue1, tissue2, gene_info))\n",
    "#head(read_diffexp(\"isoform_use\", tissue1, tissue2))\n",
    "\n",
    "fwrite(diffexp, \"pipeline/4.1.differential_expression/diffexp.txt\", sep = \"\\t\", col.names = TRUE, row.names = FALSE)"
   ]
  },
  {
   "cell_type": "code",
   "execution_count": 4,
   "metadata": {},
   "outputs": [
    {
     "data": {
      "text/html": [
       "<table>\n",
       "<caption>A data.frame: 15 × 13</caption>\n",
       "<thead>\n",
       "\t<tr><th></th><th scope=col>transcript_id</th><th scope=col>gene_id</th><th scope=col>gene_name</th><th scope=col>gene_type</th><th scope=col>beta</th><th scope=col>se</th><th scope=col>tval</th><th scope=col>pval</th><th scope=col>qval</th><th scope=col>tissue1</th><th scope=col>tissue2</th><th scope=col>type</th><th scope=col>diffexp</th></tr>\n",
       "\t<tr><th></th><th scope=col>&lt;chr&gt;</th><th scope=col>&lt;chr&gt;</th><th scope=col>&lt;chr&gt;</th><th scope=col>&lt;chr&gt;</th><th scope=col>&lt;dbl&gt;</th><th scope=col>&lt;dbl&gt;</th><th scope=col>&lt;dbl&gt;</th><th scope=col>&lt;dbl&gt;</th><th scope=col>&lt;dbl&gt;</th><th scope=col>&lt;chr&gt;</th><th scope=col>&lt;chr&gt;</th><th scope=col>&lt;chr&gt;</th><th scope=col>&lt;lgl&gt;</th></tr>\n",
       "</thead>\n",
       "<tbody>\n",
       "\t<tr><th scope=row>33550</th><td>ENST00000413689.6_5 </td><td>ENSG00000183873.17_7</td><td>SCN5A </td><td>protein_coding</td><td> 1.1652335</td><td>0.07073120</td><td> 16.474110</td><td>1.027256e-50</td><td>3.931410e-46</td><td>ipsc_cvpc</td><td>heart</td><td>isoform_tpm</td><td> TRUE</td></tr>\n",
       "\t<tr><th scope=row>33456</th><td>ENST00000412633.3_3 </td><td>ENSG00000118194.20_8</td><td>TNNT2 </td><td>protein_coding</td><td> 1.2795052</td><td>0.07861034</td><td> 16.276552</td><td>9.799987e-50</td><td>3.750553e-45</td><td>ipsc_cvpc</td><td>heart</td><td>isoform_tpm</td><td> TRUE</td></tr>\n",
       "\t<tr><th scope=row>34283</th><td>ENST00000422165.6_3 </td><td>ENSG00000118194.20_8</td><td>TNNT2 </td><td>protein_coding</td><td> 1.1035073</td><td>0.07246897</td><td> 15.227308</td><td>1.297097e-44</td><td>4.964119e-40</td><td>ipsc_cvpc</td><td>heart</td><td>isoform_tpm</td><td> TRUE</td></tr>\n",
       "\t<tr><th scope=row>28237</th><td>ENST00000367318.10_5</td><td>ENSG00000118194.20_8</td><td>TNNT2 </td><td>protein_coding</td><td>-0.7297111</td><td>0.06770188</td><td>-10.778298</td><td>6.486667e-25</td><td>2.482512e-20</td><td>ipsc_cvpc</td><td>heart</td><td>isoform_tpm</td><td> TRUE</td></tr>\n",
       "\t<tr><th scope=row>25644</th><td>ENST00000333535.9_4 </td><td>ENSG00000183873.17_7</td><td>SCN5A </td><td>protein_coding</td><td>-1.0137763</td><td>0.09641594</td><td>-10.514613</td><td>7.063926e-24</td><td>2.703435e-19</td><td>ipsc_cvpc</td><td>heart</td><td>isoform_tpm</td><td> TRUE</td></tr>\n",
       "\t<tr><th scope=row>31312</th><td>ENST00000392952.7_2 </td><td>ENSG00000099204.20_8</td><td>ABLIM1</td><td>protein_coding</td><td>-0.6711208</td><td>0.07142927</td><td> -9.395600</td><td>1.123307e-19</td><td>4.299007e-15</td><td>ipsc_cvpc</td><td>heart</td><td>isoform_tpm</td><td> TRUE</td></tr>\n",
       "\t<tr><th scope=row>37631</th><td>ENST00000460472.6_4 </td><td>ENSG00000155657.27_6</td><td>TTN   </td><td>protein_coding</td><td>-0.6046035</td><td>0.06636338</td><td> -9.110499</td><td>1.165709e-18</td><td>4.461284e-14</td><td>ipsc_cvpc</td><td>heart</td><td>isoform_tpm</td><td> TRUE</td></tr>\n",
       "\t<tr><th scope=row>57569</th><td>ENST00000651023.1_2 </td><td>ENSG00000099204.20_8</td><td>ABLIM1</td><td>protein_coding</td><td> 0.6304452</td><td>0.08443210</td><td>  7.466890</td><td>2.850852e-13</td><td>1.091050e-08</td><td>ipsc_cvpc</td><td>heart</td><td>isoform_tpm</td><td> TRUE</td></tr>\n",
       "\t<tr><th scope=row>31314</th><td>ENST00000392955.7_4 </td><td>ENSG00000099204.20_8</td><td>ABLIM1</td><td>protein_coding</td><td> 0.6472399</td><td>0.08947357</td><td>  7.233867</td><td>1.414112e-12</td><td>5.411947e-08</td><td>ipsc_cvpc</td><td>heart</td><td>isoform_tpm</td><td> TRUE</td></tr>\n",
       "\t<tr><th scope=row>27829</th><td>ENST00000360870.9_4 </td><td>ENSG00000155657.27_6</td><td>TTN   </td><td>protein_coding</td><td>-0.4211161</td><td>0.07362295</td><td> -5.719903</td><td>1.670599e-08</td><td>6.393549e-04</td><td>ipsc_cvpc</td><td>heart</td><td>isoform_tpm</td><td> TRUE</td></tr>\n",
       "\t<tr><th scope=row>34409</th><td>ENST00000423572.7_4 </td><td>ENSG00000183873.17_7</td><td>SCN5A </td><td>protein_coding</td><td>-0.4278012</td><td>0.08621363</td><td> -4.962106</td><td>9.057073e-07</td><td>3.466232e-02</td><td>ipsc_cvpc</td><td>heart</td><td>isoform_tpm</td><td> TRUE</td></tr>\n",
       "\t<tr><th scope=row>26399</th><td>ENST00000342992.10_4</td><td>ENSG00000155657.27_6</td><td>TTN   </td><td>protein_coding</td><td>-0.3823794</td><td>0.08066009</td><td> -4.740627</td><td>2.654418e-06</td><td>1.015872e-01</td><td>ipsc_cvpc</td><td>heart</td><td>isoform_tpm</td><td>FALSE</td></tr>\n",
       "\t<tr><th scope=row>33590</th><td>ENST00000414099.6_3 </td><td>ENSG00000183873.17_7</td><td>SCN5A </td><td>protein_coding</td><td>-0.4060196</td><td>0.08890468</td><td> -4.566910</td><td>5.990374e-06</td><td>2.292576e-01</td><td>ipsc_cvpc</td><td>heart</td><td>isoform_tpm</td><td>FALSE</td></tr>\n",
       "\t<tr><th scope=row>39164</th><td>ENST00000470257.1_2 </td><td>ENSG00000155657.27_6</td><td>TTN   </td><td>protein_coding</td><td>-0.3273586</td><td>0.08252978</td><td> -3.966552</td><td>8.157866e-05</td><td>1.000000e+00</td><td>ipsc_cvpc</td><td>heart</td><td>isoform_tpm</td><td>FALSE</td></tr>\n",
       "\t<tr><th scope=row>36876</th><td>ENST00000451551.6_3 </td><td>ENSG00000183873.17_7</td><td>SCN5A </td><td>protein_coding</td><td>-0.2677966</td><td>0.11015722</td><td> -2.431040</td><td>1.534259e-02</td><td>1.000000e+00</td><td>ipsc_cvpc</td><td>heart</td><td>isoform_tpm</td><td>FALSE</td></tr>\n",
       "</tbody>\n",
       "</table>\n"
      ],
      "text/latex": [
       "A data.frame: 15 × 13\n",
       "\\begin{tabular}{r|lllllllllllll}\n",
       "  & transcript\\_id & gene\\_id & gene\\_name & gene\\_type & beta & se & tval & pval & qval & tissue1 & tissue2 & type & diffexp\\\\\n",
       "  & <chr> & <chr> & <chr> & <chr> & <dbl> & <dbl> & <dbl> & <dbl> & <dbl> & <chr> & <chr> & <chr> & <lgl>\\\\\n",
       "\\hline\n",
       "\t33550 & ENST00000413689.6\\_5  & ENSG00000183873.17\\_7 & SCN5A  & protein\\_coding &  1.1652335 & 0.07073120 &  16.474110 & 1.027256e-50 & 3.931410e-46 & ipsc\\_cvpc & heart & isoform\\_tpm &  TRUE\\\\\n",
       "\t33456 & ENST00000412633.3\\_3  & ENSG00000118194.20\\_8 & TNNT2  & protein\\_coding &  1.2795052 & 0.07861034 &  16.276552 & 9.799987e-50 & 3.750553e-45 & ipsc\\_cvpc & heart & isoform\\_tpm &  TRUE\\\\\n",
       "\t34283 & ENST00000422165.6\\_3  & ENSG00000118194.20\\_8 & TNNT2  & protein\\_coding &  1.1035073 & 0.07246897 &  15.227308 & 1.297097e-44 & 4.964119e-40 & ipsc\\_cvpc & heart & isoform\\_tpm &  TRUE\\\\\n",
       "\t28237 & ENST00000367318.10\\_5 & ENSG00000118194.20\\_8 & TNNT2  & protein\\_coding & -0.7297111 & 0.06770188 & -10.778298 & 6.486667e-25 & 2.482512e-20 & ipsc\\_cvpc & heart & isoform\\_tpm &  TRUE\\\\\n",
       "\t25644 & ENST00000333535.9\\_4  & ENSG00000183873.17\\_7 & SCN5A  & protein\\_coding & -1.0137763 & 0.09641594 & -10.514613 & 7.063926e-24 & 2.703435e-19 & ipsc\\_cvpc & heart & isoform\\_tpm &  TRUE\\\\\n",
       "\t31312 & ENST00000392952.7\\_2  & ENSG00000099204.20\\_8 & ABLIM1 & protein\\_coding & -0.6711208 & 0.07142927 &  -9.395600 & 1.123307e-19 & 4.299007e-15 & ipsc\\_cvpc & heart & isoform\\_tpm &  TRUE\\\\\n",
       "\t37631 & ENST00000460472.6\\_4  & ENSG00000155657.27\\_6 & TTN    & protein\\_coding & -0.6046035 & 0.06636338 &  -9.110499 & 1.165709e-18 & 4.461284e-14 & ipsc\\_cvpc & heart & isoform\\_tpm &  TRUE\\\\\n",
       "\t57569 & ENST00000651023.1\\_2  & ENSG00000099204.20\\_8 & ABLIM1 & protein\\_coding &  0.6304452 & 0.08443210 &   7.466890 & 2.850852e-13 & 1.091050e-08 & ipsc\\_cvpc & heart & isoform\\_tpm &  TRUE\\\\\n",
       "\t31314 & ENST00000392955.7\\_4  & ENSG00000099204.20\\_8 & ABLIM1 & protein\\_coding &  0.6472399 & 0.08947357 &   7.233867 & 1.414112e-12 & 5.411947e-08 & ipsc\\_cvpc & heart & isoform\\_tpm &  TRUE\\\\\n",
       "\t27829 & ENST00000360870.9\\_4  & ENSG00000155657.27\\_6 & TTN    & protein\\_coding & -0.4211161 & 0.07362295 &  -5.719903 & 1.670599e-08 & 6.393549e-04 & ipsc\\_cvpc & heart & isoform\\_tpm &  TRUE\\\\\n",
       "\t34409 & ENST00000423572.7\\_4  & ENSG00000183873.17\\_7 & SCN5A  & protein\\_coding & -0.4278012 & 0.08621363 &  -4.962106 & 9.057073e-07 & 3.466232e-02 & ipsc\\_cvpc & heart & isoform\\_tpm &  TRUE\\\\\n",
       "\t26399 & ENST00000342992.10\\_4 & ENSG00000155657.27\\_6 & TTN    & protein\\_coding & -0.3823794 & 0.08066009 &  -4.740627 & 2.654418e-06 & 1.015872e-01 & ipsc\\_cvpc & heart & isoform\\_tpm & FALSE\\\\\n",
       "\t33590 & ENST00000414099.6\\_3  & ENSG00000183873.17\\_7 & SCN5A  & protein\\_coding & -0.4060196 & 0.08890468 &  -4.566910 & 5.990374e-06 & 2.292576e-01 & ipsc\\_cvpc & heart & isoform\\_tpm & FALSE\\\\\n",
       "\t39164 & ENST00000470257.1\\_2  & ENSG00000155657.27\\_6 & TTN    & protein\\_coding & -0.3273586 & 0.08252978 &  -3.966552 & 8.157866e-05 & 1.000000e+00 & ipsc\\_cvpc & heart & isoform\\_tpm & FALSE\\\\\n",
       "\t36876 & ENST00000451551.6\\_3  & ENSG00000183873.17\\_7 & SCN5A  & protein\\_coding & -0.2677966 & 0.11015722 &  -2.431040 & 1.534259e-02 & 1.000000e+00 & ipsc\\_cvpc & heart & isoform\\_tpm & FALSE\\\\\n",
       "\\end{tabular}\n"
      ],
      "text/markdown": [
       "\n",
       "A data.frame: 15 × 13\n",
       "\n",
       "| <!--/--> | transcript_id &lt;chr&gt; | gene_id &lt;chr&gt; | gene_name &lt;chr&gt; | gene_type &lt;chr&gt; | beta &lt;dbl&gt; | se &lt;dbl&gt; | tval &lt;dbl&gt; | pval &lt;dbl&gt; | qval &lt;dbl&gt; | tissue1 &lt;chr&gt; | tissue2 &lt;chr&gt; | type &lt;chr&gt; | diffexp &lt;lgl&gt; |\n",
       "|---|---|---|---|---|---|---|---|---|---|---|---|---|---|\n",
       "| 33550 | ENST00000413689.6_5  | ENSG00000183873.17_7 | SCN5A  | protein_coding |  1.1652335 | 0.07073120 |  16.474110 | 1.027256e-50 | 3.931410e-46 | ipsc_cvpc | heart | isoform_tpm |  TRUE |\n",
       "| 33456 | ENST00000412633.3_3  | ENSG00000118194.20_8 | TNNT2  | protein_coding |  1.2795052 | 0.07861034 |  16.276552 | 9.799987e-50 | 3.750553e-45 | ipsc_cvpc | heart | isoform_tpm |  TRUE |\n",
       "| 34283 | ENST00000422165.6_3  | ENSG00000118194.20_8 | TNNT2  | protein_coding |  1.1035073 | 0.07246897 |  15.227308 | 1.297097e-44 | 4.964119e-40 | ipsc_cvpc | heart | isoform_tpm |  TRUE |\n",
       "| 28237 | ENST00000367318.10_5 | ENSG00000118194.20_8 | TNNT2  | protein_coding | -0.7297111 | 0.06770188 | -10.778298 | 6.486667e-25 | 2.482512e-20 | ipsc_cvpc | heart | isoform_tpm |  TRUE |\n",
       "| 25644 | ENST00000333535.9_4  | ENSG00000183873.17_7 | SCN5A  | protein_coding | -1.0137763 | 0.09641594 | -10.514613 | 7.063926e-24 | 2.703435e-19 | ipsc_cvpc | heart | isoform_tpm |  TRUE |\n",
       "| 31312 | ENST00000392952.7_2  | ENSG00000099204.20_8 | ABLIM1 | protein_coding | -0.6711208 | 0.07142927 |  -9.395600 | 1.123307e-19 | 4.299007e-15 | ipsc_cvpc | heart | isoform_tpm |  TRUE |\n",
       "| 37631 | ENST00000460472.6_4  | ENSG00000155657.27_6 | TTN    | protein_coding | -0.6046035 | 0.06636338 |  -9.110499 | 1.165709e-18 | 4.461284e-14 | ipsc_cvpc | heart | isoform_tpm |  TRUE |\n",
       "| 57569 | ENST00000651023.1_2  | ENSG00000099204.20_8 | ABLIM1 | protein_coding |  0.6304452 | 0.08443210 |   7.466890 | 2.850852e-13 | 1.091050e-08 | ipsc_cvpc | heart | isoform_tpm |  TRUE |\n",
       "| 31314 | ENST00000392955.7_4  | ENSG00000099204.20_8 | ABLIM1 | protein_coding |  0.6472399 | 0.08947357 |   7.233867 | 1.414112e-12 | 5.411947e-08 | ipsc_cvpc | heart | isoform_tpm |  TRUE |\n",
       "| 27829 | ENST00000360870.9_4  | ENSG00000155657.27_6 | TTN    | protein_coding | -0.4211161 | 0.07362295 |  -5.719903 | 1.670599e-08 | 6.393549e-04 | ipsc_cvpc | heart | isoform_tpm |  TRUE |\n",
       "| 34409 | ENST00000423572.7_4  | ENSG00000183873.17_7 | SCN5A  | protein_coding | -0.4278012 | 0.08621363 |  -4.962106 | 9.057073e-07 | 3.466232e-02 | ipsc_cvpc | heart | isoform_tpm |  TRUE |\n",
       "| 26399 | ENST00000342992.10_4 | ENSG00000155657.27_6 | TTN    | protein_coding | -0.3823794 | 0.08066009 |  -4.740627 | 2.654418e-06 | 1.015872e-01 | ipsc_cvpc | heart | isoform_tpm | FALSE |\n",
       "| 33590 | ENST00000414099.6_3  | ENSG00000183873.17_7 | SCN5A  | protein_coding | -0.4060196 | 0.08890468 |  -4.566910 | 5.990374e-06 | 2.292576e-01 | ipsc_cvpc | heart | isoform_tpm | FALSE |\n",
       "| 39164 | ENST00000470257.1_2  | ENSG00000155657.27_6 | TTN    | protein_coding | -0.3273586 | 0.08252978 |  -3.966552 | 8.157866e-05 | 1.000000e+00 | ipsc_cvpc | heart | isoform_tpm | FALSE |\n",
       "| 36876 | ENST00000451551.6_3  | ENSG00000183873.17_7 | SCN5A  | protein_coding | -0.2677966 | 0.11015722 |  -2.431040 | 1.534259e-02 | 1.000000e+00 | ipsc_cvpc | heart | isoform_tpm | FALSE |\n",
       "\n"
      ],
      "text/plain": [
       "      transcript_id        gene_id              gene_name gene_type     \n",
       "33550 ENST00000413689.6_5  ENSG00000183873.17_7 SCN5A     protein_coding\n",
       "33456 ENST00000412633.3_3  ENSG00000118194.20_8 TNNT2     protein_coding\n",
       "34283 ENST00000422165.6_3  ENSG00000118194.20_8 TNNT2     protein_coding\n",
       "28237 ENST00000367318.10_5 ENSG00000118194.20_8 TNNT2     protein_coding\n",
       "25644 ENST00000333535.9_4  ENSG00000183873.17_7 SCN5A     protein_coding\n",
       "31312 ENST00000392952.7_2  ENSG00000099204.20_8 ABLIM1    protein_coding\n",
       "37631 ENST00000460472.6_4  ENSG00000155657.27_6 TTN       protein_coding\n",
       "57569 ENST00000651023.1_2  ENSG00000099204.20_8 ABLIM1    protein_coding\n",
       "31314 ENST00000392955.7_4  ENSG00000099204.20_8 ABLIM1    protein_coding\n",
       "27829 ENST00000360870.9_4  ENSG00000155657.27_6 TTN       protein_coding\n",
       "34409 ENST00000423572.7_4  ENSG00000183873.17_7 SCN5A     protein_coding\n",
       "26399 ENST00000342992.10_4 ENSG00000155657.27_6 TTN       protein_coding\n",
       "33590 ENST00000414099.6_3  ENSG00000183873.17_7 SCN5A     protein_coding\n",
       "39164 ENST00000470257.1_2  ENSG00000155657.27_6 TTN       protein_coding\n",
       "36876 ENST00000451551.6_3  ENSG00000183873.17_7 SCN5A     protein_coding\n",
       "      beta       se         tval       pval         qval         tissue1  \n",
       "33550  1.1652335 0.07073120  16.474110 1.027256e-50 3.931410e-46 ipsc_cvpc\n",
       "33456  1.2795052 0.07861034  16.276552 9.799987e-50 3.750553e-45 ipsc_cvpc\n",
       "34283  1.1035073 0.07246897  15.227308 1.297097e-44 4.964119e-40 ipsc_cvpc\n",
       "28237 -0.7297111 0.06770188 -10.778298 6.486667e-25 2.482512e-20 ipsc_cvpc\n",
       "25644 -1.0137763 0.09641594 -10.514613 7.063926e-24 2.703435e-19 ipsc_cvpc\n",
       "31312 -0.6711208 0.07142927  -9.395600 1.123307e-19 4.299007e-15 ipsc_cvpc\n",
       "37631 -0.6046035 0.06636338  -9.110499 1.165709e-18 4.461284e-14 ipsc_cvpc\n",
       "57569  0.6304452 0.08443210   7.466890 2.850852e-13 1.091050e-08 ipsc_cvpc\n",
       "31314  0.6472399 0.08947357   7.233867 1.414112e-12 5.411947e-08 ipsc_cvpc\n",
       "27829 -0.4211161 0.07362295  -5.719903 1.670599e-08 6.393549e-04 ipsc_cvpc\n",
       "34409 -0.4278012 0.08621363  -4.962106 9.057073e-07 3.466232e-02 ipsc_cvpc\n",
       "26399 -0.3823794 0.08066009  -4.740627 2.654418e-06 1.015872e-01 ipsc_cvpc\n",
       "33590 -0.4060196 0.08890468  -4.566910 5.990374e-06 2.292576e-01 ipsc_cvpc\n",
       "39164 -0.3273586 0.08252978  -3.966552 8.157866e-05 1.000000e+00 ipsc_cvpc\n",
       "36876 -0.2677966 0.11015722  -2.431040 1.534259e-02 1.000000e+00 ipsc_cvpc\n",
       "      tissue2 type        diffexp\n",
       "33550 heart   isoform_tpm  TRUE  \n",
       "33456 heart   isoform_tpm  TRUE  \n",
       "34283 heart   isoform_tpm  TRUE  \n",
       "28237 heart   isoform_tpm  TRUE  \n",
       "25644 heart   isoform_tpm  TRUE  \n",
       "31312 heart   isoform_tpm  TRUE  \n",
       "37631 heart   isoform_tpm  TRUE  \n",
       "57569 heart   isoform_tpm  TRUE  \n",
       "31314 heart   isoform_tpm  TRUE  \n",
       "27829 heart   isoform_tpm  TRUE  \n",
       "34409 heart   isoform_tpm  TRUE  \n",
       "26399 heart   isoform_tpm FALSE  \n",
       "33590 heart   isoform_tpm FALSE  \n",
       "39164 heart   isoform_tpm FALSE  \n",
       "36876 heart   isoform_tpm FALSE  "
      ]
     },
     "metadata": {},
     "output_type": "display_data"
    }
   ],
   "source": [
    "a = diffexp[diffexp$tissue1 == \"ipsc_cvpc\" & diffexp$tissue2 == \"heart\" & diffexp$type == \"isoform_tpm\" & diffexp$gene_name %in% c(\"SCN5A\", \"TNNT2\", \"TTN\", \"ABLIM1\"),]\n",
    "a[order(a$pval),]"
   ]
  },
  {
   "cell_type": "code",
   "execution_count": 5,
   "metadata": {},
   "outputs": [
    {
     "name": "stdout",
     "output_type": "stream",
     "text": [
      "'data.frame':\t290805 obs. of  13 variables:\n",
      " $ transcript_id: chr  \"ENSG00000000003.15_5\" \"ENSG00000000005.6_4\" \"ENSG00000000419.12_6\" \"ENSG00000000457.14_7\" ...\n",
      " $ gene_id      : chr  \"ENSG00000000003.15_5\" \"ENSG00000000005.6_4\" \"ENSG00000000419.12_6\" \"ENSG00000000457.14_7\" ...\n",
      " $ gene_name    : chr  \"TSPAN6\" \"TNMD\" \"DPM1\" \"SCYL3\" ...\n",
      " $ gene_type    : chr  \"protein_coding\" \"protein_coding\" \"protein_coding\" \"protein_coding\" ...\n",
      " $ beta         : num  1.935 1.461 0.535 1.98 1.987 ...\n",
      " $ se           : num  0.0914 0.0904 0.121 0.1028 0.0952 ...\n",
      " $ tval         : num  21.17 16.16 4.42 19.26 20.87 ...\n",
      " $ pval         : num  5.25e-75 3.55e-49 1.19e-05 5.98e-65 2.13e-73 ...\n",
      " $ qval         : num  1.07e-70 7.25e-45 2.43e-01 1.22e-60 4.34e-69 ...\n",
      " $ tissue1      : chr  \"ipsc_cvpc\" \"ipsc_cvpc\" \"ipsc_cvpc\" \"ipsc_cvpc\" ...\n",
      " $ tissue2      : chr  \"heart\" \"heart\" \"heart\" \"heart\" ...\n",
      " $ type         : chr  \"gene_tpm\" \"gene_tpm\" \"gene_tpm\" \"gene_tpm\" ...\n",
      " $ diffexp      : logi  TRUE TRUE FALSE TRUE TRUE TRUE ...\n"
     ]
    }
   ],
   "source": [
    "str(diffexp)"
   ]
  },
  {
   "cell_type": "markdown",
   "metadata": {},
   "source": [
    "# Add filters for expression levels"
   ]
  },
  {
   "cell_type": "code",
   "execution_count": 6,
   "metadata": {},
   "outputs": [],
   "source": [
    "metadata              =              fread(\"pipeline/3.1.covariates/metadata.txt\"              , sep = \"\\t\", header = TRUE , data.table = FALSE)\n",
    "covariates            = add_rownames(fread(\"pipeline/3.1.covariates/covariates.txt\"            , sep = \"\\t\", header = TRUE , data.table = FALSE))\n",
    "gene_tpm_expressed    = add_rownames(fread(\"pipeline/1.2.expression/tpm_gene.expressed.txt\"    , sep = \"\\t\", header = TRUE , data.table = FALSE))\n",
    "isof_tpm_expressed    = add_rownames(fread(\"pipeline/1.2.expression/tpm_isoform.expressed.txt\" , sep = \"\\t\", header = TRUE , data.table = FALSE))\n",
    "isof_use_expressed    = add_rownames(fread(\"pipeline/1.2.expression/use_isoform.expressed.txt\" , sep = \"\\t\", header = TRUE , data.table = FALSE))\n",
    "gene_tpm_normalized   = add_rownames(fread(\"pipeline/1.2.expression/tpm_gene.normalized.txt\"   , sep = \"\\t\", header = TRUE , data.table = FALSE))\n",
    "isof_tpm_normalized   = add_rownames(fread(\"pipeline/1.2.expression/tpm_isoform.normalized.txt\", sep = \"\\t\", header = TRUE , data.table = FALSE))\n",
    "isof_use_normalized   = add_rownames(fread(\"pipeline/1.2.expression/use_isoform.normalized.txt\", sep = \"\\t\", header = TRUE , data.table = FALSE))\n"
   ]
  },
  {
   "cell_type": "code",
   "execution_count": 7,
   "metadata": {},
   "outputs": [
    {
     "name": "stderr",
     "output_type": "stream",
     "text": [
      "gene_tpm ipsc_cvpc heart 20393 15512 6672\n",
      "\n",
      "isoform_tpm ipsc_cvpc heart 38271 26005 13038\n",
      "\n",
      "isoform_use ipsc_cvpc heart 38271 21921 5459\n",
      "\n",
      "gene_tpm ipsc_cvpc arteria 20393 16409 5990\n",
      "\n",
      "isoform_tpm ipsc_cvpc arteria 38271 27777 12255\n",
      "\n",
      "isoform_use ipsc_cvpc arteria 38271 23448 5738\n",
      "\n",
      "gene_tpm heart arteria 20393 15402 3461\n",
      "\n",
      "isoform_tpm heart arteria 38271 25598 6677\n",
      "\n",
      "isoform_use heart arteria 38271 19246 1140\n",
      "\n"
     ]
    }
   ],
   "source": [
    "add_diffexp = function(diffexp, name, tissue1, tissue2, gene_info, covariates, tpm)\n",
    "{\n",
    "    indata               = diffexp[diffexp$type == name & diffexp$tissue1 == tissue1 & diffexp$tissue2 == tissue2,]\n",
    "    tpm1                 = tpm[indata$transcript_id,rownames(covariates[covariates[,tissue1] == 1,])]\n",
    "    tpm2                 = tpm[indata$transcript_id,rownames(covariates[covariates[,tissue2] == 1,])]\n",
    "    expdata              = data.frame(transcript_id = indata$transcript_id, tissue1_exp = rowMeans(tpm1[indata$transcript_id,]), tissue2_exp = rowMeans(tpm2[indata$transcript_id,]))\n",
    "    expdata$delta        = expdata$tissue1_exp - expdata$tissue2_exp\n",
    "    \n",
    "    #if(name == \"isoform_use\")\n",
    "    #{\n",
    "        expdata$log2r        = log2(expdata$tissue1_exp / expdata$tissue2_exp)\n",
    "        expdata$log2r_filter = FALSE\n",
    "\n",
    "        expdata[is.na(expdata$log2r) == FALSE & abs(expdata$log2r) > 2, \"log2r_filter\"] = TRUE\n",
    "    #}else\n",
    "    #{\n",
    "    #    expdata$log2r        = 0\n",
    "    #    expdata$log2r_filter = FALSE\n",
    "    #}\n",
    "    \n",
    "    outdata = merge(indata, expdata)\n",
    "   \n",
    "    message(paste(name, tissue1, tissue2, nrow(outdata), nrow(outdata[outdata$diffexp == TRUE,]), nrow(outdata[outdata$diffexp == TRUE & outdata$log2r_filter == TRUE,])))\n",
    "    return(outdata)\n",
    "}\n",
    "\n",
    "diffexp_add = as.data.frame(rbindlist(lapply(c(\"ipsc_cvpc\", \"heart\"), function(tissue1)\n",
    "{\n",
    "\tout = as.data.frame(rbindlist(lapply(c(\"heart\", \"arteria\"), function(tissue2)\n",
    "\t{\n",
    "\t\tif(tissue1 != tissue2)\n",
    "\t\t{\n",
    "\t\t\tindata_gene    = add_diffexp(diffexp, \"gene_tpm\"   , tissue1, tissue2, gene_info, covariates, gene_tpm_expressed)\n",
    "\t\t\tindata_iso_tpm = add_diffexp(diffexp, \"isoform_tpm\", tissue1, tissue2, isof_info, covariates, isof_tpm_expressed)\n",
    "\t\t\tindata_iso_use = add_diffexp(diffexp, \"isoform_use\", tissue1, tissue2, isof_info, covariates, isof_use_expressed)\n",
    "            \n",
    "            return(rbind(indata_gene, indata_iso_tpm, indata_iso_use))\n",
    "\t\t}\n",
    "\t})), stringsAsFactors = FALSE)\n",
    "    \n",
    "     return(out)\n",
    "})), stringsAsFactors = FALSE)\n",
    "\n",
    "#name    = \"gene_tpm\"\n",
    "#tissue1 = \"heart\"\n",
    "#tissue2 = \"arteria\"\n",
    "#\n",
    "#head(read_diffexp(\"gene_tpm\"   , tissue1, tissue2, gene_info))\n",
    "\n",
    "fwrite(diffexp_add, \"pipeline/4.1.differential_expression/diffexp.txt\", sep = \"\\t\", col.names = TRUE, row.names = FALSE)"
   ]
  },
  {
   "cell_type": "code",
   "execution_count": 8,
   "metadata": {},
   "outputs": [
    {
     "name": "stdout",
     "output_type": "stream",
     "text": [
      "'data.frame':\t290805 obs. of  18 variables:\n",
      " $ transcript_id: chr  \"ENSG00000000003.15_5\" \"ENSG00000000005.6_4\" \"ENSG00000000419.12_6\" \"ENSG00000000457.14_7\" ...\n",
      " $ gene_id      : chr  \"ENSG00000000003.15_5\" \"ENSG00000000005.6_4\" \"ENSG00000000419.12_6\" \"ENSG00000000457.14_7\" ...\n",
      " $ gene_name    : chr  \"TSPAN6\" \"TNMD\" \"DPM1\" \"SCYL3\" ...\n",
      " $ gene_type    : chr  \"protein_coding\" \"protein_coding\" \"protein_coding\" \"protein_coding\" ...\n",
      " $ beta         : num  1.935 1.461 0.535 1.98 1.987 ...\n",
      " $ se           : num  0.0914 0.0904 0.121 0.1028 0.0952 ...\n",
      " $ tval         : num  21.17 16.16 4.42 19.26 20.87 ...\n",
      " $ pval         : num  5.25e-75 3.55e-49 1.19e-05 5.98e-65 2.13e-73 ...\n",
      " $ qval         : num  1.07e-70 7.25e-45 2.43e-01 1.22e-60 4.34e-69 ...\n",
      " $ tissue1      : chr  \"ipsc_cvpc\" \"ipsc_cvpc\" \"ipsc_cvpc\" \"ipsc_cvpc\" ...\n",
      " $ tissue2      : chr  \"heart\" \"heart\" \"heart\" \"heart\" ...\n",
      " $ type         : chr  \"gene_tpm\" \"gene_tpm\" \"gene_tpm\" \"gene_tpm\" ...\n",
      " $ diffexp      : logi  TRUE TRUE FALSE TRUE TRUE TRUE ...\n",
      " $ tissue1_exp  : num  37.32 3.63 41.74 5.07 3.13 ...\n",
      " $ tissue2_exp  : num  2.74 0.22 19.02 1.94 1.03 ...\n",
      " $ delta        : num  34.58 3.41 22.73 3.13 2.1 ...\n",
      " $ log2r        : num  3.77 4.04 1.13 1.39 1.61 ...\n",
      " $ log2r_filter : logi  TRUE TRUE FALSE FALSE FALSE TRUE ...\n"
     ]
    }
   ],
   "source": [
    "str(diffexp_add)"
   ]
  },
  {
   "cell_type": "code",
   "execution_count": null,
   "metadata": {},
   "outputs": [],
   "source": []
  }
 ],
 "metadata": {
  "kernelspec": {
   "display_name": "R 4.0.1",
   "language": "R",
   "name": "ir401"
  },
  "language_info": {
   "codemirror_mode": "r",
   "file_extension": ".r",
   "mimetype": "text/x-r-source",
   "name": "R",
   "pygments_lexer": "r",
   "version": "4.0.1"
  }
 },
 "nbformat": 4,
 "nbformat_minor": 2
}
