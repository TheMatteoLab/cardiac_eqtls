{
 "cells": [
  {
   "cell_type": "code",
   "execution_count": 1,
   "metadata": {},
   "outputs": [],
   "source": [
    "setwd(\"/frazer01/home/matteo/ipsc_rna_chris\")\n",
    "\n",
    "source(\"/frazer01/projects/CARDIPS/analysis/cardiac_eqtls/script/packages.R\"  )\n",
    "source(\"/frazer01/projects/CARDIPS/analysis/cardiac_eqtls/script/input_data.R\")\n",
    "source(\"/frazer01/projects/CARDIPS/analysis/cardiac_eqtls/script/functions.R\" )\n",
    "\n"
   ]
  },
  {
   "cell_type": "code",
   "execution_count": 5,
   "metadata": {},
   "outputs": [],
   "source": [
    "metadata =              fread(\"3a_SampleAttributes_DS_phs000924.v2.p1_V8.txt\"                       , sep = \"\\t\", header = TRUE, data.table = FALSE)\n",
    "counts   = add_rownames(fread(\"/frazer01/projects/CARDIPS/pipeline/RNA-Seq/combined/gene_counts.txt\", sep = \"\\t\", header = TRUE, data.table = FALSE))\n",
    "ids      = metadata[metadata$SUBSTUDY_IPSC_EQTL == 1, \"SAMPLE_ID\"]"
   ]
  },
  {
   "cell_type": "code",
   "execution_count": 6,
   "metadata": {},
   "outputs": [
    {
     "data": {
      "text/html": [
       "<style>\n",
       ".list-inline {list-style: none; margin:0; padding: 0}\n",
       ".list-inline>li {display: inline-block}\n",
       ".list-inline>li:not(:last-child)::after {content: \"\\00b7\"; padding: 0 .5ex}\n",
       "</style>\n",
       "<ol class=list-inline><li>'2433edfc-9dc1-432b-8267-2319f218cf18'</li><li>'fdd0575a-4d53-4d02-968c-9c87adc198aa'</li><li>'32764cbc-41a2-4b30-9936-329672caf807'</li><li>'7e43459d-f07f-49d3-a157-c527dda007e7'</li><li>'2baa401f-b182-43bb-8669-4a4fe69eacce'</li></ol>\n"
      ],
      "text/latex": [
       "\\begin{enumerate*}\n",
       "\\item '2433edfc-9dc1-432b-8267-2319f218cf18'\n",
       "\\item 'fdd0575a-4d53-4d02-968c-9c87adc198aa'\n",
       "\\item '32764cbc-41a2-4b30-9936-329672caf807'\n",
       "\\item '7e43459d-f07f-49d3-a157-c527dda007e7'\n",
       "\\item '2baa401f-b182-43bb-8669-4a4fe69eacce'\n",
       "\\end{enumerate*}\n"
      ],
      "text/markdown": [
       "1. '2433edfc-9dc1-432b-8267-2319f218cf18'\n",
       "2. 'fdd0575a-4d53-4d02-968c-9c87adc198aa'\n",
       "3. '32764cbc-41a2-4b30-9936-329672caf807'\n",
       "4. '7e43459d-f07f-49d3-a157-c527dda007e7'\n",
       "5. '2baa401f-b182-43bb-8669-4a4fe69eacce'\n",
       "\n",
       "\n"
      ],
      "text/plain": [
       "[1] \"2433edfc-9dc1-432b-8267-2319f218cf18\"\n",
       "[2] \"fdd0575a-4d53-4d02-968c-9c87adc198aa\"\n",
       "[3] \"32764cbc-41a2-4b30-9936-329672caf807\"\n",
       "[4] \"7e43459d-f07f-49d3-a157-c527dda007e7\"\n",
       "[5] \"2baa401f-b182-43bb-8669-4a4fe69eacce\""
      ]
     },
     "metadata": {},
     "output_type": "display_data"
    }
   ],
   "source": [
    "setdiff(ids, colnames(counts))\n",
    "\n"
   ]
  },
  {
   "cell_type": "code",
   "execution_count": 7,
   "metadata": {},
   "outputs": [
    {
     "name": "stdout",
     "output_type": "stream",
     "text": [
      " chr [1:220] \"2683848c-3d50-4732-9308-c6535e9fd880\" ...\n"
     ]
    }
   ],
   "source": [
    "str(ids)"
   ]
  },
  {
   "cell_type": "code",
   "execution_count": 8,
   "metadata": {},
   "outputs": [],
   "source": [
    "counts = counts[,intersect(ids, colnames(counts))]\n",
    "\n",
    "fwrite(counts, \"ipsc_counts.txt\", sep = \"\\t\", col.names = TRUE, row.names = TRUE)"
   ]
  },
  {
   "cell_type": "code",
   "execution_count": 9,
   "metadata": {},
   "outputs": [
    {
     "data": {
      "text/html": [
       "<style>\n",
       ".list-inline {list-style: none; margin:0; padding: 0}\n",
       ".list-inline>li {display: inline-block}\n",
       ".list-inline>li:not(:last-child)::after {content: \"\\00b7\"; padding: 0 .5ex}\n",
       "</style>\n",
       "<ol class=list-inline><li>62492</li><li>215</li></ol>\n"
      ],
      "text/latex": [
       "\\begin{enumerate*}\n",
       "\\item 62492\n",
       "\\item 215\n",
       "\\end{enumerate*}\n"
      ],
      "text/markdown": [
       "1. 62492\n",
       "2. 215\n",
       "\n",
       "\n"
      ],
      "text/plain": [
       "[1] 62492   215"
      ]
     },
     "metadata": {},
     "output_type": "display_data"
    }
   ],
   "source": [
    "dim(counts)"
   ]
  },
  {
   "cell_type": "code",
   "execution_count": null,
   "metadata": {},
   "outputs": [],
   "source": []
  }
 ],
 "metadata": {
  "kernelspec": {
   "display_name": "R 4.0.1",
   "language": "R",
   "name": "ir401"
  },
  "language_info": {
   "codemirror_mode": "r",
   "file_extension": ".r",
   "mimetype": "text/x-r-source",
   "name": "R",
   "pygments_lexer": "r",
   "version": "4.0.1"
  }
 },
 "nbformat": 4,
 "nbformat_minor": 2
}
