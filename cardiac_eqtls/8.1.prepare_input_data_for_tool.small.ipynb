{
 "cells": [
  {
   "cell_type": "code",
   "execution_count": 1,
   "metadata": {},
   "outputs": [],
   "source": [
    "setwd(\"/frazer01/projects/CARDIPS/analysis/cardiac_eqtls\")\n",
    "\n",
    "source(\"script/packages.R\"  )\n",
    "#source(\"script/input_data.R\")\n",
    "#source(\"script/functions.R\" )\n",
    "source(\"script/colors.R\"    )\n"
   ]
  },
  {
   "cell_type": "code",
   "execution_count": 2,
   "metadata": {},
   "outputs": [],
   "source": [
    "dir.create(\"pipeline/8.1.tool\"           , showWarnings = FALSE)\n",
    "dir.create(\"pipeline/8.1.tool/input_data\", showWarnings = FALSE)\n",
    "dir.create(\"pipeline/8.1.tool/tool\"      , showWarnings = FALSE)\n"
   ]
  },
  {
   "cell_type": "markdown",
   "metadata": {},
   "source": [
    "# Functions"
   ]
  },
  {
   "cell_type": "code",
   "execution_count": 5,
   "metadata": {},
   "outputs": [],
   "source": [
    "add_rownames = function(x) # add rownames to fread\n",
    "{\n",
    "\trownames(x) = x[,1]\n",
    "\tx[,1]       = NULL\n",
    "\treturn(x)\n",
    "}\n"
   ]
  },
  {
   "cell_type": "markdown",
   "metadata": {},
   "source": [
    "# Input data"
   ]
  },
  {
   "cell_type": "code",
   "execution_count": 8,
   "metadata": {},
   "outputs": [],
   "source": [
    "geneinfo_gene       = fread(\"pipeline/1.2.expression/gene_info.txt\"                          , sep = \"\\t\", header = TRUE , data.table = FALSE)\n",
    "geneinfo_isoform    = fread(\"pipeline/1.2.expression/isoform_info.txt\"                       , sep = \"\\t\", header = TRUE , data.table = FALSE)\n",
    "diffexp             = fread(\"pipeline/4.1.differential_expression/diffexp.txt\"               , sep = \"\\t\", header = TRUE , data.table = FALSE)\n",
    "diffexp_cell        = fread(\"pipeline/4.1.differential_expression/diffexp_cell.txt\"          , sep = \"\\t\", header = TRUE , data.table = FALSE)\n",
    "diffexp_cell_tissue = fread(\"pipeline/4.1.differential_expression/diffexp_cell_tissue.txt\"   , sep = \"\\t\", header = TRUE , data.table = FALSE)\n",
    "eqtl_genes          = fread(\"pipeline/3.2.eqtls/eqtls/cardiac_eqtls.gene.egenes.txt\"         , sep = \"\\t\", header = TRUE , data.table = FALSE)\n",
    "eqtl_isoforms       = fread(\"pipeline/3.2.eqtls/eqtls/cardiac_eqtls.isoform.egenes.txt\"      , sep = \"\\t\", header = TRUE , data.table = FALSE)\n",
    "int_genes           = fread(\"pipeline/3.2.eqtls/eqtls/cardiac_eqtls.gene.interactions.txt\"   , sep = \"\\t\", header = TRUE , data.table = FALSE)\n",
    "int_isoforms        = fread(\"pipeline/3.2.eqtls/eqtls/cardiac_eqtls.isoform.interactions.txt\", sep = \"\\t\", header = TRUE , data.table = FALSE)\n",
    "coloc               = fread(\"pipeline/3.2.eqtls/eqtl_overlap/cardiac_eqtls.coloc_by_gene.txt\", sep = \"\\t\", header = TRUE, data.table = FALSE)\n",
    "diffexp_quadrant    = fread(\"/frazer01/home/jennifer/projects/cardiac_eqtls/diffexp/results/summary.cell_stage_associations.txt\", sep = \"\\t\", header = TRUE , data.table = FALSE)\n",
    "manifest            = fread(\"pipeline/6.1.coloc_gwas/traits.manifest.txt\"                    , sep = \"\\t\", header = TRUE, data.table = FALSE)\n",
    "coloc               = merge(coloc, geneinfo_isoform[,c(\"transcript_id\", \"gene_id\", \"gene_name\", \"gene_type\")], by.x = \"transcript_id1\", by.y = \"transcript_id\")\n",
    "rownames(manifest)  = manifest$id\n",
    "\n",
    "metadata   =              fread(\"pipeline/3.1.covariates/metadata.txt\"     , sep = \"\\t\", header = TRUE , data.table = FALSE)\n",
    "covariates = add_rownames(fread(\"pipeline/3.1.covariates/covariates.txt\"   , sep = \"\\t\", header = TRUE , data.table = FALSE))\n",
    "int_list   = readLines         (\"pipeline/3.2.eqtls/vars/cardiac_eqtls.gene.txt\")\n",
    "int2_list  = readLines         (\"pipeline/3.2.eqtls/vars/covariates_to_interaction.txt\")\n",
    "covariates = covariates[, grepl(\"^peer\", colnames(covariates)) == FALSE & grepl(\"^pc\", colnames(covariates)) == FALSE]\n",
    "gene_tpm   = add_rownames(fread(\"pipeline/1.2.expression/tpm_gene.expressed.txt\"   , sep = \"\\t\", header = TRUE , data.table = FALSE))\n",
    "isof_use   = add_rownames(fread(\"pipeline/1.2.expression/use_isoform.expressed.txt\", sep = \"\\t\", header = TRUE , data.table = FALSE))\n",
    "\n",
    "cell2color           = data.frame(cell_type = sort(unique(diffexp_cell$cell_type)), color = c('#bb0000', '#3D3D3D', '#ff8888', '#0000bb', '#cdcd00', '#FF34B3', '#8B814C', '#00bb00')) \n",
    "cell2color$cell_name = gsub(\"cibersort.regular\\\\.\", \"\", gsub(\"_\", \" \", cell2color$cell_type))\n",
    "\n",
    "covariates$adult = abs(1 - covariates$ipsc_cvpc)\n"
   ]
  },
  {
   "cell_type": "code",
   "execution_count": 9,
   "metadata": {},
   "outputs": [],
   "source": [
    "geneinfo_gene       = geneinfo_gene      [geneinfo_gene      $gene_name %in% c(\"SCN5A\", \"TNNT2\", \"RBM5\", \"NME7\", \"MIIP\"),]\n",
    "geneinfo_isoform    = geneinfo_isoform   [geneinfo_isoform   $gene_id   %in% geneinfo_gene$gene_id,]\n",
    "diffexp             = diffexp            [diffexp            $gene_id   %in% geneinfo_gene$gene_id,]\n",
    "diffexp_cell        = diffexp_cell       [diffexp_cell       $gene_id   %in% geneinfo_gene$gene_id,]\n",
    "diffexp_cell_tissue = diffexp_cell_tissue[diffexp_cell_tissue$gene_id   %in% geneinfo_gene$gene_id,]\n",
    "eqtl_genes          = eqtl_genes         [eqtl_genes         $gene_id   %in% geneinfo_gene$gene_id,]\n",
    "eqtl_isoforms       = eqtl_isoforms      [eqtl_isoforms      $gene_id   %in% geneinfo_gene$gene_id,]\n",
    "int_genes           = int_genes          [int_genes          $gene_id   %in% geneinfo_gene$gene_id,]\n",
    "int_isoforms        = int_isoforms       [int_isoforms       $gene_id   %in% geneinfo_gene$gene_id,]\n",
    "coloc               = coloc              [coloc              $gene_id   %in% geneinfo_gene$gene_id,]\n",
    "diffexp_quadrant    = diffexp_quadrant   [diffexp_quadrant   $gene_id   %in% geneinfo_gene$gene_id,]\n",
    "\n",
    "gene_tpm = gene_tpm[geneinfo_gene   $transcript_id,]\n",
    "isof_use = isof_use[geneinfo_isoform$transcript_id,]\n"
   ]
  },
  {
   "cell_type": "code",
   "execution_count": 10,
   "metadata": {},
   "outputs": [],
   "source": [
    "save.image(file = \"pipeline/8.1.tool/input_data/input_data_all.V.0.1.RData\")\n"
   ]
  },
  {
   "cell_type": "code",
   "execution_count": 11,
   "metadata": {},
   "outputs": [
    {
     "name": "stdout",
     "output_type": "stream",
     "text": [
      "'data.frame':\t141 obs. of  18 variables:\n",
      " $ transcript_id: chr  \"ENSG00000003756.17_8\" \"ENSG00000116691.11_4\" \"ENSG00000118194.20_8\" \"ENSG00000143156.14_7\" ...\n",
      " $ gene_id      : chr  \"ENSG00000003756.17_8\" \"ENSG00000116691.11_4\" \"ENSG00000118194.20_8\" \"ENSG00000143156.14_7\" ...\n",
      " $ gene_name    : chr  \"RBM5\" \"MIIP\" \"TNNT2\" \"NME7\" ...\n",
      " $ gene_type    : chr  \"protein_coding\" \"protein_coding\" \"protein_coding\" \"protein_coding\" ...\n",
      " $ beta         : num  -0.639 -1.066 -0.161 -0.942 -0.71 ...\n",
      " $ se           : num  0.1317 0.1328 0.0995 0.0854 0.0928 ...\n",
      " $ tval         : num  -4.86 -8.03 -1.62 -11.03 -7.65 ...\n",
      " $ pval         : num  1.52e-06 5.07e-15 1.06e-01 6.62e-26 7.87e-14 ...\n",
      " $ qval         : num  3.11e-02 1.03e-10 1.00 1.35e-21 1.60e-09 ...\n",
      " $ tissue1      : chr  \"ipsc_cvpc\" \"ipsc_cvpc\" \"ipsc_cvpc\" \"ipsc_cvpc\" ...\n",
      " $ tissue2      : chr  \"heart\" \"heart\" \"heart\" \"heart\" ...\n",
      " $ type         : chr  \"gene_tpm\" \"gene_tpm\" \"gene_tpm\" \"gene_tpm\" ...\n",
      " $ diffexp      : logi  TRUE TRUE FALSE TRUE TRUE TRUE ...\n",
      " $ tissue1_exp  : num  78.3 13.6 3909.2 14.8 23.3 ...\n",
      " $ tissue2_exp  : num  52.6 10.9 4251 26.9 23.1 ...\n",
      " $ delta        : num  25.74 2.73 -341.8 -12.04 0.17 ...\n",
      " $ log2r        : num  0.575 0.323 -0.1209 -0.8578 0.0106 ...\n",
      " $ log2r_filter : logi  FALSE FALSE FALSE FALSE FALSE FALSE ...\n"
     ]
    }
   ],
   "source": [
    "str(diffexp)"
   ]
  },
  {
   "cell_type": "code",
   "execution_count": 12,
   "metadata": {},
   "outputs": [
    {
     "data": {
      "text/html": [
       "<style>\n",
       ".list-inline {list-style: none; margin:0; padding: 0}\n",
       ".list-inline>li {display: inline-block}\n",
       ".list-inline>li:not(:last-child)::after {content: \"\\00b7\"; padding: 0 .5ex}\n",
       "</style>\n",
       "<ol class=list-inline><li>'heart'</li><li>'ipsc_cvpc'</li></ol>\n"
      ],
      "text/latex": [
       "\\begin{enumerate*}\n",
       "\\item 'heart'\n",
       "\\item 'ipsc\\_cvpc'\n",
       "\\end{enumerate*}\n"
      ],
      "text/markdown": [
       "1. 'heart'\n",
       "2. 'ipsc_cvpc'\n",
       "\n",
       "\n"
      ],
      "text/plain": [
       "[1] \"heart\"     \"ipsc_cvpc\""
      ]
     },
     "metadata": {},
     "output_type": "display_data"
    }
   ],
   "source": [
    "sort(unique(diffexp$tissue1))"
   ]
  },
  {
   "cell_type": "code",
   "execution_count": null,
   "metadata": {},
   "outputs": [],
   "source": []
  }
 ],
 "metadata": {
  "kernelspec": {
   "display_name": "R 4.0.1",
   "language": "R",
   "name": "ir401"
  },
  "language_info": {
   "codemirror_mode": "r",
   "file_extension": ".r",
   "mimetype": "text/x-r-source",
   "name": "R",
   "pygments_lexer": "r",
   "version": "4.0.1"
  }
 },
 "nbformat": 4,
 "nbformat_minor": 2
}
