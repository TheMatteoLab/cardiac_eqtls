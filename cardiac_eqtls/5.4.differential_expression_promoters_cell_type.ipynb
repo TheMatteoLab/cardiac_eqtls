{
 "cells": [
  {
   "cell_type": "code",
   "execution_count": 1,
   "metadata": {},
   "outputs": [],
   "source": [
    "setwd(\"/frazer01/projects/CARDIPS/analysis/cardiac_eqtls\")\n",
    "\n",
    "source(\"script/packages.R\"  )\n",
    "source(\"script/input_data.R\")\n",
    "source(\"script/functions.R\" )\n"
   ]
  },
  {
   "cell_type": "code",
   "execution_count": 2,
   "metadata": {},
   "outputs": [],
   "source": [
    "gene_info               = fread(\"input/phenotypes/gene_info.txt\"   , sep = \"\\t\", header = TRUE, data.table = FALSE)\n",
    "isof_info               = fread(\"input/phenotypes/isoform_info.txt\", sep = \"\\t\", header = TRUE, data.table = FALSE)\n",
    "gene_info$transcript_id = gene_info$gene_id\n",
    "promoters               = fread(\"/frazer01/reference/private/Gencode.v34lift37/promoters.bed\", sep = \"\\t\", header = FALSE, data.table = FALSE)\n"
   ]
  },
  {
   "cell_type": "code",
   "execution_count": 3,
   "metadata": {},
   "outputs": [],
   "source": [
    "diffexp         = fread(\"pipeline/4.1.differential_expression/diffexp_cell.txt\", sep = \"\\t\", header = TRUE, data.table = FALSE)\n"
   ]
  },
  {
   "cell_type": "code",
   "execution_count": 4,
   "metadata": {},
   "outputs": [],
   "source": [
    "tmpwd = \"pipeline/5.1.expression_enrichments/cell_type_enrichment_only_cell\"\n",
    "dir.create(tmpwd, showWarnings = FALSE)"
   ]
  },
  {
   "cell_type": "code",
   "execution_count": 5,
   "metadata": {},
   "outputs": [],
   "source": [
    "cell_types = sort(unique(diffexp$cell_type))"
   ]
  },
  {
   "cell_type": "code",
   "execution_count": 9,
   "metadata": {},
   "outputs": [
    {
     "name": "stderr",
     "output_type": "stream",
     "text": [
      "cibersort.regular.cardiac_muscle gene_tpm\n",
      "\n",
      "cibersort.regular.cardiac_muscle isoform_use\n",
      "\n",
      "cibersort.regular.cardiac_neuron gene_tpm\n",
      "\n",
      "cibersort.regular.cardiac_neuron isoform_use\n",
      "\n",
      "cibersort.regular.endocardial gene_tpm\n",
      "\n",
      "cibersort.regular.endocardial isoform_use\n",
      "\n",
      "cibersort.regular.endothelial gene_tpm\n",
      "\n",
      "cibersort.regular.endothelial isoform_use\n",
      "\n",
      "cibersort.regular.fibroblast gene_tpm\n",
      "\n",
      "cibersort.regular.fibroblast isoform_use\n",
      "\n",
      "cibersort.regular.immune gene_tpm\n",
      "\n",
      "cibersort.regular.immune isoform_use\n",
      "\n",
      "cibersort.regular.myofibroblast gene_tpm\n",
      "\n",
      "cibersort.regular.myofibroblast isoform_use\n",
      "\n",
      "cibersort.regular.smooth_muscle gene_tpm\n",
      "\n",
      "cibersort.regular.smooth_muscle isoform_use\n",
      "\n"
     ]
    }
   ],
   "source": [
    "run_homer_tissue = function(cell, type, genes, isof_info, promoters)\n",
    "{\n",
    "    isoforms           = promoters[ promoters[,4] %in% isof_info[ isof_info$gene_id %in% genes | isof_info$transcript_id %in% genes, \"transcript_id\"],]\n",
    "    colnames(isoforms) = c(\"chrom\", \"from\", \"to\", \"transcript_id\")\n",
    "    isoforms           = merge(isoforms, isof_info[,c(\"transcript_id\", \"strand\")])\n",
    "    isoforms$score     = 0\n",
    "    isoforms           = isoforms[order(isoforms[,\"chrom\"], isoforms[,\"from\"], isoforms[,\"to\"]),]\n",
    "    analysis_name      = paste(type, cell, sep = \".\")\n",
    "    bed_file           = paste(tmpwd, paste(analysis_name,             \"bed\", sep = \".\"), sep = \"/\")\n",
    "    bed_file_unmerged  = paste(tmpwd, paste(analysis_name, \"unmerged\", \"bed\", sep = \".\"), sep = \"/\")\n",
    "    motif_file         = \"/frazer01/reference/public/hocomoco_v11/HOCOMOCOv11_core_HUMAN_mono_homer_format_0.0001.motif\"\n",
    "\n",
    "    fwrite(isoforms[,c(\"chrom\", \"from\", \"to\", \"transcript_id\", \"score\", \"strand\")], bed_file_unmerged, sep = \"\\t\", col.names = FALSE, row.names = FALSE)\n",
    "    \n",
    "    system(paste(\"bedtools merge -c 4 -o distinct\", \"-i\", bed_file_unmerged, \">\", bed_file))\n",
    "    \n",
    "    command = paste(\"findMotifsGenome.pl\", bed_file, \"hg19\", paste(tmpwd, analysis_name, sep = \"/\"), \n",
    "                    \"-mknown\" , motif_file, \n",
    "                    \"-mcheck\" , motif_file, \n",
    "                    \"-nomotif\", \n",
    "                    \"-size\"   , 200,\n",
    "                    \"\"\n",
    "                   )\n",
    "    \n",
    "    return(command)\n",
    "}\n",
    "\n",
    "enrichment_epigenome = function(diffexp, cell, type, isof_info, promoters)\n",
    "{\n",
    "    message(paste(cell, type))\n",
    "    \n",
    "    x   = diffexp[diffexp$cell_type == cell & diffexp$type == type & diffexp$qval <= 0.05 & diffexp$beta > 0, ]\n",
    "    out = run_homer_tissue(cell, type, unique(x$transcript_id), isof_info, promoters)\n",
    "    \n",
    "    return(out)\n",
    "}\n",
    "\n",
    "to_run = unlist(lapply(cell_types, function(cell)\n",
    "{\n",
    "    out2 = unlist(lapply(c(\"gene_tpm\", \"isoform_use\"), function(type)\n",
    "    {\n",
    "        enrichment_epigenome(diffexp, cell, type, isof_info, promoters)\n",
    "    }))\n",
    "    return(out2)\n",
    "}))\n"
   ]
  },
  {
   "cell_type": "code",
   "execution_count": 15,
   "metadata": {},
   "outputs": [
    {
     "name": "stderr",
     "output_type": "stream",
     "text": [
      "bash pipeline/5.1.expression_enrichments/cell_type_enrichment_only_cell.run_homer.sh\n",
      "\n",
      "nohup bash pipeline/5.1.expression_enrichments/cell_type_enrichment_only_cell.run_homer.sh &\n",
      "\n"
     ]
    }
   ],
   "source": [
    "shfile = paste(tmpwd, \"run_homer.sh\", sep = \".\")\n",
    "writeLines(to_run, con = shfile, sep = \"\\n\")\n",
    "\n",
    "message(paste(\"bash\", shfile))\n",
    "message(paste(\"nohup\", \"bash\", shfile, \"&\"))"
   ]
  },
  {
   "cell_type": "code",
   "execution_count": 10,
   "metadata": {},
   "outputs": [],
   "source": [
    "motifs           = fread(\"/frazer01/reference/public/hocomoco_v11/HOCOMOCOv11_core_annotation_HUMAN_mono.tsv\", sep = \"\\t\", header = TRUE, data.table = FALSE)\n",
    "motifs$gene_name = motifs[, \"Transcription factor\"]\n",
    "colnames(motifs) = gsub(\" \", \"_\", tolower(colnames(motifs)))\n"
   ]
  },
  {
   "cell_type": "code",
   "execution_count": 14,
   "metadata": {},
   "outputs": [
    {
     "data": {
      "text/html": [
       "<table>\n",
       "<caption>A data.frame: 1 × 20</caption>\n",
       "<thead>\n",
       "\t<tr><th></th><th scope=col>model</th><th scope=col>transcription_factor</th><th scope=col>model_length</th><th scope=col>quality</th><th scope=col>model_rank</th><th scope=col>consensus</th><th scope=col>model_release</th><th scope=col>data_source</th><th scope=col>best_auroc_(human)</th><th scope=col>best_auroc_(mouse)</th><th scope=col>peak_sets_in_benchmark_(human)</th><th scope=col>peak_sets_in_benchmark_(mouse)</th><th scope=col>aligned_words</th><th scope=col>tf_family</th><th scope=col>tf_subfamily</th><th scope=col>hgnc</th><th scope=col>entrezgene</th><th scope=col>uniprot_id</th><th scope=col>uniprot_ac</th><th scope=col>gene_name</th></tr>\n",
       "\t<tr><th></th><th scope=col>&lt;chr&gt;</th><th scope=col>&lt;chr&gt;</th><th scope=col>&lt;int&gt;</th><th scope=col>&lt;chr&gt;</th><th scope=col>&lt;int&gt;</th><th scope=col>&lt;chr&gt;</th><th scope=col>&lt;chr&gt;</th><th scope=col>&lt;chr&gt;</th><th scope=col>&lt;dbl&gt;</th><th scope=col>&lt;dbl&gt;</th><th scope=col>&lt;int&gt;</th><th scope=col>&lt;int&gt;</th><th scope=col>&lt;int&gt;</th><th scope=col>&lt;chr&gt;</th><th scope=col>&lt;chr&gt;</th><th scope=col>&lt;int&gt;</th><th scope=col>&lt;chr&gt;</th><th scope=col>&lt;chr&gt;</th><th scope=col>&lt;chr&gt;</th><th scope=col>&lt;chr&gt;</th></tr>\n",
       "</thead>\n",
       "<tbody>\n",
       "\t<tr><th scope=row>288</th><td>SP1_HUMAN.H11MO.0.A</td><td>SP1</td><td>22</td><td>A</td><td>0</td><td>nRGGGGCGGGGCSdSSvSSSvS</td><td>HOCOMOCOv11</td><td>ChIP-Seq</td><td>0.999738</td><td>0.9568786</td><td>53</td><td>11</td><td>499</td><td>Three-zinc finger Krüppel-related factors{2.3.1}</td><td>Sp1-like factors{2.3.1.1}</td><td>11205</td><td>6667</td><td>SP1_HUMAN</td><td>P08047</td><td>SP1</td></tr>\n",
       "</tbody>\n",
       "</table>\n"
      ],
      "text/latex": [
       "A data.frame: 1 × 20\n",
       "\\begin{tabular}{r|llllllllllllllllllll}\n",
       "  & model & transcription\\_factor & model\\_length & quality & model\\_rank & consensus & model\\_release & data\\_source & best\\_auroc\\_(human) & best\\_auroc\\_(mouse) & peak\\_sets\\_in\\_benchmark\\_(human) & peak\\_sets\\_in\\_benchmark\\_(mouse) & aligned\\_words & tf\\_family & tf\\_subfamily & hgnc & entrezgene & uniprot\\_id & uniprot\\_ac & gene\\_name\\\\\n",
       "  & <chr> & <chr> & <int> & <chr> & <int> & <chr> & <chr> & <chr> & <dbl> & <dbl> & <int> & <int> & <int> & <chr> & <chr> & <int> & <chr> & <chr> & <chr> & <chr>\\\\\n",
       "\\hline\n",
       "\t288 & SP1\\_HUMAN.H11MO.0.A & SP1 & 22 & A & 0 & nRGGGGCGGGGCSdSSvSSSvS & HOCOMOCOv11 & ChIP-Seq & 0.999738 & 0.9568786 & 53 & 11 & 499 & Three-zinc finger Krüppel-related factors\\{2.3.1\\} & Sp1-like factors\\{2.3.1.1\\} & 11205 & 6667 & SP1\\_HUMAN & P08047 & SP1\\\\\n",
       "\\end{tabular}\n"
      ],
      "text/markdown": [
       "\n",
       "A data.frame: 1 × 20\n",
       "\n",
       "| <!--/--> | model &lt;chr&gt; | transcription_factor &lt;chr&gt; | model_length &lt;int&gt; | quality &lt;chr&gt; | model_rank &lt;int&gt; | consensus &lt;chr&gt; | model_release &lt;chr&gt; | data_source &lt;chr&gt; | best_auroc_(human) &lt;dbl&gt; | best_auroc_(mouse) &lt;dbl&gt; | peak_sets_in_benchmark_(human) &lt;int&gt; | peak_sets_in_benchmark_(mouse) &lt;int&gt; | aligned_words &lt;int&gt; | tf_family &lt;chr&gt; | tf_subfamily &lt;chr&gt; | hgnc &lt;int&gt; | entrezgene &lt;chr&gt; | uniprot_id &lt;chr&gt; | uniprot_ac &lt;chr&gt; | gene_name &lt;chr&gt; |\n",
       "|---|---|---|---|---|---|---|---|---|---|---|---|---|---|---|---|---|---|---|---|---|\n",
       "| 288 | SP1_HUMAN.H11MO.0.A | SP1 | 22 | A | 0 | nRGGGGCGGGGCSdSSvSSSvS | HOCOMOCOv11 | ChIP-Seq | 0.999738 | 0.9568786 | 53 | 11 | 499 | Three-zinc finger Krüppel-related factors{2.3.1} | Sp1-like factors{2.3.1.1} | 11205 | 6667 | SP1_HUMAN | P08047 | SP1 |\n",
       "\n"
      ],
      "text/plain": [
       "    model               transcription_factor model_length quality model_rank\n",
       "288 SP1_HUMAN.H11MO.0.A SP1                  22           A       0         \n",
       "    consensus              model_release data_source best_auroc_(human)\n",
       "288 nRGGGGCGGGGCSdSSvSSSvS HOCOMOCOv11   ChIP-Seq    0.999738          \n",
       "    best_auroc_(mouse) peak_sets_in_benchmark_(human)\n",
       "288 0.9568786          53                            \n",
       "    peak_sets_in_benchmark_(mouse) aligned_words\n",
       "288 11                             499          \n",
       "    tf_family                                        tf_subfamily             \n",
       "288 Three-zinc finger Krüppel-related factors{2.3.1} Sp1-like factors{2.3.1.1}\n",
       "    hgnc  entrezgene uniprot_id uniprot_ac gene_name\n",
       "288 11205 6667       SP1_HUMAN  P08047     SP1      "
      ]
     },
     "metadata": {},
     "output_type": "display_data"
    }
   ],
   "source": [
    "motifs[ motifs$model == \"SP1_HUMAN.H11MO.0.A\",]"
   ]
  },
  {
   "cell_type": "code",
   "execution_count": null,
   "metadata": {},
   "outputs": [],
   "source": []
  }
 ],
 "metadata": {
  "kernelspec": {
   "display_name": "R 4.0.1",
   "language": "R",
   "name": "ir401"
  },
  "language_info": {
   "codemirror_mode": "r",
   "file_extension": ".r",
   "mimetype": "text/x-r-source",
   "name": "R",
   "pygments_lexer": "r",
   "version": "4.0.1"
  }
 },
 "nbformat": 4,
 "nbformat_minor": 2
}
